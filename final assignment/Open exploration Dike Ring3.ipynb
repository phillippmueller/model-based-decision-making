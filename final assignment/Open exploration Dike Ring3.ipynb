{
 "cells": [
  {
   "attachments": {},
   "cell_type": "markdown",
   "metadata": {},
   "source": [
    "## Open Exploration"
   ]
  },
  {
   "attachments": {},
   "cell_type": "markdown",
   "metadata": {},
   "source": [
    "Explanation to what we did + table of contents"
   ]
  },
  {
   "attachments": {},
   "cell_type": "markdown",
   "metadata": {},
   "source": [
    "### Import Libraries"
   ]
  },
  {
   "cell_type": "code",
   "execution_count": 1,
   "metadata": {},
   "outputs": [
    {
     "data": {
      "text/plain": [
       "<Logger EMA (DEBUG)>"
      ]
     },
     "execution_count": 1,
     "metadata": {},
     "output_type": "execute_result"
    }
   ],
   "source": [
    "# General libraries\n",
    "import numpy as np\n",
    "import pandas as pd\n",
    "import matplotlib.pyplot as plt\n",
    "import seaborn as sns\n",
    "import copy\n",
    "\n",
    "# Import problem formulation\n",
    "from problem_formulation import get_model_for_problem_formulation\n",
    "\n",
    "# EMA workbench imports\n",
    "from ema_workbench import (Model, Policy, MultiprocessingEvaluator, ScalarOutcome, RealParameter, \n",
    "                           IntegerParameter, CategoricalParameter, optimize, Scenario, \n",
    "                           Constant, SequentialEvaluator)\n",
    "#from ema_workbench.em_framework.evaluators import perform_experiments,LHS, SOBOL, MORRIS, SequentialEvaluator, BaseEvaluator\n",
    "from ema_workbench.em_framework.samplers import sample_uncertainties, sample_levers\n",
    "from ema_workbench.util import ema_logging, save_results, load_results\n",
    "\n",
    "ema_logging.log_to_stderr(ema_logging.INFO)"
   ]
  },
  {
   "attachments": {},
   "cell_type": "markdown",
   "metadata": {},
   "source": [
    "## Worst Case Scenario "
   ]
  },
  {
   "cell_type": "code",
   "execution_count": 2,
   "metadata": {},
   "outputs": [],
   "source": [
    "# define the problem formulation between 0 and 9\n",
    "# Problem formulation 6 is specific to Dike Ring 3\n",
    "dike_model, planning_steps = get_model_for_problem_formulation(6)"
   ]
  },
  {
   "cell_type": "code",
   "execution_count": 3,
   "metadata": {},
   "outputs": [],
   "source": [
    "# Set uncertainties and levers variables\n",
    "uncertainties = copy.deepcopy(dike_model.uncertainties)\n",
    "levers = copy.deepcopy(dike_model.levers)"
   ]
  },
  {
   "cell_type": "code",
   "execution_count": 4,
   "metadata": {},
   "outputs": [],
   "source": [
    "# Create a reference policy where no action is taken\n",
    "policies = [Policy('null_policy', **{'0_RfR 0':0,\n",
    "                                  '0_RfR 1':0,\n",
    "                                  '0_RfR 2':0,\n",
    "                                  'A.1_DikeIncrease 0':0,\n",
    "                                  'A.2_DikeIncrease 0':0,\n",
    "                                  'A.3_DikeIncrease 0':0,\n",
    "                                  'A.4_DikeIncrease 0':0,\n",
    "                                  'A.5_DikeIncrease 0':0,\n",
    "                                  'A.1_DikeIncrease 1':0,\n",
    "                                  'A.2_DikeIncrease 1':0,\n",
    "                                  'A.3_DikeIncrease 1':0,\n",
    "                                  'A.4_DikeIncrease 1':0,\n",
    "                                  'A.5_DikeIncrease 1':0,\n",
    "                                  'A.1_DikeIncrease 2':0,\n",
    "                                  'A.2_DikeIncrease 2':0,\n",
    "                                  'A.3_DikeIncrease 2':0,\n",
    "                                  'A.4_DikeIncrease 2':0,\n",
    "                                  'A.5_DikeIncrease 2':0,\n",
    "                                  'EWS_DaysToThreat':0})\n",
    "                                  ]"
   ]
  },
  {
   "cell_type": "code",
   "execution_count": 5,
   "metadata": {},
   "outputs": [
    {
     "name": "stderr",
     "output_type": "stream",
     "text": [
      "[MainProcess/INFO] pool started with 8 workers\n",
      "[MainProcess/INFO] performing 100 scenarios * 1 policies * 1 model(s) = 100 experiments\n",
      "100%|████████████████████████████████████████| 100/100 [00:15<00:00,  6.65it/s]\n",
      "[MainProcess/INFO] experiments finished\n",
      "[MainProcess/INFO] terminating pool\n"
     ]
    }
   ],
   "source": [
    "n_scenarios = 100\n",
    "\n",
    "ema_logging.log_to_stderr(ema_logging.INFO)\n",
    " \n",
    "with MultiprocessingEvaluator(dike_model) as evaluator:\n",
    "    experiments, outcomes = evaluator.perform_experiments(scenarios=n_scenarios, policies=policies)"
   ]
  },
  {
   "cell_type": "code",
   "execution_count": 6,
   "metadata": {},
   "outputs": [
    {
     "name": "stderr",
     "output_type": "stream",
     "text": [
      "[MainProcess/INFO] results saved successfully to /Users/philipmuller/Documents/GitHub/model-based-decision-making/final assignment/results/10000Scenarios_NullPolicy_PF6.tar.gz\n",
      "[MainProcess/INFO] results loaded successfully from /Users/philipmuller/Documents/GitHub/model-based-decision-making/final assignment/results/10000Scenarios_NullPolicy_PF6.tar.gz\n"
     ]
    }
   ],
   "source": [
    "#Save the results\n",
    "save_results([experiments, outcomes], 'results/10000Scenarios_NullPolicy_PF6.tar.gz')\n",
    "# load the worst case results for further analysis \n",
    "experiments, outcomes = load_results('results/10000Scenarios_NullPolicy_PF6.tar.gz')"
   ]
  },
  {
   "attachments": {},
   "cell_type": "markdown",
   "metadata": {},
   "source": [
    "## Here actual Open exploration shit\n"
   ]
  },
  {
   "attachments": {},
   "cell_type": "markdown",
   "metadata": {},
   "source": [
    "### show that random policy is better than no policy"
   ]
  },
  {
   "cell_type": "code",
   "execution_count": 7,
   "metadata": {},
   "outputs": [
    {
     "data": {
      "text/plain": [
       "\"\\n                Policy('beta_random_policy', **{'3_RfR 0':random.randint(0,1),\\n                                  '3_RfR 1':random.randint(0,1),\\n                                  '3_RfR 2':random.randint(0,1),\\n                                  'A.1_DikeIncrease 0':random.randint(0,10),\\n                                  'A.2_DikeIncrease 0':random.randint(0,10),\\n                                  'A.3_DikeIncrease 0':random.randint(0,10),\\n                                  'A.4_DikeIncrease 0':random.randint(0,10),\\n                                  'A.5_DikeIncrease 0':random.randint(0,10),\\n                                  'A.1_DikeIncrease 1':random.randint(0,10),\\n                                  'A.2_DikeIncrease 1':random.randint(0,10),\\n                                  'A.3_DikeIncrease 1':random.randint(0,10),\\n                                  'A.4_DikeIncrease 1':random.randint(0,10),\\n                                  'A.5_DikeIncrease 1':random.randint(0,10),\\n                                  'A.1_DikeIncrease 2':random.randint(0,10),\\n                                  'A.2_DikeIncrease 2':random.randint(0,10),\\n                                  'A.3_DikeIncrease 2':random.randint(0,10),\\n                                  'A.4_DikeIncrease 2':random.randint(0,10),\\n                                  'A.5_DikeIncrease 2':random.randint(0,10),\\n                                  'EWS_DaysToThreat':random.randint(0,15)}),\\n                Policy('gamma_random_policy', **{'3_RfR 0':random.randint(0,1),\\n                                  '3_RfR 1':random.randint(0,1),\\n                                  '3_RfR 2':random.randint(0,1),\\n                                  'A.1_DikeIncrease 0':random.randint(0,10),\\n                                  'A.2_DikeIncrease 0':random.randint(0,10),\\n                                  'A.3_DikeIncrease 0':random.randint(0,10),\\n                                  'A.4_DikeIncrease 0':random.randint(0,10),\\n                                  'A.5_DikeIncrease 0':random.randint(0,10),\\n                                  'A.1_DikeIncrease 1':random.randint(0,10),\\n                                  'A.2_DikeIncrease 1':random.randint(0,10),\\n                                  'A.3_DikeIncrease 1':random.randint(0,10),\\n                                  'A.4_DikeIncrease 1':random.randint(0,10),\\n                                  'A.5_DikeIncrease 1':random.randint(0,10),\\n                                  'A.1_DikeIncrease 2':random.randint(0,10),\\n                                  'A.2_DikeIncrease 2':random.randint(0,10),\\n                                  'A.3_DikeIncrease 2':random.randint(0,10),\\n                                  'A.4_DikeIncrease 2':random.randint(0,10),\\n                                  'A.5_DikeIncrease 2':random.randint(0,10),\\n                                  'EWS_DaysToThreat':random.randint(0,15)})                  \\n                                  ]\""
      ]
     },
     "execution_count": 7,
     "metadata": {},
     "output_type": "execute_result"
    }
   ],
   "source": [
    "# Create a policy where action is taken randomly\n",
    "# compare the performance of that policy to the previously computed null_policy\n",
    "\n",
    "\n",
    "import random # for randomly deciding to switch policy on/ off\n",
    "\n",
    "random_policies = [Policy('alpha_random_policy', **{'3_RfR 0':random.randint(0,1),\n",
    "                                  '3_RfR 1':random.randint(0,1),\n",
    "                                  '3_RfR 2':random.randint(0,1),\n",
    "                                  'A.1_DikeIncrease 0':random.randint(0,10),\n",
    "                                  'A.2_DikeIncrease 0':random.randint(0,10),\n",
    "                                  'A.3_DikeIncrease 0':random.randint(0,10),\n",
    "                                  'A.4_DikeIncrease 0':random.randint(0,10),\n",
    "                                  'A.5_DikeIncrease 0':random.randint(0,10),\n",
    "                                  'A.1_DikeIncrease 1':random.randint(0,10),\n",
    "                                  'A.2_DikeIncrease 1':random.randint(0,10),\n",
    "                                  'A.3_DikeIncrease 1':random.randint(0,10),\n",
    "                                  'A.4_DikeIncrease 1':random.randint(0,10),\n",
    "                                  'A.5_DikeIncrease 1':random.randint(0,10),\n",
    "                                  'A.1_DikeIncrease 2':random.randint(0,10),\n",
    "                                  'A.2_DikeIncrease 2':random.randint(0,10),\n",
    "                                  'A.3_DikeIncrease 2':random.randint(0,10),\n",
    "                                  'A.4_DikeIncrease 2':random.randint(0,10),\n",
    "                                  'A.5_DikeIncrease 2':random.randint(0,10),\n",
    "                                  'EWS_DaysToThreat':random.randint(0,15)})]\n",
    "'''\n",
    "                Policy('beta_random_policy', **{'3_RfR 0':random.randint(0,1),\n",
    "                                  '3_RfR 1':random.randint(0,1),\n",
    "                                  '3_RfR 2':random.randint(0,1),\n",
    "                                  'A.1_DikeIncrease 0':random.randint(0,10),\n",
    "                                  'A.2_DikeIncrease 0':random.randint(0,10),\n",
    "                                  'A.3_DikeIncrease 0':random.randint(0,10),\n",
    "                                  'A.4_DikeIncrease 0':random.randint(0,10),\n",
    "                                  'A.5_DikeIncrease 0':random.randint(0,10),\n",
    "                                  'A.1_DikeIncrease 1':random.randint(0,10),\n",
    "                                  'A.2_DikeIncrease 1':random.randint(0,10),\n",
    "                                  'A.3_DikeIncrease 1':random.randint(0,10),\n",
    "                                  'A.4_DikeIncrease 1':random.randint(0,10),\n",
    "                                  'A.5_DikeIncrease 1':random.randint(0,10),\n",
    "                                  'A.1_DikeIncrease 2':random.randint(0,10),\n",
    "                                  'A.2_DikeIncrease 2':random.randint(0,10),\n",
    "                                  'A.3_DikeIncrease 2':random.randint(0,10),\n",
    "                                  'A.4_DikeIncrease 2':random.randint(0,10),\n",
    "                                  'A.5_DikeIncrease 2':random.randint(0,10),\n",
    "                                  'EWS_DaysToThreat':random.randint(0,15)}),\n",
    "                Policy('gamma_random_policy', **{'3_RfR 0':random.randint(0,1),\n",
    "                                  '3_RfR 1':random.randint(0,1),\n",
    "                                  '3_RfR 2':random.randint(0,1),\n",
    "                                  'A.1_DikeIncrease 0':random.randint(0,10),\n",
    "                                  'A.2_DikeIncrease 0':random.randint(0,10),\n",
    "                                  'A.3_DikeIncrease 0':random.randint(0,10),\n",
    "                                  'A.4_DikeIncrease 0':random.randint(0,10),\n",
    "                                  'A.5_DikeIncrease 0':random.randint(0,10),\n",
    "                                  'A.1_DikeIncrease 1':random.randint(0,10),\n",
    "                                  'A.2_DikeIncrease 1':random.randint(0,10),\n",
    "                                  'A.3_DikeIncrease 1':random.randint(0,10),\n",
    "                                  'A.4_DikeIncrease 1':random.randint(0,10),\n",
    "                                  'A.5_DikeIncrease 1':random.randint(0,10),\n",
    "                                  'A.1_DikeIncrease 2':random.randint(0,10),\n",
    "                                  'A.2_DikeIncrease 2':random.randint(0,10),\n",
    "                                  'A.3_DikeIncrease 2':random.randint(0,10),\n",
    "                                  'A.4_DikeIncrease 2':random.randint(0,10),\n",
    "                                  'A.5_DikeIncrease 2':random.randint(0,10),\n",
    "                                  'EWS_DaysToThreat':random.randint(0,15)})                  \n",
    "                                  ]'''"
   ]
  },
  {
   "cell_type": "code",
   "execution_count": 8,
   "metadata": {},
   "outputs": [
    {
     "data": {
      "text/plain": [
       "'n_scenarios = 100\\n\\nema_logging.log_to_stderr(ema_logging.INFO)\\n \\nwith MultiprocessingEvaluator(dike_model) as evaluator:\\n    experiments, outcomes = evaluator.perform_experiments(scenarios=n_scenarios, policies=random_policies)'"
      ]
     },
     "execution_count": 8,
     "metadata": {},
     "output_type": "execute_result"
    }
   ],
   "source": [
    "'''n_scenarios = 100\n",
    "\n",
    "ema_logging.log_to_stderr(ema_logging.INFO)\n",
    " \n",
    "with MultiprocessingEvaluator(dike_model) as evaluator:\n",
    "    experiments, outcomes = evaluator.perform_experiments(scenarios=n_scenarios, policies=random_policies)'''"
   ]
  },
  {
   "cell_type": "code",
   "execution_count": 9,
   "metadata": {},
   "outputs": [
    {
     "name": "stderr",
     "output_type": "stream",
     "text": [
      "[MainProcess/INFO] pool started with 8 workers\n",
      "[MainProcess/INFO] performing 100 scenarios * 1 policies * 1 model(s) = 100 experiments\n",
      "100%|████████████████████████████████████████| 100/100 [00:13<00:00,  7.27it/s]\n",
      "[MainProcess/INFO] experiments finished\n",
      "[MainProcess/INFO] terminating pool\n"
     ]
    }
   ],
   "source": [
    "n_scenarios = 100\n",
    "\n",
    "ema_logging.log_to_stderr(ema_logging.INFO)\n",
    "\n",
    "# Model Imports\n",
    "from dike_model_function import DikeNetwork\n",
    "from problem_formulation import get_model_for_problem_formulation\n",
    "\n",
    "dike_model, time_step = get_model_for_problem_formulation(6)\n",
    " \n",
    "with MultiprocessingEvaluator(dike_model) as evaluator:\n",
    "    random_experiments, random_outcomes = evaluator.perform_experiments(scenarios=n_scenarios, policies=random_policies)"
   ]
  },
  {
   "cell_type": "code",
   "execution_count": 10,
   "metadata": {},
   "outputs": [
    {
     "name": "stderr",
     "output_type": "stream",
     "text": [
      "[MainProcess/INFO] results saved successfully to /Users/philipmuller/Documents/GitHub/model-based-decision-making/final assignment/results/10000Scenarios_RandomPolicy_PF6.tar.gz\n",
      "[MainProcess/INFO] results loaded successfully from /Users/philipmuller/Documents/GitHub/model-based-decision-making/final assignment/results/10000Scenarios_RandomPolicy_PF6.tar.gz\n"
     ]
    }
   ],
   "source": [
    "#Save the results\n",
    "save_results([experiments, outcomes], 'results/10000Scenarios_RandomPolicy_PF6.tar.gz')\n",
    "# load the worst case results for further analysis \n",
    "random_experiments, random_outcomes = load_results('results/10000Scenarios_RandomPolicy_PF6.tar.gz')\n",
    "\n",
    "\n",
    "random_outcomes = pd.DataFrame([random_outcomes['A3 Expected Annual Damage'],random_outcomes['A3 Aggr Expected Number of Deaths']]).transpose()\n",
    "random_outcomes = random_outcomes.rename(index={0:'Expected Annual Damage', 1:'Expected Number of Deaths'})\n",
    "\n",
    "#put outcomes from null_policy into similar format\n",
    "outcomes = pd.DataFrame([outcomes['A3 Expected Annual Damage'],outcomes['A3 Aggr Expected Number of Deaths']] )\n",
    "outcomes = outcomes.rename(index={0:'Expected Annual Damage', 1:'Expected Number of Deaths'})"
   ]
  },
  {
   "cell_type": "code",
   "execution_count": 11,
   "metadata": {},
   "outputs": [
    {
     "name": "stdout",
     "output_type": "stream",
     "text": [
      "RangeIndex(start=0, stop=100, step=1)\n",
      "RangeIndex(start=0, stop=100, step=1)\n",
      "RangeIndex(start=0, stop=100, step=1)\n",
      "RangeIndex(start=0, stop=100, step=1)\n",
      "RangeIndex(start=0, stop=100, step=1)\n",
      "RangeIndex(start=0, stop=100, step=1)\n",
      "RangeIndex(start=0, stop=100, step=1)\n",
      "RangeIndex(start=0, stop=100, step=1)\n",
      "RangeIndex(start=0, stop=100, step=1)\n",
      "RangeIndex(start=0, stop=100, step=1)\n",
      "RangeIndex(start=0, stop=100, step=1)\n",
      "RangeIndex(start=0, stop=100, step=1)\n",
      "RangeIndex(start=0, stop=100, step=1)\n",
      "RangeIndex(start=0, stop=100, step=1)\n",
      "RangeIndex(start=0, stop=100, step=1)\n",
      "RangeIndex(start=0, stop=100, step=1)\n",
      "RangeIndex(start=0, stop=100, step=1)\n",
      "RangeIndex(start=0, stop=100, step=1)\n",
      "RangeIndex(start=0, stop=100, step=1)\n",
      "RangeIndex(start=0, stop=100, step=1)\n",
      "RangeIndex(start=0, stop=100, step=1)\n",
      "RangeIndex(start=0, stop=100, step=1)\n",
      "RangeIndex(start=0, stop=100, step=1)\n",
      "RangeIndex(start=0, stop=100, step=1)\n",
      "RangeIndex(start=0, stop=100, step=1)\n",
      "RangeIndex(start=0, stop=100, step=1)\n",
      "RangeIndex(start=0, stop=100, step=1)\n",
      "RangeIndex(start=0, stop=100, step=1)\n",
      "RangeIndex(start=0, stop=100, step=1)\n",
      "RangeIndex(start=0, stop=100, step=1)\n",
      "RangeIndex(start=0, stop=100, step=1)\n",
      "RangeIndex(start=0, stop=100, step=1)\n",
      "RangeIndex(start=0, stop=100, step=1)\n",
      "RangeIndex(start=0, stop=100, step=1)\n",
      "RangeIndex(start=0, stop=100, step=1)\n",
      "RangeIndex(start=0, stop=100, step=1)\n",
      "RangeIndex(start=0, stop=100, step=1)\n",
      "RangeIndex(start=0, stop=100, step=1)\n",
      "RangeIndex(start=0, stop=100, step=1)\n",
      "RangeIndex(start=0, stop=100, step=1)\n",
      "RangeIndex(start=0, stop=100, step=1)\n",
      "RangeIndex(start=0, stop=100, step=1)\n",
      "RangeIndex(start=0, stop=100, step=1)\n",
      "RangeIndex(start=0, stop=100, step=1)\n",
      "RangeIndex(start=0, stop=100, step=1)\n",
      "RangeIndex(start=0, stop=100, step=1)\n",
      "RangeIndex(start=0, stop=100, step=1)\n",
      "RangeIndex(start=0, stop=100, step=1)\n",
      "RangeIndex(start=0, stop=100, step=1)\n",
      "RangeIndex(start=0, stop=100, step=1)\n",
      "RangeIndex(start=0, stop=100, step=1)\n",
      "RangeIndex(start=0, stop=100, step=1)\n",
      "RangeIndex(start=0, stop=100, step=1)\n",
      "RangeIndex(start=0, stop=100, step=1)\n",
      "RangeIndex(start=0, stop=100, step=1)\n",
      "RangeIndex(start=0, stop=100, step=1)\n",
      "RangeIndex(start=0, stop=100, step=1)\n",
      "RangeIndex(start=0, stop=100, step=1)\n",
      "RangeIndex(start=0, stop=100, step=1)\n",
      "RangeIndex(start=0, stop=100, step=1)\n",
      "RangeIndex(start=0, stop=100, step=1)\n",
      "RangeIndex(start=0, stop=100, step=1)\n",
      "RangeIndex(start=0, stop=100, step=1)\n",
      "RangeIndex(start=0, stop=100, step=1)\n",
      "RangeIndex(start=0, stop=100, step=1)\n",
      "RangeIndex(start=0, stop=100, step=1)\n",
      "RangeIndex(start=0, stop=100, step=1)\n",
      "RangeIndex(start=0, stop=100, step=1)\n",
      "RangeIndex(start=0, stop=100, step=1)\n",
      "RangeIndex(start=0, stop=100, step=1)\n",
      "RangeIndex(start=0, stop=100, step=1)\n",
      "RangeIndex(start=0, stop=100, step=1)\n",
      "RangeIndex(start=0, stop=100, step=1)\n",
      "RangeIndex(start=0, stop=100, step=1)\n",
      "RangeIndex(start=0, stop=100, step=1)\n",
      "RangeIndex(start=0, stop=100, step=1)\n",
      "RangeIndex(start=0, stop=100, step=1)\n",
      "RangeIndex(start=0, stop=100, step=1)\n",
      "RangeIndex(start=0, stop=100, step=1)\n",
      "RangeIndex(start=0, stop=100, step=1)\n",
      "RangeIndex(start=0, stop=100, step=1)\n",
      "RangeIndex(start=0, stop=100, step=1)\n",
      "RangeIndex(start=0, stop=100, step=1)\n",
      "RangeIndex(start=0, stop=100, step=1)\n",
      "RangeIndex(start=0, stop=100, step=1)\n",
      "RangeIndex(start=0, stop=100, step=1)\n",
      "RangeIndex(start=0, stop=100, step=1)\n",
      "RangeIndex(start=0, stop=100, step=1)\n",
      "RangeIndex(start=0, stop=100, step=1)\n",
      "RangeIndex(start=0, stop=100, step=1)\n",
      "RangeIndex(start=0, stop=100, step=1)\n",
      "RangeIndex(start=0, stop=100, step=1)\n",
      "RangeIndex(start=0, stop=100, step=1)\n",
      "RangeIndex(start=0, stop=100, step=1)\n",
      "RangeIndex(start=0, stop=100, step=1)\n",
      "RangeIndex(start=0, stop=100, step=1)\n",
      "RangeIndex(start=0, stop=100, step=1)\n",
      "RangeIndex(start=0, stop=100, step=1)\n",
      "RangeIndex(start=0, stop=100, step=1)\n",
      "RangeIndex(start=0, stop=100, step=1)\n",
      "normaltest for 0 and: p-value = nan\n",
      "normaltest for 1 and: p-value = nan\n"
     ]
    }
   ],
   "source": [
    "#random_experiments, random_outcomes = pd.DataFrame(random_experiments), pd.DataFrame(random_outcomes)\n",
    "\n",
    "from scipy.stats import normaltest, mannwhitneyu, ttest_ind\n",
    "\n",
    "for col in outcomes.columns: \n",
    "    #statistic, p_value = normaltest(outcomes[col])\n",
    "    print(outcomes.columns)\n",
    "    #print(f'normaltest for {col} and: p-value = {p_value}')\n",
    "    \n",
    "\n",
    "for col in random_outcomes.columns:\n",
    "    statistic, p_value = normaltest(random_outcomes[col])\n",
    "    print(f'normaltest for {col} and: p-value = {p_value}')"
   ]
  },
  {
   "cell_type": "code",
   "execution_count": 12,
   "metadata": {},
   "outputs": [
    {
     "data": {
      "text/plain": [
       "RangeIndex(start=0, stop=100, step=1)"
      ]
     },
     "execution_count": 12,
     "metadata": {},
     "output_type": "execute_result"
    }
   ],
   "source": [
    "outcomes.columns"
   ]
  },
  {
   "cell_type": "code",
   "execution_count": 13,
   "metadata": {},
   "outputs": [
    {
     "ename": "KeyError",
     "evalue": "'Expected Annual Damage'",
     "output_type": "error",
     "traceback": [
      "\u001b[0;31m---------------------------------------------------------------------------\u001b[0m",
      "\u001b[0;31mKeyError\u001b[0m                                  Traceback (most recent call last)",
      "Cell \u001b[0;32mIn[13], line 3\u001b[0m\n\u001b[1;32m      1\u001b[0m \u001b[39mfor\u001b[39;00m col_random \u001b[39min\u001b[39;00m random_outcomes\u001b[39m.\u001b[39mindex:\n\u001b[1;32m      2\u001b[0m     \u001b[39mfor\u001b[39;00m col_outcomes \u001b[39min\u001b[39;00m outcomes\u001b[39m.\u001b[39mindex:\n\u001b[0;32m----> 3\u001b[0m         statistic, p_value \u001b[39m=\u001b[39m ttest_ind(random_outcomes[col_random], outcomes[col_outcomes])\n\u001b[1;32m      4\u001b[0m         \u001b[39mprint\u001b[39m(\u001b[39mf\u001b[39m\u001b[39m\"\u001b[39m\u001b[39mT-test between \u001b[39m\u001b[39m{\u001b[39;00mcol_random\u001b[39m}\u001b[39;00m\u001b[39m and \u001b[39m\u001b[39m{\u001b[39;00mcol_outcomes\u001b[39m}\u001b[39;00m\u001b[39m: p-value = \u001b[39m\u001b[39m{\u001b[39;00mp_value\u001b[39m}\u001b[39;00m\u001b[39m\"\u001b[39m)\n",
      "File \u001b[0;32m~/opt/anaconda3/envs/mbdm/lib/python3.11/site-packages/pandas/core/frame.py:3807\u001b[0m, in \u001b[0;36mDataFrame.__getitem__\u001b[0;34m(self, key)\u001b[0m\n\u001b[1;32m   3805\u001b[0m \u001b[39mif\u001b[39;00m \u001b[39mself\u001b[39m\u001b[39m.\u001b[39mcolumns\u001b[39m.\u001b[39mnlevels \u001b[39m>\u001b[39m \u001b[39m1\u001b[39m:\n\u001b[1;32m   3806\u001b[0m     \u001b[39mreturn\u001b[39;00m \u001b[39mself\u001b[39m\u001b[39m.\u001b[39m_getitem_multilevel(key)\n\u001b[0;32m-> 3807\u001b[0m indexer \u001b[39m=\u001b[39m \u001b[39mself\u001b[39m\u001b[39m.\u001b[39mcolumns\u001b[39m.\u001b[39mget_loc(key)\n\u001b[1;32m   3808\u001b[0m \u001b[39mif\u001b[39;00m is_integer(indexer):\n\u001b[1;32m   3809\u001b[0m     indexer \u001b[39m=\u001b[39m [indexer]\n",
      "File \u001b[0;32m~/opt/anaconda3/envs/mbdm/lib/python3.11/site-packages/pandas/core/indexes/range.py:395\u001b[0m, in \u001b[0;36mRangeIndex.get_loc\u001b[0;34m(self, key, method, tolerance)\u001b[0m\n\u001b[1;32m    393\u001b[0m             \u001b[39mraise\u001b[39;00m \u001b[39mKeyError\u001b[39;00m(key) \u001b[39mfrom\u001b[39;00m \u001b[39merr\u001b[39;00m\n\u001b[1;32m    394\u001b[0m     \u001b[39mself\u001b[39m\u001b[39m.\u001b[39m_check_indexing_error(key)\n\u001b[0;32m--> 395\u001b[0m     \u001b[39mraise\u001b[39;00m \u001b[39mKeyError\u001b[39;00m(key)\n\u001b[1;32m    396\u001b[0m \u001b[39mreturn\u001b[39;00m \u001b[39msuper\u001b[39m()\u001b[39m.\u001b[39mget_loc(key, method\u001b[39m=\u001b[39mmethod, tolerance\u001b[39m=\u001b[39mtolerance)\n",
      "\u001b[0;31mKeyError\u001b[0m: 'Expected Annual Damage'"
     ]
    }
   ],
   "source": [
    "for col_random in random_outcomes.index:\n",
    "    for col_outcomes in outcomes.index:\n",
    "        statistic, p_value = ttest_ind(random_outcomes[col_random], outcomes[col_outcomes])\n",
    "        print(f\"T-test between {col_random} and {col_outcomes}: p-value = {p_value}\")\n",
    "\n",
    "\n",
    "# repeat for manwhitneyu\n"
   ]
  },
  {
   "attachments": {},
   "cell_type": "markdown",
   "metadata": {},
   "source": []
  },
  {
   "cell_type": "code",
   "execution_count": null,
   "metadata": {},
   "outputs": [],
   "source": [
    "import seaborn as sns\n",
    "import matplotlib.pyplot as plt\n",
    "\n",
    "# Example data\n",
    "data1 = [1, 2, 3, 4, 5]\n",
    "data2 = [3, 4, 5, 6, 7]\n",
    "\n",
    "# Create a figure and axes\n",
    "fig, axes = plt.subplots(1, 2, figsize=(10, 5))\n",
    "\n",
    "# Create the first boxplot on the left\n",
    "sns.boxplot(data=data1, ax=axes[0])\n",
    "axes[0].set_title('Boxplot 1')\n",
    "\n",
    "# Create the second boxplot on the right\n",
    "sns.boxplot(data=data2, ax=axes[1])\n",
    "axes[1].set_title('Boxplot 2')\n",
    "\n",
    "# Set the spacing between the subplots\n",
    "plt.tight_layout()\n",
    "\n",
    "# Show the plot\n",
    "plt.show()\n"
   ]
  }
 ],
 "metadata": {
  "kernelspec": {
   "display_name": "mbdm",
   "language": "python",
   "name": "python3"
  },
  "language_info": {
   "codemirror_mode": {
    "name": "ipython",
    "version": 3
   },
   "file_extension": ".py",
   "mimetype": "text/x-python",
   "name": "python",
   "nbconvert_exporter": "python",
   "pygments_lexer": "ipython3",
   "version": "3.11.3"
  },
  "orig_nbformat": 4
 },
 "nbformat": 4,
 "nbformat_minor": 2
}
