{
 "cells": [
  {
   "cell_type": "markdown",
   "metadata": {},
   "source": [
    "## Open Exploration"
   ]
  },
  {
   "cell_type": "markdown",
   "metadata": {},
   "source": [
    "Explanation to what we did + table of contents"
   ]
  },
  {
   "cell_type": "markdown",
   "metadata": {},
   "source": [
    "### Import Libraries"
   ]
  },
  {
   "cell_type": "code",
   "execution_count": 1,
   "metadata": {},
   "outputs": [
    {
     "data": {
      "text/plain": [
       "<Logger EMA (DEBUG)>"
      ]
     },
     "execution_count": 1,
     "metadata": {},
     "output_type": "execute_result"
    }
   ],
   "source": [
    "# General libraries\n",
    "import numpy as np\n",
    "import pandas as pd\n",
    "import matplotlib.pyplot as plt\n",
    "import seaborn as sns\n",
    "import copy\n",
    "\n",
    "# Import problem formulation\n",
    "from problem_formulation import get_model_for_problem_formulation\n",
    "\n",
    "# EMA workbench imports\n",
    "from ema_workbench import (Model, Policy, MultiprocessingEvaluator, ScalarOutcome, RealParameter, \n",
    "                           IntegerParameter, CategoricalParameter, optimize, Scenario, \n",
    "                           Constant, SequentialEvaluator)\n",
    "#from ema_workbench.em_framework.evaluators import perform_experiments,LHS, SOBOL, MORRIS, SequentialEvaluator, BaseEvaluator\n",
    "from ema_workbench.em_framework.samplers import sample_uncertainties, sample_levers\n",
    "from ema_workbench.util import ema_logging, save_results, load_results\n",
    "\n",
    "ema_logging.log_to_stderr(ema_logging.INFO)"
   ]
  },
  {
   "cell_type": "markdown",
   "metadata": {},
   "source": [
    "## Worst Case Scenario "
   ]
  },
  {
   "cell_type": "code",
   "execution_count": 2,
   "metadata": {},
   "outputs": [],
   "source": [
    "# define the problem formulation between 0 and 9\n",
    "# Problem formulation 6 is specific to Dike Ring 3\n",
    "dike_model, planning_steps = get_model_for_problem_formulation(6)"
   ]
  },
  {
   "cell_type": "code",
   "execution_count": 3,
   "metadata": {},
   "outputs": [],
   "source": [
    "# Set uncertainties and levers variables\n",
    "uncertainties = copy.deepcopy(dike_model.uncertainties)\n",
    "levers = copy.deepcopy(dike_model.levers)"
   ]
  },
  {
   "cell_type": "code",
   "execution_count": 4,
   "metadata": {},
   "outputs": [],
   "source": [
    "# function to fill empty policy \n",
    "def get_do_nothing_dict():\n",
    "    return {l.name: 0 for l in dike_model.levers}"
   ]
  },
  {
   "cell_type": "code",
   "execution_count": 5,
   "metadata": {},
   "outputs": [],
   "source": [
    "# Create a reference policy where no action is taken\n",
    "null_policy = [Policy('null_policy', **dict(get_do_nothing_dict()))]"
   ]
  },
  {
   "cell_type": "code",
   "execution_count": 6,
   "metadata": {},
   "outputs": [
    {
     "name": "stderr",
     "output_type": "stream",
     "text": [
      "[MainProcess/INFO] pool started with 8 workers\n",
      "[MainProcess/INFO] performing 100 scenarios * 1 policies * 1 model(s) = 100 experiments\n",
      "100%|████████████████████████████████████████| 100/100 [00:14<00:00,  6.95it/s]\n",
      "[MainProcess/INFO] experiments finished\n",
      "[MainProcess/INFO] terminating pool\n"
     ]
    }
   ],
   "source": [
    "n_scenarios = 100 # change to 10,000 later! \n",
    "\n",
    "ema_logging.log_to_stderr(ema_logging.INFO)\n",
    " \n",
    "with MultiprocessingEvaluator(dike_model) as evaluator:\n",
    "    experiments, outcomes = evaluator.perform_experiments(scenarios=n_scenarios, policies=null_policy)"
   ]
  },
  {
   "cell_type": "code",
   "execution_count": 7,
   "metadata": {},
   "outputs": [
    {
     "name": "stderr",
     "output_type": "stream",
     "text": [
      "[MainProcess/INFO] results saved successfully to /Users/philipmuller/Documents/GitHub/model-based-decision-making/final assignment/results/10000Scenarios_NullPolicy_PF6.tar.gz\n",
      "[MainProcess/INFO] results loaded successfully from /Users/philipmuller/Documents/GitHub/model-based-decision-making/final assignment/results/10000Scenarios_NullPolicy_PF6.tar.gz\n"
     ]
    }
   ],
   "source": [
    "#Save the results\n",
    "save_results([experiments, outcomes], 'results/10000Scenarios_NullPolicy_PF6.tar.gz')\n",
    "# load the worst case results for further analysis \n",
    "experiments, outcomes = load_results('results/10000Scenarios_NullPolicy_PF6.tar.gz')"
   ]
  },
  {
   "cell_type": "markdown",
   "metadata": {},
   "source": [
    "## Here actual Open exploration shit\n"
   ]
  },
  {
   "cell_type": "markdown",
   "metadata": {},
   "source": [
    "### show that random policy is better than no policy"
   ]
  },
  {
   "cell_type": "code",
   "execution_count": 8,
   "metadata": {},
   "outputs": [
    {
     "name": "stdout",
     "output_type": "stream",
     "text": [
      "IntegerParameter('0_RfR 0', 0, 1, resolution=None, default=None, variable_name=['0_RfR 0'], pff=False)\n",
      "IntegerParameter('0_RfR 1', 0, 1, resolution=None, default=None, variable_name=['0_RfR 1'], pff=False)\n",
      "IntegerParameter('0_RfR 2', 0, 1, resolution=None, default=None, variable_name=['0_RfR 2'], pff=False)\n",
      "IntegerParameter('1_RfR 0', 0, 1, resolution=None, default=None, variable_name=['1_RfR 0'], pff=False)\n",
      "IntegerParameter('1_RfR 1', 0, 1, resolution=None, default=None, variable_name=['1_RfR 1'], pff=False)\n",
      "IntegerParameter('1_RfR 2', 0, 1, resolution=None, default=None, variable_name=['1_RfR 2'], pff=False)\n",
      "IntegerParameter('2_RfR 0', 0, 1, resolution=None, default=None, variable_name=['2_RfR 0'], pff=False)\n",
      "IntegerParameter('2_RfR 1', 0, 1, resolution=None, default=None, variable_name=['2_RfR 1'], pff=False)\n",
      "IntegerParameter('2_RfR 2', 0, 1, resolution=None, default=None, variable_name=['2_RfR 2'], pff=False)\n",
      "IntegerParameter('3_RfR 0', 0, 1, resolution=None, default=None, variable_name=['3_RfR 0'], pff=False)\n",
      "IntegerParameter('3_RfR 1', 0, 1, resolution=None, default=None, variable_name=['3_RfR 1'], pff=False)\n",
      "IntegerParameter('3_RfR 2', 0, 1, resolution=None, default=None, variable_name=['3_RfR 2'], pff=False)\n",
      "IntegerParameter('4_RfR 0', 0, 1, resolution=None, default=None, variable_name=['4_RfR 0'], pff=False)\n",
      "IntegerParameter('4_RfR 1', 0, 1, resolution=None, default=None, variable_name=['4_RfR 1'], pff=False)\n",
      "IntegerParameter('4_RfR 2', 0, 1, resolution=None, default=None, variable_name=['4_RfR 2'], pff=False)\n",
      "IntegerParameter('EWS_DaysToThreat', 0, 4, resolution=None, default=None, variable_name=['EWS_DaysToThreat'], pff=False)\n",
      "IntegerParameter('A.1_DikeIncrease 0', 0, 10, resolution=None, default=None, variable_name=['A.1_DikeIncrease 0'], pff=False)\n",
      "IntegerParameter('A.1_DikeIncrease 1', 0, 10, resolution=None, default=None, variable_name=['A.1_DikeIncrease 1'], pff=False)\n",
      "IntegerParameter('A.1_DikeIncrease 2', 0, 10, resolution=None, default=None, variable_name=['A.1_DikeIncrease 2'], pff=False)\n",
      "IntegerParameter('A.2_DikeIncrease 0', 0, 10, resolution=None, default=None, variable_name=['A.2_DikeIncrease 0'], pff=False)\n",
      "IntegerParameter('A.2_DikeIncrease 1', 0, 10, resolution=None, default=None, variable_name=['A.2_DikeIncrease 1'], pff=False)\n",
      "IntegerParameter('A.2_DikeIncrease 2', 0, 10, resolution=None, default=None, variable_name=['A.2_DikeIncrease 2'], pff=False)\n",
      "IntegerParameter('A.3_DikeIncrease 0', 0, 10, resolution=None, default=None, variable_name=['A.3_DikeIncrease 0'], pff=False)\n",
      "IntegerParameter('A.3_DikeIncrease 1', 0, 10, resolution=None, default=None, variable_name=['A.3_DikeIncrease 1'], pff=False)\n",
      "IntegerParameter('A.3_DikeIncrease 2', 0, 10, resolution=None, default=None, variable_name=['A.3_DikeIncrease 2'], pff=False)\n",
      "IntegerParameter('A.4_DikeIncrease 0', 0, 10, resolution=None, default=None, variable_name=['A.4_DikeIncrease 0'], pff=False)\n",
      "IntegerParameter('A.4_DikeIncrease 1', 0, 10, resolution=None, default=None, variable_name=['A.4_DikeIncrease 1'], pff=False)\n",
      "IntegerParameter('A.4_DikeIncrease 2', 0, 10, resolution=None, default=None, variable_name=['A.4_DikeIncrease 2'], pff=False)\n",
      "IntegerParameter('A.5_DikeIncrease 0', 0, 10, resolution=None, default=None, variable_name=['A.5_DikeIncrease 0'], pff=False)\n",
      "IntegerParameter('A.5_DikeIncrease 1', 0, 10, resolution=None, default=None, variable_name=['A.5_DikeIncrease 1'], pff=False)\n",
      "IntegerParameter('A.5_DikeIncrease 2', 0, 10, resolution=None, default=None, variable_name=['A.5_DikeIncrease 2'], pff=False)\n"
     ]
    }
   ],
   "source": [
    "# get the value ranges for policies \n",
    "for policy in dike_model.levers:\n",
    "    print(repr(policy))"
   ]
  },
  {
   "cell_type": "code",
   "execution_count": 9,
   "metadata": {},
   "outputs": [],
   "source": [
    "# Create a policy where action is taken randomly\n",
    "# compare the performance of that policy to the previously computed null_policy\n",
    "import random # for randomly deciding to switch policy on/ off\n",
    "\n",
    "random_policies = [Policy('alpha_random_policy', **{'3_RfR 0':random.randint(0,1),\n",
    "                                  '3_RfR 1':random.randint(0,1),\n",
    "                                  '3_RfR 2':random.randint(0,1),\n",
    "                                  'A.1_DikeIncrease 0':random.randint(0,10),\n",
    "                                  'A.2_DikeIncrease 0':random.randint(0,10),\n",
    "                                  'A.3_DikeIncrease 0':random.randint(0,10),\n",
    "                                  'A.4_DikeIncrease 0':random.randint(0,10),\n",
    "                                  'A.5_DikeIncrease 0':random.randint(0,10),\n",
    "                                  'A.1_DikeIncrease 1':random.randint(0,10),\n",
    "                                  'A.2_DikeIncrease 1':random.randint(0,10),\n",
    "                                  'A.3_DikeIncrease 1':random.randint(0,10),\n",
    "                                  'A.4_DikeIncrease 1':random.randint(0,10),\n",
    "                                  'A.5_DikeIncrease 1':random.randint(0,10),\n",
    "                                  'A.1_DikeIncrease 2':random.randint(0,10),\n",
    "                                  'A.2_DikeIncrease 2':random.randint(0,10),\n",
    "                                  'A.3_DikeIncrease 2':random.randint(0,10),\n",
    "                                  'A.4_DikeIncrease 2':random.randint(0,10),\n",
    "                                  'A.5_DikeIncrease 2':random.randint(0,10),\n",
    "                                  'EWS_DaysToThreat':random.randint(0,4)}),\n",
    "                Policy('beta_random_policy', **{'3_RfR 0':random.randint(0,1),\n",
    "                                  '3_RfR 1':random.randint(0,1),\n",
    "                                  '3_RfR 2':random.randint(0,1),\n",
    "                                  'A.1_DikeIncrease 0':random.randint(0,10),\n",
    "                                  'A.2_DikeIncrease 0':random.randint(0,10),\n",
    "                                  'A.3_DikeIncrease 0':random.randint(0,10),\n",
    "                                  'A.4_DikeIncrease 0':random.randint(0,10),\n",
    "                                  'A.5_DikeIncrease 0':random.randint(0,10),\n",
    "                                  'A.1_DikeIncrease 1':random.randint(0,10),\n",
    "                                  'A.2_DikeIncrease 1':random.randint(0,10),\n",
    "                                  'A.3_DikeIncrease 1':random.randint(0,10),\n",
    "                                  'A.4_DikeIncrease 1':random.randint(0,10),\n",
    "                                  'A.5_DikeIncrease 1':random.randint(0,10),\n",
    "                                  'A.1_DikeIncrease 2':random.randint(0,10),\n",
    "                                  'A.2_DikeIncrease 2':random.randint(0,10),\n",
    "                                  'A.3_DikeIncrease 2':random.randint(0,10),\n",
    "                                  'A.4_DikeIncrease 2':random.randint(0,10),\n",
    "                                  'A.5_DikeIncrease 2':random.randint(0,10),\n",
    "                                  'EWS_DaysToThreat':random.randint(0,4)}),\n",
    "                Policy('gamma_random_policy', **{'3_RfR 0':random.randint(0,1),\n",
    "                                  '3_RfR 1':random.randint(0,1),\n",
    "                                  '3_RfR 2':random.randint(0,1),\n",
    "                                  'A.1_DikeIncrease 0':random.randint(0,10),\n",
    "                                  'A.2_DikeIncrease 0':random.randint(0,10),\n",
    "                                  'A.3_DikeIncrease 0':random.randint(0,10),\n",
    "                                  'A.4_DikeIncrease 0':random.randint(0,10),\n",
    "                                  'A.5_DikeIncrease 0':random.randint(0,10),\n",
    "                                  'A.1_DikeIncrease 1':random.randint(0,10),\n",
    "                                  'A.2_DikeIncrease 1':random.randint(0,10),\n",
    "                                  'A.3_DikeIncrease 1':random.randint(0,10),\n",
    "                                  'A.4_DikeIncrease 1':random.randint(0,10),\n",
    "                                  'A.5_DikeIncrease 1':random.randint(0,10),\n",
    "                                  'A.1_DikeIncrease 2':random.randint(0,10),\n",
    "                                  'A.2_DikeIncrease 2':random.randint(0,10),\n",
    "                                  'A.3_DikeIncrease 2':random.randint(0,10),\n",
    "                                  'A.4_DikeIncrease 2':random.randint(0,10),\n",
    "                                  'A.5_DikeIncrease 2':random.randint(0,10),\n",
    "                                  'EWS_DaysToThreat':random.randint(0,4)})                  \n",
    "                                  ]"
   ]
  },
  {
   "cell_type": "code",
   "execution_count": 10,
   "metadata": {},
   "outputs": [
    {
     "name": "stderr",
     "output_type": "stream",
     "text": [
      "[MainProcess/INFO] pool started with 8 workers\n",
      "[MainProcess/INFO] performing 100 scenarios * 3 policies * 1 model(s) = 300 experiments\n",
      "100%|████████████████████████████████████████| 300/300 [00:41<00:00,  7.29it/s]\n",
      "[MainProcess/INFO] experiments finished\n",
      "[MainProcess/INFO] terminating pool\n"
     ]
    }
   ],
   "source": [
    "n_scenarios = 100\n",
    "\n",
    "ema_logging.log_to_stderr(ema_logging.INFO)\n",
    " \n",
    "with MultiprocessingEvaluator(dike_model) as evaluator:\n",
    "    random_experiments, random_outcomes = evaluator.perform_experiments(scenarios=n_scenarios, policies=random_policies)"
   ]
  },
  {
   "cell_type": "code",
   "execution_count": 11,
   "metadata": {},
   "outputs": [
    {
     "name": "stderr",
     "output_type": "stream",
     "text": [
      "[MainProcess/INFO] results saved successfully to /Users/philipmuller/Documents/GitHub/model-based-decision-making/final assignment/results/10000Scenarios_RandomPolicy_PF6.tar.gz\n",
      "[MainProcess/INFO] results loaded successfully from /Users/philipmuller/Documents/GitHub/model-based-decision-making/final assignment/results/10000Scenarios_RandomPolicy_PF6.tar.gz\n"
     ]
    }
   ],
   "source": [
    "#Save the results\n",
    "save_results([random_experiments, random_outcomes], 'results/10000Scenarios_RandomPolicy_PF6.tar.gz')\n",
    "# load the worst case results for further analysis \n",
    "random_experiments, random_outcomes = load_results('results/10000Scenarios_RandomPolicy_PF6.tar.gz')"
   ]
  },
  {
   "cell_type": "code",
   "execution_count": 15,
   "metadata": {},
   "outputs": [
    {
     "data": {
      "text/plain": [
       "dict_keys(['A3 Expected Annual Damage', 'A3 Aggr Expected Number of Deaths', 'A3 Dike Investment Costs', 'Room for River Investment Costs', 'Evacuation Costs'])"
      ]
     },
     "execution_count": 15,
     "metadata": {},
     "output_type": "execute_result"
    }
   ],
   "source": [
    "random_outcomes.keys()"
   ]
  },
  {
   "cell_type": "code",
   "execution_count": null,
   "metadata": {},
   "outputs": [],
   "source": []
  },
  {
   "cell_type": "code",
   "execution_count": 12,
   "metadata": {},
   "outputs": [
    {
     "ename": "KeyError",
     "evalue": "\"['A.1_Dike Investment Costs', 'A.2_Dike Investment Costs', 'A.3_Dike Investment Costs', 'A.4_Dike Investment Costs', 'A.5_Dike Investment Costs', 'RfR Total Costs', 'Expected Evacuation Costs'] not found in axis\"",
     "output_type": "error",
     "traceback": [
      "\u001b[0;31m---------------------------------------------------------------------------\u001b[0m",
      "\u001b[0;31mKeyError\u001b[0m                                  Traceback (most recent call last)",
      "Cell \u001b[0;32mIn[12], line 1\u001b[0m\n\u001b[0;32m----> 1\u001b[0m p_random_outcomes \u001b[39m=\u001b[39m pd\u001b[39m.\u001b[39mDataFrame(random_outcomes)\u001b[39m.\u001b[39mdrop(columns\u001b[39m=\u001b[39m[\u001b[39m'\u001b[39m\u001b[39mA.1_Dike Investment Costs\u001b[39m\u001b[39m'\u001b[39m,\n\u001b[1;32m      2\u001b[0m                                                               \u001b[39m'\u001b[39m\u001b[39mA.2_Dike Investment Costs\u001b[39m\u001b[39m'\u001b[39m,\n\u001b[1;32m      3\u001b[0m                                                               \u001b[39m'\u001b[39m\u001b[39mA.3_Dike Investment Costs\u001b[39m\u001b[39m'\u001b[39m,\n\u001b[1;32m      4\u001b[0m                                                               \u001b[39m'\u001b[39m\u001b[39mA.4_Dike Investment Costs\u001b[39m\u001b[39m'\u001b[39m,\n\u001b[1;32m      5\u001b[0m                                                               \u001b[39m'\u001b[39m\u001b[39mA.5_Dike Investment Costs\u001b[39m\u001b[39m'\u001b[39m,\n\u001b[1;32m      6\u001b[0m                                                               \u001b[39m'\u001b[39m\u001b[39mRfR Total Costs\u001b[39m\u001b[39m'\u001b[39m,\n\u001b[1;32m      7\u001b[0m                                                               \u001b[39m'\u001b[39m\u001b[39mExpected Evacuation Costs\u001b[39m\u001b[39m'\u001b[39m])\n\u001b[1;32m      9\u001b[0m \u001b[39m#put outcomes from null_policy into similar format\u001b[39;00m\n\u001b[1;32m     10\u001b[0m p_outcomes \u001b[39m=\u001b[39m pd\u001b[39m.\u001b[39mDataFrame(outcomes)\u001b[39m.\u001b[39mdrop(columns\u001b[39m=\u001b[39m[\u001b[39m'\u001b[39m\u001b[39mA.1_Dike Investment Costs\u001b[39m\u001b[39m'\u001b[39m,\n\u001b[1;32m     11\u001b[0m                                                               \u001b[39m'\u001b[39m\u001b[39mA.2_Dike Investment Costs\u001b[39m\u001b[39m'\u001b[39m,\n\u001b[1;32m     12\u001b[0m                                                               \u001b[39m'\u001b[39m\u001b[39mA.3_Dike Investment Costs\u001b[39m\u001b[39m'\u001b[39m,\n\u001b[0;32m   (...)\u001b[0m\n\u001b[1;32m     15\u001b[0m                                                               \u001b[39m'\u001b[39m\u001b[39mRfR Total Costs\u001b[39m\u001b[39m'\u001b[39m,\n\u001b[1;32m     16\u001b[0m                                                               \u001b[39m'\u001b[39m\u001b[39mExpected Evacuation Costs\u001b[39m\u001b[39m'\u001b[39m])\n",
      "File \u001b[0;32m~/opt/anaconda3/envs/mbdm/lib/python3.11/site-packages/pandas/util/_decorators.py:331\u001b[0m, in \u001b[0;36mdeprecate_nonkeyword_arguments.<locals>.decorate.<locals>.wrapper\u001b[0;34m(*args, **kwargs)\u001b[0m\n\u001b[1;32m    325\u001b[0m \u001b[39mif\u001b[39;00m \u001b[39mlen\u001b[39m(args) \u001b[39m>\u001b[39m num_allow_args:\n\u001b[1;32m    326\u001b[0m     warnings\u001b[39m.\u001b[39mwarn(\n\u001b[1;32m    327\u001b[0m         msg\u001b[39m.\u001b[39mformat(arguments\u001b[39m=\u001b[39m_format_argument_list(allow_args)),\n\u001b[1;32m    328\u001b[0m         \u001b[39mFutureWarning\u001b[39;00m,\n\u001b[1;32m    329\u001b[0m         stacklevel\u001b[39m=\u001b[39mfind_stack_level(),\n\u001b[1;32m    330\u001b[0m     )\n\u001b[0;32m--> 331\u001b[0m \u001b[39mreturn\u001b[39;00m func(\u001b[39m*\u001b[39margs, \u001b[39m*\u001b[39m\u001b[39m*\u001b[39mkwargs)\n",
      "File \u001b[0;32m~/opt/anaconda3/envs/mbdm/lib/python3.11/site-packages/pandas/core/frame.py:5399\u001b[0m, in \u001b[0;36mDataFrame.drop\u001b[0;34m(self, labels, axis, index, columns, level, inplace, errors)\u001b[0m\n\u001b[1;32m   5251\u001b[0m \u001b[39m@deprecate_nonkeyword_arguments\u001b[39m(version\u001b[39m=\u001b[39m\u001b[39mNone\u001b[39;00m, allowed_args\u001b[39m=\u001b[39m[\u001b[39m\"\u001b[39m\u001b[39mself\u001b[39m\u001b[39m\"\u001b[39m, \u001b[39m\"\u001b[39m\u001b[39mlabels\u001b[39m\u001b[39m\"\u001b[39m])\n\u001b[1;32m   5252\u001b[0m \u001b[39mdef\u001b[39;00m \u001b[39mdrop\u001b[39m(  \u001b[39m# type: ignore[override]\u001b[39;00m\n\u001b[1;32m   5253\u001b[0m     \u001b[39mself\u001b[39m,\n\u001b[0;32m   (...)\u001b[0m\n\u001b[1;32m   5260\u001b[0m     errors: IgnoreRaise \u001b[39m=\u001b[39m \u001b[39m\"\u001b[39m\u001b[39mraise\u001b[39m\u001b[39m\"\u001b[39m,\n\u001b[1;32m   5261\u001b[0m ) \u001b[39m-\u001b[39m\u001b[39m>\u001b[39m DataFrame \u001b[39m|\u001b[39m \u001b[39mNone\u001b[39;00m:\n\u001b[1;32m   5262\u001b[0m     \u001b[39m\"\"\"\u001b[39;00m\n\u001b[1;32m   5263\u001b[0m \u001b[39m    Drop specified labels from rows or columns.\u001b[39;00m\n\u001b[1;32m   5264\u001b[0m \n\u001b[0;32m   (...)\u001b[0m\n\u001b[1;32m   5397\u001b[0m \u001b[39m            weight  1.0     0.8\u001b[39;00m\n\u001b[1;32m   5398\u001b[0m \u001b[39m    \"\"\"\u001b[39;00m\n\u001b[0;32m-> 5399\u001b[0m     \u001b[39mreturn\u001b[39;00m \u001b[39msuper\u001b[39m()\u001b[39m.\u001b[39mdrop(\n\u001b[1;32m   5400\u001b[0m         labels\u001b[39m=\u001b[39mlabels,\n\u001b[1;32m   5401\u001b[0m         axis\u001b[39m=\u001b[39maxis,\n\u001b[1;32m   5402\u001b[0m         index\u001b[39m=\u001b[39mindex,\n\u001b[1;32m   5403\u001b[0m         columns\u001b[39m=\u001b[39mcolumns,\n\u001b[1;32m   5404\u001b[0m         level\u001b[39m=\u001b[39mlevel,\n\u001b[1;32m   5405\u001b[0m         inplace\u001b[39m=\u001b[39minplace,\n\u001b[1;32m   5406\u001b[0m         errors\u001b[39m=\u001b[39merrors,\n\u001b[1;32m   5407\u001b[0m     )\n",
      "File \u001b[0;32m~/opt/anaconda3/envs/mbdm/lib/python3.11/site-packages/pandas/util/_decorators.py:331\u001b[0m, in \u001b[0;36mdeprecate_nonkeyword_arguments.<locals>.decorate.<locals>.wrapper\u001b[0;34m(*args, **kwargs)\u001b[0m\n\u001b[1;32m    325\u001b[0m \u001b[39mif\u001b[39;00m \u001b[39mlen\u001b[39m(args) \u001b[39m>\u001b[39m num_allow_args:\n\u001b[1;32m    326\u001b[0m     warnings\u001b[39m.\u001b[39mwarn(\n\u001b[1;32m    327\u001b[0m         msg\u001b[39m.\u001b[39mformat(arguments\u001b[39m=\u001b[39m_format_argument_list(allow_args)),\n\u001b[1;32m    328\u001b[0m         \u001b[39mFutureWarning\u001b[39;00m,\n\u001b[1;32m    329\u001b[0m         stacklevel\u001b[39m=\u001b[39mfind_stack_level(),\n\u001b[1;32m    330\u001b[0m     )\n\u001b[0;32m--> 331\u001b[0m \u001b[39mreturn\u001b[39;00m func(\u001b[39m*\u001b[39margs, \u001b[39m*\u001b[39m\u001b[39m*\u001b[39mkwargs)\n",
      "File \u001b[0;32m~/opt/anaconda3/envs/mbdm/lib/python3.11/site-packages/pandas/core/generic.py:4505\u001b[0m, in \u001b[0;36mNDFrame.drop\u001b[0;34m(self, labels, axis, index, columns, level, inplace, errors)\u001b[0m\n\u001b[1;32m   4503\u001b[0m \u001b[39mfor\u001b[39;00m axis, labels \u001b[39min\u001b[39;00m axes\u001b[39m.\u001b[39mitems():\n\u001b[1;32m   4504\u001b[0m     \u001b[39mif\u001b[39;00m labels \u001b[39mis\u001b[39;00m \u001b[39mnot\u001b[39;00m \u001b[39mNone\u001b[39;00m:\n\u001b[0;32m-> 4505\u001b[0m         obj \u001b[39m=\u001b[39m obj\u001b[39m.\u001b[39m_drop_axis(labels, axis, level\u001b[39m=\u001b[39mlevel, errors\u001b[39m=\u001b[39merrors)\n\u001b[1;32m   4507\u001b[0m \u001b[39mif\u001b[39;00m inplace:\n\u001b[1;32m   4508\u001b[0m     \u001b[39mself\u001b[39m\u001b[39m.\u001b[39m_update_inplace(obj)\n",
      "File \u001b[0;32m~/opt/anaconda3/envs/mbdm/lib/python3.11/site-packages/pandas/core/generic.py:4546\u001b[0m, in \u001b[0;36mNDFrame._drop_axis\u001b[0;34m(self, labels, axis, level, errors, only_slice)\u001b[0m\n\u001b[1;32m   4544\u001b[0m         new_axis \u001b[39m=\u001b[39m axis\u001b[39m.\u001b[39mdrop(labels, level\u001b[39m=\u001b[39mlevel, errors\u001b[39m=\u001b[39merrors)\n\u001b[1;32m   4545\u001b[0m     \u001b[39melse\u001b[39;00m:\n\u001b[0;32m-> 4546\u001b[0m         new_axis \u001b[39m=\u001b[39m axis\u001b[39m.\u001b[39mdrop(labels, errors\u001b[39m=\u001b[39merrors)\n\u001b[1;32m   4547\u001b[0m     indexer \u001b[39m=\u001b[39m axis\u001b[39m.\u001b[39mget_indexer(new_axis)\n\u001b[1;32m   4549\u001b[0m \u001b[39m# Case for non-unique axis\u001b[39;00m\n\u001b[1;32m   4550\u001b[0m \u001b[39melse\u001b[39;00m:\n",
      "File \u001b[0;32m~/opt/anaconda3/envs/mbdm/lib/python3.11/site-packages/pandas/core/indexes/base.py:6934\u001b[0m, in \u001b[0;36mIndex.drop\u001b[0;34m(self, labels, errors)\u001b[0m\n\u001b[1;32m   6932\u001b[0m \u001b[39mif\u001b[39;00m mask\u001b[39m.\u001b[39many():\n\u001b[1;32m   6933\u001b[0m     \u001b[39mif\u001b[39;00m errors \u001b[39m!=\u001b[39m \u001b[39m\"\u001b[39m\u001b[39mignore\u001b[39m\u001b[39m\"\u001b[39m:\n\u001b[0;32m-> 6934\u001b[0m         \u001b[39mraise\u001b[39;00m \u001b[39mKeyError\u001b[39;00m(\u001b[39mf\u001b[39m\u001b[39m\"\u001b[39m\u001b[39m{\u001b[39;00m\u001b[39mlist\u001b[39m(labels[mask])\u001b[39m}\u001b[39;00m\u001b[39m not found in axis\u001b[39m\u001b[39m\"\u001b[39m)\n\u001b[1;32m   6935\u001b[0m     indexer \u001b[39m=\u001b[39m indexer[\u001b[39m~\u001b[39mmask]\n\u001b[1;32m   6936\u001b[0m \u001b[39mreturn\u001b[39;00m \u001b[39mself\u001b[39m\u001b[39m.\u001b[39mdelete(indexer)\n",
      "\u001b[0;31mKeyError\u001b[0m: \"['A.1_Dike Investment Costs', 'A.2_Dike Investment Costs', 'A.3_Dike Investment Costs', 'A.4_Dike Investment Costs', 'A.5_Dike Investment Costs', 'RfR Total Costs', 'Expected Evacuation Costs'] not found in axis\""
     ]
    }
   ],
   "source": [
    "p_random_outcomes = pd.DataFrame(random_outcomes).drop(columns=['A.1_Dike Investment Costs',\n",
    "                                                              'A.2_Dike Investment Costs',\n",
    "                                                              'A.3_Dike Investment Costs',\n",
    "                                                              'A.4_Dike Investment Costs',\n",
    "                                                              'A.5_Dike Investment Costs',\n",
    "                                                              'RfR Total Costs',\n",
    "                                                              'Expected Evacuation Costs'])\n",
    "\n",
    "#put outcomes from null_policy into similar format\n",
    "p_outcomes = pd.DataFrame(outcomes).drop(columns=['A.1_Dike Investment Costs',\n",
    "                                                              'A.2_Dike Investment Costs',\n",
    "                                                              'A.3_Dike Investment Costs',\n",
    "                                                              'A.4_Dike Investment Costs',\n",
    "                                                              'A.5_Dike Investment Costs',\n",
    "                                                              'RfR Total Costs',\n",
    "                                                              'Expected Evacuation Costs'])"
   ]
  },
  {
   "cell_type": "code",
   "execution_count": null,
   "metadata": {},
   "outputs": [],
   "source": [
    "# statistical tests and heatmap of p_values\n",
    "\n",
    "from scipy.stats import normaltest, mannwhitneyu, ttest_ind\n",
    "\n",
    "\n",
    "# test for normal distribution. If test fails, use non-parametric test of central tendency \n",
    "for col in p_outcomes.columns: \n",
    "    statistic, p_value = normaltest(p_outcomes[col])\n",
    "    if p_value >= .05: \n",
    "        print(f'normaltest failed for {col} with p={p_value}')\n",
    "    \n",
    "for col in p_random_outcomes.columns:\n",
    "    statistic, p_value = normaltest(p_random_outcomes[col])\n",
    "    if p_value >= 0.05:    \n",
    "        print(f'normaltest failed for {col} with p={p_value}')"
   ]
  },
  {
   "cell_type": "code",
   "execution_count": null,
   "metadata": {},
   "outputs": [
    {
     "data": {
      "text/html": [
       "<div>\n",
       "<style scoped>\n",
       "    .dataframe tbody tr th:only-of-type {\n",
       "        vertical-align: middle;\n",
       "    }\n",
       "\n",
       "    .dataframe tbody tr th {\n",
       "        vertical-align: top;\n",
       "    }\n",
       "\n",
       "    .dataframe thead th {\n",
       "        text-align: right;\n",
       "    }\n",
       "</style>\n",
       "<table border=\"1\" class=\"dataframe\">\n",
       "  <thead>\n",
       "    <tr style=\"text-align: right;\">\n",
       "      <th></th>\n",
       "      <th>A.1_Expected Annual Damage</th>\n",
       "      <th>A.1_Expected Number of Deaths</th>\n",
       "      <th>A.2_Expected Annual Damage</th>\n",
       "      <th>A.2_Expected Number of Deaths</th>\n",
       "      <th>A.3_Expected Annual Damage</th>\n",
       "      <th>A.3_Expected Number of Deaths</th>\n",
       "      <th>A.4_Expected Annual Damage</th>\n",
       "      <th>A.4_Expected Number of Deaths</th>\n",
       "      <th>A.5_Expected Annual Damage</th>\n",
       "      <th>A.5_Expected Number of Deaths</th>\n",
       "    </tr>\n",
       "  </thead>\n",
       "  <tbody>\n",
       "    <tr>\n",
       "      <th>p_value</th>\n",
       "      <td>2.652598e-34</td>\n",
       "      <td>2.496232e-41</td>\n",
       "      <td>1.203228e-16</td>\n",
       "      <td>1.370733e-20</td>\n",
       "      <td>2.070443e-16</td>\n",
       "      <td>1.838422e-22</td>\n",
       "      <td>1.884811e-13</td>\n",
       "      <td>1.442680e-15</td>\n",
       "      <td>0.000185</td>\n",
       "      <td>0.000005</td>\n",
       "    </tr>\n",
       "  </tbody>\n",
       "</table>\n",
       "</div>"
      ],
      "text/plain": [
       "         A.1_Expected Annual Damage  A.1_Expected Number of Deaths  \\\n",
       "p_value                2.652598e-34                   2.496232e-41   \n",
       "\n",
       "         A.2_Expected Annual Damage  A.2_Expected Number of Deaths  \\\n",
       "p_value                1.203228e-16                   1.370733e-20   \n",
       "\n",
       "         A.3_Expected Annual Damage  A.3_Expected Number of Deaths  \\\n",
       "p_value                2.070443e-16                   1.838422e-22   \n",
       "\n",
       "         A.4_Expected Annual Damage  A.4_Expected Number of Deaths  \\\n",
       "p_value                1.884811e-13                   1.442680e-15   \n",
       "\n",
       "         A.5_Expected Annual Damage  A.5_Expected Number of Deaths  \n",
       "p_value                    0.000185                       0.000005  "
      ]
     },
     "execution_count": 78,
     "metadata": {},
     "output_type": "execute_result"
    }
   ],
   "source": [
    "p = pd.DataFrame(columns=p_outcomes.columns, index=['p_value'])\n",
    "for col in p.columns: \n",
    "    statistic, p_value = ttest_ind(p_outcomes[col], p_random_outcomes[col])\n",
    "    p[col] = p_value\n",
    "p"
   ]
  },
  {
   "attachments": {},
   "cell_type": "markdown",
   "metadata": {},
   "source": [
    "## First visual analysis of experiments"
   ]
  },
  {
   "cell_type": "code",
   "execution_count": null,
   "metadata": {},
   "outputs": [
    {
     "ename": "TypeError",
     "evalue": "'numpy.ndarray' object is not callable",
     "output_type": "error",
     "traceback": [
      "\u001b[0;31m---------------------------------------------------------------------------\u001b[0m",
      "\u001b[0;31mKeyError\u001b[0m                                  Traceback (most recent call last)",
      "File \u001b[0;32m~/opt/anaconda3/envs/mbdm/lib/python3.11/site-packages/pandas/core/indexes/base.py:3802\u001b[0m, in \u001b[0;36mIndex.get_loc\u001b[0;34m(self, key, method, tolerance)\u001b[0m\n\u001b[1;32m   3801\u001b[0m \u001b[39mtry\u001b[39;00m:\n\u001b[0;32m-> 3802\u001b[0m     \u001b[39mreturn\u001b[39;00m \u001b[39mself\u001b[39m\u001b[39m.\u001b[39m_engine\u001b[39m.\u001b[39mget_loc(casted_key)\n\u001b[1;32m   3803\u001b[0m \u001b[39mexcept\u001b[39;00m \u001b[39mKeyError\u001b[39;00m \u001b[39mas\u001b[39;00m err:\n",
      "File \u001b[0;32m~/opt/anaconda3/envs/mbdm/lib/python3.11/site-packages/pandas/_libs/index.pyx:138\u001b[0m, in \u001b[0;36mpandas._libs.index.IndexEngine.get_loc\u001b[0;34m()\u001b[0m\n",
      "File \u001b[0;32m~/opt/anaconda3/envs/mbdm/lib/python3.11/site-packages/pandas/_libs/index.pyx:165\u001b[0m, in \u001b[0;36mpandas._libs.index.IndexEngine.get_loc\u001b[0;34m()\u001b[0m\n",
      "File \u001b[0;32mpandas/_libs/hashtable_class_helper.pxi:5745\u001b[0m, in \u001b[0;36mpandas._libs.hashtable.PyObjectHashTable.get_item\u001b[0;34m()\u001b[0m\n",
      "File \u001b[0;32mpandas/_libs/hashtable_class_helper.pxi:5753\u001b[0m, in \u001b[0;36mpandas._libs.hashtable.PyObjectHashTable.get_item\u001b[0;34m()\u001b[0m\n",
      "\u001b[0;31mKeyError\u001b[0m: 'TIME'",
      "\nThe above exception was the direct cause of the following exception:\n",
      "\u001b[0;31mKeyError\u001b[0m                                  Traceback (most recent call last)",
      "File \u001b[0;32m~/opt/anaconda3/envs/mbdm/lib/python3.11/site-packages/ema_workbench/analysis/plotting_util.py:535\u001b[0m, in \u001b[0;36mdetermine_time_dimension\u001b[0;34m(outcomes)\u001b[0m\n\u001b[1;32m    534\u001b[0m \u001b[39mtry\u001b[39;00m:\n\u001b[0;32m--> 535\u001b[0m     time \u001b[39m=\u001b[39m outcomes[\u001b[39m\"\u001b[39m\u001b[39mTIME\u001b[39m\u001b[39m\"\u001b[39m]\n\u001b[1;32m    536\u001b[0m     time \u001b[39m=\u001b[39m time[\u001b[39m0\u001b[39m, :]\n",
      "File \u001b[0;32m~/opt/anaconda3/envs/mbdm/lib/python3.11/site-packages/pandas/core/frame.py:3807\u001b[0m, in \u001b[0;36mDataFrame.__getitem__\u001b[0;34m(self, key)\u001b[0m\n\u001b[1;32m   3806\u001b[0m     \u001b[39mreturn\u001b[39;00m \u001b[39mself\u001b[39m\u001b[39m.\u001b[39m_getitem_multilevel(key)\n\u001b[0;32m-> 3807\u001b[0m indexer \u001b[39m=\u001b[39m \u001b[39mself\u001b[39m\u001b[39m.\u001b[39mcolumns\u001b[39m.\u001b[39mget_loc(key)\n\u001b[1;32m   3808\u001b[0m \u001b[39mif\u001b[39;00m is_integer(indexer):\n",
      "File \u001b[0;32m~/opt/anaconda3/envs/mbdm/lib/python3.11/site-packages/pandas/core/indexes/base.py:3804\u001b[0m, in \u001b[0;36mIndex.get_loc\u001b[0;34m(self, key, method, tolerance)\u001b[0m\n\u001b[1;32m   3803\u001b[0m \u001b[39mexcept\u001b[39;00m \u001b[39mKeyError\u001b[39;00m \u001b[39mas\u001b[39;00m err:\n\u001b[0;32m-> 3804\u001b[0m     \u001b[39mraise\u001b[39;00m \u001b[39mKeyError\u001b[39;00m(key) \u001b[39mfrom\u001b[39;00m \u001b[39merr\u001b[39;00m\n\u001b[1;32m   3805\u001b[0m \u001b[39mexcept\u001b[39;00m \u001b[39mTypeError\u001b[39;00m:\n\u001b[1;32m   3806\u001b[0m     \u001b[39m# If we have a listlike key, _check_indexing_error will raise\u001b[39;00m\n\u001b[1;32m   3807\u001b[0m     \u001b[39m#  InvalidIndexError. Otherwise we fall through and re-raise\u001b[39;00m\n\u001b[1;32m   3808\u001b[0m     \u001b[39m#  the TypeError.\u001b[39;00m\n",
      "\u001b[0;31mKeyError\u001b[0m: 'TIME'",
      "\nDuring handling of the above exception, another exception occurred:\n",
      "\u001b[0;31mTypeError\u001b[0m                                 Traceback (most recent call last)",
      "Cell \u001b[0;32mIn[79], line 3\u001b[0m\n\u001b[1;32m      1\u001b[0m \u001b[39mfrom\u001b[39;00m \u001b[39mema_workbench\u001b[39;00m\u001b[39m.\u001b[39;00m\u001b[39manalysis\u001b[39;00m \u001b[39mimport\u001b[39;00m pairs_plotting\n\u001b[0;32m----> 3\u001b[0m fig, axes \u001b[39m=\u001b[39m pairs_plotting\u001b[39m.\u001b[39mpairs_scatter(experiments, outcomes, group_by\u001b[39m=\u001b[39m\u001b[39m\"\u001b[39m\u001b[39mpolicy\u001b[39m\u001b[39m\"\u001b[39m, legend\u001b[39m=\u001b[39m\u001b[39mFalse\u001b[39;00m)\n\u001b[1;32m      4\u001b[0m fig\u001b[39m.\u001b[39mset_size_inches(\u001b[39m8\u001b[39m, \u001b[39m8\u001b[39m)\n\u001b[1;32m      5\u001b[0m plt\u001b[39m.\u001b[39mshow()\n",
      "File \u001b[0;32m~/opt/anaconda3/envs/mbdm/lib/python3.11/site-packages/ema_workbench/analysis/pairs_plotting.py:445\u001b[0m, in \u001b[0;36mpairs_scatter\u001b[0;34m(experiments, outcomes, outcomes_to_show, group_by, grouping_specifiers, ylabels, legend, point_in_time, filter_scalar, **kwargs)\u001b[0m\n\u001b[1;32m    394\u001b[0m \u001b[39m\"\"\"\u001b[39;00m\n\u001b[1;32m    395\u001b[0m \n\u001b[1;32m    396\u001b[0m \u001b[39mGenerate a `R style pairs <https://www.stat.psu.edu/~dhunter/R/html/graphics/html/pairs.html>`_\u001b[39;00m\n\u001b[0;32m   (...)\u001b[0m\n\u001b[1;32m    440\u001b[0m \n\u001b[1;32m    441\u001b[0m \u001b[39m\"\"\"\u001b[39;00m\n\u001b[1;32m    443\u001b[0m _logger\u001b[39m.\u001b[39mdebug(\u001b[39m\"\u001b[39m\u001b[39mgenerating pairwise scatter plot\u001b[39m\u001b[39m\"\u001b[39m)\n\u001b[0;32m--> 445\u001b[0m prepared_data \u001b[39m=\u001b[39m prepare_pairs_data(\n\u001b[1;32m    446\u001b[0m     experiments,\n\u001b[1;32m    447\u001b[0m     outcomes,\n\u001b[1;32m    448\u001b[0m     outcomes_to_show,\n\u001b[1;32m    449\u001b[0m     group_by,\n\u001b[1;32m    450\u001b[0m     grouping_specifiers,\n\u001b[1;32m    451\u001b[0m     point_in_time,\n\u001b[1;32m    452\u001b[0m     filter_scalar,\n\u001b[1;32m    453\u001b[0m )\n\u001b[1;32m    454\u001b[0m experiments, outcomes, outcomes_to_show, grouping_labels \u001b[39m=\u001b[39m prepared_data\n\u001b[1;32m    456\u001b[0m grid \u001b[39m=\u001b[39m gridspec\u001b[39m.\u001b[39mGridSpec(\u001b[39mlen\u001b[39m(outcomes_to_show), \u001b[39mlen\u001b[39m(outcomes_to_show))\n",
      "File \u001b[0;32m~/opt/anaconda3/envs/mbdm/lib/python3.11/site-packages/ema_workbench/analysis/plotting_util.py:677\u001b[0m, in \u001b[0;36mprepare_pairs_data\u001b[0;34m(experiments, outcomes, outcomes_to_show, group_by, grouping_specifiers, point_in_time, filter_scalar)\u001b[0m\n\u001b[1;32m    674\u001b[0m \u001b[39mif\u001b[39;00m \u001b[39misinstance\u001b[39m(outcomes_to_show, \u001b[39mstr\u001b[39m):\n\u001b[1;32m    675\u001b[0m     \u001b[39mraise\u001b[39;00m EMAError(\u001b[39m\"\u001b[39m\u001b[39mfor pair wise plotting, more than one outcome needs to be provided\u001b[39m\u001b[39m\"\u001b[39m)\n\u001b[0;32m--> 677\u001b[0m experiments, outcomes, outcomes_to_show, time, grouping_labels \u001b[39m=\u001b[39m prepare_data(\n\u001b[1;32m    678\u001b[0m     experiments, \u001b[39mNone\u001b[39;00m, outcomes, outcomes_to_show, group_by, grouping_specifiers, filter_scalar\n\u001b[1;32m    679\u001b[0m )\n\u001b[1;32m    681\u001b[0m \u001b[39mdef\u001b[39;00m \u001b[39mfilter_outcomes\u001b[39m(outcomes, point_in_time):\n\u001b[1;32m    682\u001b[0m     new_outcomes \u001b[39m=\u001b[39m {}\n",
      "File \u001b[0;32m~/opt/anaconda3/envs/mbdm/lib/python3.11/site-packages/ema_workbench/analysis/plotting_util.py:735\u001b[0m, in \u001b[0;36mprepare_data\u001b[0;34m(experiments, experiments_to_show, outcomes, outcomes_to_show, group_by, grouping_specifiers, filter_scalar)\u001b[0m\n\u001b[1;32m    732\u001b[0m     \u001b[39mfor\u001b[39;00m k, v \u001b[39min\u001b[39;00m outcomes\u001b[39m.\u001b[39mitems():\n\u001b[1;32m    733\u001b[0m         outcomes[k] \u001b[39m=\u001b[39m v[experiments_to_show]\n\u001b[0;32m--> 735\u001b[0m time, outcomes \u001b[39m=\u001b[39m determine_time_dimension(outcomes)\n\u001b[1;32m    737\u001b[0m \u001b[39m# remove outcomes that are not to be shown\u001b[39;00m\n\u001b[1;32m    738\u001b[0m \u001b[39mif\u001b[39;00m outcomes_to_show:\n",
      "File \u001b[0;32m~/opt/anaconda3/envs/mbdm/lib/python3.11/site-packages/ema_workbench/analysis/plotting_util.py:539\u001b[0m, in \u001b[0;36mdetermine_time_dimension\u001b[0;34m(outcomes)\u001b[0m\n\u001b[1;32m    537\u001b[0m     outcomes\u001b[39m.\u001b[39mpop(\u001b[39m\"\u001b[39m\u001b[39mTIME\u001b[39m\u001b[39m\"\u001b[39m)\n\u001b[1;32m    538\u001b[0m \u001b[39mexcept\u001b[39;00m \u001b[39mKeyError\u001b[39;00m:\n\u001b[0;32m--> 539\u001b[0m     values \u001b[39m=\u001b[39m \u001b[39miter\u001b[39m(outcomes\u001b[39m.\u001b[39mvalues())\n\u001b[1;32m    540\u001b[0m     \u001b[39mfor\u001b[39;00m value \u001b[39min\u001b[39;00m values:\n\u001b[1;32m    541\u001b[0m         \u001b[39mif\u001b[39;00m value\u001b[39m.\u001b[39mndim \u001b[39m==\u001b[39m \u001b[39m2\u001b[39m:\n",
      "\u001b[0;31mTypeError\u001b[0m: 'numpy.ndarray' object is not callable"
     ]
    }
   ],
   "source": [
    "from ema_workbench.analysis import pairs_plotting\n",
    "\n",
    "fig, axes = pairs_plotting.pairs_scatter(experiments, outcomes, group_by=\"policy\", legend=False)\n",
    "fig.set_size_inches(8, 8)\n",
    "plt.show()"
   ]
  },
  {
   "cell_type": "code",
   "execution_count": 80,
   "metadata": {},
   "outputs": [
    {
     "data": {
      "text/html": [
       "<div>\n",
       "<style scoped>\n",
       "    .dataframe tbody tr th:only-of-type {\n",
       "        vertical-align: middle;\n",
       "    }\n",
       "\n",
       "    .dataframe tbody tr th {\n",
       "        vertical-align: top;\n",
       "    }\n",
       "\n",
       "    .dataframe thead th {\n",
       "        text-align: right;\n",
       "    }\n",
       "</style>\n",
       "<table border=\"1\" class=\"dataframe\">\n",
       "  <thead>\n",
       "    <tr style=\"text-align: right;\">\n",
       "      <th></th>\n",
       "      <th>A.1_Expected Annual Damage</th>\n",
       "      <th>A.1_Expected Number of Deaths</th>\n",
       "      <th>A.2_Expected Annual Damage</th>\n",
       "      <th>A.2_Expected Number of Deaths</th>\n",
       "      <th>A.3_Expected Annual Damage</th>\n",
       "      <th>A.3_Expected Number of Deaths</th>\n",
       "      <th>A.4_Expected Annual Damage</th>\n",
       "      <th>A.4_Expected Number of Deaths</th>\n",
       "      <th>A.5_Expected Annual Damage</th>\n",
       "      <th>A.5_Expected Number of Deaths</th>\n",
       "    </tr>\n",
       "  </thead>\n",
       "  <tbody>\n",
       "    <tr>\n",
       "      <th>0</th>\n",
       "      <td>1.701075e+08</td>\n",
       "      <td>0.211331</td>\n",
       "      <td>1.919408e+07</td>\n",
       "      <td>0.032025</td>\n",
       "      <td>0.000000e+00</td>\n",
       "      <td>0.000000</td>\n",
       "      <td>1.674574e+06</td>\n",
       "      <td>0.001459</td>\n",
       "      <td>0.000000e+00</td>\n",
       "      <td>0.000000</td>\n",
       "    </tr>\n",
       "    <tr>\n",
       "      <th>1</th>\n",
       "      <td>1.675139e+09</td>\n",
       "      <td>1.982857</td>\n",
       "      <td>0.000000e+00</td>\n",
       "      <td>0.000000</td>\n",
       "      <td>2.071221e+07</td>\n",
       "      <td>0.065396</td>\n",
       "      <td>6.595469e+06</td>\n",
       "      <td>0.005185</td>\n",
       "      <td>0.000000e+00</td>\n",
       "      <td>0.000000</td>\n",
       "    </tr>\n",
       "    <tr>\n",
       "      <th>2</th>\n",
       "      <td>1.539787e+09</td>\n",
       "      <td>2.000424</td>\n",
       "      <td>4.896197e+08</td>\n",
       "      <td>0.790212</td>\n",
       "      <td>6.391549e+08</td>\n",
       "      <td>2.039551</td>\n",
       "      <td>0.000000e+00</td>\n",
       "      <td>0.000000</td>\n",
       "      <td>0.000000e+00</td>\n",
       "      <td>0.000000</td>\n",
       "    </tr>\n",
       "    <tr>\n",
       "      <th>3</th>\n",
       "      <td>1.953185e+09</td>\n",
       "      <td>2.007333</td>\n",
       "      <td>0.000000e+00</td>\n",
       "      <td>0.000000</td>\n",
       "      <td>0.000000e+00</td>\n",
       "      <td>0.000000</td>\n",
       "      <td>0.000000e+00</td>\n",
       "      <td>0.000000</td>\n",
       "      <td>0.000000e+00</td>\n",
       "      <td>0.000000</td>\n",
       "    </tr>\n",
       "    <tr>\n",
       "      <th>4</th>\n",
       "      <td>3.618397e+08</td>\n",
       "      <td>0.419325</td>\n",
       "      <td>0.000000e+00</td>\n",
       "      <td>0.000000</td>\n",
       "      <td>2.320352e+07</td>\n",
       "      <td>0.069988</td>\n",
       "      <td>0.000000e+00</td>\n",
       "      <td>0.000000</td>\n",
       "      <td>0.000000e+00</td>\n",
       "      <td>0.000000</td>\n",
       "    </tr>\n",
       "    <tr>\n",
       "      <th>...</th>\n",
       "      <td>...</td>\n",
       "      <td>...</td>\n",
       "      <td>...</td>\n",
       "      <td>...</td>\n",
       "      <td>...</td>\n",
       "      <td>...</td>\n",
       "      <td>...</td>\n",
       "      <td>...</td>\n",
       "      <td>...</td>\n",
       "      <td>...</td>\n",
       "    </tr>\n",
       "    <tr>\n",
       "      <th>95</th>\n",
       "      <td>4.569591e+07</td>\n",
       "      <td>0.053775</td>\n",
       "      <td>1.021055e+07</td>\n",
       "      <td>0.016359</td>\n",
       "      <td>2.209554e+08</td>\n",
       "      <td>0.639645</td>\n",
       "      <td>3.254757e+07</td>\n",
       "      <td>0.024193</td>\n",
       "      <td>1.130374e+08</td>\n",
       "      <td>0.163491</td>\n",
       "    </tr>\n",
       "    <tr>\n",
       "      <th>96</th>\n",
       "      <td>1.835006e+07</td>\n",
       "      <td>0.024516</td>\n",
       "      <td>5.274803e+08</td>\n",
       "      <td>0.829321</td>\n",
       "      <td>0.000000e+00</td>\n",
       "      <td>0.000000</td>\n",
       "      <td>0.000000e+00</td>\n",
       "      <td>0.000000</td>\n",
       "      <td>0.000000e+00</td>\n",
       "      <td>0.000000</td>\n",
       "    </tr>\n",
       "    <tr>\n",
       "      <th>97</th>\n",
       "      <td>1.227103e+08</td>\n",
       "      <td>0.150552</td>\n",
       "      <td>2.591229e+06</td>\n",
       "      <td>0.004456</td>\n",
       "      <td>4.902188e+06</td>\n",
       "      <td>0.015702</td>\n",
       "      <td>3.154281e+06</td>\n",
       "      <td>0.002866</td>\n",
       "      <td>0.000000e+00</td>\n",
       "      <td>0.000000</td>\n",
       "    </tr>\n",
       "    <tr>\n",
       "      <th>98</th>\n",
       "      <td>8.487389e+07</td>\n",
       "      <td>0.105980</td>\n",
       "      <td>3.896267e+07</td>\n",
       "      <td>0.064868</td>\n",
       "      <td>0.000000e+00</td>\n",
       "      <td>0.000000</td>\n",
       "      <td>0.000000e+00</td>\n",
       "      <td>0.000000</td>\n",
       "      <td>7.434862e+08</td>\n",
       "      <td>1.103903</td>\n",
       "    </tr>\n",
       "    <tr>\n",
       "      <th>99</th>\n",
       "      <td>0.000000e+00</td>\n",
       "      <td>0.000000</td>\n",
       "      <td>1.218648e+07</td>\n",
       "      <td>0.021314</td>\n",
       "      <td>2.057468e+08</td>\n",
       "      <td>0.644608</td>\n",
       "      <td>0.000000e+00</td>\n",
       "      <td>0.000000</td>\n",
       "      <td>0.000000e+00</td>\n",
       "      <td>0.000000</td>\n",
       "    </tr>\n",
       "  </tbody>\n",
       "</table>\n",
       "<p>100 rows × 10 columns</p>\n",
       "</div>"
      ],
      "text/plain": [
       "    A.1_Expected Annual Damage  A.1_Expected Number of Deaths  \\\n",
       "0                 1.701075e+08                       0.211331   \n",
       "1                 1.675139e+09                       1.982857   \n",
       "2                 1.539787e+09                       2.000424   \n",
       "3                 1.953185e+09                       2.007333   \n",
       "4                 3.618397e+08                       0.419325   \n",
       "..                         ...                            ...   \n",
       "95                4.569591e+07                       0.053775   \n",
       "96                1.835006e+07                       0.024516   \n",
       "97                1.227103e+08                       0.150552   \n",
       "98                8.487389e+07                       0.105980   \n",
       "99                0.000000e+00                       0.000000   \n",
       "\n",
       "    A.2_Expected Annual Damage  A.2_Expected Number of Deaths  \\\n",
       "0                 1.919408e+07                       0.032025   \n",
       "1                 0.000000e+00                       0.000000   \n",
       "2                 4.896197e+08                       0.790212   \n",
       "3                 0.000000e+00                       0.000000   \n",
       "4                 0.000000e+00                       0.000000   \n",
       "..                         ...                            ...   \n",
       "95                1.021055e+07                       0.016359   \n",
       "96                5.274803e+08                       0.829321   \n",
       "97                2.591229e+06                       0.004456   \n",
       "98                3.896267e+07                       0.064868   \n",
       "99                1.218648e+07                       0.021314   \n",
       "\n",
       "    A.3_Expected Annual Damage  A.3_Expected Number of Deaths  \\\n",
       "0                 0.000000e+00                       0.000000   \n",
       "1                 2.071221e+07                       0.065396   \n",
       "2                 6.391549e+08                       2.039551   \n",
       "3                 0.000000e+00                       0.000000   \n",
       "4                 2.320352e+07                       0.069988   \n",
       "..                         ...                            ...   \n",
       "95                2.209554e+08                       0.639645   \n",
       "96                0.000000e+00                       0.000000   \n",
       "97                4.902188e+06                       0.015702   \n",
       "98                0.000000e+00                       0.000000   \n",
       "99                2.057468e+08                       0.644608   \n",
       "\n",
       "    A.4_Expected Annual Damage  A.4_Expected Number of Deaths  \\\n",
       "0                 1.674574e+06                       0.001459   \n",
       "1                 6.595469e+06                       0.005185   \n",
       "2                 0.000000e+00                       0.000000   \n",
       "3                 0.000000e+00                       0.000000   \n",
       "4                 0.000000e+00                       0.000000   \n",
       "..                         ...                            ...   \n",
       "95                3.254757e+07                       0.024193   \n",
       "96                0.000000e+00                       0.000000   \n",
       "97                3.154281e+06                       0.002866   \n",
       "98                0.000000e+00                       0.000000   \n",
       "99                0.000000e+00                       0.000000   \n",
       "\n",
       "    A.5_Expected Annual Damage  A.5_Expected Number of Deaths  \n",
       "0                 0.000000e+00                       0.000000  \n",
       "1                 0.000000e+00                       0.000000  \n",
       "2                 0.000000e+00                       0.000000  \n",
       "3                 0.000000e+00                       0.000000  \n",
       "4                 0.000000e+00                       0.000000  \n",
       "..                         ...                            ...  \n",
       "95                1.130374e+08                       0.163491  \n",
       "96                0.000000e+00                       0.000000  \n",
       "97                0.000000e+00                       0.000000  \n",
       "98                7.434862e+08                       1.103903  \n",
       "99                0.000000e+00                       0.000000  \n",
       "\n",
       "[100 rows x 10 columns]"
      ]
     },
     "execution_count": 80,
     "metadata": {},
     "output_type": "execute_result"
    }
   ],
   "source": [
    "outcomes"
   ]
  },
  {
   "cell_type": "code",
   "execution_count": null,
   "metadata": {},
   "outputs": [],
   "source": []
  }
 ],
 "metadata": {
  "kernelspec": {
   "display_name": "Python 3 (ipykernel)",
   "language": "python",
   "name": "python3"
  },
  "language_info": {
   "codemirror_mode": {
    "name": "ipython",
    "version": 3
   },
   "file_extension": ".py",
   "mimetype": "text/x-python",
   "name": "python",
   "nbconvert_exporter": "python",
   "pygments_lexer": "ipython3",
   "version": "3.11.4"
  }
 },
 "nbformat": 4,
 "nbformat_minor": 2
}
