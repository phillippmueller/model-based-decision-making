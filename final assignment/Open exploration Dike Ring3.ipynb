{
 "cells": [
  {
   "attachments": {},
   "cell_type": "markdown",
   "metadata": {},
   "source": [
    "## Open Exploration"
   ]
  },
  {
   "attachments": {},
   "cell_type": "markdown",
   "metadata": {},
   "source": [
    "Explanation to what we did + table of contents"
   ]
  },
  {
   "attachments": {},
   "cell_type": "markdown",
   "metadata": {},
   "source": [
    "### Import Libraries"
   ]
  },
  {
   "cell_type": "code",
   "execution_count": 1,
   "metadata": {},
   "outputs": [
    {
     "data": {
      "text/plain": [
       "<Logger EMA (DEBUG)>"
      ]
     },
     "execution_count": 1,
     "metadata": {},
     "output_type": "execute_result"
    }
   ],
   "source": [
    "# General libraries\n",
    "import numpy as np\n",
    "import pandas as pd\n",
    "import matplotlib.pyplot as plt\n",
    "import seaborn as sns\n",
    "import copy\n",
    "\n",
    "# Import problem formulation\n",
    "from problem_formulation import get_model_for_problem_formulation\n",
    "\n",
    "# EMA workbench imports\n",
    "from ema_workbench import (Model, Policy, MultiprocessingEvaluator, ScalarOutcome, RealParameter, \n",
    "                           IntegerParameter, CategoricalParameter, optimize, Scenario, \n",
    "                           Constant, SequentialEvaluator)\n",
    "#from ema_workbench.em_framework.evaluators import perform_experiments,LHS, SOBOL, MORRIS, SequentialEvaluator, BaseEvaluator\n",
    "from ema_workbench.em_framework.samplers import sample_uncertainties, sample_levers\n",
    "from ema_workbench.util import ema_logging, save_results, load_results\n",
    "\n",
    "ema_logging.log_to_stderr(ema_logging.INFO)"
   ]
  },
  {
   "attachments": {},
   "cell_type": "markdown",
   "metadata": {},
   "source": [
    "## Worst Case Scenario "
   ]
  },
  {
   "cell_type": "code",
   "execution_count": 2,
   "metadata": {},
   "outputs": [],
   "source": [
    "# define the problem formulation between 0 and 9\n",
    "# Problem formulation 6 is specific to Dike Ring 3\n",
    "dike_model, planning_steps = get_model_for_problem_formulation(6)"
   ]
  },
  {
   "cell_type": "code",
   "execution_count": 3,
   "metadata": {},
   "outputs": [],
   "source": [
    "# Set uncertainties and levers variables\n",
    "uncertainties = copy.deepcopy(dike_model.uncertainties)\n",
    "levers = copy.deepcopy(dike_model.levers)"
   ]
  },
  {
   "cell_type": "code",
   "execution_count": 4,
   "metadata": {},
   "outputs": [],
   "source": [
    "# Create a reference policy where no action is taken\n",
    "policies = [Policy('null_policy', **{'0_RfR 0':0,\n",
    "                                  '0_RfR 1':0,\n",
    "                                  '0_RfR 2':0,\n",
    "                                  'A.1_DikeIncrease 0':0,\n",
    "                                  'A.2_DikeIncrease 0':0,\n",
    "                                  'A.3_DikeIncrease 0':0,\n",
    "                                  'A.4_DikeIncrease 0':0,\n",
    "                                  'A.5_DikeIncrease 0':0,\n",
    "                                  'A.1_DikeIncrease 1':0,\n",
    "                                  'A.2_DikeIncrease 1':0,\n",
    "                                  'A.3_DikeIncrease 1':0,\n",
    "                                  'A.4_DikeIncrease 1':0,\n",
    "                                  'A.5_DikeIncrease 1':0,\n",
    "                                  'A.1_DikeIncrease 2':0,\n",
    "                                  'A.2_DikeIncrease 2':0,\n",
    "                                  'A.3_DikeIncrease 2':0,\n",
    "                                  'A.4_DikeIncrease 2':0,\n",
    "                                  'A.5_DikeIncrease 2':0,\n",
    "                                  'EWS_DaysToThreat':0})\n",
    "                                  ]"
   ]
  },
  {
   "cell_type": "code",
   "execution_count": 5,
   "metadata": {},
   "outputs": [
    {
     "name": "stderr",
     "output_type": "stream",
     "text": [
      "[MainProcess/INFO] pool started with 8 workers\n",
      "[MainProcess/INFO] performing 100 scenarios * 1 policies * 1 model(s) = 100 experiments\n",
      "100%|████████████████████████████████████████| 100/100 [00:12<00:00,  7.87it/s]\n",
      "[MainProcess/INFO] experiments finished\n",
      "[MainProcess/INFO] terminating pool\n"
     ]
    }
   ],
   "source": [
    "n_scenarios = 100\n",
    "\n",
    "ema_logging.log_to_stderr(ema_logging.INFO)\n",
    " \n",
    "with MultiprocessingEvaluator(dike_model) as evaluator:\n",
    "    experiments, outcomes = evaluator.perform_experiments(scenarios=n_scenarios, policies=policies)"
   ]
  },
  {
   "cell_type": "code",
   "execution_count": 6,
   "metadata": {},
   "outputs": [
    {
     "name": "stderr",
     "output_type": "stream",
     "text": [
      "[MainProcess/INFO] results saved successfully to /Users/philipmuller/Documents/GitHub/model-based-decision-making/final assignment/results/10000Scenarios_NullPolicy_PF6.tar.gz\n"
     ]
    }
   ],
   "source": [
    "#Save the results\n",
    "save_results([experiments, outcomes], 'results/10000Scenarios_NullPolicy_PF6.tar.gz')"
   ]
  },
  {
   "cell_type": "code",
   "execution_count": 7,
   "metadata": {},
   "outputs": [
    {
     "name": "stderr",
     "output_type": "stream",
     "text": [
      "[MainProcess/INFO] results loaded successfully from /Users/philipmuller/Documents/GitHub/model-based-decision-making/final assignment/results/10000Scenarios_NullPolicy_PF6.tar.gz\n"
     ]
    }
   ],
   "source": [
    "# load the worst case results for further analysis \n",
    "experiments, outcomes = load_results('results/10000Scenarios_NullPolicy_PF6.tar.gz')"
   ]
  },
  {
   "cell_type": "code",
   "execution_count": 8,
   "metadata": {},
   "outputs": [
    {
     "data": {
      "text/plain": [
       "{'A3 Expected Annual Damage': array([0, 0, 0, 0, 0, 0, 0, 0, 0, 0, 0, 0, 0, 0, 0, 0, 0, 0, 0, 0, 0, 0,\n",
       "        0, 0, 0, 0, 0, 0, 0, 0, 0, 0, 0, 0, 0, 0, 0, 0, 0, 0, 0, 0, 0, 0,\n",
       "        0, 0, 0, 0, 0, 0, 0, 0, 0, 0, 0, 0, 0, 0, 0, 0, 0, 0, 0, 0, 0, 0,\n",
       "        0, 0, 0, 0, 0, 0, 0, 0, 0, 0, 0, 0, 0, 0, 0, 0, 0, 0, 0, 0, 0, 0,\n",
       "        0, 0, 0, 0, 0, 0, 0, 0, 0, 0, 0, 0]),\n",
       " 'A3 Aggr Expected Number of Deaths': array([0, 0, 0, 0, 0, 0, 0, 0, 0, 0, 0, 0, 0, 0, 0, 0, 0, 0, 0, 0, 0, 0,\n",
       "        0, 0, 0, 0, 0, 0, 0, 0, 0, 0, 0, 0, 0, 0, 0, 0, 0, 0, 0, 0, 0, 0,\n",
       "        0, 0, 0, 0, 0, 0, 0, 0, 0, 0, 0, 0, 0, 0, 0, 0, 0, 0, 0, 0, 0, 0,\n",
       "        0, 0, 0, 0, 0, 0, 0, 0, 0, 0, 0, 0, 0, 0, 0, 0, 0, 0, 0, 0, 0, 0,\n",
       "        0, 0, 0, 0, 0, 0, 0, 0, 0, 0, 0, 0]),\n",
       " 'A3 Dike Investment Costs': array([0, 0, 0, 0, 0, 0, 0, 0, 0, 0, 0, 0, 0, 0, 0, 0, 0, 0, 0, 0, 0, 0,\n",
       "        0, 0, 0, 0, 0, 0, 0, 0, 0, 0, 0, 0, 0, 0, 0, 0, 0, 0, 0, 0, 0, 0,\n",
       "        0, 0, 0, 0, 0, 0, 0, 0, 0, 0, 0, 0, 0, 0, 0, 0, 0, 0, 0, 0, 0, 0,\n",
       "        0, 0, 0, 0, 0, 0, 0, 0, 0, 0, 0, 0, 0, 0, 0, 0, 0, 0, 0, 0, 0, 0,\n",
       "        0, 0, 0, 0, 0, 0, 0, 0, 0, 0, 0, 0]),\n",
       " 'Room for River Investment Costs': array([0, 0, 0, 0, 0, 0, 0, 0, 0, 0, 0, 0, 0, 0, 0, 0, 0, 0, 0, 0, 0, 0,\n",
       "        0, 0, 0, 0, 0, 0, 0, 0, 0, 0, 0, 0, 0, 0, 0, 0, 0, 0, 0, 0, 0, 0,\n",
       "        0, 0, 0, 0, 0, 0, 0, 0, 0, 0, 0, 0, 0, 0, 0, 0, 0, 0, 0, 0, 0, 0,\n",
       "        0, 0, 0, 0, 0, 0, 0, 0, 0, 0, 0, 0, 0, 0, 0, 0, 0, 0, 0, 0, 0, 0,\n",
       "        0, 0, 0, 0, 0, 0, 0, 0, 0, 0, 0, 0]),\n",
       " 'Evacuation Costs': array([0, 0, 0, 0, 0, 0, 0, 0, 0, 0, 0, 0, 0, 0, 0, 0, 0, 0, 0, 0, 0, 0,\n",
       "        0, 0, 0, 0, 0, 0, 0, 0, 0, 0, 0, 0, 0, 0, 0, 0, 0, 0, 0, 0, 0, 0,\n",
       "        0, 0, 0, 0, 0, 0, 0, 0, 0, 0, 0, 0, 0, 0, 0, 0, 0, 0, 0, 0, 0, 0,\n",
       "        0, 0, 0, 0, 0, 0, 0, 0, 0, 0, 0, 0, 0, 0, 0, 0, 0, 0, 0, 0, 0, 0,\n",
       "        0, 0, 0, 0, 0, 0, 0, 0, 0, 0, 0, 0])}"
      ]
     },
     "execution_count": 8,
     "metadata": {},
     "output_type": "execute_result"
    }
   ],
   "source": [
    "outcomes"
   ]
  },
  {
   "cell_type": "code",
   "execution_count": null,
   "metadata": {},
   "outputs": [],
   "source": []
  },
  {
   "cell_type": "markdown",
   "metadata": {},
   "source": [
    "## Here actual Open exploration shit\n"
   ]
  },
  {
   "cell_type": "markdown",
   "metadata": {},
   "source": [
    "### show that random policy is better than no policy"
   ]
  },
  {
   "cell_type": "code",
   "execution_count": 9,
   "metadata": {},
   "outputs": [
    {
     "ename": "TypeError",
     "evalue": "'Policy' object is not callable",
     "output_type": "error",
     "traceback": [
      "\u001b[0;31m---------------------------------------------------------------------------\u001b[0m",
      "\u001b[0;31mTypeError\u001b[0m                                 Traceback (most recent call last)",
      "Cell \u001b[0;32mIn[9], line 7\u001b[0m\n\u001b[1;32m      1\u001b[0m \u001b[39m# Create a policy where action is taken randomly\u001b[39;00m\n\u001b[1;32m      2\u001b[0m \u001b[39m# compare the performance of that policy to the previously computed null_policy\u001b[39;00m\n\u001b[1;32m      5\u001b[0m \u001b[39mimport\u001b[39;00m \u001b[39mrandom\u001b[39;00m \u001b[39m# for randomly deciding to switch policy on/ off\u001b[39;00m\n\u001b[0;32m----> 7\u001b[0m policies \u001b[39m=\u001b[39m [Policy(\u001b[39m'\u001b[39m\u001b[39mnull_policy\u001b[39m\u001b[39m'\u001b[39m, \u001b[39m*\u001b[39m\u001b[39m*\u001b[39m{\u001b[39m'\u001b[39m\u001b[39m3_RfR 0\u001b[39m\u001b[39m'\u001b[39m:\u001b[39m0\u001b[39m,\n\u001b[1;32m      8\u001b[0m                                   \u001b[39m'\u001b[39m\u001b[39m3_RfR 1\u001b[39m\u001b[39m'\u001b[39m:\u001b[39m0\u001b[39m,\n\u001b[1;32m      9\u001b[0m                                   \u001b[39m'\u001b[39m\u001b[39m3_RfR 2\u001b[39m\u001b[39m'\u001b[39m:\u001b[39m0\u001b[39m,\n\u001b[1;32m     10\u001b[0m                                   \u001b[39m'\u001b[39m\u001b[39mA.1_DikeIncrease 0\u001b[39m\u001b[39m'\u001b[39m:\u001b[39m0\u001b[39m,\n\u001b[1;32m     11\u001b[0m                                   \u001b[39m'\u001b[39m\u001b[39mA.2_DikeIncrease 0\u001b[39m\u001b[39m'\u001b[39m:\u001b[39m0\u001b[39m,\n\u001b[1;32m     12\u001b[0m                                   \u001b[39m'\u001b[39m\u001b[39mA.3_DikeIncrease 0\u001b[39m\u001b[39m'\u001b[39m:\u001b[39m0\u001b[39m,\n\u001b[1;32m     13\u001b[0m                                   \u001b[39m'\u001b[39m\u001b[39mA.4_DikeIncrease 0\u001b[39m\u001b[39m'\u001b[39m:\u001b[39m0\u001b[39m,\n\u001b[1;32m     14\u001b[0m                                   \u001b[39m'\u001b[39m\u001b[39mA.5_DikeIncrease 0\u001b[39m\u001b[39m'\u001b[39m:\u001b[39m0\u001b[39m,\n\u001b[1;32m     15\u001b[0m                                   \u001b[39m'\u001b[39m\u001b[39mA.1_DikeIncrease 1\u001b[39m\u001b[39m'\u001b[39m:\u001b[39m0\u001b[39m,\n\u001b[1;32m     16\u001b[0m                                   \u001b[39m'\u001b[39m\u001b[39mA.2_DikeIncrease 1\u001b[39m\u001b[39m'\u001b[39m:\u001b[39m0\u001b[39m,\n\u001b[1;32m     17\u001b[0m                                   \u001b[39m'\u001b[39m\u001b[39mA.3_DikeIncrease 1\u001b[39m\u001b[39m'\u001b[39m:\u001b[39m0\u001b[39m,\n\u001b[1;32m     18\u001b[0m                                   \u001b[39m'\u001b[39m\u001b[39mA.4_DikeIncrease 1\u001b[39m\u001b[39m'\u001b[39m:\u001b[39m0\u001b[39m,\n\u001b[1;32m     19\u001b[0m                                   \u001b[39m'\u001b[39m\u001b[39mA.5_DikeIncrease 1\u001b[39m\u001b[39m'\u001b[39m:\u001b[39m0\u001b[39m,\n\u001b[1;32m     20\u001b[0m                                   \u001b[39m'\u001b[39m\u001b[39mA.1_DikeIncrease 2\u001b[39m\u001b[39m'\u001b[39m:\u001b[39m0\u001b[39m,\n\u001b[1;32m     21\u001b[0m                                   \u001b[39m'\u001b[39m\u001b[39mA.2_DikeIncrease 2\u001b[39m\u001b[39m'\u001b[39m:\u001b[39m0\u001b[39m,\n\u001b[1;32m     22\u001b[0m                                   \u001b[39m'\u001b[39m\u001b[39mA.3_DikeIncrease 2\u001b[39m\u001b[39m'\u001b[39m:\u001b[39m0\u001b[39m,\n\u001b[1;32m     23\u001b[0m                                   \u001b[39m'\u001b[39m\u001b[39mA.4_DikeIncrease 2\u001b[39m\u001b[39m'\u001b[39m:\u001b[39m0\u001b[39m,\n\u001b[1;32m     24\u001b[0m                                   \u001b[39m'\u001b[39m\u001b[39mA.5_DikeIncrease 2\u001b[39m\u001b[39m'\u001b[39m:\u001b[39m0\u001b[39m,\n\u001b[1;32m     25\u001b[0m                                   \u001b[39m'\u001b[39m\u001b[39mEWS_DaysToThreat\u001b[39m\u001b[39m'\u001b[39m:\u001b[39m0\u001b[39m})\n\u001b[1;32m     26\u001b[0m                 (\u001b[39m'\u001b[39m\u001b[39malpha_random_policy\u001b[39m\u001b[39m'\u001b[39m, \u001b[39m*\u001b[39m\u001b[39m*\u001b[39m{\u001b[39m'\u001b[39m\u001b[39m3_RfR 0\u001b[39m\u001b[39m'\u001b[39m:random\u001b[39m.\u001b[39mrandint(\u001b[39m0\u001b[39m,\u001b[39m1\u001b[39m),\n\u001b[1;32m     27\u001b[0m                                   \u001b[39m'\u001b[39m\u001b[39m3_RfR 1\u001b[39m\u001b[39m'\u001b[39m:random\u001b[39m.\u001b[39mrandint(\u001b[39m0\u001b[39m,\u001b[39m1\u001b[39m),\n\u001b[1;32m     28\u001b[0m                                   \u001b[39m'\u001b[39m\u001b[39m3_RfR 2\u001b[39m\u001b[39m'\u001b[39m:random\u001b[39m.\u001b[39mrandint(\u001b[39m0\u001b[39m,\u001b[39m1\u001b[39m),\n\u001b[1;32m     29\u001b[0m                                   \u001b[39m'\u001b[39m\u001b[39mA.1_DikeIncrease 0\u001b[39m\u001b[39m'\u001b[39m:random\u001b[39m.\u001b[39mrandint(\u001b[39m0\u001b[39m,\u001b[39m10\u001b[39m),\n\u001b[1;32m     30\u001b[0m                                   \u001b[39m'\u001b[39m\u001b[39mA.2_DikeIncrease 0\u001b[39m\u001b[39m'\u001b[39m:random\u001b[39m.\u001b[39mrandint(\u001b[39m0\u001b[39m,\u001b[39m10\u001b[39m),\n\u001b[1;32m     31\u001b[0m                                   \u001b[39m'\u001b[39m\u001b[39mA.3_DikeIncrease 0\u001b[39m\u001b[39m'\u001b[39m:random\u001b[39m.\u001b[39mrandint(\u001b[39m0\u001b[39m,\u001b[39m10\u001b[39m),\n\u001b[1;32m     32\u001b[0m                                   \u001b[39m'\u001b[39m\u001b[39mA.4_DikeIncrease 0\u001b[39m\u001b[39m'\u001b[39m:random\u001b[39m.\u001b[39mrandint(\u001b[39m0\u001b[39m,\u001b[39m10\u001b[39m),\n\u001b[1;32m     33\u001b[0m                                   \u001b[39m'\u001b[39m\u001b[39mA.5_DikeIncrease 0\u001b[39m\u001b[39m'\u001b[39m:random\u001b[39m.\u001b[39mrandint(\u001b[39m0\u001b[39m,\u001b[39m10\u001b[39m),\n\u001b[1;32m     34\u001b[0m                                   \u001b[39m'\u001b[39m\u001b[39mA.1_DikeIncrease 1\u001b[39m\u001b[39m'\u001b[39m:random\u001b[39m.\u001b[39mrandint(\u001b[39m0\u001b[39m,\u001b[39m10\u001b[39m),\n\u001b[1;32m     35\u001b[0m                                   \u001b[39m'\u001b[39m\u001b[39mA.2_DikeIncrease 1\u001b[39m\u001b[39m'\u001b[39m:random\u001b[39m.\u001b[39mrandint(\u001b[39m0\u001b[39m,\u001b[39m10\u001b[39m),\n\u001b[1;32m     36\u001b[0m                                   \u001b[39m'\u001b[39m\u001b[39mA.3_DikeIncrease 1\u001b[39m\u001b[39m'\u001b[39m:random\u001b[39m.\u001b[39mrandint(\u001b[39m0\u001b[39m,\u001b[39m10\u001b[39m),\n\u001b[1;32m     37\u001b[0m                                   \u001b[39m'\u001b[39m\u001b[39mA.4_DikeIncrease 1\u001b[39m\u001b[39m'\u001b[39m:random\u001b[39m.\u001b[39mrandint(\u001b[39m0\u001b[39m,\u001b[39m10\u001b[39m),\n\u001b[1;32m     38\u001b[0m                                   \u001b[39m'\u001b[39m\u001b[39mA.5_DikeIncrease 1\u001b[39m\u001b[39m'\u001b[39m:random\u001b[39m.\u001b[39mrandint(\u001b[39m0\u001b[39m,\u001b[39m10\u001b[39m),\n\u001b[1;32m     39\u001b[0m                                   \u001b[39m'\u001b[39m\u001b[39mA.1_DikeIncrease 2\u001b[39m\u001b[39m'\u001b[39m:random\u001b[39m.\u001b[39mrandint(\u001b[39m0\u001b[39m,\u001b[39m10\u001b[39m),\n\u001b[1;32m     40\u001b[0m                                   \u001b[39m'\u001b[39m\u001b[39mA.2_DikeIncrease 2\u001b[39m\u001b[39m'\u001b[39m:random\u001b[39m.\u001b[39mrandint(\u001b[39m0\u001b[39m,\u001b[39m10\u001b[39m),\n\u001b[1;32m     41\u001b[0m                                   \u001b[39m'\u001b[39m\u001b[39mA.3_DikeIncrease 2\u001b[39m\u001b[39m'\u001b[39m:random\u001b[39m.\u001b[39mrandint(\u001b[39m0\u001b[39m,\u001b[39m10\u001b[39m),\n\u001b[1;32m     42\u001b[0m                                   \u001b[39m'\u001b[39m\u001b[39mA.4_DikeIncrease 2\u001b[39m\u001b[39m'\u001b[39m:random\u001b[39m.\u001b[39mrandint(\u001b[39m0\u001b[39m,\u001b[39m10\u001b[39m),\n\u001b[1;32m     43\u001b[0m                                   \u001b[39m'\u001b[39m\u001b[39mA.5_DikeIncrease 2\u001b[39m\u001b[39m'\u001b[39m:random\u001b[39m.\u001b[39mrandint(\u001b[39m0\u001b[39m,\u001b[39m10\u001b[39m),\n\u001b[1;32m     44\u001b[0m                                   \u001b[39m'\u001b[39m\u001b[39mEWS_DaysToThreat\u001b[39m\u001b[39m'\u001b[39m:random\u001b[39m.\u001b[39mrandint(\u001b[39m0\u001b[39m,\u001b[39m15\u001b[39m)})\n\u001b[1;32m     45\u001b[0m                 (\u001b[39m'\u001b[39m\u001b[39mbeta_random_policy\u001b[39m\u001b[39m'\u001b[39m, \u001b[39m*\u001b[39m\u001b[39m*\u001b[39m{\u001b[39m'\u001b[39m\u001b[39m3_RfR 0\u001b[39m\u001b[39m'\u001b[39m:random\u001b[39m.\u001b[39mrandint(\u001b[39m0\u001b[39m,\u001b[39m1\u001b[39m),\n\u001b[1;32m     46\u001b[0m                                   \u001b[39m'\u001b[39m\u001b[39m3_RfR 1\u001b[39m\u001b[39m'\u001b[39m:random\u001b[39m.\u001b[39mrandint(\u001b[39m0\u001b[39m,\u001b[39m1\u001b[39m),\n\u001b[1;32m     47\u001b[0m                                   \u001b[39m'\u001b[39m\u001b[39m3_RfR 2\u001b[39m\u001b[39m'\u001b[39m:random\u001b[39m.\u001b[39mrandint(\u001b[39m0\u001b[39m,\u001b[39m1\u001b[39m),\n\u001b[1;32m     48\u001b[0m                                   \u001b[39m'\u001b[39m\u001b[39mA.1_DikeIncrease 0\u001b[39m\u001b[39m'\u001b[39m:random\u001b[39m.\u001b[39mrandint(\u001b[39m0\u001b[39m,\u001b[39m10\u001b[39m),\n\u001b[1;32m     49\u001b[0m                                   \u001b[39m'\u001b[39m\u001b[39mA.2_DikeIncrease 0\u001b[39m\u001b[39m'\u001b[39m:random\u001b[39m.\u001b[39mrandint(\u001b[39m0\u001b[39m,\u001b[39m10\u001b[39m),\n\u001b[1;32m     50\u001b[0m                                   \u001b[39m'\u001b[39m\u001b[39mA.3_DikeIncrease 0\u001b[39m\u001b[39m'\u001b[39m:random\u001b[39m.\u001b[39mrandint(\u001b[39m0\u001b[39m,\u001b[39m10\u001b[39m),\n\u001b[1;32m     51\u001b[0m                                   \u001b[39m'\u001b[39m\u001b[39mA.4_DikeIncrease 0\u001b[39m\u001b[39m'\u001b[39m:random\u001b[39m.\u001b[39mrandint(\u001b[39m0\u001b[39m,\u001b[39m10\u001b[39m),\n\u001b[1;32m     52\u001b[0m                                   \u001b[39m'\u001b[39m\u001b[39mA.5_DikeIncrease 0\u001b[39m\u001b[39m'\u001b[39m:random\u001b[39m.\u001b[39mrandint(\u001b[39m0\u001b[39m,\u001b[39m10\u001b[39m),\n\u001b[1;32m     53\u001b[0m                                   \u001b[39m'\u001b[39m\u001b[39mA.1_DikeIncrease 1\u001b[39m\u001b[39m'\u001b[39m:random\u001b[39m.\u001b[39mrandint(\u001b[39m0\u001b[39m,\u001b[39m10\u001b[39m),\n\u001b[1;32m     54\u001b[0m                                   \u001b[39m'\u001b[39m\u001b[39mA.2_DikeIncrease 1\u001b[39m\u001b[39m'\u001b[39m:random\u001b[39m.\u001b[39mrandint(\u001b[39m0\u001b[39m,\u001b[39m10\u001b[39m),\n\u001b[1;32m     55\u001b[0m                                   \u001b[39m'\u001b[39m\u001b[39mA.3_DikeIncrease 1\u001b[39m\u001b[39m'\u001b[39m:random\u001b[39m.\u001b[39mrandint(\u001b[39m0\u001b[39m,\u001b[39m10\u001b[39m),\n\u001b[1;32m     56\u001b[0m                                   \u001b[39m'\u001b[39m\u001b[39mA.4_DikeIncrease 1\u001b[39m\u001b[39m'\u001b[39m:random\u001b[39m.\u001b[39mrandint(\u001b[39m0\u001b[39m,\u001b[39m10\u001b[39m),\n\u001b[1;32m     57\u001b[0m                                   \u001b[39m'\u001b[39m\u001b[39mA.5_DikeIncrease 1\u001b[39m\u001b[39m'\u001b[39m:random\u001b[39m.\u001b[39mrandint(\u001b[39m0\u001b[39m,\u001b[39m10\u001b[39m),\n\u001b[1;32m     58\u001b[0m                                   \u001b[39m'\u001b[39m\u001b[39mA.1_DikeIncrease 2\u001b[39m\u001b[39m'\u001b[39m:random\u001b[39m.\u001b[39mrandint(\u001b[39m0\u001b[39m,\u001b[39m10\u001b[39m),\n\u001b[1;32m     59\u001b[0m                                   \u001b[39m'\u001b[39m\u001b[39mA.2_DikeIncrease 2\u001b[39m\u001b[39m'\u001b[39m:random\u001b[39m.\u001b[39mrandint(\u001b[39m0\u001b[39m,\u001b[39m10\u001b[39m),\n\u001b[1;32m     60\u001b[0m                                   \u001b[39m'\u001b[39m\u001b[39mA.3_DikeIncrease 2\u001b[39m\u001b[39m'\u001b[39m:random\u001b[39m.\u001b[39mrandint(\u001b[39m0\u001b[39m,\u001b[39m10\u001b[39m),\n\u001b[1;32m     61\u001b[0m                                   \u001b[39m'\u001b[39m\u001b[39mA.4_DikeIncrease 2\u001b[39m\u001b[39m'\u001b[39m:random\u001b[39m.\u001b[39mrandint(\u001b[39m0\u001b[39m,\u001b[39m10\u001b[39m),\n\u001b[1;32m     62\u001b[0m                                   \u001b[39m'\u001b[39m\u001b[39mA.5_DikeIncrease 2\u001b[39m\u001b[39m'\u001b[39m:random\u001b[39m.\u001b[39mrandint(\u001b[39m0\u001b[39m,\u001b[39m10\u001b[39m),\n\u001b[1;32m     63\u001b[0m                                   \u001b[39m'\u001b[39m\u001b[39mEWS_DaysToThreat\u001b[39m\u001b[39m'\u001b[39m:random\u001b[39m.\u001b[39mrandint(\u001b[39m0\u001b[39m,\u001b[39m15\u001b[39m)})\n\u001b[1;32m     64\u001b[0m                 (\u001b[39m'\u001b[39m\u001b[39mgamma_random_policy\u001b[39m\u001b[39m'\u001b[39m, \u001b[39m*\u001b[39m\u001b[39m*\u001b[39m{\u001b[39m'\u001b[39m\u001b[39m3_RfR 0\u001b[39m\u001b[39m'\u001b[39m:random\u001b[39m.\u001b[39mrandint(\u001b[39m0\u001b[39m,\u001b[39m1\u001b[39m),\n\u001b[1;32m     65\u001b[0m                                   \u001b[39m'\u001b[39m\u001b[39m3_RfR 1\u001b[39m\u001b[39m'\u001b[39m:random\u001b[39m.\u001b[39mrandint(\u001b[39m0\u001b[39m,\u001b[39m1\u001b[39m),\n\u001b[1;32m     66\u001b[0m                                   \u001b[39m'\u001b[39m\u001b[39m3_RfR 2\u001b[39m\u001b[39m'\u001b[39m:random\u001b[39m.\u001b[39mrandint(\u001b[39m0\u001b[39m,\u001b[39m1\u001b[39m),\n\u001b[1;32m     67\u001b[0m                                   \u001b[39m'\u001b[39m\u001b[39mA.1_DikeIncrease 0\u001b[39m\u001b[39m'\u001b[39m:random\u001b[39m.\u001b[39mrandint(\u001b[39m0\u001b[39m,\u001b[39m10\u001b[39m),\n\u001b[1;32m     68\u001b[0m                                   \u001b[39m'\u001b[39m\u001b[39mA.2_DikeIncrease 0\u001b[39m\u001b[39m'\u001b[39m:random\u001b[39m.\u001b[39mrandint(\u001b[39m0\u001b[39m,\u001b[39m10\u001b[39m),\n\u001b[1;32m     69\u001b[0m                                   \u001b[39m'\u001b[39m\u001b[39mA.3_DikeIncrease 0\u001b[39m\u001b[39m'\u001b[39m:random\u001b[39m.\u001b[39mrandint(\u001b[39m0\u001b[39m,\u001b[39m10\u001b[39m),\n\u001b[1;32m     70\u001b[0m                                   \u001b[39m'\u001b[39m\u001b[39mA.4_DikeIncrease 0\u001b[39m\u001b[39m'\u001b[39m:random\u001b[39m.\u001b[39mrandint(\u001b[39m0\u001b[39m,\u001b[39m10\u001b[39m),\n\u001b[1;32m     71\u001b[0m                                   \u001b[39m'\u001b[39m\u001b[39mA.5_DikeIncrease 0\u001b[39m\u001b[39m'\u001b[39m:random\u001b[39m.\u001b[39mrandint(\u001b[39m0\u001b[39m,\u001b[39m10\u001b[39m),\n\u001b[1;32m     72\u001b[0m                                   \u001b[39m'\u001b[39m\u001b[39mA.1_DikeIncrease 1\u001b[39m\u001b[39m'\u001b[39m:random\u001b[39m.\u001b[39mrandint(\u001b[39m0\u001b[39m,\u001b[39m10\u001b[39m),\n\u001b[1;32m     73\u001b[0m                                   \u001b[39m'\u001b[39m\u001b[39mA.2_DikeIncrease 1\u001b[39m\u001b[39m'\u001b[39m:random\u001b[39m.\u001b[39mrandint(\u001b[39m0\u001b[39m,\u001b[39m10\u001b[39m),\n\u001b[1;32m     74\u001b[0m                                   \u001b[39m'\u001b[39m\u001b[39mA.3_DikeIncrease 1\u001b[39m\u001b[39m'\u001b[39m:random\u001b[39m.\u001b[39mrandint(\u001b[39m0\u001b[39m,\u001b[39m10\u001b[39m),\n\u001b[1;32m     75\u001b[0m                                   \u001b[39m'\u001b[39m\u001b[39mA.4_DikeIncrease 1\u001b[39m\u001b[39m'\u001b[39m:random\u001b[39m.\u001b[39mrandint(\u001b[39m0\u001b[39m,\u001b[39m10\u001b[39m),\n\u001b[1;32m     76\u001b[0m                                   \u001b[39m'\u001b[39m\u001b[39mA.5_DikeIncrease 1\u001b[39m\u001b[39m'\u001b[39m:random\u001b[39m.\u001b[39mrandint(\u001b[39m0\u001b[39m,\u001b[39m10\u001b[39m),\n\u001b[1;32m     77\u001b[0m                                   \u001b[39m'\u001b[39m\u001b[39mA.1_DikeIncrease 2\u001b[39m\u001b[39m'\u001b[39m:random\u001b[39m.\u001b[39mrandint(\u001b[39m0\u001b[39m,\u001b[39m10\u001b[39m),\n\u001b[1;32m     78\u001b[0m                                   \u001b[39m'\u001b[39m\u001b[39mA.2_DikeIncrease 2\u001b[39m\u001b[39m'\u001b[39m:random\u001b[39m.\u001b[39mrandint(\u001b[39m0\u001b[39m,\u001b[39m10\u001b[39m),\n\u001b[1;32m     79\u001b[0m                                   \u001b[39m'\u001b[39m\u001b[39mA.3_DikeIncrease 2\u001b[39m\u001b[39m'\u001b[39m:random\u001b[39m.\u001b[39mrandint(\u001b[39m0\u001b[39m,\u001b[39m10\u001b[39m),\n\u001b[1;32m     80\u001b[0m                                   \u001b[39m'\u001b[39m\u001b[39mA.4_DikeIncrease 2\u001b[39m\u001b[39m'\u001b[39m:random\u001b[39m.\u001b[39mrandint(\u001b[39m0\u001b[39m,\u001b[39m10\u001b[39m),\n\u001b[1;32m     81\u001b[0m                                   \u001b[39m'\u001b[39m\u001b[39mA.5_DikeIncrease 2\u001b[39m\u001b[39m'\u001b[39m:random\u001b[39m.\u001b[39mrandint(\u001b[39m0\u001b[39m,\u001b[39m10\u001b[39m),\n\u001b[1;32m     82\u001b[0m                                   \u001b[39m'\u001b[39m\u001b[39mEWS_DaysToThreat\u001b[39m\u001b[39m'\u001b[39m:random\u001b[39m.\u001b[39mrandint(\u001b[39m0\u001b[39m,\u001b[39m15\u001b[39m)})                  \n\u001b[1;32m     83\u001b[0m                                   ]\n",
      "\u001b[0;31mTypeError\u001b[0m: 'Policy' object is not callable"
     ]
    }
   ],
   "source": [
    "# Create a policy where action is taken randomly\n",
    "# compare the performance of that policy to the previously computed null_policy\n",
    "\n",
    "\n",
    "import random # for randomly deciding to switch policy on/ off\n",
    "\n",
    "policies = [Policy('null_policy', **{'3_RfR 0':0,\n",
    "                                  '3_RfR 1':0,\n",
    "                                  '3_RfR 2':0,\n",
    "                                  'A.1_DikeIncrease 0':0,\n",
    "                                  'A.2_DikeIncrease 0':0,\n",
    "                                  'A.3_DikeIncrease 0':0,\n",
    "                                  'A.4_DikeIncrease 0':0,\n",
    "                                  'A.5_DikeIncrease 0':0,\n",
    "                                  'A.1_DikeIncrease 1':0,\n",
    "                                  'A.2_DikeIncrease 1':0,\n",
    "                                  'A.3_DikeIncrease 1':0,\n",
    "                                  'A.4_DikeIncrease 1':0,\n",
    "                                  'A.5_DikeIncrease 1':0,\n",
    "                                  'A.1_DikeIncrease 2':0,\n",
    "                                  'A.2_DikeIncrease 2':0,\n",
    "                                  'A.3_DikeIncrease 2':0,\n",
    "                                  'A.4_DikeIncrease 2':0,\n",
    "                                  'A.5_DikeIncrease 2':0,\n",
    "                                  'EWS_DaysToThreat':0})\n",
    "                ('alpha_random_policy', **{'3_RfR 0':random.randint(0,1),\n",
    "                                  '3_RfR 1':random.randint(0,1),\n",
    "                                  '3_RfR 2':random.randint(0,1),\n",
    "                                  'A.1_DikeIncrease 0':random.randint(0,10),\n",
    "                                  'A.2_DikeIncrease 0':random.randint(0,10),\n",
    "                                  'A.3_DikeIncrease 0':random.randint(0,10),\n",
    "                                  'A.4_DikeIncrease 0':random.randint(0,10),\n",
    "                                  'A.5_DikeIncrease 0':random.randint(0,10),\n",
    "                                  'A.1_DikeIncrease 1':random.randint(0,10),\n",
    "                                  'A.2_DikeIncrease 1':random.randint(0,10),\n",
    "                                  'A.3_DikeIncrease 1':random.randint(0,10),\n",
    "                                  'A.4_DikeIncrease 1':random.randint(0,10),\n",
    "                                  'A.5_DikeIncrease 1':random.randint(0,10),\n",
    "                                  'A.1_DikeIncrease 2':random.randint(0,10),\n",
    "                                  'A.2_DikeIncrease 2':random.randint(0,10),\n",
    "                                  'A.3_DikeIncrease 2':random.randint(0,10),\n",
    "                                  'A.4_DikeIncrease 2':random.randint(0,10),\n",
    "                                  'A.5_DikeIncrease 2':random.randint(0,10),\n",
    "                                  'EWS_DaysToThreat':random.randint(0,15)})\n",
    "                ('beta_random_policy', **{'3_RfR 0':random.randint(0,1),\n",
    "                                  '3_RfR 1':random.randint(0,1),\n",
    "                                  '3_RfR 2':random.randint(0,1),\n",
    "                                  'A.1_DikeIncrease 0':random.randint(0,10),\n",
    "                                  'A.2_DikeIncrease 0':random.randint(0,10),\n",
    "                                  'A.3_DikeIncrease 0':random.randint(0,10),\n",
    "                                  'A.4_DikeIncrease 0':random.randint(0,10),\n",
    "                                  'A.5_DikeIncrease 0':random.randint(0,10),\n",
    "                                  'A.1_DikeIncrease 1':random.randint(0,10),\n",
    "                                  'A.2_DikeIncrease 1':random.randint(0,10),\n",
    "                                  'A.3_DikeIncrease 1':random.randint(0,10),\n",
    "                                  'A.4_DikeIncrease 1':random.randint(0,10),\n",
    "                                  'A.5_DikeIncrease 1':random.randint(0,10),\n",
    "                                  'A.1_DikeIncrease 2':random.randint(0,10),\n",
    "                                  'A.2_DikeIncrease 2':random.randint(0,10),\n",
    "                                  'A.3_DikeIncrease 2':random.randint(0,10),\n",
    "                                  'A.4_DikeIncrease 2':random.randint(0,10),\n",
    "                                  'A.5_DikeIncrease 2':random.randint(0,10),\n",
    "                                  'EWS_DaysToThreat':random.randint(0,15)})\n",
    "                ('gamma_random_policy', **{'3_RfR 0':random.randint(0,1),\n",
    "                                  '3_RfR 1':random.randint(0,1),\n",
    "                                  '3_RfR 2':random.randint(0,1),\n",
    "                                  'A.1_DikeIncrease 0':random.randint(0,10),\n",
    "                                  'A.2_DikeIncrease 0':random.randint(0,10),\n",
    "                                  'A.3_DikeIncrease 0':random.randint(0,10),\n",
    "                                  'A.4_DikeIncrease 0':random.randint(0,10),\n",
    "                                  'A.5_DikeIncrease 0':random.randint(0,10),\n",
    "                                  'A.1_DikeIncrease 1':random.randint(0,10),\n",
    "                                  'A.2_DikeIncrease 1':random.randint(0,10),\n",
    "                                  'A.3_DikeIncrease 1':random.randint(0,10),\n",
    "                                  'A.4_DikeIncrease 1':random.randint(0,10),\n",
    "                                  'A.5_DikeIncrease 1':random.randint(0,10),\n",
    "                                  'A.1_DikeIncrease 2':random.randint(0,10),\n",
    "                                  'A.2_DikeIncrease 2':random.randint(0,10),\n",
    "                                  'A.3_DikeIncrease 2':random.randint(0,10),\n",
    "                                  'A.4_DikeIncrease 2':random.randint(0,10),\n",
    "                                  'A.5_DikeIncrease 2':random.randint(0,10),\n",
    "                                  'EWS_DaysToThreat':random.randint(0,15)})                  \n",
    "                                  ]"
   ]
  },
  {
   "cell_type": "code",
   "execution_count": null,
   "metadata": {},
   "outputs": [],
   "source": [
    "n_scenarios = 5000\n",
    "\n",
    "ema_logging.log_to_stderr(ema_logging.INFO)\n",
    "\n",
    "# Model Imports\n",
    "from dike_model_function import DikeNetwork\n",
    "from problem_formulation import get_model_for_problem_formulation\n",
    "\n",
    "dike_model, time_step = get_model_for_problem_formulation(7)\n",
    " \n",
    "with MultiprocessingEvaluator(dike_model) as evaluator:\n",
    "    experiments, outcomes = evaluator.perform_experiments(scenarios=n_scenarios, policies=policies)"
   ]
  },
  {
   "cell_type": "code",
   "execution_count": null,
   "metadata": {},
   "outputs": [
    {
     "data": {
      "text/plain": [
       "0"
      ]
     },
     "execution_count": 14,
     "metadata": {},
     "output_type": "execute_result"
    }
   ],
   "source": [
    "#Save the results\n",
    "save_results([experiments, outcomes], 'results/10000Scenarios_RandomPolicies_PF7.tar.gz')"
   ]
  }
 ],
 "metadata": {
  "kernelspec": {
   "display_name": "mbdm",
   "language": "python",
   "name": "python3"
  },
  "language_info": {
   "codemirror_mode": {
    "name": "ipython",
    "version": 3
   },
   "file_extension": ".py",
   "mimetype": "text/x-python",
   "name": "python",
   "nbconvert_exporter": "python",
   "pygments_lexer": "ipython3",
   "version": "3.11.3"
  },
  "orig_nbformat": 4
 },
 "nbformat": 4,
 "nbformat_minor": 2
}
