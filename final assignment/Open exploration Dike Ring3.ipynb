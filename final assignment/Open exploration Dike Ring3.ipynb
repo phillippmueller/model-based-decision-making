{
 "cells": [
  {
   "attachments": {},
   "cell_type": "markdown",
   "metadata": {},
   "source": [
    "## Open Exploration"
   ]
  },
  {
   "attachments": {},
   "cell_type": "markdown",
   "metadata": {},
   "source": [
    "Explanation to what we did + table of contents"
   ]
  },
  {
   "attachments": {},
   "cell_type": "markdown",
   "metadata": {},
   "source": [
    "### Import Libraries"
   ]
  },
  {
   "cell_type": "code",
   "execution_count": 1,
   "metadata": {},
   "outputs": [
    {
     "data": {
      "text/plain": [
       "<Logger EMA (DEBUG)>"
      ]
     },
     "execution_count": 1,
     "metadata": {},
     "output_type": "execute_result"
    }
   ],
   "source": [
    "# General libraries\n",
    "import numpy as np\n",
    "import pandas as pd\n",
    "import matplotlib.pyplot as plt\n",
    "import seaborn as sns\n",
    "import copy\n",
    "\n",
    "# Import problem formulation\n",
    "from problem_formulation import get_model_for_problem_formulation\n",
    "\n",
    "# EMA workbench imports\n",
    "from ema_workbench import (Model, Policy, MultiprocessingEvaluator, ScalarOutcome, RealParameter, \n",
    "                           IntegerParameter, CategoricalParameter, optimize, Scenario, \n",
    "                           Constant, SequentialEvaluator)\n",
    "#from ema_workbench.em_framework.evaluators import perform_experiments,LHS, SOBOL, MORRIS, SequentialEvaluator, BaseEvaluator\n",
    "from ema_workbench.em_framework.samplers import sample_uncertainties, sample_levers\n",
    "from ema_workbench.util import ema_logging, save_results, load_results\n",
    "\n",
    "ema_logging.log_to_stderr(ema_logging.INFO)"
   ]
  },
  {
   "attachments": {},
   "cell_type": "markdown",
   "metadata": {},
   "source": [
    "## Worst Case Scenario "
   ]
  },
  {
   "cell_type": "code",
   "execution_count": 2,
   "metadata": {},
   "outputs": [],
   "source": [
    "# define the problem formulation between 0 and 9\n",
    "# Problem formulation 6 is specific to Dike Ring 3\n",
    "dike_model, planning_steps = get_model_for_problem_formulation(6)"
   ]
  },
  {
   "cell_type": "code",
   "execution_count": 3,
   "metadata": {},
   "outputs": [],
   "source": [
    "# Set uncertainties and levers variables\n",
    "uncertainties = copy.deepcopy(dike_model.uncertainties)\n",
    "levers = copy.deepcopy(dike_model.levers)"
   ]
  },
  {
   "cell_type": "code",
   "execution_count": 4,
   "metadata": {},
   "outputs": [],
   "source": [
    "# function to fill empty policy \n",
    "def get_do_nothing_dict():\n",
    "    return {l.name: 0 for l in dike_model.levers}\n",
    "\n",
    "# Create a reference policy where no action is taken\n",
    "null_policy = [Policy('null_policy', **dict(get_do_nothing_dict()))]"
   ]
  },
  {
   "cell_type": "code",
   "execution_count": 5,
   "metadata": {},
   "outputs": [],
   "source": [
    "n_scenarios = 100\n",
    "\n",
    "ema_logging.log_to_stderr(ema_logging.INFO)\n",
    " \n",
    "with MultiprocessingEvaluator(dike_model) as evaluator:\n",
    "    experiments, outcomes = evaluator.perform_experiments(scenarios=n_scenarios, policies=null_policy)"
   ]
  },
  {
   "cell_type": "code",
   "execution_count": null,
   "metadata": {},
   "outputs": [
    {
     "name": "stderr",
     "output_type": "stream",
     "text": [
      "[MainProcess/INFO] results saved successfully to /Users/philipmuller/Documents/GitHub/model-based-decision-making/final assignment/results/10000Scenarios_NullPolicy_PF6.tar.gz\n",
      "[MainProcess/INFO] results loaded successfully from /Users/philipmuller/Documents/GitHub/model-based-decision-making/final assignment/results/10000Scenarios_NullPolicy_PF6.tar.gz\n"
     ]
    }
   ],
   "source": [
    "#Save the results\n",
    "save_results([experiments, outcomes], 'results/10000Scenarios_NullPolicy_PF6.tar.gz')\n",
    "# load the worst case results for further analysis \n",
    "experiments, outcomes = load_results('results/10000Scenarios_NullPolicy_PF6.tar.gz')"
   ]
  },
  {
   "attachments": {},
   "cell_type": "markdown",
   "metadata": {},
   "source": [
    "## Here actual Open exploration shit\n"
   ]
  },
  {
   "attachments": {},
   "cell_type": "markdown",
   "metadata": {},
   "source": [
    "### show that random policy is better than no policy"
   ]
  },
  {
   "cell_type": "code",
   "execution_count": null,
   "metadata": {},
   "outputs": [
    {
     "name": "stdout",
     "output_type": "stream",
     "text": [
      "IntegerParameter('0_RfR 0', 0, 1, resolution=None, default=None, variable_name=['0_RfR 0'], pff=False)\n",
      "IntegerParameter('0_RfR 1', 0, 1, resolution=None, default=None, variable_name=['0_RfR 1'], pff=False)\n",
      "IntegerParameter('0_RfR 2', 0, 1, resolution=None, default=None, variable_name=['0_RfR 2'], pff=False)\n",
      "IntegerParameter('1_RfR 0', 0, 1, resolution=None, default=None, variable_name=['1_RfR 0'], pff=False)\n",
      "IntegerParameter('1_RfR 1', 0, 1, resolution=None, default=None, variable_name=['1_RfR 1'], pff=False)\n",
      "IntegerParameter('1_RfR 2', 0, 1, resolution=None, default=None, variable_name=['1_RfR 2'], pff=False)\n",
      "IntegerParameter('2_RfR 0', 0, 1, resolution=None, default=None, variable_name=['2_RfR 0'], pff=False)\n",
      "IntegerParameter('2_RfR 1', 0, 1, resolution=None, default=None, variable_name=['2_RfR 1'], pff=False)\n",
      "IntegerParameter('2_RfR 2', 0, 1, resolution=None, default=None, variable_name=['2_RfR 2'], pff=False)\n",
      "IntegerParameter('3_RfR 0', 0, 1, resolution=None, default=None, variable_name=['3_RfR 0'], pff=False)\n",
      "IntegerParameter('3_RfR 1', 0, 1, resolution=None, default=None, variable_name=['3_RfR 1'], pff=False)\n",
      "IntegerParameter('3_RfR 2', 0, 1, resolution=None, default=None, variable_name=['3_RfR 2'], pff=False)\n",
      "IntegerParameter('4_RfR 0', 0, 1, resolution=None, default=None, variable_name=['4_RfR 0'], pff=False)\n",
      "IntegerParameter('4_RfR 1', 0, 1, resolution=None, default=None, variable_name=['4_RfR 1'], pff=False)\n",
      "IntegerParameter('4_RfR 2', 0, 1, resolution=None, default=None, variable_name=['4_RfR 2'], pff=False)\n",
      "IntegerParameter('EWS_DaysToThreat', 0, 4, resolution=None, default=None, variable_name=['EWS_DaysToThreat'], pff=False)\n",
      "IntegerParameter('A.1_DikeIncrease 0', 0, 10, resolution=None, default=None, variable_name=['A.1_DikeIncrease 0'], pff=False)\n",
      "IntegerParameter('A.1_DikeIncrease 1', 0, 10, resolution=None, default=None, variable_name=['A.1_DikeIncrease 1'], pff=False)\n",
      "IntegerParameter('A.1_DikeIncrease 2', 0, 10, resolution=None, default=None, variable_name=['A.1_DikeIncrease 2'], pff=False)\n",
      "IntegerParameter('A.2_DikeIncrease 0', 0, 10, resolution=None, default=None, variable_name=['A.2_DikeIncrease 0'], pff=False)\n",
      "IntegerParameter('A.2_DikeIncrease 1', 0, 10, resolution=None, default=None, variable_name=['A.2_DikeIncrease 1'], pff=False)\n",
      "IntegerParameter('A.2_DikeIncrease 2', 0, 10, resolution=None, default=None, variable_name=['A.2_DikeIncrease 2'], pff=False)\n",
      "IntegerParameter('A.3_DikeIncrease 0', 0, 10, resolution=None, default=None, variable_name=['A.3_DikeIncrease 0'], pff=False)\n",
      "IntegerParameter('A.3_DikeIncrease 1', 0, 10, resolution=None, default=None, variable_name=['A.3_DikeIncrease 1'], pff=False)\n",
      "IntegerParameter('A.3_DikeIncrease 2', 0, 10, resolution=None, default=None, variable_name=['A.3_DikeIncrease 2'], pff=False)\n",
      "IntegerParameter('A.4_DikeIncrease 0', 0, 10, resolution=None, default=None, variable_name=['A.4_DikeIncrease 0'], pff=False)\n",
      "IntegerParameter('A.4_DikeIncrease 1', 0, 10, resolution=None, default=None, variable_name=['A.4_DikeIncrease 1'], pff=False)\n",
      "IntegerParameter('A.4_DikeIncrease 2', 0, 10, resolution=None, default=None, variable_name=['A.4_DikeIncrease 2'], pff=False)\n",
      "IntegerParameter('A.5_DikeIncrease 0', 0, 10, resolution=None, default=None, variable_name=['A.5_DikeIncrease 0'], pff=False)\n",
      "IntegerParameter('A.5_DikeIncrease 1', 0, 10, resolution=None, default=None, variable_name=['A.5_DikeIncrease 1'], pff=False)\n",
      "IntegerParameter('A.5_DikeIncrease 2', 0, 10, resolution=None, default=None, variable_name=['A.5_DikeIncrease 2'], pff=False)\n"
     ]
    }
   ],
   "source": [
    "# get the value ranges for policies \n",
    "for policy in dike_model.levers:\n",
    "    print(repr(policy))"
   ]
  },
  {
   "cell_type": "code",
   "execution_count": null,
   "metadata": {},
   "outputs": [
    {
     "data": {
      "text/plain": [
       "\"                Policy('beta_random_policy', **{'3_RfR 0':random.randint(0,1),\\n                                  '3_RfR 1':random.randint(0,1),\\n                                  '3_RfR 2':random.randint(0,1),\\n                                  'A.1_DikeIncrease 0':random.randint(0,10),\\n                                  'A.2_DikeIncrease 0':random.randint(0,10),\\n                                  'A.3_DikeIncrease 0':random.randint(0,10),\\n                                  'A.4_DikeIncrease 0':random.randint(0,10),\\n                                  'A.5_DikeIncrease 0':random.randint(0,10),\\n                                  'A.1_DikeIncrease 1':random.randint(0,10),\\n                                  'A.2_DikeIncrease 1':random.randint(0,10),\\n                                  'A.3_DikeIncrease 1':random.randint(0,10),\\n                                  'A.4_DikeIncrease 1':random.randint(0,10),\\n                                  'A.5_DikeIncrease 1':random.randint(0,10),\\n                                  'A.1_DikeIncrease 2':random.randint(0,10),\\n                                  'A.2_DikeIncrease 2':random.randint(0,10),\\n                                  'A.3_DikeIncrease 2':random.randint(0,10),\\n                                  'A.4_DikeIncrease 2':random.randint(0,10),\\n                                  'A.5_DikeIncrease 2':random.randint(0,10),\\n                                  'EWS_DaysToThreat':random.randint(0,4)}),\\n                Policy('gamma_random_policy', **{'3_RfR 0':random.randint(0,1),\\n                                  '3_RfR 1':random.randint(0,1),\\n                                  '3_RfR 2':random.randint(0,1),\\n                                  'A.1_DikeIncrease 0':random.randint(0,10),\\n                                  'A.2_DikeIncrease 0':random.randint(0,10),\\n                                  'A.3_DikeIncrease 0':random.randint(0,10),\\n                                  'A.4_DikeIncrease 0':random.randint(0,10),\\n                                  'A.5_DikeIncrease 0':random.randint(0,10),\\n                                  'A.1_DikeIncrease 1':random.randint(0,10),\\n                                  'A.2_DikeIncrease 1':random.randint(0,10),\\n                                  'A.3_DikeIncrease 1':random.randint(0,10),\\n                                  'A.4_DikeIncrease 1':random.randint(0,10),\\n                                  'A.5_DikeIncrease 1':random.randint(0,10),\\n                                  'A.1_DikeIncrease 2':random.randint(0,10),\\n                                  'A.2_DikeIncrease 2':random.randint(0,10),\\n                                  'A.3_DikeIncrease 2':random.randint(0,10),\\n                                  'A.4_DikeIncrease 2':random.randint(0,10),\\n                                  'A.5_DikeIncrease 2':random.randint(0,10),\\n                                  'EWS_DaysToThreat':random.randint(0,4)})                  \\n                                  ]\""
      ]
     },
     "execution_count": 8,
     "metadata": {},
     "output_type": "execute_result"
    }
   ],
   "source": [
    "# Create a policy where action is taken randomly\n",
    "# compare the performance of that policy to the previously computed null_policy\n",
    "import random # for randomly deciding to switch policy on/ off\n",
    "\n",
    "random_policies = [Policy('alpha_random_policy', **{'3_RfR 0':random.randint(0,1),\n",
    "                                  '3_RfR 1':random.randint(0,1),\n",
    "                                  '3_RfR 2':random.randint(0,1),\n",
    "                                  'A.1_DikeIncrease 0':random.randint(0,10),\n",
    "                                  'A.2_DikeIncrease 0':random.randint(0,10),\n",
    "                                  'A.3_DikeIncrease 0':random.randint(0,10),\n",
    "                                  'A.4_DikeIncrease 0':random.randint(0,10),\n",
    "                                  'A.5_DikeIncrease 0':random.randint(0,10),\n",
    "                                  'A.1_DikeIncrease 1':random.randint(0,10),\n",
    "                                  'A.2_DikeIncrease 1':random.randint(0,10),\n",
    "                                  'A.3_DikeIncrease 1':random.randint(0,10),\n",
    "                                  'A.4_DikeIncrease 1':random.randint(0,10),\n",
    "                                  'A.5_DikeIncrease 1':random.randint(0,10),\n",
    "                                  'A.1_DikeIncrease 2':random.randint(0,10),\n",
    "                                  'A.2_DikeIncrease 2':random.randint(0,10),\n",
    "                                  'A.3_DikeIncrease 2':random.randint(0,10),\n",
    "                                  'A.4_DikeIncrease 2':random.randint(0,10),\n",
    "                                  'A.5_DikeIncrease 2':random.randint(0,10),\n",
    "                                  'EWS_DaysToThreat':random.randint(0,4)})]\n",
    "\n",
    "'''                Policy('beta_random_policy', **{'3_RfR 0':random.randint(0,1),\n",
    "                                  '3_RfR 1':random.randint(0,1),\n",
    "                                  '3_RfR 2':random.randint(0,1),\n",
    "                                  'A.1_DikeIncrease 0':random.randint(0,10),\n",
    "                                  'A.2_DikeIncrease 0':random.randint(0,10),\n",
    "                                  'A.3_DikeIncrease 0':random.randint(0,10),\n",
    "                                  'A.4_DikeIncrease 0':random.randint(0,10),\n",
    "                                  'A.5_DikeIncrease 0':random.randint(0,10),\n",
    "                                  'A.1_DikeIncrease 1':random.randint(0,10),\n",
    "                                  'A.2_DikeIncrease 1':random.randint(0,10),\n",
    "                                  'A.3_DikeIncrease 1':random.randint(0,10),\n",
    "                                  'A.4_DikeIncrease 1':random.randint(0,10),\n",
    "                                  'A.5_DikeIncrease 1':random.randint(0,10),\n",
    "                                  'A.1_DikeIncrease 2':random.randint(0,10),\n",
    "                                  'A.2_DikeIncrease 2':random.randint(0,10),\n",
    "                                  'A.3_DikeIncrease 2':random.randint(0,10),\n",
    "                                  'A.4_DikeIncrease 2':random.randint(0,10),\n",
    "                                  'A.5_DikeIncrease 2':random.randint(0,10),\n",
    "                                  'EWS_DaysToThreat':random.randint(0,4)}),\n",
    "                Policy('gamma_random_policy', **{'3_RfR 0':random.randint(0,1),\n",
    "                                  '3_RfR 1':random.randint(0,1),\n",
    "                                  '3_RfR 2':random.randint(0,1),\n",
    "                                  'A.1_DikeIncrease 0':random.randint(0,10),\n",
    "                                  'A.2_DikeIncrease 0':random.randint(0,10),\n",
    "                                  'A.3_DikeIncrease 0':random.randint(0,10),\n",
    "                                  'A.4_DikeIncrease 0':random.randint(0,10),\n",
    "                                  'A.5_DikeIncrease 0':random.randint(0,10),\n",
    "                                  'A.1_DikeIncrease 1':random.randint(0,10),\n",
    "                                  'A.2_DikeIncrease 1':random.randint(0,10),\n",
    "                                  'A.3_DikeIncrease 1':random.randint(0,10),\n",
    "                                  'A.4_DikeIncrease 1':random.randint(0,10),\n",
    "                                  'A.5_DikeIncrease 1':random.randint(0,10),\n",
    "                                  'A.1_DikeIncrease 2':random.randint(0,10),\n",
    "                                  'A.2_DikeIncrease 2':random.randint(0,10),\n",
    "                                  'A.3_DikeIncrease 2':random.randint(0,10),\n",
    "                                  'A.4_DikeIncrease 2':random.randint(0,10),\n",
    "                                  'A.5_DikeIncrease 2':random.randint(0,10),\n",
    "                                  'EWS_DaysToThreat':random.randint(0,4)})                  \n",
    "                                  ]'''"
   ]
  },
  {
   "cell_type": "code",
   "execution_count": null,
   "metadata": {},
   "outputs": [
    {
     "name": "stderr",
     "output_type": "stream",
     "text": [
      "[MainProcess/INFO] pool started with 8 workers\n",
      "[MainProcess/INFO] performing 100 scenarios * 1 policies * 1 model(s) = 100 experiments\n",
      "100%|████████████████████████████████████████| 100/100 [00:14<00:00,  6.84it/s]\n",
      "[MainProcess/INFO] experiments finished\n",
      "[MainProcess/INFO] terminating pool\n"
     ]
    }
   ],
   "source": [
    "n_scenarios = 100\n",
    "\n",
    "ema_logging.log_to_stderr(ema_logging.INFO)\n",
    " \n",
    "with MultiprocessingEvaluator(dike_model) as evaluator:\n",
    "    random_experiments, random_outcomes = evaluator.perform_experiments(scenarios=n_scenarios, policies=1)"
   ]
  },
  {
   "cell_type": "code",
   "execution_count": null,
   "metadata": {},
   "outputs": [
    {
     "name": "stderr",
     "output_type": "stream",
     "text": [
      "[MainProcess/INFO] results saved successfully to /Users/philipmuller/Documents/GitHub/model-based-decision-making/final assignment/results/10000Scenarios_RandomPolicy_PF6.tar.gz\n",
      "[MainProcess/INFO] results loaded successfully from /Users/philipmuller/Documents/GitHub/model-based-decision-making/final assignment/results/10000Scenarios_RandomPolicy_PF6.tar.gz\n"
     ]
    }
   ],
   "source": [
    "#Save the results\n",
    "save_results([random_experiments, random_outcomes], 'results/10000Scenarios_RandomPolicy_PF6.tar.gz')\n",
    "# load the worst case results for further analysis \n",
    "random_experiments, random_outcomes = load_results('results/10000Scenarios_RandomPolicy_PF6.tar.gz')"
   ]
  },
  {
   "cell_type": "code",
   "execution_count": null,
   "metadata": {},
   "outputs": [],
   "source": [
    "random_outcomes = pd.DataFrame(random_outcomes).drop(columns=['A.1_Dike Investment Costs',\n",
    "                                                              'A.2_Dike Investment Costs',\n",
    "                                                              'A.3_Dike Investment Costs',\n",
    "                                                              'A.4_Dike Investment Costs',\n",
    "                                                              'A.5_Dike Investment Costs',\n",
    "                                                              'RfR Total Costs',\n",
    "                                                              'Expected Evacuation Costs'])\n",
    "\n",
    "# put outcomes from null_policy into similar format\n",
    "outcomes = pd.DataFrame(outcomes).drop(columns=['A.1_Dike Investment Costs',\n",
    "                                                              'A.2_Dike Investment Costs',\n",
    "                                                              'A.3_Dike Investment Costs',\n",
    "                                                              'A.4_Dike Investment Costs',\n",
    "                                                              'A.5_Dike Investment Costs',\n",
    "                                                              'RfR Total Costs',\n",
    "                                                              'Expected Evacuation Costs'])"
   ]
  },
  {
   "cell_type": "code",
   "execution_count": null,
   "metadata": {},
   "outputs": [],
   "source": [
    "# statistical tests and heatmap of p_values\n",
    "from scipy.stats import normaltest, mannwhitneyu, ttest_ind\n",
    "\n",
    "# test for normal distribution. If test fails, use non-parametric test of central tendency \n",
    "for col in outcomes.columns: \n",
    "    statistic, p_value = normaltest(outcomes[col])\n",
    "    if p_value >= .05: \n",
    "        print(f'normaltest failed for {col} with p={p_value}')\n",
    "    \n",
    "for col in random_outcomes.columns:\n",
    "    statistic, p_value = normaltest(random_outcomes[col])\n",
    "    if p_value >= 0.05:    \n",
    "        print(f'normaltest failed for {col} with p={p_value}')"
   ]
  },
  {
   "cell_type": "code",
   "execution_count": null,
   "metadata": {},
   "outputs": [
    {
     "data": {
      "text/html": [
       "<div>\n",
       "<style scoped>\n",
       "    .dataframe tbody tr th:only-of-type {\n",
       "        vertical-align: middle;\n",
       "    }\n",
       "\n",
       "    .dataframe tbody tr th {\n",
       "        vertical-align: top;\n",
       "    }\n",
       "\n",
       "    .dataframe thead th {\n",
       "        text-align: right;\n",
       "    }\n",
       "</style>\n",
       "<table border=\"1\" class=\"dataframe\">\n",
       "  <thead>\n",
       "    <tr style=\"text-align: right;\">\n",
       "      <th></th>\n",
       "      <th>A.1_Expected Annual Damage</th>\n",
       "      <th>A.1_Expected Number of Deaths</th>\n",
       "      <th>A.2_Expected Annual Damage</th>\n",
       "      <th>A.2_Expected Number of Deaths</th>\n",
       "      <th>A.3_Expected Annual Damage</th>\n",
       "      <th>A.3_Expected Number of Deaths</th>\n",
       "      <th>A.4_Expected Annual Damage</th>\n",
       "      <th>A.4_Expected Number of Deaths</th>\n",
       "      <th>A.5_Expected Annual Damage</th>\n",
       "      <th>A.5_Expected Number of Deaths</th>\n",
       "    </tr>\n",
       "  </thead>\n",
       "  <tbody>\n",
       "    <tr>\n",
       "      <th>p_value</th>\n",
       "      <td>NaN</td>\n",
       "      <td>NaN</td>\n",
       "      <td>NaN</td>\n",
       "      <td>NaN</td>\n",
       "      <td>NaN</td>\n",
       "      <td>NaN</td>\n",
       "      <td>NaN</td>\n",
       "      <td>NaN</td>\n",
       "      <td>NaN</td>\n",
       "      <td>NaN</td>\n",
       "    </tr>\n",
       "  </tbody>\n",
       "</table>\n",
       "</div>"
      ],
      "text/plain": [
       "         A.1_Expected Annual Damage  A.1_Expected Number of Deaths  \\\n",
       "p_value                         NaN                            NaN   \n",
       "\n",
       "         A.2_Expected Annual Damage  A.2_Expected Number of Deaths  \\\n",
       "p_value                         NaN                            NaN   \n",
       "\n",
       "         A.3_Expected Annual Damage  A.3_Expected Number of Deaths  \\\n",
       "p_value                         NaN                            NaN   \n",
       "\n",
       "         A.4_Expected Annual Damage  A.4_Expected Number of Deaths  \\\n",
       "p_value                         NaN                            NaN   \n",
       "\n",
       "         A.5_Expected Annual Damage  A.5_Expected Number of Deaths  \n",
       "p_value                         NaN                            NaN  "
      ]
     },
     "execution_count": 18,
     "metadata": {},
     "output_type": "execute_result"
    }
   ],
   "source": [
    "p = pd.DataFrame(columns=outcomes.columns, index=['p_value'])\n",
    "for col in p.columns: \n",
    "    statistic, p_value = ttest_ind(outcomes[col], random_outcomes[col])\n",
    "    p[col] = p_value\n",
    "p"
   ]
  },
  {
   "attachments": {},
   "cell_type": "markdown",
   "metadata": {},
   "source": [
    "### Here we could do a first visual analysis if we want"
   ]
  },
  {
   "attachments": {},
   "cell_type": "markdown",
   "metadata": {},
   "source": [
    "## PRIM"
   ]
  },
  {
   "cell_type": "code",
   "execution_count": null,
   "metadata": {},
   "outputs": [
    {
     "data": {
      "text/html": [
       "<div>\n",
       "<style scoped>\n",
       "    .dataframe tbody tr th:only-of-type {\n",
       "        vertical-align: middle;\n",
       "    }\n",
       "\n",
       "    .dataframe tbody tr th {\n",
       "        vertical-align: top;\n",
       "    }\n",
       "\n",
       "    .dataframe thead th {\n",
       "        text-align: right;\n",
       "    }\n",
       "</style>\n",
       "<table border=\"1\" class=\"dataframe\">\n",
       "  <thead>\n",
       "    <tr style=\"text-align: right;\">\n",
       "      <th></th>\n",
       "      <th>A.1_Expected Annual Damage</th>\n",
       "      <th>A.1_Expected Number of Deaths</th>\n",
       "      <th>A.2_Expected Annual Damage</th>\n",
       "      <th>A.2_Expected Number of Deaths</th>\n",
       "      <th>A.3_Expected Annual Damage</th>\n",
       "      <th>A.3_Expected Number of Deaths</th>\n",
       "      <th>A.4_Expected Annual Damage</th>\n",
       "      <th>A.4_Expected Number of Deaths</th>\n",
       "      <th>A.5_Expected Annual Damage</th>\n",
       "      <th>A.5_Expected Number of Deaths</th>\n",
       "    </tr>\n",
       "  </thead>\n",
       "  <tbody>\n",
       "    <tr>\n",
       "      <th>0</th>\n",
       "      <td>0</td>\n",
       "      <td>0</td>\n",
       "      <td>0</td>\n",
       "      <td>0</td>\n",
       "      <td>0</td>\n",
       "      <td>0</td>\n",
       "      <td>0</td>\n",
       "      <td>0</td>\n",
       "      <td>0</td>\n",
       "      <td>0</td>\n",
       "    </tr>\n",
       "    <tr>\n",
       "      <th>1</th>\n",
       "      <td>0</td>\n",
       "      <td>0</td>\n",
       "      <td>0</td>\n",
       "      <td>0</td>\n",
       "      <td>0</td>\n",
       "      <td>0</td>\n",
       "      <td>0</td>\n",
       "      <td>0</td>\n",
       "      <td>0</td>\n",
       "      <td>0</td>\n",
       "    </tr>\n",
       "    <tr>\n",
       "      <th>2</th>\n",
       "      <td>0</td>\n",
       "      <td>0</td>\n",
       "      <td>0</td>\n",
       "      <td>0</td>\n",
       "      <td>0</td>\n",
       "      <td>0</td>\n",
       "      <td>0</td>\n",
       "      <td>0</td>\n",
       "      <td>0</td>\n",
       "      <td>0</td>\n",
       "    </tr>\n",
       "    <tr>\n",
       "      <th>3</th>\n",
       "      <td>0</td>\n",
       "      <td>0</td>\n",
       "      <td>0</td>\n",
       "      <td>0</td>\n",
       "      <td>0</td>\n",
       "      <td>0</td>\n",
       "      <td>0</td>\n",
       "      <td>0</td>\n",
       "      <td>0</td>\n",
       "      <td>0</td>\n",
       "    </tr>\n",
       "    <tr>\n",
       "      <th>4</th>\n",
       "      <td>0</td>\n",
       "      <td>0</td>\n",
       "      <td>0</td>\n",
       "      <td>0</td>\n",
       "      <td>0</td>\n",
       "      <td>0</td>\n",
       "      <td>0</td>\n",
       "      <td>0</td>\n",
       "      <td>0</td>\n",
       "      <td>0</td>\n",
       "    </tr>\n",
       "    <tr>\n",
       "      <th>...</th>\n",
       "      <td>...</td>\n",
       "      <td>...</td>\n",
       "      <td>...</td>\n",
       "      <td>...</td>\n",
       "      <td>...</td>\n",
       "      <td>...</td>\n",
       "      <td>...</td>\n",
       "      <td>...</td>\n",
       "      <td>...</td>\n",
       "      <td>...</td>\n",
       "    </tr>\n",
       "    <tr>\n",
       "      <th>95</th>\n",
       "      <td>0</td>\n",
       "      <td>0</td>\n",
       "      <td>0</td>\n",
       "      <td>0</td>\n",
       "      <td>0</td>\n",
       "      <td>0</td>\n",
       "      <td>0</td>\n",
       "      <td>0</td>\n",
       "      <td>0</td>\n",
       "      <td>0</td>\n",
       "    </tr>\n",
       "    <tr>\n",
       "      <th>96</th>\n",
       "      <td>0</td>\n",
       "      <td>0</td>\n",
       "      <td>0</td>\n",
       "      <td>0</td>\n",
       "      <td>0</td>\n",
       "      <td>0</td>\n",
       "      <td>0</td>\n",
       "      <td>0</td>\n",
       "      <td>0</td>\n",
       "      <td>0</td>\n",
       "    </tr>\n",
       "    <tr>\n",
       "      <th>97</th>\n",
       "      <td>0</td>\n",
       "      <td>0</td>\n",
       "      <td>0</td>\n",
       "      <td>0</td>\n",
       "      <td>0</td>\n",
       "      <td>0</td>\n",
       "      <td>0</td>\n",
       "      <td>0</td>\n",
       "      <td>0</td>\n",
       "      <td>0</td>\n",
       "    </tr>\n",
       "    <tr>\n",
       "      <th>98</th>\n",
       "      <td>0</td>\n",
       "      <td>0</td>\n",
       "      <td>0</td>\n",
       "      <td>0</td>\n",
       "      <td>0</td>\n",
       "      <td>0</td>\n",
       "      <td>0</td>\n",
       "      <td>0</td>\n",
       "      <td>0</td>\n",
       "      <td>0</td>\n",
       "    </tr>\n",
       "    <tr>\n",
       "      <th>99</th>\n",
       "      <td>0</td>\n",
       "      <td>0</td>\n",
       "      <td>0</td>\n",
       "      <td>0</td>\n",
       "      <td>0</td>\n",
       "      <td>0</td>\n",
       "      <td>0</td>\n",
       "      <td>0</td>\n",
       "      <td>0</td>\n",
       "      <td>0</td>\n",
       "    </tr>\n",
       "  </tbody>\n",
       "</table>\n",
       "<p>100 rows × 10 columns</p>\n",
       "</div>"
      ],
      "text/plain": [
       "    A.1_Expected Annual Damage  A.1_Expected Number of Deaths  \\\n",
       "0                            0                              0   \n",
       "1                            0                              0   \n",
       "2                            0                              0   \n",
       "3                            0                              0   \n",
       "4                            0                              0   \n",
       "..                         ...                            ...   \n",
       "95                           0                              0   \n",
       "96                           0                              0   \n",
       "97                           0                              0   \n",
       "98                           0                              0   \n",
       "99                           0                              0   \n",
       "\n",
       "    A.2_Expected Annual Damage  A.2_Expected Number of Deaths  \\\n",
       "0                            0                              0   \n",
       "1                            0                              0   \n",
       "2                            0                              0   \n",
       "3                            0                              0   \n",
       "4                            0                              0   \n",
       "..                         ...                            ...   \n",
       "95                           0                              0   \n",
       "96                           0                              0   \n",
       "97                           0                              0   \n",
       "98                           0                              0   \n",
       "99                           0                              0   \n",
       "\n",
       "    A.3_Expected Annual Damage  A.3_Expected Number of Deaths  \\\n",
       "0                            0                              0   \n",
       "1                            0                              0   \n",
       "2                            0                              0   \n",
       "3                            0                              0   \n",
       "4                            0                              0   \n",
       "..                         ...                            ...   \n",
       "95                           0                              0   \n",
       "96                           0                              0   \n",
       "97                           0                              0   \n",
       "98                           0                              0   \n",
       "99                           0                              0   \n",
       "\n",
       "    A.4_Expected Annual Damage  A.4_Expected Number of Deaths  \\\n",
       "0                            0                              0   \n",
       "1                            0                              0   \n",
       "2                            0                              0   \n",
       "3                            0                              0   \n",
       "4                            0                              0   \n",
       "..                         ...                            ...   \n",
       "95                           0                              0   \n",
       "96                           0                              0   \n",
       "97                           0                              0   \n",
       "98                           0                              0   \n",
       "99                           0                              0   \n",
       "\n",
       "    A.5_Expected Annual Damage  A.5_Expected Number of Deaths  \n",
       "0                            0                              0  \n",
       "1                            0                              0  \n",
       "2                            0                              0  \n",
       "3                            0                              0  \n",
       "4                            0                              0  \n",
       "..                         ...                            ...  \n",
       "95                           0                              0  \n",
       "96                           0                              0  \n",
       "97                           0                              0  \n",
       "98                           0                              0  \n",
       "99                           0                              0  \n",
       "\n",
       "[100 rows x 10 columns]"
      ]
     },
     "execution_count": 25,
     "metadata": {},
     "output_type": "execute_result"
    }
   ],
   "source": [
    "random_outcomes"
   ]
  },
  {
   "cell_type": "code",
   "execution_count": null,
   "metadata": {},
   "outputs": [
    {
     "ename": "AssertionError",
     "evalue": "",
     "output_type": "error",
     "traceback": [
      "\u001b[0;31m---------------------------------------------------------------------------\u001b[0m",
      "\u001b[0;31mAssertionError\u001b[0m                            Traceback (most recent call last)",
      "Cell \u001b[0;32mIn[26], line 10\u001b[0m\n\u001b[1;32m      7\u001b[0m y_limit \u001b[39m=\u001b[39m np\u001b[39m.\u001b[39mquantile(outcome, \u001b[39m0.9\u001b[39m) \u001b[39m# Setting output bound to be 90th percentile \u001b[39;00m\n\u001b[1;32m      8\u001b[0m y \u001b[39m=\u001b[39m np\u001b[39m.\u001b[39marray([v \u001b[39m>\u001b[39m y_limit \u001b[39mfor\u001b[39;00m v \u001b[39min\u001b[39;00m outcome]) \u001b[39m# Only select outputs that are above this threshold\u001b[39;00m\n\u001b[0;32m---> 10\u001b[0m prim_alg \u001b[39m=\u001b[39m prim\u001b[39m.\u001b[39mPrim(x, y, threshold\u001b[39m=\u001b[39m\u001b[39m0.8\u001b[39m) \u001b[39m# run PRIM on bound=0.8\u001b[39;00m\n\u001b[1;32m     11\u001b[0m box1 \u001b[39m=\u001b[39m prim_alg\u001b[39m.\u001b[39mfind_box()\n",
      "File \u001b[0;32m~/opt/anaconda3/envs/mbdm/lib/python3.11/site-packages/ema_workbench/analysis/prim.py:979\u001b[0m, in \u001b[0;36mPrim.__init__\u001b[0;34m(self, x, y, threshold, obj_function, peel_alpha, paste_alpha, mass_min, threshold_type, mode, update_function)\u001b[0m\n\u001b[1;32m    965\u001b[0m \u001b[39mdef\u001b[39;00m \u001b[39m__init__\u001b[39m(\n\u001b[1;32m    966\u001b[0m     \u001b[39mself\u001b[39m,\n\u001b[1;32m    967\u001b[0m     x,\n\u001b[0;32m   (...)\u001b[0m\n\u001b[1;32m    976\u001b[0m     update_function\u001b[39m=\u001b[39m\u001b[39m\"\u001b[39m\u001b[39mdefault\u001b[39m\u001b[39m\"\u001b[39m,\n\u001b[1;32m    977\u001b[0m ):\n\u001b[1;32m    978\u001b[0m     \u001b[39massert\u001b[39;00m mode \u001b[39min\u001b[39;00m {sdutil\u001b[39m.\u001b[39mRuleInductionType\u001b[39m.\u001b[39mBINARY, sdutil\u001b[39m.\u001b[39mRuleInductionType\u001b[39m.\u001b[39mREGRESSION}\n\u001b[0;32m--> 979\u001b[0m     \u001b[39massert\u001b[39;00m \u001b[39mself\u001b[39m\u001b[39m.\u001b[39m_assert_mode(y, mode, update_function)\n\u001b[1;32m    980\u001b[0m     \u001b[39m# preprocess x\u001b[39;00m\n\u001b[1;32m    981\u001b[0m     x \u001b[39m=\u001b[39m x\u001b[39m.\u001b[39mcopy()\n",
      "\u001b[0;31mAssertionError\u001b[0m: "
     ]
    }
   ],
   "source": [
    "from ema_workbench.analysis import prim\n",
    "\n",
    "# Set the output to the category that we are interested in for this run\n",
    "outcome = random_outcomes['A.3_Expected Number of Deaths']\n",
    "\n",
    "x = random_experiments\n",
    "y_limit = np.quantile(outcome, 0.9) # Setting output bound to be 90th percentile \n",
    "y = np.array([v > y_limit for v in outcome]) # Only select outputs that are above this threshold\n",
    "\n",
    "prim_alg = prim.Prim(x, y, threshold=0.8) # run PRIM on bound=0.8\n",
    "box1 = prim_alg.find_box() # Get the box that prim found for us"
   ]
  },
  {
   "cell_type": "code",
   "execution_count": null,
   "metadata": {},
   "outputs": [
    {
     "ename": "NameError",
     "evalue": "name 'box1' is not defined",
     "output_type": "error",
     "traceback": [
      "\u001b[0;31m---------------------------------------------------------------------------\u001b[0m",
      "\u001b[0;31mNameError\u001b[0m                                 Traceback (most recent call last)",
      "Cell \u001b[0;32mIn[21], line 2\u001b[0m\n\u001b[1;32m      1\u001b[0m \u001b[39m# Show the peeling graph for this prim analysis\u001b[39;00m\n\u001b[0;32m----> 2\u001b[0m box1\u001b[39m.\u001b[39mshow_tradeoff()\n\u001b[1;32m      3\u001b[0m plt\u001b[39m.\u001b[39mshow()\n",
      "\u001b[0;31mNameError\u001b[0m: name 'box1' is not defined"
     ]
    }
   ],
   "source": [
    "# Show the peeling graph for this prim analysis\n",
    "box1.show_tradeoff()\n",
    "plt.show()"
   ]
  },
  {
   "cell_type": "code",
   "execution_count": null,
   "metadata": {},
   "outputs": [
    {
     "ename": "NameError",
     "evalue": "name 'box1' is not defined",
     "output_type": "error",
     "traceback": [
      "\u001b[0;31m---------------------------------------------------------------------------\u001b[0m",
      "\u001b[0;31mNameError\u001b[0m                                 Traceback (most recent call last)",
      "Cell \u001b[0;32mIn[22], line 2\u001b[0m\n\u001b[1;32m      1\u001b[0m \u001b[39m# Show scatter plots for this prim analysis\u001b[39;00m\n\u001b[0;32m----> 2\u001b[0m box1\u001b[39m.\u001b[39mshow_pairs_scatter()\n\u001b[1;32m      3\u001b[0m plt\u001b[39m.\u001b[39mshow()\n",
      "\u001b[0;31mNameError\u001b[0m: name 'box1' is not defined"
     ]
    }
   ],
   "source": [
    "# Show scatter plots for this prim analysis\n",
    "box1.show_pairs_scatter()\n",
    "plt.show()"
   ]
  },
  {
   "cell_type": "code",
   "execution_count": null,
   "metadata": {},
   "outputs": [
    {
     "ename": "NameError",
     "evalue": "name 'x' is not defined",
     "output_type": "error",
     "traceback": [
      "\u001b[0;31m---------------------------------------------------------------------------\u001b[0m",
      "\u001b[0;31mNameError\u001b[0m                                 Traceback (most recent call last)",
      "Cell \u001b[0;32mIn[23], line 4\u001b[0m\n\u001b[1;32m      1\u001b[0m \u001b[39m# Do dimensional stacking of results\u001b[39;00m\n\u001b[1;32m      2\u001b[0m \u001b[39mfrom\u001b[39;00m \u001b[39mema_workbench\u001b[39;00m\u001b[39m.\u001b[39;00m\u001b[39manalysis\u001b[39;00m \u001b[39mimport\u001b[39;00m dimensional_stacking\n\u001b[0;32m----> 4\u001b[0m dimensional_stacking\u001b[39m.\u001b[39mcreate_pivot_plot(x, y, \u001b[39m2\u001b[39m, nbins\u001b[39m=\u001b[39m\u001b[39m5\u001b[39m)\n\u001b[1;32m      5\u001b[0m plt\u001b[39m.\u001b[39mshow()\n",
      "\u001b[0;31mNameError\u001b[0m: name 'x' is not defined"
     ]
    }
   ],
   "source": [
    "# Do dimensional stacking of results\n",
    "from ema_workbench.analysis import dimensional_stacking\n",
    "\n",
    "dimensional_stacking.create_pivot_plot(x, y, 2, nbins=5)\n",
    "plt.show()"
   ]
  },
  {
   "cell_type": "code",
   "execution_count": null,
   "metadata": {},
   "outputs": [],
   "source": []
  }
 ],
 "metadata": {
  "kernelspec": {
   "display_name": "mbdm",
   "language": "python",
   "name": "python3"
  },
  "language_info": {
   "codemirror_mode": {
    "name": "ipython",
    "version": 3
   },
   "file_extension": ".py",
   "mimetype": "text/x-python",
   "name": "python",
   "nbconvert_exporter": "python",
   "pygments_lexer": "ipython3",
   "version": "3.9.15"
  },
  "orig_nbformat": 4
 },
 "nbformat": 4,
 "nbformat_minor": 2
}
