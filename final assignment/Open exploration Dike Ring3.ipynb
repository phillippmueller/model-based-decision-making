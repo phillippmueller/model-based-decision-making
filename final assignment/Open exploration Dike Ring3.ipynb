{
 "cells": [
  {
   "attachments": {},
   "cell_type": "markdown",
   "metadata": {},
   "source": [
    "## Open Exploration"
   ]
  },
  {
   "attachments": {},
   "cell_type": "markdown",
   "metadata": {},
   "source": [
    "Explanation to what we did + table of contents"
   ]
  },
  {
   "attachments": {},
   "cell_type": "markdown",
   "metadata": {},
   "source": [
    "### Import Libraries"
   ]
  },
  {
   "cell_type": "code",
   "execution_count": 2,
   "metadata": {},
   "outputs": [
    {
     "data": {
      "text/plain": [
       "<Logger EMA (DEBUG)>"
      ]
     },
     "execution_count": 2,
     "metadata": {},
     "output_type": "execute_result"
    }
   ],
   "source": [
    "# General libraries\n",
    "import numpy as np\n",
    "import pandas as pd\n",
    "import matplotlib.pyplot as plt\n",
    "import seaborn as sns\n",
    "import copy\n",
    "\n",
    "# Import problem formulation\n",
    "from problem_formulation import get_model_for_problem_formulation\n",
    "\n",
    "# EMA workbench imports\n",
    "from ema_workbench import (Model, Policy, MultiprocessingEvaluator, ScalarOutcome, RealParameter, \n",
    "                           IntegerParameter, CategoricalParameter, optimize, Scenario, \n",
    "                           Constant, SequentialEvaluator)\n",
    "#from ema_workbench.em_framework.evaluators import perform_experiments,LHS, SOBOL, MORRIS, SequentialEvaluator, BaseEvaluator\n",
    "from ema_workbench.em_framework.samplers import sample_uncertainties, sample_levers\n",
    "from ema_workbench.util import ema_logging, save_results, load_results\n",
    "\n",
    "ema_logging.log_to_stderr(ema_logging.INFO)"
   ]
  },
  {
   "attachments": {},
   "cell_type": "markdown",
   "metadata": {},
   "source": [
    "## Worst Case Scenario "
   ]
  },
  {
   "cell_type": "code",
   "execution_count": 3,
   "metadata": {},
   "outputs": [],
   "source": [
    "# define the problem formulation between 0 and 9\n",
    "# Problem formulation 6 is specific to Dike Ring 3\n",
    "dike_model, planning_steps = get_model_for_problem_formulation(6)"
   ]
  },
  {
   "cell_type": "code",
   "execution_count": 4,
   "metadata": {},
   "outputs": [],
   "source": [
    "# Set uncertainties and levers variables\n",
    "uncertainties = copy.deepcopy(dike_model.uncertainties)\n",
    "levers = copy.deepcopy(dike_model.levers)"
   ]
  },
  {
   "cell_type": "code",
   "execution_count": 5,
   "metadata": {},
   "outputs": [],
   "source": [
    "# Create a reference policy where no action is taken\n",
    "policies = [Policy('null_policy', **{'0_RfR 0':0,\n",
    "                                  '0_RfR 1':0,\n",
    "                                  '0_RfR 2':0,\n",
    "                                  'A.1_DikeIncrease 0':0,\n",
    "                                  'A.2_DikeIncrease 0':0,\n",
    "                                  'A.3_DikeIncrease 0':0,\n",
    "                                  'A.4_DikeIncrease 0':0,\n",
    "                                  'A.5_DikeIncrease 0':0,\n",
    "                                  'A.1_DikeIncrease 1':0,\n",
    "                                  'A.2_DikeIncrease 1':0,\n",
    "                                  'A.3_DikeIncrease 1':0,\n",
    "                                  'A.4_DikeIncrease 1':0,\n",
    "                                  'A.5_DikeIncrease 1':0,\n",
    "                                  'A.1_DikeIncrease 2':0,\n",
    "                                  'A.2_DikeIncrease 2':0,\n",
    "                                  'A.3_DikeIncrease 2':0,\n",
    "                                  'A.4_DikeIncrease 2':0,\n",
    "                                  'A.5_DikeIncrease 2':0,\n",
    "                                  'EWS_DaysToThreat':0})\n",
    "                                  ]"
   ]
  },
  {
   "cell_type": "code",
   "execution_count": 7,
   "metadata": {},
   "outputs": [
    {
     "name": "stderr",
     "output_type": "stream",
     "text": [
      "[MainProcess/INFO] pool started with 8 workers\n",
      "[MainProcess/INFO] performing 10000 scenarios * 1 policies * 1 model(s) = 10000 experiments\n",
      "100%|████████████████████████████████████| 10000/10000 [12:18<00:00, 13.54it/s]\n",
      "[MainProcess/INFO] experiments finished\n",
      "[MainProcess/INFO] terminating pool\n"
     ]
    }
   ],
   "source": [
    "n_scenarios = 10000\n",
    "\n",
    "ema_logging.log_to_stderr(ema_logging.INFO)\n",
    " \n",
    "with MultiprocessingEvaluator(dike_model) as evaluator:\n",
    "    experiments, outcomes = evaluator.perform_experiments(scenarios=n_scenarios, policies=policies)"
   ]
  },
  {
   "cell_type": "code",
   "execution_count": 10,
   "metadata": {},
   "outputs": [
    {
     "name": "stderr",
     "output_type": "stream",
     "text": [
      "[MainProcess/INFO] results saved successfully to /Users/philipmuller/Documents/GitHub/model-based-decision-making/model-based-decision-making-1/final assignment/results/10000Scenarios_NullPolicy_PF6.tar.gz\n"
     ]
    }
   ],
   "source": [
    "#Save the results\n",
    "save_results([experiments, outcomes], 'results/10000Scenarios_NullPolicy_PF6.tar.gz')"
   ]
  },
  {
   "cell_type": "code",
   "execution_count": 11,
   "metadata": {},
   "outputs": [
    {
     "name": "stderr",
     "output_type": "stream",
     "text": [
      "[MainProcess/INFO] results loaded successfully from /Users/philipmuller/Documents/GitHub/model-based-decision-making/model-based-decision-making-1/final assignment/results/10000Scenarios_NullPolicy_PF6.tar.gz\n"
     ]
    }
   ],
   "source": [
    "# load the worst case results for further analysis \n",
    "worst_case = load_results('results/10000Scenarios_NullPolicy_PF6.tar.gz')"
   ]
  },
  {
   "cell_type": "markdown",
   "metadata": {},
   "source": [
    "## Here actual Open exploration shit\n"
   ]
  },
  {
   "cell_type": "markdown",
   "metadata": {},
   "source": [
    "### show that random policy is better than no policy"
   ]
  },
  {
   "cell_type": "code",
   "execution_count": null,
   "metadata": {},
   "outputs": [],
   "source": [
    "# Create a policy where action is taken randomly\n",
    "# compare the performance of that policy to the previously computed null_policy\n",
    "\n",
    "\n",
    "import random # for randomly deciding to switch policy on/ off\n",
    "\n",
    "policies = [Policy('null_policy', **{'0_RfR 0':0,\n",
    "                                  '0_RfR 1':0,\n",
    "                                  '0_RfR 2':0,\n",
    "                                  'A.1_DikeIncrease 0':0,\n",
    "                                  'A.2_DikeIncrease 0':0,\n",
    "                                  'A.3_DikeIncrease 0':0,\n",
    "                                  'A.4_DikeIncrease 0':0,\n",
    "                                  'A.5_DikeIncrease 0':0,\n",
    "                                  'A.1_DikeIncrease 1':0,\n",
    "                                  'A.2_DikeIncrease 1':0,\n",
    "                                  'A.3_DikeIncrease 1':0,\n",
    "                                  'A.4_DikeIncrease 1':0,\n",
    "                                  'A.5_DikeIncrease 1':0,\n",
    "                                  'A.1_DikeIncrease 2':0,\n",
    "                                  'A.2_DikeIncrease 2':0,\n",
    "                                  'A.3_DikeIncrease 2':0,\n",
    "                                  'A.4_DikeIncrease 2':0,\n",
    "                                  'A.5_DikeIncrease 2':0,\n",
    "                                  'EWS_DaysToThreat':0})\n",
    "                ('random_policy', **{'0_RfR 0':random.randint(0,1),\n",
    "                                  '0_RfR 1':random.randint(0,1),\n",
    "                                  '0_RfR 2':random.randint(0,1),\n",
    "                                  'A.1_DikeIncrease 0':random.randint(0,1),\n",
    "                                  'A.2_DikeIncrease 0':random.randint(0,1),\n",
    "                                  'A.3_DikeIncrease 0':random.randint(0,1),\n",
    "                                  'A.4_DikeIncrease 0':random.randint(0,1),\n",
    "                                  'A.5_DikeIncrease 0':random.randint(0,1),\n",
    "                                  'A.1_DikeIncrease 1':random.randint(0,1),\n",
    "                                  'A.2_DikeIncrease 1':random.randint(0,1),\n",
    "                                  'A.3_DikeIncrease 1':random.randint(0,1),\n",
    "                                  'A.4_DikeIncrease 1':random.randint(0,1),\n",
    "                                  'A.5_DikeIncrease 1':random.randint(0,1),\n",
    "                                  'A.1_DikeIncrease 2':random.randint(0,1),\n",
    "                                  'A.2_DikeIncrease 2':random.randint(0,1),\n",
    "                                  'A.3_DikeIncrease 2':random.randint(0,1),\n",
    "                                  'A.4_DikeIncrease 2':random.randint(0,1),\n",
    "                                  'A.5_DikeIncrease 2':random.randint(0,1),\n",
    "                                  'EWS_DaysToThreat':random.randint(0,1)})\n",
    "                                  ]"
   ]
  },
  {
   "cell_type": "code",
   "execution_count": null,
   "metadata": {},
   "outputs": [],
   "source": []
  },
  {
   "cell_type": "code",
   "execution_count": 14,
   "metadata": {},
   "outputs": [
    {
     "data": {
      "text/plain": [
       "0"
      ]
     },
     "execution_count": 14,
     "metadata": {},
     "output_type": "execute_result"
    }
   ],
   "source": []
  }
 ],
 "metadata": {
  "kernelspec": {
   "display_name": "mbdm",
   "language": "python",
   "name": "python3"
  },
  "language_info": {
   "codemirror_mode": {
    "name": "ipython",
    "version": 3
   },
   "file_extension": ".py",
   "mimetype": "text/x-python",
   "name": "python",
   "nbconvert_exporter": "python",
   "pygments_lexer": "ipython3",
   "version": "3.11.3"
  },
  "orig_nbformat": 4
 },
 "nbformat": 4,
 "nbformat_minor": 2
}
