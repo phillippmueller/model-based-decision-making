{
 "cells": [
  {
   "cell_type": "markdown",
   "metadata": {},
   "source": [
    "# Multi-Scenario MORDM Gelderland\n",
    "This Jupyter Notebook uses the model developed by [Ciullo et al. (2019)](https://scholar.google.com/citations?hl=en&user=fDZCVVYAAAAJ&view_op=list_works&sortby=pubdate#d=gs_md_cita-d&u=%2Fcitations%3Fview_op%3Dview_citation%26hl%3Den%26user%3DfDZCVVYAAAAJ%26sortby%3Dpubdate%26citation_for_view%3DfDZCVVYAAAAJ%3AqjMakFHDy7sC%26tzom%3D-120) and the [ema_workbench by Jan Kwakkel](https://github.com/quaquel/EMAworkbench) to evaluate possible strategies for the Gelderland province to increase its resilience to flood risk. It is specifically aimed towards finding optimal strategies for the Gelderland province, namely minimizing casualties and damages across the model runtime in dike rings 1-3 and minimizing dike investment costs for all dike rings. "
   ]
  },
  {
   "cell_type": "markdown",
   "metadata": {},
   "source": [
    "## Imports"
   ]
  },
  {
   "cell_type": "code",
   "execution_count": 1,
   "metadata": {},
   "outputs": [
    {
     "data": {
      "text/plain": [
       "<Logger EMA (DEBUG)>"
      ]
     },
     "execution_count": 1,
     "metadata": {},
     "output_type": "execute_result"
    }
   ],
   "source": [
    "# Standard Imports\n",
    "import pandas as pd\n",
    "import numpy as np\n",
    "import seaborn as sns\n",
    "import matplotlib.pyplot as plt\n",
    "import copy\n",
    "import networkx as nx\n",
    "import scipy as sp\n",
    "import plotly.express as px\n",
    "import altair as alt\n",
    "import plotly.io as pio\n",
    "import plotly\n",
    "import kaleido\n",
    "\n",
    "# Workbench Imports\n",
    "from ema_workbench import (Model, MultiprocessingEvaluator, ScalarOutcome, RealParameter, IntegerParameter, CategoricalParameter, optimize, Scenario, Constant, ema_logging,perform_experiments, SequentialEvaluator, Policy)\n",
    "from ema_workbench.em_framework.optimization import EpsilonProgress, HyperVolume\n",
    "from ema_workbench.util import ema_logging, save_results, load_results\n",
    "from ema_workbench.em_framework.samplers import sample_levers, sample_uncertainties\n",
    "from ema_workbench.analysis import parcoords, prim\n",
    "\n",
    "ema_logging.log_to_stderr(ema_logging.INFO)\n"
   ]
  },
  {
   "cell_type": "markdown",
   "metadata": {},
   "source": [
    "## General Model Setup\n",
    "Here, we specify the numbers for the experiment and optimization runs to perform as well as other parameters used in this notebook"
   ]
  },
  {
   "cell_type": "code",
   "execution_count": 2,
   "metadata": {},
   "outputs": [],
   "source": [
    "# Number of nfes for the Model\n",
    "n_nfe = 5000\n",
    "\n",
    "#Number of scenarios for the deep uncertainty evaluation of promising scenarios\n",
    "n_scenarios = 1000\n",
    "\n",
    "#Path to the reference scenarios to use for MORDM\n",
    "path_noaction = \"./results/5000Scenarios_NullPolicy_PF1.tar.gz\"\n",
    "\n",
    "#Province name\n",
    "province = \"DikeRing3\""
   ]
  },
  {
   "cell_type": "markdown",
   "metadata": {},
   "source": [
    "## Model Specification\n",
    "Problem Formulation 6, specified in the problem_formulation.py file is calles to initiate the dike model from Gelderlands framing. "
   ]
  },
  {
   "cell_type": "code",
   "execution_count": 3,
   "metadata": {},
   "outputs": [],
   "source": [
    "# Model Imports\n",
    "from dike_model_function import DikeNetwork\n",
    "from problem_formulation import get_model_for_problem_formulation\n",
    "\n",
    "dike_model, planning_steps = get_model_for_problem_formulation(6)\n",
    "uncertainties = copy.deepcopy(dike_model.uncertainties)\n",
    "levers = copy.deepcopy(dike_model.levers)"
   ]
  },
  {
   "cell_type": "markdown",
   "metadata": {},
   "source": [
    "## Specify reference scenario\n",
    "Firstly, we load the results from the open exploration with no action taken to select a reference scenario that shows the most expected number of deaths. This, so-to-say worst-case scenario is then used to find the optimal policies using the MORDM approach.  "
   ]
  },
  {
   "cell_type": "code",
   "execution_count": 4,
   "metadata": {},
   "outputs": [
    {
     "name": "stderr",
     "output_type": "stream",
     "text": [
      "[MainProcess/INFO] results loaded successfully from /Users/philipmuller/Documents/GitHub/model-based-decision-making/final assignment/results/5000Scenarios_NullPolicy_PF1.tar.gz\n"
     ]
    }
   ],
   "source": [
    "experiments, outcomes = load_results(path_noaction)"
   ]
  },
  {
   "cell_type": "code",
   "execution_count": 5,
   "metadata": {},
   "outputs": [],
   "source": [
    "outcomes_df = pd.DataFrame(outcomes)\n",
    "\n",
    "#Get index of worst scenario\n",
    "index_wc = outcomes_df.sort_values(\"Expected Number of Deaths\").tail(1).index\n",
    "experiment_wc = experiments.iloc[index_wc]\n",
    "reference_scenarios = [Scenario(f\"{index}\", **row) for index, row in experiment_wc.iloc[0:,0:19].iterrows()]"
   ]
  },
  {
   "cell_type": "markdown",
   "metadata": {},
   "source": [
    "## Run Optimization on Worst Case Reference Scenario\n",
    "Due to limited computational resources, we ran 20000 function evaluations in the epsilon-NSGA II multi-objective evolutionary algorithm (MOEA) implemented in the ema_workbench. As a convergence metric, the epsilon progress was used. "
   ]
  },
  {
   "cell_type": "code",
   "execution_count": 7,
   "metadata": {},
   "outputs": [
    {
     "name": "stderr",
     "output_type": "stream",
     "text": [
      "[MainProcess/INFO] pool started with 1 workers\n",
      "5084it [56:44,  1.49it/s]                                                      \n",
      "[MainProcess/INFO] optimization completed, found 165 solutions\n",
      "[MainProcess/INFO] terminating pool\n"
     ]
    }
   ],
   "source": [
    "ema_logging.log_to_stderr(ema_logging.INFO)\n",
    "\n",
    "convergence_metrics = [EpsilonProgress()]\n",
    "\n",
    "with MultiprocessingEvaluator(dike_model) as evaluator:\n",
    "    results_epsilon_0_1 = evaluator.optimize(nfe=n_nfe, epsilons=[0.1,]*len(dike_model.outcomes), \n",
    "    reference = reference_scenarios[0], convergence= convergence_metrics, searchover=\"levers\")"
   ]
  },
  {
   "cell_type": "code",
   "execution_count": 6,
   "metadata": {},
   "outputs": [
    {
     "ename": "NameError",
     "evalue": "name 'results_epsilon_0_1' is not defined",
     "output_type": "error",
     "traceback": [
      "\u001b[0;31m---------------------------------------------------------------------------\u001b[0m",
      "\u001b[0;31mNameError\u001b[0m                                 Traceback (most recent call last)",
      "Cell \u001b[0;32mIn[6], line 1\u001b[0m\n\u001b[0;32m----> 1\u001b[0m results, convergence \u001b[39m=\u001b[39m results_epsilon_0_1\n",
      "\u001b[0;31mNameError\u001b[0m: name 'results_epsilon_0_1' is not defined"
     ]
    }
   ],
   "source": [
    "results, convergence = results_epsilon_0_1"
   ]
  },
  {
   "cell_type": "code",
   "execution_count": null,
   "metadata": {},
   "outputs": [
    {
     "data": {
      "text/plain": [
       "Index(['0_RfR 0', '0_RfR 1', '0_RfR 2', '1_RfR 0', '1_RfR 1', '1_RfR 2',\n",
       "       '2_RfR 0', '2_RfR 1', '2_RfR 2', '3_RfR 0', '3_RfR 1', '3_RfR 2',\n",
       "       '4_RfR 0', '4_RfR 1', '4_RfR 2', 'EWS_DaysToThreat',\n",
       "       'A.1_DikeIncrease 0', 'A.1_DikeIncrease 1', 'A.1_DikeIncrease 2',\n",
       "       'A.2_DikeIncrease 0', 'A.2_DikeIncrease 1', 'A.2_DikeIncrease 2',\n",
       "       'A.3_DikeIncrease 0', 'A.3_DikeIncrease 1', 'A.3_DikeIncrease 2',\n",
       "       'A.4_DikeIncrease 0', 'A.4_DikeIncrease 1', 'A.4_DikeIncrease 2',\n",
       "       'A.5_DikeIncrease 0', 'A.5_DikeIncrease 1', 'A.5_DikeIncrease 2'],\n",
       "      dtype='object')"
      ]
     },
     "execution_count": 20,
     "metadata": {},
     "output_type": "execute_result"
    }
   ],
   "source": [
    "results.iloc[:,:31].columns"
   ]
  },
  {
   "cell_type": "code",
   "execution_count": 14,
   "metadata": {},
   "outputs": [
    {
     "ename": "NameError",
     "evalue": "name 'results_epsilon_0_1' is not defined",
     "output_type": "error",
     "traceback": [
      "\u001b[0;31m---------------------------------------------------------------------------\u001b[0m",
      "\u001b[0;31mNameError\u001b[0m                                 Traceback (most recent call last)",
      "Cell \u001b[0;32mIn[14], line 2\u001b[0m\n\u001b[1;32m      1\u001b[0m \u001b[39m# Unpack the values\u001b[39;00m\n\u001b[0;32m----> 2\u001b[0m experiments_convergence, convergence \u001b[39m=\u001b[39m results_epsilon_0_1\n\u001b[1;32m      4\u001b[0m \u001b[39m# Separate experiments and outcomes\u001b[39;00m\n\u001b[1;32m      5\u001b[0m experiments \u001b[39m=\u001b[39m experiments_convergence\u001b[39m.\u001b[39miloc[:, :\u001b[39m31\u001b[39m]  \u001b[39m# adjust index as per your data\u001b[39;00m\n",
      "\u001b[0;31mNameError\u001b[0m: name 'results_epsilon_0_1' is not defined"
     ]
    }
   ],
   "source": [
    "# Unpack the values\n",
    "experiments_convergence, convergence = results_epsilon_0_1\n",
    "\n",
    "# Separate experiments and outcomes\n",
    "experiments = experiments_convergence.iloc[:, :31]  # adjust index as per your data\n",
    "outcomes = experiments_convergence.iloc[:, 31:]\n",
    "\n",
    "# Combine experiments and outcomes into one tuple\n",
    "optim_results = (experiments, outcomes)\n",
    "\n",
    "# Save the optimization results (experiments and outcomes)\n",
    "save_results(optim_results, \"./results/\"+str(n_nfe)+\"nfe_BaseCaseMORDM_\"+province+\"_optim_results.tar.gz\")\n",
    "\n",
    "# Save the convergence data separately as a CSV file\n",
    "convergence.to_csv(\"./results/\"+str(n_nfe)+\"nfe_BaseCaseMORDM_\"+province+\"_convergence.csv\")\n"
   ]
  },
  {
   "cell_type": "code",
   "execution_count": 6,
   "metadata": {},
   "outputs": [
    {
     "name": "stderr",
     "output_type": "stream",
     "text": [
      "[MainProcess/INFO] results loaded successfully from /Users/philipmuller/Documents/GitHub/model-based-decision-making/final assignment/results/5000nfe_BaseCaseMORDM_DikeRing3_optim_results.tar.gz\n"
     ]
    }
   ],
   "source": [
    "convergence= pd.read_csv(\"./results/5000nfe_BaseCaseMORDM_DikeRing3_convergence.csv\")\n",
    "results=load_results(\"./results/5000nfe_BaseCaseMORDM_DikeRing3_optim_results.tar.gz\")"
   ]
  },
  {
   "cell_type": "markdown",
   "metadata": {},
   "source": [
    "### Check for Convergence\n",
    "The optimization algorithm is now checked for convergence based on the Epsilon progress "
   ]
  },
  {
   "cell_type": "code",
   "execution_count": 7,
   "metadata": {},
   "outputs": [
    {
     "data": {
      "application/vnd.plotly.v1+json": {
       "config": {
        "plotlyServerURL": "https://plot.ly"
       },
       "data": [
        {
         "hovertemplate": "nfe=%{x}<br>epsilon_progress=%{y}<extra></extra>",
         "legendgroup": "",
         "line": {
          "color": "#636efa",
          "dash": "solid"
         },
         "marker": {
          "symbol": "circle"
         },
         "mode": "lines",
         "name": "",
         "orientation": "v",
         "showlegend": false,
         "type": "scatter",
         "x": [
          0,
          100,
          1197,
          2294,
          3391,
          4488,
          5084
         ],
         "xaxis": "x",
         "y": [
          0,
          28,
          278,
          511,
          655,
          753,
          829
         ],
         "yaxis": "y"
        }
       ],
       "layout": {
        "legend": {
         "tracegroupgap": 0
        },
        "template": {
         "data": {
          "bar": [
           {
            "error_x": {
             "color": "#2a3f5f"
            },
            "error_y": {
             "color": "#2a3f5f"
            },
            "marker": {
             "line": {
              "color": "#E5ECF6",
              "width": 0.5
             },
             "pattern": {
              "fillmode": "overlay",
              "size": 10,
              "solidity": 0.2
             }
            },
            "type": "bar"
           }
          ],
          "barpolar": [
           {
            "marker": {
             "line": {
              "color": "#E5ECF6",
              "width": 0.5
             },
             "pattern": {
              "fillmode": "overlay",
              "size": 10,
              "solidity": 0.2
             }
            },
            "type": "barpolar"
           }
          ],
          "carpet": [
           {
            "aaxis": {
             "endlinecolor": "#2a3f5f",
             "gridcolor": "white",
             "linecolor": "white",
             "minorgridcolor": "white",
             "startlinecolor": "#2a3f5f"
            },
            "baxis": {
             "endlinecolor": "#2a3f5f",
             "gridcolor": "white",
             "linecolor": "white",
             "minorgridcolor": "white",
             "startlinecolor": "#2a3f5f"
            },
            "type": "carpet"
           }
          ],
          "choropleth": [
           {
            "colorbar": {
             "outlinewidth": 0,
             "ticks": ""
            },
            "type": "choropleth"
           }
          ],
          "contour": [
           {
            "colorbar": {
             "outlinewidth": 0,
             "ticks": ""
            },
            "colorscale": [
             [
              0,
              "#0d0887"
             ],
             [
              0.1111111111111111,
              "#46039f"
             ],
             [
              0.2222222222222222,
              "#7201a8"
             ],
             [
              0.3333333333333333,
              "#9c179e"
             ],
             [
              0.4444444444444444,
              "#bd3786"
             ],
             [
              0.5555555555555556,
              "#d8576b"
             ],
             [
              0.6666666666666666,
              "#ed7953"
             ],
             [
              0.7777777777777778,
              "#fb9f3a"
             ],
             [
              0.8888888888888888,
              "#fdca26"
             ],
             [
              1,
              "#f0f921"
             ]
            ],
            "type": "contour"
           }
          ],
          "contourcarpet": [
           {
            "colorbar": {
             "outlinewidth": 0,
             "ticks": ""
            },
            "type": "contourcarpet"
           }
          ],
          "heatmap": [
           {
            "colorbar": {
             "outlinewidth": 0,
             "ticks": ""
            },
            "colorscale": [
             [
              0,
              "#0d0887"
             ],
             [
              0.1111111111111111,
              "#46039f"
             ],
             [
              0.2222222222222222,
              "#7201a8"
             ],
             [
              0.3333333333333333,
              "#9c179e"
             ],
             [
              0.4444444444444444,
              "#bd3786"
             ],
             [
              0.5555555555555556,
              "#d8576b"
             ],
             [
              0.6666666666666666,
              "#ed7953"
             ],
             [
              0.7777777777777778,
              "#fb9f3a"
             ],
             [
              0.8888888888888888,
              "#fdca26"
             ],
             [
              1,
              "#f0f921"
             ]
            ],
            "type": "heatmap"
           }
          ],
          "heatmapgl": [
           {
            "colorbar": {
             "outlinewidth": 0,
             "ticks": ""
            },
            "colorscale": [
             [
              0,
              "#0d0887"
             ],
             [
              0.1111111111111111,
              "#46039f"
             ],
             [
              0.2222222222222222,
              "#7201a8"
             ],
             [
              0.3333333333333333,
              "#9c179e"
             ],
             [
              0.4444444444444444,
              "#bd3786"
             ],
             [
              0.5555555555555556,
              "#d8576b"
             ],
             [
              0.6666666666666666,
              "#ed7953"
             ],
             [
              0.7777777777777778,
              "#fb9f3a"
             ],
             [
              0.8888888888888888,
              "#fdca26"
             ],
             [
              1,
              "#f0f921"
             ]
            ],
            "type": "heatmapgl"
           }
          ],
          "histogram": [
           {
            "marker": {
             "pattern": {
              "fillmode": "overlay",
              "size": 10,
              "solidity": 0.2
             }
            },
            "type": "histogram"
           }
          ],
          "histogram2d": [
           {
            "colorbar": {
             "outlinewidth": 0,
             "ticks": ""
            },
            "colorscale": [
             [
              0,
              "#0d0887"
             ],
             [
              0.1111111111111111,
              "#46039f"
             ],
             [
              0.2222222222222222,
              "#7201a8"
             ],
             [
              0.3333333333333333,
              "#9c179e"
             ],
             [
              0.4444444444444444,
              "#bd3786"
             ],
             [
              0.5555555555555556,
              "#d8576b"
             ],
             [
              0.6666666666666666,
              "#ed7953"
             ],
             [
              0.7777777777777778,
              "#fb9f3a"
             ],
             [
              0.8888888888888888,
              "#fdca26"
             ],
             [
              1,
              "#f0f921"
             ]
            ],
            "type": "histogram2d"
           }
          ],
          "histogram2dcontour": [
           {
            "colorbar": {
             "outlinewidth": 0,
             "ticks": ""
            },
            "colorscale": [
             [
              0,
              "#0d0887"
             ],
             [
              0.1111111111111111,
              "#46039f"
             ],
             [
              0.2222222222222222,
              "#7201a8"
             ],
             [
              0.3333333333333333,
              "#9c179e"
             ],
             [
              0.4444444444444444,
              "#bd3786"
             ],
             [
              0.5555555555555556,
              "#d8576b"
             ],
             [
              0.6666666666666666,
              "#ed7953"
             ],
             [
              0.7777777777777778,
              "#fb9f3a"
             ],
             [
              0.8888888888888888,
              "#fdca26"
             ],
             [
              1,
              "#f0f921"
             ]
            ],
            "type": "histogram2dcontour"
           }
          ],
          "mesh3d": [
           {
            "colorbar": {
             "outlinewidth": 0,
             "ticks": ""
            },
            "type": "mesh3d"
           }
          ],
          "parcoords": [
           {
            "line": {
             "colorbar": {
              "outlinewidth": 0,
              "ticks": ""
             }
            },
            "type": "parcoords"
           }
          ],
          "pie": [
           {
            "automargin": true,
            "type": "pie"
           }
          ],
          "scatter": [
           {
            "fillpattern": {
             "fillmode": "overlay",
             "size": 10,
             "solidity": 0.2
            },
            "type": "scatter"
           }
          ],
          "scatter3d": [
           {
            "line": {
             "colorbar": {
              "outlinewidth": 0,
              "ticks": ""
             }
            },
            "marker": {
             "colorbar": {
              "outlinewidth": 0,
              "ticks": ""
             }
            },
            "type": "scatter3d"
           }
          ],
          "scattercarpet": [
           {
            "marker": {
             "colorbar": {
              "outlinewidth": 0,
              "ticks": ""
             }
            },
            "type": "scattercarpet"
           }
          ],
          "scattergeo": [
           {
            "marker": {
             "colorbar": {
              "outlinewidth": 0,
              "ticks": ""
             }
            },
            "type": "scattergeo"
           }
          ],
          "scattergl": [
           {
            "marker": {
             "colorbar": {
              "outlinewidth": 0,
              "ticks": ""
             }
            },
            "type": "scattergl"
           }
          ],
          "scattermapbox": [
           {
            "marker": {
             "colorbar": {
              "outlinewidth": 0,
              "ticks": ""
             }
            },
            "type": "scattermapbox"
           }
          ],
          "scatterpolar": [
           {
            "marker": {
             "colorbar": {
              "outlinewidth": 0,
              "ticks": ""
             }
            },
            "type": "scatterpolar"
           }
          ],
          "scatterpolargl": [
           {
            "marker": {
             "colorbar": {
              "outlinewidth": 0,
              "ticks": ""
             }
            },
            "type": "scatterpolargl"
           }
          ],
          "scatterternary": [
           {
            "marker": {
             "colorbar": {
              "outlinewidth": 0,
              "ticks": ""
             }
            },
            "type": "scatterternary"
           }
          ],
          "surface": [
           {
            "colorbar": {
             "outlinewidth": 0,
             "ticks": ""
            },
            "colorscale": [
             [
              0,
              "#0d0887"
             ],
             [
              0.1111111111111111,
              "#46039f"
             ],
             [
              0.2222222222222222,
              "#7201a8"
             ],
             [
              0.3333333333333333,
              "#9c179e"
             ],
             [
              0.4444444444444444,
              "#bd3786"
             ],
             [
              0.5555555555555556,
              "#d8576b"
             ],
             [
              0.6666666666666666,
              "#ed7953"
             ],
             [
              0.7777777777777778,
              "#fb9f3a"
             ],
             [
              0.8888888888888888,
              "#fdca26"
             ],
             [
              1,
              "#f0f921"
             ]
            ],
            "type": "surface"
           }
          ],
          "table": [
           {
            "cells": {
             "fill": {
              "color": "#EBF0F8"
             },
             "line": {
              "color": "white"
             }
            },
            "header": {
             "fill": {
              "color": "#C8D4E3"
             },
             "line": {
              "color": "white"
             }
            },
            "type": "table"
           }
          ]
         },
         "layout": {
          "annotationdefaults": {
           "arrowcolor": "#2a3f5f",
           "arrowhead": 0,
           "arrowwidth": 1
          },
          "autotypenumbers": "strict",
          "coloraxis": {
           "colorbar": {
            "outlinewidth": 0,
            "ticks": ""
           }
          },
          "colorscale": {
           "diverging": [
            [
             0,
             "#8e0152"
            ],
            [
             0.1,
             "#c51b7d"
            ],
            [
             0.2,
             "#de77ae"
            ],
            [
             0.3,
             "#f1b6da"
            ],
            [
             0.4,
             "#fde0ef"
            ],
            [
             0.5,
             "#f7f7f7"
            ],
            [
             0.6,
             "#e6f5d0"
            ],
            [
             0.7,
             "#b8e186"
            ],
            [
             0.8,
             "#7fbc41"
            ],
            [
             0.9,
             "#4d9221"
            ],
            [
             1,
             "#276419"
            ]
           ],
           "sequential": [
            [
             0,
             "#0d0887"
            ],
            [
             0.1111111111111111,
             "#46039f"
            ],
            [
             0.2222222222222222,
             "#7201a8"
            ],
            [
             0.3333333333333333,
             "#9c179e"
            ],
            [
             0.4444444444444444,
             "#bd3786"
            ],
            [
             0.5555555555555556,
             "#d8576b"
            ],
            [
             0.6666666666666666,
             "#ed7953"
            ],
            [
             0.7777777777777778,
             "#fb9f3a"
            ],
            [
             0.8888888888888888,
             "#fdca26"
            ],
            [
             1,
             "#f0f921"
            ]
           ],
           "sequentialminus": [
            [
             0,
             "#0d0887"
            ],
            [
             0.1111111111111111,
             "#46039f"
            ],
            [
             0.2222222222222222,
             "#7201a8"
            ],
            [
             0.3333333333333333,
             "#9c179e"
            ],
            [
             0.4444444444444444,
             "#bd3786"
            ],
            [
             0.5555555555555556,
             "#d8576b"
            ],
            [
             0.6666666666666666,
             "#ed7953"
            ],
            [
             0.7777777777777778,
             "#fb9f3a"
            ],
            [
             0.8888888888888888,
             "#fdca26"
            ],
            [
             1,
             "#f0f921"
            ]
           ]
          },
          "colorway": [
           "#636efa",
           "#EF553B",
           "#00cc96",
           "#ab63fa",
           "#FFA15A",
           "#19d3f3",
           "#FF6692",
           "#B6E880",
           "#FF97FF",
           "#FECB52"
          ],
          "font": {
           "color": "#2a3f5f"
          },
          "geo": {
           "bgcolor": "white",
           "lakecolor": "white",
           "landcolor": "#E5ECF6",
           "showlakes": true,
           "showland": true,
           "subunitcolor": "white"
          },
          "hoverlabel": {
           "align": "left"
          },
          "hovermode": "closest",
          "mapbox": {
           "style": "light"
          },
          "paper_bgcolor": "white",
          "plot_bgcolor": "#E5ECF6",
          "polar": {
           "angularaxis": {
            "gridcolor": "white",
            "linecolor": "white",
            "ticks": ""
           },
           "bgcolor": "#E5ECF6",
           "radialaxis": {
            "gridcolor": "white",
            "linecolor": "white",
            "ticks": ""
           }
          },
          "scene": {
           "xaxis": {
            "backgroundcolor": "#E5ECF6",
            "gridcolor": "white",
            "gridwidth": 2,
            "linecolor": "white",
            "showbackground": true,
            "ticks": "",
            "zerolinecolor": "white"
           },
           "yaxis": {
            "backgroundcolor": "#E5ECF6",
            "gridcolor": "white",
            "gridwidth": 2,
            "linecolor": "white",
            "showbackground": true,
            "ticks": "",
            "zerolinecolor": "white"
           },
           "zaxis": {
            "backgroundcolor": "#E5ECF6",
            "gridcolor": "white",
            "gridwidth": 2,
            "linecolor": "white",
            "showbackground": true,
            "ticks": "",
            "zerolinecolor": "white"
           }
          },
          "shapedefaults": {
           "line": {
            "color": "#2a3f5f"
           }
          },
          "ternary": {
           "aaxis": {
            "gridcolor": "white",
            "linecolor": "white",
            "ticks": ""
           },
           "baxis": {
            "gridcolor": "white",
            "linecolor": "white",
            "ticks": ""
           },
           "bgcolor": "#E5ECF6",
           "caxis": {
            "gridcolor": "white",
            "linecolor": "white",
            "ticks": ""
           }
          },
          "title": {
           "x": 0.05
          },
          "xaxis": {
           "automargin": true,
           "gridcolor": "white",
           "linecolor": "white",
           "ticks": "",
           "title": {
            "standoff": 15
           },
           "zerolinecolor": "white",
           "zerolinewidth": 2
          },
          "yaxis": {
           "automargin": true,
           "gridcolor": "white",
           "linecolor": "white",
           "ticks": "",
           "title": {
            "standoff": 15
           },
           "zerolinecolor": "white",
           "zerolinewidth": 2
          }
         }
        },
        "title": {
         "text": "Epsilon Progress"
        },
        "xaxis": {
         "anchor": "y",
         "domain": [
          0,
          1
         ],
         "title": {
          "text": "nfe"
         }
        },
        "yaxis": {
         "anchor": "x",
         "domain": [
          0,
          1
         ],
         "title": {
          "text": "epsilon_progress"
         }
        }
       }
      }
     },
     "metadata": {},
     "output_type": "display_data"
    }
   ],
   "source": [
    "fig0 = px.line(convergence, x = \"nfe\", y = \"epsilon_progress\", title=\"Epsilon Progress\")\n",
    "fig0.show()\n",
    "fig0.write_image(\"./plots/EpsilonProgress_dike3_iter1.png\")"
   ]
  },
  {
   "cell_type": "markdown",
   "metadata": {},
   "source": [
    "As it can be seen in the plot, the algorithm did not fully converge. However, due to limited computational resources we decided to go forward with the solutions found after 20.000 function evaluations. For a more precice analysis, we encourage other researchers to use high-performance computational clusters to run the MOEA until full convergence is reached."
   ]
  },
  {
   "cell_type": "markdown",
   "metadata": {},
   "source": [
    "## Show tradeoffs in the resulting optimal policies\n",
    "The algorithm found 973 solutions, which are displayed in the following section of the notebook.   "
   ]
  },
  {
   "cell_type": "code",
   "execution_count": 8,
   "metadata": {},
   "outputs": [
    {
     "data": {
      "application/vnd.plotly.v1+json": {
       "config": {
        "plotlyServerURL": "https://plot.ly"
       },
       "data": [
        {
         "dimensions": [
          {
           "label": "A3 Damage",
           "values": [
            139125333.69099677,
            1864994900.90623,
            300858092.404524,
            332168843.0079868,
            1783695590.9945872,
            1603626367.311163,
            432289617.04737,
            1784345602.555665,
            1865649662.3186707,
            300855609.1297059,
            1863569629.158176,
            1863494094.2965648,
            139119392.6468414,
            1865504506.945169,
            1828251843.0533583,
            1864832391.400304,
            1784299102.8789418,
            139289949.52990335,
            1603683219.1510286,
            305162971.5105151,
            549590276.3382756,
            1864994900.90623,
            335930077.51727545,
            1828146185.3872972,
            1575606113.511331,
            326805592.0015315,
            598560801.8234245,
            288873612.1854023,
            429650245.0313443,
            1828293004.7277248,
            1737040237.1816576,
            429693484.2628677,
            547550983.4312651,
            112734766.77166402,
            430546702.2179956,
            1865649662.3186707,
            549647128.178141,
            88535401.0412281,
            1863478923.8223968,
            1828282756.671764,
            1864979210.740731,
            1827486814.209782,
            1864994381.2148983,
            1828308694.8932235,
            597397852.1878288,
            1126978672.75451,
            1855853402.4523487,
            1828308694.8932235,
            544862360.728189,
            232043985.3919791,
            1575568980.643838,
            1737040756.872989,
            1784345543.1697187,
            1865604370.597232,
            212605922.50795245,
            1822845970.0478263,
            1784300310.8342266,
            139291600.58316857,
            524830737.7191234,
            268973138.74713075,
            1813116882.1906104,
            549647128.178141,
            1861305879.241785,
            1852725306.5525095,
            1825603598.7142296,
            80563870.23852536,
            139056032.62713906,
            304024632.6712942,
            381593259.5865384,
            1853547187.2359517,
            1865621472.388753,
            1470164825.5077534,
            1813117221.6278105,
            1828308694.8932235,
            1823836760.9441748,
            224123617.9535885,
            0,
            1228791280.9396489,
            1573839275.7412765,
            1737040756.872989,
            432289542.5039387,
            671662654.9264019,
            1374185966.5607524,
            429648624.09319377,
            1863494613.987896,
            516921887.3972877,
            269049316.56946254,
            1750822571.943876,
            139521793.96969068,
            300536518.116431,
            187694204.8772706,
            112596914.96271564,
            1825603598.7142296,
            0,
            1771514600.46759,
            63446990.08906834,
            1470164825.5077534,
            429900616.8522932,
            545477861.3669982,
            1855843154.396388,
            63726033.826036006,
            1734298527.8265016,
            1737040756.872989,
            1750822571.943876,
            516921887.3972877,
            1470164825.5077534,
            186504356.52220243,
            0,
            1779670097.0516834,
            600124391.0688175,
            20519327.179807726,
            536947239.02942,
            1859726599.8308933,
            1859726599.8308933,
            251937503.60185355,
            860935362.0485307,
            0,
            267319611.66690108,
            1737040756.872989,
            1603626367.311163,
            671625522.0589085,
            154157221.59901237,
            1822856218.103787,
            189253104.90066245,
            1228791280.9396489,
            668537476.6361988,
            1734335660.6939948,
            0,
            94152794.14638457,
            13703209.8127167,
            671662654.9264019,
            224086485.08609515,
            427997816.1031346,
            224180469.79345396,
            1736218876.1895473,
            545477861.3669982,
            1736772104.0309062,
            347418811.7387077,
            1861914995.1398044,
            344901903.51182795,
            1784344565.6797152,
            1470164825.5077534,
            432289617.04737,
            370680158.95468175,
            1750822571.943876,
            371147080.7306295,
            1823836760.9441748,
            1825603598.7142296,
            1852725306.5525095,
            27936331.58607387,
            597397852.1878288,
            370680158.95468175,
            234343988.6071584,
            542754698.2748444,
            1228791280.9396489,
            1131762232.249177,
            516921887.3972877,
            270878215.66797745,
            1470164825.5077534,
            1750822571.943876,
            1736878247.3670628,
            600139561.5429851,
            9443127.54402293,
            1129667344.145744,
            189456315.97797143
           ]
          },
          {
           "label": "A3 Casualties",
           "values": [
            0.0961137845418753,
            0.5535274014030983,
            0.0865180678926073,
            0.0807159583372759,
            1.239587568040882,
            1.107775048830077,
            0.1228324905924048,
            0.5168395889799187,
            0.5539168192169762,
            0.0865169128517003,
            1.326823302060258,
            1.3267331094381205,
            0.0320361670172247,
            0.44306590870616,
            0.4291214092558565,
            1.328280965458521,
            1.240348990775631,
            0.0963039233085051,
            0.4615998741575964,
            0.2301892702409128,
            0.1599508018719514,
            0.4428219211224786,
            0.0997658488193527,
            0.4290813596689363,
            1.1171717828023058,
            0.0789550406667408,
            1.206906297981074,
            0.0967880850395366,
            0.2924452018461341,
            0.4291370116074584,
            0.5097022847890875,
            0.1218681897355953,
            0.3819522377926794,
            0.0956870713978799,
            0.1221843496975097,
            1.3294003661207423,
            0.1599777390170156,
            0.0336137029837063,
            0.4422386194374956,
            0.5364138303037613,
            0.4428159737580292,
            1.2864942741624166,
            0.4428217241332405,
            0.5364286987148849,
            0.1805822557155428,
            0.3236207199053929,
            1.3191274476114605,
            0.4291429589719079,
            0.1581462726444112,
            0.0715084003230297,
            1.1171071336541518,
            0.5097025310256351,
            1.2404149287846384,
            0.4431119056575295,
            0.1526902208047456,
            1.282274575567734,
            1.2403503644036502,
            0.0963057663915633,
            0.159796859933357,
            0.1832040940534523,
            0.5306794640583254,
            0.3839465736408373,
            0.4414213022887006,
            0.5477784129830865,
            0.53531758800034,
            0.0235266649810156,
            0.0320163923356811,
            0.2286338168603303,
            0.1102584717533275,
            0.4385342646375715,
            1.329364681934046,
            1.0110574911430874,
            0.4245437682358984,
            1.2874288769157234,
            1.282095545485908,
            0.4483622874165125,
            0,
            2.3408029634196783,
            3.095847547464995,
            0.5097025310256351,
            0.1228324552727524,
            0.1726241062951761,
            0.9714170469373892,
            0.2924428010882091,
            0.5528057085024314,
            0.148950839360634,
            0.0987535195516722,
            3.343016384738014,
            0.0965568265269085,
            0.0863684946538075,
            0.0523253446060606,
            0.2652724323447552,
            1.2847622112008157,
            0,
            0.4105532718342253,
            0.0202274672474309,
            0.4212739546429531,
            0.2926678210803906,
            0.1583746825723204,
            0.5496290022992134,
            0.1213686554411974,
            1.2205547595984625,
            1.2232860744615242,
            0.4011619661685617,
            0.3574820144655216,
            1.0110574911430874,
            0.1553504274755124,
            0,
            0.4142635739985989,
            0.436110886487016,
            0.0058619758696338,
            1.0967857927157207,
            1.3226214455589236,
            0.551092268982885,
            0.0800113151105758,
            1.852644403237652,
            0,
            0.0781354767857533,
            0.4077620248205081,
            0.4615729370125322,
            0.1726025565791247,
            0.0402707730876875,
            0.4274308058870275,
            0.4419761813413053,
            0.2808963556103614,
            1.4263244433091056,
            0.5085914203110903,
            0,
            0.0268223646369513,
            0.0257834559243308,
            0.5178723188855283,
            0.1613457743217904,
            0.1209038888787856,
            0.0538250242060328,
            1.2223514717082171,
            0.380099238173569,
            0.5095485327682064,
            0.2812752414374646,
            1.3250906481309428,
            0.7893666820202446,
            0.5168389813152583,
            0.3370191637143624,
            0.2947979774217717,
            0.7059744627113185,
            0.5014524577107022,
            0.2546593059366976,
            0.5342064772857952,
            0.4282540704002719,
            1.3146681911594074,
            0.0532058061516449,
            0.4333974137173026,
            0.1058961694066978,
            0.5605682822445175,
            0.1567716261276253,
            0.3511204445129517,
            0.3254516139329894,
            0.1191606714885072,
            0.1848996163773994,
            0.3370191637143624,
            1.2034858985056849,
            0.4077004255175366,
            0.4361281376126499,
            0.0026977193409835,
            0.3246212483275839,
            0.159416062061738
           ]
          },
          {
           "label": "Dike Investment Costs",
           "values": [
            0,
            0,
            0,
            24198032,
            0,
            0,
            0,
            0,
            0,
            0,
            0,
            20299287.62732069,
            0,
            0,
            0,
            0,
            0,
            0,
            0,
            0,
            22167818.198803756,
            0,
            20299287,
            0,
            20299287,
            24198032,
            24198032,
            22167818,
            0,
            0,
            20299287.62732069,
            0,
            22167818.198803756,
            0,
            0,
            0,
            22167818,
            24198032,
            0,
            0,
            20299287,
            0,
            20299287,
            0,
            24198032,
            20299287,
            0,
            0,
            22167818,
            22167818,
            20299287.62732069,
            20299287.62732069,
            0,
            20299287,
            24198032,
            0,
            0,
            0,
            22167818.198803756,
            0,
            0,
            22167818.198803756,
            0,
            0,
            0,
            0,
            0,
            0,
            0,
            0,
            0,
            20299287.62732069,
            0,
            0,
            0,
            24198032,
            24198032,
            0,
            20299287,
            20299287,
            0,
            20299287,
            0,
            0,
            0,
            22167818.198803756,
            24198032.45136138,
            0,
            0,
            0,
            0,
            0,
            0,
            22167818.198803756,
            0,
            0,
            20299287.62732069,
            0,
            22167818.198803756,
            0,
            0,
            20299287.62732069,
            20299287,
            0,
            22167818,
            20299287,
            20299287,
            24198032.45136138,
            0,
            24198032.45136138,
            0,
            24198032.45136138,
            0,
            0,
            0,
            22167818,
            26403379,
            24198032,
            20299287,
            0,
            20299287,
            24198032,
            0,
            20299287,
            0,
            20299287,
            20299287,
            20299287,
            0,
            22167818,
            20299287,
            24198032,
            0,
            24198032,
            20299287,
            22167818,
            20299287,
            24198032.45136138,
            0,
            0,
            0,
            20299287.62732069,
            0,
            0,
            0,
            20299287.62732069,
            0,
            0,
            0,
            20299287.62732069,
            24198032,
            0,
            22167818,
            22167818,
            0,
            20299287,
            22167818,
            0,
            20299287,
            0,
            20299287,
            24198032,
            0,
            20299287,
            20299287
           ]
          },
          {
           "label": "RfR Investment Costs",
           "values": [
            455700000,
            0,
            419100000,
            30700000,
            30700000,
            30700000,
            92100000,
            30700000,
            0,
            419100000,
            0,
            0,
            455700000,
            0,
            0,
            0,
            30700000,
            711800000,
            30700000,
            176700000,
            30700000,
            0,
            61400000,
            0,
            0,
            30700000,
            0,
            30700000,
            92100000,
            0,
            0,
            92100000,
            30700000,
            213300000,
            92100000,
            0,
            30700000,
            30700000,
            0,
            0,
            0,
            0,
            0,
            0,
            0,
            30700000,
            0,
            0,
            30700000,
            30700000,
            0,
            0,
            30700000,
            0,
            30700000,
            0,
            30700000,
            711800000,
            30700000,
            213300000,
            0,
            30700000,
            0,
            0,
            0,
            455700000,
            967900000,
            92100000,
            92100000,
            0,
            0,
            0,
            0,
            0,
            0,
            30700000,
            30700000,
            30700000,
            0,
            0,
            92100000,
            30700000,
            30700000,
            92100000,
            0,
            0,
            0,
            0,
            540300000,
            419100000,
            92100000,
            213300000,
            0,
            61400000,
            0,
            540300000,
            0,
            92100000,
            30700000,
            0,
            438700000,
            0,
            0,
            0,
            0,
            0,
            61400000,
            30700000,
            0,
            0,
            711800000,
            0,
            0,
            0,
            92100000,
            0,
            0,
            0,
            0,
            30700000,
            30700000,
            30700000,
            0,
            61400000,
            30700000,
            30700000,
            0,
            92100000,
            455700000,
            61400000,
            30700000,
            30700000,
            92100000,
            30700000,
            0,
            30700000,
            0,
            0,
            0,
            182600000,
            30700000,
            0,
            92100000,
            61400000,
            0,
            30700000,
            0,
            0,
            0,
            61400000,
            0,
            61400000,
            30700000,
            30700000,
            30700000,
            30700000,
            0,
            213300000,
            0,
            0,
            0,
            0,
            213300000,
            30700000,
            61400000
           ]
          },
          {
           "label": "Evacuation Costs",
           "values": [
            4335.781610154884,
            89669.86337945152,
            14922.120155641202,
            19385.98193879152,
            53140.74332504906,
            53328.00159072456,
            30491.01158372614,
            87684.62782181971,
            88617.30185670986,
            15027.781088507065,
            55390.88386916183,
            54312.98891587785,
            9197.379454460572,
            111171.43894376562,
            121485.00410990196,
            54342.71512751366,
            53110.37170437393,
            4193.181115834652,
            88216.1784898508,
            21908.059091350355,
            35726.80571847387,
            111401.61850435389,
            36820.04095746773,
            122658.0228005285,
            58384.05162542511,
            20636.192904505195,
            0,
            49745.82656406023,
            20225.63305638212,
            121467.6760692675,
            92852.35280508488,
            32161.95008309801,
            22212.83554873736,
            15309.385373104247,
            31449.183053941037,
            53378.8924125123,
            35393.108325639725,
            38996.16323963635,
            114456.14235176516,
            98092.0267719422,
            111798.86040116986,
            59334.83009745396,
            111490.64205003262,
            97452.52750623466,
            38770.27777853015,
            67935.68324693324,
            58317.31837704833,
            121070.43417245153,
            38625.38392744721,
            54938.21876085724,
            58585.05523146168,
            92771.97503149102,
            52822.87187574276,
            110508.53553825704,
            17858.858377545173,
            61533.97593931604,
            53007.8204824517,
            4151.6370752856565,
            47713.4956106554,
            14688.579915806977,
            105801.7622324214,
            21319.14289732652,
            115186.7173767344,
            97217.08710329856,
            98895.0007076126,
            15884.411737249027,
            8645.078436084095,
            22213.47692530781,
            35373.1862116612,
            119470.28119184478,
            53764.09667609143,
            60886.631231881525,
            133112.42610698656,
            58700.81656846135,
            60438.57251929784,
            0,
            59978.72879585817,
            0,
            0,
            93502.32882376738,
            30942.1417280351,
            68976.23328889826,
            54316.903101797696,
            20507.832080210486,
            90059.7750580878,
            53673.84540825148,
            34327.063802708144,
            0,
            4236.353091086614,
            15060.269049492024,
            37089.19546539958,
            0,
            59850.19866317058,
            0,
            144996.2518605654,
            10909.631126394905,
            101811.67517332968,
            19226.603061040558,
            37590.437510640695,
            97135.6102197504,
            0,
            56951.35360042352,
            55881.47201896871,
            145745.44286154312,
            32159.25438911437,
            61063.22834576993,
            18859.16292359405,
            0,
            133838.96356839655,
            22016.79938672564,
            12152.916329845755,
            0,
            57226.08332243722,
            96419.553609826,
            35659.5387932434,
            0,
            0,
            44377.21709374056,
            115255.53603912292,
            88681.99926811806,
            71998.15859504971,
            30631.65668792864,
            127070.54313031324,
            0,
            111101.71521712693,
            0,
            94944.80202514533,
            0,
            11505.473335014263,
            0,
            33353.160702841975,
            12212.716916016734,
            33370.26580561261,
            24174.249425096958,
            56686.829804758425,
            22552.849096808764,
            93867.04459441066,
            31620.120196882293,
            56722.42592796136,
            0,
            87864.47193948287,
            125942.90846315044,
            18366.35050690328,
            0,
            115122.97880528423,
            28021.129904593523,
            101067.82770126688,
            123441.03474278931,
            58558.998349281,
            0,
            22894.078836390887,
            46364.87510135775,
            0,
            38868.070390585824,
            89749.6319524128,
            64552.490697912086,
            67600.05090687716,
            13577.160683564616,
            126296.30599279449,
            69521.26199424785,
            115935.76748526595,
            21867.360186174246,
            28291.73545556113,
            66005.50014833445,
            17997.600062656293
           ]
          }
         ],
         "domain": {
          "x": [
           0,
           1
          ],
          "y": [
           0,
           1
          ]
         },
         "line": {
          "color": [
           0,
           1,
           2,
           3,
           4,
           5,
           6,
           7,
           8,
           9,
           10,
           11,
           12,
           13,
           14,
           15,
           16,
           17,
           18,
           19,
           20,
           21,
           22,
           23,
           24,
           25,
           26,
           27,
           28,
           29,
           30,
           31,
           32,
           33,
           34,
           35,
           36,
           37,
           38,
           39,
           40,
           41,
           42,
           43,
           44,
           45,
           46,
           47,
           48,
           49,
           50,
           51,
           52,
           53,
           54,
           55,
           56,
           57,
           58,
           59,
           60,
           61,
           62,
           63,
           64,
           65,
           66,
           67,
           68,
           69,
           70,
           71,
           72,
           73,
           74,
           75,
           76,
           77,
           78,
           79,
           80,
           81,
           82,
           83,
           84,
           85,
           86,
           87,
           88,
           89,
           90,
           91,
           92,
           93,
           94,
           95,
           96,
           97,
           98,
           99,
           100,
           101,
           102,
           103,
           104,
           105,
           106,
           107,
           108,
           109,
           110,
           111,
           112,
           113,
           114,
           115,
           116,
           117,
           118,
           119,
           120,
           121,
           122,
           123,
           124,
           125,
           126,
           127,
           128,
           129,
           130,
           131,
           132,
           133,
           134,
           135,
           136,
           137,
           138,
           139,
           140,
           141,
           142,
           143,
           144,
           145,
           146,
           147,
           148,
           149,
           150,
           151,
           152,
           153,
           154,
           155,
           156,
           157,
           158,
           159,
           160,
           161,
           162,
           163,
           164
          ],
          "coloraxis": "coloraxis"
         },
         "name": "",
         "type": "parcoords"
        }
       ],
       "layout": {
        "coloraxis": {
         "colorbar": {
          "title": {
           "text": "_index"
          }
         },
         "colorscale": [
          [
           0,
           "#0d0887"
          ],
          [
           0.1111111111111111,
           "#46039f"
          ],
          [
           0.2222222222222222,
           "#7201a8"
          ],
          [
           0.3333333333333333,
           "#9c179e"
          ],
          [
           0.4444444444444444,
           "#bd3786"
          ],
          [
           0.5555555555555556,
           "#d8576b"
          ],
          [
           0.6666666666666666,
           "#ed7953"
          ],
          [
           0.7777777777777778,
           "#fb9f3a"
          ],
          [
           0.8888888888888888,
           "#fdca26"
          ],
          [
           1,
           "#f0f921"
          ]
         ]
        },
        "legend": {
         "tracegroupgap": 0
        },
        "margin": {
         "t": 60
        },
        "showlegend": false,
        "template": {
         "data": {
          "bar": [
           {
            "error_x": {
             "color": "#2a3f5f"
            },
            "error_y": {
             "color": "#2a3f5f"
            },
            "marker": {
             "line": {
              "color": "#E5ECF6",
              "width": 0.5
             },
             "pattern": {
              "fillmode": "overlay",
              "size": 10,
              "solidity": 0.2
             }
            },
            "type": "bar"
           }
          ],
          "barpolar": [
           {
            "marker": {
             "line": {
              "color": "#E5ECF6",
              "width": 0.5
             },
             "pattern": {
              "fillmode": "overlay",
              "size": 10,
              "solidity": 0.2
             }
            },
            "type": "barpolar"
           }
          ],
          "carpet": [
           {
            "aaxis": {
             "endlinecolor": "#2a3f5f",
             "gridcolor": "white",
             "linecolor": "white",
             "minorgridcolor": "white",
             "startlinecolor": "#2a3f5f"
            },
            "baxis": {
             "endlinecolor": "#2a3f5f",
             "gridcolor": "white",
             "linecolor": "white",
             "minorgridcolor": "white",
             "startlinecolor": "#2a3f5f"
            },
            "type": "carpet"
           }
          ],
          "choropleth": [
           {
            "colorbar": {
             "outlinewidth": 0,
             "ticks": ""
            },
            "type": "choropleth"
           }
          ],
          "contour": [
           {
            "colorbar": {
             "outlinewidth": 0,
             "ticks": ""
            },
            "colorscale": [
             [
              0,
              "#0d0887"
             ],
             [
              0.1111111111111111,
              "#46039f"
             ],
             [
              0.2222222222222222,
              "#7201a8"
             ],
             [
              0.3333333333333333,
              "#9c179e"
             ],
             [
              0.4444444444444444,
              "#bd3786"
             ],
             [
              0.5555555555555556,
              "#d8576b"
             ],
             [
              0.6666666666666666,
              "#ed7953"
             ],
             [
              0.7777777777777778,
              "#fb9f3a"
             ],
             [
              0.8888888888888888,
              "#fdca26"
             ],
             [
              1,
              "#f0f921"
             ]
            ],
            "type": "contour"
           }
          ],
          "contourcarpet": [
           {
            "colorbar": {
             "outlinewidth": 0,
             "ticks": ""
            },
            "type": "contourcarpet"
           }
          ],
          "heatmap": [
           {
            "colorbar": {
             "outlinewidth": 0,
             "ticks": ""
            },
            "colorscale": [
             [
              0,
              "#0d0887"
             ],
             [
              0.1111111111111111,
              "#46039f"
             ],
             [
              0.2222222222222222,
              "#7201a8"
             ],
             [
              0.3333333333333333,
              "#9c179e"
             ],
             [
              0.4444444444444444,
              "#bd3786"
             ],
             [
              0.5555555555555556,
              "#d8576b"
             ],
             [
              0.6666666666666666,
              "#ed7953"
             ],
             [
              0.7777777777777778,
              "#fb9f3a"
             ],
             [
              0.8888888888888888,
              "#fdca26"
             ],
             [
              1,
              "#f0f921"
             ]
            ],
            "type": "heatmap"
           }
          ],
          "heatmapgl": [
           {
            "colorbar": {
             "outlinewidth": 0,
             "ticks": ""
            },
            "colorscale": [
             [
              0,
              "#0d0887"
             ],
             [
              0.1111111111111111,
              "#46039f"
             ],
             [
              0.2222222222222222,
              "#7201a8"
             ],
             [
              0.3333333333333333,
              "#9c179e"
             ],
             [
              0.4444444444444444,
              "#bd3786"
             ],
             [
              0.5555555555555556,
              "#d8576b"
             ],
             [
              0.6666666666666666,
              "#ed7953"
             ],
             [
              0.7777777777777778,
              "#fb9f3a"
             ],
             [
              0.8888888888888888,
              "#fdca26"
             ],
             [
              1,
              "#f0f921"
             ]
            ],
            "type": "heatmapgl"
           }
          ],
          "histogram": [
           {
            "marker": {
             "pattern": {
              "fillmode": "overlay",
              "size": 10,
              "solidity": 0.2
             }
            },
            "type": "histogram"
           }
          ],
          "histogram2d": [
           {
            "colorbar": {
             "outlinewidth": 0,
             "ticks": ""
            },
            "colorscale": [
             [
              0,
              "#0d0887"
             ],
             [
              0.1111111111111111,
              "#46039f"
             ],
             [
              0.2222222222222222,
              "#7201a8"
             ],
             [
              0.3333333333333333,
              "#9c179e"
             ],
             [
              0.4444444444444444,
              "#bd3786"
             ],
             [
              0.5555555555555556,
              "#d8576b"
             ],
             [
              0.6666666666666666,
              "#ed7953"
             ],
             [
              0.7777777777777778,
              "#fb9f3a"
             ],
             [
              0.8888888888888888,
              "#fdca26"
             ],
             [
              1,
              "#f0f921"
             ]
            ],
            "type": "histogram2d"
           }
          ],
          "histogram2dcontour": [
           {
            "colorbar": {
             "outlinewidth": 0,
             "ticks": ""
            },
            "colorscale": [
             [
              0,
              "#0d0887"
             ],
             [
              0.1111111111111111,
              "#46039f"
             ],
             [
              0.2222222222222222,
              "#7201a8"
             ],
             [
              0.3333333333333333,
              "#9c179e"
             ],
             [
              0.4444444444444444,
              "#bd3786"
             ],
             [
              0.5555555555555556,
              "#d8576b"
             ],
             [
              0.6666666666666666,
              "#ed7953"
             ],
             [
              0.7777777777777778,
              "#fb9f3a"
             ],
             [
              0.8888888888888888,
              "#fdca26"
             ],
             [
              1,
              "#f0f921"
             ]
            ],
            "type": "histogram2dcontour"
           }
          ],
          "mesh3d": [
           {
            "colorbar": {
             "outlinewidth": 0,
             "ticks": ""
            },
            "type": "mesh3d"
           }
          ],
          "parcoords": [
           {
            "line": {
             "colorbar": {
              "outlinewidth": 0,
              "ticks": ""
             }
            },
            "type": "parcoords"
           }
          ],
          "pie": [
           {
            "automargin": true,
            "type": "pie"
           }
          ],
          "scatter": [
           {
            "fillpattern": {
             "fillmode": "overlay",
             "size": 10,
             "solidity": 0.2
            },
            "type": "scatter"
           }
          ],
          "scatter3d": [
           {
            "line": {
             "colorbar": {
              "outlinewidth": 0,
              "ticks": ""
             }
            },
            "marker": {
             "colorbar": {
              "outlinewidth": 0,
              "ticks": ""
             }
            },
            "type": "scatter3d"
           }
          ],
          "scattercarpet": [
           {
            "marker": {
             "colorbar": {
              "outlinewidth": 0,
              "ticks": ""
             }
            },
            "type": "scattercarpet"
           }
          ],
          "scattergeo": [
           {
            "marker": {
             "colorbar": {
              "outlinewidth": 0,
              "ticks": ""
             }
            },
            "type": "scattergeo"
           }
          ],
          "scattergl": [
           {
            "marker": {
             "colorbar": {
              "outlinewidth": 0,
              "ticks": ""
             }
            },
            "type": "scattergl"
           }
          ],
          "scattermapbox": [
           {
            "marker": {
             "colorbar": {
              "outlinewidth": 0,
              "ticks": ""
             }
            },
            "type": "scattermapbox"
           }
          ],
          "scatterpolar": [
           {
            "marker": {
             "colorbar": {
              "outlinewidth": 0,
              "ticks": ""
             }
            },
            "type": "scatterpolar"
           }
          ],
          "scatterpolargl": [
           {
            "marker": {
             "colorbar": {
              "outlinewidth": 0,
              "ticks": ""
             }
            },
            "type": "scatterpolargl"
           }
          ],
          "scatterternary": [
           {
            "marker": {
             "colorbar": {
              "outlinewidth": 0,
              "ticks": ""
             }
            },
            "type": "scatterternary"
           }
          ],
          "surface": [
           {
            "colorbar": {
             "outlinewidth": 0,
             "ticks": ""
            },
            "colorscale": [
             [
              0,
              "#0d0887"
             ],
             [
              0.1111111111111111,
              "#46039f"
             ],
             [
              0.2222222222222222,
              "#7201a8"
             ],
             [
              0.3333333333333333,
              "#9c179e"
             ],
             [
              0.4444444444444444,
              "#bd3786"
             ],
             [
              0.5555555555555556,
              "#d8576b"
             ],
             [
              0.6666666666666666,
              "#ed7953"
             ],
             [
              0.7777777777777778,
              "#fb9f3a"
             ],
             [
              0.8888888888888888,
              "#fdca26"
             ],
             [
              1,
              "#f0f921"
             ]
            ],
            "type": "surface"
           }
          ],
          "table": [
           {
            "cells": {
             "fill": {
              "color": "#EBF0F8"
             },
             "line": {
              "color": "white"
             }
            },
            "header": {
             "fill": {
              "color": "#C8D4E3"
             },
             "line": {
              "color": "white"
             }
            },
            "type": "table"
           }
          ]
         },
         "layout": {
          "annotationdefaults": {
           "arrowcolor": "#2a3f5f",
           "arrowhead": 0,
           "arrowwidth": 1
          },
          "autotypenumbers": "strict",
          "coloraxis": {
           "colorbar": {
            "outlinewidth": 0,
            "ticks": ""
           }
          },
          "colorscale": {
           "diverging": [
            [
             0,
             "#8e0152"
            ],
            [
             0.1,
             "#c51b7d"
            ],
            [
             0.2,
             "#de77ae"
            ],
            [
             0.3,
             "#f1b6da"
            ],
            [
             0.4,
             "#fde0ef"
            ],
            [
             0.5,
             "#f7f7f7"
            ],
            [
             0.6,
             "#e6f5d0"
            ],
            [
             0.7,
             "#b8e186"
            ],
            [
             0.8,
             "#7fbc41"
            ],
            [
             0.9,
             "#4d9221"
            ],
            [
             1,
             "#276419"
            ]
           ],
           "sequential": [
            [
             0,
             "#0d0887"
            ],
            [
             0.1111111111111111,
             "#46039f"
            ],
            [
             0.2222222222222222,
             "#7201a8"
            ],
            [
             0.3333333333333333,
             "#9c179e"
            ],
            [
             0.4444444444444444,
             "#bd3786"
            ],
            [
             0.5555555555555556,
             "#d8576b"
            ],
            [
             0.6666666666666666,
             "#ed7953"
            ],
            [
             0.7777777777777778,
             "#fb9f3a"
            ],
            [
             0.8888888888888888,
             "#fdca26"
            ],
            [
             1,
             "#f0f921"
            ]
           ],
           "sequentialminus": [
            [
             0,
             "#0d0887"
            ],
            [
             0.1111111111111111,
             "#46039f"
            ],
            [
             0.2222222222222222,
             "#7201a8"
            ],
            [
             0.3333333333333333,
             "#9c179e"
            ],
            [
             0.4444444444444444,
             "#bd3786"
            ],
            [
             0.5555555555555556,
             "#d8576b"
            ],
            [
             0.6666666666666666,
             "#ed7953"
            ],
            [
             0.7777777777777778,
             "#fb9f3a"
            ],
            [
             0.8888888888888888,
             "#fdca26"
            ],
            [
             1,
             "#f0f921"
            ]
           ]
          },
          "colorway": [
           "#636efa",
           "#EF553B",
           "#00cc96",
           "#ab63fa",
           "#FFA15A",
           "#19d3f3",
           "#FF6692",
           "#B6E880",
           "#FF97FF",
           "#FECB52"
          ],
          "font": {
           "color": "#2a3f5f"
          },
          "geo": {
           "bgcolor": "white",
           "lakecolor": "white",
           "landcolor": "#E5ECF6",
           "showlakes": true,
           "showland": true,
           "subunitcolor": "white"
          },
          "hoverlabel": {
           "align": "left"
          },
          "hovermode": "closest",
          "mapbox": {
           "style": "light"
          },
          "paper_bgcolor": "white",
          "plot_bgcolor": "#E5ECF6",
          "polar": {
           "angularaxis": {
            "gridcolor": "white",
            "linecolor": "white",
            "ticks": ""
           },
           "bgcolor": "#E5ECF6",
           "radialaxis": {
            "gridcolor": "white",
            "linecolor": "white",
            "ticks": ""
           }
          },
          "scene": {
           "xaxis": {
            "backgroundcolor": "#E5ECF6",
            "gridcolor": "white",
            "gridwidth": 2,
            "linecolor": "white",
            "showbackground": true,
            "ticks": "",
            "zerolinecolor": "white"
           },
           "yaxis": {
            "backgroundcolor": "#E5ECF6",
            "gridcolor": "white",
            "gridwidth": 2,
            "linecolor": "white",
            "showbackground": true,
            "ticks": "",
            "zerolinecolor": "white"
           },
           "zaxis": {
            "backgroundcolor": "#E5ECF6",
            "gridcolor": "white",
            "gridwidth": 2,
            "linecolor": "white",
            "showbackground": true,
            "ticks": "",
            "zerolinecolor": "white"
           }
          },
          "shapedefaults": {
           "line": {
            "color": "#2a3f5f"
           }
          },
          "ternary": {
           "aaxis": {
            "gridcolor": "white",
            "linecolor": "white",
            "ticks": ""
           },
           "baxis": {
            "gridcolor": "white",
            "linecolor": "white",
            "ticks": ""
           },
           "bgcolor": "#E5ECF6",
           "caxis": {
            "gridcolor": "white",
            "linecolor": "white",
            "ticks": ""
           }
          },
          "title": {
           "x": 0.05
          },
          "xaxis": {
           "automargin": true,
           "gridcolor": "white",
           "linecolor": "white",
           "ticks": "",
           "title": {
            "standoff": 15
           },
           "zerolinecolor": "white",
           "zerolinewidth": 2
          },
          "yaxis": {
           "automargin": true,
           "gridcolor": "white",
           "linecolor": "white",
           "ticks": "",
           "title": {
            "standoff": 15
           },
           "zerolinecolor": "white",
           "zerolinewidth": 2
          }
         }
        }
       }
      }
     },
     "metadata": {},
     "output_type": "display_data"
    }
   ],
   "source": [
    "# extract DataFrame from the tuple\n",
    "df = results[1]\n",
    "\n",
    "df1=pd.DataFrame(df)\n",
    "df1=df1.reset_index()\n",
    "fig1 = px.parallel_coordinates(df1, labels= \n",
    "    {\"A3 Expected Annual Damage\" : \"A3 Damage\", \n",
    "    \"A3 Aggr Expected Number of Deaths\" : \"A3 Casualties\", \n",
    "    \"A3 Dike Investment Costs\" : \"Dike Investment Costs\", \n",
    "    \"Room for River Investment Costs\" : \"RfR Investment Costs\",\n",
    "    \"Evacuation Costs\" : \"Evacuation Costs\"}, \n",
    "    color=df1.index, \n",
    "    dimensions = [\"A3 Expected Annual Damage\", \n",
    "                  \"A3 Aggr Expected Number of Deaths\", \n",
    "                  \"A3 Dike Investment Costs\", \n",
    "                  \"Room for River Investment Costs\",\n",
    "                  \"Evacuation Costs\"])\n",
    "fig1.update_layout(showlegend=False)\n",
    "\n",
    "\n",
    "fig1.show()\n",
    "fig1.write_image(\"./plots/ParallelPlot_dike3_iter1.png\")"
   ]
  },
  {
   "cell_type": "markdown",
   "metadata": {
    "tags": []
   },
   "source": [
    "![Tradeoffs](../figures/Gelderland_Tradeoffs_1ReferenceScenario.png)\n"
   ]
  },
  {
   "cell_type": "markdown",
   "metadata": {},
   "source": [
    "To show the tradeoffs more clearly, we aggregate the costs and the expected number of casualties, as well as the investment costs with the evacuation costs"
   ]
  },
  {
   "cell_type": "code",
   "execution_count": 9,
   "metadata": {},
   "outputs": [
    {
     "data": {
      "text/html": [
       "<div>\n",
       "<style scoped>\n",
       "    .dataframe tbody tr th:only-of-type {\n",
       "        vertical-align: middle;\n",
       "    }\n",
       "\n",
       "    .dataframe tbody tr th {\n",
       "        vertical-align: top;\n",
       "    }\n",
       "\n",
       "    .dataframe thead th {\n",
       "        text-align: right;\n",
       "    }\n",
       "</style>\n",
       "<table border=\"1\" class=\"dataframe\">\n",
       "  <thead>\n",
       "    <tr style=\"text-align: right;\">\n",
       "      <th></th>\n",
       "      <th>0_RfR 0</th>\n",
       "      <th>0_RfR 1</th>\n",
       "      <th>0_RfR 2</th>\n",
       "      <th>1_RfR 0</th>\n",
       "      <th>1_RfR 1</th>\n",
       "      <th>1_RfR 2</th>\n",
       "      <th>2_RfR 0</th>\n",
       "      <th>2_RfR 1</th>\n",
       "      <th>2_RfR 2</th>\n",
       "      <th>3_RfR 0</th>\n",
       "      <th>...</th>\n",
       "      <th>A.4_DikeIncrease 1</th>\n",
       "      <th>A.4_DikeIncrease 2</th>\n",
       "      <th>A.5_DikeIncrease 0</th>\n",
       "      <th>A.5_DikeIncrease 1</th>\n",
       "      <th>A.5_DikeIncrease 2</th>\n",
       "      <th>A3 Expected Annual Damage</th>\n",
       "      <th>A3 Aggr Expected Number of Deaths</th>\n",
       "      <th>A3 Dike Investment Costs</th>\n",
       "      <th>Room for River Investment Costs</th>\n",
       "      <th>Evacuation Costs</th>\n",
       "    </tr>\n",
       "  </thead>\n",
       "  <tbody>\n",
       "    <tr>\n",
       "      <th>0</th>\n",
       "      <td>0</td>\n",
       "      <td>0</td>\n",
       "      <td>0</td>\n",
       "      <td>0</td>\n",
       "      <td>0</td>\n",
       "      <td>0</td>\n",
       "      <td>1</td>\n",
       "      <td>1</td>\n",
       "      <td>1</td>\n",
       "      <td>1</td>\n",
       "      <td>...</td>\n",
       "      <td>5</td>\n",
       "      <td>5</td>\n",
       "      <td>7</td>\n",
       "      <td>2</td>\n",
       "      <td>7</td>\n",
       "      <td>1.391253e+08</td>\n",
       "      <td>0.096114</td>\n",
       "      <td>0.0</td>\n",
       "      <td>455700000.0</td>\n",
       "      <td>4335.781610</td>\n",
       "    </tr>\n",
       "    <tr>\n",
       "      <th>1</th>\n",
       "      <td>0</td>\n",
       "      <td>0</td>\n",
       "      <td>0</td>\n",
       "      <td>0</td>\n",
       "      <td>0</td>\n",
       "      <td>0</td>\n",
       "      <td>0</td>\n",
       "      <td>0</td>\n",
       "      <td>0</td>\n",
       "      <td>0</td>\n",
       "      <td>...</td>\n",
       "      <td>5</td>\n",
       "      <td>4</td>\n",
       "      <td>3</td>\n",
       "      <td>2</td>\n",
       "      <td>5</td>\n",
       "      <td>1.864995e+09</td>\n",
       "      <td>0.553527</td>\n",
       "      <td>0.0</td>\n",
       "      <td>0.0</td>\n",
       "      <td>89669.863379</td>\n",
       "    </tr>\n",
       "    <tr>\n",
       "      <th>2</th>\n",
       "      <td>1</td>\n",
       "      <td>0</td>\n",
       "      <td>0</td>\n",
       "      <td>0</td>\n",
       "      <td>0</td>\n",
       "      <td>0</td>\n",
       "      <td>1</td>\n",
       "      <td>1</td>\n",
       "      <td>1</td>\n",
       "      <td>1</td>\n",
       "      <td>...</td>\n",
       "      <td>7</td>\n",
       "      <td>2</td>\n",
       "      <td>3</td>\n",
       "      <td>5</td>\n",
       "      <td>4</td>\n",
       "      <td>3.008581e+08</td>\n",
       "      <td>0.086518</td>\n",
       "      <td>0.0</td>\n",
       "      <td>419100000.0</td>\n",
       "      <td>14922.120156</td>\n",
       "    </tr>\n",
       "    <tr>\n",
       "      <th>3</th>\n",
       "      <td>0</td>\n",
       "      <td>0</td>\n",
       "      <td>0</td>\n",
       "      <td>0</td>\n",
       "      <td>0</td>\n",
       "      <td>0</td>\n",
       "      <td>0</td>\n",
       "      <td>1</td>\n",
       "      <td>0</td>\n",
       "      <td>0</td>\n",
       "      <td>...</td>\n",
       "      <td>4</td>\n",
       "      <td>0</td>\n",
       "      <td>4</td>\n",
       "      <td>5</td>\n",
       "      <td>7</td>\n",
       "      <td>3.321688e+08</td>\n",
       "      <td>0.080716</td>\n",
       "      <td>24198032.0</td>\n",
       "      <td>30700000.0</td>\n",
       "      <td>19385.981939</td>\n",
       "    </tr>\n",
       "    <tr>\n",
       "      <th>4</th>\n",
       "      <td>0</td>\n",
       "      <td>0</td>\n",
       "      <td>0</td>\n",
       "      <td>0</td>\n",
       "      <td>0</td>\n",
       "      <td>0</td>\n",
       "      <td>0</td>\n",
       "      <td>1</td>\n",
       "      <td>0</td>\n",
       "      <td>0</td>\n",
       "      <td>...</td>\n",
       "      <td>0</td>\n",
       "      <td>3</td>\n",
       "      <td>0</td>\n",
       "      <td>6</td>\n",
       "      <td>6</td>\n",
       "      <td>1.783696e+09</td>\n",
       "      <td>1.239588</td>\n",
       "      <td>0.0</td>\n",
       "      <td>30700000.0</td>\n",
       "      <td>53140.743325</td>\n",
       "    </tr>\n",
       "    <tr>\n",
       "      <th>...</th>\n",
       "      <td>...</td>\n",
       "      <td>...</td>\n",
       "      <td>...</td>\n",
       "      <td>...</td>\n",
       "      <td>...</td>\n",
       "      <td>...</td>\n",
       "      <td>...</td>\n",
       "      <td>...</td>\n",
       "      <td>...</td>\n",
       "      <td>...</td>\n",
       "      <td>...</td>\n",
       "      <td>...</td>\n",
       "      <td>...</td>\n",
       "      <td>...</td>\n",
       "      <td>...</td>\n",
       "      <td>...</td>\n",
       "      <td>...</td>\n",
       "      <td>...</td>\n",
       "      <td>...</td>\n",
       "      <td>...</td>\n",
       "      <td>...</td>\n",
       "    </tr>\n",
       "    <tr>\n",
       "      <th>160</th>\n",
       "      <td>0</td>\n",
       "      <td>0</td>\n",
       "      <td>0</td>\n",
       "      <td>0</td>\n",
       "      <td>0</td>\n",
       "      <td>0</td>\n",
       "      <td>0</td>\n",
       "      <td>0</td>\n",
       "      <td>0</td>\n",
       "      <td>0</td>\n",
       "      <td>...</td>\n",
       "      <td>4</td>\n",
       "      <td>4</td>\n",
       "      <td>7</td>\n",
       "      <td>6</td>\n",
       "      <td>6</td>\n",
       "      <td>1.736878e+09</td>\n",
       "      <td>0.407700</td>\n",
       "      <td>20299287.0</td>\n",
       "      <td>0.0</td>\n",
       "      <td>115935.767485</td>\n",
       "    </tr>\n",
       "    <tr>\n",
       "      <th>161</th>\n",
       "      <td>0</td>\n",
       "      <td>0</td>\n",
       "      <td>0</td>\n",
       "      <td>0</td>\n",
       "      <td>0</td>\n",
       "      <td>0</td>\n",
       "      <td>0</td>\n",
       "      <td>0</td>\n",
       "      <td>0</td>\n",
       "      <td>0</td>\n",
       "      <td>...</td>\n",
       "      <td>1</td>\n",
       "      <td>4</td>\n",
       "      <td>0</td>\n",
       "      <td>6</td>\n",
       "      <td>7</td>\n",
       "      <td>6.001396e+08</td>\n",
       "      <td>0.436128</td>\n",
       "      <td>24198032.0</td>\n",
       "      <td>0.0</td>\n",
       "      <td>21867.360186</td>\n",
       "    </tr>\n",
       "    <tr>\n",
       "      <th>162</th>\n",
       "      <td>0</td>\n",
       "      <td>0</td>\n",
       "      <td>0</td>\n",
       "      <td>0</td>\n",
       "      <td>0</td>\n",
       "      <td>0</td>\n",
       "      <td>1</td>\n",
       "      <td>1</td>\n",
       "      <td>1</td>\n",
       "      <td>1</td>\n",
       "      <td>...</td>\n",
       "      <td>1</td>\n",
       "      <td>0</td>\n",
       "      <td>3</td>\n",
       "      <td>4</td>\n",
       "      <td>6</td>\n",
       "      <td>9.443128e+06</td>\n",
       "      <td>0.002698</td>\n",
       "      <td>0.0</td>\n",
       "      <td>213300000.0</td>\n",
       "      <td>28291.735456</td>\n",
       "    </tr>\n",
       "    <tr>\n",
       "      <th>163</th>\n",
       "      <td>0</td>\n",
       "      <td>0</td>\n",
       "      <td>0</td>\n",
       "      <td>0</td>\n",
       "      <td>0</td>\n",
       "      <td>0</td>\n",
       "      <td>1</td>\n",
       "      <td>0</td>\n",
       "      <td>0</td>\n",
       "      <td>0</td>\n",
       "      <td>...</td>\n",
       "      <td>5</td>\n",
       "      <td>4</td>\n",
       "      <td>6</td>\n",
       "      <td>7</td>\n",
       "      <td>1</td>\n",
       "      <td>1.129667e+09</td>\n",
       "      <td>0.324621</td>\n",
       "      <td>20299287.0</td>\n",
       "      <td>30700000.0</td>\n",
       "      <td>66005.500148</td>\n",
       "    </tr>\n",
       "    <tr>\n",
       "      <th>164</th>\n",
       "      <td>0</td>\n",
       "      <td>0</td>\n",
       "      <td>0</td>\n",
       "      <td>0</td>\n",
       "      <td>0</td>\n",
       "      <td>0</td>\n",
       "      <td>0</td>\n",
       "      <td>1</td>\n",
       "      <td>1</td>\n",
       "      <td>0</td>\n",
       "      <td>...</td>\n",
       "      <td>2</td>\n",
       "      <td>5</td>\n",
       "      <td>7</td>\n",
       "      <td>5</td>\n",
       "      <td>5</td>\n",
       "      <td>1.894563e+08</td>\n",
       "      <td>0.159416</td>\n",
       "      <td>20299287.0</td>\n",
       "      <td>61400000.0</td>\n",
       "      <td>17997.600063</td>\n",
       "    </tr>\n",
       "  </tbody>\n",
       "</table>\n",
       "<p>165 rows × 36 columns</p>\n",
       "</div>"
      ],
      "text/plain": [
       "     0_RfR 0  0_RfR 1  0_RfR 2  1_RfR 0  1_RfR 1  1_RfR 2  2_RfR 0  2_RfR 1  \\\n",
       "0          0        0        0        0        0        0        1        1   \n",
       "1          0        0        0        0        0        0        0        0   \n",
       "2          1        0        0        0        0        0        1        1   \n",
       "3          0        0        0        0        0        0        0        1   \n",
       "4          0        0        0        0        0        0        0        1   \n",
       "..       ...      ...      ...      ...      ...      ...      ...      ...   \n",
       "160        0        0        0        0        0        0        0        0   \n",
       "161        0        0        0        0        0        0        0        0   \n",
       "162        0        0        0        0        0        0        1        1   \n",
       "163        0        0        0        0        0        0        1        0   \n",
       "164        0        0        0        0        0        0        0        1   \n",
       "\n",
       "     2_RfR 2  3_RfR 0  ...  A.4_DikeIncrease 1  A.4_DikeIncrease 2  \\\n",
       "0          1        1  ...                   5                   5   \n",
       "1          0        0  ...                   5                   4   \n",
       "2          1        1  ...                   7                   2   \n",
       "3          0        0  ...                   4                   0   \n",
       "4          0        0  ...                   0                   3   \n",
       "..       ...      ...  ...                 ...                 ...   \n",
       "160        0        0  ...                   4                   4   \n",
       "161        0        0  ...                   1                   4   \n",
       "162        1        1  ...                   1                   0   \n",
       "163        0        0  ...                   5                   4   \n",
       "164        1        0  ...                   2                   5   \n",
       "\n",
       "     A.5_DikeIncrease 0  A.5_DikeIncrease 1  A.5_DikeIncrease 2  \\\n",
       "0                     7                   2                   7   \n",
       "1                     3                   2                   5   \n",
       "2                     3                   5                   4   \n",
       "3                     4                   5                   7   \n",
       "4                     0                   6                   6   \n",
       "..                  ...                 ...                 ...   \n",
       "160                   7                   6                   6   \n",
       "161                   0                   6                   7   \n",
       "162                   3                   4                   6   \n",
       "163                   6                   7                   1   \n",
       "164                   7                   5                   5   \n",
       "\n",
       "     A3 Expected Annual Damage  A3 Aggr Expected Number of Deaths  \\\n",
       "0                 1.391253e+08                           0.096114   \n",
       "1                 1.864995e+09                           0.553527   \n",
       "2                 3.008581e+08                           0.086518   \n",
       "3                 3.321688e+08                           0.080716   \n",
       "4                 1.783696e+09                           1.239588   \n",
       "..                         ...                                ...   \n",
       "160               1.736878e+09                           0.407700   \n",
       "161               6.001396e+08                           0.436128   \n",
       "162               9.443128e+06                           0.002698   \n",
       "163               1.129667e+09                           0.324621   \n",
       "164               1.894563e+08                           0.159416   \n",
       "\n",
       "     A3 Dike Investment Costs  Room for River Investment Costs  \\\n",
       "0                         0.0                      455700000.0   \n",
       "1                         0.0                              0.0   \n",
       "2                         0.0                      419100000.0   \n",
       "3                  24198032.0                       30700000.0   \n",
       "4                         0.0                       30700000.0   \n",
       "..                        ...                              ...   \n",
       "160                20299287.0                              0.0   \n",
       "161                24198032.0                              0.0   \n",
       "162                       0.0                      213300000.0   \n",
       "163                20299287.0                       30700000.0   \n",
       "164                20299287.0                       61400000.0   \n",
       "\n",
       "     Evacuation Costs  \n",
       "0         4335.781610  \n",
       "1        89669.863379  \n",
       "2        14922.120156  \n",
       "3        19385.981939  \n",
       "4        53140.743325  \n",
       "..                ...  \n",
       "160     115935.767485  \n",
       "161      21867.360186  \n",
       "162      28291.735456  \n",
       "163      66005.500148  \n",
       "164      17997.600063  \n",
       "\n",
       "[165 rows x 36 columns]"
      ]
     },
     "execution_count": 9,
     "metadata": {},
     "output_type": "execute_result"
    }
   ],
   "source": [
    "# Split the tuple into a DataFrame and a dictionary\n",
    "results_df, results_dict = results\n",
    "\n",
    "# Convert the dictionary into a DataFrame\n",
    "results_dict_df = pd.DataFrame({'A3 Expected Annual Damage': results_dict['A3 Expected Annual Damage'],\n",
    "                                'A3 Aggr Expected Number of Deaths': results_dict['A3 Aggr Expected Number of Deaths'],\n",
    "                                'A3 Dike Investment Costs': results_dict['A3 Dike Investment Costs'],\n",
    "                               'Room for River Investment Costs': results_dict['Room for River Investment Costs'],\n",
    "                               'Evacuation Costs': results_dict['Evacuation Costs']})\n",
    "\n",
    "# Concatenate this DataFrame with the original results DataFrame\n",
    "results_combined = pd.concat([results_df, results_dict_df], axis=1)\n",
    "\n",
    "results_combined"
   ]
  },
  {
   "cell_type": "code",
   "execution_count": 10,
   "metadata": {},
   "outputs": [
    {
     "data": {
      "text/html": [
       "<div>\n",
       "<style scoped>\n",
       "    .dataframe tbody tr th:only-of-type {\n",
       "        vertical-align: middle;\n",
       "    }\n",
       "\n",
       "    .dataframe tbody tr th {\n",
       "        vertical-align: top;\n",
       "    }\n",
       "\n",
       "    .dataframe thead th {\n",
       "        text-align: right;\n",
       "    }\n",
       "</style>\n",
       "<table border=\"1\" class=\"dataframe\">\n",
       "  <thead>\n",
       "    <tr style=\"text-align: right;\">\n",
       "      <th></th>\n",
       "      <th>A3 Expected Annual Damage</th>\n",
       "      <th>A3 Aggr Expected Number of Deaths</th>\n",
       "      <th>A3 Dike Investment Costs</th>\n",
       "      <th>Room for River Investment Costs</th>\n",
       "      <th>Evacuation Costs</th>\n",
       "      <th>Expected Casualties</th>\n",
       "      <th>Expected Damage</th>\n",
       "      <th>Traditional Costs</th>\n",
       "    </tr>\n",
       "  </thead>\n",
       "  <tbody>\n",
       "    <tr>\n",
       "      <th>0</th>\n",
       "      <td>1.391253e+08</td>\n",
       "      <td>0.096114</td>\n",
       "      <td>0.0</td>\n",
       "      <td>455700000.0</td>\n",
       "      <td>4335.781610</td>\n",
       "      <td>0.096114</td>\n",
       "      <td>1.391253e+08</td>\n",
       "      <td>4.557043e+08</td>\n",
       "    </tr>\n",
       "    <tr>\n",
       "      <th>1</th>\n",
       "      <td>1.864995e+09</td>\n",
       "      <td>0.553527</td>\n",
       "      <td>0.0</td>\n",
       "      <td>0.0</td>\n",
       "      <td>89669.863379</td>\n",
       "      <td>0.553527</td>\n",
       "      <td>1.864995e+09</td>\n",
       "      <td>8.966986e+04</td>\n",
       "    </tr>\n",
       "    <tr>\n",
       "      <th>2</th>\n",
       "      <td>3.008581e+08</td>\n",
       "      <td>0.086518</td>\n",
       "      <td>0.0</td>\n",
       "      <td>419100000.0</td>\n",
       "      <td>14922.120156</td>\n",
       "      <td>0.086518</td>\n",
       "      <td>3.008581e+08</td>\n",
       "      <td>4.191149e+08</td>\n",
       "    </tr>\n",
       "    <tr>\n",
       "      <th>3</th>\n",
       "      <td>3.321688e+08</td>\n",
       "      <td>0.080716</td>\n",
       "      <td>24198032.0</td>\n",
       "      <td>30700000.0</td>\n",
       "      <td>19385.981939</td>\n",
       "      <td>0.080716</td>\n",
       "      <td>3.321688e+08</td>\n",
       "      <td>5.491742e+07</td>\n",
       "    </tr>\n",
       "    <tr>\n",
       "      <th>4</th>\n",
       "      <td>1.783696e+09</td>\n",
       "      <td>1.239588</td>\n",
       "      <td>0.0</td>\n",
       "      <td>30700000.0</td>\n",
       "      <td>53140.743325</td>\n",
       "      <td>1.239588</td>\n",
       "      <td>1.783696e+09</td>\n",
       "      <td>3.075314e+07</td>\n",
       "    </tr>\n",
       "    <tr>\n",
       "      <th>...</th>\n",
       "      <td>...</td>\n",
       "      <td>...</td>\n",
       "      <td>...</td>\n",
       "      <td>...</td>\n",
       "      <td>...</td>\n",
       "      <td>...</td>\n",
       "      <td>...</td>\n",
       "      <td>...</td>\n",
       "    </tr>\n",
       "    <tr>\n",
       "      <th>160</th>\n",
       "      <td>1.736878e+09</td>\n",
       "      <td>0.407700</td>\n",
       "      <td>20299287.0</td>\n",
       "      <td>0.0</td>\n",
       "      <td>115935.767485</td>\n",
       "      <td>0.407700</td>\n",
       "      <td>1.736878e+09</td>\n",
       "      <td>2.041522e+07</td>\n",
       "    </tr>\n",
       "    <tr>\n",
       "      <th>161</th>\n",
       "      <td>6.001396e+08</td>\n",
       "      <td>0.436128</td>\n",
       "      <td>24198032.0</td>\n",
       "      <td>0.0</td>\n",
       "      <td>21867.360186</td>\n",
       "      <td>0.436128</td>\n",
       "      <td>6.001396e+08</td>\n",
       "      <td>2.421990e+07</td>\n",
       "    </tr>\n",
       "    <tr>\n",
       "      <th>162</th>\n",
       "      <td>9.443128e+06</td>\n",
       "      <td>0.002698</td>\n",
       "      <td>0.0</td>\n",
       "      <td>213300000.0</td>\n",
       "      <td>28291.735456</td>\n",
       "      <td>0.002698</td>\n",
       "      <td>9.443128e+06</td>\n",
       "      <td>2.133283e+08</td>\n",
       "    </tr>\n",
       "    <tr>\n",
       "      <th>163</th>\n",
       "      <td>1.129667e+09</td>\n",
       "      <td>0.324621</td>\n",
       "      <td>20299287.0</td>\n",
       "      <td>30700000.0</td>\n",
       "      <td>66005.500148</td>\n",
       "      <td>0.324621</td>\n",
       "      <td>1.129667e+09</td>\n",
       "      <td>5.106529e+07</td>\n",
       "    </tr>\n",
       "    <tr>\n",
       "      <th>164</th>\n",
       "      <td>1.894563e+08</td>\n",
       "      <td>0.159416</td>\n",
       "      <td>20299287.0</td>\n",
       "      <td>61400000.0</td>\n",
       "      <td>17997.600063</td>\n",
       "      <td>0.159416</td>\n",
       "      <td>1.894563e+08</td>\n",
       "      <td>8.171728e+07</td>\n",
       "    </tr>\n",
       "  </tbody>\n",
       "</table>\n",
       "<p>165 rows × 8 columns</p>\n",
       "</div>"
      ],
      "text/plain": [
       "     A3 Expected Annual Damage  A3 Aggr Expected Number of Deaths  \\\n",
       "0                 1.391253e+08                           0.096114   \n",
       "1                 1.864995e+09                           0.553527   \n",
       "2                 3.008581e+08                           0.086518   \n",
       "3                 3.321688e+08                           0.080716   \n",
       "4                 1.783696e+09                           1.239588   \n",
       "..                         ...                                ...   \n",
       "160               1.736878e+09                           0.407700   \n",
       "161               6.001396e+08                           0.436128   \n",
       "162               9.443128e+06                           0.002698   \n",
       "163               1.129667e+09                           0.324621   \n",
       "164               1.894563e+08                           0.159416   \n",
       "\n",
       "     A3 Dike Investment Costs  Room for River Investment Costs  \\\n",
       "0                         0.0                      455700000.0   \n",
       "1                         0.0                              0.0   \n",
       "2                         0.0                      419100000.0   \n",
       "3                  24198032.0                       30700000.0   \n",
       "4                         0.0                       30700000.0   \n",
       "..                        ...                              ...   \n",
       "160                20299287.0                              0.0   \n",
       "161                24198032.0                              0.0   \n",
       "162                       0.0                      213300000.0   \n",
       "163                20299287.0                       30700000.0   \n",
       "164                20299287.0                       61400000.0   \n",
       "\n",
       "     Evacuation Costs  Expected Casualties  Expected Damage  Traditional Costs  \n",
       "0         4335.781610             0.096114     1.391253e+08       4.557043e+08  \n",
       "1        89669.863379             0.553527     1.864995e+09       8.966986e+04  \n",
       "2        14922.120156             0.086518     3.008581e+08       4.191149e+08  \n",
       "3        19385.981939             0.080716     3.321688e+08       5.491742e+07  \n",
       "4        53140.743325             1.239588     1.783696e+09       3.075314e+07  \n",
       "..                ...                  ...              ...                ...  \n",
       "160     115935.767485             0.407700     1.736878e+09       2.041522e+07  \n",
       "161      21867.360186             0.436128     6.001396e+08       2.421990e+07  \n",
       "162      28291.735456             0.002698     9.443128e+06       2.133283e+08  \n",
       "163      66005.500148             0.324621     1.129667e+09       5.106529e+07  \n",
       "164      17997.600063             0.159416     1.894563e+08       8.171728e+07  \n",
       "\n",
       "[165 rows x 8 columns]"
      ]
     },
     "execution_count": 10,
     "metadata": {},
     "output_type": "execute_result"
    }
   ],
   "source": [
    "results_agg = results_combined.loc[:, [\"A3 Expected Annual Damage\", \"A3 Aggr Expected Number of Deaths\", \"A3 Dike Investment Costs\", \"Room for River Investment Costs\", \"Evacuation Costs\"]]\n",
    "\n",
    "results_agg[\"Expected Casualties\"] = results_agg[\"A3 Aggr Expected Number of Deaths\"]\n",
    "results_agg[\"Expected Damage\"] = results_agg[\"A3 Expected Annual Damage\"]\n",
    "results_agg[\"Traditional Costs\"] = results_agg[\"A3 Dike Investment Costs\"] + results_agg[\"Evacuation Costs\"] + results_agg[\"Room for River Investment Costs\"]\n",
    "results_agg"
   ]
  },
  {
   "cell_type": "code",
   "execution_count": 11,
   "metadata": {},
   "outputs": [
    {
     "data": {
      "application/vnd.plotly.v1+json": {
       "config": {
        "plotlyServerURL": "https://plot.ly"
       },
       "data": [
        {
         "dimensions": [
          {
           "label": "Expected Casualties",
           "values": [
            0.0961137845418753,
            0.5535274014030983,
            0.0865180678926073,
            0.0807159583372759,
            1.239587568040882,
            1.107775048830077,
            0.1228324905924048,
            0.5168395889799187,
            0.5539168192169762,
            0.0865169128517003,
            1.326823302060258,
            1.3267331094381205,
            0.0320361670172247,
            0.44306590870616,
            0.4291214092558565,
            1.328280965458521,
            1.240348990775631,
            0.0963039233085051,
            0.4615998741575964,
            0.2301892702409128,
            0.1599508018719514,
            0.4428219211224786,
            0.0997658488193527,
            0.4290813596689363,
            1.1171717828023058,
            0.0789550406667408,
            1.206906297981074,
            0.0967880850395366,
            0.2924452018461341,
            0.4291370116074584,
            0.5097022847890875,
            0.1218681897355953,
            0.3819522377926794,
            0.0956870713978799,
            0.1221843496975097,
            1.3294003661207423,
            0.1599777390170156,
            0.0336137029837063,
            0.4422386194374956,
            0.5364138303037613,
            0.4428159737580292,
            1.2864942741624166,
            0.4428217241332405,
            0.5364286987148849,
            0.1805822557155428,
            0.3236207199053929,
            1.3191274476114605,
            0.4291429589719079,
            0.1581462726444112,
            0.0715084003230297,
            1.1171071336541518,
            0.5097025310256351,
            1.2404149287846384,
            0.4431119056575295,
            0.1526902208047456,
            1.282274575567734,
            1.2403503644036502,
            0.0963057663915633,
            0.159796859933357,
            0.1832040940534523,
            0.5306794640583254,
            0.3839465736408373,
            0.4414213022887006,
            0.5477784129830865,
            0.53531758800034,
            0.0235266649810156,
            0.0320163923356811,
            0.2286338168603303,
            0.1102584717533275,
            0.4385342646375715,
            1.329364681934046,
            1.0110574911430874,
            0.4245437682358984,
            1.2874288769157234,
            1.282095545485908,
            0.4483622874165125,
            0,
            2.3408029634196783,
            3.095847547464995,
            0.5097025310256351,
            0.1228324552727524,
            0.1726241062951761,
            0.9714170469373892,
            0.2924428010882091,
            0.5528057085024314,
            0.148950839360634,
            0.0987535195516722,
            3.343016384738014,
            0.0965568265269085,
            0.0863684946538075,
            0.0523253446060606,
            0.2652724323447552,
            1.2847622112008157,
            0,
            0.4105532718342253,
            0.0202274672474309,
            0.4212739546429531,
            0.2926678210803906,
            0.1583746825723204,
            0.5496290022992134,
            0.1213686554411974,
            1.2205547595984625,
            1.2232860744615242,
            0.4011619661685617,
            0.3574820144655216,
            1.0110574911430874,
            0.1553504274755124,
            0,
            0.4142635739985989,
            0.436110886487016,
            0.0058619758696338,
            1.0967857927157207,
            1.3226214455589236,
            0.551092268982885,
            0.0800113151105758,
            1.852644403237652,
            0,
            0.0781354767857533,
            0.4077620248205081,
            0.4615729370125322,
            0.1726025565791247,
            0.0402707730876875,
            0.4274308058870275,
            0.4419761813413053,
            0.2808963556103614,
            1.4263244433091056,
            0.5085914203110903,
            0,
            0.0268223646369513,
            0.0257834559243308,
            0.5178723188855283,
            0.1613457743217904,
            0.1209038888787856,
            0.0538250242060328,
            1.2223514717082171,
            0.380099238173569,
            0.5095485327682064,
            0.2812752414374646,
            1.3250906481309428,
            0.7893666820202446,
            0.5168389813152583,
            0.3370191637143624,
            0.2947979774217717,
            0.7059744627113185,
            0.5014524577107022,
            0.2546593059366976,
            0.5342064772857952,
            0.4282540704002719,
            1.3146681911594074,
            0.0532058061516449,
            0.4333974137173026,
            0.1058961694066978,
            0.5605682822445175,
            0.1567716261276253,
            0.3511204445129517,
            0.3254516139329894,
            0.1191606714885072,
            0.1848996163773994,
            0.3370191637143624,
            1.2034858985056849,
            0.4077004255175366,
            0.4361281376126499,
            0.0026977193409835,
            0.3246212483275839,
            0.159416062061738
           ]
          },
          {
           "label": "Expected Damage",
           "values": [
            139125333.69099677,
            1864994900.90623,
            300858092.404524,
            332168843.0079868,
            1783695590.9945872,
            1603626367.311163,
            432289617.04737,
            1784345602.555665,
            1865649662.3186707,
            300855609.1297059,
            1863569629.158176,
            1863494094.2965648,
            139119392.6468414,
            1865504506.945169,
            1828251843.0533583,
            1864832391.400304,
            1784299102.8789418,
            139289949.52990335,
            1603683219.1510286,
            305162971.5105151,
            549590276.3382756,
            1864994900.90623,
            335930077.51727545,
            1828146185.3872972,
            1575606113.511331,
            326805592.0015315,
            598560801.8234245,
            288873612.1854023,
            429650245.0313443,
            1828293004.7277248,
            1737040237.1816576,
            429693484.2628677,
            547550983.4312651,
            112734766.77166402,
            430546702.2179956,
            1865649662.3186707,
            549647128.178141,
            88535401.0412281,
            1863478923.8223968,
            1828282756.671764,
            1864979210.740731,
            1827486814.209782,
            1864994381.2148983,
            1828308694.8932235,
            597397852.1878288,
            1126978672.75451,
            1855853402.4523487,
            1828308694.8932235,
            544862360.728189,
            232043985.3919791,
            1575568980.643838,
            1737040756.872989,
            1784345543.1697187,
            1865604370.597232,
            212605922.50795245,
            1822845970.0478263,
            1784300310.8342266,
            139291600.58316857,
            524830737.7191234,
            268973138.74713075,
            1813116882.1906104,
            549647128.178141,
            1861305879.241785,
            1852725306.5525095,
            1825603598.7142296,
            80563870.23852536,
            139056032.62713906,
            304024632.6712942,
            381593259.5865384,
            1853547187.2359517,
            1865621472.388753,
            1470164825.5077534,
            1813117221.6278105,
            1828308694.8932235,
            1823836760.9441748,
            224123617.9535885,
            0,
            1228791280.9396489,
            1573839275.7412765,
            1737040756.872989,
            432289542.5039387,
            671662654.9264019,
            1374185966.5607524,
            429648624.09319377,
            1863494613.987896,
            516921887.3972877,
            269049316.56946254,
            1750822571.943876,
            139521793.96969068,
            300536518.116431,
            187694204.8772706,
            112596914.96271564,
            1825603598.7142296,
            0,
            1771514600.46759,
            63446990.08906834,
            1470164825.5077534,
            429900616.8522932,
            545477861.3669982,
            1855843154.396388,
            63726033.826036006,
            1734298527.8265016,
            1737040756.872989,
            1750822571.943876,
            516921887.3972877,
            1470164825.5077534,
            186504356.52220243,
            0,
            1779670097.0516834,
            600124391.0688175,
            20519327.179807726,
            536947239.02942,
            1859726599.8308933,
            1859726599.8308933,
            251937503.60185355,
            860935362.0485307,
            0,
            267319611.66690108,
            1737040756.872989,
            1603626367.311163,
            671625522.0589085,
            154157221.59901237,
            1822856218.103787,
            189253104.90066245,
            1228791280.9396489,
            668537476.6361988,
            1734335660.6939948,
            0,
            94152794.14638457,
            13703209.8127167,
            671662654.9264019,
            224086485.08609515,
            427997816.1031346,
            224180469.79345396,
            1736218876.1895473,
            545477861.3669982,
            1736772104.0309062,
            347418811.7387077,
            1861914995.1398044,
            344901903.51182795,
            1784344565.6797152,
            1470164825.5077534,
            432289617.04737,
            370680158.95468175,
            1750822571.943876,
            371147080.7306295,
            1823836760.9441748,
            1825603598.7142296,
            1852725306.5525095,
            27936331.58607387,
            597397852.1878288,
            370680158.95468175,
            234343988.6071584,
            542754698.2748444,
            1228791280.9396489,
            1131762232.249177,
            516921887.3972877,
            270878215.66797745,
            1470164825.5077534,
            1750822571.943876,
            1736878247.3670628,
            600139561.5429851,
            9443127.54402293,
            1129667344.145744,
            189456315.97797143
           ]
          },
          {
           "label": "Traditional Costs",
           "values": [
            455704335.78161013,
            89669.86337945152,
            419114922.12015563,
            54917417.981938794,
            30753140.743325047,
            30753328.001590725,
            92130491.01158373,
            30787684.627821818,
            88617.30185670986,
            419115027.78108853,
            55390.88386916183,
            20353600.616236567,
            455709197.37945443,
            111171.43894376562,
            121485.00410990196,
            54342.71512751366,
            30753110.371704374,
            711804193.1811159,
            30788216.17848985,
            176721908.05909136,
            52903545.004522234,
            111401.61850435389,
            81736107.04095747,
            122658.0228005285,
            20357671.051625427,
            54918668.1929045,
            24198032,
            52917563.82656406,
            92120225.63305639,
            121467.6760692675,
            20392139.980125774,
            92132161.95008309,
            52890031.034352496,
            213315309.38537312,
            92131449.18305394,
            53378.8924125123,
            52903211.10832564,
            54937028.163239636,
            114456.14235176516,
            98092.0267719422,
            20411085.86040117,
            59334.83009745396,
            20410777.64205003,
            97452.52750623466,
            24236802.27777853,
            51067222.68324693,
            58317.31837704833,
            121070.43417245153,
            52906443.38392745,
            52922756.218760855,
            20357872.68255215,
            20392059.60235218,
            30752822.871875744,
            20409795.535538256,
            54915890.858377546,
            61533.97593931604,
            30753007.82048245,
            711804151.6370753,
            52915531.69441441,
            213314688.57991582,
            105801.7622324214,
            52889137.34170108,
            115186.7173767344,
            97217.08710329856,
            98895.0007076126,
            455715884.41173726,
            967908645.0784361,
            92122213.47692531,
            92135373.18621166,
            119470.28119184478,
            53764.09667609143,
            20360174.25855257,
            133112.42610698656,
            58700.81656846135,
            60438.57251929784,
            54898032,
            54958010.728795856,
            30700000,
            20299287,
            20392789.328823768,
            92130942.14172803,
            51068263.2332889,
            30754316.9031018,
            92120507.83208022,
            90059.7750580878,
            22221492.044212006,
            24232359.51516409,
            0,
            540304236.3530911,
            419115060.26904947,
            92137089.1954654,
            213300000,
            59850.19866317058,
            83567818.19880375,
            144996.2518605654,
            540310909.6311264,
            20401099.30249402,
            92119226.60306104,
            52905408.63631439,
            97135.6102197504,
            438700000,
            20356238.980921112,
            20355168.47201897,
            145745.44286154312,
            22199977.254389115,
            20360350.22834577,
            81718146.16292359,
            54898032.45136138,
            133838.96356839655,
            24220049.250748105,
            711812152.9163299,
            24198032.45136138,
            57226.08332243722,
            96419.553609826,
            92135659.53879324,
            22167818,
            26403379,
            24242409.21709374,
            20414542.53603912,
            30788681.99926812,
            51071285.15859505,
            54928663.65668793,
            127070.54313031324,
            81699287,
            30811101.71521713,
            50999287,
            20394231.802025147,
            112399287,
            455711505.473335,
            83567818,
            51032640.16070284,
            54910244.71691602,
            92133370.26580562,
            54922206.2494251,
            20355973.82980476,
            52890370.849096805,
            20393154.04459441,
            24229652.571558263,
            56722.42592796136,
            182600000,
            30787864.47193948,
            20425230.53578384,
            92118366.3505069,
            61400000,
            115122.97880528423,
            51027308.75722528,
            101067.82770126688,
            123441.03474278931,
            58558.998349281,
            81699287.62732069,
            24220926.078836393,
            61446364.87510136,
            52867818,
            52906686.07039058,
            30789749.631952412,
            51063839.49069791,
            22235418.050906878,
            213313577.16068357,
            20425583.305992793,
            69521.26199424785,
            20415222.767485265,
            24219899.360186175,
            213328291.73545557,
            51065292.50014833,
            81717284.60006265
           ]
          }
         ],
         "domain": {
          "x": [
           0,
           1
          ],
          "y": [
           0,
           1
          ]
         },
         "line": {
          "color": [
           0,
           1,
           2,
           3,
           4,
           5,
           6,
           7,
           8,
           9,
           10,
           11,
           12,
           13,
           14,
           15,
           16,
           17,
           18,
           19,
           20,
           21,
           22,
           23,
           24,
           25,
           26,
           27,
           28,
           29,
           30,
           31,
           32,
           33,
           34,
           35,
           36,
           37,
           38,
           39,
           40,
           41,
           42,
           43,
           44,
           45,
           46,
           47,
           48,
           49,
           50,
           51,
           52,
           53,
           54,
           55,
           56,
           57,
           58,
           59,
           60,
           61,
           62,
           63,
           64,
           65,
           66,
           67,
           68,
           69,
           70,
           71,
           72,
           73,
           74,
           75,
           76,
           77,
           78,
           79,
           80,
           81,
           82,
           83,
           84,
           85,
           86,
           87,
           88,
           89,
           90,
           91,
           92,
           93,
           94,
           95,
           96,
           97,
           98,
           99,
           100,
           101,
           102,
           103,
           104,
           105,
           106,
           107,
           108,
           109,
           110,
           111,
           112,
           113,
           114,
           115,
           116,
           117,
           118,
           119,
           120,
           121,
           122,
           123,
           124,
           125,
           126,
           127,
           128,
           129,
           130,
           131,
           132,
           133,
           134,
           135,
           136,
           137,
           138,
           139,
           140,
           141,
           142,
           143,
           144,
           145,
           146,
           147,
           148,
           149,
           150,
           151,
           152,
           153,
           154,
           155,
           156,
           157,
           158,
           159,
           160,
           161,
           162,
           163,
           164
          ],
          "coloraxis": "coloraxis"
         },
         "name": "",
         "type": "parcoords"
        }
       ],
       "layout": {
        "coloraxis": {
         "colorbar": {
          "title": {
           "text": "index"
          }
         },
         "colorscale": [
          [
           0,
           "#0d0887"
          ],
          [
           0.1111111111111111,
           "#46039f"
          ],
          [
           0.2222222222222222,
           "#7201a8"
          ],
          [
           0.3333333333333333,
           "#9c179e"
          ],
          [
           0.4444444444444444,
           "#bd3786"
          ],
          [
           0.5555555555555556,
           "#d8576b"
          ],
          [
           0.6666666666666666,
           "#ed7953"
          ],
          [
           0.7777777777777778,
           "#fb9f3a"
          ],
          [
           0.8888888888888888,
           "#fdca26"
          ],
          [
           1,
           "#f0f921"
          ]
         ]
        },
        "legend": {
         "tracegroupgap": 0
        },
        "margin": {
         "t": 60
        },
        "showlegend": false,
        "template": {
         "data": {
          "bar": [
           {
            "error_x": {
             "color": "#2a3f5f"
            },
            "error_y": {
             "color": "#2a3f5f"
            },
            "marker": {
             "line": {
              "color": "#E5ECF6",
              "width": 0.5
             },
             "pattern": {
              "fillmode": "overlay",
              "size": 10,
              "solidity": 0.2
             }
            },
            "type": "bar"
           }
          ],
          "barpolar": [
           {
            "marker": {
             "line": {
              "color": "#E5ECF6",
              "width": 0.5
             },
             "pattern": {
              "fillmode": "overlay",
              "size": 10,
              "solidity": 0.2
             }
            },
            "type": "barpolar"
           }
          ],
          "carpet": [
           {
            "aaxis": {
             "endlinecolor": "#2a3f5f",
             "gridcolor": "white",
             "linecolor": "white",
             "minorgridcolor": "white",
             "startlinecolor": "#2a3f5f"
            },
            "baxis": {
             "endlinecolor": "#2a3f5f",
             "gridcolor": "white",
             "linecolor": "white",
             "minorgridcolor": "white",
             "startlinecolor": "#2a3f5f"
            },
            "type": "carpet"
           }
          ],
          "choropleth": [
           {
            "colorbar": {
             "outlinewidth": 0,
             "ticks": ""
            },
            "type": "choropleth"
           }
          ],
          "contour": [
           {
            "colorbar": {
             "outlinewidth": 0,
             "ticks": ""
            },
            "colorscale": [
             [
              0,
              "#0d0887"
             ],
             [
              0.1111111111111111,
              "#46039f"
             ],
             [
              0.2222222222222222,
              "#7201a8"
             ],
             [
              0.3333333333333333,
              "#9c179e"
             ],
             [
              0.4444444444444444,
              "#bd3786"
             ],
             [
              0.5555555555555556,
              "#d8576b"
             ],
             [
              0.6666666666666666,
              "#ed7953"
             ],
             [
              0.7777777777777778,
              "#fb9f3a"
             ],
             [
              0.8888888888888888,
              "#fdca26"
             ],
             [
              1,
              "#f0f921"
             ]
            ],
            "type": "contour"
           }
          ],
          "contourcarpet": [
           {
            "colorbar": {
             "outlinewidth": 0,
             "ticks": ""
            },
            "type": "contourcarpet"
           }
          ],
          "heatmap": [
           {
            "colorbar": {
             "outlinewidth": 0,
             "ticks": ""
            },
            "colorscale": [
             [
              0,
              "#0d0887"
             ],
             [
              0.1111111111111111,
              "#46039f"
             ],
             [
              0.2222222222222222,
              "#7201a8"
             ],
             [
              0.3333333333333333,
              "#9c179e"
             ],
             [
              0.4444444444444444,
              "#bd3786"
             ],
             [
              0.5555555555555556,
              "#d8576b"
             ],
             [
              0.6666666666666666,
              "#ed7953"
             ],
             [
              0.7777777777777778,
              "#fb9f3a"
             ],
             [
              0.8888888888888888,
              "#fdca26"
             ],
             [
              1,
              "#f0f921"
             ]
            ],
            "type": "heatmap"
           }
          ],
          "heatmapgl": [
           {
            "colorbar": {
             "outlinewidth": 0,
             "ticks": ""
            },
            "colorscale": [
             [
              0,
              "#0d0887"
             ],
             [
              0.1111111111111111,
              "#46039f"
             ],
             [
              0.2222222222222222,
              "#7201a8"
             ],
             [
              0.3333333333333333,
              "#9c179e"
             ],
             [
              0.4444444444444444,
              "#bd3786"
             ],
             [
              0.5555555555555556,
              "#d8576b"
             ],
             [
              0.6666666666666666,
              "#ed7953"
             ],
             [
              0.7777777777777778,
              "#fb9f3a"
             ],
             [
              0.8888888888888888,
              "#fdca26"
             ],
             [
              1,
              "#f0f921"
             ]
            ],
            "type": "heatmapgl"
           }
          ],
          "histogram": [
           {
            "marker": {
             "pattern": {
              "fillmode": "overlay",
              "size": 10,
              "solidity": 0.2
             }
            },
            "type": "histogram"
           }
          ],
          "histogram2d": [
           {
            "colorbar": {
             "outlinewidth": 0,
             "ticks": ""
            },
            "colorscale": [
             [
              0,
              "#0d0887"
             ],
             [
              0.1111111111111111,
              "#46039f"
             ],
             [
              0.2222222222222222,
              "#7201a8"
             ],
             [
              0.3333333333333333,
              "#9c179e"
             ],
             [
              0.4444444444444444,
              "#bd3786"
             ],
             [
              0.5555555555555556,
              "#d8576b"
             ],
             [
              0.6666666666666666,
              "#ed7953"
             ],
             [
              0.7777777777777778,
              "#fb9f3a"
             ],
             [
              0.8888888888888888,
              "#fdca26"
             ],
             [
              1,
              "#f0f921"
             ]
            ],
            "type": "histogram2d"
           }
          ],
          "histogram2dcontour": [
           {
            "colorbar": {
             "outlinewidth": 0,
             "ticks": ""
            },
            "colorscale": [
             [
              0,
              "#0d0887"
             ],
             [
              0.1111111111111111,
              "#46039f"
             ],
             [
              0.2222222222222222,
              "#7201a8"
             ],
             [
              0.3333333333333333,
              "#9c179e"
             ],
             [
              0.4444444444444444,
              "#bd3786"
             ],
             [
              0.5555555555555556,
              "#d8576b"
             ],
             [
              0.6666666666666666,
              "#ed7953"
             ],
             [
              0.7777777777777778,
              "#fb9f3a"
             ],
             [
              0.8888888888888888,
              "#fdca26"
             ],
             [
              1,
              "#f0f921"
             ]
            ],
            "type": "histogram2dcontour"
           }
          ],
          "mesh3d": [
           {
            "colorbar": {
             "outlinewidth": 0,
             "ticks": ""
            },
            "type": "mesh3d"
           }
          ],
          "parcoords": [
           {
            "line": {
             "colorbar": {
              "outlinewidth": 0,
              "ticks": ""
             }
            },
            "type": "parcoords"
           }
          ],
          "pie": [
           {
            "automargin": true,
            "type": "pie"
           }
          ],
          "scatter": [
           {
            "fillpattern": {
             "fillmode": "overlay",
             "size": 10,
             "solidity": 0.2
            },
            "type": "scatter"
           }
          ],
          "scatter3d": [
           {
            "line": {
             "colorbar": {
              "outlinewidth": 0,
              "ticks": ""
             }
            },
            "marker": {
             "colorbar": {
              "outlinewidth": 0,
              "ticks": ""
             }
            },
            "type": "scatter3d"
           }
          ],
          "scattercarpet": [
           {
            "marker": {
             "colorbar": {
              "outlinewidth": 0,
              "ticks": ""
             }
            },
            "type": "scattercarpet"
           }
          ],
          "scattergeo": [
           {
            "marker": {
             "colorbar": {
              "outlinewidth": 0,
              "ticks": ""
             }
            },
            "type": "scattergeo"
           }
          ],
          "scattergl": [
           {
            "marker": {
             "colorbar": {
              "outlinewidth": 0,
              "ticks": ""
             }
            },
            "type": "scattergl"
           }
          ],
          "scattermapbox": [
           {
            "marker": {
             "colorbar": {
              "outlinewidth": 0,
              "ticks": ""
             }
            },
            "type": "scattermapbox"
           }
          ],
          "scatterpolar": [
           {
            "marker": {
             "colorbar": {
              "outlinewidth": 0,
              "ticks": ""
             }
            },
            "type": "scatterpolar"
           }
          ],
          "scatterpolargl": [
           {
            "marker": {
             "colorbar": {
              "outlinewidth": 0,
              "ticks": ""
             }
            },
            "type": "scatterpolargl"
           }
          ],
          "scatterternary": [
           {
            "marker": {
             "colorbar": {
              "outlinewidth": 0,
              "ticks": ""
             }
            },
            "type": "scatterternary"
           }
          ],
          "surface": [
           {
            "colorbar": {
             "outlinewidth": 0,
             "ticks": ""
            },
            "colorscale": [
             [
              0,
              "#0d0887"
             ],
             [
              0.1111111111111111,
              "#46039f"
             ],
             [
              0.2222222222222222,
              "#7201a8"
             ],
             [
              0.3333333333333333,
              "#9c179e"
             ],
             [
              0.4444444444444444,
              "#bd3786"
             ],
             [
              0.5555555555555556,
              "#d8576b"
             ],
             [
              0.6666666666666666,
              "#ed7953"
             ],
             [
              0.7777777777777778,
              "#fb9f3a"
             ],
             [
              0.8888888888888888,
              "#fdca26"
             ],
             [
              1,
              "#f0f921"
             ]
            ],
            "type": "surface"
           }
          ],
          "table": [
           {
            "cells": {
             "fill": {
              "color": "#EBF0F8"
             },
             "line": {
              "color": "white"
             }
            },
            "header": {
             "fill": {
              "color": "#C8D4E3"
             },
             "line": {
              "color": "white"
             }
            },
            "type": "table"
           }
          ]
         },
         "layout": {
          "annotationdefaults": {
           "arrowcolor": "#2a3f5f",
           "arrowhead": 0,
           "arrowwidth": 1
          },
          "autotypenumbers": "strict",
          "coloraxis": {
           "colorbar": {
            "outlinewidth": 0,
            "ticks": ""
           }
          },
          "colorscale": {
           "diverging": [
            [
             0,
             "#8e0152"
            ],
            [
             0.1,
             "#c51b7d"
            ],
            [
             0.2,
             "#de77ae"
            ],
            [
             0.3,
             "#f1b6da"
            ],
            [
             0.4,
             "#fde0ef"
            ],
            [
             0.5,
             "#f7f7f7"
            ],
            [
             0.6,
             "#e6f5d0"
            ],
            [
             0.7,
             "#b8e186"
            ],
            [
             0.8,
             "#7fbc41"
            ],
            [
             0.9,
             "#4d9221"
            ],
            [
             1,
             "#276419"
            ]
           ],
           "sequential": [
            [
             0,
             "#0d0887"
            ],
            [
             0.1111111111111111,
             "#46039f"
            ],
            [
             0.2222222222222222,
             "#7201a8"
            ],
            [
             0.3333333333333333,
             "#9c179e"
            ],
            [
             0.4444444444444444,
             "#bd3786"
            ],
            [
             0.5555555555555556,
             "#d8576b"
            ],
            [
             0.6666666666666666,
             "#ed7953"
            ],
            [
             0.7777777777777778,
             "#fb9f3a"
            ],
            [
             0.8888888888888888,
             "#fdca26"
            ],
            [
             1,
             "#f0f921"
            ]
           ],
           "sequentialminus": [
            [
             0,
             "#0d0887"
            ],
            [
             0.1111111111111111,
             "#46039f"
            ],
            [
             0.2222222222222222,
             "#7201a8"
            ],
            [
             0.3333333333333333,
             "#9c179e"
            ],
            [
             0.4444444444444444,
             "#bd3786"
            ],
            [
             0.5555555555555556,
             "#d8576b"
            ],
            [
             0.6666666666666666,
             "#ed7953"
            ],
            [
             0.7777777777777778,
             "#fb9f3a"
            ],
            [
             0.8888888888888888,
             "#fdca26"
            ],
            [
             1,
             "#f0f921"
            ]
           ]
          },
          "colorway": [
           "#636efa",
           "#EF553B",
           "#00cc96",
           "#ab63fa",
           "#FFA15A",
           "#19d3f3",
           "#FF6692",
           "#B6E880",
           "#FF97FF",
           "#FECB52"
          ],
          "font": {
           "color": "#2a3f5f"
          },
          "geo": {
           "bgcolor": "white",
           "lakecolor": "white",
           "landcolor": "#E5ECF6",
           "showlakes": true,
           "showland": true,
           "subunitcolor": "white"
          },
          "hoverlabel": {
           "align": "left"
          },
          "hovermode": "closest",
          "mapbox": {
           "style": "light"
          },
          "paper_bgcolor": "white",
          "plot_bgcolor": "#E5ECF6",
          "polar": {
           "angularaxis": {
            "gridcolor": "white",
            "linecolor": "white",
            "ticks": ""
           },
           "bgcolor": "#E5ECF6",
           "radialaxis": {
            "gridcolor": "white",
            "linecolor": "white",
            "ticks": ""
           }
          },
          "scene": {
           "xaxis": {
            "backgroundcolor": "#E5ECF6",
            "gridcolor": "white",
            "gridwidth": 2,
            "linecolor": "white",
            "showbackground": true,
            "ticks": "",
            "zerolinecolor": "white"
           },
           "yaxis": {
            "backgroundcolor": "#E5ECF6",
            "gridcolor": "white",
            "gridwidth": 2,
            "linecolor": "white",
            "showbackground": true,
            "ticks": "",
            "zerolinecolor": "white"
           },
           "zaxis": {
            "backgroundcolor": "#E5ECF6",
            "gridcolor": "white",
            "gridwidth": 2,
            "linecolor": "white",
            "showbackground": true,
            "ticks": "",
            "zerolinecolor": "white"
           }
          },
          "shapedefaults": {
           "line": {
            "color": "#2a3f5f"
           }
          },
          "ternary": {
           "aaxis": {
            "gridcolor": "white",
            "linecolor": "white",
            "ticks": ""
           },
           "baxis": {
            "gridcolor": "white",
            "linecolor": "white",
            "ticks": ""
           },
           "bgcolor": "#E5ECF6",
           "caxis": {
            "gridcolor": "white",
            "linecolor": "white",
            "ticks": ""
           }
          },
          "title": {
           "x": 0.05
          },
          "xaxis": {
           "automargin": true,
           "gridcolor": "white",
           "linecolor": "white",
           "ticks": "",
           "title": {
            "standoff": 15
           },
           "zerolinecolor": "white",
           "zerolinewidth": 2
          },
          "yaxis": {
           "automargin": true,
           "gridcolor": "white",
           "linecolor": "white",
           "ticks": "",
           "title": {
            "standoff": 15
           },
           "zerolinecolor": "white",
           "zerolinewidth": 2
          }
         }
        }
       }
      }
     },
     "metadata": {},
     "output_type": "display_data"
    }
   ],
   "source": [
    "fig2 = px.parallel_coordinates(results_agg, dimensions=[\"Expected Casualties\",\"Expected Damage\", \"Traditional Costs\"], color = results_agg.index)\n",
    "fig2.update_layout(showlegend=False)\n",
    "fig2.show()\n",
    "fig2.write_image(\"./plots/Aggr_ParallelPlot_dike3_iter1.png\")"
   ]
  },
  {
   "cell_type": "markdown",
   "metadata": {},
   "source": [
    "![](../figures/Gelderland_Tradeoffs_Aggr_1ReferenceScenario.png)"
   ]
  },
  {
   "cell_type": "markdown",
   "metadata": {},
   "source": [
    "## Re-Evaluate under deep uncertainty\n",
    "For evaluating the promising policies under deep uncertainty, we set a hard limit on one expected casualties below 0.001 and expected damages below €100.000. "
   ]
  },
  {
   "cell_type": "code",
   "execution_count": 12,
   "metadata": {},
   "outputs": [
    {
     "data": {
      "text/html": [
       "<div>\n",
       "<style scoped>\n",
       "    .dataframe tbody tr th:only-of-type {\n",
       "        vertical-align: middle;\n",
       "    }\n",
       "\n",
       "    .dataframe tbody tr th {\n",
       "        vertical-align: top;\n",
       "    }\n",
       "\n",
       "    .dataframe thead th {\n",
       "        text-align: right;\n",
       "    }\n",
       "</style>\n",
       "<table border=\"1\" class=\"dataframe\">\n",
       "  <thead>\n",
       "    <tr style=\"text-align: right;\">\n",
       "      <th></th>\n",
       "      <th>A3 Expected Annual Damage</th>\n",
       "      <th>A3 Aggr Expected Number of Deaths</th>\n",
       "      <th>A3 Dike Investment Costs</th>\n",
       "      <th>Room for River Investment Costs</th>\n",
       "      <th>Evacuation Costs</th>\n",
       "    </tr>\n",
       "  </thead>\n",
       "  <tbody>\n",
       "    <tr>\n",
       "      <th>count</th>\n",
       "      <td>1.650000e+02</td>\n",
       "      <td>165.000000</td>\n",
       "      <td>1.650000e+02</td>\n",
       "      <td>1.650000e+02</td>\n",
       "      <td>165.000000</td>\n",
       "    </tr>\n",
       "    <tr>\n",
       "      <th>mean</th>\n",
       "      <td>1.001771e+09</td>\n",
       "      <td>0.517343</td>\n",
       "      <td>9.793703e+06</td>\n",
       "      <td>7.448848e+07</td>\n",
       "      <td>52677.479959</td>\n",
       "    </tr>\n",
       "    <tr>\n",
       "      <th>std</th>\n",
       "      <td>7.291727e+08</td>\n",
       "      <td>0.541044</td>\n",
       "      <td>1.095330e+07</td>\n",
       "      <td>1.592752e+08</td>\n",
       "      <td>40434.596440</td>\n",
       "    </tr>\n",
       "    <tr>\n",
       "      <th>min</th>\n",
       "      <td>0.000000e+00</td>\n",
       "      <td>0.000000</td>\n",
       "      <td>0.000000e+00</td>\n",
       "      <td>0.000000e+00</td>\n",
       "      <td>0.000000</td>\n",
       "    </tr>\n",
       "    <tr>\n",
       "      <th>25%</th>\n",
       "      <td>3.008581e+08</td>\n",
       "      <td>0.122832</td>\n",
       "      <td>0.000000e+00</td>\n",
       "      <td>0.000000e+00</td>\n",
       "      <td>19226.603061</td>\n",
       "    </tr>\n",
       "    <tr>\n",
       "      <th>50%</th>\n",
       "      <td>6.716627e+08</td>\n",
       "      <td>0.410553</td>\n",
       "      <td>0.000000e+00</td>\n",
       "      <td>3.070000e+07</td>\n",
       "      <td>52822.871876</td>\n",
       "    </tr>\n",
       "    <tr>\n",
       "      <th>75%</th>\n",
       "      <td>1.784346e+09</td>\n",
       "      <td>0.551092</td>\n",
       "      <td>2.029929e+07</td>\n",
       "      <td>6.140000e+07</td>\n",
       "      <td>88681.999268</td>\n",
       "    </tr>\n",
       "    <tr>\n",
       "      <th>max</th>\n",
       "      <td>1.865650e+09</td>\n",
       "      <td>3.343016</td>\n",
       "      <td>2.640338e+07</td>\n",
       "      <td>9.679000e+08</td>\n",
       "      <td>145745.442862</td>\n",
       "    </tr>\n",
       "  </tbody>\n",
       "</table>\n",
       "</div>"
      ],
      "text/plain": [
       "       A3 Expected Annual Damage  A3 Aggr Expected Number of Deaths  \\\n",
       "count               1.650000e+02                         165.000000   \n",
       "mean                1.001771e+09                           0.517343   \n",
       "std                 7.291727e+08                           0.541044   \n",
       "min                 0.000000e+00                           0.000000   \n",
       "25%                 3.008581e+08                           0.122832   \n",
       "50%                 6.716627e+08                           0.410553   \n",
       "75%                 1.784346e+09                           0.551092   \n",
       "max                 1.865650e+09                           3.343016   \n",
       "\n",
       "       A3 Dike Investment Costs  Room for River Investment Costs  \\\n",
       "count              1.650000e+02                     1.650000e+02   \n",
       "mean               9.793703e+06                     7.448848e+07   \n",
       "std                1.095330e+07                     1.592752e+08   \n",
       "min                0.000000e+00                     0.000000e+00   \n",
       "25%                0.000000e+00                     0.000000e+00   \n",
       "50%                0.000000e+00                     3.070000e+07   \n",
       "75%                2.029929e+07                     6.140000e+07   \n",
       "max                2.640338e+07                     9.679000e+08   \n",
       "\n",
       "       Evacuation Costs  \n",
       "count        165.000000  \n",
       "mean       52677.479959  \n",
       "std        40434.596440  \n",
       "min            0.000000  \n",
       "25%        19226.603061  \n",
       "50%        52822.871876  \n",
       "75%        88681.999268  \n",
       "max       145745.442862  "
      ]
     },
     "execution_count": 12,
     "metadata": {},
     "output_type": "execute_result"
    }
   ],
   "source": [
    "temp=results_combined.iloc[:,31:]\n",
    "temp.describe()"
   ]
  },
  {
   "cell_type": "code",
   "execution_count": 13,
   "metadata": {},
   "outputs": [
    {
     "data": {
      "text/plain": [
       "(15, 36)"
      ]
     },
     "execution_count": 13,
     "metadata": {},
     "output_type": "execute_result"
    }
   ],
   "source": [
    "#results_subset = results_combined[(results_combined[\"A3 Aggr Expected Number of Deaths\"] < 0.01) &  (results_combined[\"A3 Expected Annual Damage\"] < 100000)]\n",
    "results_subset = results_combined[(results_combined[\"A3 Aggr Expected Number of Deaths\"] < 0.05)  | (results_combined[\"A3 Expected Annual Damage\"] < 1.7e7)]\n",
    "\n",
    "results_subset.shape"
   ]
  },
  {
   "cell_type": "code",
   "execution_count": 14,
   "metadata": {},
   "outputs": [
    {
     "data": {
      "text/html": [
       "<div>\n",
       "<style scoped>\n",
       "    .dataframe tbody tr th:only-of-type {\n",
       "        vertical-align: middle;\n",
       "    }\n",
       "\n",
       "    .dataframe tbody tr th {\n",
       "        vertical-align: top;\n",
       "    }\n",
       "\n",
       "    .dataframe thead th {\n",
       "        text-align: right;\n",
       "    }\n",
       "</style>\n",
       "<table border=\"1\" class=\"dataframe\">\n",
       "  <thead>\n",
       "    <tr style=\"text-align: right;\">\n",
       "      <th></th>\n",
       "      <th>0_RfR 0</th>\n",
       "      <th>0_RfR 1</th>\n",
       "      <th>0_RfR 2</th>\n",
       "      <th>1_RfR 0</th>\n",
       "      <th>1_RfR 1</th>\n",
       "      <th>1_RfR 2</th>\n",
       "      <th>2_RfR 0</th>\n",
       "      <th>2_RfR 1</th>\n",
       "      <th>2_RfR 2</th>\n",
       "      <th>3_RfR 0</th>\n",
       "      <th>...</th>\n",
       "      <th>A.4_DikeIncrease 1</th>\n",
       "      <th>A.4_DikeIncrease 2</th>\n",
       "      <th>A.5_DikeIncrease 0</th>\n",
       "      <th>A.5_DikeIncrease 1</th>\n",
       "      <th>A.5_DikeIncrease 2</th>\n",
       "      <th>A3 Expected Annual Damage</th>\n",
       "      <th>A3 Aggr Expected Number of Deaths</th>\n",
       "      <th>A3 Dike Investment Costs</th>\n",
       "      <th>Room for River Investment Costs</th>\n",
       "      <th>Evacuation Costs</th>\n",
       "    </tr>\n",
       "  </thead>\n",
       "  <tbody>\n",
       "    <tr>\n",
       "      <th>12</th>\n",
       "      <td>0</td>\n",
       "      <td>0</td>\n",
       "      <td>0</td>\n",
       "      <td>0</td>\n",
       "      <td>0</td>\n",
       "      <td>0</td>\n",
       "      <td>1</td>\n",
       "      <td>1</td>\n",
       "      <td>1</td>\n",
       "      <td>1</td>\n",
       "      <td>...</td>\n",
       "      <td>4</td>\n",
       "      <td>2</td>\n",
       "      <td>6</td>\n",
       "      <td>6</td>\n",
       "      <td>6</td>\n",
       "      <td>1.391194e+08</td>\n",
       "      <td>0.032036</td>\n",
       "      <td>0.000000e+00</td>\n",
       "      <td>455700000.0</td>\n",
       "      <td>9197.379454</td>\n",
       "    </tr>\n",
       "    <tr>\n",
       "      <th>37</th>\n",
       "      <td>0</td>\n",
       "      <td>0</td>\n",
       "      <td>0</td>\n",
       "      <td>0</td>\n",
       "      <td>0</td>\n",
       "      <td>0</td>\n",
       "      <td>1</td>\n",
       "      <td>0</td>\n",
       "      <td>0</td>\n",
       "      <td>0</td>\n",
       "      <td>...</td>\n",
       "      <td>6</td>\n",
       "      <td>4</td>\n",
       "      <td>4</td>\n",
       "      <td>3</td>\n",
       "      <td>5</td>\n",
       "      <td>8.853540e+07</td>\n",
       "      <td>0.033614</td>\n",
       "      <td>2.419803e+07</td>\n",
       "      <td>30700000.0</td>\n",
       "      <td>38996.163240</td>\n",
       "    </tr>\n",
       "    <tr>\n",
       "      <th>65</th>\n",
       "      <td>0</td>\n",
       "      <td>0</td>\n",
       "      <td>0</td>\n",
       "      <td>0</td>\n",
       "      <td>0</td>\n",
       "      <td>0</td>\n",
       "      <td>1</td>\n",
       "      <td>1</td>\n",
       "      <td>1</td>\n",
       "      <td>1</td>\n",
       "      <td>...</td>\n",
       "      <td>1</td>\n",
       "      <td>4</td>\n",
       "      <td>6</td>\n",
       "      <td>5</td>\n",
       "      <td>7</td>\n",
       "      <td>8.056387e+07</td>\n",
       "      <td>0.023527</td>\n",
       "      <td>0.000000e+00</td>\n",
       "      <td>455700000.0</td>\n",
       "      <td>15884.411737</td>\n",
       "    </tr>\n",
       "    <tr>\n",
       "      <th>66</th>\n",
       "      <td>0</td>\n",
       "      <td>0</td>\n",
       "      <td>0</td>\n",
       "      <td>0</td>\n",
       "      <td>0</td>\n",
       "      <td>0</td>\n",
       "      <td>1</td>\n",
       "      <td>1</td>\n",
       "      <td>1</td>\n",
       "      <td>1</td>\n",
       "      <td>...</td>\n",
       "      <td>5</td>\n",
       "      <td>5</td>\n",
       "      <td>6</td>\n",
       "      <td>5</td>\n",
       "      <td>7</td>\n",
       "      <td>1.390560e+08</td>\n",
       "      <td>0.032016</td>\n",
       "      <td>0.000000e+00</td>\n",
       "      <td>967900000.0</td>\n",
       "      <td>8645.078436</td>\n",
       "    </tr>\n",
       "    <tr>\n",
       "      <th>76</th>\n",
       "      <td>0</td>\n",
       "      <td>0</td>\n",
       "      <td>0</td>\n",
       "      <td>0</td>\n",
       "      <td>0</td>\n",
       "      <td>0</td>\n",
       "      <td>0</td>\n",
       "      <td>1</td>\n",
       "      <td>0</td>\n",
       "      <td>0</td>\n",
       "      <td>...</td>\n",
       "      <td>0</td>\n",
       "      <td>0</td>\n",
       "      <td>0</td>\n",
       "      <td>5</td>\n",
       "      <td>4</td>\n",
       "      <td>0.000000e+00</td>\n",
       "      <td>0.000000</td>\n",
       "      <td>2.419803e+07</td>\n",
       "      <td>30700000.0</td>\n",
       "      <td>59978.728796</td>\n",
       "    </tr>\n",
       "    <tr>\n",
       "      <th>93</th>\n",
       "      <td>0</td>\n",
       "      <td>0</td>\n",
       "      <td>0</td>\n",
       "      <td>0</td>\n",
       "      <td>0</td>\n",
       "      <td>0</td>\n",
       "      <td>1</td>\n",
       "      <td>0</td>\n",
       "      <td>1</td>\n",
       "      <td>0</td>\n",
       "      <td>...</td>\n",
       "      <td>2</td>\n",
       "      <td>4</td>\n",
       "      <td>7</td>\n",
       "      <td>5</td>\n",
       "      <td>6</td>\n",
       "      <td>0.000000e+00</td>\n",
       "      <td>0.000000</td>\n",
       "      <td>2.216782e+07</td>\n",
       "      <td>61400000.0</td>\n",
       "      <td>0.000000</td>\n",
       "    </tr>\n",
       "    <tr>\n",
       "      <th>95</th>\n",
       "      <td>1</td>\n",
       "      <td>0</td>\n",
       "      <td>0</td>\n",
       "      <td>0</td>\n",
       "      <td>0</td>\n",
       "      <td>0</td>\n",
       "      <td>1</td>\n",
       "      <td>1</td>\n",
       "      <td>1</td>\n",
       "      <td>1</td>\n",
       "      <td>...</td>\n",
       "      <td>5</td>\n",
       "      <td>4</td>\n",
       "      <td>7</td>\n",
       "      <td>3</td>\n",
       "      <td>10</td>\n",
       "      <td>6.344699e+07</td>\n",
       "      <td>0.020227</td>\n",
       "      <td>0.000000e+00</td>\n",
       "      <td>540300000.0</td>\n",
       "      <td>10909.631126</td>\n",
       "    </tr>\n",
       "    <tr>\n",
       "      <th>107</th>\n",
       "      <td>0</td>\n",
       "      <td>0</td>\n",
       "      <td>0</td>\n",
       "      <td>0</td>\n",
       "      <td>0</td>\n",
       "      <td>0</td>\n",
       "      <td>1</td>\n",
       "      <td>0</td>\n",
       "      <td>0</td>\n",
       "      <td>0</td>\n",
       "      <td>...</td>\n",
       "      <td>4</td>\n",
       "      <td>4</td>\n",
       "      <td>7</td>\n",
       "      <td>5</td>\n",
       "      <td>6</td>\n",
       "      <td>0.000000e+00</td>\n",
       "      <td>0.000000</td>\n",
       "      <td>2.419803e+07</td>\n",
       "      <td>30700000.0</td>\n",
       "      <td>0.000000</td>\n",
       "    </tr>\n",
       "    <tr>\n",
       "      <th>110</th>\n",
       "      <td>0</td>\n",
       "      <td>0</td>\n",
       "      <td>0</td>\n",
       "      <td>0</td>\n",
       "      <td>0</td>\n",
       "      <td>0</td>\n",
       "      <td>1</td>\n",
       "      <td>1</td>\n",
       "      <td>1</td>\n",
       "      <td>1</td>\n",
       "      <td>...</td>\n",
       "      <td>5</td>\n",
       "      <td>5</td>\n",
       "      <td>7</td>\n",
       "      <td>4</td>\n",
       "      <td>10</td>\n",
       "      <td>2.051933e+07</td>\n",
       "      <td>0.005862</td>\n",
       "      <td>0.000000e+00</td>\n",
       "      <td>711800000.0</td>\n",
       "      <td>12152.916330</td>\n",
       "    </tr>\n",
       "    <tr>\n",
       "      <th>116</th>\n",
       "      <td>0</td>\n",
       "      <td>0</td>\n",
       "      <td>0</td>\n",
       "      <td>0</td>\n",
       "      <td>0</td>\n",
       "      <td>0</td>\n",
       "      <td>0</td>\n",
       "      <td>0</td>\n",
       "      <td>0</td>\n",
       "      <td>0</td>\n",
       "      <td>...</td>\n",
       "      <td>4</td>\n",
       "      <td>4</td>\n",
       "      <td>6</td>\n",
       "      <td>5</td>\n",
       "      <td>0</td>\n",
       "      <td>0.000000e+00</td>\n",
       "      <td>0.000000</td>\n",
       "      <td>2.640338e+07</td>\n",
       "      <td>0.0</td>\n",
       "      <td>0.000000</td>\n",
       "    </tr>\n",
       "    <tr>\n",
       "      <th>121</th>\n",
       "      <td>0</td>\n",
       "      <td>0</td>\n",
       "      <td>0</td>\n",
       "      <td>0</td>\n",
       "      <td>0</td>\n",
       "      <td>0</td>\n",
       "      <td>0</td>\n",
       "      <td>1</td>\n",
       "      <td>0</td>\n",
       "      <td>0</td>\n",
       "      <td>...</td>\n",
       "      <td>6</td>\n",
       "      <td>10</td>\n",
       "      <td>4</td>\n",
       "      <td>4</td>\n",
       "      <td>4</td>\n",
       "      <td>1.541572e+08</td>\n",
       "      <td>0.040271</td>\n",
       "      <td>2.419803e+07</td>\n",
       "      <td>30700000.0</td>\n",
       "      <td>30631.656688</td>\n",
       "    </tr>\n",
       "    <tr>\n",
       "      <th>127</th>\n",
       "      <td>0</td>\n",
       "      <td>0</td>\n",
       "      <td>0</td>\n",
       "      <td>0</td>\n",
       "      <td>0</td>\n",
       "      <td>0</td>\n",
       "      <td>1</td>\n",
       "      <td>1</td>\n",
       "      <td>1</td>\n",
       "      <td>0</td>\n",
       "      <td>...</td>\n",
       "      <td>2</td>\n",
       "      <td>2</td>\n",
       "      <td>7</td>\n",
       "      <td>5</td>\n",
       "      <td>6</td>\n",
       "      <td>0.000000e+00</td>\n",
       "      <td>0.000000</td>\n",
       "      <td>2.029929e+07</td>\n",
       "      <td>92100000.0</td>\n",
       "      <td>0.000000</td>\n",
       "    </tr>\n",
       "    <tr>\n",
       "      <th>128</th>\n",
       "      <td>0</td>\n",
       "      <td>0</td>\n",
       "      <td>0</td>\n",
       "      <td>0</td>\n",
       "      <td>0</td>\n",
       "      <td>0</td>\n",
       "      <td>1</td>\n",
       "      <td>1</td>\n",
       "      <td>1</td>\n",
       "      <td>1</td>\n",
       "      <td>...</td>\n",
       "      <td>6</td>\n",
       "      <td>2</td>\n",
       "      <td>3</td>\n",
       "      <td>2</td>\n",
       "      <td>7</td>\n",
       "      <td>9.415279e+07</td>\n",
       "      <td>0.026822</td>\n",
       "      <td>0.000000e+00</td>\n",
       "      <td>455700000.0</td>\n",
       "      <td>11505.473335</td>\n",
       "    </tr>\n",
       "    <tr>\n",
       "      <th>129</th>\n",
       "      <td>0</td>\n",
       "      <td>0</td>\n",
       "      <td>0</td>\n",
       "      <td>0</td>\n",
       "      <td>0</td>\n",
       "      <td>0</td>\n",
       "      <td>1</td>\n",
       "      <td>0</td>\n",
       "      <td>1</td>\n",
       "      <td>0</td>\n",
       "      <td>...</td>\n",
       "      <td>4</td>\n",
       "      <td>5</td>\n",
       "      <td>1</td>\n",
       "      <td>6</td>\n",
       "      <td>4</td>\n",
       "      <td>1.370321e+07</td>\n",
       "      <td>0.025783</td>\n",
       "      <td>2.216782e+07</td>\n",
       "      <td>61400000.0</td>\n",
       "      <td>0.000000</td>\n",
       "    </tr>\n",
       "    <tr>\n",
       "      <th>162</th>\n",
       "      <td>0</td>\n",
       "      <td>0</td>\n",
       "      <td>0</td>\n",
       "      <td>0</td>\n",
       "      <td>0</td>\n",
       "      <td>0</td>\n",
       "      <td>1</td>\n",
       "      <td>1</td>\n",
       "      <td>1</td>\n",
       "      <td>1</td>\n",
       "      <td>...</td>\n",
       "      <td>1</td>\n",
       "      <td>0</td>\n",
       "      <td>3</td>\n",
       "      <td>4</td>\n",
       "      <td>6</td>\n",
       "      <td>9.443128e+06</td>\n",
       "      <td>0.002698</td>\n",
       "      <td>0.000000e+00</td>\n",
       "      <td>213300000.0</td>\n",
       "      <td>28291.735456</td>\n",
       "    </tr>\n",
       "  </tbody>\n",
       "</table>\n",
       "<p>15 rows × 36 columns</p>\n",
       "</div>"
      ],
      "text/plain": [
       "     0_RfR 0  0_RfR 1  0_RfR 2  1_RfR 0  1_RfR 1  1_RfR 2  2_RfR 0  2_RfR 1  \\\n",
       "12         0        0        0        0        0        0        1        1   \n",
       "37         0        0        0        0        0        0        1        0   \n",
       "65         0        0        0        0        0        0        1        1   \n",
       "66         0        0        0        0        0        0        1        1   \n",
       "76         0        0        0        0        0        0        0        1   \n",
       "93         0        0        0        0        0        0        1        0   \n",
       "95         1        0        0        0        0        0        1        1   \n",
       "107        0        0        0        0        0        0        1        0   \n",
       "110        0        0        0        0        0        0        1        1   \n",
       "116        0        0        0        0        0        0        0        0   \n",
       "121        0        0        0        0        0        0        0        1   \n",
       "127        0        0        0        0        0        0        1        1   \n",
       "128        0        0        0        0        0        0        1        1   \n",
       "129        0        0        0        0        0        0        1        0   \n",
       "162        0        0        0        0        0        0        1        1   \n",
       "\n",
       "     2_RfR 2  3_RfR 0  ...  A.4_DikeIncrease 1  A.4_DikeIncrease 2  \\\n",
       "12         1        1  ...                   4                   2   \n",
       "37         0        0  ...                   6                   4   \n",
       "65         1        1  ...                   1                   4   \n",
       "66         1        1  ...                   5                   5   \n",
       "76         0        0  ...                   0                   0   \n",
       "93         1        0  ...                   2                   4   \n",
       "95         1        1  ...                   5                   4   \n",
       "107        0        0  ...                   4                   4   \n",
       "110        1        1  ...                   5                   5   \n",
       "116        0        0  ...                   4                   4   \n",
       "121        0        0  ...                   6                  10   \n",
       "127        1        0  ...                   2                   2   \n",
       "128        1        1  ...                   6                   2   \n",
       "129        1        0  ...                   4                   5   \n",
       "162        1        1  ...                   1                   0   \n",
       "\n",
       "     A.5_DikeIncrease 0  A.5_DikeIncrease 1  A.5_DikeIncrease 2  \\\n",
       "12                    6                   6                   6   \n",
       "37                    4                   3                   5   \n",
       "65                    6                   5                   7   \n",
       "66                    6                   5                   7   \n",
       "76                    0                   5                   4   \n",
       "93                    7                   5                   6   \n",
       "95                    7                   3                  10   \n",
       "107                   7                   5                   6   \n",
       "110                   7                   4                  10   \n",
       "116                   6                   5                   0   \n",
       "121                   4                   4                   4   \n",
       "127                   7                   5                   6   \n",
       "128                   3                   2                   7   \n",
       "129                   1                   6                   4   \n",
       "162                   3                   4                   6   \n",
       "\n",
       "     A3 Expected Annual Damage  A3 Aggr Expected Number of Deaths  \\\n",
       "12                1.391194e+08                           0.032036   \n",
       "37                8.853540e+07                           0.033614   \n",
       "65                8.056387e+07                           0.023527   \n",
       "66                1.390560e+08                           0.032016   \n",
       "76                0.000000e+00                           0.000000   \n",
       "93                0.000000e+00                           0.000000   \n",
       "95                6.344699e+07                           0.020227   \n",
       "107               0.000000e+00                           0.000000   \n",
       "110               2.051933e+07                           0.005862   \n",
       "116               0.000000e+00                           0.000000   \n",
       "121               1.541572e+08                           0.040271   \n",
       "127               0.000000e+00                           0.000000   \n",
       "128               9.415279e+07                           0.026822   \n",
       "129               1.370321e+07                           0.025783   \n",
       "162               9.443128e+06                           0.002698   \n",
       "\n",
       "     A3 Dike Investment Costs  Room for River Investment Costs  \\\n",
       "12               0.000000e+00                      455700000.0   \n",
       "37               2.419803e+07                       30700000.0   \n",
       "65               0.000000e+00                      455700000.0   \n",
       "66               0.000000e+00                      967900000.0   \n",
       "76               2.419803e+07                       30700000.0   \n",
       "93               2.216782e+07                       61400000.0   \n",
       "95               0.000000e+00                      540300000.0   \n",
       "107              2.419803e+07                       30700000.0   \n",
       "110              0.000000e+00                      711800000.0   \n",
       "116              2.640338e+07                              0.0   \n",
       "121              2.419803e+07                       30700000.0   \n",
       "127              2.029929e+07                       92100000.0   \n",
       "128              0.000000e+00                      455700000.0   \n",
       "129              2.216782e+07                       61400000.0   \n",
       "162              0.000000e+00                      213300000.0   \n",
       "\n",
       "     Evacuation Costs  \n",
       "12        9197.379454  \n",
       "37       38996.163240  \n",
       "65       15884.411737  \n",
       "66        8645.078436  \n",
       "76       59978.728796  \n",
       "93           0.000000  \n",
       "95       10909.631126  \n",
       "107          0.000000  \n",
       "110      12152.916330  \n",
       "116          0.000000  \n",
       "121      30631.656688  \n",
       "127          0.000000  \n",
       "128      11505.473335  \n",
       "129          0.000000  \n",
       "162      28291.735456  \n",
       "\n",
       "[15 rows x 36 columns]"
      ]
     },
     "execution_count": 14,
     "metadata": {},
     "output_type": "execute_result"
    }
   ],
   "source": [
    "results_subset"
   ]
  },
  {
   "cell_type": "markdown",
   "metadata": {},
   "source": [
    "We further use the remaining policies to test them under deep uncertainty by running the policies for 1000 scenarios each. "
   ]
  },
  {
   "cell_type": "code",
   "execution_count": 15,
   "metadata": {},
   "outputs": [],
   "source": [
    "policies = results_subset.iloc[:,0:31]\n",
    "policies_to_evaluate = []\n",
    "\n",
    "for i, policy in policies.iterrows():\n",
    "    policies_to_evaluate.append(Policy(str(i), **policy.to_dict()))"
   ]
  },
  {
   "cell_type": "code",
   "execution_count": 29,
   "metadata": {},
   "outputs": [
    {
     "ename": "KeyboardInterrupt",
     "evalue": "",
     "output_type": "error",
     "traceback": [
      "\u001b[0;31m---------------------------------------------------------------------------\u001b[0m",
      "\u001b[0;31mKeyboardInterrupt\u001b[0m                         Traceback (most recent call last)",
      "Cell \u001b[0;32mIn[29], line 3\u001b[0m\n\u001b[1;32m      1\u001b[0m ema_logging\u001b[39m.\u001b[39mlog_to_stderr(ema_logging\u001b[39m.\u001b[39mINFO)\n\u001b[0;32m----> 3\u001b[0m \u001b[39mwith\u001b[39;00m MultiprocessingEvaluator(dike_model) \u001b[39mas\u001b[39;00m evaluator:\n\u001b[1;32m      4\u001b[0m     results \u001b[39m=\u001b[39m evaluator\u001b[39m.\u001b[39mperform_experiments(n_scenarios, policies_to_evaluate)\n",
      "File \u001b[0;32m~/opt/anaconda3/envs/mbdm/lib/python3.11/site-packages/ema_workbench/em_framework/evaluators.py:127\u001b[0m, in \u001b[0;36mBaseEvaluator.__enter__\u001b[0;34m(self)\u001b[0m\n\u001b[1;32m    126\u001b[0m \u001b[39mdef\u001b[39;00m \u001b[39m__enter__\u001b[39m(\u001b[39mself\u001b[39m):\n\u001b[0;32m--> 127\u001b[0m     \u001b[39mself\u001b[39m\u001b[39m.\u001b[39minitialize()\n\u001b[1;32m    128\u001b[0m     \u001b[39mreturn\u001b[39;00m \u001b[39mself\u001b[39m\n",
      "File \u001b[0;32m~/opt/anaconda3/envs/mbdm/lib/python3.11/site-packages/ema_workbench/em_framework/evaluators.py:384\u001b[0m, in \u001b[0;36mMultiprocessingEvaluator.initialize\u001b[0;34m(self)\u001b[0m\n\u001b[1;32m    381\u001b[0m     \u001b[39mself\u001b[39m\u001b[39m.\u001b[39mroot_dir \u001b[39m=\u001b[39m os\u001b[39m.\u001b[39mpath\u001b[39m.\u001b[39mabspath(\u001b[39m\"\u001b[39m\u001b[39mtmp\u001b[39m\u001b[39m\"\u001b[39m \u001b[39m+\u001b[39m random_part)\n\u001b[1;32m    382\u001b[0m     os\u001b[39m.\u001b[39mmakedirs(\u001b[39mself\u001b[39m\u001b[39m.\u001b[39mroot_dir)\n\u001b[0;32m--> 384\u001b[0m \u001b[39mself\u001b[39m\u001b[39m.\u001b[39m_pool \u001b[39m=\u001b[39m multiprocessing\u001b[39m.\u001b[39mPool(\n\u001b[1;32m    385\u001b[0m     \u001b[39mself\u001b[39m\u001b[39m.\u001b[39mn_processes,\n\u001b[1;32m    386\u001b[0m     initializer,\n\u001b[1;32m    387\u001b[0m     (\u001b[39mself\u001b[39m\u001b[39m.\u001b[39m_msis, log_queue, loglevel, \u001b[39mself\u001b[39m\u001b[39m.\u001b[39mroot_dir),\n\u001b[1;32m    388\u001b[0m     \u001b[39mself\u001b[39m\u001b[39m.\u001b[39mmaxtasksperchild,\n\u001b[1;32m    389\u001b[0m )\n\u001b[1;32m    390\u001b[0m \u001b[39mself\u001b[39m\u001b[39m.\u001b[39mn_processes \u001b[39m=\u001b[39m \u001b[39mself\u001b[39m\u001b[39m.\u001b[39m_pool\u001b[39m.\u001b[39m_processes\n\u001b[1;32m    391\u001b[0m _logger\u001b[39m.\u001b[39minfo(\u001b[39mf\u001b[39m\u001b[39m\"\u001b[39m\u001b[39mpool started with \u001b[39m\u001b[39m{\u001b[39;00m\u001b[39mself\u001b[39m\u001b[39m.\u001b[39mn_processes\u001b[39m}\u001b[39;00m\u001b[39m workers\u001b[39m\u001b[39m\"\u001b[39m)\n",
      "File \u001b[0;32m~/opt/anaconda3/envs/mbdm/lib/python3.11/multiprocessing/context.py:119\u001b[0m, in \u001b[0;36mBaseContext.Pool\u001b[0;34m(self, processes, initializer, initargs, maxtasksperchild)\u001b[0m\n\u001b[1;32m    117\u001b[0m \u001b[39m'''Returns a process pool object'''\u001b[39;00m\n\u001b[1;32m    118\u001b[0m \u001b[39mfrom\u001b[39;00m \u001b[39m.\u001b[39;00m\u001b[39mpool\u001b[39;00m \u001b[39mimport\u001b[39;00m Pool\n\u001b[0;32m--> 119\u001b[0m \u001b[39mreturn\u001b[39;00m Pool(processes, initializer, initargs, maxtasksperchild,\n\u001b[1;32m    120\u001b[0m             context\u001b[39m=\u001b[39m\u001b[39mself\u001b[39m\u001b[39m.\u001b[39mget_context())\n",
      "File \u001b[0;32m~/opt/anaconda3/envs/mbdm/lib/python3.11/multiprocessing/pool.py:215\u001b[0m, in \u001b[0;36mPool.__init__\u001b[0;34m(self, processes, initializer, initargs, maxtasksperchild, context)\u001b[0m\n\u001b[1;32m    213\u001b[0m \u001b[39mself\u001b[39m\u001b[39m.\u001b[39m_processes \u001b[39m=\u001b[39m processes\n\u001b[1;32m    214\u001b[0m \u001b[39mtry\u001b[39;00m:\n\u001b[0;32m--> 215\u001b[0m     \u001b[39mself\u001b[39m\u001b[39m.\u001b[39m_repopulate_pool()\n\u001b[1;32m    216\u001b[0m \u001b[39mexcept\u001b[39;00m \u001b[39mException\u001b[39;00m:\n\u001b[1;32m    217\u001b[0m     \u001b[39mfor\u001b[39;00m p \u001b[39min\u001b[39;00m \u001b[39mself\u001b[39m\u001b[39m.\u001b[39m_pool:\n",
      "File \u001b[0;32m~/opt/anaconda3/envs/mbdm/lib/python3.11/multiprocessing/pool.py:306\u001b[0m, in \u001b[0;36mPool._repopulate_pool\u001b[0;34m(self)\u001b[0m\n\u001b[1;32m    305\u001b[0m \u001b[39mdef\u001b[39;00m \u001b[39m_repopulate_pool\u001b[39m(\u001b[39mself\u001b[39m):\n\u001b[0;32m--> 306\u001b[0m     \u001b[39mreturn\u001b[39;00m \u001b[39mself\u001b[39m\u001b[39m.\u001b[39m_repopulate_pool_static(\u001b[39mself\u001b[39m\u001b[39m.\u001b[39m_ctx, \u001b[39mself\u001b[39m\u001b[39m.\u001b[39mProcess,\n\u001b[1;32m    307\u001b[0m                                         \u001b[39mself\u001b[39m\u001b[39m.\u001b[39m_processes,\n\u001b[1;32m    308\u001b[0m                                         \u001b[39mself\u001b[39m\u001b[39m.\u001b[39m_pool, \u001b[39mself\u001b[39m\u001b[39m.\u001b[39m_inqueue,\n\u001b[1;32m    309\u001b[0m                                         \u001b[39mself\u001b[39m\u001b[39m.\u001b[39m_outqueue, \u001b[39mself\u001b[39m\u001b[39m.\u001b[39m_initializer,\n\u001b[1;32m    310\u001b[0m                                         \u001b[39mself\u001b[39m\u001b[39m.\u001b[39m_initargs,\n\u001b[1;32m    311\u001b[0m                                         \u001b[39mself\u001b[39m\u001b[39m.\u001b[39m_maxtasksperchild,\n\u001b[1;32m    312\u001b[0m                                         \u001b[39mself\u001b[39m\u001b[39m.\u001b[39m_wrap_exception)\n",
      "File \u001b[0;32m~/opt/anaconda3/envs/mbdm/lib/python3.11/multiprocessing/pool.py:329\u001b[0m, in \u001b[0;36mPool._repopulate_pool_static\u001b[0;34m(ctx, Process, processes, pool, inqueue, outqueue, initializer, initargs, maxtasksperchild, wrap_exception)\u001b[0m\n\u001b[1;32m    327\u001b[0m w\u001b[39m.\u001b[39mname \u001b[39m=\u001b[39m w\u001b[39m.\u001b[39mname\u001b[39m.\u001b[39mreplace(\u001b[39m'\u001b[39m\u001b[39mProcess\u001b[39m\u001b[39m'\u001b[39m, \u001b[39m'\u001b[39m\u001b[39mPoolWorker\u001b[39m\u001b[39m'\u001b[39m)\n\u001b[1;32m    328\u001b[0m w\u001b[39m.\u001b[39mdaemon \u001b[39m=\u001b[39m \u001b[39mTrue\u001b[39;00m\n\u001b[0;32m--> 329\u001b[0m w\u001b[39m.\u001b[39mstart()\n\u001b[1;32m    330\u001b[0m pool\u001b[39m.\u001b[39mappend(w)\n\u001b[1;32m    331\u001b[0m util\u001b[39m.\u001b[39mdebug(\u001b[39m'\u001b[39m\u001b[39madded worker\u001b[39m\u001b[39m'\u001b[39m)\n",
      "File \u001b[0;32m~/opt/anaconda3/envs/mbdm/lib/python3.11/multiprocessing/process.py:121\u001b[0m, in \u001b[0;36mBaseProcess.start\u001b[0;34m(self)\u001b[0m\n\u001b[1;32m    118\u001b[0m \u001b[39massert\u001b[39;00m \u001b[39mnot\u001b[39;00m _current_process\u001b[39m.\u001b[39m_config\u001b[39m.\u001b[39mget(\u001b[39m'\u001b[39m\u001b[39mdaemon\u001b[39m\u001b[39m'\u001b[39m), \\\n\u001b[1;32m    119\u001b[0m        \u001b[39m'\u001b[39m\u001b[39mdaemonic processes are not allowed to have children\u001b[39m\u001b[39m'\u001b[39m\n\u001b[1;32m    120\u001b[0m _cleanup()\n\u001b[0;32m--> 121\u001b[0m \u001b[39mself\u001b[39m\u001b[39m.\u001b[39m_popen \u001b[39m=\u001b[39m \u001b[39mself\u001b[39m\u001b[39m.\u001b[39m_Popen(\u001b[39mself\u001b[39m)\n\u001b[1;32m    122\u001b[0m \u001b[39mself\u001b[39m\u001b[39m.\u001b[39m_sentinel \u001b[39m=\u001b[39m \u001b[39mself\u001b[39m\u001b[39m.\u001b[39m_popen\u001b[39m.\u001b[39msentinel\n\u001b[1;32m    123\u001b[0m \u001b[39m# Avoid a refcycle if the target function holds an indirect\u001b[39;00m\n\u001b[1;32m    124\u001b[0m \u001b[39m# reference to the process object (see bpo-30775)\u001b[39;00m\n",
      "File \u001b[0;32m~/opt/anaconda3/envs/mbdm/lib/python3.11/multiprocessing/context.py:288\u001b[0m, in \u001b[0;36mSpawnProcess._Popen\u001b[0;34m(process_obj)\u001b[0m\n\u001b[1;32m    285\u001b[0m \u001b[39m@staticmethod\u001b[39m\n\u001b[1;32m    286\u001b[0m \u001b[39mdef\u001b[39;00m \u001b[39m_Popen\u001b[39m(process_obj):\n\u001b[1;32m    287\u001b[0m     \u001b[39mfrom\u001b[39;00m \u001b[39m.\u001b[39;00m\u001b[39mpopen_spawn_posix\u001b[39;00m \u001b[39mimport\u001b[39;00m Popen\n\u001b[0;32m--> 288\u001b[0m     \u001b[39mreturn\u001b[39;00m Popen(process_obj)\n",
      "File \u001b[0;32m~/opt/anaconda3/envs/mbdm/lib/python3.11/multiprocessing/popen_spawn_posix.py:32\u001b[0m, in \u001b[0;36mPopen.__init__\u001b[0;34m(self, process_obj)\u001b[0m\n\u001b[1;32m     30\u001b[0m \u001b[39mdef\u001b[39;00m \u001b[39m__init__\u001b[39m(\u001b[39mself\u001b[39m, process_obj):\n\u001b[1;32m     31\u001b[0m     \u001b[39mself\u001b[39m\u001b[39m.\u001b[39m_fds \u001b[39m=\u001b[39m []\n\u001b[0;32m---> 32\u001b[0m     \u001b[39msuper\u001b[39m()\u001b[39m.\u001b[39m\u001b[39m__init__\u001b[39m(process_obj)\n",
      "File \u001b[0;32m~/opt/anaconda3/envs/mbdm/lib/python3.11/multiprocessing/popen_fork.py:19\u001b[0m, in \u001b[0;36mPopen.__init__\u001b[0;34m(self, process_obj)\u001b[0m\n\u001b[1;32m     17\u001b[0m \u001b[39mself\u001b[39m\u001b[39m.\u001b[39mreturncode \u001b[39m=\u001b[39m \u001b[39mNone\u001b[39;00m\n\u001b[1;32m     18\u001b[0m \u001b[39mself\u001b[39m\u001b[39m.\u001b[39mfinalizer \u001b[39m=\u001b[39m \u001b[39mNone\u001b[39;00m\n\u001b[0;32m---> 19\u001b[0m \u001b[39mself\u001b[39m\u001b[39m.\u001b[39m_launch(process_obj)\n",
      "File \u001b[0;32m~/opt/anaconda3/envs/mbdm/lib/python3.11/multiprocessing/popen_spawn_posix.py:62\u001b[0m, in \u001b[0;36mPopen._launch\u001b[0;34m(self, process_obj)\u001b[0m\n\u001b[1;32m     60\u001b[0m     \u001b[39mself\u001b[39m\u001b[39m.\u001b[39msentinel \u001b[39m=\u001b[39m parent_r\n\u001b[1;32m     61\u001b[0m     \u001b[39mwith\u001b[39;00m \u001b[39mopen\u001b[39m(parent_w, \u001b[39m'\u001b[39m\u001b[39mwb\u001b[39m\u001b[39m'\u001b[39m, closefd\u001b[39m=\u001b[39m\u001b[39mFalse\u001b[39;00m) \u001b[39mas\u001b[39;00m f:\n\u001b[0;32m---> 62\u001b[0m         f\u001b[39m.\u001b[39mwrite(fp\u001b[39m.\u001b[39mgetbuffer())\n\u001b[1;32m     63\u001b[0m \u001b[39mfinally\u001b[39;00m:\n\u001b[1;32m     64\u001b[0m     fds_to_close \u001b[39m=\u001b[39m []\n",
      "\u001b[0;31mKeyboardInterrupt\u001b[0m: "
     ]
    }
   ],
   "source": [
    "ema_logging.log_to_stderr(ema_logging.INFO)\n",
    "\n",
    "with MultiprocessingEvaluator(dike_model) as evaluator:\n",
    "    results = evaluator.perform_experiments(n_scenarios, policies_to_evaluate)"
   ]
  },
  {
   "cell_type": "code",
   "execution_count": null,
   "metadata": {},
   "outputs": [],
   "source": [
    "#Save results\n",
    "save_results(results, \"./results/DeepUncertainty15policies_\"+str(n_scenarios)+\"scenarios_\"+province+\".tar.gz\")"
   ]
  },
  {
   "cell_type": "code",
   "execution_count": 16,
   "metadata": {
    "tags": []
   },
   "outputs": [
    {
     "name": "stderr",
     "output_type": "stream",
     "text": [
      "[MainProcess/INFO] results loaded successfully from /Users/philipmuller/Documents/GitHub/model-based-decision-making/final assignment/results/DeepUncertainty5policies_1000scenarios_DikeRing3.tar.gz\n"
     ]
    }
   ],
   "source": [
    "#Load results\n",
    "results = load_results(\"./results/DeepUncertainty5policies_\"+str(n_scenarios)+\"scenarios_\"+province+\".tar.gz\")\n",
    "experiments, outcomes = results\n"
   ]
  },
  {
   "cell_type": "markdown",
   "metadata": {},
   "source": [
    "## Robustness Evaluation\n",
    "### Signal-to-noise Ratio\n",
    "To find the most robust policy, we rate the different policies by calculating the signal-to-noise ratio. For those model outcomes which are to be minimized, this metric multiplies the mean over all scenarios times the standard deviation. In that sense, the higher the signal-to-noise ratio is for a given policy over the outcomes, the less robust the policy performs. "
   ]
  },
  {
   "cell_type": "code",
   "execution_count": 17,
   "metadata": {},
   "outputs": [],
   "source": [
    "#Define a function to calculate the signal-to-noise ratio\n",
    "def s_to_n(data, direction):\n",
    "    mean = np.mean(data)\n",
    "    std = np.std(data)\n",
    "    \n",
    "    if direction==ScalarOutcome.MAXIMIZE:\n",
    "        return mean/std\n",
    "    else:\n",
    "        return mean*std"
   ]
  },
  {
   "cell_type": "code",
   "execution_count": 18,
   "metadata": {},
   "outputs": [
    {
     "data": {
      "text/html": [
       "<div>\n",
       "<style scoped>\n",
       "    .dataframe tbody tr th:only-of-type {\n",
       "        vertical-align: middle;\n",
       "    }\n",
       "\n",
       "    .dataframe tbody tr th {\n",
       "        vertical-align: top;\n",
       "    }\n",
       "\n",
       "    .dataframe thead th {\n",
       "        text-align: right;\n",
       "    }\n",
       "</style>\n",
       "<table border=\"1\" class=\"dataframe\">\n",
       "  <thead>\n",
       "    <tr style=\"text-align: right;\">\n",
       "      <th></th>\n",
       "      <th>index</th>\n",
       "      <th>A3 Expected Annual Damage</th>\n",
       "      <th>A3 Aggr Expected Number of Deaths</th>\n",
       "      <th>A3 Dike Investment Costs</th>\n",
       "      <th>Room for River Investment Costs</th>\n",
       "      <th>Evacuation Costs</th>\n",
       "    </tr>\n",
       "  </thead>\n",
       "  <tbody>\n",
       "    <tr>\n",
       "      <th>0</th>\n",
       "      <td>76</td>\n",
       "      <td>1.568993e+16</td>\n",
       "      <td>0.000672</td>\n",
       "      <td>0.090145</td>\n",
       "      <td>0.0</td>\n",
       "      <td>3.563563e+08</td>\n",
       "    </tr>\n",
       "    <tr>\n",
       "      <th>1</th>\n",
       "      <td>93</td>\n",
       "      <td>8.207220e+15</td>\n",
       "      <td>0.023680</td>\n",
       "      <td>0.000000</td>\n",
       "      <td>0.0</td>\n",
       "      <td>0.000000e+00</td>\n",
       "    </tr>\n",
       "    <tr>\n",
       "      <th>2</th>\n",
       "      <td>107</td>\n",
       "      <td>9.762702e+15</td>\n",
       "      <td>0.029057</td>\n",
       "      <td>0.090145</td>\n",
       "      <td>0.0</td>\n",
       "      <td>0.000000e+00</td>\n",
       "    </tr>\n",
       "    <tr>\n",
       "      <th>3</th>\n",
       "      <td>116</td>\n",
       "      <td>1.230217e+16</td>\n",
       "      <td>0.038493</td>\n",
       "      <td>0.098360</td>\n",
       "      <td>0.0</td>\n",
       "      <td>0.000000e+00</td>\n",
       "    </tr>\n",
       "    <tr>\n",
       "      <th>4</th>\n",
       "      <td>127</td>\n",
       "      <td>7.162470e+15</td>\n",
       "      <td>0.020510</td>\n",
       "      <td>0.075621</td>\n",
       "      <td>0.0</td>\n",
       "      <td>0.000000e+00</td>\n",
       "    </tr>\n",
       "  </tbody>\n",
       "</table>\n",
       "</div>"
      ],
      "text/plain": [
       "   index  A3 Expected Annual Damage  A3 Aggr Expected Number of Deaths  \\\n",
       "0     76               1.568993e+16                           0.000672   \n",
       "1     93               8.207220e+15                           0.023680   \n",
       "2    107               9.762702e+15                           0.029057   \n",
       "3    116               1.230217e+16                           0.038493   \n",
       "4    127               7.162470e+15                           0.020510   \n",
       "\n",
       "   A3 Dike Investment Costs  Room for River Investment Costs  Evacuation Costs  \n",
       "0                  0.090145                              0.0      3.563563e+08  \n",
       "1                  0.000000                              0.0      0.000000e+00  \n",
       "2                  0.090145                              0.0      0.000000e+00  \n",
       "3                  0.098360                              0.0      0.000000e+00  \n",
       "4                  0.075621                              0.0      0.000000e+00  "
      ]
     },
     "execution_count": 18,
     "metadata": {},
     "output_type": "execute_result"
    }
   ],
   "source": [
    "overall_scores = {}\n",
    "for policy in np.unique(experiments['policy']):\n",
    "    scores = {}\n",
    "    \n",
    "    logical = experiments['policy']==policy\n",
    "    \n",
    "    for outcome in dike_model.outcomes:\n",
    "        # Check if outcome.name is in outcomes.keys()\n",
    "        if outcome.name in outcomes.keys():\n",
    "            value  = outcomes[outcome.name][logical]\n",
    "            sn_ratio = s_to_n(value, outcome.kind)\n",
    "            scores[outcome.name] = sn_ratio\n",
    "    overall_scores[policy] = scores\n",
    "scores = pd.DataFrame.from_dict(overall_scores).T\n",
    "scores = scores.reset_index()\n",
    "scores"
   ]
  },
  {
   "cell_type": "markdown",
   "metadata": {},
   "source": [
    "For a better visual understanding, we will plot the stn ratio in a parallel coordinates plot. "
   ]
  },
  {
   "cell_type": "code",
   "execution_count": 19,
   "metadata": {},
   "outputs": [
    {
     "data": {
      "application/vnd.plotly.v1+json": {
       "config": {
        "plotlyServerURL": "https://plot.ly"
       },
       "data": [
        {
         "dimensions": [
          {
           "label": "A3 Damage",
           "values": [
            15689934767142268,
            8207219558617163,
            9762701969653198,
            12302167882342698,
            7162469801763687
           ]
          },
          {
           "label": "A3 Casualties",
           "values": [
            0.0006717571732049487,
            0.02367986862176014,
            0.029057303240291307,
            0.03849252207971439,
            0.02050968748475378
           ]
          },
          {
           "label": "Dike Investment Costs",
           "values": [
            0.0901446955329231,
            0,
            0.0901446955329231,
            0.09836025365556195,
            0.07562073926374574
           ]
          },
          {
           "label": "RfR Investment Costs",
           "values": [
            0,
            0,
            0,
            0,
            0
           ]
          },
          {
           "label": "Evacuation Costs",
           "values": [
            356356306.305962,
            0,
            0,
            0,
            0
           ]
          }
         ],
         "domain": {
          "x": [
           0,
           1
          ],
          "y": [
           0,
           1
          ]
         },
         "line": {
          "color": [
           0,
           1,
           2,
           3,
           4
          ],
          "coloraxis": "coloraxis"
         },
         "name": "",
         "type": "parcoords"
        }
       ],
       "layout": {
        "coloraxis": {
         "colorbar": {
          "title": {
           "text": "_index"
          }
         },
         "colorscale": [
          [
           0,
           "#0d0887"
          ],
          [
           0.1111111111111111,
           "#46039f"
          ],
          [
           0.2222222222222222,
           "#7201a8"
          ],
          [
           0.3333333333333333,
           "#9c179e"
          ],
          [
           0.4444444444444444,
           "#bd3786"
          ],
          [
           0.5555555555555556,
           "#d8576b"
          ],
          [
           0.6666666666666666,
           "#ed7953"
          ],
          [
           0.7777777777777778,
           "#fb9f3a"
          ],
          [
           0.8888888888888888,
           "#fdca26"
          ],
          [
           1,
           "#f0f921"
          ]
         ]
        },
        "legend": {
         "tracegroupgap": 0
        },
        "margin": {
         "t": 60
        },
        "template": {
         "data": {
          "bar": [
           {
            "error_x": {
             "color": "#2a3f5f"
            },
            "error_y": {
             "color": "#2a3f5f"
            },
            "marker": {
             "line": {
              "color": "#E5ECF6",
              "width": 0.5
             },
             "pattern": {
              "fillmode": "overlay",
              "size": 10,
              "solidity": 0.2
             }
            },
            "type": "bar"
           }
          ],
          "barpolar": [
           {
            "marker": {
             "line": {
              "color": "#E5ECF6",
              "width": 0.5
             },
             "pattern": {
              "fillmode": "overlay",
              "size": 10,
              "solidity": 0.2
             }
            },
            "type": "barpolar"
           }
          ],
          "carpet": [
           {
            "aaxis": {
             "endlinecolor": "#2a3f5f",
             "gridcolor": "white",
             "linecolor": "white",
             "minorgridcolor": "white",
             "startlinecolor": "#2a3f5f"
            },
            "baxis": {
             "endlinecolor": "#2a3f5f",
             "gridcolor": "white",
             "linecolor": "white",
             "minorgridcolor": "white",
             "startlinecolor": "#2a3f5f"
            },
            "type": "carpet"
           }
          ],
          "choropleth": [
           {
            "colorbar": {
             "outlinewidth": 0,
             "ticks": ""
            },
            "type": "choropleth"
           }
          ],
          "contour": [
           {
            "colorbar": {
             "outlinewidth": 0,
             "ticks": ""
            },
            "colorscale": [
             [
              0,
              "#0d0887"
             ],
             [
              0.1111111111111111,
              "#46039f"
             ],
             [
              0.2222222222222222,
              "#7201a8"
             ],
             [
              0.3333333333333333,
              "#9c179e"
             ],
             [
              0.4444444444444444,
              "#bd3786"
             ],
             [
              0.5555555555555556,
              "#d8576b"
             ],
             [
              0.6666666666666666,
              "#ed7953"
             ],
             [
              0.7777777777777778,
              "#fb9f3a"
             ],
             [
              0.8888888888888888,
              "#fdca26"
             ],
             [
              1,
              "#f0f921"
             ]
            ],
            "type": "contour"
           }
          ],
          "contourcarpet": [
           {
            "colorbar": {
             "outlinewidth": 0,
             "ticks": ""
            },
            "type": "contourcarpet"
           }
          ],
          "heatmap": [
           {
            "colorbar": {
             "outlinewidth": 0,
             "ticks": ""
            },
            "colorscale": [
             [
              0,
              "#0d0887"
             ],
             [
              0.1111111111111111,
              "#46039f"
             ],
             [
              0.2222222222222222,
              "#7201a8"
             ],
             [
              0.3333333333333333,
              "#9c179e"
             ],
             [
              0.4444444444444444,
              "#bd3786"
             ],
             [
              0.5555555555555556,
              "#d8576b"
             ],
             [
              0.6666666666666666,
              "#ed7953"
             ],
             [
              0.7777777777777778,
              "#fb9f3a"
             ],
             [
              0.8888888888888888,
              "#fdca26"
             ],
             [
              1,
              "#f0f921"
             ]
            ],
            "type": "heatmap"
           }
          ],
          "heatmapgl": [
           {
            "colorbar": {
             "outlinewidth": 0,
             "ticks": ""
            },
            "colorscale": [
             [
              0,
              "#0d0887"
             ],
             [
              0.1111111111111111,
              "#46039f"
             ],
             [
              0.2222222222222222,
              "#7201a8"
             ],
             [
              0.3333333333333333,
              "#9c179e"
             ],
             [
              0.4444444444444444,
              "#bd3786"
             ],
             [
              0.5555555555555556,
              "#d8576b"
             ],
             [
              0.6666666666666666,
              "#ed7953"
             ],
             [
              0.7777777777777778,
              "#fb9f3a"
             ],
             [
              0.8888888888888888,
              "#fdca26"
             ],
             [
              1,
              "#f0f921"
             ]
            ],
            "type": "heatmapgl"
           }
          ],
          "histogram": [
           {
            "marker": {
             "pattern": {
              "fillmode": "overlay",
              "size": 10,
              "solidity": 0.2
             }
            },
            "type": "histogram"
           }
          ],
          "histogram2d": [
           {
            "colorbar": {
             "outlinewidth": 0,
             "ticks": ""
            },
            "colorscale": [
             [
              0,
              "#0d0887"
             ],
             [
              0.1111111111111111,
              "#46039f"
             ],
             [
              0.2222222222222222,
              "#7201a8"
             ],
             [
              0.3333333333333333,
              "#9c179e"
             ],
             [
              0.4444444444444444,
              "#bd3786"
             ],
             [
              0.5555555555555556,
              "#d8576b"
             ],
             [
              0.6666666666666666,
              "#ed7953"
             ],
             [
              0.7777777777777778,
              "#fb9f3a"
             ],
             [
              0.8888888888888888,
              "#fdca26"
             ],
             [
              1,
              "#f0f921"
             ]
            ],
            "type": "histogram2d"
           }
          ],
          "histogram2dcontour": [
           {
            "colorbar": {
             "outlinewidth": 0,
             "ticks": ""
            },
            "colorscale": [
             [
              0,
              "#0d0887"
             ],
             [
              0.1111111111111111,
              "#46039f"
             ],
             [
              0.2222222222222222,
              "#7201a8"
             ],
             [
              0.3333333333333333,
              "#9c179e"
             ],
             [
              0.4444444444444444,
              "#bd3786"
             ],
             [
              0.5555555555555556,
              "#d8576b"
             ],
             [
              0.6666666666666666,
              "#ed7953"
             ],
             [
              0.7777777777777778,
              "#fb9f3a"
             ],
             [
              0.8888888888888888,
              "#fdca26"
             ],
             [
              1,
              "#f0f921"
             ]
            ],
            "type": "histogram2dcontour"
           }
          ],
          "mesh3d": [
           {
            "colorbar": {
             "outlinewidth": 0,
             "ticks": ""
            },
            "type": "mesh3d"
           }
          ],
          "parcoords": [
           {
            "line": {
             "colorbar": {
              "outlinewidth": 0,
              "ticks": ""
             }
            },
            "type": "parcoords"
           }
          ],
          "pie": [
           {
            "automargin": true,
            "type": "pie"
           }
          ],
          "scatter": [
           {
            "fillpattern": {
             "fillmode": "overlay",
             "size": 10,
             "solidity": 0.2
            },
            "type": "scatter"
           }
          ],
          "scatter3d": [
           {
            "line": {
             "colorbar": {
              "outlinewidth": 0,
              "ticks": ""
             }
            },
            "marker": {
             "colorbar": {
              "outlinewidth": 0,
              "ticks": ""
             }
            },
            "type": "scatter3d"
           }
          ],
          "scattercarpet": [
           {
            "marker": {
             "colorbar": {
              "outlinewidth": 0,
              "ticks": ""
             }
            },
            "type": "scattercarpet"
           }
          ],
          "scattergeo": [
           {
            "marker": {
             "colorbar": {
              "outlinewidth": 0,
              "ticks": ""
             }
            },
            "type": "scattergeo"
           }
          ],
          "scattergl": [
           {
            "marker": {
             "colorbar": {
              "outlinewidth": 0,
              "ticks": ""
             }
            },
            "type": "scattergl"
           }
          ],
          "scattermapbox": [
           {
            "marker": {
             "colorbar": {
              "outlinewidth": 0,
              "ticks": ""
             }
            },
            "type": "scattermapbox"
           }
          ],
          "scatterpolar": [
           {
            "marker": {
             "colorbar": {
              "outlinewidth": 0,
              "ticks": ""
             }
            },
            "type": "scatterpolar"
           }
          ],
          "scatterpolargl": [
           {
            "marker": {
             "colorbar": {
              "outlinewidth": 0,
              "ticks": ""
             }
            },
            "type": "scatterpolargl"
           }
          ],
          "scatterternary": [
           {
            "marker": {
             "colorbar": {
              "outlinewidth": 0,
              "ticks": ""
             }
            },
            "type": "scatterternary"
           }
          ],
          "surface": [
           {
            "colorbar": {
             "outlinewidth": 0,
             "ticks": ""
            },
            "colorscale": [
             [
              0,
              "#0d0887"
             ],
             [
              0.1111111111111111,
              "#46039f"
             ],
             [
              0.2222222222222222,
              "#7201a8"
             ],
             [
              0.3333333333333333,
              "#9c179e"
             ],
             [
              0.4444444444444444,
              "#bd3786"
             ],
             [
              0.5555555555555556,
              "#d8576b"
             ],
             [
              0.6666666666666666,
              "#ed7953"
             ],
             [
              0.7777777777777778,
              "#fb9f3a"
             ],
             [
              0.8888888888888888,
              "#fdca26"
             ],
             [
              1,
              "#f0f921"
             ]
            ],
            "type": "surface"
           }
          ],
          "table": [
           {
            "cells": {
             "fill": {
              "color": "#EBF0F8"
             },
             "line": {
              "color": "white"
             }
            },
            "header": {
             "fill": {
              "color": "#C8D4E3"
             },
             "line": {
              "color": "white"
             }
            },
            "type": "table"
           }
          ]
         },
         "layout": {
          "annotationdefaults": {
           "arrowcolor": "#2a3f5f",
           "arrowhead": 0,
           "arrowwidth": 1
          },
          "autotypenumbers": "strict",
          "coloraxis": {
           "colorbar": {
            "outlinewidth": 0,
            "ticks": ""
           }
          },
          "colorscale": {
           "diverging": [
            [
             0,
             "#8e0152"
            ],
            [
             0.1,
             "#c51b7d"
            ],
            [
             0.2,
             "#de77ae"
            ],
            [
             0.3,
             "#f1b6da"
            ],
            [
             0.4,
             "#fde0ef"
            ],
            [
             0.5,
             "#f7f7f7"
            ],
            [
             0.6,
             "#e6f5d0"
            ],
            [
             0.7,
             "#b8e186"
            ],
            [
             0.8,
             "#7fbc41"
            ],
            [
             0.9,
             "#4d9221"
            ],
            [
             1,
             "#276419"
            ]
           ],
           "sequential": [
            [
             0,
             "#0d0887"
            ],
            [
             0.1111111111111111,
             "#46039f"
            ],
            [
             0.2222222222222222,
             "#7201a8"
            ],
            [
             0.3333333333333333,
             "#9c179e"
            ],
            [
             0.4444444444444444,
             "#bd3786"
            ],
            [
             0.5555555555555556,
             "#d8576b"
            ],
            [
             0.6666666666666666,
             "#ed7953"
            ],
            [
             0.7777777777777778,
             "#fb9f3a"
            ],
            [
             0.8888888888888888,
             "#fdca26"
            ],
            [
             1,
             "#f0f921"
            ]
           ],
           "sequentialminus": [
            [
             0,
             "#0d0887"
            ],
            [
             0.1111111111111111,
             "#46039f"
            ],
            [
             0.2222222222222222,
             "#7201a8"
            ],
            [
             0.3333333333333333,
             "#9c179e"
            ],
            [
             0.4444444444444444,
             "#bd3786"
            ],
            [
             0.5555555555555556,
             "#d8576b"
            ],
            [
             0.6666666666666666,
             "#ed7953"
            ],
            [
             0.7777777777777778,
             "#fb9f3a"
            ],
            [
             0.8888888888888888,
             "#fdca26"
            ],
            [
             1,
             "#f0f921"
            ]
           ]
          },
          "colorway": [
           "#636efa",
           "#EF553B",
           "#00cc96",
           "#ab63fa",
           "#FFA15A",
           "#19d3f3",
           "#FF6692",
           "#B6E880",
           "#FF97FF",
           "#FECB52"
          ],
          "font": {
           "color": "#2a3f5f"
          },
          "geo": {
           "bgcolor": "white",
           "lakecolor": "white",
           "landcolor": "#E5ECF6",
           "showlakes": true,
           "showland": true,
           "subunitcolor": "white"
          },
          "hoverlabel": {
           "align": "left"
          },
          "hovermode": "closest",
          "mapbox": {
           "style": "light"
          },
          "paper_bgcolor": "white",
          "plot_bgcolor": "#E5ECF6",
          "polar": {
           "angularaxis": {
            "gridcolor": "white",
            "linecolor": "white",
            "ticks": ""
           },
           "bgcolor": "#E5ECF6",
           "radialaxis": {
            "gridcolor": "white",
            "linecolor": "white",
            "ticks": ""
           }
          },
          "scene": {
           "xaxis": {
            "backgroundcolor": "#E5ECF6",
            "gridcolor": "white",
            "gridwidth": 2,
            "linecolor": "white",
            "showbackground": true,
            "ticks": "",
            "zerolinecolor": "white"
           },
           "yaxis": {
            "backgroundcolor": "#E5ECF6",
            "gridcolor": "white",
            "gridwidth": 2,
            "linecolor": "white",
            "showbackground": true,
            "ticks": "",
            "zerolinecolor": "white"
           },
           "zaxis": {
            "backgroundcolor": "#E5ECF6",
            "gridcolor": "white",
            "gridwidth": 2,
            "linecolor": "white",
            "showbackground": true,
            "ticks": "",
            "zerolinecolor": "white"
           }
          },
          "shapedefaults": {
           "line": {
            "color": "#2a3f5f"
           }
          },
          "ternary": {
           "aaxis": {
            "gridcolor": "white",
            "linecolor": "white",
            "ticks": ""
           },
           "baxis": {
            "gridcolor": "white",
            "linecolor": "white",
            "ticks": ""
           },
           "bgcolor": "#E5ECF6",
           "caxis": {
            "gridcolor": "white",
            "linecolor": "white",
            "ticks": ""
           }
          },
          "title": {
           "x": 0.05
          },
          "xaxis": {
           "automargin": true,
           "gridcolor": "white",
           "linecolor": "white",
           "ticks": "",
           "title": {
            "standoff": 15
           },
           "zerolinecolor": "white",
           "zerolinewidth": 2
          },
          "yaxis": {
           "automargin": true,
           "gridcolor": "white",
           "linecolor": "white",
           "ticks": "",
           "title": {
            "standoff": 15
           },
           "zerolinecolor": "white",
           "zerolinewidth": 2
          }
         }
        }
       }
      }
     },
     "metadata": {},
     "output_type": "display_data"
    }
   ],
   "source": [
    "fig3 = px.parallel_coordinates(\n",
    "    scores,\n",
    "    labels= {\n",
    "        \"A3 Expected Annual Damage\" : \"A3 Damage\",\n",
    "        \"A3 Aggr Expected Number of Deaths\" : \"A3 Casualties\",\n",
    "        \"A3 Dike Investment Costs\" : \"Dike Investment Costs\",\n",
    "        \"Room for River Investment Costs\" : \"RfR Investment Costs\",\n",
    "        \"Evacuation Costs\" : \"Evacuation Costs\"\n",
    "    },\n",
    "    color = scores.index,\n",
    "    dimensions=[\n",
    "        \"A3 Expected Annual Damage\",\n",
    "        \"A3 Aggr Expected Number of Deaths\",\n",
    "        \"A3 Dike Investment Costs\",\n",
    "        \"Room for River Investment Costs\",\n",
    "        \"Evacuation Costs\"\n",
    "    ]\n",
    ")\n",
    "#fig3.write_image(\"SignalNoise.png\")\n",
    "fig3.show()\n",
    "fig3.write_image(\"./plots/Selected_ParralelPlot_dike3_iter1.png\")"
   ]
  },
  {
   "cell_type": "markdown",
   "metadata": {},
   "source": [
    "We find some robust policies, as seen in the graph.\n",
    "\n",
    "![](../figures/Gelderland_stnr.png)\n",
    "\n"
   ]
  },
  {
   "cell_type": "markdown",
   "metadata": {},
   "source": [
    "### Maximum Regret\n",
    "Another robustness criterion is the maximum regret measure. We again calculate this measure for every policy selected"
   ]
  },
  {
   "cell_type": "code",
   "execution_count": 20,
   "metadata": {},
   "outputs": [],
   "source": [
    "def calculate_regret(data, best):\n",
    "    return np.abs(best-data)\n",
    "\n",
    "overall_regret = {}\n",
    "max_regret = {}\n",
    "for outcome in dike_model.outcomes:\n",
    "    policy_column = experiments['policy']\n",
    "\n",
    "    data = pd.DataFrame({outcome.name: outcomes[outcome.name], \n",
    "                         \"policy\":experiments['policy'],\n",
    "                         \"scenario\":experiments['scenario']})\n",
    "\n",
    "    data = data.pivot(index='scenario', columns='policy')\n",
    "    data.columns = data.columns.get_level_values(1)\n",
    "\n",
    "    outcome_regret = (data.max(axis=1).values[:, np.newaxis] - data).abs()\n",
    "\n",
    "    overall_regret[outcome.name] = outcome_regret\n",
    "    max_regret[outcome.name] = outcome_regret.max()\n"
   ]
  },
  {
   "cell_type": "code",
   "execution_count": 21,
   "metadata": {},
   "outputs": [],
   "source": [
    "max_regret = pd.DataFrame(max_regret)\n",
    "max_regret = max_regret.reindex()"
   ]
  },
  {
   "cell_type": "code",
   "execution_count": 23,
   "metadata": {},
   "outputs": [
    {
     "data": {
      "application/vnd.plotly.v1+json": {
       "config": {
        "plotlyServerURL": "https://plot.ly"
       },
       "data": [
        {
         "coloraxis": "coloraxis",
         "hovertemplate": "Outcomes: %{x}<br>Policies: %{y}<br>Maximum regret: %{z}<extra></extra>",
         "name": "0",
         "type": "heatmap",
         "x": [
          "A3 Expected Annual Damage",
          "A3 Aggr Expected Number of Deaths",
          "A3 Dike Investment Costs",
          "Room for River Investment Costs",
          "Evacuation Costs"
         ],
         "xaxis": "x",
         "y": [
          76,
          93,
          107,
          116,
          127
         ],
         "yaxis": "y",
         "z": [
          [
           0.18912745433486525,
           1,
           0.361289954617305,
           0.6666666666666666,
           0
          ],
          [
           1,
           0.31195101638936046,
           0.6938888539840362,
           0.3333333333333333,
           1
          ],
          [
           0.9880579708451074,
           0.22523686437245796,
           0.361289954617305,
           0.6666666666666666,
           1
          ],
          [
           0.9867291378533859,
           0.06643598098944443,
           0,
           1,
           1
          ],
          [
           1,
           0.3263675825532749,
           1,
           0,
           1
          ]
         ]
        }
       ],
       "layout": {
        "coloraxis": {
         "colorbar": {
          "title": {
           "text": "Maximum regret"
          }
         },
         "colorscale": [
          [
           0,
           "#0d0887"
          ],
          [
           0.1111111111111111,
           "#46039f"
          ],
          [
           0.2222222222222222,
           "#7201a8"
          ],
          [
           0.3333333333333333,
           "#9c179e"
          ],
          [
           0.4444444444444444,
           "#bd3786"
          ],
          [
           0.5555555555555556,
           "#d8576b"
          ],
          [
           0.6666666666666666,
           "#ed7953"
          ],
          [
           0.7777777777777778,
           "#fb9f3a"
          ],
          [
           0.8888888888888888,
           "#fdca26"
          ],
          [
           1,
           "#f0f921"
          ]
         ]
        },
        "margin": {
         "t": 60
        },
        "template": {
         "data": {
          "bar": [
           {
            "error_x": {
             "color": "#2a3f5f"
            },
            "error_y": {
             "color": "#2a3f5f"
            },
            "marker": {
             "line": {
              "color": "#E5ECF6",
              "width": 0.5
             },
             "pattern": {
              "fillmode": "overlay",
              "size": 10,
              "solidity": 0.2
             }
            },
            "type": "bar"
           }
          ],
          "barpolar": [
           {
            "marker": {
             "line": {
              "color": "#E5ECF6",
              "width": 0.5
             },
             "pattern": {
              "fillmode": "overlay",
              "size": 10,
              "solidity": 0.2
             }
            },
            "type": "barpolar"
           }
          ],
          "carpet": [
           {
            "aaxis": {
             "endlinecolor": "#2a3f5f",
             "gridcolor": "white",
             "linecolor": "white",
             "minorgridcolor": "white",
             "startlinecolor": "#2a3f5f"
            },
            "baxis": {
             "endlinecolor": "#2a3f5f",
             "gridcolor": "white",
             "linecolor": "white",
             "minorgridcolor": "white",
             "startlinecolor": "#2a3f5f"
            },
            "type": "carpet"
           }
          ],
          "choropleth": [
           {
            "colorbar": {
             "outlinewidth": 0,
             "ticks": ""
            },
            "type": "choropleth"
           }
          ],
          "contour": [
           {
            "colorbar": {
             "outlinewidth": 0,
             "ticks": ""
            },
            "colorscale": [
             [
              0,
              "#0d0887"
             ],
             [
              0.1111111111111111,
              "#46039f"
             ],
             [
              0.2222222222222222,
              "#7201a8"
             ],
             [
              0.3333333333333333,
              "#9c179e"
             ],
             [
              0.4444444444444444,
              "#bd3786"
             ],
             [
              0.5555555555555556,
              "#d8576b"
             ],
             [
              0.6666666666666666,
              "#ed7953"
             ],
             [
              0.7777777777777778,
              "#fb9f3a"
             ],
             [
              0.8888888888888888,
              "#fdca26"
             ],
             [
              1,
              "#f0f921"
             ]
            ],
            "type": "contour"
           }
          ],
          "contourcarpet": [
           {
            "colorbar": {
             "outlinewidth": 0,
             "ticks": ""
            },
            "type": "contourcarpet"
           }
          ],
          "heatmap": [
           {
            "colorbar": {
             "outlinewidth": 0,
             "ticks": ""
            },
            "colorscale": [
             [
              0,
              "#0d0887"
             ],
             [
              0.1111111111111111,
              "#46039f"
             ],
             [
              0.2222222222222222,
              "#7201a8"
             ],
             [
              0.3333333333333333,
              "#9c179e"
             ],
             [
              0.4444444444444444,
              "#bd3786"
             ],
             [
              0.5555555555555556,
              "#d8576b"
             ],
             [
              0.6666666666666666,
              "#ed7953"
             ],
             [
              0.7777777777777778,
              "#fb9f3a"
             ],
             [
              0.8888888888888888,
              "#fdca26"
             ],
             [
              1,
              "#f0f921"
             ]
            ],
            "type": "heatmap"
           }
          ],
          "heatmapgl": [
           {
            "colorbar": {
             "outlinewidth": 0,
             "ticks": ""
            },
            "colorscale": [
             [
              0,
              "#0d0887"
             ],
             [
              0.1111111111111111,
              "#46039f"
             ],
             [
              0.2222222222222222,
              "#7201a8"
             ],
             [
              0.3333333333333333,
              "#9c179e"
             ],
             [
              0.4444444444444444,
              "#bd3786"
             ],
             [
              0.5555555555555556,
              "#d8576b"
             ],
             [
              0.6666666666666666,
              "#ed7953"
             ],
             [
              0.7777777777777778,
              "#fb9f3a"
             ],
             [
              0.8888888888888888,
              "#fdca26"
             ],
             [
              1,
              "#f0f921"
             ]
            ],
            "type": "heatmapgl"
           }
          ],
          "histogram": [
           {
            "marker": {
             "pattern": {
              "fillmode": "overlay",
              "size": 10,
              "solidity": 0.2
             }
            },
            "type": "histogram"
           }
          ],
          "histogram2d": [
           {
            "colorbar": {
             "outlinewidth": 0,
             "ticks": ""
            },
            "colorscale": [
             [
              0,
              "#0d0887"
             ],
             [
              0.1111111111111111,
              "#46039f"
             ],
             [
              0.2222222222222222,
              "#7201a8"
             ],
             [
              0.3333333333333333,
              "#9c179e"
             ],
             [
              0.4444444444444444,
              "#bd3786"
             ],
             [
              0.5555555555555556,
              "#d8576b"
             ],
             [
              0.6666666666666666,
              "#ed7953"
             ],
             [
              0.7777777777777778,
              "#fb9f3a"
             ],
             [
              0.8888888888888888,
              "#fdca26"
             ],
             [
              1,
              "#f0f921"
             ]
            ],
            "type": "histogram2d"
           }
          ],
          "histogram2dcontour": [
           {
            "colorbar": {
             "outlinewidth": 0,
             "ticks": ""
            },
            "colorscale": [
             [
              0,
              "#0d0887"
             ],
             [
              0.1111111111111111,
              "#46039f"
             ],
             [
              0.2222222222222222,
              "#7201a8"
             ],
             [
              0.3333333333333333,
              "#9c179e"
             ],
             [
              0.4444444444444444,
              "#bd3786"
             ],
             [
              0.5555555555555556,
              "#d8576b"
             ],
             [
              0.6666666666666666,
              "#ed7953"
             ],
             [
              0.7777777777777778,
              "#fb9f3a"
             ],
             [
              0.8888888888888888,
              "#fdca26"
             ],
             [
              1,
              "#f0f921"
             ]
            ],
            "type": "histogram2dcontour"
           }
          ],
          "mesh3d": [
           {
            "colorbar": {
             "outlinewidth": 0,
             "ticks": ""
            },
            "type": "mesh3d"
           }
          ],
          "parcoords": [
           {
            "line": {
             "colorbar": {
              "outlinewidth": 0,
              "ticks": ""
             }
            },
            "type": "parcoords"
           }
          ],
          "pie": [
           {
            "automargin": true,
            "type": "pie"
           }
          ],
          "scatter": [
           {
            "fillpattern": {
             "fillmode": "overlay",
             "size": 10,
             "solidity": 0.2
            },
            "type": "scatter"
           }
          ],
          "scatter3d": [
           {
            "line": {
             "colorbar": {
              "outlinewidth": 0,
              "ticks": ""
             }
            },
            "marker": {
             "colorbar": {
              "outlinewidth": 0,
              "ticks": ""
             }
            },
            "type": "scatter3d"
           }
          ],
          "scattercarpet": [
           {
            "marker": {
             "colorbar": {
              "outlinewidth": 0,
              "ticks": ""
             }
            },
            "type": "scattercarpet"
           }
          ],
          "scattergeo": [
           {
            "marker": {
             "colorbar": {
              "outlinewidth": 0,
              "ticks": ""
             }
            },
            "type": "scattergeo"
           }
          ],
          "scattergl": [
           {
            "marker": {
             "colorbar": {
              "outlinewidth": 0,
              "ticks": ""
             }
            },
            "type": "scattergl"
           }
          ],
          "scattermapbox": [
           {
            "marker": {
             "colorbar": {
              "outlinewidth": 0,
              "ticks": ""
             }
            },
            "type": "scattermapbox"
           }
          ],
          "scatterpolar": [
           {
            "marker": {
             "colorbar": {
              "outlinewidth": 0,
              "ticks": ""
             }
            },
            "type": "scatterpolar"
           }
          ],
          "scatterpolargl": [
           {
            "marker": {
             "colorbar": {
              "outlinewidth": 0,
              "ticks": ""
             }
            },
            "type": "scatterpolargl"
           }
          ],
          "scatterternary": [
           {
            "marker": {
             "colorbar": {
              "outlinewidth": 0,
              "ticks": ""
             }
            },
            "type": "scatterternary"
           }
          ],
          "surface": [
           {
            "colorbar": {
             "outlinewidth": 0,
             "ticks": ""
            },
            "colorscale": [
             [
              0,
              "#0d0887"
             ],
             [
              0.1111111111111111,
              "#46039f"
             ],
             [
              0.2222222222222222,
              "#7201a8"
             ],
             [
              0.3333333333333333,
              "#9c179e"
             ],
             [
              0.4444444444444444,
              "#bd3786"
             ],
             [
              0.5555555555555556,
              "#d8576b"
             ],
             [
              0.6666666666666666,
              "#ed7953"
             ],
             [
              0.7777777777777778,
              "#fb9f3a"
             ],
             [
              0.8888888888888888,
              "#fdca26"
             ],
             [
              1,
              "#f0f921"
             ]
            ],
            "type": "surface"
           }
          ],
          "table": [
           {
            "cells": {
             "fill": {
              "color": "#EBF0F8"
             },
             "line": {
              "color": "white"
             }
            },
            "header": {
             "fill": {
              "color": "#C8D4E3"
             },
             "line": {
              "color": "white"
             }
            },
            "type": "table"
           }
          ]
         },
         "layout": {
          "annotationdefaults": {
           "arrowcolor": "#2a3f5f",
           "arrowhead": 0,
           "arrowwidth": 1
          },
          "autotypenumbers": "strict",
          "coloraxis": {
           "colorbar": {
            "outlinewidth": 0,
            "ticks": ""
           }
          },
          "colorscale": {
           "diverging": [
            [
             0,
             "#8e0152"
            ],
            [
             0.1,
             "#c51b7d"
            ],
            [
             0.2,
             "#de77ae"
            ],
            [
             0.3,
             "#f1b6da"
            ],
            [
             0.4,
             "#fde0ef"
            ],
            [
             0.5,
             "#f7f7f7"
            ],
            [
             0.6,
             "#e6f5d0"
            ],
            [
             0.7,
             "#b8e186"
            ],
            [
             0.8,
             "#7fbc41"
            ],
            [
             0.9,
             "#4d9221"
            ],
            [
             1,
             "#276419"
            ]
           ],
           "sequential": [
            [
             0,
             "#0d0887"
            ],
            [
             0.1111111111111111,
             "#46039f"
            ],
            [
             0.2222222222222222,
             "#7201a8"
            ],
            [
             0.3333333333333333,
             "#9c179e"
            ],
            [
             0.4444444444444444,
             "#bd3786"
            ],
            [
             0.5555555555555556,
             "#d8576b"
            ],
            [
             0.6666666666666666,
             "#ed7953"
            ],
            [
             0.7777777777777778,
             "#fb9f3a"
            ],
            [
             0.8888888888888888,
             "#fdca26"
            ],
            [
             1,
             "#f0f921"
            ]
           ],
           "sequentialminus": [
            [
             0,
             "#0d0887"
            ],
            [
             0.1111111111111111,
             "#46039f"
            ],
            [
             0.2222222222222222,
             "#7201a8"
            ],
            [
             0.3333333333333333,
             "#9c179e"
            ],
            [
             0.4444444444444444,
             "#bd3786"
            ],
            [
             0.5555555555555556,
             "#d8576b"
            ],
            [
             0.6666666666666666,
             "#ed7953"
            ],
            [
             0.7777777777777778,
             "#fb9f3a"
            ],
            [
             0.8888888888888888,
             "#fdca26"
            ],
            [
             1,
             "#f0f921"
            ]
           ]
          },
          "colorway": [
           "#636efa",
           "#EF553B",
           "#00cc96",
           "#ab63fa",
           "#FFA15A",
           "#19d3f3",
           "#FF6692",
           "#B6E880",
           "#FF97FF",
           "#FECB52"
          ],
          "font": {
           "color": "#2a3f5f"
          },
          "geo": {
           "bgcolor": "white",
           "lakecolor": "white",
           "landcolor": "#E5ECF6",
           "showlakes": true,
           "showland": true,
           "subunitcolor": "white"
          },
          "hoverlabel": {
           "align": "left"
          },
          "hovermode": "closest",
          "mapbox": {
           "style": "light"
          },
          "paper_bgcolor": "white",
          "plot_bgcolor": "#E5ECF6",
          "polar": {
           "angularaxis": {
            "gridcolor": "white",
            "linecolor": "white",
            "ticks": ""
           },
           "bgcolor": "#E5ECF6",
           "radialaxis": {
            "gridcolor": "white",
            "linecolor": "white",
            "ticks": ""
           }
          },
          "scene": {
           "xaxis": {
            "backgroundcolor": "#E5ECF6",
            "gridcolor": "white",
            "gridwidth": 2,
            "linecolor": "white",
            "showbackground": true,
            "ticks": "",
            "zerolinecolor": "white"
           },
           "yaxis": {
            "backgroundcolor": "#E5ECF6",
            "gridcolor": "white",
            "gridwidth": 2,
            "linecolor": "white",
            "showbackground": true,
            "ticks": "",
            "zerolinecolor": "white"
           },
           "zaxis": {
            "backgroundcolor": "#E5ECF6",
            "gridcolor": "white",
            "gridwidth": 2,
            "linecolor": "white",
            "showbackground": true,
            "ticks": "",
            "zerolinecolor": "white"
           }
          },
          "shapedefaults": {
           "line": {
            "color": "#2a3f5f"
           }
          },
          "ternary": {
           "aaxis": {
            "gridcolor": "white",
            "linecolor": "white",
            "ticks": ""
           },
           "baxis": {
            "gridcolor": "white",
            "linecolor": "white",
            "ticks": ""
           },
           "bgcolor": "#E5ECF6",
           "caxis": {
            "gridcolor": "white",
            "linecolor": "white",
            "ticks": ""
           }
          },
          "title": {
           "x": 0.05
          },
          "xaxis": {
           "automargin": true,
           "gridcolor": "white",
           "linecolor": "white",
           "ticks": "",
           "title": {
            "standoff": 15
           },
           "zerolinecolor": "white",
           "zerolinewidth": 2
          },
          "yaxis": {
           "automargin": true,
           "gridcolor": "white",
           "linecolor": "white",
           "ticks": "",
           "title": {
            "standoff": 15
           },
           "zerolinecolor": "white",
           "zerolinewidth": 2
          }
         }
        },
        "xaxis": {
         "anchor": "y",
         "constrain": "domain",
         "domain": [
          0,
          1
         ],
         "scaleanchor": "y",
         "title": {
          "text": "Outcomes"
         }
        },
        "yaxis": {
         "anchor": "x",
         "autorange": "reversed",
         "constrain": "domain",
         "domain": [
          0,
          1
         ],
         "title": {
          "text": "Policies"
         }
        }
       }
      }
     },
     "metadata": {},
     "output_type": "display_data"
    }
   ],
   "source": [
    "fig4 = px.imshow(max_regret/max_regret.max(), labels=dict(x=\"Outcomes\", y = \"Policies\", color = \"Maximum regret\"))\n",
    "fig4.show()\n",
    "fig4.write_image(\"./plots/MaxRegret_dike3_iter1.png\")"
   ]
  },
  {
   "cell_type": "markdown",
   "metadata": {},
   "source": [
    "Although not numbered, it can clearly be seen that policy 7, for example, shows little regret for outcomes 2, 4 and 6. Therefore this policy might be a robust solution when only considering the initial reference case scenario based on the worst deaths. However, we continue looking for more robust solutions across multiple reference scenarios using the PRIM algorithm. "
   ]
  },
  {
   "cell_type": "markdown",
   "metadata": {},
   "source": [
    "## Scenario Discovery\n",
    "We perform Scenario Discovery using the PRIM-algorithm to discover such scenarios in which the robust policies fail. For Gelderland, we focus on such scenarios where deaths and damages occur, and where the total costs are above 4 Billion €. "
   ]
  },
  {
   "cell_type": "code",
   "execution_count": 24,
   "metadata": {},
   "outputs": [],
   "source": [
    "condition= {}\n",
    "\n",
    "condition[\"condition1\"] = outcomes[\"A3 Expected Annual Damage\"] + outcomes[\"A3 Aggr Expected Number of Deaths\"]\n",
    "condition[\"condition2\"] = outcomes[\"Evacuation Costs\"] + outcomes[\"Room for River Investment Costs\"]\n",
    "condition1 = condition[\"condition1\"] > 0\n",
    "condition2 = condition[\"condition2\"] > 4e9"
   ]
  },
  {
   "cell_type": "code",
   "execution_count": 25,
   "metadata": {},
   "outputs": [
    {
     "data": {
      "text/html": [
       "<div>\n",
       "<style scoped>\n",
       "    .dataframe tbody tr th:only-of-type {\n",
       "        vertical-align: middle;\n",
       "    }\n",
       "\n",
       "    .dataframe tbody tr th {\n",
       "        vertical-align: top;\n",
       "    }\n",
       "\n",
       "    .dataframe thead th {\n",
       "        text-align: right;\n",
       "    }\n",
       "</style>\n",
       "<table border=\"1\" class=\"dataframe\">\n",
       "  <thead>\n",
       "    <tr style=\"text-align: right;\">\n",
       "      <th></th>\n",
       "      <th>A3 Expected Annual Damage</th>\n",
       "      <th>A3 Aggr Expected Number of Deaths</th>\n",
       "      <th>A3 Dike Investment Costs</th>\n",
       "      <th>Room for River Investment Costs</th>\n",
       "      <th>Evacuation Costs</th>\n",
       "    </tr>\n",
       "  </thead>\n",
       "  <tbody>\n",
       "    <tr>\n",
       "      <th>0</th>\n",
       "      <td>0.000000e+00</td>\n",
       "      <td>0.000000</td>\n",
       "      <td>2.419803e+07</td>\n",
       "      <td>30700000.0</td>\n",
       "      <td>14720.294665</td>\n",
       "    </tr>\n",
       "    <tr>\n",
       "      <th>1</th>\n",
       "      <td>6.710204e+07</td>\n",
       "      <td>0.015348</td>\n",
       "      <td>2.419803e+07</td>\n",
       "      <td>30700000.0</td>\n",
       "      <td>4134.907691</td>\n",
       "    </tr>\n",
       "    <tr>\n",
       "      <th>2</th>\n",
       "      <td>0.000000e+00</td>\n",
       "      <td>0.000000</td>\n",
       "      <td>2.419803e+07</td>\n",
       "      <td>30700000.0</td>\n",
       "      <td>1743.042959</td>\n",
       "    </tr>\n",
       "    <tr>\n",
       "      <th>3</th>\n",
       "      <td>0.000000e+00</td>\n",
       "      <td>0.000000</td>\n",
       "      <td>2.419803e+07</td>\n",
       "      <td>30700000.0</td>\n",
       "      <td>15074.128227</td>\n",
       "    </tr>\n",
       "    <tr>\n",
       "      <th>4</th>\n",
       "      <td>0.000000e+00</td>\n",
       "      <td>0.000000</td>\n",
       "      <td>2.419803e+07</td>\n",
       "      <td>30700000.0</td>\n",
       "      <td>19984.951610</td>\n",
       "    </tr>\n",
       "    <tr>\n",
       "      <th>...</th>\n",
       "      <td>...</td>\n",
       "      <td>...</td>\n",
       "      <td>...</td>\n",
       "      <td>...</td>\n",
       "      <td>...</td>\n",
       "    </tr>\n",
       "    <tr>\n",
       "      <th>4995</th>\n",
       "      <td>0.000000e+00</td>\n",
       "      <td>0.000000</td>\n",
       "      <td>2.029929e+07</td>\n",
       "      <td>92100000.0</td>\n",
       "      <td>0.000000</td>\n",
       "    </tr>\n",
       "    <tr>\n",
       "      <th>4996</th>\n",
       "      <td>0.000000e+00</td>\n",
       "      <td>0.000000</td>\n",
       "      <td>2.029929e+07</td>\n",
       "      <td>92100000.0</td>\n",
       "      <td>0.000000</td>\n",
       "    </tr>\n",
       "    <tr>\n",
       "      <th>4997</th>\n",
       "      <td>0.000000e+00</td>\n",
       "      <td>0.000000</td>\n",
       "      <td>2.029929e+07</td>\n",
       "      <td>92100000.0</td>\n",
       "      <td>0.000000</td>\n",
       "    </tr>\n",
       "    <tr>\n",
       "      <th>4998</th>\n",
       "      <td>0.000000e+00</td>\n",
       "      <td>0.000000</td>\n",
       "      <td>2.029929e+07</td>\n",
       "      <td>92100000.0</td>\n",
       "      <td>0.000000</td>\n",
       "    </tr>\n",
       "    <tr>\n",
       "      <th>4999</th>\n",
       "      <td>0.000000e+00</td>\n",
       "      <td>0.000000</td>\n",
       "      <td>2.029929e+07</td>\n",
       "      <td>92100000.0</td>\n",
       "      <td>0.000000</td>\n",
       "    </tr>\n",
       "  </tbody>\n",
       "</table>\n",
       "<p>5000 rows × 5 columns</p>\n",
       "</div>"
      ],
      "text/plain": [
       "      A3 Expected Annual Damage  A3 Aggr Expected Number of Deaths  \\\n",
       "0                  0.000000e+00                           0.000000   \n",
       "1                  6.710204e+07                           0.015348   \n",
       "2                  0.000000e+00                           0.000000   \n",
       "3                  0.000000e+00                           0.000000   \n",
       "4                  0.000000e+00                           0.000000   \n",
       "...                         ...                                ...   \n",
       "4995               0.000000e+00                           0.000000   \n",
       "4996               0.000000e+00                           0.000000   \n",
       "4997               0.000000e+00                           0.000000   \n",
       "4998               0.000000e+00                           0.000000   \n",
       "4999               0.000000e+00                           0.000000   \n",
       "\n",
       "      A3 Dike Investment Costs  Room for River Investment Costs  \\\n",
       "0                 2.419803e+07                       30700000.0   \n",
       "1                 2.419803e+07                       30700000.0   \n",
       "2                 2.419803e+07                       30700000.0   \n",
       "3                 2.419803e+07                       30700000.0   \n",
       "4                 2.419803e+07                       30700000.0   \n",
       "...                        ...                              ...   \n",
       "4995              2.029929e+07                       92100000.0   \n",
       "4996              2.029929e+07                       92100000.0   \n",
       "4997              2.029929e+07                       92100000.0   \n",
       "4998              2.029929e+07                       92100000.0   \n",
       "4999              2.029929e+07                       92100000.0   \n",
       "\n",
       "      Evacuation Costs  \n",
       "0         14720.294665  \n",
       "1          4134.907691  \n",
       "2          1743.042959  \n",
       "3         15074.128227  \n",
       "4         19984.951610  \n",
       "...                ...  \n",
       "4995          0.000000  \n",
       "4996          0.000000  \n",
       "4997          0.000000  \n",
       "4998          0.000000  \n",
       "4999          0.000000  \n",
       "\n",
       "[5000 rows x 5 columns]"
      ]
     },
     "execution_count": 25,
     "metadata": {},
     "output_type": "execute_result"
    }
   ],
   "source": [
    "outcomes=pd.DataFrame(outcomes)\n",
    "outcomes"
   ]
  },
  {
   "cell_type": "code",
   "execution_count": 26,
   "metadata": {},
   "outputs": [
    {
     "name": "stderr",
     "output_type": "stream",
     "text": [
      "[MainProcess/INFO] 5000 points remaining, containing 2500 cases of interest\n",
      "[MainProcess/INFO] mean: 0.6, mass: 0.187, coverage: 0.2244, density: 0.6 restricted_dimensions: 2\n"
     ]
    }
   ],
   "source": [
    "# Prepare to do prim\n",
    "from ema_workbench.analysis import prim\n",
    "\n",
    "# Set the output to the category that we are interested in for this run\n",
    "outcome_entry = outcomes[\"Evacuation Costs\"] + outcomes[\"Room for River Investment Costs\"]\n",
    "\n",
    "x = experiments.iloc[:,0:19]\n",
    "# Set our output threshold to be the 90th percentile of all of those outputs\n",
    "y_limit = np.quantile(outcome_entry, 0.5)\n",
    "\n",
    "# Only select outputs that are above this threshold\n",
    "y = np.array([value > y_limit for value in outcome_entry])\n",
    "\n",
    "# Conduct our prim analysis using a threshold of 0.8\n",
    "prim_alg = prim.Prim(x, y, threshold=0.6)\n",
    "\n",
    "# Get the box that prim found for us\n",
    "box1 = prim_alg.find_box()"
   ]
  },
  {
   "cell_type": "code",
   "execution_count": 29,
   "metadata": {},
   "outputs": [
    {
     "data": {
      "image/png": "[encoded data removed]",
      "text/plain": [
       "<Figure size 1500x2500 with 5 Axes>"
      ]
     },
     "metadata": {},
     "output_type": "display_data"
    }
   ],
   "source": [
    "fig5, axs = plt.subplots(5, figsize=(15,25))\n",
    "\n",
    "\n",
    "# Create a histogram for \"A3 Expected Annual Damage\"\n",
    "axs[0].hist(outcomes[\"A3 Expected Annual Damage\"], bins=50, color='red', alpha=0.7)\n",
    "axs[0].set_title('Distribution of A3 Expected Annual Damage')\n",
    "\n",
    "# Create a histogram for \"A3 Aggr Expected Number of Deaths\"\n",
    "axs[1].hist(outcomes[\"A3 Aggr Expected Number of Deaths\"], bins=50, color='red', alpha=0.7)\n",
    "axs[1].set_title('Distribution of A3 Aggr Expected Number of Deaths')\n",
    "\n",
    "# Create a histogram for \"A3 Dike Investment Costs\"\n",
    "axs[2].hist(outcomes[\"A3 Dike Investment Costs\"], bins=50, color='red', alpha=0.7)\n",
    "axs[2].set_title('Distribution of A3 Dike Investment Costs')\n",
    "\n",
    "# Create a histogram for \"Evacuation Costs\"\n",
    "axs[3].hist(outcomes[\"Evacuation Costs\"], bins=50, color='green', alpha=0.7)\n",
    "axs[3].set_title('Distribution of Evacuation Costs')\n",
    "\n",
    "# Create a histogram for \"Room for River Investment Costs\"\n",
    "axs[4].hist(outcomes[\"Room for River Investment Costs\"], bins=50, color='red', alpha=0.7)\n",
    "axs[4].set_title('Distribution of Room for River Investment Costs')\n",
    "\n",
    "\n",
    "# Display the plot\n",
    "plt.tight_layout()\n",
    "plt.show()\n",
    "fig5.savefig(\"./plots/histograms.png\")\n"
   ]
  },
  {
   "cell_type": "code",
   "execution_count": 31,
   "metadata": {
    "tags": []
   },
   "outputs": [
    {
     "name": "stderr",
     "output_type": "stream",
     "text": [
      "[MainProcess/INFO] 5000 points remaining, containing 1244 cases of interest\n",
      "[MainProcess/INFO] mean: 0.9846153846153847, mass: 0.065, coverage: 0.2572347266881029, density: 0.9846153846153847 restricted_dimensions: 7\n"
     ]
    }
   ],
   "source": [
    "x = experiments.iloc[:,0:19]\n",
    "y = (condition1 | condition2)\n",
    "prim_alg = prim.Prim(x,y, threshold=0.5)\n",
    "box = prim_alg.find_box()"
   ]
  },
  {
   "cell_type": "code",
   "execution_count": 32,
   "metadata": {},
   "outputs": [
    {
     "data": {
      "image/png": "[encoded data removed]",
      "text/plain": [
       "<Figure size 640x480 with 2 Axes>"
      ]
     },
     "metadata": {},
     "output_type": "display_data"
    }
   ],
   "source": [
    "box.inspect_tradeoff()\n",
    "sns.set_style('darkgrid')\n",
    "fig6 = box.show_tradeoff()\n",
    "fig6.savefig(\"./plots/PRIM_tradeoff_dike3_iter1.png\")"
   ]
  },
  {
   "cell_type": "markdown",
   "metadata": {},
   "source": [
    "We select box 10, as it shows a good mixture between coverage and density. "
   ]
  },
  {
   "cell_type": "code",
   "execution_count": 33,
   "metadata": {
    "tags": []
   },
   "outputs": [
    {
     "name": "stdout",
     "output_type": "stream",
     "text": [
      "coverage     0.998392\n",
      "density      0.417479\n",
      "id          10.000000\n",
      "mass         0.595000\n",
      "mean         0.417479\n",
      "res_dim      1.000000\n",
      "Name: 10, dtype: float64\n",
      "\n",
      "             box 10                                 \n",
      "                min       max qp value      qp value\n",
      "A.3_pfail  0.000816  0.594715      NaN  4.540846e-90\n",
      "\n"
     ]
    },
    {
     "data": {
      "text/plain": [
       "[None]"
      ]
     },
     "execution_count": 33,
     "metadata": {},
     "output_type": "execute_result"
    }
   ],
   "source": [
    "n_box = 10\n",
    "box.inspect(n_box)\n",
    "#print(province)"
   ]
  },
  {
   "cell_type": "code",
   "execution_count": 34,
   "metadata": {},
   "outputs": [],
   "source": [
    "box.select(n_box)\n",
    "scens_in_box = experiments.iloc[box.yi]\n",
    "outcomes_in_box = {k:v[box.yi] for k,v in outcomes.items()}"
   ]
  },
  {
   "cell_type": "code",
   "execution_count": 35,
   "metadata": {
    "tags": []
   },
   "outputs": [
    {
     "name": "stderr",
     "output_type": "stream",
     "text": [
      "[MainProcess/INFO] results saved successfully to /Users/philipmuller/Documents/GitHub/model-based-decision-making/final assignment/results/mordm_DikeRing310.tar.gz\n"
     ]
    }
   ],
   "source": [
    "#Save results\n",
    "save_results([scens_in_box.reindex(), outcomes_in_box], './results/mordm_'+province+ str(n_box)+'.tar.gz')"
   ]
  },
  {
   "cell_type": "markdown",
   "metadata": {},
   "source": [
    "# Multi-Scenario MORDM\n",
    "Based on the results of scenario discovery, we now continue to select three of such scenarios based on the worst outcomes in terms of casualties, damages and total costs. We will take each of these scenarios as a reference scenario to run an optimization algorithm for the levers to choose. "
   ]
  },
  {
   "cell_type": "code",
   "execution_count": 36,
   "metadata": {},
   "outputs": [],
   "source": [
    "#Load results\n",
    "# mordm_results = load_results('../results/mordm_29_Gelderland.tar.gz')\n",
    "results_df = pd.concat([pd.DataFrame(scens_in_box).reset_index(drop=True), pd.DataFrame(outcomes_in_box)], axis = 1)"
   ]
  },
  {
   "cell_type": "code",
   "execution_count": 37,
   "metadata": {},
   "outputs": [],
   "source": [
    "#Sum up Deaths and Damages\n",
    "results_df[\"Deaths Aggregated\"] = results_df[\"A3 Aggr Expected Number of Deaths\"]\n",
    "results_df[\"Damages Aggregated\"] = results_df[\"A3 Expected Annual Damage\"]"
   ]
  },
  {
   "cell_type": "code",
   "execution_count": 38,
   "metadata": {},
   "outputs": [],
   "source": [
    "#Get the three reference scenarios\n",
    "scenario_indices = [results_df.sort_values([\"Evacuation Costs\"]).tail(1).index[0], \n",
    "                    results_df.sort_values([\"Deaths Aggregated\"]).tail(1).index[0], \n",
    "                    results_df.sort_values([\"Damages Aggregated\"]).tail(1).index[0]]\n",
    "selected = results_df.iloc[scenario_indices, 0:19]\n"
   ]
  },
  {
   "cell_type": "code",
   "execution_count": 39,
   "metadata": {},
   "outputs": [],
   "source": [
    "#Create the three reference case scenario instances\n",
    "scenarios_mordm = [Scenario(f\"{index}\", **row) for index, row in selected.iterrows()]"
   ]
  },
  {
   "cell_type": "markdown",
   "metadata": {},
   "source": [
    "### Optimization run 2, now for 3 reference case scenarios\n",
    "We now search for optimal policies utilizing the three new refence scenarios specified above. For reasons already mentioned, we again use 20000 nfes and the epsilon progress to check for convergence"
   ]
  },
  {
   "cell_type": "code",
   "execution_count": 111,
   "metadata": {},
   "outputs": [
    {
     "ename": "KeyboardInterrupt",
     "evalue": "",
     "output_type": "error",
     "traceback": [
      "\u001b[0;31m---------------------------------------------------------------------------\u001b[0m",
      "\u001b[0;31mKeyboardInterrupt\u001b[0m                         Traceback (most recent call last)",
      "Cell \u001b[0;32mIn[111], line 17\u001b[0m\n\u001b[1;32m     14\u001b[0m convergence_metrics \u001b[39m=\u001b[39m [EpsilonProgress()]\n\u001b[1;32m     15\u001b[0m epsilons \u001b[39m=\u001b[39m [\u001b[39m0.1\u001b[39m,]\u001b[39m*\u001b[39m\u001b[39mlen\u001b[39m(dike_model\u001b[39m.\u001b[39moutcomes)\n\u001b[0;32m---> 17\u001b[0m results\u001b[39m.\u001b[39mappend(optimize(scenario, \u001b[39m1e4\u001b[39m, dike_model, convergence_metrics, epsilons))\n",
      "Cell \u001b[0;32mIn[111], line 3\u001b[0m, in \u001b[0;36moptimize\u001b[0;34m(scenario, nfe, model, converge_metrics, epsilons)\u001b[0m\n\u001b[1;32m      1\u001b[0m \u001b[39mdef\u001b[39;00m \u001b[39moptimize\u001b[39m(scenario, nfe, model, converge_metrics, epsilons):\n\u001b[0;32m----> 3\u001b[0m     \u001b[39mwith\u001b[39;00m MultiprocessingEvaluator(model) \u001b[39mas\u001b[39;00m evaluator:\n\u001b[1;32m      4\u001b[0m         results, convergence \u001b[39m=\u001b[39m evaluator\u001b[39m.\u001b[39moptimize(nfe\u001b[39m=\u001b[39mn_nfe, searchover\u001b[39m=\u001b[39m\u001b[39m'\u001b[39m\u001b[39mlevers\u001b[39m\u001b[39m'\u001b[39m,\n\u001b[1;32m      5\u001b[0m                                      convergence\u001b[39m=\u001b[39mconvergence_metrics,\n\u001b[1;32m      6\u001b[0m                                      epsilons\u001b[39m=\u001b[39mepsilons,\n\u001b[1;32m      7\u001b[0m                                      reference\u001b[39m=\u001b[39mscenario)\n\u001b[1;32m      8\u001b[0m     \u001b[39mreturn\u001b[39;00m results, convergence\n",
      "File \u001b[0;32m~/opt/anaconda3/envs/mbdm/lib/python3.11/site-packages/ema_workbench/em_framework/evaluators.py:127\u001b[0m, in \u001b[0;36mBaseEvaluator.__enter__\u001b[0;34m(self)\u001b[0m\n\u001b[1;32m    126\u001b[0m \u001b[39mdef\u001b[39;00m \u001b[39m__enter__\u001b[39m(\u001b[39mself\u001b[39m):\n\u001b[0;32m--> 127\u001b[0m     \u001b[39mself\u001b[39m\u001b[39m.\u001b[39minitialize()\n\u001b[1;32m    128\u001b[0m     \u001b[39mreturn\u001b[39;00m \u001b[39mself\u001b[39m\n",
      "File \u001b[0;32m~/opt/anaconda3/envs/mbdm/lib/python3.11/site-packages/ema_workbench/em_framework/evaluators.py:384\u001b[0m, in \u001b[0;36mMultiprocessingEvaluator.initialize\u001b[0;34m(self)\u001b[0m\n\u001b[1;32m    381\u001b[0m     \u001b[39mself\u001b[39m\u001b[39m.\u001b[39mroot_dir \u001b[39m=\u001b[39m os\u001b[39m.\u001b[39mpath\u001b[39m.\u001b[39mabspath(\u001b[39m\"\u001b[39m\u001b[39mtmp\u001b[39m\u001b[39m\"\u001b[39m \u001b[39m+\u001b[39m random_part)\n\u001b[1;32m    382\u001b[0m     os\u001b[39m.\u001b[39mmakedirs(\u001b[39mself\u001b[39m\u001b[39m.\u001b[39mroot_dir)\n\u001b[0;32m--> 384\u001b[0m \u001b[39mself\u001b[39m\u001b[39m.\u001b[39m_pool \u001b[39m=\u001b[39m multiprocessing\u001b[39m.\u001b[39mPool(\n\u001b[1;32m    385\u001b[0m     \u001b[39mself\u001b[39m\u001b[39m.\u001b[39mn_processes,\n\u001b[1;32m    386\u001b[0m     initializer,\n\u001b[1;32m    387\u001b[0m     (\u001b[39mself\u001b[39m\u001b[39m.\u001b[39m_msis, log_queue, loglevel, \u001b[39mself\u001b[39m\u001b[39m.\u001b[39mroot_dir),\n\u001b[1;32m    388\u001b[0m     \u001b[39mself\u001b[39m\u001b[39m.\u001b[39mmaxtasksperchild,\n\u001b[1;32m    389\u001b[0m )\n\u001b[1;32m    390\u001b[0m \u001b[39mself\u001b[39m\u001b[39m.\u001b[39mn_processes \u001b[39m=\u001b[39m \u001b[39mself\u001b[39m\u001b[39m.\u001b[39m_pool\u001b[39m.\u001b[39m_processes\n\u001b[1;32m    391\u001b[0m _logger\u001b[39m.\u001b[39minfo(\u001b[39mf\u001b[39m\u001b[39m\"\u001b[39m\u001b[39mpool started with \u001b[39m\u001b[39m{\u001b[39;00m\u001b[39mself\u001b[39m\u001b[39m.\u001b[39mn_processes\u001b[39m}\u001b[39;00m\u001b[39m workers\u001b[39m\u001b[39m\"\u001b[39m)\n",
      "File \u001b[0;32m~/opt/anaconda3/envs/mbdm/lib/python3.11/multiprocessing/context.py:119\u001b[0m, in \u001b[0;36mBaseContext.Pool\u001b[0;34m(self, processes, initializer, initargs, maxtasksperchild)\u001b[0m\n\u001b[1;32m    117\u001b[0m \u001b[39m'''Returns a process pool object'''\u001b[39;00m\n\u001b[1;32m    118\u001b[0m \u001b[39mfrom\u001b[39;00m \u001b[39m.\u001b[39;00m\u001b[39mpool\u001b[39;00m \u001b[39mimport\u001b[39;00m Pool\n\u001b[0;32m--> 119\u001b[0m \u001b[39mreturn\u001b[39;00m Pool(processes, initializer, initargs, maxtasksperchild,\n\u001b[1;32m    120\u001b[0m             context\u001b[39m=\u001b[39m\u001b[39mself\u001b[39m\u001b[39m.\u001b[39mget_context())\n",
      "File \u001b[0;32m~/opt/anaconda3/envs/mbdm/lib/python3.11/multiprocessing/pool.py:215\u001b[0m, in \u001b[0;36mPool.__init__\u001b[0;34m(self, processes, initializer, initargs, maxtasksperchild, context)\u001b[0m\n\u001b[1;32m    213\u001b[0m \u001b[39mself\u001b[39m\u001b[39m.\u001b[39m_processes \u001b[39m=\u001b[39m processes\n\u001b[1;32m    214\u001b[0m \u001b[39mtry\u001b[39;00m:\n\u001b[0;32m--> 215\u001b[0m     \u001b[39mself\u001b[39m\u001b[39m.\u001b[39m_repopulate_pool()\n\u001b[1;32m    216\u001b[0m \u001b[39mexcept\u001b[39;00m \u001b[39mException\u001b[39;00m:\n\u001b[1;32m    217\u001b[0m     \u001b[39mfor\u001b[39;00m p \u001b[39min\u001b[39;00m \u001b[39mself\u001b[39m\u001b[39m.\u001b[39m_pool:\n",
      "File \u001b[0;32m~/opt/anaconda3/envs/mbdm/lib/python3.11/multiprocessing/pool.py:306\u001b[0m, in \u001b[0;36mPool._repopulate_pool\u001b[0;34m(self)\u001b[0m\n\u001b[1;32m    305\u001b[0m \u001b[39mdef\u001b[39;00m \u001b[39m_repopulate_pool\u001b[39m(\u001b[39mself\u001b[39m):\n\u001b[0;32m--> 306\u001b[0m     \u001b[39mreturn\u001b[39;00m \u001b[39mself\u001b[39m\u001b[39m.\u001b[39m_repopulate_pool_static(\u001b[39mself\u001b[39m\u001b[39m.\u001b[39m_ctx, \u001b[39mself\u001b[39m\u001b[39m.\u001b[39mProcess,\n\u001b[1;32m    307\u001b[0m                                         \u001b[39mself\u001b[39m\u001b[39m.\u001b[39m_processes,\n\u001b[1;32m    308\u001b[0m                                         \u001b[39mself\u001b[39m\u001b[39m.\u001b[39m_pool, \u001b[39mself\u001b[39m\u001b[39m.\u001b[39m_inqueue,\n\u001b[1;32m    309\u001b[0m                                         \u001b[39mself\u001b[39m\u001b[39m.\u001b[39m_outqueue, \u001b[39mself\u001b[39m\u001b[39m.\u001b[39m_initializer,\n\u001b[1;32m    310\u001b[0m                                         \u001b[39mself\u001b[39m\u001b[39m.\u001b[39m_initargs,\n\u001b[1;32m    311\u001b[0m                                         \u001b[39mself\u001b[39m\u001b[39m.\u001b[39m_maxtasksperchild,\n\u001b[1;32m    312\u001b[0m                                         \u001b[39mself\u001b[39m\u001b[39m.\u001b[39m_wrap_exception)\n",
      "File \u001b[0;32m~/opt/anaconda3/envs/mbdm/lib/python3.11/multiprocessing/pool.py:329\u001b[0m, in \u001b[0;36mPool._repopulate_pool_static\u001b[0;34m(ctx, Process, processes, pool, inqueue, outqueue, initializer, initargs, maxtasksperchild, wrap_exception)\u001b[0m\n\u001b[1;32m    327\u001b[0m w\u001b[39m.\u001b[39mname \u001b[39m=\u001b[39m w\u001b[39m.\u001b[39mname\u001b[39m.\u001b[39mreplace(\u001b[39m'\u001b[39m\u001b[39mProcess\u001b[39m\u001b[39m'\u001b[39m, \u001b[39m'\u001b[39m\u001b[39mPoolWorker\u001b[39m\u001b[39m'\u001b[39m)\n\u001b[1;32m    328\u001b[0m w\u001b[39m.\u001b[39mdaemon \u001b[39m=\u001b[39m \u001b[39mTrue\u001b[39;00m\n\u001b[0;32m--> 329\u001b[0m w\u001b[39m.\u001b[39mstart()\n\u001b[1;32m    330\u001b[0m pool\u001b[39m.\u001b[39mappend(w)\n\u001b[1;32m    331\u001b[0m util\u001b[39m.\u001b[39mdebug(\u001b[39m'\u001b[39m\u001b[39madded worker\u001b[39m\u001b[39m'\u001b[39m)\n",
      "File \u001b[0;32m~/opt/anaconda3/envs/mbdm/lib/python3.11/multiprocessing/process.py:121\u001b[0m, in \u001b[0;36mBaseProcess.start\u001b[0;34m(self)\u001b[0m\n\u001b[1;32m    118\u001b[0m \u001b[39massert\u001b[39;00m \u001b[39mnot\u001b[39;00m _current_process\u001b[39m.\u001b[39m_config\u001b[39m.\u001b[39mget(\u001b[39m'\u001b[39m\u001b[39mdaemon\u001b[39m\u001b[39m'\u001b[39m), \\\n\u001b[1;32m    119\u001b[0m        \u001b[39m'\u001b[39m\u001b[39mdaemonic processes are not allowed to have children\u001b[39m\u001b[39m'\u001b[39m\n\u001b[1;32m    120\u001b[0m _cleanup()\n\u001b[0;32m--> 121\u001b[0m \u001b[39mself\u001b[39m\u001b[39m.\u001b[39m_popen \u001b[39m=\u001b[39m \u001b[39mself\u001b[39m\u001b[39m.\u001b[39m_Popen(\u001b[39mself\u001b[39m)\n\u001b[1;32m    122\u001b[0m \u001b[39mself\u001b[39m\u001b[39m.\u001b[39m_sentinel \u001b[39m=\u001b[39m \u001b[39mself\u001b[39m\u001b[39m.\u001b[39m_popen\u001b[39m.\u001b[39msentinel\n\u001b[1;32m    123\u001b[0m \u001b[39m# Avoid a refcycle if the target function holds an indirect\u001b[39;00m\n\u001b[1;32m    124\u001b[0m \u001b[39m# reference to the process object (see bpo-30775)\u001b[39;00m\n",
      "File \u001b[0;32m~/opt/anaconda3/envs/mbdm/lib/python3.11/multiprocessing/context.py:288\u001b[0m, in \u001b[0;36mSpawnProcess._Popen\u001b[0;34m(process_obj)\u001b[0m\n\u001b[1;32m    285\u001b[0m \u001b[39m@staticmethod\u001b[39m\n\u001b[1;32m    286\u001b[0m \u001b[39mdef\u001b[39;00m \u001b[39m_Popen\u001b[39m(process_obj):\n\u001b[1;32m    287\u001b[0m     \u001b[39mfrom\u001b[39;00m \u001b[39m.\u001b[39;00m\u001b[39mpopen_spawn_posix\u001b[39;00m \u001b[39mimport\u001b[39;00m Popen\n\u001b[0;32m--> 288\u001b[0m     \u001b[39mreturn\u001b[39;00m Popen(process_obj)\n",
      "File \u001b[0;32m~/opt/anaconda3/envs/mbdm/lib/python3.11/multiprocessing/popen_spawn_posix.py:32\u001b[0m, in \u001b[0;36mPopen.__init__\u001b[0;34m(self, process_obj)\u001b[0m\n\u001b[1;32m     30\u001b[0m \u001b[39mdef\u001b[39;00m \u001b[39m__init__\u001b[39m(\u001b[39mself\u001b[39m, process_obj):\n\u001b[1;32m     31\u001b[0m     \u001b[39mself\u001b[39m\u001b[39m.\u001b[39m_fds \u001b[39m=\u001b[39m []\n\u001b[0;32m---> 32\u001b[0m     \u001b[39msuper\u001b[39m()\u001b[39m.\u001b[39m\u001b[39m__init__\u001b[39m(process_obj)\n",
      "File \u001b[0;32m~/opt/anaconda3/envs/mbdm/lib/python3.11/multiprocessing/popen_fork.py:19\u001b[0m, in \u001b[0;36mPopen.__init__\u001b[0;34m(self, process_obj)\u001b[0m\n\u001b[1;32m     17\u001b[0m \u001b[39mself\u001b[39m\u001b[39m.\u001b[39mreturncode \u001b[39m=\u001b[39m \u001b[39mNone\u001b[39;00m\n\u001b[1;32m     18\u001b[0m \u001b[39mself\u001b[39m\u001b[39m.\u001b[39mfinalizer \u001b[39m=\u001b[39m \u001b[39mNone\u001b[39;00m\n\u001b[0;32m---> 19\u001b[0m \u001b[39mself\u001b[39m\u001b[39m.\u001b[39m_launch(process_obj)\n",
      "File \u001b[0;32m~/opt/anaconda3/envs/mbdm/lib/python3.11/multiprocessing/popen_spawn_posix.py:62\u001b[0m, in \u001b[0;36mPopen._launch\u001b[0;34m(self, process_obj)\u001b[0m\n\u001b[1;32m     60\u001b[0m     \u001b[39mself\u001b[39m\u001b[39m.\u001b[39msentinel \u001b[39m=\u001b[39m parent_r\n\u001b[1;32m     61\u001b[0m     \u001b[39mwith\u001b[39;00m \u001b[39mopen\u001b[39m(parent_w, \u001b[39m'\u001b[39m\u001b[39mwb\u001b[39m\u001b[39m'\u001b[39m, closefd\u001b[39m=\u001b[39m\u001b[39mFalse\u001b[39;00m) \u001b[39mas\u001b[39;00m f:\n\u001b[0;32m---> 62\u001b[0m         f\u001b[39m.\u001b[39mwrite(fp\u001b[39m.\u001b[39mgetbuffer())\n\u001b[1;32m     63\u001b[0m \u001b[39mfinally\u001b[39;00m:\n\u001b[1;32m     64\u001b[0m     fds_to_close \u001b[39m=\u001b[39m []\n",
      "\u001b[0;31mKeyboardInterrupt\u001b[0m: "
     ]
    }
   ],
   "source": [
    "def optimize(scenario, nfe, model, converge_metrics, epsilons):\n",
    "\n",
    "    with MultiprocessingEvaluator(model) as evaluator:\n",
    "        results, convergence = evaluator.optimize(nfe=n_nfe, searchover='levers',\n",
    "                                     convergence=convergence_metrics,\n",
    "                                     epsilons=epsilons,\n",
    "                                     reference=scenario)\n",
    "    return results, convergence\n",
    "\n",
    "results = []\n",
    "\n",
    "for scenario in scenarios_mordm:\n",
    "    convergence_metrics = [EpsilonProgress()]\n",
    "    epsilons = [0.1,]*len(dike_model.outcomes)\n",
    "    results.append(optimize(scenario, 1e4, dike_model, convergence_metrics, epsilons))"
   ]
  },
  {
   "cell_type": "code",
   "execution_count": 70,
   "metadata": {
    "scrolled": true
   },
   "outputs": [],
   "source": [
    "# Unpack the values\n",
    "experiments_convergence, convergence = results[0]\n",
    "# Separate experiments and outcomes\n",
    "experiments = experiments_convergence.iloc[:, :31]  # adjust index as per your data\n",
    "outcomes = experiments_convergence.iloc[:, 31:]\n",
    "# Combine experiments and outcomes into one tuple\n",
    "optim_results = (experiments, outcomes)\n"
   ]
  },
  {
   "cell_type": "code",
   "execution_count": 71,
   "metadata": {},
   "outputs": [
    {
     "name": "stderr",
     "output_type": "stream",
     "text": [
      "[MainProcess/INFO] results saved successfully to C:\\Users\\NKondhalkar\\Documents\\final assignment\\results\\msmordm5000nfe_DikeRing3_optim_results_reference1.tar.gz\n"
     ]
    }
   ],
   "source": [
    "\n",
    "# Save the optimization results (experiments and outcomes)\n",
    "save_results(optim_results, \"./results/msmordm\"+str(n_nfe)+\"nfe_\"+province+\"_optim_results_reference1.tar.gz\")\n",
    "# Save the convergence data separately as a CSV file\n",
    "convergence.to_csv(\"./results/msmordm\"+str(n_nfe)+\"nfe_\"+province+\"_convergence_reference1.csv\")"
   ]
  },
  {
   "cell_type": "code",
   "execution_count": 55,
   "metadata": {},
   "outputs": [
    {
     "ename": "IndexError",
     "evalue": "list index out of range",
     "output_type": "error",
     "traceback": [
      "\u001b[0;31m---------------------------------------------------------------------------\u001b[0m",
      "\u001b[0;31mIndexError\u001b[0m                                Traceback (most recent call last)",
      "Cell \u001b[0;32mIn[55], line 2\u001b[0m\n\u001b[1;32m      1\u001b[0m \u001b[39m# Unpack the values\u001b[39;00m\n\u001b[0;32m----> 2\u001b[0m experiments_convergence, convergence \u001b[39m=\u001b[39m results[\u001b[39m1\u001b[39m]\n\u001b[1;32m      3\u001b[0m \u001b[39m# Separate experiments and outcomes\u001b[39;00m\n\u001b[1;32m      4\u001b[0m experiments \u001b[39m=\u001b[39m experiments_convergence\u001b[39m.\u001b[39miloc[:, :\u001b[39m31\u001b[39m]  \u001b[39m# adjust index as per your data\u001b[39;00m\n",
      "\u001b[0;31mIndexError\u001b[0m: list index out of range"
     ]
    }
   ],
   "source": [
    "# Unpack the values\n",
    "experiments_convergence, convergence = results[1]\n",
    "# Separate experiments and outcomes\n",
    "experiments = experiments_convergence.iloc[:, :31]  # adjust index as per your data\n",
    "outcomes = experiments_convergence.iloc[:, 31:]\n",
    "# Combine experiments and outcomes into one tuple\n",
    "optim_results = (experiments, outcomes)\n",
    "# Save the optimization results (experiments and outcomes)\n",
    "save_results(optim_results, \"./results/msmordm\"+str(n_nfe)+\"nfe_\"+province+\"_optim_results_reference2.tar.gz\")\n",
    "# Save the convergence data separately as a CSV file\n",
    "convergence.to_csv(\"./results/msmordm\"+str(n_nfe)+\"nfe_\"+province+\"_convergence_reference2.csv\")\n",
    "\n",
    "# Unpack the values\n",
    "experiments_convergence, convergence = results[2]\n",
    "# Separate experiments and outcomes\n",
    "experiments = experiments_convergence.iloc[:, :31]  # adjust index as per your data\n",
    "outcomes = experiments_convergence.iloc[:, 31:]\n",
    "# Combine experiments and outcomes into one tuple\n",
    "optim_results = (experiments, outcomes)\n",
    "# Save the optimization results (experiments and outcomes)\n",
    "save_results(optim_results, \"./results/msmordm\"+str(n_nfe)+\"nfe_\"+province+\"_optim_results_reference3.tar.gz\")\n",
    "# Save the convergence data separately as a CSV file\n",
    "convergence.to_csv(\"./results/msmordm\"+str(n_nfe)+\"nfe_\"+province+\"_convergence_reference3.csv\")"
   ]
  },
  {
   "cell_type": "code",
   "execution_count": 40,
   "metadata": {
    "tags": []
   },
   "outputs": [
    {
     "name": "stderr",
     "output_type": "stream",
     "text": [
      "[MainProcess/INFO] results loaded successfully from /Users/philipmuller/Documents/GitHub/model-based-decision-making/final assignment/results/msmordm5000nfe_DikeRing3_optim_results_reference1.tar.gz\n",
      "[MainProcess/INFO] results loaded successfully from /Users/philipmuller/Documents/GitHub/model-based-decision-making/final assignment/results/msmordm5000nfe_DikeRing3_optim_results_reference2.tar.gz\n",
      "[MainProcess/INFO] results loaded successfully from /Users/philipmuller/Documents/GitHub/model-based-decision-making/final assignment/results/msmordm5000nfe_DikeRing3_optim_results_reference3.tar.gz\n"
     ]
    }
   ],
   "source": [
    "# Load results\n",
    "results = []\n",
    "results.append(load_results(\"./results/msmordm\"+str(n_nfe)+\"nfe_\"+province+\"_optim_results_reference1.tar.gz\"))\n",
    "results.append(load_results(\"./results/msmordm\"+str(n_nfe)+\"nfe_\"+province+\"_optim_results_reference2.tar.gz\"))\n",
    "results.append(load_results(\"./results/msmordm\"+str(n_nfe)+\"nfe_\"+province+\"_optim_results_reference3.tar.gz\"))\n",
    "\n",
    "\n",
    "# Load convergence data\n",
    "convergence = []\n",
    "convergence.append(pd.read_csv(\"./results/msmordm\"+str(n_nfe)+\"nfe_\"+province+\"_convergence_reference1.csv\"))\n",
    "convergence.append(pd.read_csv(\"./results/msmordm\"+str(n_nfe)+\"nfe_\"+province+\"_convergence_reference2.csv\"))\n",
    "convergence.append(pd.read_csv(\"./results/msmordm\"+str(n_nfe)+\"nfe_\"+province+\"_convergence_reference3.csv\"))\n"
   ]
  },
  {
   "cell_type": "code",
   "execution_count": 41,
   "metadata": {
    "scrolled": true
   },
   "outputs": [
    {
     "data": {
      "text/plain": [
       "[   Unnamed: 0  epsilon_progress   nfe\n",
       " 0           0                 0     0\n",
       " 1           1                32   100\n",
       " 2           2               268  1197\n",
       " 3           3               481  2292\n",
       " 4           4               571  3390\n",
       " 5           5               662  4486\n",
       " 6           6               714  5082,\n",
       "    Unnamed: 0  epsilon_progress   nfe\n",
       " 0           0                 0     0\n",
       " 1           1                38   100\n",
       " 2           2               282  1198\n",
       " 3           3               515  2296\n",
       " 4           4               628  3393\n",
       " 5           5               767  4487\n",
       " 6           6               819  5086,\n",
       "    Unnamed: 0  epsilon_progress   nfe\n",
       " 0           0                 0     0\n",
       " 1           1                42   100\n",
       " 2           2               267  1197\n",
       " 3           3               516  2294\n",
       " 4           4               634  3392\n",
       " 5           5               749  4491\n",
       " 6           6               810  5087]"
      ]
     },
     "execution_count": 41,
     "metadata": {},
     "output_type": "execute_result"
    }
   ],
   "source": [
    "convergence"
   ]
  },
  {
   "cell_type": "markdown",
   "metadata": {},
   "source": [
    "### Check for convergence"
   ]
  },
  {
   "cell_type": "code",
   "execution_count": 42,
   "metadata": {},
   "outputs": [
    {
     "data": {
      "image/png": "[encoded data removed]",
      "text/plain": [
       "<Figure size 640x480 with 1 Axes>"
      ]
     },
     "metadata": {},
     "output_type": "display_data"
    }
   ],
   "source": [
    "fig7, ax = plt.subplots(ncols=1)\n",
    "\n",
    "for i, df in enumerate(convergence):\n",
    "    ax.plot(df[\"nfe\"], df[\"epsilon_progress\"], label=f'scenario {i+1}')\n",
    "\n",
    "ax.set_ylabel('$\\epsilon$ progress')\n",
    "ax.set_xlabel('nfe')\n",
    "fig7.legend()\n",
    "plt.show()\n",
    "fig7.savefig(\"./plots/EpsilonProgress_dike2_iter2.png\")\n"
   ]
  },
  {
   "cell_type": "markdown",
   "metadata": {},
   "source": [
    "As we can see, the algorithm shows a similar convergence behavior across all three reference case scenarios. It does however not fully converge, which - in further research - should be improved upon. "
   ]
  },
  {
   "cell_type": "markdown",
   "metadata": {},
   "source": [
    "## Selection of promising policies\n",
    "We now again continue to select promising policies, first by plotting the trade-offs involved and then by subsetting the policies based on thresholds. "
   ]
  },
  {
   "cell_type": "code",
   "execution_count": 43,
   "metadata": {},
   "outputs": [
    {
     "data": {
      "text/html": [
       "<div>\n",
       "<style scoped>\n",
       "    .dataframe tbody tr th:only-of-type {\n",
       "        vertical-align: middle;\n",
       "    }\n",
       "\n",
       "    .dataframe tbody tr th {\n",
       "        vertical-align: top;\n",
       "    }\n",
       "\n",
       "    .dataframe thead th {\n",
       "        text-align: right;\n",
       "    }\n",
       "</style>\n",
       "<table border=\"1\" class=\"dataframe\">\n",
       "  <thead>\n",
       "    <tr style=\"text-align: right;\">\n",
       "      <th></th>\n",
       "      <th>0_RfR 0</th>\n",
       "      <th>0_RfR 1</th>\n",
       "      <th>0_RfR 2</th>\n",
       "      <th>1_RfR 0</th>\n",
       "      <th>1_RfR 1</th>\n",
       "      <th>1_RfR 2</th>\n",
       "      <th>2_RfR 0</th>\n",
       "      <th>2_RfR 1</th>\n",
       "      <th>2_RfR 2</th>\n",
       "      <th>3_RfR 0</th>\n",
       "      <th>...</th>\n",
       "      <th>A.2_DikeIncrease 2</th>\n",
       "      <th>A.3_DikeIncrease 0</th>\n",
       "      <th>A.3_DikeIncrease 1</th>\n",
       "      <th>A.3_DikeIncrease 2</th>\n",
       "      <th>A.4_DikeIncrease 0</th>\n",
       "      <th>A.4_DikeIncrease 1</th>\n",
       "      <th>A.4_DikeIncrease 2</th>\n",
       "      <th>A.5_DikeIncrease 0</th>\n",
       "      <th>A.5_DikeIncrease 1</th>\n",
       "      <th>A.5_DikeIncrease 2</th>\n",
       "    </tr>\n",
       "  </thead>\n",
       "  <tbody>\n",
       "    <tr>\n",
       "      <th>0</th>\n",
       "      <td>0</td>\n",
       "      <td>0</td>\n",
       "      <td>0</td>\n",
       "      <td>0</td>\n",
       "      <td>0</td>\n",
       "      <td>0</td>\n",
       "      <td>0</td>\n",
       "      <td>1</td>\n",
       "      <td>0</td>\n",
       "      <td>0</td>\n",
       "      <td>...</td>\n",
       "      <td>6</td>\n",
       "      <td>6</td>\n",
       "      <td>0</td>\n",
       "      <td>0</td>\n",
       "      <td>5</td>\n",
       "      <td>6</td>\n",
       "      <td>2</td>\n",
       "      <td>1</td>\n",
       "      <td>9</td>\n",
       "      <td>9</td>\n",
       "    </tr>\n",
       "    <tr>\n",
       "      <th>1</th>\n",
       "      <td>0</td>\n",
       "      <td>0</td>\n",
       "      <td>0</td>\n",
       "      <td>0</td>\n",
       "      <td>0</td>\n",
       "      <td>0</td>\n",
       "      <td>0</td>\n",
       "      <td>0</td>\n",
       "      <td>1</td>\n",
       "      <td>0</td>\n",
       "      <td>...</td>\n",
       "      <td>6</td>\n",
       "      <td>5</td>\n",
       "      <td>0</td>\n",
       "      <td>0</td>\n",
       "      <td>6</td>\n",
       "      <td>8</td>\n",
       "      <td>1</td>\n",
       "      <td>5</td>\n",
       "      <td>1</td>\n",
       "      <td>5</td>\n",
       "    </tr>\n",
       "    <tr>\n",
       "      <th>2</th>\n",
       "      <td>0</td>\n",
       "      <td>0</td>\n",
       "      <td>0</td>\n",
       "      <td>0</td>\n",
       "      <td>0</td>\n",
       "      <td>0</td>\n",
       "      <td>0</td>\n",
       "      <td>1</td>\n",
       "      <td>1</td>\n",
       "      <td>0</td>\n",
       "      <td>...</td>\n",
       "      <td>1</td>\n",
       "      <td>2</td>\n",
       "      <td>0</td>\n",
       "      <td>0</td>\n",
       "      <td>1</td>\n",
       "      <td>6</td>\n",
       "      <td>10</td>\n",
       "      <td>2</td>\n",
       "      <td>1</td>\n",
       "      <td>6</td>\n",
       "    </tr>\n",
       "    <tr>\n",
       "      <th>3</th>\n",
       "      <td>0</td>\n",
       "      <td>0</td>\n",
       "      <td>0</td>\n",
       "      <td>0</td>\n",
       "      <td>0</td>\n",
       "      <td>0</td>\n",
       "      <td>0</td>\n",
       "      <td>0</td>\n",
       "      <td>1</td>\n",
       "      <td>0</td>\n",
       "      <td>...</td>\n",
       "      <td>4</td>\n",
       "      <td>4</td>\n",
       "      <td>0</td>\n",
       "      <td>0</td>\n",
       "      <td>7</td>\n",
       "      <td>8</td>\n",
       "      <td>6</td>\n",
       "      <td>2</td>\n",
       "      <td>1</td>\n",
       "      <td>10</td>\n",
       "    </tr>\n",
       "    <tr>\n",
       "      <th>4</th>\n",
       "      <td>1</td>\n",
       "      <td>1</td>\n",
       "      <td>0</td>\n",
       "      <td>0</td>\n",
       "      <td>0</td>\n",
       "      <td>0</td>\n",
       "      <td>1</td>\n",
       "      <td>1</td>\n",
       "      <td>1</td>\n",
       "      <td>0</td>\n",
       "      <td>...</td>\n",
       "      <td>0</td>\n",
       "      <td>3</td>\n",
       "      <td>0</td>\n",
       "      <td>0</td>\n",
       "      <td>6</td>\n",
       "      <td>6</td>\n",
       "      <td>7</td>\n",
       "      <td>5</td>\n",
       "      <td>7</td>\n",
       "      <td>6</td>\n",
       "    </tr>\n",
       "    <tr>\n",
       "      <th>...</th>\n",
       "      <td>...</td>\n",
       "      <td>...</td>\n",
       "      <td>...</td>\n",
       "      <td>...</td>\n",
       "      <td>...</td>\n",
       "      <td>...</td>\n",
       "      <td>...</td>\n",
       "      <td>...</td>\n",
       "      <td>...</td>\n",
       "      <td>...</td>\n",
       "      <td>...</td>\n",
       "      <td>...</td>\n",
       "      <td>...</td>\n",
       "      <td>...</td>\n",
       "      <td>...</td>\n",
       "      <td>...</td>\n",
       "      <td>...</td>\n",
       "      <td>...</td>\n",
       "      <td>...</td>\n",
       "      <td>...</td>\n",
       "      <td>...</td>\n",
       "    </tr>\n",
       "    <tr>\n",
       "      <th>271</th>\n",
       "      <td>0</td>\n",
       "      <td>0</td>\n",
       "      <td>0</td>\n",
       "      <td>0</td>\n",
       "      <td>0</td>\n",
       "      <td>0</td>\n",
       "      <td>0</td>\n",
       "      <td>0</td>\n",
       "      <td>0</td>\n",
       "      <td>0</td>\n",
       "      <td>...</td>\n",
       "      <td>2</td>\n",
       "      <td>2</td>\n",
       "      <td>0</td>\n",
       "      <td>0</td>\n",
       "      <td>5</td>\n",
       "      <td>5</td>\n",
       "      <td>4</td>\n",
       "      <td>0</td>\n",
       "      <td>0</td>\n",
       "      <td>1</td>\n",
       "    </tr>\n",
       "    <tr>\n",
       "      <th>272</th>\n",
       "      <td>0</td>\n",
       "      <td>0</td>\n",
       "      <td>0</td>\n",
       "      <td>0</td>\n",
       "      <td>0</td>\n",
       "      <td>0</td>\n",
       "      <td>1</td>\n",
       "      <td>1</td>\n",
       "      <td>1</td>\n",
       "      <td>0</td>\n",
       "      <td>...</td>\n",
       "      <td>1</td>\n",
       "      <td>0</td>\n",
       "      <td>0</td>\n",
       "      <td>0</td>\n",
       "      <td>7</td>\n",
       "      <td>4</td>\n",
       "      <td>4</td>\n",
       "      <td>4</td>\n",
       "      <td>4</td>\n",
       "      <td>1</td>\n",
       "    </tr>\n",
       "    <tr>\n",
       "      <th>273</th>\n",
       "      <td>0</td>\n",
       "      <td>0</td>\n",
       "      <td>0</td>\n",
       "      <td>0</td>\n",
       "      <td>0</td>\n",
       "      <td>0</td>\n",
       "      <td>0</td>\n",
       "      <td>0</td>\n",
       "      <td>1</td>\n",
       "      <td>0</td>\n",
       "      <td>...</td>\n",
       "      <td>2</td>\n",
       "      <td>2</td>\n",
       "      <td>0</td>\n",
       "      <td>0</td>\n",
       "      <td>4</td>\n",
       "      <td>2</td>\n",
       "      <td>0</td>\n",
       "      <td>2</td>\n",
       "      <td>6</td>\n",
       "      <td>4</td>\n",
       "    </tr>\n",
       "    <tr>\n",
       "      <th>274</th>\n",
       "      <td>0</td>\n",
       "      <td>0</td>\n",
       "      <td>0</td>\n",
       "      <td>0</td>\n",
       "      <td>0</td>\n",
       "      <td>0</td>\n",
       "      <td>1</td>\n",
       "      <td>0</td>\n",
       "      <td>1</td>\n",
       "      <td>0</td>\n",
       "      <td>...</td>\n",
       "      <td>0</td>\n",
       "      <td>1</td>\n",
       "      <td>0</td>\n",
       "      <td>0</td>\n",
       "      <td>5</td>\n",
       "      <td>1</td>\n",
       "      <td>4</td>\n",
       "      <td>2</td>\n",
       "      <td>7</td>\n",
       "      <td>2</td>\n",
       "    </tr>\n",
       "    <tr>\n",
       "      <th>275</th>\n",
       "      <td>0</td>\n",
       "      <td>0</td>\n",
       "      <td>0</td>\n",
       "      <td>0</td>\n",
       "      <td>0</td>\n",
       "      <td>0</td>\n",
       "      <td>0</td>\n",
       "      <td>1</td>\n",
       "      <td>1</td>\n",
       "      <td>0</td>\n",
       "      <td>...</td>\n",
       "      <td>1</td>\n",
       "      <td>2</td>\n",
       "      <td>0</td>\n",
       "      <td>0</td>\n",
       "      <td>6</td>\n",
       "      <td>5</td>\n",
       "      <td>3</td>\n",
       "      <td>2</td>\n",
       "      <td>1</td>\n",
       "      <td>1</td>\n",
       "    </tr>\n",
       "  </tbody>\n",
       "</table>\n",
       "<p>276 rows × 31 columns</p>\n",
       "</div>"
      ],
      "text/plain": [
       "     0_RfR 0  0_RfR 1  0_RfR 2  1_RfR 0  1_RfR 1  1_RfR 2  2_RfR 0  2_RfR 1  \\\n",
       "0          0        0        0        0        0        0        0        1   \n",
       "1          0        0        0        0        0        0        0        0   \n",
       "2          0        0        0        0        0        0        0        1   \n",
       "3          0        0        0        0        0        0        0        0   \n",
       "4          1        1        0        0        0        0        1        1   \n",
       "..       ...      ...      ...      ...      ...      ...      ...      ...   \n",
       "271        0        0        0        0        0        0        0        0   \n",
       "272        0        0        0        0        0        0        1        1   \n",
       "273        0        0        0        0        0        0        0        0   \n",
       "274        0        0        0        0        0        0        1        0   \n",
       "275        0        0        0        0        0        0        0        1   \n",
       "\n",
       "     2_RfR 2  3_RfR 0  ...  A.2_DikeIncrease 2  A.3_DikeIncrease 0  \\\n",
       "0          0        0  ...                   6                   6   \n",
       "1          1        0  ...                   6                   5   \n",
       "2          1        0  ...                   1                   2   \n",
       "3          1        0  ...                   4                   4   \n",
       "4          1        0  ...                   0                   3   \n",
       "..       ...      ...  ...                 ...                 ...   \n",
       "271        0        0  ...                   2                   2   \n",
       "272        1        0  ...                   1                   0   \n",
       "273        1        0  ...                   2                   2   \n",
       "274        1        0  ...                   0                   1   \n",
       "275        1        0  ...                   1                   2   \n",
       "\n",
       "     A.3_DikeIncrease 1  A.3_DikeIncrease 2  A.4_DikeIncrease 0  \\\n",
       "0                     0                   0                   5   \n",
       "1                     0                   0                   6   \n",
       "2                     0                   0                   1   \n",
       "3                     0                   0                   7   \n",
       "4                     0                   0                   6   \n",
       "..                  ...                 ...                 ...   \n",
       "271                   0                   0                   5   \n",
       "272                   0                   0                   7   \n",
       "273                   0                   0                   4   \n",
       "274                   0                   0                   5   \n",
       "275                   0                   0                   6   \n",
       "\n",
       "     A.4_DikeIncrease 1  A.4_DikeIncrease 2  A.5_DikeIncrease 0  \\\n",
       "0                     6                   2                   1   \n",
       "1                     8                   1                   5   \n",
       "2                     6                  10                   2   \n",
       "3                     8                   6                   2   \n",
       "4                     6                   7                   5   \n",
       "..                  ...                 ...                 ...   \n",
       "271                   5                   4                   0   \n",
       "272                   4                   4                   4   \n",
       "273                   2                   0                   2   \n",
       "274                   1                   4                   2   \n",
       "275                   5                   3                   2   \n",
       "\n",
       "     A.5_DikeIncrease 1  A.5_DikeIncrease 2  \n",
       "0                     9                   9  \n",
       "1                     1                   5  \n",
       "2                     1                   6  \n",
       "3                     1                  10  \n",
       "4                     7                   6  \n",
       "..                  ...                 ...  \n",
       "271                   0                   1  \n",
       "272                   4                   1  \n",
       "273                   6                   4  \n",
       "274                   7                   2  \n",
       "275                   1                   1  \n",
       "\n",
       "[276 rows x 31 columns]"
      ]
     },
     "execution_count": 43,
     "metadata": {},
     "output_type": "execute_result"
    }
   ],
   "source": [
    "pd.DataFrame(results[0][0])"
   ]
  },
  {
   "cell_type": "code",
   "execution_count": 44,
   "metadata": {
    "scrolled": true
   },
   "outputs": [],
   "source": [
    "#Make a dataframe out of all results\n",
    "ms_results_df = pd.concat([pd.DataFrame(results[0][1]),pd.DataFrame(results[1][1]), pd.DataFrame(results[2][1])], axis=0)\n",
    "ms_results_df = ms_results_df.reset_index(drop=True)"
   ]
  },
  {
   "cell_type": "code",
   "execution_count": 45,
   "metadata": {},
   "outputs": [
    {
     "data": {
      "application/vnd.plotly.v1+json": {
       "config": {
        "plotlyServerURL": "https://plot.ly"
       },
       "data": [
        {
         "dimensions": [
          {
           "label": "A3 Damage",
           "values": [
            38590848.34655384,
            76210312.90793203,
            245501377.19422084,
            110058940.79278667,
            61668472.89689384,
            2096927655.441182,
            77581687.8150645,
            426961575.80277777,
            73050571.51602447,
            28088953.53222286,
            0,
            1804355743.604272,
            1804388009.2928045,
            792593919.1449573,
            29903400.77985986,
            110058940.79278667,
            68072789.17363815,
            49304367.20874635,
            99022631.31419264,
            325345701.34187293,
            2096917695.2890425,
            247361929.6911621,
            9316063.95724292,
            16803662.252747092,
            66589190.58050845,
            19682674.86032371,
            77597936.43350537,
            842889538.5228257,
            802044119.1968071,
            842889538.5228257,
            38623114.03508639,
            15995043.6374789,
            95239974.38466763,
            3078240.9059506147,
            241051147.18019456,
            28648970.74815423,
            19593287.672751404,
            28088953.53222286,
            43949482.14397987,
            77630202.12203793,
            0,
            792593919.1449573,
            1950871768.292661,
            1950894073.8290536,
            49755662.08380554,
            9018649.735176586,
            68249677.5774574,
            5088798.733873578,
            65822950.23335767,
            1804388009.2928045,
            250501347.2320444,
            66295478.97784123,
            9306103.805103464,
            802076384.8853397,
            98774220.42491812,
            68249677.5774574,
            241004157.47189867,
            77597936.43350537,
            2202630526.492085,
            1845201162.9302907,
            221929910.94497815,
            802076384.8853397,
            247345681.07272127,
            1950904033.9811933,
            2096895389.7526493,
            1845201162.9302907,
            236732041.06881523,
            12568018.470628332,
            132281848.75002708,
            1804355743.604272,
            1801041191.4013746,
            840988755.190408,
            323199642.8980049,
            98774220.42491812,
            66728983.00786446,
            68600933.66507003,
            23061384.662636995,
            2202417267.7187705,
            64416687.513680175,
            1393661.7146823816,
            64780336.18128492,
            62766222.40567055,
            361197550.824401,
            263697786.9692906,
            842889538.5228257,
            137025770.7760936,
            61668472.89689384,
            8037181.067666712,
            37501370.2393505,
            113661531.4788858,
            132383022.73082182,
            2096927655.441182,
            236818012.4561749,
            247186795.02914697,
            99012671.1620532,
            133289615.44006796,
            236732041.06881523,
            77620241.96989846,
            908583653.3226168,
            1804146992.3467524,
            33081545.06195499,
            2077243603.576897,
            2201539578.1156096,
            908796912.0959312,
            105271541.28029671,
            2202598260.8035526,
            325446376.004262,
            236852850.2869872,
            133289615.44006796,
            68478306.5950979,
            1801024942.7829337,
            112524740.36194026,
            1344587.800256538,
            1845191202.778151,
            2095026872.108764,
            19593287.672751404,
            5053712.46949112,
            2202630526.492085,
            1804141976.532149,
            1801024942.7829337,
            2077243603.576897,
            15207156.488058198,
            429885377.844885,
            2202417267.7187705,
            618535661.5094808,
            83515884.4333075,
            1843284130.979432,
            2096609592.476379,
            2096927655.441182,
            2077243603.576897,
            2200990189.439458,
            907705963.719456,
            2094069660.1442325,
            2160667744.8497944,
            1843300379.5978727,
            1344587.800256538,
            619492873.4740131,
            130940436.5954748,
            386114058.4284484,
            323148944.33088243,
            385236368.8252876,
            2201539578.1156096,
            296109873.46481085,
            28088953.53222286,
            2160683993.468235,
            1723158791.2652323,
            323199642.8980049,
            263681538.35084972,
            84405805.89225514,
            241051147.18019456,
            2077243603.576897,
            2077227354.9584565,
            2096609592.476379,
            132029171.33078532,
            59961390.47542606,
            363098334.15681887,
            1751596531.3527863,
            1751596531.3527863,
            159596941.1667338,
            2201526714.62806,
            41122143.45842058,
            236675379.3850316,
            61420062.0076193,
            0,
            2160667744.8497944,
            1845201162.9302907,
            4982464.768432639,
            385236368.8252876,
            362780271.1920157,
            1908825229.1098456,
            16791905.44119318,
            97845282.42478602,
            908226919.8418074,
            0,
            158693370.87376428,
            135857145.57995924,
            23061384.662636995,
            297644088.8401755,
            1949813085.6047184,
            1723142542.6467917,
            84609580.94283947,
            68600933.66507003,
            240790041.07238507,
            2160683993.468235,
            546204411.512609,
            1950690775.2078788,
            168249399.8368385,
            1801024942.7829337,
            386327317.20176303,
            90660291.01907434,
            0,
            2160134604.792083,
            544429128.6697996,
            552272573.2358043,
            4899134.739352927,
            546204411.512609,
            241051147.18019456,
            1950871768.292661,
            2076261514.3562849,
            1682227842.2652006,
            1804388009.2928045,
            1949800222.117168,
            325428523.3319799,
            2200965312.1833773,
            1908957500.957343,
            1704433470.7206724,
            1682227842.2652006,
            73079658.47847739,
            1723158791.2652323,
            113661531.4788858,
            1949796836.986277,
            619492873.4740131,
            5220372.225307794,
            247361929.6911621,
            2201539578.1156096,
            1751596531.3527863,
            1949813085.6047184,
            547995095.9233465,
            42705396.03555133,
            241041187.02805507,
            1344587.800256538,
            2095026872.108764,
            1908957500.957343,
            297644088.8401755,
            842715534.1849585,
            9660438.31963552,
            15296823.141288005,
            18234243.54520985,
            247303651.41678396,
            29255525.514862657,
            236399211.7011809,
            1799355773.5664485,
            1682252719.521281,
            158562848.73228002,
            2139560216.4462624,
            1751596531.3527863,
            25983971.189954866,
            1721473373.4303062,
            5316859.452359552,
            97861531.0432269,
            1949813085.6047184,
            1908957500.957343,
            1845191202.778151,
            619476624.8555722,
            1750639319.3882542,
            131698912.81467456,
            62766222.40567055,
            133289615.44006796,
            75011241.06117027,
            325012871.97423863,
            250523652.76843747,
            76210312.90793203,
            221929910.94497815,
            907689715.1010152,
            2160683993.468235,
            668820129.1761248,
            84405805.89225514,
            233695259.30841973,
            2139560216.4462624,
            247345681.07272127,
            552288821.8542452,
            480076747.6367212,
            263681538.35084972,
            668836377.7945657,
            142586789.88836128,
            552288821.8542452,
            1908957500.957343,
            58455077.28798394,
            246404717.72662985,
            1950690775.2078788,
            0,
            1950904033.9811933,
            544465358.3323169,
            842773812.4593365,
            802044119.1968071,
            90644042.40063348,
            1723158791.2652323,
            842857272.8342931,
            105512558.22634888,
            429534121.7572724,
            55721969.41599397,
            325446376.004262,
            95029784.14724351,
            68600933.66507003,
            429805193.2916502,
            1844883099.9654877,
            1723142542.6467917,
            1843300379.5978727,
            96643937.3775718,
            61621483.18859796,
            136133232.92894036,
            110026675.10425414,
            2096927655.441182,
            1682252719.521281,
            363098334.15681887,
            236852850.2869872,
            64780336.18128492,
            297603708.8492434,
            73079658.47847739,
            132392819.99839003,
            907705963.719456,
            1804355743.604272,
            60680818.56329651,
            1804388009.2928045,
            798729566.9939096,
            47097235.53525886,
            136213417.48217517,
            28648970.74815423,
            136133232.92894036,
            840988755.190408,
            250533612.92057693,
            66728983.00786446,
            1845168897.2417576,
            221879212.3778557,
            95239974.38466763,
            792583958.9928179,
            325446376.004262,
            1804388009.2928045,
            546180748.0522748,
            386295051.5132305,
            429885377.844885,
            297644088.8401755,
            1804388009.2928045,
            1845201162.9302907,
            546204411.512609,
            236692923.30384815,
            46604915.40270869,
            127737973.7032908,
            792546929.4366615,
            386327317.20176303,
            802044119.1968071,
            40339035.32248408,
            1950904033.9811933,
            142619055.5768938,
            168249399.8368385,
            105512558.22634888,
            422125574.8464161,
            68600933.66507003,
            2202582012.185112,
            840988755.190408,
            1845168897.2417576,
            802076384.8853397,
            247186795.02914697,
            908796912.0959312,
            2096927655.441182,
            48962306.48021014,
            110058940.79278667,
            99022631.31419264,
            1843300379.5978727,
            1751580282.7343454,
            2202630526.492085,
            1799355773.5664485,
            132392819.99839003,
            90412416.6731097,
            168249399.8368385,
            2160667744.8497944,
            668820129.1761248,
            1950674526.589438,
            64780336.18128492,
            552272573.2358043,
            2202630526.492085,
            546180748.0522748,
            907705963.719456,
            2202630526.492085,
            65143984.84888962,
            94824334.4209852,
            1723158791.2652323,
            429534121.7572724,
            2202598260.8035526,
            2077227354.9584565,
            175120444.56851298,
            158539185.27194577,
            90407400.8585064,
            241051147.18019456,
            792593919.1449573,
            1723117665.390711,
            429875417.6927456,
            2096917695.2890425,
            47090719.61029676,
            386295051.5132305,
            2077227354.9584565,
            506992959.8992653,
            247345681.07272127,
            1751580282.7343454,
            1723142542.6467917,
            2202620566.339946,
            907598569.1280384,
            1843300379.5978727,
            2076286391.6123648,
            47090719.61029676,
            1723142542.6467917,
            73079658.47847739,
            361197550.824401,
            27329396.60987805,
            43501048.60409877,
            2160683993.468235,
            2201539578.1156096,
            2160667744.8497944,
            2201539578.1156096,
            2202417267.7187705,
            237592807.10537595,
            97856515.2286236,
            386327317.20176303,
            136203457.33003575,
            1751555405.4782653,
            221929910.94497815,
            97861531.0432269,
            65143984.84888962,
            619476624.8555722,
            1751580282.7343454,
            2077243603.576897,
            1801041191.4013746,
            2202620566.339946,
            1749173791.2726402,
            95222121.7123855,
            250501347.2320444,
            1718892934.2849932,
            552272573.2358043,
            61668472.89689384,
            241004157.47189867,
            2160683993.468235,
            541802801.4225615,
            2074820863.496751,
            1908916375.0828216,
            1845201162.9302907,
            619451747.5994918,
            426961575.80277777,
            136213417.48217517,
            2067306071.0309584,
            221879212.3778557,
            105502598.07420942,
            840031543.2258756,
            65137468.92392752,
            362924329.81895137,
            132022655.40582325,
            2065865420.1714249,
            1804350727.7896683,
            95239974.38466763,
            908796912.0959312,
            2096753651.1033144,
            64086087.84413828,
            668836377.7945657,
            1949796836.986277,
            105480292.53781636,
            132022655.40582325,
            619492873.4740131,
            1949813085.6047184,
            358962313.846055,
            263697786.9692906,
            95239974.38466763,
            2201539578.1156096,
            132392819.99839003,
            135862161.39456254,
            1949813085.6047184,
            1799355773.5664485,
            1749173791.2726402,
            34533031.78839251,
            1949813085.6047184,
            2139560216.4462624,
            247320803.8166408,
            92597079.22094148,
            133289615.44006796,
            792583958.9928179,
            618535661.5094808,
            1950894073.8290536,
            42705396.03555133,
            56646473.628175125,
            1908408112.2811909,
            1721473373.4303062,
            64342883.22873576,
            175120444.56851298,
            2065865420.1714249,
            1908941252.3389025,
            0,
            325012871.97423863,
            2200149054.3710155,
            159750924.70074546,
            38072925.572293855,
            131698912.81467456,
            105512558.22634888,
            1751596531.3527863,
            77441438.41912514,
            246404717.72662985,
            552288821.8542452,
            240802736.29092,
            1950904033.9811933,
            2201419320.036642,
            426498764.75153565,
            34985108.62078367,
            1907566977.2127483,
            68249677.5774574,
            323199642.8980049,
            2095026872.108764,
            105480292.53781636,
            842889538.5228257,
            94806470.3546444,
            1682252719.521281,
            46369938.200049415,
            667445854.0499709,
            619476624.8555722,
            842889538.5228257,
            66589190.58050845,
            97861531.0432269,
            1619623959.6839857,
            792593919.1449573,
            552288821.8542452,
            618535661.5094808,
            1723158791.2652323,
            0,
            1619623959.6839857,
            2159293469.7236404,
            136213417.48217517,
            840930476.9160297,
            907664837.8449343,
            2139560216.4462624,
            1886992588.866928,
            263697786.9692906,
            35030217.15387157,
            1908957500.957343,
            56518153.61638579,
            1721448496.1742258,
            0,
            126812045.08284506,
            323071322.8862156,
            2067330948.2870383,
            231048942.5751569,
            1718892934.2849932,
            1842343167.6333404,
            2139560216.4462624,
            2138719081.37782,
            175194248.8534574,
            169800245.6691414,
            2160109727.5360026,
            2067330948.2870383,
            2138719081.37782,
            154161238.64223254,
            2052154294.039121,
            2052154294.039121,
            325428523.3319799,
            4180697.447185812,
            2065865420.1714249,
            175194248.8534574,
            63369870.64417121,
            1907566977.2127483,
            385236368.8252876,
            84609580.94283947,
            385195242.9507663,
            0,
            94142248.81836157,
            1907566977.2127483,
            1845127771.3672369,
            2011485167.6103055,
            840031543.2258756,
            1908383235.0251107,
            1679672280.375968,
            325012871.97423863,
            907156575.0433036,
            85278108.16269812,
            241051147.18019456,
            166563982.0019124,
            74289945.51988587,
            90396168.05466884,
            792345508.255683,
            221929910.94497815,
            250533612.92057693,
            792593919.1449573,
            241041187.02805507,
            792583958.9928179,
            241051147.18019456,
            61658512.74475438,
            65615726.17832039,
            99022631.31419264,
            158562848.73228002,
            237574159.45964497,
            85226872.19102508,
            74289945.51988587,
            1804388009.2928045,
            792593919.1449573,
            842879578.3706863,
            105475276.72321305,
            74048928.5738337,
            1804355743.604272,
            842773812.4593365,
            20784028.92704944,
            426961575.80277777,
            172770078.3013147,
            802044119.1968071,
            322068214.7263973,
            423234895.19009817,
            38727943.03387676,
            325446376.004262,
            1949813085.6047184,
            1801041191.4013746,
            142619055.5768938,
            2095026872.108764,
            2096609592.476379,
            361181302.20596015,
            792345508.255683,
            74289945.51988587,
            250292595.97452477,
            233909377.88697627,
            5053712.46949112,
            61476743.63634406,
            1845085436.8668013,
            2095026872.108764,
            1845085436.8668013,
            1704458347.9767528,
            419463017.9366608,
            2096811929.3776927,
            429885377.844885,
            173581991.83352172,
            58803965.94277041,
            1908957500.957343,
            175194248.8534574,
            105271541.28029671,
            2160667744.8497944,
            1843300379.5978727,
            1751580282.7343454,
            2096927655.441182,
            113661531.4788858,
            1845201162.9302907,
            322068214.7263973,
            1845201162.9302907,
            297644088.8401755,
            221929910.94497815,
            1723158791.2652323,
            2202598260.8035526,
            2201539578.1156096,
            189078447.7197841,
            297644088.8401755,
            2202417267.7187705,
            2160642867.5937138,
            1804388009.2928045,
            1682252719.521281,
            505527431.7836515,
            1796775334.4211354,
            1950904033.9811933,
            1843300379.5978727,
            2201539578.1156096,
            2201534562.3010063,
            90412416.6731097,
            2200990189.439458,
            247361929.6911621,
            1751596531.3527863,
            552288821.8542452,
            2077227354.9584565,
            61621483.18859796,
            1723158791.2652323,
            363098334.15681887,
            2202630526.492085,
            1843295363.7832692,
            2160667744.8497944,
            1721473373.4303062,
            2096927655.441182,
            2077238587.7622936,
            247361929.6911621,
            2160683993.468235,
            2202630526.492085,
            2139560216.4462624,
            2202630526.492085,
            263697786.9692906,
            2052154294.039121,
            2200149054.3710155,
            358962313.846055,
            297644088.8401755,
            168249399.8368385,
            2077243603.576897,
            2107218906.181941,
            668820129.1761248,
            62766222.40567055,
            117022719.0070189,
            1950690775.2078788,
            2067330948.2870383,
            247361929.6911621,
            2200965312.1833773,
            2052154294.039121,
            23705023.098350268,
            361197550.824401,
            1948409698.3725736,
            426498764.75153565,
            2067306071.0309584,
            363066068.4682863,
            1908957500.957343,
            1751596531.3527863,
            2201523329.497169,
            619492873.4740131,
            250533612.92057693,
            187612919.60417032,
            2107218906.181941,
            1632287986.953012,
            792345508.255683,
            2160134604.792083,
            546204411.512609,
            2200149054.3710155,
            1750639319.3882542,
            0,
            907689715.1010152,
            325428523.3319799,
            2139560216.4462624,
            357088987.06414044,
            546204411.512609,
            1751596531.3527863,
            1704458347.9767528,
            840983739.3758047,
            384686980.14913535,
            2052154294.039121,
            2138719081.37782,
            175194248.8534574,
            2200149054.3710155,
            2160683993.468235,
            422125574.8464161,
            541802801.4225615,
            168249399.8368385,
            296171696.77481115,
            1632287986.953012,
            1619623959.6839857,
            34466985.971507855,
            244939189.61101604,
            2052154294.039121,
            325446376.004262,
            247303651.41678396,
            668820129.1761248,
            429534121.7572724,
            423489769.4743428,
            2107218906.181941,
            0,
            2159293469.7236404,
            1950871768.292661,
            1632287986.953012,
            547153960.8549038,
            362982473.1490124,
            2139560216.4462624,
            187612919.60417032,
            1718892934.2849932,
            544465358.3323169,
            138899097.55800813,
            2076286391.6123648,
            25181777.332448237,
            1950904033.9811933,
            423489769.4743428,
            547970218.6672659,
            99844208.41870734,
            842889538.5228257,
            58827629.40310466,
            1840877639.517727,
            323199642.8980049,
            2160134604.792083,
            233909377.88697627,
            1907566977.2127483,
            0,
            1619623959.6839857,
            1702992819.8611388,
            1907566977.2127483,
            1804355743.604272,
            2065865420.1714249,
            0,
            1949771959.730197,
            7401621.715047106,
            506992959.8992653,
            2138719081.37782,
            2067330948.2870383,
            1718892934.2849932,
            505527431.7836515,
            0,
            109735862.0133802,
            23337815.821117934,
            90660291.01907434,
            1704433470.7206724,
            0,
            1619623959.6839857,
            1907566977.2127483,
            1887833723.9353704,
            9711031.514900362,
            1886992588.866928,
            2160683993.468235,
            189078447.7197841,
            668836377.7945657,
            908796912.0959312,
            201101873.46738,
            334751290.9095949,
            2107218906.181941,
            61668472.89689384,
            44209579.0870777,
            2074820863.496751,
            1679672280.375968,
            362982473.1490124
           ]
          },
          {
           "label": "A3 Casualties",
           "values": [
            0.010392748233363,
            0.1356512366586656,
            0.1443198046724126,
            0.1941509589402821,
            0.1054472243764895,
            0.4047585439315762,
            0.1400549459022879,
            0.2451524030703115,
            0.0455821432773261,
            0.0058274254800115,
            0,
            0.3445670619287463,
            1.0337294749923198,
            0.1893055132060322,
            0.0491010551731569,
            0.0698943452185015,
            0.1138057483887418,
            0.0114128414807969,
            0.0594463598028445,
            0.1869878866061092,
            0.4047556330499836,
            0.1677908365955351,
            0.0020026156193592,
            0.0033660566130598,
            0.0132198495442208,
            0.0397214234007669,
            0.0168160232436347,
            1.389681407707838,
            0.1929300360983147,
            0.2084522111561757,
            0.0693635693504222,
            0.00397905025705,
            0.018663336382653,
            0.0006373701064319,
            0.1403107169839937,
            0.0500234960542467,
            0.0373928704344145,
            0.0174822764400345,
            0.0317616374142588,
            0.0168254529789949,
            0,
            0.4543332316944773,
            0.3890155206969037,
            0.3890220395506714,
            0.0846354283188757,
            0.0018879755726121,
            0.1144943557792319,
            0.0012747402128638,
            0.0148563061151246,
            0.3445764916641066,
            0.0496698573084905,
            0.0394581573032533,
            0.0019997047377665,
            0.1929418232675149,
            0.1646177849067764,
            0.0171741533668847,
            0.0584471972865393,
            0.0210200290545434,
            1.310396077166415,
            0.3569848019750352,
            0.3938446285657577,
            0.4630603758420358,
            0.0699010614122727,
            0.3890249504322639,
            0.404749114196216,
            1.0709544059251055,
            0.1363912811663397,
            0.0215447187934663,
            0.0763837213463975,
            1.0337011857862397,
            0.4297376861511459,
            0.2078438809526377,
            0.1855163834067945,
            0.0197541341888131,
            0.1104366432233738,
            0.1151829631697219,
            0.0059942643958653,
            0.5459204586642763,
            0.0125535665731774,
            0.0024493256765224,
            0.0158289853205121,
            0.018878682572032,
            0.0917300116396289,
            0.076851828546972,
            0.5002853067748216,
            0.2240887780814194,
            0.0158170836564734,
            0.0139418033488132,
            0.0600747465146702,
            0.2055658539883967,
            0.0764759975258032,
            1.2142756317947287,
            0.0568543418227694,
            0.1466788329019825,
            0.0198125423860222,
            0.0779494005460625,
            0.0568297004859748,
            0.0168225420974023,
            0.2334290774130852,
            1.033525240672049,
            0.0528092772083411,
            0.4002031091261226,
            0.4364798597542114,
            0.5604167621635563,
            0.0217543240887995,
            0.5459865783168059,
            0.0779411280737336,
            0.0568644250385669,
            0.2165261126279515,
            0.1096623477131103,
            0.4297258989819456,
            0.0302556552358988,
            0.0023151443852332,
            0.4462273638668033,
            0.5053398497109324,
            0.0044871444521297,
            0.0015733129771768,
            0.5459983654860061,
            0.4306318783446962,
            0.3437807191855564,
            0.5002538864076534,
            0.0036893560565077,
            0.2471642376634061,
            0.436736366931421,
            0.1324065395496976,
            0.0493829646400587,
            1.069466124230534,
            1.21399676749128,
            0.5059481799144704,
            3.335025909384356,
            0.436161027119618,
            0.5594602642597759,
            1.2113556468177464,
            0.4270937646394406,
            0.4456226722652561,
            0.0002778173262279,
            1.107443364271067,
            0.0314537779503031,
            0.2429603700649091,
            0.0618151875453143,
            0.0807302828444268,
            1.3094395792626343,
            0.5200148720165577,
            0.0485618790000958,
            1.2813095831244024,
            0.3322478720740869,
            0.0772984930861644,
            0.0614720331022174,
            0.153526538439629,
            0.1403107169839937,
            1.2006093273783682,
            0.4001936793907625,
            0.4046655891637599,
            0.0761560681175897,
            0.0140949201031714,
            0.2216120204236004,
            0.4272407502642158,
            1.025377800634118,
            0.0427015518246316,
            1.309428301094811,
            0.0748497238203155,
            0.0568084413714687,
            0.0377770435391312,
            0,
            1.281281293918322,
            0.4462310024687941,
            0.0102664282673906,
            0.6727523570368901,
            0.2213331561201516,
            1.137773091676547,
            0.0033943707519002,
            0.1810227063027685,
            0.233298756998771,
            0,
            0.1012099519719928,
            0.0265682012779342,
            0.0059942643958653,
            0.078864695865892,
            0.4858826472470881,
            0.3322384423387267,
            0.0554887972047309,
            0.0138219555803666,
            0.0467030981526776,
            0.4271031943748008,
            0.3469640352752904,
            0.38896262497488,
            0.3099904953145074,
            1.0313421575566697,
            0.0810491154790202,
            0.1720957519222062,
            0,
            1.280353085220622,
            0.3445450987334653,
            0.1177607857234541,
            0.0012297418624555,
            0.144568348031371,
            0.0584627987433307,
            0.4862694008711296,
            1.1991210456837964,
            2.6659151895725586,
            0.4307206145801333,
            1.166107075225188,
            0.0779354448981734,
            1.3084547921527736,
            3.161078770152165,
            2.7215914059362487,
            0.319909822748707,
            0.045616028487219,
            0.4153098400926087,
            0.0246679024786076,
            0.4858708600778878,
            0.16611650464066,
            0.0013350770795728,
            0.069912848581473,
            0.5455998246927644,
            0.3417926002113726,
            3.239217648313921,
            0.928277242715458,
            0.0135651236658665,
            0.0584591601413399,
            0.0002778173262279,
            0.4042718797687458,
            1.1379883572547795,
            0.1892752700781407,
            0.2083676580129908,
            0.0177946393843243,
            0.0309989446370668,
            0.0038274588609193,
            0.0558964576079044,
            0.0062293877930318,
            0.0567346115333457,
            0.4287547577221584,
            0.9597577574522018,
            0.2880416171470659,
            3.4783974696733053,
            2.8482716684281053,
            0.05071431373753,
            0.4143269116636213,
            0.0114943676263281,
            0.0217321544916924,
            1.1661183533930115,
            0.3793294524182597,
            0.3569818910934426,
            0.1328837739771678,
            0.4266324200606778,
            0.0316050216802118,
            0.1258578838135473,
            0.0259831335153541,
            0.0457172153870661,
            0.0778165304665831,
            0.0496763761622581,
            0.0162781483990398,
            0.0472613554278909,
            0.5594319750536954,
            0.533878992968501,
            0.4472699955644799,
            0.0184231846127554,
            0.0556640498222626,
            0.4174076963607966,
            0.4660070760818183,
            0.3533106463764429,
            0.1010847481285955,
            0.0614720331022174,
            0.1863742853210669,
            0.0357607118353179,
            0.981418462156786,
            0.4741618155228247,
            0.0128548751874054,
            0.4620301225195669,
            0.4862032812186,
            0,
            1.167074851296792,
            0.9571737284160132,
            0.2084099345845833,
            0.1929300360983147,
            0.0206420604953045,
            0.3322478720740869,
            0.5002570175687411,
            0.0272780027444457,
            0.2469163390028297,
            0.0129298246002692,
            0.1870587073769606,
            0.0232478013718563,
            0.0138219555803666,
            0.2471061561043207,
            0.3568918472072189,
            0.9967153270161804,
            0.4456226722652561,
            0.057271515533473,
            0.1053432146645468,
            0.0799031535800717,
            0.1940723778122804,
            1.2142756317947287,
            0.9597577574522018,
            0.0923383418431668,
            0.1364746200925607,
            0.0126631882564097,
            0.1892171885190553,
            0.045616028487219,
            0.2124581476869067,
            0.5594602642597759,
            0.430708827410933,
            0.113766397014439,
            0.3445764916641066,
            0.1919588948385275,
            0.0280434595176595,
            0.0266537450463857,
            0.0060028195265096,
            0.0332929806583632,
            0.4988253142863305,
            0.0620991088048134,
            0.0397571915604145,
            0.4462192152995938,
            0.0590471856303422,
            0.0233291704783162,
            0.4543244990496994,
            0.0779411280737336,
            0.4307206145801333,
            0.3469265917789911,
            0.2431190572309802,
            0.2471642376634061,
            0.078864695865892,
            1.0337294749923198,
            0.3569848019750352,
            0.144568348031371,
            0.1363644590094392,
            0.0767399094080104,
            0.2465151806823641,
            0.4542957881981779,
            0.6754092956585023,
            0.4630320866359552,
            0.0685869028845626,
            0.3890249504322639,
            0.0858539976108437,
            0.1115965783132226,
            0.0218224021955565,
            0.0798649462853678,
            0.1151829631697219,
            1.3103394987542538,
            0.2078438809526377,
            1.0709261167190252,
            0.4630603758420358,
            0.061116180375826,
            0.5604167621635563,
            0.5059481799144704,
            0.031740489184224,
            0.0698943452185015,
            0.0198154532676148,
            0.3564981378122048,
            0.4272289630950155,
            0.5459983654860061,
            0.3430038061777266,
            0.0254949777224288,
            0.0602165616478896,
            0.3099904953145074,
            0.5338672057993008,
            0.4472699955644799,
            0.4861914940493997,
            0.0158289853205121,
            0.3532823571703622,
            1.310396077166415,
            0.1445527465745796,
            0.2331084434415732,
            0.436798692388805,
            0.0159660124245524,
            0.0556102629114115,
            0.9967436162222608,
            0.2469163390028297,
            1.3103677879603344,
            0.5002420992384532,
            0.280347967919736,
            0.1036575386766443,
            0.0250865954179632,
            0.1403107169839937,
            0.4543332316944773,
            0.9966870378100996,
            0.2471555050186283,
            1.2142668991499508,
            0.0778860880469942,
            0.1012996071795751,
            1.2005810381722877,
            0.8252053208342958,
            0.0699010614122727,
            1.025349511428037,
            0.4152980529234084,
            1.310387344521637,
            1.5535369107989558,
            1.0694944134366149,
            1.199149334889877,
            0.0778860880469942,
            0.3322384423387267,
            0.045616028487219,
            0.0917300116396289,
            0.0069898873670364,
            0.0934747387721941,
            0.4271031943748008,
            1.3094395792626343,
            1.281281293918322,
            0.5455998246927644,
            0.436736366931421,
            0.3831124758158061,
            0.0271615545126247,
            0.0810491154790202,
            0.0333135427059913,
            0.4272171759258153,
            0.3938446285657577,
            0.0651964634750772,
            0.0127728099396419,
            0.1661047174714598,
            0.3417831704760123,
            1.2006093273783682,
            0.3437901489209166,
            0.4367957815072123,
            2.840160599047599,
            0.0559763695266147,
            0.1490095719254717,
            0.9920255597631212,
            0.1177607857234541,
            0.0126536669251787,
            0.0467577578292314,
            1.2813095831244024,
            0.9505584699562196,
            1.197689342401386,
            0.4741382411844242,
            1.0709544059251055,
            0.1660929303022595,
            0.2451524030703115,
            0.0333171813079821,
            0.4945478057316363,
            0.1417132455128214,
            0.0654584739418919,
            0.4973653217978394,
            0.1064276722171784,
            0.0922537886999819,
            0.0761516002968481,
            0.4939512626972986,
            0.4307051888089422,
            0.055990009147959,
            0.2335069842348151,
            1.2140727042510848,
            0.0124539074915427,
            0.1863742853210669,
            1.166090064186931,
            0.0654389173805891,
            0.0761516002968481,
            0.16611650464066,
            1.1661183533930115,
            0.638767604314062,
            0.0614814628375776,
            0.0233291704783162,
            0.4364798597542114,
            0.0764849331672864,
            0.0332138901994086,
            0.3887061177976705,
            1.0290114185331802,
            1.0224578156571358,
            0.008423296784686,
            0.4858826472470881,
            0.4174076963607966,
            0.4659284949538166,
            0.1488737223949239,
            0.2165261126279515,
            0.1893018746040415,
            0.1655081744371221,
            0.4862775494383391,
            0.0904341577724437,
            0.0129138486833972,
            1.137031859350999,
            0.3314615293308969,
            0.037610093809088,
            0.0336417561503683,
            3.2930084179819903,
            1.1379600680486988,
            0,
            0.0778165304665831,
            1.3075265834550738,
            0.102650402231558,
            0.011349605303409,
            0.2107001445347457,
            0.0654672065866697,
            0.3417926002113726,
            0.1325950754509428,
            0.055443614702348,
            0.3533106463764429,
            0.1401267597475887,
            1.167074851296792,
            0.436413774907553,
            0.6765581025301388,
            0.0213519257086622,
            0.4733647339363411,
            0.0412179680805234,
            0.0618387944689315,
            0.5053398497109324,
            0.0218129724601963,
            0.5002853067748216,
            0.0185636582969326,
            0.3199192524840673,
            0.0114107205909442,
            0.1855772037345832,
            0.3986513219315034,
            0.2084522111561757,
            0.0396595486326626,
            0.1811012874307702,
            2.563255274117063,
            0.1893055132060322,
            0.1177702154588143,
            0.1655081744371221,
            0.4153098400926087,
            0,
            0.9227718986821428,
            0.5330819113820173,
            0.0799612351391571,
            0.2078016043810453,
            0.2330848691031727,
            1.25222308908239,
            0.4616439022120777,
            0.5123455236464806,
            0.0086504788978867,
            1.1379883572547795,
            0.0385999045084889,
            0.414315124494421,
            0,
            0.024718431831631,
            0.0617915806216972,
            1.1869430229620077,
            0.3649619513690982,
            0.330675186587707,
            0.3560114736493744,
            3.4783974696733053,
            1.2512665911786096,
            0.1009758743615493,
            0.0321698083967949,
            0.4267749320048471,
            0.3956476743206691,
            0.521361079657754,
            0.0412216650341217,
            0.3910922395152156,
            1.1732767185456472,
            0.1870450677556162,
            0.0011012208045835,
            0.3951610101578388,
            0.0420732809839789,
            0.0152975052819013,
            1.1360753614472183,
            0.0807302828444268,
            0.0184962657349103,
            0.100889279217133,
            0,
            0.0549871580863497,
            3.15576489290894,
            2.9746376064079554,
            0.4860001775276524,
            0.4973653217978394,
            1.1370035701449184,
            0.3191329097408772,
            0.1867596731197993,
            0.2327099026483314,
            0.0232477071914792,
            0.0584627987433307,
            0.0455156458681886,
            0.0467821388940692,
            0.1671896456716918,
            0.4541492744580722,
            0.3938446285657577,
            0.0620991088048134,
            0.4543332316944773,
            0.0467673281130719,
            0.1893018746040415,
            0.0584627987433307,
            0.1054229670298844,
            0.0201946905714248,
            0.1651287772301237,
            0.0432062425720599,
            0.0459639268140562,
            0.0185307369956226,
            0.129950385816859,
            1.0337294749923198,
            0.1893055132060322,
            0.5002765741300438,
            0.0654301847358113,
            0.0194074602390826,
            0.430708827410933,
            0.5001838430029997,
            0.0348465672329408,
            0.2451524030703115,
            0.2743469411721312,
            0.4630320866359552,
            0.0766558580985952,
            0.2411287338841224,
            0.0113285223561456,
            0.1870587073769606,
            0.3887061177976705,
            1.03137044676275,
            0.0858539976108437,
            0.5053398497109324,
            1.21399676749128,
            0.0733745795763429,
            0.1892288643575301,
            0.015594046298023,
            0.4134267411424482,
            0.133811187445257,
            0.0012586503817414,
            0.0972276847487574,
            0.4461887258972016,
            1.2128156393062377,
            1.0708529421532835,
            0.97980119534313,
            0.6589259605849387,
            0.5059059033428779,
            0.2471642376634061,
            0.0332901288639194,
            0.0136835011255687,
            0.4741618155228247,
            0.0420732809839789,
            0.1812860340733298,
            0.4270937646394406,
            1.0694944134366149,
            1.025349511428037,
            1.2142756317947287,
            0.0308348780982595,
            1.0709544059251055,
            0.1839740594366284,
            0.3569848019750352,
            0.5257646391059466,
            0.0590766942848636,
            0.4153098400926087,
            1.3103677879603344,
            1.3094395792626343,
            0.1139696527674699,
            0.078864695865892,
            0.436736366931421,
            0.4270843349040804,
            0.4307206145801333,
            0.9597577574522018,
            0.0985379743372851,
            0.427771829293171,
            0.4862811880403299,
            0.4456226722652561,
            0.5455998246927644,
            0.4364769488726189,
            0.025090234019954,
            0.5452012838995226,
            0.4660856572098199,
            0.3417926002113726,
            0.3533106463764429,
            1.2005810381722877,
            0.015801482199682,
            0.9967436162222608,
            0.0738706734745335,
            0.436798692388805,
            0.3564952269306122,
            1.281281293918322,
            0.994384587992691,
            0.5059481799144704,
            1.2006005947335905,
            0.069912848581473,
            1.2813095831244024,
            1.310396077166415,
            1.25222308908239,
            0.5459983654860061,
            0.5123455236464806,
            1.1732767185456472,
            0.4358421944850246,
            0.0958151406471092,
            0.1892752700781407,
            0.0464985742971761,
            1.2006093273783682,
            0.5096402479334907,
            0.4472699955644799,
            0.0151029460576256,
            0.186331242671927,
            0.4862032812186,
            1.1869430229620077,
            0.1677908365955351,
            0.4361515973842578,
            0.3910922395152156,
            0.0374903479989441,
            0.0733840093117031,
            0.388064693139209,
            0.6765581025301388,
            0.395638244585309,
            0.2215837312175198,
            0.3793294524182597,
            1.025377800634118,
            1.309411290056554,
            0.398679611137584,
            0.1490378611315523,
            0.3125268341082744,
            0.4077121983467925,
            2.595068305700396,
            0.4541492744580722,
            0.4267843617402073,
            0.144568348031371,
            1.3075265834550738,
            0.4266324200606778,
            0,
            1.5539777084824868,
            0.0779354448981734,
            0.4174076963607966,
            0.0947355495009566,
            0.3469640352752904,
            0.4272407502642158,
            0.4082504980596376,
            0.4988165816415527,
            0.0804114502098333,
            3.2591019959601306,
            0.4170888637262032,
            0.1009758743615493,
            0.5448027431062807,
            0.533878992968501,
            0.2395948388561036,
            0.1425837704934329,
            0.1115965783132226,
            0.0780264314521025,
            0.3114081966840474,
            2.563255274117063,
            0.0073704376136653,
            0.068696188174397,
            0.4888652993940197,
            0.0779411280737336,
            0.1676893728237132,
            0.1863624981518666,
            0.2469163390028297,
            0.0804530763355114,
            3.397601652889937,
            0,
            0.4264655291056138,
            0.4862694008711296,
            0.3892602458550593,
            0.9256203040938458,
            0.0921088874935704,
            0.5217596204509958,
            0.0468790251162411,
            0.4133439832346338,
            0.143576059262402,
            0.0346929078583655,
            0.4996455562041154,
            0.0051980154326743,
            1.167074851296792,
            0.1005663454193893,
            0.3341515181714842,
            0.0250618620580852,
            0.5002853067748216,
            0.0136959822910018,
            0.4444060118581801,
            0.1855163834067945,
            1.280353085220622,
            0.0557546614355237,
            0.4733647339363411,
            0,
            0.9227718986821428,
            2.717614452373997,
            1.1360753614472183,
            1.0337011857862397,
            1.1854830304735169,
            0,
            0.4858590729086876,
            0.012718673671562,
            0.0990246385001155,
            1.2512665911786096,
            0.3956476743206691,
            0.9920255597631212,
            0.8211497861440427,
            0,
            0.0696067482702749,
            0.0060899832002996,
            0.0619544706919942,
            0.3265909687123497,
            0,
            0.3844882911175595,
            3.15576489290894,
            0.4620424430053195,
            0.0166744986847489,
            0.3693151217696621,
            0.4271031943748008,
            0.0474873553197791,
            0.4472982847705605,
            0.5604167621635563,
            0.1247849326846247,
            0.1954682198631088,
            1.2231365950403776,
            0.0158170836564734,
            0.0780572643425296,
            0.4990372260005775,
            0.3989161371760967,
            0.2210613299845691
           ]
          },
          {
           "label": "Dike Investment Costs",
           "values": [
            31398797.71871161,
            28798397.130608942,
            22167818.198803756,
            26403379.54230644,
            24198032.45136138,
            0,
            31398797.71871161,
            0,
            24198032.45136138,
            26403379.54230644,
            37285037.90055943,
            0,
            0,
            0,
            22167818.198803756,
            26403379.54230644,
            22167818.198803756,
            24198032.45136138,
            22167818.198803756,
            0,
            0,
            24198032.45136138,
            31398797.71871161,
            24198032.45136138,
            22167818.198803756,
            24198032,
            31398797,
            22167818,
            20299287,
            22167818,
            31398797,
            26403379,
            20299287,
            28798397,
            20299287,
            26403379,
            26403379,
            26403379,
            24198032,
            31398797,
            28798397.130608942,
            0,
            22167818.198803756,
            22167818.198803756,
            24198032.45136138,
            26403379.54230644,
            22167818.198803756,
            28798397.130608942,
            31398797.71871161,
            0,
            22167818.198803756,
            22167818.198803756,
            31398797.71871161,
            20299287.62732069,
            22167818.198803756,
            22167818.198803756,
            20299287.62732069,
            31398797.71871161,
            0,
            20299287.62732069,
            0,
            20299287.62732069,
            24198032.45136138,
            22167818.198803756,
            0,
            20299287.62732069,
            0,
            26403379.54230644,
            0,
            0,
            0,
            22167818.198803756,
            0,
            22167818.198803756,
            22167818.198803756,
            22167818,
            34221561,
            20299287,
            20299287,
            28798397,
            20299287,
            24198032,
            24198032,
            26403379,
            22167818,
            22167818,
            24198032,
            26403379,
            20299287.62732069,
            0,
            0,
            0,
            0,
            22167818.198803756,
            22167818.198803756,
            20299287.62732069,
            0,
            31398797.71871161,
            24198032.45136138,
            0,
            20299287.62732069,
            0,
            20299287.62732069,
            24198032.45136138,
            24198032.45136138,
            20299287.62732069,
            0,
            0,
            20299287.62732069,
            20299287.62732069,
            0,
            28798397.130608942,
            26403379.54230644,
            20299287.62732069,
            0,
            26403379.54230644,
            26403379.54230644,
            0,
            0,
            0,
            0,
            24198032.45136138,
            0,
            20299287.62732069,
            22167818.198803756,
            0,
            20299287.62732069,
            0,
            0,
            0,
            20299287.62732069,
            24198032.45136138,
            0,
            0,
            20299287.62732069,
            26403379.54230644,
            22167818.198803756,
            0,
            26403379.54230644,
            0,
            26403379.54230644,
            0,
            0,
            26403379.54230644,
            0,
            0,
            0,
            26403379.54230644,
            0,
            20299287.62732069,
            0,
            0,
            0,
            0,
            22167818.198803756,
            24198032.45136138,
            20299287.62732069,
            20299287.62732069,
            0,
            0,
            34221561.73832255,
            0,
            24198032.45136138,
            34221561,
            0,
            20299287,
            26403379,
            26403379,
            24198032,
            22167818,
            24198032,
            28798397,
            24198032,
            31398797,
            0,
            20299287,
            34221561.73832255,
            0,
            22167818.198803756,
            0,
            0,
            22167818.198803756,
            20299287.62732069,
            0,
            0,
            22167818.198803756,
            22167818.198803756,
            0,
            26403379.54230644,
            22167818.198803756,
            22167818.198803756,
            20299287.62732069,
            0,
            20299287.62732069,
            31398797.71871161,
            0,
            20299287.62732069,
            22167818.198803756,
            0,
            0,
            0,
            22167818.198803756,
            0,
            20299287.62732069,
            22167818.198803756,
            20299287.62732069,
            0,
            24198032.45136138,
            0,
            0,
            22167818,
            22167818,
            31398797,
            24198032,
            0,
            20299287,
            22167818,
            24198032,
            28798397,
            20299287,
            26403379,
            0,
            22167818.198803756,
            0,
            22167818.198803756,
            37285037.90055943,
            24198032.45136138,
            28798397.130608942,
            24198032.45136138,
            28798397.130608942,
            0,
            0,
            0,
            20299287,
            0,
            20299287,
            22167818,
            0,
            34221561,
            28798397,
            22167818,
            22167818.198803756,
            20299287.62732069,
            22167818.198803756,
            20299287.62732069,
            0,
            24198032,
            20299287,
            24198032,
            0,
            22167818,
            28798397,
            0,
            24198032,
            0,
            24198032,
            0,
            0,
            0,
            24198032,
            20299287,
            20299287,
            26403379,
            24198032,
            22167818,
            20299287,
            22167818,
            0,
            24198032.45136138,
            22167818.198803756,
            44215020.36958183,
            22167818.198803756,
            0,
            22167818.198803756,
            20299287.62732069,
            22167818.198803756,
            0,
            22167818.198803756,
            24198032.45136138,
            0,
            26403379.54230644,
            0,
            20299287.62732069,
            22167818.198803756,
            0,
            20299287.62732069,
            0,
            20299287.62732069,
            20299287.62732069,
            24198032.45136138,
            20299287.62732069,
            26403379.54230644,
            0,
            0,
            24198032.45136138,
            0,
            20299287.62732069,
            0,
            24198032.45136138,
            0,
            24198032,
            0,
            20299287,
            0,
            20299287,
            22167818,
            20299287,
            26403379,
            20299287,
            22167818,
            22167818,
            22167818,
            20299287.62732069,
            0,
            20299287.62732069,
            0,
            0,
            0,
            0,
            26403379.54230644,
            0,
            0,
            0,
            20299287.62732069,
            0,
            0,
            22167818.198803756,
            24198032,
            0,
            26403379,
            20299287,
            24198032,
            22167818,
            22167818,
            22167818,
            24198032,
            0,
            22167818,
            0,
            22167818.198803756,
            20299287.62732069,
            20299287.62732069,
            22167818.198803756,
            24198032.45136138,
            0,
            22167818.198803756,
            26403379.54230644,
            22167818.198803756,
            20299287.62732069,
            20299287.62732069,
            0,
            0,
            0,
            26403379.54230644,
            22167818.198803756,
            0,
            24198032.45136138,
            22167818.198803756,
            20299287.62732069,
            20299287.62732069,
            0,
            0,
            24198032.45136138,
            0,
            20299287.62732069,
            20299287.62732069,
            0,
            0,
            0,
            0,
            0,
            20299287.62732069,
            26403379.54230644,
            20299287.62732069,
            0,
            0,
            0,
            0,
            22167818.198803756,
            26403379.54230644,
            0,
            22167818.198803756,
            24198032.45136138,
            20299287.62732069,
            0,
            0,
            24198032,
            20299287,
            0,
            22167818,
            0,
            24198032,
            24198032,
            24198032,
            31398797.71871161,
            0,
            0,
            0,
            0,
            0,
            20299287.62732069,
            28798397.130608942,
            26403379.54230644,
            20299287.62732069,
            20299287.62732069,
            0,
            28798397.130608942,
            20299287.62732069,
            22167818.198803756,
            20299287.62732069,
            0,
            0,
            0,
            20299287.62732069,
            20299287.62732069,
            22167818.198803756,
            0,
            20299287.62732069,
            24198032.45136138,
            20299287.62732069,
            0,
            0,
            0,
            22167818,
            20299287,
            22167818,
            0,
            20299287,
            0,
            0,
            24198032.45136138,
            22167818.198803756,
            20299287.62732069,
            24198032.45136138,
            0,
            0,
            0,
            20299287.62732069,
            24198032.45136138,
            0,
            20299287.62732069,
            24198032.45136138,
            22167818.198803756,
            24198032.45136138,
            0,
            22167818.198803756,
            22167818,
            20299287,
            26403379,
            20299287,
            0,
            0,
            20299287,
            22167818,
            0,
            20299287,
            24198032,
            22167818,
            0,
            24198032,
            0,
            20299287,
            0,
            22167818,
            22167818,
            28798397,
            20299287,
            22167818,
            0,
            20299287,
            0,
            0,
            22167818.198803756,
            31398797.71871161,
            0,
            20299287.62732069,
            0,
            22167818.198803756,
            0,
            24198032.45136138,
            20299287.62732069,
            20299287,
            24198032,
            20299287,
            20299287,
            22167818,
            0,
            20299287,
            24198032,
            22167818,
            22167818,
            0,
            0,
            24198032,
            22167818,
            20299287,
            0,
            22167818,
            24198032,
            22167818,
            22167818,
            22167818,
            28798397.130608942,
            0,
            0,
            20299287.62732069,
            22167818.198803756,
            0,
            24198032.45136138,
            0,
            0,
            20299287.62732069,
            22167818.198803756,
            24198032.45136138,
            0,
            22167818.198803756,
            26403379.54230644,
            22167818.198803756,
            22167818.198803756,
            20299287.62732069,
            0,
            26403379.54230644,
            22167818.198803756,
            0,
            0,
            0,
            0,
            20299287.62732069,
            0,
            20299287.62732069,
            0,
            0,
            0,
            0,
            0,
            20299287.62732069,
            0,
            0,
            0,
            31398797.71871161,
            0,
            0,
            22167818.198803756,
            22167818.198803756,
            26403379.54230644,
            0,
            26403379,
            34221561,
            20299287,
            22167818,
            20299287,
            20299287,
            22167818,
            22167818,
            0,
            0,
            24198032,
            20299287,
            20299287,
            22167818,
            26403379.54230644,
            26403379.54230644,
            0,
            0,
            22167818.198803756,
            0,
            20299287.62732069,
            0,
            20299287.62732069,
            24198032.45136138,
            26403379.54230644,
            22167818.198803756,
            20299287.62732069,
            20299287.62732069,
            24198032.45136138,
            26403379.54230644,
            0,
            0,
            22167818.198803756,
            24198032.45136138,
            26403379.54230644,
            0,
            22167818.198803756,
            24198032.45136138,
            0,
            0,
            20299287.62732069,
            0,
            0,
            24198032.45136138,
            0,
            22167818.198803756,
            0,
            22167818.198803756,
            0,
            0,
            24198032,
            0,
            26403379,
            22167818,
            20299287,
            26403379,
            0,
            20299287.62732069,
            0,
            20299287.62732069,
            20299287,
            0,
            0,
            0,
            0,
            22167818,
            22167818.198803756,
            0,
            24198032.45136138,
            0,
            20299287,
            20299287,
            0,
            0,
            20299287,
            0,
            20299287,
            0,
            0,
            0,
            20299287.62732069,
            20299287.62732069,
            24198032.45136138,
            0,
            0,
            0,
            0,
            0,
            22167818.198803756,
            0,
            22167818,
            20299287,
            0,
            0,
            26403379,
            0,
            24198032,
            20299287,
            20299287,
            0,
            24198032,
            0,
            24198032,
            0,
            20299287,
            0,
            0,
            0,
            0,
            24198032,
            0,
            0,
            0,
            0,
            26403379.54230644,
            0,
            0,
            20299287,
            0,
            22167818,
            0,
            0,
            24198032,
            24198032,
            20299287,
            22167818.198803756,
            0,
            24198032.45136138,
            0,
            0,
            20299287,
            24198032,
            22167818,
            20299287,
            0,
            24198032,
            22167818,
            20299287,
            20299287,
            22167818,
            22167818,
            24198032.45136138,
            0,
            20299287.62732069,
            0,
            20299287.62732069,
            0,
            0,
            20299287.62732069,
            34221561,
            24198032,
            0,
            0,
            20299287,
            0,
            20299287,
            20299287,
            22167818,
            26403379.54230644,
            0,
            0,
            0,
            0,
            0,
            0,
            0,
            22167818.198803756,
            0,
            20299287,
            0,
            31398797,
            24198032,
            0,
            0,
            24198032,
            24198032,
            0,
            0,
            0,
            24198032.45136138,
            0,
            22167818.198803756,
            20299287.62732069,
            24198032.45136138,
            24198032.45136138,
            0,
            24198032.45136138,
            0,
            0,
            22167818.198803756,
            0,
            26403379,
            22167818,
            0,
            24198032,
            24198032,
            22167818,
            22167818,
            20299287,
            0,
            0,
            20299287,
            22167818,
            28798397,
            0,
            20299287,
            22167818,
            0,
            0,
            31398797,
            22167818.198803756,
            26403379.54230644,
            22167818.198803756,
            0,
            0,
            0,
            22167818,
            24198032,
            26403379,
            24198032,
            22167818,
            20299287,
            24198032,
            0,
            22167818,
            22167818,
            26403379,
            22167818,
            0,
            24198032,
            24198032,
            24198032,
            26403379,
            22167818,
            0,
            24198032,
            28798397,
            0,
            0,
            24198032
           ]
          },
          {
           "label": "RfR Investment Costs",
           "values": [
            30700000,
            30700000,
            61400000,
            30700000,
            261300000,
            30700000,
            0,
            213300000,
            267200000,
            213300000,
            30700000,
            61400000,
            61400000,
            92100000,
            469400000,
            30700000,
            297900000,
            182600000,
            176700000,
            334500000,
            30700000,
            30700000,
            61400000,
            213300000,
            334500000,
            334500000,
            0,
            30700000,
            61400000,
            30700000,
            30700000,
            348200000,
            419100000,
            297900000,
            176700000,
            92100000,
            382500000,
            297900000,
            182600000,
            0,
            334500000,
            92100000,
            0,
            0,
            297900000,
            419100000,
            213300000,
            213300000,
            0,
            61400000,
            61400000,
            419100000,
            61400000,
            61400000,
            92100000,
            297900000,
            92100000,
            0,
            0,
            30700000,
            334500000,
            61400000,
            30700000,
            0,
            30700000,
            30700000,
            590600000,
            559900000,
            929600000,
            61400000,
            61400000,
            30700000,
            334500000,
            92100000,
            419100000,
            297900000,
            0,
            0,
            1270300000,
            554000000,
            1014200000,
            61400000,
            30700000,
            0,
            30700000,
            182600000,
            92100000,
            590600000,
            455700000,
            455700000,
            1147400000,
            30700000,
            675200000,
            61400000,
            92100000,
            213300000,
            590600000,
            0,
            0,
            61400000,
            967900000,
            30700000,
            0,
            0,
            61400000,
            0,
            419100000,
            675200000,
            213300000,
            334500000,
            61400000,
            0,
            1744200000,
            30700000,
            30700000,
            297900000,
            334500000,
            0,
            61400000,
            61400000,
            30700000,
            846700000,
            213300000,
            0,
            30700000,
            1224000000,
            30700000,
            30700000,
            30700000,
            30700000,
            0,
            0,
            30700000,
            0,
            30700000,
            1441800000,
            30700000,
            711800000,
            0,
            334500000,
            0,
            0,
            213300000,
            297900000,
            0,
            61400000,
            334500000,
            0,
            967900000,
            92100000,
            30700000,
            30700000,
            30700000,
            1185700000,
            303800000,
            30700000,
            30700000,
            30700000,
            590600000,
            0,
            0,
            590600000,
            92100000,
            61400000,
            0,
            30700000,
            1187400000,
            0,
            30700000,
            0,
            1526400000,
            0,
            0,
            92100000,
            590600000,
            213300000,
            0,
            213300000,
            0,
            61400000,
            711800000,
            213300000,
            92100000,
            0,
            92100000,
            0,
            61400000,
            61400000,
            0,
            182600000,
            711800000,
            0,
            92100000,
            61400000,
            61400000,
            92100000,
            176700000,
            0,
            30700000,
            61400000,
            61400000,
            0,
            419100000,
            0,
            0,
            30700000,
            61400000,
            267200000,
            61400000,
            455700000,
            0,
            30700000,
            61400000,
            30700000,
            0,
            30700000,
            0,
            0,
            30700000,
            92100000,
            1441800000,
            30700000,
            0,
            213300000,
            30700000,
            0,
            590600000,
            151900000,
            30700000,
            61400000,
            675200000,
            61400000,
            61400000,
            92100000,
            0,
            30700000,
            967900000,
            61400000,
            30700000,
            0,
            0,
            0,
            30700000,
            30700000,
            30700000,
            929600000,
            61400000,
            213300000,
            61400000,
            552300000,
            61400000,
            30700000,
            334500000,
            0,
            0,
            0,
            967900000,
            590600000,
            0,
            30700000,
            61400000,
            92100000,
            0,
            0,
            182600000,
            61400000,
            0,
            1224000000,
            30700000,
            0,
            0,
            0,
            92100000,
            30700000,
            61400000,
            182600000,
            61400000,
            30700000,
            61400000,
            213300000,
            30700000,
            334500000,
            419100000,
            213300000,
            213300000,
            30700000,
            61400000,
            30700000,
            469400000,
            92100000,
            213300000,
            30700000,
            30700000,
            61400000,
            30700000,
            590600000,
            711800000,
            213300000,
            182600000,
            711800000,
            0,
            61400000,
            469400000,
            61400000,
            61400000,
            540300000,
            213300000,
            92100000,
            213300000,
            30700000,
            61400000,
            334500000,
            30700000,
            334500000,
            334500000,
            92100000,
            334500000,
            61400000,
            92100000,
            0,
            213300000,
            213300000,
            61400000,
            30700000,
            92100000,
            590600000,
            711800000,
            151900000,
            92100000,
            0,
            61400000,
            894700000,
            0,
            267200000,
            61400000,
            146000000,
            92100000,
            213300000,
            0,
            30700000,
            30700000,
            61400000,
            61400000,
            0,
            30700000,
            92100000,
            30700000,
            176700000,
            30700000,
            30700000,
            0,
            61400000,
            796400000,
            30700000,
            61400000,
            0,
            0,
            0,
            796400000,
            61400000,
            0,
            92100000,
            0,
            0,
            624900000,
            590600000,
            61400000,
            297900000,
            0,
            30700000,
            455700000,
            92100000,
            30700000,
            92100000,
            92100000,
            61400000,
            213300000,
            30700000,
            455700000,
            0,
            30700000,
            30700000,
            30700000,
            30700000,
            61400000,
            0,
            0,
            30700000,
            30700000,
            758100000,
            61400000,
            267200000,
            30700000,
            893000000,
            0,
            0,
            0,
            0,
            0,
            0,
            92100000,
            0,
            0,
            213300000,
            30700000,
            334500000,
            0,
            540300000,
            30700000,
            30700000,
            30700000,
            61400000,
            0,
            30700000,
            503700000,
            61400000,
            61400000,
            61400000,
            176700000,
            92100000,
            0,
            92100000,
            30700000,
            0,
            30700000,
            30700000,
            213300000,
            297900000,
            30700000,
            334500000,
            146000000,
            30700000,
            455700000,
            30700000,
            1270300000,
            30700000,
            61400000,
            503700000,
            0,
            30700000,
            1308600000,
            0,
            0,
            146000000,
            1052500000,
            30700000,
            0,
            182600000,
            0,
            552300000,
            0,
            881000000,
            431100000,
            0,
            61400000,
            30700000,
            92100000,
            0,
            0,
            30700000,
            1526400000,
            213300000,
            176700000,
            30700000,
            0,
            30700000,
            334500000,
            0,
            61400000,
            1052500000,
            455700000,
            30700000,
            0,
            30700000,
            419100000,
            0,
            590600000,
            469400000,
            929600000,
            146000000,
            30700000,
            334500000,
            30700000,
            61400000,
            176700000,
            0,
            0,
            61400000,
            419100000,
            0,
            297900000,
            334500000,
            30700000,
            146000000,
            30700000,
            419100000,
            61400000,
            1185700000,
            0,
            30700000,
            30700000,
            503700000,
            0,
            61400000,
            92100000,
            61400000,
            30700000,
            61400000,
            213300000,
            61400000,
            0,
            297900000,
            30700000,
            0,
            0,
            0,
            0,
            937200000,
            0,
            334500000,
            61400000,
            61400000,
            61400000,
            334500000,
            30700000,
            213300000,
            61400000,
            30700000,
            0,
            0,
            758100000,
            334500000,
            0,
            30700000,
            0,
            92100000,
            30700000,
            30700000,
            419100000,
            0,
            30700000,
            540300000,
            61400000,
            0,
            0,
            711800000,
            0,
            0,
            675200000,
            0,
            30700000,
            30700000,
            30700000,
            0,
            61400000,
            419100000,
            0,
            213300000,
            92100000,
            61400000,
            61400000,
            30700000,
            92100000,
            334500000,
            61400000,
            92100000,
            92100000,
            92100000,
            92100000,
            176700000,
            30700000,
            92100000,
            92100000,
            92100000,
            61400000,
            61400000,
            61400000,
            92100000,
            30700000,
            61400000,
            61400000,
            61400000,
            30700000,
            348200000,
            213300000,
            455700000,
            61400000,
            334500000,
            213300000,
            92100000,
            334500000,
            0,
            61400000,
            182600000,
            30700000,
            30700000,
            30700000,
            176700000,
            61400000,
            61400000,
            61400000,
            334500000,
            590600000,
            30700000,
            30700000,
            30700000,
            30700000,
            92100000,
            30700000,
            213300000,
            455700000,
            92100000,
            0,
            455700000,
            61400000,
            0,
            30700000,
            30700000,
            30700000,
            455700000,
            30700000,
            334500000,
            30700000,
            213300000,
            334500000,
            61400000,
            0,
            0,
            30700000,
            213300000,
            0,
            0,
            61400000,
            61400000,
            30700000,
            61400000,
            0,
            30700000,
            0,
            0,
            30700000,
            0,
            30700000,
            30700000,
            61400000,
            30700000,
            92100000,
            61400000,
            30700000,
            0,
            30700000,
            0,
            61400000,
            30700000,
            30700000,
            30700000,
            0,
            0,
            0,
            0,
            0,
            30700000,
            0,
            182600000,
            213300000,
            61400000,
            30700000,
            0,
            0,
            61400000,
            92100000,
            0,
            30700000,
            30700000,
            0,
            30700000,
            213300000,
            30700000,
            0,
            61400000,
            30700000,
            30700000,
            0,
            30700000,
            0,
            30700000,
            61400000,
            30700000,
            0,
            30700000,
            176700000,
            0,
            92100000,
            0,
            30700000,
            0,
            0,
            419100000,
            0,
            182600000,
            92100000,
            30700000,
            30700000,
            30700000,
            0,
            30700000,
            0,
            540300000,
            0,
            0,
            92100000,
            92100000,
            61400000,
            213300000,
            30700000,
            61400000,
            0,
            30700000,
            30700000,
            334500000,
            30700000,
            0,
            297900000,
            182600000,
            0,
            438700000,
            0,
            0,
            30700000,
            0,
            0,
            0,
            30700000,
            61400000,
            92100000,
            182600000,
            30700000,
            61400000,
            0,
            182600000,
            0,
            30700000,
            30700000,
            92100000,
            30700000,
            334500000,
            0,
            61400000,
            0,
            30700000,
            61400000,
            30700000,
            0,
            61400000,
            30700000,
            0,
            0,
            151900000,
            30700000,
            0,
            30700000,
            61400000,
            30700000,
            348200000,
            30700000,
            540300000,
            182600000,
            30700000,
            92100000,
            61400000,
            0,
            0,
            92100000,
            0,
            0,
            30700000,
            0,
            0,
            0,
            30700000,
            0,
            92100000,
            0,
            30700000,
            61400000,
            0
           ]
          },
          {
           "label": "Evacuation Costs",
           "values": [
            9093.62242927852,
            0,
            7230.653831997064,
            0,
            0,
            105868.15287860496,
            0,
            11047.641639990004,
            1780.4174157962486,
            1275.3901240395935,
            0,
            92570.05727383416,
            44797.46359930278,
            32639.923706887625,
            0,
            6734.302324873203,
            0,
            3413.4282408586487,
            2303.823768165754,
            8146.859439704389,
            105957.15877799613,
            11142.704552025694,
            1880.8971418598976,
            2799.44835183989,
            3506.953111592052,
            0,
            12762.761534282505,
            0,
            32901.08082338988,
            33115.387910499536,
            0,
            11363.957281891442,
            4707.218178157866,
            2301.206881567647,
            5858.1506130162,
            0,
            0,
            618.3709692313181,
            6346.446048096852,
            3349.344318681414,
            0,
            19660.75404461937,
            94339.55028555788,
            94215.06780655376,
            0,
            434.7150361808018,
            0,
            5478.184830032182,
            12745.916380977224,
            92394.76867356196,
            12481.582547306614,
            1627.6233197275574,
            2192.5012701618875,
            32728.60077875073,
            0,
            2720.507858205102,
            9897.804008411558,
            7337.856343501297,
            51936.061706236025,
            92875.2948042993,
            0,
            19714.168939671028,
            18671.11064858806,
            94125.26919480618,
            106082.43396935664,
            45030.44596572088,
            5937.701841028775,
            0,
            3415.71909935396,
            44882.45201155597,
            75077.25960855326,
            33833.77994526994,
            8473.100073728434,
            14048.366855361232,
            0,
            0,
            11087.797309531084,
            86569.16374333086,
            3228.9762749160363,
            0,
            2585.8176633602925,
            11637.245254981965,
            14682.43986188478,
            18562.86345819364,
            19947.15130608913,
            0,
            9698.153874321986,
            0,
            0,
            0,
            3262.449800775379,
            51330.01351689937,
            9755.414061126086,
            6805.109290618346,
            10216.646133790566,
            4070.777063582268,
            9857.512822020426,
            3439.1429304289923,
            34086.89853349396,
            45002.67911723767,
            0,
            115607.70064400576,
            108018.9183667366,
            20323.21489748721,
            5249.392121825393,
            86365.62845651936,
            13353.143559095366,
            9685.762760601036,
            0,
            0,
            75249.7396531924,
            4258.179605897542,
            0,
            74829.21931641754,
            85934.23478743537,
            1257.657763839257,
            8424.417162311312,
            86221.9774419934,
            74782.48393597238,
            93486.73538090724,
            93055.44085928496,
            1749.6809682596038,
            10620.765565057269,
            107763.611306578,
            43800.8538919412,
            2551.116771614475,
            45567.06538296522,
            51574.94356741806,
            85215.84275266496,
            0,
            108919.70946436138,
            20759.962096335592,
            52195.46462702278,
            116873.688026616,
            75475.9683450492,
            61.3542040803264,
            0,
            6114.133765928284,
            8594.85536243773,
            17689.349321861413,
            18196.35236004983,
            52372.808905084414,
            0,
            0,
            56603.35833990926,
            99351.33100699726,
            14066.670044275716,
            25230.17163525133,
            0,
            9848.923956314196,
            56052.21849406342,
            115821.98173475749,
            106373.32110779973,
            3247.5058011779497,
            13712.554343737324,
            8256.30838310775,
            80268.65380330072,
            48350.05970269409,
            15632.268024996149,
            52684.65508854369,
            0,
            9973.647520161736,
            8920.997986911922,
            0,
            56666.03055835927,
            74757.5763102788,
            0,
            0,
            8656.215329909926,
            50599.44808958027,
            1864.70035686818,
            0,
            34577.314818766405,
            0,
            9639.660113044838,
            7105.085240308839,
            2544.296481498436,
            21522.692399394047,
            76488.77959144536,
            99565.61209774896,
            7171.056071037989,
            3925.930195600709,
            12529.863660948542,
            116659.4069358643,
            19849.783715969137,
            94556.59711740896,
            0,
            45326.90200286414,
            17295.561262425043,
            0,
            3909.762347093189,
            56998.88389502502,
            20436.83173551958,
            41234.871435924906,
            13045.97935455507,
            32953.74249721438,
            9725.445353640172,
            75907.3620141332,
            56588.83791130775,
            0,
            74370.78917852999,
            46385.0875373652,
            13422.93489109152,
            52913.44996611544,
            0,
            0,
            106522.17443118428,
            1604.4327174871455,
            79970.29484464743,
            16451.79573949335,
            76661.25963608452,
            34537.9771017353,
            11071.82814971568,
            18395.796695516423,
            86947.04603383155,
            99721.99813680656,
            0,
            0,
            16388.78990550921,
            21313.80426846777,
            1331.3566483403238,
            106760.64933591968,
            50262.56914499814,
            12964.257068811476,
            33564.51506641243,
            0,
            0,
            11795.782445433058,
            23133.05935151453,
            7222.281012746341,
            9783.273669962564,
            75783.73003857653,
            51543.22101354308,
            0,
            0,
            0,
            0,
            80676.7652746707,
            0,
            14213.056891702312,
            46073.24135390592,
            103666.54886155868,
            92964.30070369047,
            43122.63852537815,
            80987.04583807114,
            5593.288828334178,
            0,
            11760.480158253618,
            7696.372598343301,
            13452.590782981184,
            12280.817047424738,
            6724.5216561391735,
            22522.03140852757,
            20863.85595851823,
            93901.98474951198,
            21212.84951552927,
            14787.413468106806,
            11114.910925380487,
            126200.68660261678,
            0,
            19888.77107644761,
            18068.53358025936,
            25315.19127544988,
            35044.16465887624,
            5793.455133334643,
            0,
            83443.7183071258,
            13288.461992318891,
            0,
            76110.89730094469,
            0,
            45636.49415505753,
            0,
            33339.95148845598,
            32869.69482253044,
            15087.220473207655,
            99351.33100699726,
            20051.045168271776,
            3884.673152151494,
            10751.929426479915,
            13562.169387016049,
            8043.305296772741,
            4225.752936414596,
            3257.639333267419,
            10724.421461956885,
            93594.61914835748,
            48274.23616860557,
            75475.9683450492,
            2290.293211427932,
            0,
            7391.947863669203,
            0,
            51330.01351689937,
            51543.22101354308,
            13706.761964143723,
            5834.2476863855645,
            3212.4981794217274,
            13067.912965711092,
            1604.4327174871455,
            0,
            20759.962096335592,
            74543.26922316913,
            0,
            92394.76867356196,
            33435.07120877399,
            1108.048522647474,
            6747.456386388776,
            1281.693475111017,
            8937.532325368216,
            20379.876861150835,
            9814.122425503268,
            1568.7873483884096,
            74930.05635491795,
            18300.445126965424,
            3788.954025979343,
            19703.139729311933,
            13353.143559095366,
            74370.78917852999,
            19953.6044586079,
            8526.488504669156,
            10620.765565057269,
            21522.692399394047,
            44797.46359930278,
            92875.2948042993,
            32953.74249721438,
            5965.7012522988025,
            0,
            0,
            19764.57478725814,
            0,
            19818.06280185367,
            0,
            94125.26919480618,
            3307.601170706862,
            9264.42642271446,
            4826.135116084679,
            41330.05261134522,
            0,
            52109.11892844144,
            33833.77994526994,
            45134.339827903525,
            19714.168939671028,
            10520.592855526533,
            20323.21489748721,
            85215.84275266496,
            6802.354690148075,
            2363.335146186805,
            4782.124619911386,
            93767.79126161404,
            80441.13384793988,
            86221.9774419934,
            94150.13990674916,
            6702.315232543084,
            2491.36281822386,
            0,
            94074.46479415114,
            21212.84951552927,
            76254.54831547066,
            2585.8176633602925,
            19992.66493863026,
            51936.061706236025,
            33126.101151985764,
            34464.78082399463,
            107118.12726911182,
            2589.306621666665,
            2279.9208415351195,
            48170.34230642293,
            10680.009980023277,
            52022.590317338734,
            93288.58715216658,
            0,
            11306.366300512896,
            4207.694559830694,
            5858.1506130162,
            19660.75404461937,
            48378.13003078821,
            10662.99751159586,
            51373.16789236177,
            0,
            14094.096591098709,
            56156.112356246056,
            0,
            18568.276740155576,
            48453.953564876734,
            80142.77488928658,
            51979.60042708334,
            0,
            45463.17152078258,
            56484.94404912512,
            0,
            99565.61209774896,
            1604.4327174871455,
            14425.153998914124,
            1019.602916994206,
            0,
            116659.4069358643,
            52372.808905084414,
            56666.03055835927,
            86947.04603383155,
            107549.4551917146,
            0,
            4366.719885073281,
            17295.561262425043,
            5501.302850100314,
            80613.61389257904,
            0,
            2586.76784522036,
            3216.832697035292,
            34710.45714637445,
            99936.27922755825,
            56052.21849406342,
            93272.45429015555,
            107207.9258808594,
            0,
            2324.3266156275927,
            5996.553920321045,
            49021.43138918037,
            41234.871435924906,
            4644.994683814403,
            12296.565921038358,
            56562.13669617663,
            0,
            56917.66960418681,
            83788.67839640411,
            45030.44596572088,
            34980.24119941231,
            11047.641639990004,
            5431.1912201046025,
            101067.51901054409,
            11023.326947066234,
            2382.7143287852005,
            20812.60241621253,
            0,
            14155.889120056618,
            3253.9270088279213,
            101613.43100067534,
            74582.88815505551,
            2282.2876015310862,
            33739.7122321565,
            51600.54658022574,
            3204.2230723922667,
            35044.16465887624,
            46159.76996500862,
            2424.9327109609176,
            3312.9785242860094,
            34537.9771017353,
            46073.24135390592,
            0,
            23061.6280139441,
            3788.954025979343,
            108018.9183667366,
            3249.607385475435,
            5531.316524230323,
            95026.06029243096,
            45648.55268206021,
            49215.51081281748,
            12027.974412525336,
            76488.77959144536,
            126200.68660261678,
            0,
            0,
            0,
            32710.29056624051,
            35353.6731449044,
            75835.9920791389,
            0,
            13928.085439197526,
            50699.31634384652,
            100229.01662359088,
            1638.529147512917,
            9068.37766407511,
            0,
            50366.463007180784,
            0,
            13450.820464638871,
            53246.30330278119,
            9209.234312828909,
            10069.485235603604,
            0,
            2339.944298707724,
            99721.99813680656,
            0,
            23746.56858727398,
            19888.77107644761,
            5917.905757668363,
            45636.49415505753,
            109093.42904272412,
            0,
            927.4600844282448,
            84893.85549080207,
            1638.7059098835437,
            17475.768902064887,
            85934.23478743537,
            5031.91181442641,
            19947.15130608913,
            6332.485068796431,
            106307.89334043258,
            2249.236482335329,
            36494.30184255249,
            20907.945951698493,
            33115.387910499536,
            1700.340902590086,
            0,
            0,
            32639.923706887625,
            41020.5903451732,
            35256.3691365057,
            79970.29484464743,
            0,
            54916.09972066324,
            95352.12193318825,
            3271.4940055218312,
            34139.0259335466,
            34809.74091327294,
            61188.21168611724,
            91848.79420648252,
            0,
            2810.0394333533063,
            50262.56914499814,
            6597.731182746966,
            80849.24531930985,
            0,
            26023.1551333072,
            17902.929741657936,
            60774.42347122745,
            0,
            101106.70224018447,
            94660.2877189288,
            0,
            61624.95888496563,
            4313.733313521398,
            28454.74564246138,
            117774.47912424078,
            125347.2484094066,
            102307.06064886868,
            16612.059345965554,
            135086.79617480742,
            65496.62844839148,
            8085.344310869247,
            16834.787122793216,
            126239.74486672136,
            7161.471321275757,
            26512.941433997115,
            51177.28518642753,
            18196.35236004983,
            14790.30314651585,
            14991.645227575991,
            0,
            2397.3928076365382,
            0,
            0,
            81954.3175164927,
            20877.85418495156,
            50844.43184976179,
            107185.57895702618,
            8102.141268111888,
            35189.84941583276,
            12637.978011916814,
            9725.445353640172,
            16086.865858357816,
            1610.7731485845168,
            0,
            19792.917473587047,
            0,
            9814.122425503268,
            19660.75404461937,
            12169.856114024313,
            32710.29056624051,
            9725.445353640172,
            0,
            10703.97297956788,
            0,
            15202.201794892151,
            13172.336258646306,
            5065.068528311946,
            0,
            44797.46359930278,
            32639.923706887625,
            19990.305681551527,
            2467.702741038394,
            3014.8249346513603,
            74511.8832223097,
            20082.41783775231,
            0,
            11047.641639990004,
            0,
            19799.157351924223,
            14780.196529456063,
            11901.39378985548,
            2382.595022289629,
            8043.305296772741,
            95026.06029243096,
            45223.008140681486,
            3307.601170706862,
            85934.23478743537,
            51574.94356741806,
            18135.41358822619,
            32739.126583751568,
            3322.219618955565,
            0,
            20237.9753500008,
            1175.6112100204352,
            0,
            74982.13988823525,
            51762.739071961085,
            45165.712497384055,
            51669.6734396673,
            0,
            85440.40633062141,
            10620.765565057269,
            9789.226954237649,
            13424.958007172643,
            83443.7183071258,
            7161.471321275757,
            0,
            116873.688026616,
            45463.17152078258,
            48453.953564876734,
            51330.01351689937,
            13242.449222130064,
            45030.44596572088,
            8902.894850684126,
            92875.2948042993,
            0,
            18128.529069364053,
            79970.29484464743,
            52022.590317338734,
            52372.808905084414,
            13905.216106549684,
            21522.692399394047,
            107549.4551917146,
            117087.9691173677,
            74370.78917852999,
            51543.22101354308,
            45568.2117577588,
            76490.2004685998,
            75763.71099960722,
            75475.9683450492,
            86947.04603383155,
            108108.71697848418,
            4160.821782065652,
            87672.11462566967,
            0,
            99721.99813680656,
            19888.77107644761,
            56192.65484930505,
            2525.49041660702,
            48170.34230642293,
            17028.636040159734,
            107118.12726911182,
            93957.03319076776,
            56666.03055835927,
            48595.88684780165,
            85215.84275266496,
            56095.3728695258,
            18395.796695516423,
            56562.13669617663,
            51936.061706236025,
            61188.21168611724,
            86221.9774419934,
            0,
            65496.62844839148,
            109820.50056198616,
            24230.82235808251,
            12964.257068811476,
            15380.395428334552,
            56052.21849406342,
            109261.99936454912,
            21212.84951552927,
            13263.221676565645,
            0,
            76283.27674946163,
            60774.42347122745,
            11080.762244828717,
            109133.99055511308,
            135086.79617480742,
            0,
            17921.13249747449,
            97470.8252410653,
            0,
            125561.5295001583,
            8360.202245290391,
            103666.54886155868,
            48350.05970269409,
            52476.70276726705,
            20804.052089515848,
            13688.074855700044,
            0,
            135741.96626936927,
            0,
            19720.50918927154,
            117560.19803348908,
            32953.74249721438,
            53246.30330278119,
            80987.04583807114,
            0,
            0,
            13422.93489109152,
            126200.68660261678,
            24934.21649294596,
            19849.783715969137,
            80268.65380330072,
            85779.73129632266,
            20471.630523770807,
            19097.14345767461,
            0,
            127101.47770024156,
            4313.733313521398,
            88397.18321750782,
            93901.98474951198,
            20038.8133873189,
            34363.600048287786,
            9264.42642271446,
            22231.3733831691,
            113415.40480182105,
            0,
            23098.962195267693,
            19832.58076505722,
            108734.63707252491,
            13353.143559095366,
            11216.028776491894,
            35256.25004288021,
            10680.009980023277,
            51572.23959269228,
            0,
            0,
            118460.98913111386,
            75936.19104424638,
            91290.8087893446,
            0,
            37653.069512315706,
            101581.99205703055,
            23803.22346165952,
            81383.23570469397,
            33658.67127275108,
            6194.528890919755,
            93773.83289405536,
            25319.047027792705,
            45636.49415505753,
            41511.74588426935,
            21998.59027138869,
            27773.86615826182,
            19947.15130608913,
            13210.827725480194,
            76912.75241459001,
            8473.100073728434,
            56998.88389502502,
            33598.20126464976,
            84893.85549080207,
            0,
            54916.09972066324,
            0,
            51136.0635426949,
            44882.45201155597,
            61207.149026289146,
            29947.46648483392,
            76833.73968072367,
            0,
            44675.71530044405,
            61624.95888496563,
            125347.2484094066,
            49021.43138918037,
            0,
            10053.439525844538,
            4097.633160430078,
            1022.8123444798646,
            7211.1221248271295,
            106782.98256006547,
            14420.724684948187,
            91169.30617688232,
            0,
            91123.72561464438,
            0,
            114108.61962593594,
            116659.4069358643,
            26444.090698996937,
            21108.95565334663,
            20323.21489748721,
            14413.81132755779,
            22517.853656369287,
            65814.28667605785,
            2293.546198070109,
            0,
            94492.22492882574,
            86276.27094078815,
            22680.43716506547
           ]
          }
         ],
         "domain": {
          "x": [
           0,
           1
          ],
          "y": [
           0,
           1
          ]
         },
         "line": {
          "color": [
           0,
           1,
           2,
           3,
           4,
           5,
           6,
           7,
           8,
           9,
           10,
           11,
           12,
           13,
           14,
           15,
           16,
           17,
           18,
           19,
           20,
           21,
           22,
           23,
           24,
           25,
           26,
           27,
           28,
           29,
           30,
           31,
           32,
           33,
           34,
           35,
           36,
           37,
           38,
           39,
           40,
           41,
           42,
           43,
           44,
           45,
           46,
           47,
           48,
           49,
           50,
           51,
           52,
           53,
           54,
           55,
           56,
           57,
           58,
           59,
           60,
           61,
           62,
           63,
           64,
           65,
           66,
           67,
           68,
           69,
           70,
           71,
           72,
           73,
           74,
           75,
           76,
           77,
           78,
           79,
           80,
           81,
           82,
           83,
           84,
           85,
           86,
           87,
           88,
           89,
           90,
           91,
           92,
           93,
           94,
           95,
           96,
           97,
           98,
           99,
           100,
           101,
           102,
           103,
           104,
           105,
           106,
           107,
           108,
           109,
           110,
           111,
           112,
           113,
           114,
           115,
           116,
           117,
           118,
           119,
           120,
           121,
           122,
           123,
           124,
           125,
           126,
           127,
           128,
           129,
           130,
           131,
           132,
           133,
           134,
           135,
           136,
           137,
           138,
           139,
           140,
           141,
           142,
           143,
           144,
           145,
           146,
           147,
           148,
           149,
           150,
           151,
           152,
           153,
           154,
           155,
           156,
           157,
           158,
           159,
           160,
           161,
           162,
           163,
           164,
           165,
           166,
           167,
           168,
           169,
           170,
           171,
           172,
           173,
           174,
           175,
           176,
           177,
           178,
           179,
           180,
           181,
           182,
           183,
           184,
           185,
           186,
           187,
           188,
           189,
           190,
           191,
           192,
           193,
           194,
           195,
           196,
           197,
           198,
           199,
           200,
           201,
           202,
           203,
           204,
           205,
           206,
           207,
           208,
           209,
           210,
           211,
           212,
           213,
           214,
           215,
           216,
           217,
           218,
           219,
           220,
           221,
           222,
           223,
           224,
           225,
           226,
           227,
           228,
           229,
           230,
           231,
           232,
           233,
           234,
           235,
           236,
           237,
           238,
           239,
           240,
           241,
           242,
           243,
           244,
           245,
           246,
           247,
           248,
           249,
           250,
           251,
           252,
           253,
           254,
           255,
           256,
           257,
           258,
           259,
           260,
           261,
           262,
           263,
           264,
           265,
           266,
           267,
           268,
           269,
           270,
           271,
           272,
           273,
           274,
           275,
           276,
           277,
           278,
           279,
           280,
           281,
           282,
           283,
           284,
           285,
           286,
           287,
           288,
           289,
           290,
           291,
           292,
           293,
           294,
           295,
           296,
           297,
           298,
           299,
           300,
           301,
           302,
           303,
           304,
           305,
           306,
           307,
           308,
           309,
           310,
           311,
           312,
           313,
           314,
           315,
           316,
           317,
           318,
           319,
           320,
           321,
           322,
           323,
           324,
           325,
           326,
           327,
           328,
           329,
           330,
           331,
           332,
           333,
           334,
           335,
           336,
           337,
           338,
           339,
           340,
           341,
           342,
           343,
           344,
           345,
           346,
           347,
           348,
           349,
           350,
           351,
           352,
           353,
           354,
           355,
           356,
           357,
           358,
           359,
           360,
           361,
           362,
           363,
           364,
           365,
           366,
           367,
           368,
           369,
           370,
           371,
           372,
           373,
           374,
           375,
           376,
           377,
           378,
           379,
           380,
           381,
           382,
           383,
           384,
           385,
           386,
           387,
           388,
           389,
           390,
           391,
           392,
           393,
           394,
           395,
           396,
           397,
           398,
           399,
           400,
           401,
           402,
           403,
           404,
           405,
           406,
           407,
           408,
           409,
           410,
           411,
           412,
           413,
           414,
           415,
           416,
           417,
           418,
           419,
           420,
           421,
           422,
           423,
           424,
           425,
           426,
           427,
           428,
           429,
           430,
           431,
           432,
           433,
           434,
           435,
           436,
           437,
           438,
           439,
           440,
           441,
           442,
           443,
           444,
           445,
           446,
           447,
           448,
           449,
           450,
           451,
           452,
           453,
           454,
           455,
           456,
           457,
           458,
           459,
           460,
           461,
           462,
           463,
           464,
           465,
           466,
           467,
           468,
           469,
           470,
           471,
           472,
           473,
           474,
           475,
           476,
           477,
           478,
           479,
           480,
           481,
           482,
           483,
           484,
           485,
           486,
           487,
           488,
           489,
           490,
           491,
           492,
           493,
           494,
           495,
           496,
           497,
           498,
           499,
           500,
           501,
           502,
           503,
           504,
           505,
           506,
           507,
           508,
           509,
           510,
           511,
           512,
           513,
           514,
           515,
           516,
           517,
           518,
           519,
           520,
           521,
           522,
           523,
           524,
           525,
           526,
           527,
           528,
           529,
           530,
           531,
           532,
           533,
           534,
           535,
           536,
           537,
           538,
           539,
           540,
           541,
           542,
           543,
           544,
           545,
           546,
           547,
           548,
           549,
           550,
           551,
           552,
           553,
           554,
           555,
           556,
           557,
           558,
           559,
           560,
           561,
           562,
           563,
           564,
           565,
           566,
           567,
           568,
           569,
           570,
           571,
           572,
           573,
           574,
           575,
           576,
           577,
           578,
           579,
           580,
           581,
           582,
           583,
           584,
           585,
           586,
           587,
           588,
           589,
           590,
           591,
           592,
           593,
           594,
           595,
           596,
           597,
           598,
           599,
           600,
           601,
           602,
           603,
           604,
           605,
           606,
           607,
           608,
           609,
           610,
           611,
           612,
           613,
           614,
           615,
           616,
           617,
           618,
           619,
           620,
           621,
           622,
           623,
           624,
           625,
           626,
           627,
           628,
           629,
           630,
           631,
           632,
           633,
           634,
           635,
           636,
           637,
           638,
           639,
           640,
           641,
           642,
           643,
           644,
           645,
           646,
           647,
           648,
           649,
           650,
           651,
           652,
           653,
           654,
           655,
           656,
           657,
           658,
           659,
           660,
           661,
           662,
           663,
           664,
           665,
           666,
           667,
           668,
           669,
           670,
           671,
           672,
           673,
           674,
           675,
           676,
           677,
           678,
           679,
           680,
           681,
           682,
           683,
           684,
           685,
           686,
           687,
           688,
           689,
           690,
           691,
           692,
           693,
           694,
           695,
           696,
           697,
           698,
           699,
           700,
           701,
           702,
           703,
           704,
           705,
           706,
           707,
           708,
           709,
           710,
           711,
           712,
           713,
           714,
           715,
           716,
           717,
           718,
           719,
           720,
           721,
           722,
           723,
           724,
           725,
           726,
           727,
           728,
           729,
           730,
           731,
           732,
           733,
           734,
           735,
           736,
           737,
           738,
           739,
           740,
           741,
           742,
           743,
           744,
           745,
           746,
           747,
           748,
           749,
           750,
           751,
           752,
           753,
           754,
           755,
           756,
           757,
           758,
           759,
           760,
           761,
           762,
           763,
           764,
           765,
           766,
           767,
           768,
           769,
           770,
           771,
           772,
           773,
           774,
           775,
           776,
           777,
           778,
           779,
           780,
           781,
           782,
           783,
           784,
           785
          ],
          "coloraxis": "coloraxis"
         },
         "name": "",
         "type": "parcoords"
        }
       ],
       "layout": {
        "coloraxis": {
         "colorbar": {
          "title": {
           "text": "index"
          }
         },
         "colorscale": [
          [
           0,
           "#0d0887"
          ],
          [
           0.1111111111111111,
           "#46039f"
          ],
          [
           0.2222222222222222,
           "#7201a8"
          ],
          [
           0.3333333333333333,
           "#9c179e"
          ],
          [
           0.4444444444444444,
           "#bd3786"
          ],
          [
           0.5555555555555556,
           "#d8576b"
          ],
          [
           0.6666666666666666,
           "#ed7953"
          ],
          [
           0.7777777777777778,
           "#fb9f3a"
          ],
          [
           0.8888888888888888,
           "#fdca26"
          ],
          [
           1,
           "#f0f921"
          ]
         ]
        },
        "legend": {
         "tracegroupgap": 0
        },
        "margin": {
         "t": 60
        },
        "template": {
         "data": {
          "bar": [
           {
            "error_x": {
             "color": "#2a3f5f"
            },
            "error_y": {
             "color": "#2a3f5f"
            },
            "marker": {
             "line": {
              "color": "#E5ECF6",
              "width": 0.5
             },
             "pattern": {
              "fillmode": "overlay",
              "size": 10,
              "solidity": 0.2
             }
            },
            "type": "bar"
           }
          ],
          "barpolar": [
           {
            "marker": {
             "line": {
              "color": "#E5ECF6",
              "width": 0.5
             },
             "pattern": {
              "fillmode": "overlay",
              "size": 10,
              "solidity": 0.2
             }
            },
            "type": "barpolar"
           }
          ],
          "carpet": [
           {
            "aaxis": {
             "endlinecolor": "#2a3f5f",
             "gridcolor": "white",
             "linecolor": "white",
             "minorgridcolor": "white",
             "startlinecolor": "#2a3f5f"
            },
            "baxis": {
             "endlinecolor": "#2a3f5f",
             "gridcolor": "white",
             "linecolor": "white",
             "minorgridcolor": "white",
             "startlinecolor": "#2a3f5f"
            },
            "type": "carpet"
           }
          ],
          "choropleth": [
           {
            "colorbar": {
             "outlinewidth": 0,
             "ticks": ""
            },
            "type": "choropleth"
           }
          ],
          "contour": [
           {
            "colorbar": {
             "outlinewidth": 0,
             "ticks": ""
            },
            "colorscale": [
             [
              0,
              "#0d0887"
             ],
             [
              0.1111111111111111,
              "#46039f"
             ],
             [
              0.2222222222222222,
              "#7201a8"
             ],
             [
              0.3333333333333333,
              "#9c179e"
             ],
             [
              0.4444444444444444,
              "#bd3786"
             ],
             [
              0.5555555555555556,
              "#d8576b"
             ],
             [
              0.6666666666666666,
              "#ed7953"
             ],
             [
              0.7777777777777778,
              "#fb9f3a"
             ],
             [
              0.8888888888888888,
              "#fdca26"
             ],
             [
              1,
              "#f0f921"
             ]
            ],
            "type": "contour"
           }
          ],
          "contourcarpet": [
           {
            "colorbar": {
             "outlinewidth": 0,
             "ticks": ""
            },
            "type": "contourcarpet"
           }
          ],
          "heatmap": [
           {
            "colorbar": {
             "outlinewidth": 0,
             "ticks": ""
            },
            "colorscale": [
             [
              0,
              "#0d0887"
             ],
             [
              0.1111111111111111,
              "#46039f"
             ],
             [
              0.2222222222222222,
              "#7201a8"
             ],
             [
              0.3333333333333333,
              "#9c179e"
             ],
             [
              0.4444444444444444,
              "#bd3786"
             ],
             [
              0.5555555555555556,
              "#d8576b"
             ],
             [
              0.6666666666666666,
              "#ed7953"
             ],
             [
              0.7777777777777778,
              "#fb9f3a"
             ],
             [
              0.8888888888888888,
              "#fdca26"
             ],
             [
              1,
              "#f0f921"
             ]
            ],
            "type": "heatmap"
           }
          ],
          "heatmapgl": [
           {
            "colorbar": {
             "outlinewidth": 0,
             "ticks": ""
            },
            "colorscale": [
             [
              0,
              "#0d0887"
             ],
             [
              0.1111111111111111,
              "#46039f"
             ],
             [
              0.2222222222222222,
              "#7201a8"
             ],
             [
              0.3333333333333333,
              "#9c179e"
             ],
             [
              0.4444444444444444,
              "#bd3786"
             ],
             [
              0.5555555555555556,
              "#d8576b"
             ],
             [
              0.6666666666666666,
              "#ed7953"
             ],
             [
              0.7777777777777778,
              "#fb9f3a"
             ],
             [
              0.8888888888888888,
              "#fdca26"
             ],
             [
              1,
              "#f0f921"
             ]
            ],
            "type": "heatmapgl"
           }
          ],
          "histogram": [
           {
            "marker": {
             "pattern": {
              "fillmode": "overlay",
              "size": 10,
              "solidity": 0.2
             }
            },
            "type": "histogram"
           }
          ],
          "histogram2d": [
           {
            "colorbar": {
             "outlinewidth": 0,
             "ticks": ""
            },
            "colorscale": [
             [
              0,
              "#0d0887"
             ],
             [
              0.1111111111111111,
              "#46039f"
             ],
             [
              0.2222222222222222,
              "#7201a8"
             ],
             [
              0.3333333333333333,
              "#9c179e"
             ],
             [
              0.4444444444444444,
              "#bd3786"
             ],
             [
              0.5555555555555556,
              "#d8576b"
             ],
             [
              0.6666666666666666,
              "#ed7953"
             ],
             [
              0.7777777777777778,
              "#fb9f3a"
             ],
             [
              0.8888888888888888,
              "#fdca26"
             ],
             [
              1,
              "#f0f921"
             ]
            ],
            "type": "histogram2d"
           }
          ],
          "histogram2dcontour": [
           {
            "colorbar": {
             "outlinewidth": 0,
             "ticks": ""
            },
            "colorscale": [
             [
              0,
              "#0d0887"
             ],
             [
              0.1111111111111111,
              "#46039f"
             ],
             [
              0.2222222222222222,
              "#7201a8"
             ],
             [
              0.3333333333333333,
              "#9c179e"
             ],
             [
              0.4444444444444444,
              "#bd3786"
             ],
             [
              0.5555555555555556,
              "#d8576b"
             ],
             [
              0.6666666666666666,
              "#ed7953"
             ],
             [
              0.7777777777777778,
              "#fb9f3a"
             ],
             [
              0.8888888888888888,
              "#fdca26"
             ],
             [
              1,
              "#f0f921"
             ]
            ],
            "type": "histogram2dcontour"
           }
          ],
          "mesh3d": [
           {
            "colorbar": {
             "outlinewidth": 0,
             "ticks": ""
            },
            "type": "mesh3d"
           }
          ],
          "parcoords": [
           {
            "line": {
             "colorbar": {
              "outlinewidth": 0,
              "ticks": ""
             }
            },
            "type": "parcoords"
           }
          ],
          "pie": [
           {
            "automargin": true,
            "type": "pie"
           }
          ],
          "scatter": [
           {
            "fillpattern": {
             "fillmode": "overlay",
             "size": 10,
             "solidity": 0.2
            },
            "type": "scatter"
           }
          ],
          "scatter3d": [
           {
            "line": {
             "colorbar": {
              "outlinewidth": 0,
              "ticks": ""
             }
            },
            "marker": {
             "colorbar": {
              "outlinewidth": 0,
              "ticks": ""
             }
            },
            "type": "scatter3d"
           }
          ],
          "scattercarpet": [
           {
            "marker": {
             "colorbar": {
              "outlinewidth": 0,
              "ticks": ""
             }
            },
            "type": "scattercarpet"
           }
          ],
          "scattergeo": [
           {
            "marker": {
             "colorbar": {
              "outlinewidth": 0,
              "ticks": ""
             }
            },
            "type": "scattergeo"
           }
          ],
          "scattergl": [
           {
            "marker": {
             "colorbar": {
              "outlinewidth": 0,
              "ticks": ""
             }
            },
            "type": "scattergl"
           }
          ],
          "scattermapbox": [
           {
            "marker": {
             "colorbar": {
              "outlinewidth": 0,
              "ticks": ""
             }
            },
            "type": "scattermapbox"
           }
          ],
          "scatterpolar": [
           {
            "marker": {
             "colorbar": {
              "outlinewidth": 0,
              "ticks": ""
             }
            },
            "type": "scatterpolar"
           }
          ],
          "scatterpolargl": [
           {
            "marker": {
             "colorbar": {
              "outlinewidth": 0,
              "ticks": ""
             }
            },
            "type": "scatterpolargl"
           }
          ],
          "scatterternary": [
           {
            "marker": {
             "colorbar": {
              "outlinewidth": 0,
              "ticks": ""
             }
            },
            "type": "scatterternary"
           }
          ],
          "surface": [
           {
            "colorbar": {
             "outlinewidth": 0,
             "ticks": ""
            },
            "colorscale": [
             [
              0,
              "#0d0887"
             ],
             [
              0.1111111111111111,
              "#46039f"
             ],
             [
              0.2222222222222222,
              "#7201a8"
             ],
             [
              0.3333333333333333,
              "#9c179e"
             ],
             [
              0.4444444444444444,
              "#bd3786"
             ],
             [
              0.5555555555555556,
              "#d8576b"
             ],
             [
              0.6666666666666666,
              "#ed7953"
             ],
             [
              0.7777777777777778,
              "#fb9f3a"
             ],
             [
              0.8888888888888888,
              "#fdca26"
             ],
             [
              1,
              "#f0f921"
             ]
            ],
            "type": "surface"
           }
          ],
          "table": [
           {
            "cells": {
             "fill": {
              "color": "#EBF0F8"
             },
             "line": {
              "color": "white"
             }
            },
            "header": {
             "fill": {
              "color": "#C8D4E3"
             },
             "line": {
              "color": "white"
             }
            },
            "type": "table"
           }
          ]
         },
         "layout": {
          "annotationdefaults": {
           "arrowcolor": "#2a3f5f",
           "arrowhead": 0,
           "arrowwidth": 1
          },
          "autotypenumbers": "strict",
          "coloraxis": {
           "colorbar": {
            "outlinewidth": 0,
            "ticks": ""
           }
          },
          "colorscale": {
           "diverging": [
            [
             0,
             "#8e0152"
            ],
            [
             0.1,
             "#c51b7d"
            ],
            [
             0.2,
             "#de77ae"
            ],
            [
             0.3,
             "#f1b6da"
            ],
            [
             0.4,
             "#fde0ef"
            ],
            [
             0.5,
             "#f7f7f7"
            ],
            [
             0.6,
             "#e6f5d0"
            ],
            [
             0.7,
             "#b8e186"
            ],
            [
             0.8,
             "#7fbc41"
            ],
            [
             0.9,
             "#4d9221"
            ],
            [
             1,
             "#276419"
            ]
           ],
           "sequential": [
            [
             0,
             "#0d0887"
            ],
            [
             0.1111111111111111,
             "#46039f"
            ],
            [
             0.2222222222222222,
             "#7201a8"
            ],
            [
             0.3333333333333333,
             "#9c179e"
            ],
            [
             0.4444444444444444,
             "#bd3786"
            ],
            [
             0.5555555555555556,
             "#d8576b"
            ],
            [
             0.6666666666666666,
             "#ed7953"
            ],
            [
             0.7777777777777778,
             "#fb9f3a"
            ],
            [
             0.8888888888888888,
             "#fdca26"
            ],
            [
             1,
             "#f0f921"
            ]
           ],
           "sequentialminus": [
            [
             0,
             "#0d0887"
            ],
            [
             0.1111111111111111,
             "#46039f"
            ],
            [
             0.2222222222222222,
             "#7201a8"
            ],
            [
             0.3333333333333333,
             "#9c179e"
            ],
            [
             0.4444444444444444,
             "#bd3786"
            ],
            [
             0.5555555555555556,
             "#d8576b"
            ],
            [
             0.6666666666666666,
             "#ed7953"
            ],
            [
             0.7777777777777778,
             "#fb9f3a"
            ],
            [
             0.8888888888888888,
             "#fdca26"
            ],
            [
             1,
             "#f0f921"
            ]
           ]
          },
          "colorway": [
           "#636efa",
           "#EF553B",
           "#00cc96",
           "#ab63fa",
           "#FFA15A",
           "#19d3f3",
           "#FF6692",
           "#B6E880",
           "#FF97FF",
           "#FECB52"
          ],
          "font": {
           "color": "#2a3f5f"
          },
          "geo": {
           "bgcolor": "white",
           "lakecolor": "white",
           "landcolor": "#E5ECF6",
           "showlakes": true,
           "showland": true,
           "subunitcolor": "white"
          },
          "hoverlabel": {
           "align": "left"
          },
          "hovermode": "closest",
          "mapbox": {
           "style": "light"
          },
          "paper_bgcolor": "white",
          "plot_bgcolor": "#E5ECF6",
          "polar": {
           "angularaxis": {
            "gridcolor": "white",
            "linecolor": "white",
            "ticks": ""
           },
           "bgcolor": "#E5ECF6",
           "radialaxis": {
            "gridcolor": "white",
            "linecolor": "white",
            "ticks": ""
           }
          },
          "scene": {
           "xaxis": {
            "backgroundcolor": "#E5ECF6",
            "gridcolor": "white",
            "gridwidth": 2,
            "linecolor": "white",
            "showbackground": true,
            "ticks": "",
            "zerolinecolor": "white"
           },
           "yaxis": {
            "backgroundcolor": "#E5ECF6",
            "gridcolor": "white",
            "gridwidth": 2,
            "linecolor": "white",
            "showbackground": true,
            "ticks": "",
            "zerolinecolor": "white"
           },
           "zaxis": {
            "backgroundcolor": "#E5ECF6",
            "gridcolor": "white",
            "gridwidth": 2,
            "linecolor": "white",
            "showbackground": true,
            "ticks": "",
            "zerolinecolor": "white"
           }
          },
          "shapedefaults": {
           "line": {
            "color": "#2a3f5f"
           }
          },
          "ternary": {
           "aaxis": {
            "gridcolor": "white",
            "linecolor": "white",
            "ticks": ""
           },
           "baxis": {
            "gridcolor": "white",
            "linecolor": "white",
            "ticks": ""
           },
           "bgcolor": "#E5ECF6",
           "caxis": {
            "gridcolor": "white",
            "linecolor": "white",
            "ticks": ""
           }
          },
          "title": {
           "x": 0.05
          },
          "xaxis": {
           "automargin": true,
           "gridcolor": "white",
           "linecolor": "white",
           "ticks": "",
           "title": {
            "standoff": 15
           },
           "zerolinecolor": "white",
           "zerolinewidth": 2
          },
          "yaxis": {
           "automargin": true,
           "gridcolor": "white",
           "linecolor": "white",
           "ticks": "",
           "title": {
            "standoff": 15
           },
           "zerolinecolor": "white",
           "zerolinewidth": 2
          }
         }
        }
       }
      }
     },
     "metadata": {},
     "output_type": "display_data"
    }
   ],
   "source": [
    "fig8 = px.parallel_coordinates(ms_results_df, labels= {\"A3 Expected Annual Damage\" : \"A3 Damage\", \"A3 Aggr Expected Number of Deaths\" : \"A3 Casualties\", \"A3 Dike Investment Costs\" : \"Dike Investment Costs\", \"Room for River Investment Costs\" : \"RfR Investment Costs\",\"Evacuation Costs\":\"Evacuation Costs\"}, color = ms_results_df.index, dimensions= [\"A3 Expected Annual Damage\", \"A3 Aggr Expected Number of Deaths\", \"A3 Dike Investment Costs\", \"Room for River Investment Costs\",\"Evacuation Costs\"])\n",
    "fig8.show()\n",
    "fig8.write_image(\"./plots/ParallelPlot_dike3_iter2.png\")"
   ]
  },
  {
   "cell_type": "markdown",
   "metadata": {},
   "source": [
    "We can observe similar trade-offs as before, however, the newly found policies overall show a much better performance when it comes to casualties and damages. \n",
    "\n",
    "![Tradeoffs](../figures/Gelderland_Tradeoffs_3ReferenceScenario.png)\n"
   ]
  },
  {
   "cell_type": "markdown",
   "metadata": {},
   "source": [
    "## Selection of promising policies\n",
    "We select from the solutions found only these which lead to no expected deaths, no expected damage and no evacuation costs. From these selection onwards, due to comparability with the other notebooks and computational resources, we select the 10 policies with lowest total costs (Dike investment costs and Room for River costs combined)"
   ]
  },
  {
   "cell_type": "code",
   "execution_count": 46,
   "metadata": {},
   "outputs": [
    {
     "name": "stderr",
     "output_type": "stream",
     "text": [
      "/var/folders/67/z86xx6d17h73gd6gbk3_m8jw0000gn/T/ipykernel_7967/3027011948.py:6: SettingWithCopyWarning:\n",
      "\n",
      "\n",
      "A value is trying to be set on a copy of a slice from a DataFrame.\n",
      "Try using .loc[row_indexer,col_indexer] = value instead\n",
      "\n",
      "See the caveats in the documentation: https://pandas.pydata.org/pandas-docs/stable/user_guide/indexing.html#returning-a-view-versus-a-copy\n",
      "\n"
     ]
    }
   ],
   "source": [
    "ms_results_subset = ms_results_df[\n",
    "    ((ms_results_df[\"A3 Aggr Expected Number of Deaths\"]) == 0) &\n",
    "    ((ms_results_df[\"A3 Expected Annual Damage\"]) == 0) &\n",
    "    ((ms_results_df[\"Evacuation Costs\"]) == 0) ]\n",
    "\n",
    "ms_results_subset[\"Total Costs\"] = ms_results_subset[\"A3 Dike Investment Costs\"] + ms_results_subset[\"Room for River Investment Costs\"] \n"
   ]
  },
  {
   "cell_type": "code",
   "execution_count": 47,
   "metadata": {},
   "outputs": [],
   "source": [
    "#Select only the 10 cheapest policies in terms of total costs. \n",
    "ms_results_subset = ms_results_subset.sort_values(\"Total Costs\").head(10)\n",
    "ms_policies = ms_results_subset.iloc[:,0:31]\n",
    "ms_policies_to_evaluate = []\n",
    "\n",
    "for i, policy in ms_policies.iterrows():\n",
    "    ms_policies_to_evaluate.append(Policy(str(i), **policy.to_dict()))"
   ]
  },
  {
   "cell_type": "markdown",
   "metadata": {},
   "source": [
    "## Re-evaluation under deep uncertainty\n",
    "We now re-evalute the 10 policies seleted under deep uncertainty by running 1000 scenarios sampled by latin hypercube for each policy. We then determine the robustness of each policy to come to a feasible policy advice."
   ]
  },
  {
   "cell_type": "code",
   "execution_count": 80,
   "metadata": {
    "tags": []
   },
   "outputs": [
    {
     "name": "stderr",
     "output_type": "stream",
     "text": [
      "[MainProcess/INFO] pool started with 1 workers\n",
      "[MainProcess/INFO] performing 1000 scenarios * 10 policies * 1 model(s) = 10000 experiments\n",
      "100%|██████████████████████████████████| 10000/10000 [2:10:52<00:00,  1.27it/s]\n",
      "[MainProcess/INFO] experiments finished\n",
      "[MainProcess/INFO] terminating pool\n",
      "[MainProcess/INFO] results saved successfully to C:\\Users\\NKondhalkar\\Documents\\final assignment\\results\\Multi_Scenario_DeepUncertainty10policies_1000scenarios_DikeRing3.tar.gz\n"
     ]
    }
   ],
   "source": [
    "ema_logging.log_to_stderr(ema_logging.INFO)\n",
    "\n",
    "with MultiprocessingEvaluator(dike_model) as evaluator:\n",
    "    results = evaluator.perform_experiments(n_scenarios, ms_policies_to_evaluate)\n",
    "\n",
    "#Save results\n",
    "save_results(results, \"./results/Multi_Scenario_DeepUncertainty\"+str(len(ms_policies_to_evaluate))+\"policies_\"+str(n_scenarios)+\"scenarios_\"+province+\".tar.gz\")"
   ]
  },
  {
   "cell_type": "code",
   "execution_count": 81,
   "metadata": {
    "tags": []
   },
   "outputs": [
    {
     "name": "stderr",
     "output_type": "stream",
     "text": [
      "[MainProcess/INFO] results saved successfully to C:\\Users\\NKondhalkar\\Documents\\final assignment\\results\\Multi_Scenario_DeepUncertainty10policies_1000scenarios_DikeRing3.tar.gz\n"
     ]
    }
   ],
   "source": [
    "save_results(results, \"./results/Multi_Scenario_DeepUncertainty\"+str(len(ms_policies_to_evaluate))+\"policies_\"+str(n_scenarios)+\"scenarios_\"+province+\".tar.gz\")"
   ]
  },
  {
   "cell_type": "code",
   "execution_count": 48,
   "metadata": {
    "scrolled": true,
    "tags": []
   },
   "outputs": [
    {
     "name": "stderr",
     "output_type": "stream",
     "text": [
      "[MainProcess/INFO] results loaded successfully from /Users/philipmuller/Documents/GitHub/model-based-decision-making/final assignment/results/Multi_Scenario_DeepUncertainty10policies_1000scenarios_DikeRing3.tar.gz\n"
     ]
    }
   ],
   "source": [
    "#Load results\n",
    "reevaluation_results = load_results(\"./results/Multi_Scenario_DeepUncertainty10policies_1000scenarios_DikeRing3.tar.gz\")"
   ]
  },
  {
   "cell_type": "code",
   "execution_count": 49,
   "metadata": {},
   "outputs": [],
   "source": [
    "#Show results\n",
    "experiments, outcomes = reevaluation_results\n",
    "reevaluation_df = pd.concat([pd.DataFrame(experiments), pd.DataFrame(outcomes)], axis = 1)"
   ]
  },
  {
   "cell_type": "code",
   "execution_count": 50,
   "metadata": {},
   "outputs": [],
   "source": [
    "reevaluation_df = reevaluation_df.drop(\"model\", axis=1)"
   ]
  },
  {
   "cell_type": "code",
   "execution_count": 51,
   "metadata": {},
   "outputs": [
    {
     "data": {
      "text/html": [
       "<div>\n",
       "<style scoped>\n",
       "    .dataframe tbody tr th:only-of-type {\n",
       "        vertical-align: middle;\n",
       "    }\n",
       "\n",
       "    .dataframe tbody tr th {\n",
       "        vertical-align: top;\n",
       "    }\n",
       "\n",
       "    .dataframe thead th {\n",
       "        text-align: right;\n",
       "    }\n",
       "</style>\n",
       "<table border=\"1\" class=\"dataframe\">\n",
       "  <thead>\n",
       "    <tr style=\"text-align: right;\">\n",
       "      <th></th>\n",
       "      <th>0_RfR 0</th>\n",
       "      <th>0_RfR 1</th>\n",
       "      <th>0_RfR 2</th>\n",
       "      <th>1_RfR 0</th>\n",
       "      <th>1_RfR 1</th>\n",
       "      <th>1_RfR 2</th>\n",
       "      <th>2_RfR 0</th>\n",
       "      <th>2_RfR 1</th>\n",
       "      <th>2_RfR 2</th>\n",
       "      <th>3_RfR 0</th>\n",
       "      <th>...</th>\n",
       "      <th>A.3_DikeIncrease 1</th>\n",
       "      <th>A.3_DikeIncrease 2</th>\n",
       "      <th>A.4_DikeIncrease 0</th>\n",
       "      <th>A.4_DikeIncrease 1</th>\n",
       "      <th>A.4_DikeIncrease 2</th>\n",
       "      <th>A.5_DikeIncrease 0</th>\n",
       "      <th>A.5_DikeIncrease 1</th>\n",
       "      <th>A.5_DikeIncrease 2</th>\n",
       "      <th>scenario</th>\n",
       "      <th>policy</th>\n",
       "    </tr>\n",
       "  </thead>\n",
       "  <tbody>\n",
       "    <tr>\n",
       "      <th>0</th>\n",
       "      <td>0</td>\n",
       "      <td>0</td>\n",
       "      <td>0</td>\n",
       "      <td>0</td>\n",
       "      <td>0</td>\n",
       "      <td>0</td>\n",
       "      <td>0</td>\n",
       "      <td>0</td>\n",
       "      <td>0</td>\n",
       "      <td>0</td>\n",
       "      <td>...</td>\n",
       "      <td>0</td>\n",
       "      <td>0</td>\n",
       "      <td>3</td>\n",
       "      <td>6</td>\n",
       "      <td>10</td>\n",
       "      <td>7</td>\n",
       "      <td>2</td>\n",
       "      <td>0</td>\n",
       "      <td>0</td>\n",
       "      <td>547</td>\n",
       "    </tr>\n",
       "    <tr>\n",
       "      <th>1</th>\n",
       "      <td>0</td>\n",
       "      <td>0</td>\n",
       "      <td>0</td>\n",
       "      <td>0</td>\n",
       "      <td>0</td>\n",
       "      <td>0</td>\n",
       "      <td>0</td>\n",
       "      <td>0</td>\n",
       "      <td>0</td>\n",
       "      <td>0</td>\n",
       "      <td>...</td>\n",
       "      <td>0</td>\n",
       "      <td>0</td>\n",
       "      <td>3</td>\n",
       "      <td>6</td>\n",
       "      <td>10</td>\n",
       "      <td>7</td>\n",
       "      <td>2</td>\n",
       "      <td>0</td>\n",
       "      <td>1</td>\n",
       "      <td>547</td>\n",
       "    </tr>\n",
       "    <tr>\n",
       "      <th>2</th>\n",
       "      <td>0</td>\n",
       "      <td>0</td>\n",
       "      <td>0</td>\n",
       "      <td>0</td>\n",
       "      <td>0</td>\n",
       "      <td>0</td>\n",
       "      <td>0</td>\n",
       "      <td>0</td>\n",
       "      <td>0</td>\n",
       "      <td>0</td>\n",
       "      <td>...</td>\n",
       "      <td>0</td>\n",
       "      <td>0</td>\n",
       "      <td>3</td>\n",
       "      <td>6</td>\n",
       "      <td>10</td>\n",
       "      <td>7</td>\n",
       "      <td>2</td>\n",
       "      <td>0</td>\n",
       "      <td>2</td>\n",
       "      <td>547</td>\n",
       "    </tr>\n",
       "    <tr>\n",
       "      <th>3</th>\n",
       "      <td>0</td>\n",
       "      <td>0</td>\n",
       "      <td>0</td>\n",
       "      <td>0</td>\n",
       "      <td>0</td>\n",
       "      <td>0</td>\n",
       "      <td>0</td>\n",
       "      <td>0</td>\n",
       "      <td>0</td>\n",
       "      <td>0</td>\n",
       "      <td>...</td>\n",
       "      <td>0</td>\n",
       "      <td>0</td>\n",
       "      <td>3</td>\n",
       "      <td>6</td>\n",
       "      <td>10</td>\n",
       "      <td>7</td>\n",
       "      <td>2</td>\n",
       "      <td>0</td>\n",
       "      <td>3</td>\n",
       "      <td>547</td>\n",
       "    </tr>\n",
       "    <tr>\n",
       "      <th>4</th>\n",
       "      <td>0</td>\n",
       "      <td>0</td>\n",
       "      <td>0</td>\n",
       "      <td>0</td>\n",
       "      <td>0</td>\n",
       "      <td>0</td>\n",
       "      <td>0</td>\n",
       "      <td>0</td>\n",
       "      <td>0</td>\n",
       "      <td>0</td>\n",
       "      <td>...</td>\n",
       "      <td>0</td>\n",
       "      <td>0</td>\n",
       "      <td>3</td>\n",
       "      <td>6</td>\n",
       "      <td>10</td>\n",
       "      <td>7</td>\n",
       "      <td>2</td>\n",
       "      <td>0</td>\n",
       "      <td>4</td>\n",
       "      <td>547</td>\n",
       "    </tr>\n",
       "    <tr>\n",
       "      <th>...</th>\n",
       "      <td>...</td>\n",
       "      <td>...</td>\n",
       "      <td>...</td>\n",
       "      <td>...</td>\n",
       "      <td>...</td>\n",
       "      <td>...</td>\n",
       "      <td>...</td>\n",
       "      <td>...</td>\n",
       "      <td>...</td>\n",
       "      <td>...</td>\n",
       "      <td>...</td>\n",
       "      <td>...</td>\n",
       "      <td>...</td>\n",
       "      <td>...</td>\n",
       "      <td>...</td>\n",
       "      <td>...</td>\n",
       "      <td>...</td>\n",
       "      <td>...</td>\n",
       "      <td>...</td>\n",
       "      <td>...</td>\n",
       "      <td>...</td>\n",
       "    </tr>\n",
       "    <tr>\n",
       "      <th>9995</th>\n",
       "      <td>0</td>\n",
       "      <td>0</td>\n",
       "      <td>0</td>\n",
       "      <td>0</td>\n",
       "      <td>0</td>\n",
       "      <td>0</td>\n",
       "      <td>1</td>\n",
       "      <td>1</td>\n",
       "      <td>1</td>\n",
       "      <td>0</td>\n",
       "      <td>...</td>\n",
       "      <td>0</td>\n",
       "      <td>0</td>\n",
       "      <td>2</td>\n",
       "      <td>0</td>\n",
       "      <td>4</td>\n",
       "      <td>1</td>\n",
       "      <td>1</td>\n",
       "      <td>3</td>\n",
       "      <td>995</td>\n",
       "      <td>508</td>\n",
       "    </tr>\n",
       "    <tr>\n",
       "      <th>9996</th>\n",
       "      <td>0</td>\n",
       "      <td>0</td>\n",
       "      <td>0</td>\n",
       "      <td>0</td>\n",
       "      <td>0</td>\n",
       "      <td>0</td>\n",
       "      <td>1</td>\n",
       "      <td>1</td>\n",
       "      <td>1</td>\n",
       "      <td>0</td>\n",
       "      <td>...</td>\n",
       "      <td>0</td>\n",
       "      <td>0</td>\n",
       "      <td>2</td>\n",
       "      <td>0</td>\n",
       "      <td>4</td>\n",
       "      <td>1</td>\n",
       "      <td>1</td>\n",
       "      <td>3</td>\n",
       "      <td>996</td>\n",
       "      <td>508</td>\n",
       "    </tr>\n",
       "    <tr>\n",
       "      <th>9997</th>\n",
       "      <td>0</td>\n",
       "      <td>0</td>\n",
       "      <td>0</td>\n",
       "      <td>0</td>\n",
       "      <td>0</td>\n",
       "      <td>0</td>\n",
       "      <td>1</td>\n",
       "      <td>1</td>\n",
       "      <td>1</td>\n",
       "      <td>0</td>\n",
       "      <td>...</td>\n",
       "      <td>0</td>\n",
       "      <td>0</td>\n",
       "      <td>2</td>\n",
       "      <td>0</td>\n",
       "      <td>4</td>\n",
       "      <td>1</td>\n",
       "      <td>1</td>\n",
       "      <td>3</td>\n",
       "      <td>997</td>\n",
       "      <td>508</td>\n",
       "    </tr>\n",
       "    <tr>\n",
       "      <th>9998</th>\n",
       "      <td>0</td>\n",
       "      <td>0</td>\n",
       "      <td>0</td>\n",
       "      <td>0</td>\n",
       "      <td>0</td>\n",
       "      <td>0</td>\n",
       "      <td>1</td>\n",
       "      <td>1</td>\n",
       "      <td>1</td>\n",
       "      <td>0</td>\n",
       "      <td>...</td>\n",
       "      <td>0</td>\n",
       "      <td>0</td>\n",
       "      <td>2</td>\n",
       "      <td>0</td>\n",
       "      <td>4</td>\n",
       "      <td>1</td>\n",
       "      <td>1</td>\n",
       "      <td>3</td>\n",
       "      <td>998</td>\n",
       "      <td>508</td>\n",
       "    </tr>\n",
       "    <tr>\n",
       "      <th>9999</th>\n",
       "      <td>0</td>\n",
       "      <td>0</td>\n",
       "      <td>0</td>\n",
       "      <td>0</td>\n",
       "      <td>0</td>\n",
       "      <td>0</td>\n",
       "      <td>1</td>\n",
       "      <td>1</td>\n",
       "      <td>1</td>\n",
       "      <td>0</td>\n",
       "      <td>...</td>\n",
       "      <td>0</td>\n",
       "      <td>0</td>\n",
       "      <td>2</td>\n",
       "      <td>0</td>\n",
       "      <td>4</td>\n",
       "      <td>1</td>\n",
       "      <td>1</td>\n",
       "      <td>3</td>\n",
       "      <td>999</td>\n",
       "      <td>508</td>\n",
       "    </tr>\n",
       "  </tbody>\n",
       "</table>\n",
       "<p>10000 rows × 33 columns</p>\n",
       "</div>"
      ],
      "text/plain": [
       "      0_RfR 0  0_RfR 1  0_RfR 2  1_RfR 0  1_RfR 1  1_RfR 2  2_RfR 0  2_RfR 1  \\\n",
       "0           0        0        0        0        0        0        0        0   \n",
       "1           0        0        0        0        0        0        0        0   \n",
       "2           0        0        0        0        0        0        0        0   \n",
       "3           0        0        0        0        0        0        0        0   \n",
       "4           0        0        0        0        0        0        0        0   \n",
       "...       ...      ...      ...      ...      ...      ...      ...      ...   \n",
       "9995        0        0        0        0        0        0        1        1   \n",
       "9996        0        0        0        0        0        0        1        1   \n",
       "9997        0        0        0        0        0        0        1        1   \n",
       "9998        0        0        0        0        0        0        1        1   \n",
       "9999        0        0        0        0        0        0        1        1   \n",
       "\n",
       "      2_RfR 2  3_RfR 0  ...  A.3_DikeIncrease 1  A.3_DikeIncrease 2  \\\n",
       "0           0        0  ...                   0                   0   \n",
       "1           0        0  ...                   0                   0   \n",
       "2           0        0  ...                   0                   0   \n",
       "3           0        0  ...                   0                   0   \n",
       "4           0        0  ...                   0                   0   \n",
       "...       ...      ...  ...                 ...                 ...   \n",
       "9995        1        0  ...                   0                   0   \n",
       "9996        1        0  ...                   0                   0   \n",
       "9997        1        0  ...                   0                   0   \n",
       "9998        1        0  ...                   0                   0   \n",
       "9999        1        0  ...                   0                   0   \n",
       "\n",
       "      A.4_DikeIncrease 0  A.4_DikeIncrease 1  A.4_DikeIncrease 2  \\\n",
       "0                      3                   6                  10   \n",
       "1                      3                   6                  10   \n",
       "2                      3                   6                  10   \n",
       "3                      3                   6                  10   \n",
       "4                      3                   6                  10   \n",
       "...                  ...                 ...                 ...   \n",
       "9995                   2                   0                   4   \n",
       "9996                   2                   0                   4   \n",
       "9997                   2                   0                   4   \n",
       "9998                   2                   0                   4   \n",
       "9999                   2                   0                   4   \n",
       "\n",
       "      A.5_DikeIncrease 0  A.5_DikeIncrease 1  A.5_DikeIncrease 2  scenario  \\\n",
       "0                      7                   2                   0         0   \n",
       "1                      7                   2                   0         1   \n",
       "2                      7                   2                   0         2   \n",
       "3                      7                   2                   0         3   \n",
       "4                      7                   2                   0         4   \n",
       "...                  ...                 ...                 ...       ...   \n",
       "9995                   1                   1                   3       995   \n",
       "9996                   1                   1                   3       996   \n",
       "9997                   1                   1                   3       997   \n",
       "9998                   1                   1                   3       998   \n",
       "9999                   1                   1                   3       999   \n",
       "\n",
       "      policy  \n",
       "0        547  \n",
       "1        547  \n",
       "2        547  \n",
       "3        547  \n",
       "4        547  \n",
       "...      ...  \n",
       "9995     508  \n",
       "9996     508  \n",
       "9997     508  \n",
       "9998     508  \n",
       "9999     508  \n",
       "\n",
       "[10000 rows x 33 columns]"
      ]
     },
     "execution_count": 51,
     "metadata": {},
     "output_type": "execute_result"
    }
   ],
   "source": [
    "reevaluation_df.iloc[:,19:52]"
   ]
  },
  {
   "cell_type": "code",
   "execution_count": 65,
   "metadata": {},
   "outputs": [
    {
     "data": {
      "application/vnd.plotly.v1+json": {
       "config": {
        "plotlyServerURL": "https://plot.ly"
       },
       "data": [
        {
         "dimensions": [
          {
           "label": "0_RfR 0",
           "values": [
            0,
            0,
            0,
            0,
            0,
            0,
            0,
            0,
            0,
            0
           ]
          },
          {
           "label": "0_RfR 1",
           "values": [
            0,
            0,
            0,
            0,
            0,
            0,
            0,
            0,
            0,
            0
           ]
          },
          {
           "label": "0_RfR 2",
           "values": [
            0,
            0,
            0,
            0,
            0,
            0,
            0,
            0,
            0,
            0
           ]
          },
          {
           "label": "1_RfR 0",
           "values": [
            0,
            0,
            0,
            0,
            0,
            0,
            0,
            0,
            0,
            0
           ]
          },
          {
           "label": "1_RfR 1",
           "values": [
            0,
            0,
            0,
            0,
            0,
            0,
            0,
            0,
            0,
            0
           ]
          },
          {
           "label": "1_RfR 2",
           "values": [
            0,
            0,
            0,
            0,
            0,
            0,
            0,
            0,
            0,
            0
           ]
          },
          {
           "label": "2_RfR 0",
           "values": [
            0,
            1,
            1,
            0,
            0,
            1,
            1,
            0,
            0,
            0
           ]
          },
          {
           "label": "2_RfR 1",
           "values": [
            1,
            1,
            1,
            0,
            1,
            1,
            0,
            0,
            0,
            1
           ]
          },
          {
           "label": "2_RfR 2",
           "values": [
            0,
            0,
            1,
            0,
            0,
            1,
            1,
            0,
            0,
            0
           ]
          },
          {
           "label": "3_RfR 0",
           "values": [
            0,
            0,
            0,
            0,
            0,
            0,
            0,
            0,
            0,
            0
           ]
          },
          {
           "label": "3_RfR 1",
           "values": [
            0,
            0,
            0,
            0,
            0,
            1,
            0,
            0,
            0,
            0
           ]
          },
          {
           "label": "3_RfR 2",
           "values": [
            0,
            0,
            0,
            0,
            0,
            0,
            0,
            0,
            0,
            0
           ]
          },
          {
           "label": "4_RfR 0",
           "values": [
            0,
            0,
            0,
            0,
            0,
            0,
            0,
            0,
            0,
            0
           ]
          },
          {
           "label": "4_RfR 1",
           "values": [
            0,
            0,
            0,
            0,
            0,
            0,
            0,
            0,
            0,
            0
           ]
          },
          {
           "label": "4_RfR 2",
           "values": [
            0,
            0,
            0,
            0,
            0,
            0,
            0,
            0,
            0,
            0
           ]
          },
          {
           "label": "EWS_DaysToThreat",
           "values": [
            0,
            0,
            0,
            0,
            0,
            0,
            0,
            0,
            0,
            0
           ]
          },
          {
           "label": "A.1_DikeIncrease 0",
           "values": [
            6,
            6,
            0,
            0,
            0,
            0,
            0,
            0,
            0,
            0
           ]
          },
          {
           "label": "A.1_DikeIncrease 1",
           "values": [
            6,
            0,
            3,
            2,
            0,
            1,
            0,
            1,
            0,
            0
           ]
          },
          {
           "label": "A.1_DikeIncrease 2",
           "values": [
            1,
            6,
            2,
            4,
            0,
            0,
            0,
            0,
            0,
            0
           ]
          },
          {
           "label": "A.2_DikeIncrease 0",
           "values": [
            2,
            5,
            0,
            7,
            2,
            6,
            5,
            3,
            5,
            5
           ]
          },
          {
           "label": "A.2_DikeIncrease 1",
           "values": [
            5,
            5,
            5,
            8,
            3,
            0,
            1,
            6,
            6,
            2
           ]
          },
          {
           "label": "A.2_DikeIncrease 2",
           "values": [
            0,
            1,
            1,
            2,
            7,
            7,
            6,
            6,
            0,
            2
           ]
          },
          {
           "label": "A.3_DikeIncrease 0",
           "values": [
            8,
            7,
            6,
            10,
            6,
            3,
            4,
            7,
            7,
            5
           ]
          },
          {
           "label": "A.3_DikeIncrease 1",
           "values": [
            0,
            0,
            0,
            0,
            0,
            0,
            0,
            0,
            0,
            0
           ]
          },
          {
           "label": "A.3_DikeIncrease 2",
           "values": [
            0,
            0,
            0,
            0,
            0,
            0,
            0,
            0,
            0,
            0
           ]
          },
          {
           "label": "A.4_DikeIncrease 0",
           "values": [
            2,
            3,
            4,
            6,
            2,
            2,
            6,
            3,
            7,
            8
           ]
          },
          {
           "label": "A.4_DikeIncrease 1",
           "values": [
            4,
            2,
            3,
            5,
            1,
            0,
            7,
            6,
            10,
            9
           ]
          },
          {
           "label": "A.4_DikeIncrease 2",
           "values": [
            3,
            3,
            4,
            3,
            3,
            4,
            5,
            10,
            6,
            5
           ]
          },
          {
           "label": "A.5_DikeIncrease 0",
           "values": [
            3,
            1,
            1,
            2,
            0,
            1,
            4,
            7,
            10,
            3
           ]
          },
          {
           "label": "A.5_DikeIncrease 1",
           "values": [
            2,
            2,
            7,
            0,
            2,
            1,
            7,
            2,
            3,
            6
           ]
          },
          {
           "label": "A.5_DikeIncrease 2",
           "values": [
            1,
            7,
            7,
            5,
            3,
            3,
            4,
            0,
            2,
            2
           ]
          },
          {
           "label": "scenario",
           "values": [
            499.5,
            499.5,
            499.5,
            499.5,
            499.5,
            499.5,
            499.5,
            499.5,
            499.5,
            499.5
           ]
          },
          {
           "label": "A3 Expected Annual Damage",
           "values": [
            1107601.7805924176,
            1152274.5927087604,
            604972.4539877396,
            386156.9829427978,
            4278400.088204807,
            6677713.4223153535,
            9368913.198849404,
            5689718.65680929,
            5112084.395471141,
            11074002.109922552
           ]
          },
          {
           "label": "color",
           "values": [
            null,
            null,
            null,
            null,
            null,
            null,
            null,
            null,
            null,
            null
           ]
          }
         ],
         "domain": {
          "x": [
           0,
           1
          ],
          "y": [
           0,
           1
          ]
         },
         "line": {
          "color": [
           null,
           null,
           null,
           null,
           null,
           null,
           null,
           null,
           null,
           null
          ],
          "coloraxis": "coloraxis"
         },
         "name": "",
         "type": "parcoords"
        }
       ],
       "layout": {
        "coloraxis": {
         "colorbar": {
          "title": {
           "text": "color"
          }
         },
         "colorscale": [
          [
           0,
           "#0d0887"
          ],
          [
           0.1111111111111111,
           "#46039f"
          ],
          [
           0.2222222222222222,
           "#7201a8"
          ],
          [
           0.3333333333333333,
           "#9c179e"
          ],
          [
           0.4444444444444444,
           "#bd3786"
          ],
          [
           0.5555555555555556,
           "#d8576b"
          ],
          [
           0.6666666666666666,
           "#ed7953"
          ],
          [
           0.7777777777777778,
           "#fb9f3a"
          ],
          [
           0.8888888888888888,
           "#fdca26"
          ],
          [
           1,
           "#f0f921"
          ]
         ]
        },
        "height": 400,
        "legend": {
         "tracegroupgap": 0
        },
        "margin": {
         "t": 60
        },
        "template": {
         "data": {
          "bar": [
           {
            "error_x": {
             "color": "#2a3f5f"
            },
            "error_y": {
             "color": "#2a3f5f"
            },
            "marker": {
             "line": {
              "color": "#E5ECF6",
              "width": 0.5
             },
             "pattern": {
              "fillmode": "overlay",
              "size": 10,
              "solidity": 0.2
             }
            },
            "type": "bar"
           }
          ],
          "barpolar": [
           {
            "marker": {
             "line": {
              "color": "#E5ECF6",
              "width": 0.5
             },
             "pattern": {
              "fillmode": "overlay",
              "size": 10,
              "solidity": 0.2
             }
            },
            "type": "barpolar"
           }
          ],
          "carpet": [
           {
            "aaxis": {
             "endlinecolor": "#2a3f5f",
             "gridcolor": "white",
             "linecolor": "white",
             "minorgridcolor": "white",
             "startlinecolor": "#2a3f5f"
            },
            "baxis": {
             "endlinecolor": "#2a3f5f",
             "gridcolor": "white",
             "linecolor": "white",
             "minorgridcolor": "white",
             "startlinecolor": "#2a3f5f"
            },
            "type": "carpet"
           }
          ],
          "choropleth": [
           {
            "colorbar": {
             "outlinewidth": 0,
             "ticks": ""
            },
            "type": "choropleth"
           }
          ],
          "contour": [
           {
            "colorbar": {
             "outlinewidth": 0,
             "ticks": ""
            },
            "colorscale": [
             [
              0,
              "#0d0887"
             ],
             [
              0.1111111111111111,
              "#46039f"
             ],
             [
              0.2222222222222222,
              "#7201a8"
             ],
             [
              0.3333333333333333,
              "#9c179e"
             ],
             [
              0.4444444444444444,
              "#bd3786"
             ],
             [
              0.5555555555555556,
              "#d8576b"
             ],
             [
              0.6666666666666666,
              "#ed7953"
             ],
             [
              0.7777777777777778,
              "#fb9f3a"
             ],
             [
              0.8888888888888888,
              "#fdca26"
             ],
             [
              1,
              "#f0f921"
             ]
            ],
            "type": "contour"
           }
          ],
          "contourcarpet": [
           {
            "colorbar": {
             "outlinewidth": 0,
             "ticks": ""
            },
            "type": "contourcarpet"
           }
          ],
          "heatmap": [
           {
            "colorbar": {
             "outlinewidth": 0,
             "ticks": ""
            },
            "colorscale": [
             [
              0,
              "#0d0887"
             ],
             [
              0.1111111111111111,
              "#46039f"
             ],
             [
              0.2222222222222222,
              "#7201a8"
             ],
             [
              0.3333333333333333,
              "#9c179e"
             ],
             [
              0.4444444444444444,
              "#bd3786"
             ],
             [
              0.5555555555555556,
              "#d8576b"
             ],
             [
              0.6666666666666666,
              "#ed7953"
             ],
             [
              0.7777777777777778,
              "#fb9f3a"
             ],
             [
              0.8888888888888888,
              "#fdca26"
             ],
             [
              1,
              "#f0f921"
             ]
            ],
            "type": "heatmap"
           }
          ],
          "heatmapgl": [
           {
            "colorbar": {
             "outlinewidth": 0,
             "ticks": ""
            },
            "colorscale": [
             [
              0,
              "#0d0887"
             ],
             [
              0.1111111111111111,
              "#46039f"
             ],
             [
              0.2222222222222222,
              "#7201a8"
             ],
             [
              0.3333333333333333,
              "#9c179e"
             ],
             [
              0.4444444444444444,
              "#bd3786"
             ],
             [
              0.5555555555555556,
              "#d8576b"
             ],
             [
              0.6666666666666666,
              "#ed7953"
             ],
             [
              0.7777777777777778,
              "#fb9f3a"
             ],
             [
              0.8888888888888888,
              "#fdca26"
             ],
             [
              1,
              "#f0f921"
             ]
            ],
            "type": "heatmapgl"
           }
          ],
          "histogram": [
           {
            "marker": {
             "pattern": {
              "fillmode": "overlay",
              "size": 10,
              "solidity": 0.2
             }
            },
            "type": "histogram"
           }
          ],
          "histogram2d": [
           {
            "colorbar": {
             "outlinewidth": 0,
             "ticks": ""
            },
            "colorscale": [
             [
              0,
              "#0d0887"
             ],
             [
              0.1111111111111111,
              "#46039f"
             ],
             [
              0.2222222222222222,
              "#7201a8"
             ],
             [
              0.3333333333333333,
              "#9c179e"
             ],
             [
              0.4444444444444444,
              "#bd3786"
             ],
             [
              0.5555555555555556,
              "#d8576b"
             ],
             [
              0.6666666666666666,
              "#ed7953"
             ],
             [
              0.7777777777777778,
              "#fb9f3a"
             ],
             [
              0.8888888888888888,
              "#fdca26"
             ],
             [
              1,
              "#f0f921"
             ]
            ],
            "type": "histogram2d"
           }
          ],
          "histogram2dcontour": [
           {
            "colorbar": {
             "outlinewidth": 0,
             "ticks": ""
            },
            "colorscale": [
             [
              0,
              "#0d0887"
             ],
             [
              0.1111111111111111,
              "#46039f"
             ],
             [
              0.2222222222222222,
              "#7201a8"
             ],
             [
              0.3333333333333333,
              "#9c179e"
             ],
             [
              0.4444444444444444,
              "#bd3786"
             ],
             [
              0.5555555555555556,
              "#d8576b"
             ],
             [
              0.6666666666666666,
              "#ed7953"
             ],
             [
              0.7777777777777778,
              "#fb9f3a"
             ],
             [
              0.8888888888888888,
              "#fdca26"
             ],
             [
              1,
              "#f0f921"
             ]
            ],
            "type": "histogram2dcontour"
           }
          ],
          "mesh3d": [
           {
            "colorbar": {
             "outlinewidth": 0,
             "ticks": ""
            },
            "type": "mesh3d"
           }
          ],
          "parcoords": [
           {
            "line": {
             "colorbar": {
              "outlinewidth": 0,
              "ticks": ""
             }
            },
            "type": "parcoords"
           }
          ],
          "pie": [
           {
            "automargin": true,
            "type": "pie"
           }
          ],
          "scatter": [
           {
            "fillpattern": {
             "fillmode": "overlay",
             "size": 10,
             "solidity": 0.2
            },
            "type": "scatter"
           }
          ],
          "scatter3d": [
           {
            "line": {
             "colorbar": {
              "outlinewidth": 0,
              "ticks": ""
             }
            },
            "marker": {
             "colorbar": {
              "outlinewidth": 0,
              "ticks": ""
             }
            },
            "type": "scatter3d"
           }
          ],
          "scattercarpet": [
           {
            "marker": {
             "colorbar": {
              "outlinewidth": 0,
              "ticks": ""
             }
            },
            "type": "scattercarpet"
           }
          ],
          "scattergeo": [
           {
            "marker": {
             "colorbar": {
              "outlinewidth": 0,
              "ticks": ""
             }
            },
            "type": "scattergeo"
           }
          ],
          "scattergl": [
           {
            "marker": {
             "colorbar": {
              "outlinewidth": 0,
              "ticks": ""
             }
            },
            "type": "scattergl"
           }
          ],
          "scattermapbox": [
           {
            "marker": {
             "colorbar": {
              "outlinewidth": 0,
              "ticks": ""
             }
            },
            "type": "scattermapbox"
           }
          ],
          "scatterpolar": [
           {
            "marker": {
             "colorbar": {
              "outlinewidth": 0,
              "ticks": ""
             }
            },
            "type": "scatterpolar"
           }
          ],
          "scatterpolargl": [
           {
            "marker": {
             "colorbar": {
              "outlinewidth": 0,
              "ticks": ""
             }
            },
            "type": "scatterpolargl"
           }
          ],
          "scatterternary": [
           {
            "marker": {
             "colorbar": {
              "outlinewidth": 0,
              "ticks": ""
             }
            },
            "type": "scatterternary"
           }
          ],
          "surface": [
           {
            "colorbar": {
             "outlinewidth": 0,
             "ticks": ""
            },
            "colorscale": [
             [
              0,
              "#0d0887"
             ],
             [
              0.1111111111111111,
              "#46039f"
             ],
             [
              0.2222222222222222,
              "#7201a8"
             ],
             [
              0.3333333333333333,
              "#9c179e"
             ],
             [
              0.4444444444444444,
              "#bd3786"
             ],
             [
              0.5555555555555556,
              "#d8576b"
             ],
             [
              0.6666666666666666,
              "#ed7953"
             ],
             [
              0.7777777777777778,
              "#fb9f3a"
             ],
             [
              0.8888888888888888,
              "#fdca26"
             ],
             [
              1,
              "#f0f921"
             ]
            ],
            "type": "surface"
           }
          ],
          "table": [
           {
            "cells": {
             "fill": {
              "color": "#EBF0F8"
             },
             "line": {
              "color": "white"
             }
            },
            "header": {
             "fill": {
              "color": "#C8D4E3"
             },
             "line": {
              "color": "white"
             }
            },
            "type": "table"
           }
          ]
         },
         "layout": {
          "annotationdefaults": {
           "arrowcolor": "#2a3f5f",
           "arrowhead": 0,
           "arrowwidth": 1
          },
          "autotypenumbers": "strict",
          "coloraxis": {
           "colorbar": {
            "outlinewidth": 0,
            "ticks": ""
           }
          },
          "colorscale": {
           "diverging": [
            [
             0,
             "#8e0152"
            ],
            [
             0.1,
             "#c51b7d"
            ],
            [
             0.2,
             "#de77ae"
            ],
            [
             0.3,
             "#f1b6da"
            ],
            [
             0.4,
             "#fde0ef"
            ],
            [
             0.5,
             "#f7f7f7"
            ],
            [
             0.6,
             "#e6f5d0"
            ],
            [
             0.7,
             "#b8e186"
            ],
            [
             0.8,
             "#7fbc41"
            ],
            [
             0.9,
             "#4d9221"
            ],
            [
             1,
             "#276419"
            ]
           ],
           "sequential": [
            [
             0,
             "#0d0887"
            ],
            [
             0.1111111111111111,
             "#46039f"
            ],
            [
             0.2222222222222222,
             "#7201a8"
            ],
            [
             0.3333333333333333,
             "#9c179e"
            ],
            [
             0.4444444444444444,
             "#bd3786"
            ],
            [
             0.5555555555555556,
             "#d8576b"
            ],
            [
             0.6666666666666666,
             "#ed7953"
            ],
            [
             0.7777777777777778,
             "#fb9f3a"
            ],
            [
             0.8888888888888888,
             "#fdca26"
            ],
            [
             1,
             "#f0f921"
            ]
           ],
           "sequentialminus": [
            [
             0,
             "#0d0887"
            ],
            [
             0.1111111111111111,
             "#46039f"
            ],
            [
             0.2222222222222222,
             "#7201a8"
            ],
            [
             0.3333333333333333,
             "#9c179e"
            ],
            [
             0.4444444444444444,
             "#bd3786"
            ],
            [
             0.5555555555555556,
             "#d8576b"
            ],
            [
             0.6666666666666666,
             "#ed7953"
            ],
            [
             0.7777777777777778,
             "#fb9f3a"
            ],
            [
             0.8888888888888888,
             "#fdca26"
            ],
            [
             1,
             "#f0f921"
            ]
           ]
          },
          "colorway": [
           "#636efa",
           "#EF553B",
           "#00cc96",
           "#ab63fa",
           "#FFA15A",
           "#19d3f3",
           "#FF6692",
           "#B6E880",
           "#FF97FF",
           "#FECB52"
          ],
          "font": {
           "color": "#2a3f5f"
          },
          "geo": {
           "bgcolor": "white",
           "lakecolor": "white",
           "landcolor": "#E5ECF6",
           "showlakes": true,
           "showland": true,
           "subunitcolor": "white"
          },
          "hoverlabel": {
           "align": "left"
          },
          "hovermode": "closest",
          "mapbox": {
           "style": "light"
          },
          "paper_bgcolor": "white",
          "plot_bgcolor": "#E5ECF6",
          "polar": {
           "angularaxis": {
            "gridcolor": "white",
            "linecolor": "white",
            "ticks": ""
           },
           "bgcolor": "#E5ECF6",
           "radialaxis": {
            "gridcolor": "white",
            "linecolor": "white",
            "ticks": ""
           }
          },
          "scene": {
           "xaxis": {
            "backgroundcolor": "#E5ECF6",
            "gridcolor": "white",
            "gridwidth": 2,
            "linecolor": "white",
            "showbackground": true,
            "ticks": "",
            "zerolinecolor": "white"
           },
           "yaxis": {
            "backgroundcolor": "#E5ECF6",
            "gridcolor": "white",
            "gridwidth": 2,
            "linecolor": "white",
            "showbackground": true,
            "ticks": "",
            "zerolinecolor": "white"
           },
           "zaxis": {
            "backgroundcolor": "#E5ECF6",
            "gridcolor": "white",
            "gridwidth": 2,
            "linecolor": "white",
            "showbackground": true,
            "ticks": "",
            "zerolinecolor": "white"
           }
          },
          "shapedefaults": {
           "line": {
            "color": "#2a3f5f"
           }
          },
          "ternary": {
           "aaxis": {
            "gridcolor": "white",
            "linecolor": "white",
            "ticks": ""
           },
           "baxis": {
            "gridcolor": "white",
            "linecolor": "white",
            "ticks": ""
           },
           "bgcolor": "#E5ECF6",
           "caxis": {
            "gridcolor": "white",
            "linecolor": "white",
            "ticks": ""
           }
          },
          "title": {
           "x": 0.05
          },
          "xaxis": {
           "automargin": true,
           "gridcolor": "white",
           "linecolor": "white",
           "ticks": "",
           "title": {
            "standoff": 15
           },
           "zerolinecolor": "white",
           "zerolinewidth": 2
          },
          "yaxis": {
           "automargin": true,
           "gridcolor": "white",
           "linecolor": "white",
           "ticks": "",
           "title": {
            "standoff": 15
           },
           "zerolinecolor": "white",
           "zerolinewidth": 2
          }
         }
        },
        "width": 2500
       }
      }
     },
     "metadata": {},
     "output_type": "display_data"
    }
   ],
   "source": [
    "fig9 = px.parallel_coordinates(\n",
    "    reevaluation_df.groupby(\"policy\").mean().iloc[:,19:52],\n",
    "    color=range(10),\n",
    "    width=2500,\n",
    "    height=400)\n",
    "fig9.show()\n",
    "fig9.write_image(\"./plots/ParallelPlot_dike3_iter2_AllSteps.png\")"
   ]
  },
  {
   "cell_type": "markdown",
   "metadata": {},
   "source": [
    "We can see in the parallell coordinated plot, that the 10 policies selected show quite some variation. This means that the province of Gelderland has multiple options to effectively protect their citizens. \n",
    "\n",
    "![](../figures/Gelderland_all_Policies.png )\n",
    "\n",
    "As this display of policies is rather messy, we display the 10 promising polices aggregated on timesteps."
   ]
  },
  {
   "cell_type": "code",
   "execution_count": 60,
   "metadata": {},
   "outputs": [],
   "source": [
    "robust_policies_tuple=reevaluation_df.groupby(\"policy\").mean().iloc[:,19:52]\n",
    "robust_policies=pd.DataFrame(robust_policies_tuple)"
   ]
  },
  {
   "cell_type": "code",
   "execution_count": 61,
   "metadata": {},
   "outputs": [],
   "source": [
    "robust_policies_agg = pd.DataFrame(columns=[\"RfR 0\", \"RfR 1\", \"RfR 2\", \"RfR 3\", \"RfR 4\", \"EWS\", \"A1 Increase\", \"A2 Increase\", \"A3 Increase\", \"A4 Increase\", \"A5 Increase\"])\n",
    "robust_policies_agg[\"RfR 0\"] = robust_policies[\"0_RfR 0\"] + robust_policies[\"0_RfR 1\"] + robust_policies[\"0_RfR 2\"]\n",
    "robust_policies_agg[\"RfR 1\"] = robust_policies[\"1_RfR 0\"] + robust_policies[\"1_RfR 1\"] + robust_policies[\"1_RfR 2\"]\n",
    "robust_policies_agg[\"RfR 2\"] = robust_policies[\"2_RfR 0\"] + robust_policies[\"2_RfR 1\"] + robust_policies[\"2_RfR 2\"]\n",
    "robust_policies_agg[\"RfR 3\"] = robust_policies[\"3_RfR 0\"] + robust_policies[\"3_RfR 1\"] + robust_policies[\"3_RfR 2\"]\n",
    "robust_policies_agg[\"RfR 4\"] = robust_policies[\"4_RfR 0\"] + robust_policies[\"4_RfR 1\"] + robust_policies[\"4_RfR 2\"]\n",
    "robust_policies_agg[\"EWS\"] = robust_policies[\"EWS_DaysToThreat\"]\n",
    "robust_policies_agg[\"A1 Increase\"] = robust_policies[\"A.1_DikeIncrease 0\"] + robust_policies[\"A.1_DikeIncrease 1\"] + robust_policies[\"A.1_DikeIncrease 2\"]\n",
    "robust_policies_agg[\"A2 Increase\"] = robust_policies[\"A.2_DikeIncrease 0\"] + robust_policies[\"A.2_DikeIncrease 1\"] + robust_policies[\"A.2_DikeIncrease 2\"]\n",
    "robust_policies_agg[\"A3 Increase\"] = robust_policies[\"A.3_DikeIncrease 0\"] + robust_policies[\"A.3_DikeIncrease 1\"] + robust_policies[\"A.3_DikeIncrease 2\"]\n",
    "robust_policies_agg[\"A4 Increase\"] = robust_policies[\"A.4_DikeIncrease 0\"] + robust_policies[\"A.4_DikeIncrease 1\"] + robust_policies[\"A.4_DikeIncrease 2\"]\n",
    "robust_policies_agg[\"A5 Increase\"] = robust_policies[\"A.5_DikeIncrease 0\"] + robust_policies[\"A.5_DikeIncrease 1\"] + robust_policies[\"A.5_DikeIncrease 2\"]\n"
   ]
  },
  {
   "cell_type": "code",
   "execution_count": 64,
   "metadata": {},
   "outputs": [
    {
     "data": {
      "application/vnd.plotly.v1+json": {
       "config": {
        "plotlyServerURL": "https://plot.ly"
       },
       "data": [
        {
         "dimensions": [
          {
           "label": "RfR 0",
           "values": [
            0,
            0,
            0,
            0,
            0,
            0,
            0,
            0,
            0,
            0
           ]
          },
          {
           "label": "RfR 1",
           "values": [
            0,
            0,
            0,
            0,
            0,
            0,
            0,
            0,
            0,
            0
           ]
          },
          {
           "label": "RfR 2",
           "values": [
            1,
            2,
            3,
            0,
            1,
            3,
            2,
            0,
            0,
            1
           ]
          },
          {
           "label": "RfR 3",
           "values": [
            0,
            0,
            0,
            0,
            0,
            1,
            0,
            0,
            0,
            0
           ]
          },
          {
           "label": "RfR 4",
           "values": [
            0,
            0,
            0,
            0,
            0,
            0,
            0,
            0,
            0,
            0
           ]
          },
          {
           "label": "A1 Increase",
           "values": [
            13,
            12,
            5,
            6,
            0,
            1,
            0,
            1,
            0,
            0
           ]
          },
          {
           "label": "A2 Increase",
           "values": [
            7,
            11,
            6,
            17,
            12,
            13,
            12,
            15,
            11,
            9
           ]
          },
          {
           "label": "A3 Increase",
           "values": [
            8,
            7,
            6,
            10,
            6,
            3,
            4,
            7,
            7,
            5
           ]
          },
          {
           "label": "A4 Increase",
           "values": [
            9,
            8,
            11,
            14,
            6,
            6,
            18,
            19,
            23,
            22
           ]
          },
          {
           "label": "A5 Increase",
           "values": [
            6,
            10,
            15,
            7,
            5,
            5,
            15,
            9,
            15,
            11
           ]
          }
         ],
         "domain": {
          "x": [
           0,
           1
          ],
          "y": [
           0,
           1
          ]
         },
         "line": {
          "color": [
           0,
           1,
           2,
           3,
           4,
           5,
           6,
           7,
           8,
           9
          ],
          "coloraxis": "coloraxis"
         },
         "name": "",
         "type": "parcoords"
        }
       ],
       "layout": {
        "coloraxis": {
         "colorbar": {
          "title": {
           "text": "color"
          }
         },
         "colorscale": [
          [
           0,
           "#0d0887"
          ],
          [
           0.1111111111111111,
           "#46039f"
          ],
          [
           0.2222222222222222,
           "#7201a8"
          ],
          [
           0.3333333333333333,
           "#9c179e"
          ],
          [
           0.4444444444444444,
           "#bd3786"
          ],
          [
           0.5555555555555556,
           "#d8576b"
          ],
          [
           0.6666666666666666,
           "#ed7953"
          ],
          [
           0.7777777777777778,
           "#fb9f3a"
          ],
          [
           0.8888888888888888,
           "#fdca26"
          ],
          [
           1,
           "#f0f921"
          ]
         ]
        },
        "height": 400,
        "legend": {
         "tracegroupgap": 0
        },
        "margin": {
         "t": 60
        },
        "template": {
         "data": {
          "bar": [
           {
            "error_x": {
             "color": "#2a3f5f"
            },
            "error_y": {
             "color": "#2a3f5f"
            },
            "marker": {
             "line": {
              "color": "#E5ECF6",
              "width": 0.5
             },
             "pattern": {
              "fillmode": "overlay",
              "size": 10,
              "solidity": 0.2
             }
            },
            "type": "bar"
           }
          ],
          "barpolar": [
           {
            "marker": {
             "line": {
              "color": "#E5ECF6",
              "width": 0.5
             },
             "pattern": {
              "fillmode": "overlay",
              "size": 10,
              "solidity": 0.2
             }
            },
            "type": "barpolar"
           }
          ],
          "carpet": [
           {
            "aaxis": {
             "endlinecolor": "#2a3f5f",
             "gridcolor": "white",
             "linecolor": "white",
             "minorgridcolor": "white",
             "startlinecolor": "#2a3f5f"
            },
            "baxis": {
             "endlinecolor": "#2a3f5f",
             "gridcolor": "white",
             "linecolor": "white",
             "minorgridcolor": "white",
             "startlinecolor": "#2a3f5f"
            },
            "type": "carpet"
           }
          ],
          "choropleth": [
           {
            "colorbar": {
             "outlinewidth": 0,
             "ticks": ""
            },
            "type": "choropleth"
           }
          ],
          "contour": [
           {
            "colorbar": {
             "outlinewidth": 0,
             "ticks": ""
            },
            "colorscale": [
             [
              0,
              "#0d0887"
             ],
             [
              0.1111111111111111,
              "#46039f"
             ],
             [
              0.2222222222222222,
              "#7201a8"
             ],
             [
              0.3333333333333333,
              "#9c179e"
             ],
             [
              0.4444444444444444,
              "#bd3786"
             ],
             [
              0.5555555555555556,
              "#d8576b"
             ],
             [
              0.6666666666666666,
              "#ed7953"
             ],
             [
              0.7777777777777778,
              "#fb9f3a"
             ],
             [
              0.8888888888888888,
              "#fdca26"
             ],
             [
              1,
              "#f0f921"
             ]
            ],
            "type": "contour"
           }
          ],
          "contourcarpet": [
           {
            "colorbar": {
             "outlinewidth": 0,
             "ticks": ""
            },
            "type": "contourcarpet"
           }
          ],
          "heatmap": [
           {
            "colorbar": {
             "outlinewidth": 0,
             "ticks": ""
            },
            "colorscale": [
             [
              0,
              "#0d0887"
             ],
             [
              0.1111111111111111,
              "#46039f"
             ],
             [
              0.2222222222222222,
              "#7201a8"
             ],
             [
              0.3333333333333333,
              "#9c179e"
             ],
             [
              0.4444444444444444,
              "#bd3786"
             ],
             [
              0.5555555555555556,
              "#d8576b"
             ],
             [
              0.6666666666666666,
              "#ed7953"
             ],
             [
              0.7777777777777778,
              "#fb9f3a"
             ],
             [
              0.8888888888888888,
              "#fdca26"
             ],
             [
              1,
              "#f0f921"
             ]
            ],
            "type": "heatmap"
           }
          ],
          "heatmapgl": [
           {
            "colorbar": {
             "outlinewidth": 0,
             "ticks": ""
            },
            "colorscale": [
             [
              0,
              "#0d0887"
             ],
             [
              0.1111111111111111,
              "#46039f"
             ],
             [
              0.2222222222222222,
              "#7201a8"
             ],
             [
              0.3333333333333333,
              "#9c179e"
             ],
             [
              0.4444444444444444,
              "#bd3786"
             ],
             [
              0.5555555555555556,
              "#d8576b"
             ],
             [
              0.6666666666666666,
              "#ed7953"
             ],
             [
              0.7777777777777778,
              "#fb9f3a"
             ],
             [
              0.8888888888888888,
              "#fdca26"
             ],
             [
              1,
              "#f0f921"
             ]
            ],
            "type": "heatmapgl"
           }
          ],
          "histogram": [
           {
            "marker": {
             "pattern": {
              "fillmode": "overlay",
              "size": 10,
              "solidity": 0.2
             }
            },
            "type": "histogram"
           }
          ],
          "histogram2d": [
           {
            "colorbar": {
             "outlinewidth": 0,
             "ticks": ""
            },
            "colorscale": [
             [
              0,
              "#0d0887"
             ],
             [
              0.1111111111111111,
              "#46039f"
             ],
             [
              0.2222222222222222,
              "#7201a8"
             ],
             [
              0.3333333333333333,
              "#9c179e"
             ],
             [
              0.4444444444444444,
              "#bd3786"
             ],
             [
              0.5555555555555556,
              "#d8576b"
             ],
             [
              0.6666666666666666,
              "#ed7953"
             ],
             [
              0.7777777777777778,
              "#fb9f3a"
             ],
             [
              0.8888888888888888,
              "#fdca26"
             ],
             [
              1,
              "#f0f921"
             ]
            ],
            "type": "histogram2d"
           }
          ],
          "histogram2dcontour": [
           {
            "colorbar": {
             "outlinewidth": 0,
             "ticks": ""
            },
            "colorscale": [
             [
              0,
              "#0d0887"
             ],
             [
              0.1111111111111111,
              "#46039f"
             ],
             [
              0.2222222222222222,
              "#7201a8"
             ],
             [
              0.3333333333333333,
              "#9c179e"
             ],
             [
              0.4444444444444444,
              "#bd3786"
             ],
             [
              0.5555555555555556,
              "#d8576b"
             ],
             [
              0.6666666666666666,
              "#ed7953"
             ],
             [
              0.7777777777777778,
              "#fb9f3a"
             ],
             [
              0.8888888888888888,
              "#fdca26"
             ],
             [
              1,
              "#f0f921"
             ]
            ],
            "type": "histogram2dcontour"
           }
          ],
          "mesh3d": [
           {
            "colorbar": {
             "outlinewidth": 0,
             "ticks": ""
            },
            "type": "mesh3d"
           }
          ],
          "parcoords": [
           {
            "line": {
             "colorbar": {
              "outlinewidth": 0,
              "ticks": ""
             }
            },
            "type": "parcoords"
           }
          ],
          "pie": [
           {
            "automargin": true,
            "type": "pie"
           }
          ],
          "scatter": [
           {
            "fillpattern": {
             "fillmode": "overlay",
             "size": 10,
             "solidity": 0.2
            },
            "type": "scatter"
           }
          ],
          "scatter3d": [
           {
            "line": {
             "colorbar": {
              "outlinewidth": 0,
              "ticks": ""
             }
            },
            "marker": {
             "colorbar": {
              "outlinewidth": 0,
              "ticks": ""
             }
            },
            "type": "scatter3d"
           }
          ],
          "scattercarpet": [
           {
            "marker": {
             "colorbar": {
              "outlinewidth": 0,
              "ticks": ""
             }
            },
            "type": "scattercarpet"
           }
          ],
          "scattergeo": [
           {
            "marker": {
             "colorbar": {
              "outlinewidth": 0,
              "ticks": ""
             }
            },
            "type": "scattergeo"
           }
          ],
          "scattergl": [
           {
            "marker": {
             "colorbar": {
              "outlinewidth": 0,
              "ticks": ""
             }
            },
            "type": "scattergl"
           }
          ],
          "scattermapbox": [
           {
            "marker": {
             "colorbar": {
              "outlinewidth": 0,
              "ticks": ""
             }
            },
            "type": "scattermapbox"
           }
          ],
          "scatterpolar": [
           {
            "marker": {
             "colorbar": {
              "outlinewidth": 0,
              "ticks": ""
             }
            },
            "type": "scatterpolar"
           }
          ],
          "scatterpolargl": [
           {
            "marker": {
             "colorbar": {
              "outlinewidth": 0,
              "ticks": ""
             }
            },
            "type": "scatterpolargl"
           }
          ],
          "scatterternary": [
           {
            "marker": {
             "colorbar": {
              "outlinewidth": 0,
              "ticks": ""
             }
            },
            "type": "scatterternary"
           }
          ],
          "surface": [
           {
            "colorbar": {
             "outlinewidth": 0,
             "ticks": ""
            },
            "colorscale": [
             [
              0,
              "#0d0887"
             ],
             [
              0.1111111111111111,
              "#46039f"
             ],
             [
              0.2222222222222222,
              "#7201a8"
             ],
             [
              0.3333333333333333,
              "#9c179e"
             ],
             [
              0.4444444444444444,
              "#bd3786"
             ],
             [
              0.5555555555555556,
              "#d8576b"
             ],
             [
              0.6666666666666666,
              "#ed7953"
             ],
             [
              0.7777777777777778,
              "#fb9f3a"
             ],
             [
              0.8888888888888888,
              "#fdca26"
             ],
             [
              1,
              "#f0f921"
             ]
            ],
            "type": "surface"
           }
          ],
          "table": [
           {
            "cells": {
             "fill": {
              "color": "#EBF0F8"
             },
             "line": {
              "color": "white"
             }
            },
            "header": {
             "fill": {
              "color": "#C8D4E3"
             },
             "line": {
              "color": "white"
             }
            },
            "type": "table"
           }
          ]
         },
         "layout": {
          "annotationdefaults": {
           "arrowcolor": "#2a3f5f",
           "arrowhead": 0,
           "arrowwidth": 1
          },
          "autotypenumbers": "strict",
          "coloraxis": {
           "colorbar": {
            "outlinewidth": 0,
            "ticks": ""
           }
          },
          "colorscale": {
           "diverging": [
            [
             0,
             "#8e0152"
            ],
            [
             0.1,
             "#c51b7d"
            ],
            [
             0.2,
             "#de77ae"
            ],
            [
             0.3,
             "#f1b6da"
            ],
            [
             0.4,
             "#fde0ef"
            ],
            [
             0.5,
             "#f7f7f7"
            ],
            [
             0.6,
             "#e6f5d0"
            ],
            [
             0.7,
             "#b8e186"
            ],
            [
             0.8,
             "#7fbc41"
            ],
            [
             0.9,
             "#4d9221"
            ],
            [
             1,
             "#276419"
            ]
           ],
           "sequential": [
            [
             0,
             "#0d0887"
            ],
            [
             0.1111111111111111,
             "#46039f"
            ],
            [
             0.2222222222222222,
             "#7201a8"
            ],
            [
             0.3333333333333333,
             "#9c179e"
            ],
            [
             0.4444444444444444,
             "#bd3786"
            ],
            [
             0.5555555555555556,
             "#d8576b"
            ],
            [
             0.6666666666666666,
             "#ed7953"
            ],
            [
             0.7777777777777778,
             "#fb9f3a"
            ],
            [
             0.8888888888888888,
             "#fdca26"
            ],
            [
             1,
             "#f0f921"
            ]
           ],
           "sequentialminus": [
            [
             0,
             "#0d0887"
            ],
            [
             0.1111111111111111,
             "#46039f"
            ],
            [
             0.2222222222222222,
             "#7201a8"
            ],
            [
             0.3333333333333333,
             "#9c179e"
            ],
            [
             0.4444444444444444,
             "#bd3786"
            ],
            [
             0.5555555555555556,
             "#d8576b"
            ],
            [
             0.6666666666666666,
             "#ed7953"
            ],
            [
             0.7777777777777778,
             "#fb9f3a"
            ],
            [
             0.8888888888888888,
             "#fdca26"
            ],
            [
             1,
             "#f0f921"
            ]
           ]
          },
          "colorway": [
           "#636efa",
           "#EF553B",
           "#00cc96",
           "#ab63fa",
           "#FFA15A",
           "#19d3f3",
           "#FF6692",
           "#B6E880",
           "#FF97FF",
           "#FECB52"
          ],
          "font": {
           "color": "#2a3f5f"
          },
          "geo": {
           "bgcolor": "white",
           "lakecolor": "white",
           "landcolor": "#E5ECF6",
           "showlakes": true,
           "showland": true,
           "subunitcolor": "white"
          },
          "hoverlabel": {
           "align": "left"
          },
          "hovermode": "closest",
          "mapbox": {
           "style": "light"
          },
          "paper_bgcolor": "white",
          "plot_bgcolor": "#E5ECF6",
          "polar": {
           "angularaxis": {
            "gridcolor": "white",
            "linecolor": "white",
            "ticks": ""
           },
           "bgcolor": "#E5ECF6",
           "radialaxis": {
            "gridcolor": "white",
            "linecolor": "white",
            "ticks": ""
           }
          },
          "scene": {
           "xaxis": {
            "backgroundcolor": "#E5ECF6",
            "gridcolor": "white",
            "gridwidth": 2,
            "linecolor": "white",
            "showbackground": true,
            "ticks": "",
            "zerolinecolor": "white"
           },
           "yaxis": {
            "backgroundcolor": "#E5ECF6",
            "gridcolor": "white",
            "gridwidth": 2,
            "linecolor": "white",
            "showbackground": true,
            "ticks": "",
            "zerolinecolor": "white"
           },
           "zaxis": {
            "backgroundcolor": "#E5ECF6",
            "gridcolor": "white",
            "gridwidth": 2,
            "linecolor": "white",
            "showbackground": true,
            "ticks": "",
            "zerolinecolor": "white"
           }
          },
          "shapedefaults": {
           "line": {
            "color": "#2a3f5f"
           }
          },
          "ternary": {
           "aaxis": {
            "gridcolor": "white",
            "linecolor": "white",
            "ticks": ""
           },
           "baxis": {
            "gridcolor": "white",
            "linecolor": "white",
            "ticks": ""
           },
           "bgcolor": "#E5ECF6",
           "caxis": {
            "gridcolor": "white",
            "linecolor": "white",
            "ticks": ""
           }
          },
          "title": {
           "x": 0.05
          },
          "xaxis": {
           "automargin": true,
           "gridcolor": "white",
           "linecolor": "white",
           "ticks": "",
           "title": {
            "standoff": 15
           },
           "zerolinecolor": "white",
           "zerolinewidth": 2
          },
          "yaxis": {
           "automargin": true,
           "gridcolor": "white",
           "linecolor": "white",
           "ticks": "",
           "title": {
            "standoff": 15
           },
           "zerolinecolor": "white",
           "zerolinewidth": 2
          }
         }
        },
        "width": 1500
       }
      }
     },
     "metadata": {},
     "output_type": "display_data"
    }
   ],
   "source": [
    "fig10 = px.parallel_coordinates(robust_policies_agg, color = range(10), width=1500, height=400, dimensions=[\"RfR 0\", \"RfR 1\", \"RfR 2\", \"RfR 3\", \"RfR 4\", \"A1 Increase\", \"A2 Increase\", \"A3 Increase\", \"A4 Increase\", \"A5 Increase\"])\n",
    "fig10.show()\n",
    "fig10.write_image(\"./plots/Selected_ParallelPlot_dike3_iter2_AllSteps.png\")"
   ]
  },
  {
   "cell_type": "markdown",
   "metadata": {
    "tags": []
   },
   "source": [
    "![](../figures/Gelderland_PromisingPolicies.png )"
   ]
  },
  {
   "cell_type": "markdown",
   "metadata": {},
   "source": [
    "## Robustness Assessment\n",
    "### Domain criterion\n",
    "For the last robustness assessment, we chose the domain criterion to assess the percentage of scenarios which fail to meet a certain outcome.  "
   ]
  },
  {
   "cell_type": "code",
   "execution_count": 55,
   "metadata": {},
   "outputs": [],
   "source": [
    "\n",
    "domain_criterion = pd.DataFrame(columns=[\"policy\", \"A3 Damage\", \"A3 Deaths\", \"Evacuation Costs\"])\n",
    "\n",
    "for policy in reevaluation_df[\"policy\"].unique():\n",
    "    policy_subset = reevaluation_df[reevaluation_df[\"policy\"] == policy]\n",
    "\n",
    "    a3_damage_dc = len(policy_subset[\"A3 Expected Annual Damage\"][policy_subset[\"A3 Expected Annual Damage\"] > 0])/1000\n",
    "    a3_deaths_dc = len(policy_subset[\"A3 Aggr Expected Number of Deaths\"][policy_subset[\"A3 Aggr Expected Number of Deaths\"] > 0])/1000\n",
    "    evac_costs = len(policy_subset[\"Evacuation Costs\"][policy_subset[\"Evacuation Costs\"] > 0])/1000\n",
    "\n",
    "    policy_data = pd.DataFrame({\"policy\": [policy], \"A3 Damage\": [a3_damage_dc], \"A3 Deaths\": [a3_deaths_dc], \"Evacuation Costs\": [evac_costs]})\n",
    "    domain_criterion = pd.concat([domain_criterion, policy_data], ignore_index=True)\n",
    "\n",
    "domain_criterion = domain_criterion.reset_index(drop=True)"
   ]
  },
  {
   "cell_type": "code",
   "execution_count": 56,
   "metadata": {},
   "outputs": [],
   "source": [
    "policy_costs = reevaluation_df.groupby(\"policy\").mean()\n",
    "policy_costs[\"Total Costs\"] = policy_costs[\"A3 Dike Investment Costs\"] +  policy_costs[\"Room for River Investment Costs\"]\n",
    "domain_criterion_costs = pd.merge(domain_criterion, policy_costs[[\"Total Costs\"]], how=\"left\", on=\"policy\")\n"
   ]
  },
  {
   "cell_type": "code",
   "execution_count": 57,
   "metadata": {},
   "outputs": [
    {
     "data": {
      "text/html": [
       "<div>\n",
       "<style scoped>\n",
       "    .dataframe tbody tr th:only-of-type {\n",
       "        vertical-align: middle;\n",
       "    }\n",
       "\n",
       "    .dataframe tbody tr th {\n",
       "        vertical-align: top;\n",
       "    }\n",
       "\n",
       "    .dataframe thead th {\n",
       "        text-align: right;\n",
       "    }\n",
       "</style>\n",
       "<table border=\"1\" class=\"dataframe\">\n",
       "  <thead>\n",
       "    <tr style=\"text-align: right;\">\n",
       "      <th></th>\n",
       "      <th>policy</th>\n",
       "      <th>A3 Damage</th>\n",
       "      <th>A3 Deaths</th>\n",
       "      <th>Evacuation Costs</th>\n",
       "      <th>Total Costs</th>\n",
       "    </tr>\n",
       "  </thead>\n",
       "  <tbody>\n",
       "    <tr>\n",
       "      <th>0</th>\n",
       "      <td>547</td>\n",
       "      <td>0.088</td>\n",
       "      <td>0.088</td>\n",
       "      <td>0.0</td>\n",
       "      <td>3.422156e+07</td>\n",
       "    </tr>\n",
       "    <tr>\n",
       "      <th>1</th>\n",
       "      <td>695</td>\n",
       "      <td>0.066</td>\n",
       "      <td>0.066</td>\n",
       "      <td>0.0</td>\n",
       "      <td>3.422156e+07</td>\n",
       "    </tr>\n",
       "    <tr>\n",
       "      <th>2</th>\n",
       "      <td>270</td>\n",
       "      <td>0.026</td>\n",
       "      <td>0.026</td>\n",
       "      <td>0.0</td>\n",
       "      <td>4.421502e+07</td>\n",
       "    </tr>\n",
       "    <tr>\n",
       "      <th>3</th>\n",
       "      <td>749</td>\n",
       "      <td>0.099</td>\n",
       "      <td>0.099</td>\n",
       "      <td>0.0</td>\n",
       "      <td>5.949840e+07</td>\n",
       "    </tr>\n",
       "    <tr>\n",
       "      <th>4</th>\n",
       "      <td>473</td>\n",
       "      <td>0.065</td>\n",
       "      <td>0.065</td>\n",
       "      <td>0.0</td>\n",
       "      <td>6.209880e+07</td>\n",
       "    </tr>\n",
       "    <tr>\n",
       "      <th>5</th>\n",
       "      <td>10</td>\n",
       "      <td>0.048</td>\n",
       "      <td>0.048</td>\n",
       "      <td>0.0</td>\n",
       "      <td>6.798504e+07</td>\n",
       "    </tr>\n",
       "    <tr>\n",
       "      <th>6</th>\n",
       "      <td>521</td>\n",
       "      <td>0.099</td>\n",
       "      <td>0.099</td>\n",
       "      <td>0.0</td>\n",
       "      <td>8.780338e+07</td>\n",
       "    </tr>\n",
       "    <tr>\n",
       "      <th>7</th>\n",
       "      <td>163</td>\n",
       "      <td>0.049</td>\n",
       "      <td>0.049</td>\n",
       "      <td>0.0</td>\n",
       "      <td>9.562156e+07</td>\n",
       "    </tr>\n",
       "    <tr>\n",
       "      <th>8</th>\n",
       "      <td>173</td>\n",
       "      <td>0.043</td>\n",
       "      <td>0.043</td>\n",
       "      <td>0.0</td>\n",
       "      <td>1.234988e+08</td>\n",
       "    </tr>\n",
       "    <tr>\n",
       "      <th>9</th>\n",
       "      <td>508</td>\n",
       "      <td>0.102</td>\n",
       "      <td>0.102</td>\n",
       "      <td>0.0</td>\n",
       "      <td>2.374980e+08</td>\n",
       "    </tr>\n",
       "  </tbody>\n",
       "</table>\n",
       "</div>"
      ],
      "text/plain": [
       "  policy  A3 Damage  A3 Deaths  Evacuation Costs   Total Costs\n",
       "0    547      0.088      0.088               0.0  3.422156e+07\n",
       "1    695      0.066      0.066               0.0  3.422156e+07\n",
       "2    270      0.026      0.026               0.0  4.421502e+07\n",
       "3    749      0.099      0.099               0.0  5.949840e+07\n",
       "4    473      0.065      0.065               0.0  6.209880e+07\n",
       "5     10      0.048      0.048               0.0  6.798504e+07\n",
       "6    521      0.099      0.099               0.0  8.780338e+07\n",
       "7    163      0.049      0.049               0.0  9.562156e+07\n",
       "8    173      0.043      0.043               0.0  1.234988e+08\n",
       "9    508      0.102      0.102               0.0  2.374980e+08"
      ]
     },
     "execution_count": 57,
     "metadata": {},
     "output_type": "execute_result"
    }
   ],
   "source": [
    "domain_criterion_costs"
   ]
  },
  {
   "cell_type": "markdown",
   "metadata": {},
   "source": [
    "As we can see, all policies have no evacuation costs in all the deep uncertainty runs. This is why we focus on the trade-offs in damages and deaths. The domain criterion being a dimensionless metric, we also add the total costs (Room for River costs plus Dike investment costs) in the parallel coordinated plot to show the \"price of robustness\". It is important to keep in mind that unlinke the domain criterion metrics, the total cost unit is monetary. "
   ]
  },
  {
   "cell_type": "code",
   "execution_count": 68,
   "metadata": {},
   "outputs": [
    {
     "data": {
      "application/vnd.plotly.v1+json": {
       "config": {
        "plotlyServerURL": "https://plot.ly"
       },
       "data": [
        {
         "dimensions": [
          {
           "label": "A3 Damage",
           "values": [
            0.088,
            0.066,
            0.026,
            0.099,
            0.065,
            0.048,
            0.099,
            0.049,
            0.043,
            0.102
           ]
          },
          {
           "label": "A3 Deaths",
           "values": [
            0.088,
            0.066,
            0.026,
            0.099,
            0.065,
            0.048,
            0.099,
            0.049,
            0.043,
            0.102
           ]
          },
          {
           "label": "Total Costs",
           "values": [
            34221561.73832255,
            34221561.73832255,
            44215020.36958183,
            59498397.130608946,
            62098797.718711615,
            67985037.90055943,
            87803379.54230644,
            95621561.73832256,
            123498797.71871161,
            237498032.4513614
           ]
          }
         ],
         "domain": {
          "x": [
           0,
           1
          ],
          "y": [
           0,
           1
          ]
         },
         "line": {
          "color": [
           547,
           695,
           270,
           749,
           473,
           10,
           521,
           163,
           173,
           508
          ],
          "coloraxis": "coloraxis"
         },
         "name": "",
         "type": "parcoords"
        }
       ],
       "layout": {
        "coloraxis": {
         "colorbar": {
          "title": {
           "text": "policy"
          }
         },
         "colorscale": [
          [
           0,
           "#0d0887"
          ],
          [
           0.1111111111111111,
           "#46039f"
          ],
          [
           0.2222222222222222,
           "#7201a8"
          ],
          [
           0.3333333333333333,
           "#9c179e"
          ],
          [
           0.4444444444444444,
           "#bd3786"
          ],
          [
           0.5555555555555556,
           "#d8576b"
          ],
          [
           0.6666666666666666,
           "#ed7953"
          ],
          [
           0.7777777777777778,
           "#fb9f3a"
          ],
          [
           0.8888888888888888,
           "#fdca26"
          ],
          [
           1,
           "#f0f921"
          ]
         ]
        },
        "legend": {
         "tracegroupgap": 0
        },
        "margin": {
         "t": 60
        },
        "template": {
         "data": {
          "bar": [
           {
            "error_x": {
             "color": "#2a3f5f"
            },
            "error_y": {
             "color": "#2a3f5f"
            },
            "marker": {
             "line": {
              "color": "#E5ECF6",
              "width": 0.5
             },
             "pattern": {
              "fillmode": "overlay",
              "size": 10,
              "solidity": 0.2
             }
            },
            "type": "bar"
           }
          ],
          "barpolar": [
           {
            "marker": {
             "line": {
              "color": "#E5ECF6",
              "width": 0.5
             },
             "pattern": {
              "fillmode": "overlay",
              "size": 10,
              "solidity": 0.2
             }
            },
            "type": "barpolar"
           }
          ],
          "carpet": [
           {
            "aaxis": {
             "endlinecolor": "#2a3f5f",
             "gridcolor": "white",
             "linecolor": "white",
             "minorgridcolor": "white",
             "startlinecolor": "#2a3f5f"
            },
            "baxis": {
             "endlinecolor": "#2a3f5f",
             "gridcolor": "white",
             "linecolor": "white",
             "minorgridcolor": "white",
             "startlinecolor": "#2a3f5f"
            },
            "type": "carpet"
           }
          ],
          "choropleth": [
           {
            "colorbar": {
             "outlinewidth": 0,
             "ticks": ""
            },
            "type": "choropleth"
           }
          ],
          "contour": [
           {
            "colorbar": {
             "outlinewidth": 0,
             "ticks": ""
            },
            "colorscale": [
             [
              0,
              "#0d0887"
             ],
             [
              0.1111111111111111,
              "#46039f"
             ],
             [
              0.2222222222222222,
              "#7201a8"
             ],
             [
              0.3333333333333333,
              "#9c179e"
             ],
             [
              0.4444444444444444,
              "#bd3786"
             ],
             [
              0.5555555555555556,
              "#d8576b"
             ],
             [
              0.6666666666666666,
              "#ed7953"
             ],
             [
              0.7777777777777778,
              "#fb9f3a"
             ],
             [
              0.8888888888888888,
              "#fdca26"
             ],
             [
              1,
              "#f0f921"
             ]
            ],
            "type": "contour"
           }
          ],
          "contourcarpet": [
           {
            "colorbar": {
             "outlinewidth": 0,
             "ticks": ""
            },
            "type": "contourcarpet"
           }
          ],
          "heatmap": [
           {
            "colorbar": {
             "outlinewidth": 0,
             "ticks": ""
            },
            "colorscale": [
             [
              0,
              "#0d0887"
             ],
             [
              0.1111111111111111,
              "#46039f"
             ],
             [
              0.2222222222222222,
              "#7201a8"
             ],
             [
              0.3333333333333333,
              "#9c179e"
             ],
             [
              0.4444444444444444,
              "#bd3786"
             ],
             [
              0.5555555555555556,
              "#d8576b"
             ],
             [
              0.6666666666666666,
              "#ed7953"
             ],
             [
              0.7777777777777778,
              "#fb9f3a"
             ],
             [
              0.8888888888888888,
              "#fdca26"
             ],
             [
              1,
              "#f0f921"
             ]
            ],
            "type": "heatmap"
           }
          ],
          "heatmapgl": [
           {
            "colorbar": {
             "outlinewidth": 0,
             "ticks": ""
            },
            "colorscale": [
             [
              0,
              "#0d0887"
             ],
             [
              0.1111111111111111,
              "#46039f"
             ],
             [
              0.2222222222222222,
              "#7201a8"
             ],
             [
              0.3333333333333333,
              "#9c179e"
             ],
             [
              0.4444444444444444,
              "#bd3786"
             ],
             [
              0.5555555555555556,
              "#d8576b"
             ],
             [
              0.6666666666666666,
              "#ed7953"
             ],
             [
              0.7777777777777778,
              "#fb9f3a"
             ],
             [
              0.8888888888888888,
              "#fdca26"
             ],
             [
              1,
              "#f0f921"
             ]
            ],
            "type": "heatmapgl"
           }
          ],
          "histogram": [
           {
            "marker": {
             "pattern": {
              "fillmode": "overlay",
              "size": 10,
              "solidity": 0.2
             }
            },
            "type": "histogram"
           }
          ],
          "histogram2d": [
           {
            "colorbar": {
             "outlinewidth": 0,
             "ticks": ""
            },
            "colorscale": [
             [
              0,
              "#0d0887"
             ],
             [
              0.1111111111111111,
              "#46039f"
             ],
             [
              0.2222222222222222,
              "#7201a8"
             ],
             [
              0.3333333333333333,
              "#9c179e"
             ],
             [
              0.4444444444444444,
              "#bd3786"
             ],
             [
              0.5555555555555556,
              "#d8576b"
             ],
             [
              0.6666666666666666,
              "#ed7953"
             ],
             [
              0.7777777777777778,
              "#fb9f3a"
             ],
             [
              0.8888888888888888,
              "#fdca26"
             ],
             [
              1,
              "#f0f921"
             ]
            ],
            "type": "histogram2d"
           }
          ],
          "histogram2dcontour": [
           {
            "colorbar": {
             "outlinewidth": 0,
             "ticks": ""
            },
            "colorscale": [
             [
              0,
              "#0d0887"
             ],
             [
              0.1111111111111111,
              "#46039f"
             ],
             [
              0.2222222222222222,
              "#7201a8"
             ],
             [
              0.3333333333333333,
              "#9c179e"
             ],
             [
              0.4444444444444444,
              "#bd3786"
             ],
             [
              0.5555555555555556,
              "#d8576b"
             ],
             [
              0.6666666666666666,
              "#ed7953"
             ],
             [
              0.7777777777777778,
              "#fb9f3a"
             ],
             [
              0.8888888888888888,
              "#fdca26"
             ],
             [
              1,
              "#f0f921"
             ]
            ],
            "type": "histogram2dcontour"
           }
          ],
          "mesh3d": [
           {
            "colorbar": {
             "outlinewidth": 0,
             "ticks": ""
            },
            "type": "mesh3d"
           }
          ],
          "parcoords": [
           {
            "line": {
             "colorbar": {
              "outlinewidth": 0,
              "ticks": ""
             }
            },
            "type": "parcoords"
           }
          ],
          "pie": [
           {
            "automargin": true,
            "type": "pie"
           }
          ],
          "scatter": [
           {
            "fillpattern": {
             "fillmode": "overlay",
             "size": 10,
             "solidity": 0.2
            },
            "type": "scatter"
           }
          ],
          "scatter3d": [
           {
            "line": {
             "colorbar": {
              "outlinewidth": 0,
              "ticks": ""
             }
            },
            "marker": {
             "colorbar": {
              "outlinewidth": 0,
              "ticks": ""
             }
            },
            "type": "scatter3d"
           }
          ],
          "scattercarpet": [
           {
            "marker": {
             "colorbar": {
              "outlinewidth": 0,
              "ticks": ""
             }
            },
            "type": "scattercarpet"
           }
          ],
          "scattergeo": [
           {
            "marker": {
             "colorbar": {
              "outlinewidth": 0,
              "ticks": ""
             }
            },
            "type": "scattergeo"
           }
          ],
          "scattergl": [
           {
            "marker": {
             "colorbar": {
              "outlinewidth": 0,
              "ticks": ""
             }
            },
            "type": "scattergl"
           }
          ],
          "scattermapbox": [
           {
            "marker": {
             "colorbar": {
              "outlinewidth": 0,
              "ticks": ""
             }
            },
            "type": "scattermapbox"
           }
          ],
          "scatterpolar": [
           {
            "marker": {
             "colorbar": {
              "outlinewidth": 0,
              "ticks": ""
             }
            },
            "type": "scatterpolar"
           }
          ],
          "scatterpolargl": [
           {
            "marker": {
             "colorbar": {
              "outlinewidth": 0,
              "ticks": ""
             }
            },
            "type": "scatterpolargl"
           }
          ],
          "scatterternary": [
           {
            "marker": {
             "colorbar": {
              "outlinewidth": 0,
              "ticks": ""
             }
            },
            "type": "scatterternary"
           }
          ],
          "surface": [
           {
            "colorbar": {
             "outlinewidth": 0,
             "ticks": ""
            },
            "colorscale": [
             [
              0,
              "#0d0887"
             ],
             [
              0.1111111111111111,
              "#46039f"
             ],
             [
              0.2222222222222222,
              "#7201a8"
             ],
             [
              0.3333333333333333,
              "#9c179e"
             ],
             [
              0.4444444444444444,
              "#bd3786"
             ],
             [
              0.5555555555555556,
              "#d8576b"
             ],
             [
              0.6666666666666666,
              "#ed7953"
             ],
             [
              0.7777777777777778,
              "#fb9f3a"
             ],
             [
              0.8888888888888888,
              "#fdca26"
             ],
             [
              1,
              "#f0f921"
             ]
            ],
            "type": "surface"
           }
          ],
          "table": [
           {
            "cells": {
             "fill": {
              "color": "#EBF0F8"
             },
             "line": {
              "color": "white"
             }
            },
            "header": {
             "fill": {
              "color": "#C8D4E3"
             },
             "line": {
              "color": "white"
             }
            },
            "type": "table"
           }
          ]
         },
         "layout": {
          "annotationdefaults": {
           "arrowcolor": "#2a3f5f",
           "arrowhead": 0,
           "arrowwidth": 1
          },
          "autotypenumbers": "strict",
          "coloraxis": {
           "colorbar": {
            "outlinewidth": 0,
            "ticks": ""
           }
          },
          "colorscale": {
           "diverging": [
            [
             0,
             "#8e0152"
            ],
            [
             0.1,
             "#c51b7d"
            ],
            [
             0.2,
             "#de77ae"
            ],
            [
             0.3,
             "#f1b6da"
            ],
            [
             0.4,
             "#fde0ef"
            ],
            [
             0.5,
             "#f7f7f7"
            ],
            [
             0.6,
             "#e6f5d0"
            ],
            [
             0.7,
             "#b8e186"
            ],
            [
             0.8,
             "#7fbc41"
            ],
            [
             0.9,
             "#4d9221"
            ],
            [
             1,
             "#276419"
            ]
           ],
           "sequential": [
            [
             0,
             "#0d0887"
            ],
            [
             0.1111111111111111,
             "#46039f"
            ],
            [
             0.2222222222222222,
             "#7201a8"
            ],
            [
             0.3333333333333333,
             "#9c179e"
            ],
            [
             0.4444444444444444,
             "#bd3786"
            ],
            [
             0.5555555555555556,
             "#d8576b"
            ],
            [
             0.6666666666666666,
             "#ed7953"
            ],
            [
             0.7777777777777778,
             "#fb9f3a"
            ],
            [
             0.8888888888888888,
             "#fdca26"
            ],
            [
             1,
             "#f0f921"
            ]
           ],
           "sequentialminus": [
            [
             0,
             "#0d0887"
            ],
            [
             0.1111111111111111,
             "#46039f"
            ],
            [
             0.2222222222222222,
             "#7201a8"
            ],
            [
             0.3333333333333333,
             "#9c179e"
            ],
            [
             0.4444444444444444,
             "#bd3786"
            ],
            [
             0.5555555555555556,
             "#d8576b"
            ],
            [
             0.6666666666666666,
             "#ed7953"
            ],
            [
             0.7777777777777778,
             "#fb9f3a"
            ],
            [
             0.8888888888888888,
             "#fdca26"
            ],
            [
             1,
             "#f0f921"
            ]
           ]
          },
          "colorway": [
           "#636efa",
           "#EF553B",
           "#00cc96",
           "#ab63fa",
           "#FFA15A",
           "#19d3f3",
           "#FF6692",
           "#B6E880",
           "#FF97FF",
           "#FECB52"
          ],
          "font": {
           "color": "#2a3f5f"
          },
          "geo": {
           "bgcolor": "white",
           "lakecolor": "white",
           "landcolor": "#E5ECF6",
           "showlakes": true,
           "showland": true,
           "subunitcolor": "white"
          },
          "hoverlabel": {
           "align": "left"
          },
          "hovermode": "closest",
          "mapbox": {
           "style": "light"
          },
          "paper_bgcolor": "white",
          "plot_bgcolor": "#E5ECF6",
          "polar": {
           "angularaxis": {
            "gridcolor": "white",
            "linecolor": "white",
            "ticks": ""
           },
           "bgcolor": "#E5ECF6",
           "radialaxis": {
            "gridcolor": "white",
            "linecolor": "white",
            "ticks": ""
           }
          },
          "scene": {
           "xaxis": {
            "backgroundcolor": "#E5ECF6",
            "gridcolor": "white",
            "gridwidth": 2,
            "linecolor": "white",
            "showbackground": true,
            "ticks": "",
            "zerolinecolor": "white"
           },
           "yaxis": {
            "backgroundcolor": "#E5ECF6",
            "gridcolor": "white",
            "gridwidth": 2,
            "linecolor": "white",
            "showbackground": true,
            "ticks": "",
            "zerolinecolor": "white"
           },
           "zaxis": {
            "backgroundcolor": "#E5ECF6",
            "gridcolor": "white",
            "gridwidth": 2,
            "linecolor": "white",
            "showbackground": true,
            "ticks": "",
            "zerolinecolor": "white"
           }
          },
          "shapedefaults": {
           "line": {
            "color": "#2a3f5f"
           }
          },
          "ternary": {
           "aaxis": {
            "gridcolor": "white",
            "linecolor": "white",
            "ticks": ""
           },
           "baxis": {
            "gridcolor": "white",
            "linecolor": "white",
            "ticks": ""
           },
           "bgcolor": "#E5ECF6",
           "caxis": {
            "gridcolor": "white",
            "linecolor": "white",
            "ticks": ""
           }
          },
          "title": {
           "x": 0.05
          },
          "xaxis": {
           "automargin": true,
           "gridcolor": "white",
           "linecolor": "white",
           "ticks": "",
           "title": {
            "standoff": 15
           },
           "zerolinecolor": "white",
           "zerolinewidth": 2
          },
          "yaxis": {
           "automargin": true,
           "gridcolor": "white",
           "linecolor": "white",
           "ticks": "",
           "title": {
            "standoff": 15
           },
           "zerolinecolor": "white",
           "zerolinewidth": 2
          }
         }
        }
       }
      }
     },
     "metadata": {},
     "output_type": "display_data"
    }
   ],
   "source": [
    "fig11 = px.parallel_coordinates(domain_criterion_costs, color = \"policy\", dimensions=[\"A3 Damage\",\"A3 Deaths\", \"Total Costs\"])\n",
    "fig11.show()\n",
    "fig11.write_image(\"./plots/ParallelPlot_dike3_iter2.png\")"
   ]
  },
  {
   "cell_type": "markdown",
   "metadata": {},
   "source": [
    "![](../figures/Gelderland_RobustPolicies.png)"
   ]
  },
  {
   "cell_type": "markdown",
   "metadata": {},
   "source": [
    "As the results show, policies 980, 1144 and 1520 shows very promising results in terms of robustness. When it comes to cost, it can be seen that robustness comes along with a higher cost. It is also worth to point out that policy 980 outperforms policy 1520 having the same robustness results, but a lower cost.  "
   ]
  },
  {
   "cell_type": "markdown",
   "metadata": {},
   "source": [
    "## Scenario Discovery: PRIM\n",
    "At the last stage of Multi-Scenario MORDM, we will conduct another scenario dicovery using the PRIM algorithm to specifically show under which scenarios these policies fail. We consider a policy failed when either deaths or damage occurs. "
   ]
  },
  {
   "cell_type": "code",
   "execution_count": 69,
   "metadata": {},
   "outputs": [
    {
     "name": "stderr",
     "output_type": "stream",
     "text": [
      "[MainProcess/INFO] 10000 points remaining, containing 685 cases of interest\n",
      "[MainProcess/INFO] mean: 0.7235294117647059, mass: 0.051, coverage: 0.5386861313868613, density: 0.7235294117647059 restricted_dimensions: 5\n"
     ]
    }
   ],
   "source": [
    "outcomes[\"condition\"] = outcomes[\"A3 Expected Annual Damage\"] + outcomes[\"A3 Aggr Expected Number of Deaths\"]\n",
    "x = experiments.iloc[:,0:19]\n",
    "y = outcomes[\"condition\"] > 0\n",
    "prim_alg = prim.Prim(x,y, threshold=0.5)\n",
    "box = prim_alg.find_box()"
   ]
  },
  {
   "cell_type": "code",
   "execution_count": 71,
   "metadata": {},
   "outputs": [
    {
     "data": {
      "image/png": "[encoded data removed]",
      "text/plain": [
       "<Figure size 640x480 with 2 Axes>"
      ]
     },
     "metadata": {},
     "output_type": "display_data"
    }
   ],
   "source": [
    "fig12 = box.inspect_tradeoff()\n",
    "fig12 = box.show_tradeoff()\n",
    "fig12.savefig(\"./plots/PRIM_tradeoff_dike3_iter2.png\")"
   ]
  },
  {
   "cell_type": "markdown",
   "metadata": {},
   "source": [
    "We select box 30 as it shows a good tradeoff between density and coverage"
   ]
  },
  {
   "cell_type": "code",
   "execution_count": 72,
   "metadata": {},
   "outputs": [
    {
     "name": "stdout",
     "output_type": "stream",
     "text": [
      "coverage     1.000000\n",
      "density      0.115126\n",
      "id          10.000000\n",
      "mass         0.595000\n",
      "mean         0.115126\n",
      "res_dim      1.000000\n",
      "Name: 10, dtype: float64\n",
      "\n",
      "             box 10                                 \n",
      "                min       max qp value      qp value\n",
      "A.3_pfail  0.000755  0.594873      NaN  3.392711e-39\n",
      "\n"
     ]
    },
    {
     "data": {
      "text/plain": [
       "[None]"
      ]
     },
     "execution_count": 72,
     "metadata": {},
     "output_type": "execute_result"
    }
   ],
   "source": [
    "n_box = 10\n",
    "box.inspect(n_box)"
   ]
  }
 ],
 "metadata": {
  "kernelspec": {
   "display_name": "Python 3 (ipykernel)",
   "language": "python",
   "name": "python3"
  },
  "language_info": {
   "codemirror_mode": {
    "name": "ipython",
    "version": 3
   },
   "file_extension": ".py",
   "mimetype": "text/x-python",
   "name": "python",
   "nbconvert_exporter": "python",
   "pygments_lexer": "ipython3",
   "version": "3.11.3"
  }
 },
 "nbformat": 4,
 "nbformat_minor": 2
}
