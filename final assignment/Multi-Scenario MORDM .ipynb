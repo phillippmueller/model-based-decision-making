{
 "cells": [
  {
   "cell_type": "markdown",
   "metadata": {},
   "source": [
    "# Multi-Scenario MORDM Gelderland\n",
    "This Jupyter Notebook uses the model developed by [Ciullo et al. (2019)](https://scholar.google.com/citations?hl=en&user=fDZCVVYAAAAJ&view_op=list_works&sortby=pubdate#d=gs_md_cita-d&u=%2Fcitations%3Fview_op%3Dview_citation%26hl%3Den%26user%3DfDZCVVYAAAAJ%26sortby%3Dpubdate%26citation_for_view%3DfDZCVVYAAAAJ%3AqjMakFHDy7sC%26tzom%3D-120) and the [ema_workbench by Jan Kwakkel](https://github.com/quaquel/EMAworkbench) to evaluate possible strategies for the Gelderland province to increase its resilience to flood risk. It is specifically aimed towards finding optimal strategies for the Gelderland province, namely minimizing casualties and damages across the model runtime in dike rings 1-3 and minimizing dike investment costs for all dike rings. "
   ]
  },
  {
   "cell_type": "markdown",
   "metadata": {},
   "source": [
    "## Imports"
   ]
  },
  {
   "cell_type": "code",
   "execution_count": 118,
   "metadata": {},
   "outputs": [
    {
     "data": {
      "text/plain": [
       "<Logger EMA (DEBUG)>"
      ]
     },
     "execution_count": 118,
     "metadata": {},
     "output_type": "execute_result"
    }
   ],
   "source": [
    "# Standard Imports\n",
    "import pandas as pd\n",
    "import numpy as np\n",
    "import seaborn as sns\n",
    "import matplotlib.pyplot as plt\n",
    "import copy\n",
    "import networkx as nx\n",
    "import scipy as sp\n",
    "import plotly.express as px\n",
    "import altair as alt\n",
    "\n",
    "# Workbench Imports\n",
    "from ema_workbench import (Model, MultiprocessingEvaluator, ScalarOutcome, RealParameter, IntegerParameter, CategoricalParameter, optimize, Scenario, Constant, ema_logging,perform_experiments, SequentialEvaluator, Policy)\n",
    "from ema_workbench.em_framework.optimization import EpsilonProgress, HyperVolume\n",
    "from ema_workbench.util import ema_logging, save_results, load_results\n",
    "from ema_workbench.em_framework.samplers import sample_levers, sample_uncertainties\n",
    "#from ema_workbench.em_framework.evaluators import LHS, SOBOL, MORRIS, SequentialEvaluator, BaseEvaluator\n",
    "from ema_workbench.analysis import parcoords, prim\n",
    "\n",
    "\n",
    "ema_logging.log_to_stderr(ema_logging.INFO)\n"
   ]
  },
  {
   "cell_type": "markdown",
   "metadata": {},
   "source": [
    "## General Model Setup\n",
    "Here, we specify the numbers for the experiment and optimization runs to perform as well as other parameters used in this notebook"
   ]
  },
  {
   "cell_type": "code",
   "execution_count": 41,
   "metadata": {},
   "outputs": [],
   "source": [
    "# Number of nfes for the Model\n",
    "n_nfe = 50000\n",
    "\n",
    "#Number of scenarios for the deep uncertainty evaluation of promising scenarios\n",
    "n_scenarios = 10000\n",
    "\n",
    "#Path to the reference scenarios to use for MORDM\n",
    "path_noaction = \"./results/10000Scenarios_NoAction_PF1.tar.gz\"\n",
    "\n",
    "#Province name\n",
    "province = \"DikeRing3\""
   ]
  },
  {
   "cell_type": "markdown",
   "metadata": {},
   "source": [
    "## Model Specification\n",
    "Problem Formulation 6, specified in the problem_formulation.py file is calles to initiate the dike model from Gelderlands framing. "
   ]
  },
  {
   "cell_type": "code",
   "execution_count": 3,
   "metadata": {},
   "outputs": [],
   "source": [
    "# Model Imports\n",
    "from dike_model_function import DikeNetwork\n",
    "from problem_formulation import get_model_for_problem_formulation\n",
    "\n",
    "dike_model, planning_steps = get_model_for_problem_formulation(7)\n",
    "uncertainties = copy.deepcopy(dike_model.uncertainties)\n",
    "levers = copy.deepcopy(dike_model.levers)"
   ]
  },
  {
   "cell_type": "markdown",
   "metadata": {},
   "source": [
    "## Specify reference scenario\n",
    "Firstly, we load the results from the open exploration with no action taken to select a reference scenario that shows the most expected number of deaths. This, so-to-say worst-case scenario is then used to find the optimal policies using the MORDM approach.  "
   ]
  },
  {
   "cell_type": "code",
   "execution_count": 170,
   "metadata": {},
   "outputs": [
    {
     "name": "stderr",
     "output_type": "stream",
     "text": [
      "[MainProcess/INFO] results loaded successfully from C:\\Users\\NKondhalkar\\Documents\\final assignment\\results\\10000Scenarios_NoAction_PF1.tar.gz\n"
     ]
    }
   ],
   "source": [
    "experiments, outcomes = load_results(path_noaction)"
   ]
  },
  {
   "cell_type": "code",
   "execution_count": 5,
   "metadata": {},
   "outputs": [],
   "source": [
    "outcomes_df = pd.DataFrame(outcomes)\n",
    "\n",
    "#Get index of worst scenario\n",
    "index_wc = outcomes_df.sort_values(\"Expected Number of Deaths\").tail(1).index\n",
    "experiment_wc = experiments.iloc[index_wc]\n",
    "reference_scenarios = [Scenario(f\"{index}\", **row) for index, row in experiment_wc.iloc[0:,0:19].iterrows()]"
   ]
  },
  {
   "cell_type": "markdown",
   "metadata": {},
   "source": [
    "## Run Optimization on Worst Case Reference Scenario\n",
    "Due to limited computational resources, we ran 20000 function evaluations in the epsilon-NSGA II multi-objective evolutionary algorithm (MOEA) implemented in the ema_workbench. As a convergence metric, the epsilon progress was used. "
   ]
  },
  {
   "cell_type": "code",
   "execution_count": 14,
   "metadata": {},
   "outputs": [
    {
     "name": "stderr",
     "output_type": "stream",
     "text": [
      "[MainProcess/INFO] pool started with 1 workers\n",
      "20435it [1:19:53,  4.26it/s]                                                   \n",
      "[MainProcess/INFO] optimization completed, found 184 solutions\n",
      "[MainProcess/INFO] terminating pool\n"
     ]
    }
   ],
   "source": [
    "ema_logging.log_to_stderr(ema_logging.INFO)\n",
    "\n",
    "convergence_metrics = [EpsilonProgress()]\n",
    "\n",
    "with MultiprocessingEvaluator(dike_model) as evaluator:\n",
    "    results_epsilon_0_1 = evaluator.optimize(nfe=n_nfe, epsilons=[0.1,]*len(dike_model.outcomes), \n",
    "    reference = reference_scenarios[0], convergence= convergence_metrics, searchover=\"levers\")"
   ]
  },
  {
   "cell_type": "code",
   "execution_count": 15,
   "metadata": {},
   "outputs": [],
   "source": [
    "results, convergence = results_epsilon_0_1"
   ]
  },
  {
   "cell_type": "code",
   "execution_count": 30,
   "metadata": {},
   "outputs": [
    {
     "name": "stderr",
     "output_type": "stream",
     "text": [
      "[MainProcess/INFO] results saved successfully to C:\\Users\\NKondhalkar\\Documents\\final assignment\\results\\20000nfe_BaseCaseMORDM_Gelderland_optim_results.tar.gz\n"
     ]
    }
   ],
   "source": [
    "# Unpack the values\n",
    "experiments_convergence, convergence = results_epsilon_0_1\n",
    "\n",
    "# Separate experiments and outcomes\n",
    "experiments = experiments_convergence.iloc[:, :11]  # adjust index as per your data\n",
    "outcomes = experiments_convergence.iloc[:, 11:]\n",
    "\n",
    "# Combine experiments and outcomes into one tuple\n",
    "optim_results = (experiments, outcomes)\n",
    "\n",
    "# Save the optimization results (experiments and outcomes)\n",
    "save_results(optim_results, \"./results/\"+str(n_nfe)+\"nfe_BaseCaseMORDM_\"+province+\"_optim_results.tar.gz\")\n",
    "\n",
    "# Save the convergence data separately as a CSV file\n",
    "convergence.to_csv(\"./results/\"+str(n_nfe)+\"nfe_BaseCaseMORDM_\"+province+\"_convergence.csv\")\n"
   ]
  },
  {
   "cell_type": "code",
   "execution_count": 181,
   "metadata": {},
   "outputs": [
    {
     "name": "stderr",
     "output_type": "stream",
     "text": [
      "[MainProcess/INFO] results loaded successfully from C:\\Users\\NKondhalkar\\Documents\\final assignment\\results\\50000nfe_BaseCase6MORDM_DikeRing3_optim_results.tar.gz\n"
     ]
    }
   ],
   "source": [
    "convergence= pd.read_csv(\"./results/50000nfe_BaseCase6MORDM_DikeRing3_convergence.csv\")\n",
    "results=load_results(\"./results/50000nfe_BaseCase6MORDM_DikeRing3_optim_results.tar.gz\")"
   ]
  },
  {
   "cell_type": "markdown",
   "metadata": {},
   "source": [
    "### Check for Convergence\n",
    "The optimization algorithm is now checked for convergence based on the Epsilon progress "
   ]
  },
  {
   "cell_type": "code",
   "execution_count": 28,
   "metadata": {},
   "outputs": [
    {
     "data": {
      "application/vnd.plotly.v1+json": {
       "config": {
        "plotlyServerURL": "https://plot.ly"
       },
       "data": [
        {
         "hovertemplate": "nfe=%{x}<br>epsilon_progress=%{y}<extra></extra>",
         "legendgroup": "",
         "line": {
          "color": "#636efa",
          "dash": "solid"
         },
         "marker": {
          "symbol": "circle"
         },
         "mode": "lines",
         "name": "",
         "orientation": "v",
         "showlegend": false,
         "type": "scatter",
         "x": [
          0,
          100,
          1199,
          2288,
          3378,
          4469,
          5557,
          6650,
          7744,
          8837,
          9929,
          11138,
          12353,
          13576,
          14792,
          16010,
          17228,
          18441,
          19653,
          20868,
          22084,
          23304,
          24520,
          25739,
          26958,
          28177,
          29399,
          30614,
          31834,
          33054,
          34275,
          35496,
          36717,
          37938,
          39156,
          40370,
          41587,
          42801,
          44022,
          45235,
          46455,
          47671,
          48888,
          50104
         ],
         "xaxis": "x",
         "y": [
          0,
          42,
          312,
          429,
          470,
          494,
          506,
          511,
          514,
          518,
          520,
          533,
          534,
          535,
          538,
          540,
          540,
          541,
          542,
          542,
          542,
          542,
          542,
          542,
          542,
          542,
          542,
          542,
          542,
          542,
          542,
          542,
          542,
          542,
          542,
          542,
          542,
          542,
          542,
          542,
          542,
          542,
          542,
          542
         ],
         "yaxis": "y"
        }
       ],
       "layout": {
        "legend": {
         "tracegroupgap": 0
        },
        "template": {
         "data": {
          "bar": [
           {
            "error_x": {
             "color": "#2a3f5f"
            },
            "error_y": {
             "color": "#2a3f5f"
            },
            "marker": {
             "line": {
              "color": "#E5ECF6",
              "width": 0.5
             },
             "pattern": {
              "fillmode": "overlay",
              "size": 10,
              "solidity": 0.2
             }
            },
            "type": "bar"
           }
          ],
          "barpolar": [
           {
            "marker": {
             "line": {
              "color": "#E5ECF6",
              "width": 0.5
             },
             "pattern": {
              "fillmode": "overlay",
              "size": 10,
              "solidity": 0.2
             }
            },
            "type": "barpolar"
           }
          ],
          "carpet": [
           {
            "aaxis": {
             "endlinecolor": "#2a3f5f",
             "gridcolor": "white",
             "linecolor": "white",
             "minorgridcolor": "white",
             "startlinecolor": "#2a3f5f"
            },
            "baxis": {
             "endlinecolor": "#2a3f5f",
             "gridcolor": "white",
             "linecolor": "white",
             "minorgridcolor": "white",
             "startlinecolor": "#2a3f5f"
            },
            "type": "carpet"
           }
          ],
          "choropleth": [
           {
            "colorbar": {
             "outlinewidth": 0,
             "ticks": ""
            },
            "type": "choropleth"
           }
          ],
          "contour": [
           {
            "colorbar": {
             "outlinewidth": 0,
             "ticks": ""
            },
            "colorscale": [
             [
              0,
              "#0d0887"
             ],
             [
              0.1111111111111111,
              "#46039f"
             ],
             [
              0.2222222222222222,
              "#7201a8"
             ],
             [
              0.3333333333333333,
              "#9c179e"
             ],
             [
              0.4444444444444444,
              "#bd3786"
             ],
             [
              0.5555555555555556,
              "#d8576b"
             ],
             [
              0.6666666666666666,
              "#ed7953"
             ],
             [
              0.7777777777777778,
              "#fb9f3a"
             ],
             [
              0.8888888888888888,
              "#fdca26"
             ],
             [
              1,
              "#f0f921"
             ]
            ],
            "type": "contour"
           }
          ],
          "contourcarpet": [
           {
            "colorbar": {
             "outlinewidth": 0,
             "ticks": ""
            },
            "type": "contourcarpet"
           }
          ],
          "heatmap": [
           {
            "colorbar": {
             "outlinewidth": 0,
             "ticks": ""
            },
            "colorscale": [
             [
              0,
              "#0d0887"
             ],
             [
              0.1111111111111111,
              "#46039f"
             ],
             [
              0.2222222222222222,
              "#7201a8"
             ],
             [
              0.3333333333333333,
              "#9c179e"
             ],
             [
              0.4444444444444444,
              "#bd3786"
             ],
             [
              0.5555555555555556,
              "#d8576b"
             ],
             [
              0.6666666666666666,
              "#ed7953"
             ],
             [
              0.7777777777777778,
              "#fb9f3a"
             ],
             [
              0.8888888888888888,
              "#fdca26"
             ],
             [
              1,
              "#f0f921"
             ]
            ],
            "type": "heatmap"
           }
          ],
          "heatmapgl": [
           {
            "colorbar": {
             "outlinewidth": 0,
             "ticks": ""
            },
            "colorscale": [
             [
              0,
              "#0d0887"
             ],
             [
              0.1111111111111111,
              "#46039f"
             ],
             [
              0.2222222222222222,
              "#7201a8"
             ],
             [
              0.3333333333333333,
              "#9c179e"
             ],
             [
              0.4444444444444444,
              "#bd3786"
             ],
             [
              0.5555555555555556,
              "#d8576b"
             ],
             [
              0.6666666666666666,
              "#ed7953"
             ],
             [
              0.7777777777777778,
              "#fb9f3a"
             ],
             [
              0.8888888888888888,
              "#fdca26"
             ],
             [
              1,
              "#f0f921"
             ]
            ],
            "type": "heatmapgl"
           }
          ],
          "histogram": [
           {
            "marker": {
             "pattern": {
              "fillmode": "overlay",
              "size": 10,
              "solidity": 0.2
             }
            },
            "type": "histogram"
           }
          ],
          "histogram2d": [
           {
            "colorbar": {
             "outlinewidth": 0,
             "ticks": ""
            },
            "colorscale": [
             [
              0,
              "#0d0887"
             ],
             [
              0.1111111111111111,
              "#46039f"
             ],
             [
              0.2222222222222222,
              "#7201a8"
             ],
             [
              0.3333333333333333,
              "#9c179e"
             ],
             [
              0.4444444444444444,
              "#bd3786"
             ],
             [
              0.5555555555555556,
              "#d8576b"
             ],
             [
              0.6666666666666666,
              "#ed7953"
             ],
             [
              0.7777777777777778,
              "#fb9f3a"
             ],
             [
              0.8888888888888888,
              "#fdca26"
             ],
             [
              1,
              "#f0f921"
             ]
            ],
            "type": "histogram2d"
           }
          ],
          "histogram2dcontour": [
           {
            "colorbar": {
             "outlinewidth": 0,
             "ticks": ""
            },
            "colorscale": [
             [
              0,
              "#0d0887"
             ],
             [
              0.1111111111111111,
              "#46039f"
             ],
             [
              0.2222222222222222,
              "#7201a8"
             ],
             [
              0.3333333333333333,
              "#9c179e"
             ],
             [
              0.4444444444444444,
              "#bd3786"
             ],
             [
              0.5555555555555556,
              "#d8576b"
             ],
             [
              0.6666666666666666,
              "#ed7953"
             ],
             [
              0.7777777777777778,
              "#fb9f3a"
             ],
             [
              0.8888888888888888,
              "#fdca26"
             ],
             [
              1,
              "#f0f921"
             ]
            ],
            "type": "histogram2dcontour"
           }
          ],
          "mesh3d": [
           {
            "colorbar": {
             "outlinewidth": 0,
             "ticks": ""
            },
            "type": "mesh3d"
           }
          ],
          "parcoords": [
           {
            "line": {
             "colorbar": {
              "outlinewidth": 0,
              "ticks": ""
             }
            },
            "type": "parcoords"
           }
          ],
          "pie": [
           {
            "automargin": true,
            "type": "pie"
           }
          ],
          "scatter": [
           {
            "fillpattern": {
             "fillmode": "overlay",
             "size": 10,
             "solidity": 0.2
            },
            "type": "scatter"
           }
          ],
          "scatter3d": [
           {
            "line": {
             "colorbar": {
              "outlinewidth": 0,
              "ticks": ""
             }
            },
            "marker": {
             "colorbar": {
              "outlinewidth": 0,
              "ticks": ""
             }
            },
            "type": "scatter3d"
           }
          ],
          "scattercarpet": [
           {
            "marker": {
             "colorbar": {
              "outlinewidth": 0,
              "ticks": ""
             }
            },
            "type": "scattercarpet"
           }
          ],
          "scattergeo": [
           {
            "marker": {
             "colorbar": {
              "outlinewidth": 0,
              "ticks": ""
             }
            },
            "type": "scattergeo"
           }
          ],
          "scattergl": [
           {
            "marker": {
             "colorbar": {
              "outlinewidth": 0,
              "ticks": ""
             }
            },
            "type": "scattergl"
           }
          ],
          "scattermapbox": [
           {
            "marker": {
             "colorbar": {
              "outlinewidth": 0,
              "ticks": ""
             }
            },
            "type": "scattermapbox"
           }
          ],
          "scatterpolar": [
           {
            "marker": {
             "colorbar": {
              "outlinewidth": 0,
              "ticks": ""
             }
            },
            "type": "scatterpolar"
           }
          ],
          "scatterpolargl": [
           {
            "marker": {
             "colorbar": {
              "outlinewidth": 0,
              "ticks": ""
             }
            },
            "type": "scatterpolargl"
           }
          ],
          "scatterternary": [
           {
            "marker": {
             "colorbar": {
              "outlinewidth": 0,
              "ticks": ""
             }
            },
            "type": "scatterternary"
           }
          ],
          "surface": [
           {
            "colorbar": {
             "outlinewidth": 0,
             "ticks": ""
            },
            "colorscale": [
             [
              0,
              "#0d0887"
             ],
             [
              0.1111111111111111,
              "#46039f"
             ],
             [
              0.2222222222222222,
              "#7201a8"
             ],
             [
              0.3333333333333333,
              "#9c179e"
             ],
             [
              0.4444444444444444,
              "#bd3786"
             ],
             [
              0.5555555555555556,
              "#d8576b"
             ],
             [
              0.6666666666666666,
              "#ed7953"
             ],
             [
              0.7777777777777778,
              "#fb9f3a"
             ],
             [
              0.8888888888888888,
              "#fdca26"
             ],
             [
              1,
              "#f0f921"
             ]
            ],
            "type": "surface"
           }
          ],
          "table": [
           {
            "cells": {
             "fill": {
              "color": "#EBF0F8"
             },
             "line": {
              "color": "white"
             }
            },
            "header": {
             "fill": {
              "color": "#C8D4E3"
             },
             "line": {
              "color": "white"
             }
            },
            "type": "table"
           }
          ]
         },
         "layout": {
          "annotationdefaults": {
           "arrowcolor": "#2a3f5f",
           "arrowhead": 0,
           "arrowwidth": 1
          },
          "autotypenumbers": "strict",
          "coloraxis": {
           "colorbar": {
            "outlinewidth": 0,
            "ticks": ""
           }
          },
          "colorscale": {
           "diverging": [
            [
             0,
             "#8e0152"
            ],
            [
             0.1,
             "#c51b7d"
            ],
            [
             0.2,
             "#de77ae"
            ],
            [
             0.3,
             "#f1b6da"
            ],
            [
             0.4,
             "#fde0ef"
            ],
            [
             0.5,
             "#f7f7f7"
            ],
            [
             0.6,
             "#e6f5d0"
            ],
            [
             0.7,
             "#b8e186"
            ],
            [
             0.8,
             "#7fbc41"
            ],
            [
             0.9,
             "#4d9221"
            ],
            [
             1,
             "#276419"
            ]
           ],
           "sequential": [
            [
             0,
             "#0d0887"
            ],
            [
             0.1111111111111111,
             "#46039f"
            ],
            [
             0.2222222222222222,
             "#7201a8"
            ],
            [
             0.3333333333333333,
             "#9c179e"
            ],
            [
             0.4444444444444444,
             "#bd3786"
            ],
            [
             0.5555555555555556,
             "#d8576b"
            ],
            [
             0.6666666666666666,
             "#ed7953"
            ],
            [
             0.7777777777777778,
             "#fb9f3a"
            ],
            [
             0.8888888888888888,
             "#fdca26"
            ],
            [
             1,
             "#f0f921"
            ]
           ],
           "sequentialminus": [
            [
             0,
             "#0d0887"
            ],
            [
             0.1111111111111111,
             "#46039f"
            ],
            [
             0.2222222222222222,
             "#7201a8"
            ],
            [
             0.3333333333333333,
             "#9c179e"
            ],
            [
             0.4444444444444444,
             "#bd3786"
            ],
            [
             0.5555555555555556,
             "#d8576b"
            ],
            [
             0.6666666666666666,
             "#ed7953"
            ],
            [
             0.7777777777777778,
             "#fb9f3a"
            ],
            [
             0.8888888888888888,
             "#fdca26"
            ],
            [
             1,
             "#f0f921"
            ]
           ]
          },
          "colorway": [
           "#636efa",
           "#EF553B",
           "#00cc96",
           "#ab63fa",
           "#FFA15A",
           "#19d3f3",
           "#FF6692",
           "#B6E880",
           "#FF97FF",
           "#FECB52"
          ],
          "font": {
           "color": "#2a3f5f"
          },
          "geo": {
           "bgcolor": "white",
           "lakecolor": "white",
           "landcolor": "#E5ECF6",
           "showlakes": true,
           "showland": true,
           "subunitcolor": "white"
          },
          "hoverlabel": {
           "align": "left"
          },
          "hovermode": "closest",
          "mapbox": {
           "style": "light"
          },
          "paper_bgcolor": "white",
          "plot_bgcolor": "#E5ECF6",
          "polar": {
           "angularaxis": {
            "gridcolor": "white",
            "linecolor": "white",
            "ticks": ""
           },
           "bgcolor": "#E5ECF6",
           "radialaxis": {
            "gridcolor": "white",
            "linecolor": "white",
            "ticks": ""
           }
          },
          "scene": {
           "xaxis": {
            "backgroundcolor": "#E5ECF6",
            "gridcolor": "white",
            "gridwidth": 2,
            "linecolor": "white",
            "showbackground": true,
            "ticks": "",
            "zerolinecolor": "white"
           },
           "yaxis": {
            "backgroundcolor": "#E5ECF6",
            "gridcolor": "white",
            "gridwidth": 2,
            "linecolor": "white",
            "showbackground": true,
            "ticks": "",
            "zerolinecolor": "white"
           },
           "zaxis": {
            "backgroundcolor": "#E5ECF6",
            "gridcolor": "white",
            "gridwidth": 2,
            "linecolor": "white",
            "showbackground": true,
            "ticks": "",
            "zerolinecolor": "white"
           }
          },
          "shapedefaults": {
           "line": {
            "color": "#2a3f5f"
           }
          },
          "ternary": {
           "aaxis": {
            "gridcolor": "white",
            "linecolor": "white",
            "ticks": ""
           },
           "baxis": {
            "gridcolor": "white",
            "linecolor": "white",
            "ticks": ""
           },
           "bgcolor": "#E5ECF6",
           "caxis": {
            "gridcolor": "white",
            "linecolor": "white",
            "ticks": ""
           }
          },
          "title": {
           "x": 0.05
          },
          "xaxis": {
           "automargin": true,
           "gridcolor": "white",
           "linecolor": "white",
           "ticks": "",
           "title": {
            "standoff": 15
           },
           "zerolinecolor": "white",
           "zerolinewidth": 2
          },
          "yaxis": {
           "automargin": true,
           "gridcolor": "white",
           "linecolor": "white",
           "ticks": "",
           "title": {
            "standoff": 15
           },
           "zerolinecolor": "white",
           "zerolinewidth": 2
          }
         }
        },
        "title": {
         "text": "Epsilon Progress"
        },
        "xaxis": {
         "anchor": "y",
         "domain": [
          0,
          1
         ],
         "title": {
          "text": "nfe"
         }
        },
        "yaxis": {
         "anchor": "x",
         "domain": [
          0,
          1
         ],
         "title": {
          "text": "epsilon_progress"
         }
        }
       }
      },
      "text/html": [
       "<div>                            <div id=\"062633ef-499b-4601-99dc-b7f61f6d8876\" class=\"plotly-graph-div\" style=\"height:525px; width:100%;\"></div>            <script type=\"text/javascript\">                require([\"plotly\"], function(Plotly) {                    window.PLOTLYENV=window.PLOTLYENV || {};                                    if (document.getElementById(\"062633ef-499b-4601-99dc-b7f61f6d8876\")) {                    Plotly.newPlot(                        \"062633ef-499b-4601-99dc-b7f61f6d8876\",                        [{\"hovertemplate\":\"nfe=%{x}\\u003cbr\\u003eepsilon_progress=%{y}\\u003cextra\\u003e\\u003c\\u002fextra\\u003e\",\"legendgroup\":\"\",\"line\":{\"color\":\"#636efa\",\"dash\":\"solid\"},\"marker\":{\"symbol\":\"circle\"},\"mode\":\"lines\",\"name\":\"\",\"orientation\":\"v\",\"showlegend\":false,\"x\":[0,100,1199,2288,3378,4469,5557,6650,7744,8837,9929,11138,12353,13576,14792,16010,17228,18441,19653,20868,22084,23304,24520,25739,26958,28177,29399,30614,31834,33054,34275,35496,36717,37938,39156,40370,41587,42801,44022,45235,46455,47671,48888,50104],\"xaxis\":\"x\",\"y\":[0,42,312,429,470,494,506,511,514,518,520,533,534,535,538,540,540,541,542,542,542,542,542,542,542,542,542,542,542,542,542,542,542,542,542,542,542,542,542,542,542,542,542,542],\"yaxis\":\"y\",\"type\":\"scatter\"}],                        {\"template\":{\"data\":{\"histogram2dcontour\":[{\"type\":\"histogram2dcontour\",\"colorbar\":{\"outlinewidth\":0,\"ticks\":\"\"},\"colorscale\":[[0.0,\"#0d0887\"],[0.1111111111111111,\"#46039f\"],[0.2222222222222222,\"#7201a8\"],[0.3333333333333333,\"#9c179e\"],[0.4444444444444444,\"#bd3786\"],[0.5555555555555556,\"#d8576b\"],[0.6666666666666666,\"#ed7953\"],[0.7777777777777778,\"#fb9f3a\"],[0.8888888888888888,\"#fdca26\"],[1.0,\"#f0f921\"]]}],\"choropleth\":[{\"type\":\"choropleth\",\"colorbar\":{\"outlinewidth\":0,\"ticks\":\"\"}}],\"histogram2d\":[{\"type\":\"histogram2d\",\"colorbar\":{\"outlinewidth\":0,\"ticks\":\"\"},\"colorscale\":[[0.0,\"#0d0887\"],[0.1111111111111111,\"#46039f\"],[0.2222222222222222,\"#7201a8\"],[0.3333333333333333,\"#9c179e\"],[0.4444444444444444,\"#bd3786\"],[0.5555555555555556,\"#d8576b\"],[0.6666666666666666,\"#ed7953\"],[0.7777777777777778,\"#fb9f3a\"],[0.8888888888888888,\"#fdca26\"],[1.0,\"#f0f921\"]]}],\"heatmap\":[{\"type\":\"heatmap\",\"colorbar\":{\"outlinewidth\":0,\"ticks\":\"\"},\"colorscale\":[[0.0,\"#0d0887\"],[0.1111111111111111,\"#46039f\"],[0.2222222222222222,\"#7201a8\"],[0.3333333333333333,\"#9c179e\"],[0.4444444444444444,\"#bd3786\"],[0.5555555555555556,\"#d8576b\"],[0.6666666666666666,\"#ed7953\"],[0.7777777777777778,\"#fb9f3a\"],[0.8888888888888888,\"#fdca26\"],[1.0,\"#f0f921\"]]}],\"heatmapgl\":[{\"type\":\"heatmapgl\",\"colorbar\":{\"outlinewidth\":0,\"ticks\":\"\"},\"colorscale\":[[0.0,\"#0d0887\"],[0.1111111111111111,\"#46039f\"],[0.2222222222222222,\"#7201a8\"],[0.3333333333333333,\"#9c179e\"],[0.4444444444444444,\"#bd3786\"],[0.5555555555555556,\"#d8576b\"],[0.6666666666666666,\"#ed7953\"],[0.7777777777777778,\"#fb9f3a\"],[0.8888888888888888,\"#fdca26\"],[1.0,\"#f0f921\"]]}],\"contourcarpet\":[{\"type\":\"contourcarpet\",\"colorbar\":{\"outlinewidth\":0,\"ticks\":\"\"}}],\"contour\":[{\"type\":\"contour\",\"colorbar\":{\"outlinewidth\":0,\"ticks\":\"\"},\"colorscale\":[[0.0,\"#0d0887\"],[0.1111111111111111,\"#46039f\"],[0.2222222222222222,\"#7201a8\"],[0.3333333333333333,\"#9c179e\"],[0.4444444444444444,\"#bd3786\"],[0.5555555555555556,\"#d8576b\"],[0.6666666666666666,\"#ed7953\"],[0.7777777777777778,\"#fb9f3a\"],[0.8888888888888888,\"#fdca26\"],[1.0,\"#f0f921\"]]}],\"surface\":[{\"type\":\"surface\",\"colorbar\":{\"outlinewidth\":0,\"ticks\":\"\"},\"colorscale\":[[0.0,\"#0d0887\"],[0.1111111111111111,\"#46039f\"],[0.2222222222222222,\"#7201a8\"],[0.3333333333333333,\"#9c179e\"],[0.4444444444444444,\"#bd3786\"],[0.5555555555555556,\"#d8576b\"],[0.6666666666666666,\"#ed7953\"],[0.7777777777777778,\"#fb9f3a\"],[0.8888888888888888,\"#fdca26\"],[1.0,\"#f0f921\"]]}],\"mesh3d\":[{\"type\":\"mesh3d\",\"colorbar\":{\"outlinewidth\":0,\"ticks\":\"\"}}],\"scatter\":[{\"fillpattern\":{\"fillmode\":\"overlay\",\"size\":10,\"solidity\":0.2},\"type\":\"scatter\"}],\"parcoords\":[{\"type\":\"parcoords\",\"line\":{\"colorbar\":{\"outlinewidth\":0,\"ticks\":\"\"}}}],\"scatterpolargl\":[{\"type\":\"scatterpolargl\",\"marker\":{\"colorbar\":{\"outlinewidth\":0,\"ticks\":\"\"}}}],\"bar\":[{\"error_x\":{\"color\":\"#2a3f5f\"},\"error_y\":{\"color\":\"#2a3f5f\"},\"marker\":{\"line\":{\"color\":\"#E5ECF6\",\"width\":0.5},\"pattern\":{\"fillmode\":\"overlay\",\"size\":10,\"solidity\":0.2}},\"type\":\"bar\"}],\"scattergeo\":[{\"type\":\"scattergeo\",\"marker\":{\"colorbar\":{\"outlinewidth\":0,\"ticks\":\"\"}}}],\"scatterpolar\":[{\"type\":\"scatterpolar\",\"marker\":{\"colorbar\":{\"outlinewidth\":0,\"ticks\":\"\"}}}],\"histogram\":[{\"marker\":{\"pattern\":{\"fillmode\":\"overlay\",\"size\":10,\"solidity\":0.2}},\"type\":\"histogram\"}],\"scattergl\":[{\"type\":\"scattergl\",\"marker\":{\"colorbar\":{\"outlinewidth\":0,\"ticks\":\"\"}}}],\"scatter3d\":[{\"type\":\"scatter3d\",\"line\":{\"colorbar\":{\"outlinewidth\":0,\"ticks\":\"\"}},\"marker\":{\"colorbar\":{\"outlinewidth\":0,\"ticks\":\"\"}}}],\"scattermapbox\":[{\"type\":\"scattermapbox\",\"marker\":{\"colorbar\":{\"outlinewidth\":0,\"ticks\":\"\"}}}],\"scatterternary\":[{\"type\":\"scatterternary\",\"marker\":{\"colorbar\":{\"outlinewidth\":0,\"ticks\":\"\"}}}],\"scattercarpet\":[{\"type\":\"scattercarpet\",\"marker\":{\"colorbar\":{\"outlinewidth\":0,\"ticks\":\"\"}}}],\"carpet\":[{\"aaxis\":{\"endlinecolor\":\"#2a3f5f\",\"gridcolor\":\"white\",\"linecolor\":\"white\",\"minorgridcolor\":\"white\",\"startlinecolor\":\"#2a3f5f\"},\"baxis\":{\"endlinecolor\":\"#2a3f5f\",\"gridcolor\":\"white\",\"linecolor\":\"white\",\"minorgridcolor\":\"white\",\"startlinecolor\":\"#2a3f5f\"},\"type\":\"carpet\"}],\"table\":[{\"cells\":{\"fill\":{\"color\":\"#EBF0F8\"},\"line\":{\"color\":\"white\"}},\"header\":{\"fill\":{\"color\":\"#C8D4E3\"},\"line\":{\"color\":\"white\"}},\"type\":\"table\"}],\"barpolar\":[{\"marker\":{\"line\":{\"color\":\"#E5ECF6\",\"width\":0.5},\"pattern\":{\"fillmode\":\"overlay\",\"size\":10,\"solidity\":0.2}},\"type\":\"barpolar\"}],\"pie\":[{\"automargin\":true,\"type\":\"pie\"}]},\"layout\":{\"autotypenumbers\":\"strict\",\"colorway\":[\"#636efa\",\"#EF553B\",\"#00cc96\",\"#ab63fa\",\"#FFA15A\",\"#19d3f3\",\"#FF6692\",\"#B6E880\",\"#FF97FF\",\"#FECB52\"],\"font\":{\"color\":\"#2a3f5f\"},\"hovermode\":\"closest\",\"hoverlabel\":{\"align\":\"left\"},\"paper_bgcolor\":\"white\",\"plot_bgcolor\":\"#E5ECF6\",\"polar\":{\"bgcolor\":\"#E5ECF6\",\"angularaxis\":{\"gridcolor\":\"white\",\"linecolor\":\"white\",\"ticks\":\"\"},\"radialaxis\":{\"gridcolor\":\"white\",\"linecolor\":\"white\",\"ticks\":\"\"}},\"ternary\":{\"bgcolor\":\"#E5ECF6\",\"aaxis\":{\"gridcolor\":\"white\",\"linecolor\":\"white\",\"ticks\":\"\"},\"baxis\":{\"gridcolor\":\"white\",\"linecolor\":\"white\",\"ticks\":\"\"},\"caxis\":{\"gridcolor\":\"white\",\"linecolor\":\"white\",\"ticks\":\"\"}},\"coloraxis\":{\"colorbar\":{\"outlinewidth\":0,\"ticks\":\"\"}},\"colorscale\":{\"sequential\":[[0.0,\"#0d0887\"],[0.1111111111111111,\"#46039f\"],[0.2222222222222222,\"#7201a8\"],[0.3333333333333333,\"#9c179e\"],[0.4444444444444444,\"#bd3786\"],[0.5555555555555556,\"#d8576b\"],[0.6666666666666666,\"#ed7953\"],[0.7777777777777778,\"#fb9f3a\"],[0.8888888888888888,\"#fdca26\"],[1.0,\"#f0f921\"]],\"sequentialminus\":[[0.0,\"#0d0887\"],[0.1111111111111111,\"#46039f\"],[0.2222222222222222,\"#7201a8\"],[0.3333333333333333,\"#9c179e\"],[0.4444444444444444,\"#bd3786\"],[0.5555555555555556,\"#d8576b\"],[0.6666666666666666,\"#ed7953\"],[0.7777777777777778,\"#fb9f3a\"],[0.8888888888888888,\"#fdca26\"],[1.0,\"#f0f921\"]],\"diverging\":[[0,\"#8e0152\"],[0.1,\"#c51b7d\"],[0.2,\"#de77ae\"],[0.3,\"#f1b6da\"],[0.4,\"#fde0ef\"],[0.5,\"#f7f7f7\"],[0.6,\"#e6f5d0\"],[0.7,\"#b8e186\"],[0.8,\"#7fbc41\"],[0.9,\"#4d9221\"],[1,\"#276419\"]]},\"xaxis\":{\"gridcolor\":\"white\",\"linecolor\":\"white\",\"ticks\":\"\",\"title\":{\"standoff\":15},\"zerolinecolor\":\"white\",\"automargin\":true,\"zerolinewidth\":2},\"yaxis\":{\"gridcolor\":\"white\",\"linecolor\":\"white\",\"ticks\":\"\",\"title\":{\"standoff\":15},\"zerolinecolor\":\"white\",\"automargin\":true,\"zerolinewidth\":2},\"scene\":{\"xaxis\":{\"backgroundcolor\":\"#E5ECF6\",\"gridcolor\":\"white\",\"linecolor\":\"white\",\"showbackground\":true,\"ticks\":\"\",\"zerolinecolor\":\"white\",\"gridwidth\":2},\"yaxis\":{\"backgroundcolor\":\"#E5ECF6\",\"gridcolor\":\"white\",\"linecolor\":\"white\",\"showbackground\":true,\"ticks\":\"\",\"zerolinecolor\":\"white\",\"gridwidth\":2},\"zaxis\":{\"backgroundcolor\":\"#E5ECF6\",\"gridcolor\":\"white\",\"linecolor\":\"white\",\"showbackground\":true,\"ticks\":\"\",\"zerolinecolor\":\"white\",\"gridwidth\":2}},\"shapedefaults\":{\"line\":{\"color\":\"#2a3f5f\"}},\"annotationdefaults\":{\"arrowcolor\":\"#2a3f5f\",\"arrowhead\":0,\"arrowwidth\":1},\"geo\":{\"bgcolor\":\"white\",\"landcolor\":\"#E5ECF6\",\"subunitcolor\":\"white\",\"showland\":true,\"showlakes\":true,\"lakecolor\":\"white\"},\"title\":{\"x\":0.05},\"mapbox\":{\"style\":\"light\"}}},\"xaxis\":{\"anchor\":\"y\",\"domain\":[0.0,1.0],\"title\":{\"text\":\"nfe\"}},\"yaxis\":{\"anchor\":\"x\",\"domain\":[0.0,1.0],\"title\":{\"text\":\"epsilon_progress\"}},\"legend\":{\"tracegroupgap\":0},\"title\":{\"text\":\"Epsilon Progress\"}},                        {\"responsive\": true}                    ).then(function(){\n",
       "                            \n",
       "var gd = document.getElementById('062633ef-499b-4601-99dc-b7f61f6d8876');\n",
       "var x = new MutationObserver(function (mutations, observer) {{\n",
       "        var display = window.getComputedStyle(gd).display;\n",
       "        if (!display || display === 'none') {{\n",
       "            console.log([gd, 'removed!']);\n",
       "            Plotly.purge(gd);\n",
       "            observer.disconnect();\n",
       "        }}\n",
       "}});\n",
       "\n",
       "// Listen for the removal of the full notebook cells\n",
       "var notebookContainer = gd.closest('#notebook-container');\n",
       "if (notebookContainer) {{\n",
       "    x.observe(notebookContainer, {childList: true});\n",
       "}}\n",
       "\n",
       "// Listen for the clearing of the current output cell\n",
       "var outputEl = gd.closest('.output');\n",
       "if (outputEl) {{\n",
       "    x.observe(outputEl, {childList: true});\n",
       "}}\n",
       "\n",
       "                        })                };                });            </script>        </div>"
      ]
     },
     "metadata": {},
     "output_type": "display_data"
    }
   ],
   "source": [
    "fig0 = px.line(convergence, x = \"nfe\", y = \"epsilon_progress\", title=\"Epsilon Progress\")\n",
    "fig0.show()"
   ]
  },
  {
   "cell_type": "markdown",
   "metadata": {},
   "source": [
    "As it can be seen in the plot, the algorithm did not fully converge. However, due to limited computational resources we decided to go forward with the solutions found after 20.000 function evaluations. For a more precice analysis, we encourage other researchers to use high-performance computational clusters to run the MOEA until full convergence is reached."
   ]
  },
  {
   "cell_type": "markdown",
   "metadata": {},
   "source": [
    "## Show tradeoffs in the resulting optimal policies\n",
    "The algorithm found 973 solutions, which are displayed in the following section of the notebook.   "
   ]
  },
  {
   "cell_type": "code",
   "execution_count": 182,
   "metadata": {},
   "outputs": [
    {
     "data": {
      "application/vnd.plotly.v1+json": {
       "config": {
        "plotlyServerURL": "https://plot.ly"
       },
       "data": [
        {
         "dimensions": [
          {
           "label": "A3 Damage",
           "values": [
            0,
            510628378.9946664,
            511240420.1589337,
            481331650.8737087,
            481352175.7936328,
            486038885.777088,
            510576075.5412156,
            478959943.93172,
            486018360.857164,
            473513138.7284592,
            510628378.9946664,
            479399056.359521,
            492726976.62597966,
            412587009.054528,
            473599505.71538496,
            492608928.2141392,
            476743237.1791805,
            483766108.783744,
            483040164.43876153,
            478875411.8419948,
            500501759.1401014,
            472811154.28667074,
            492219613.5056319,
            490287466.1887412,
            492608928.2141392,
            512528269.2606274,
            321002683.0280162,
            476743237.1791805,
            473599505.71538496,
            472244138.1156292,
            490287466.1887412,
            507495673.1623399,
            486571890.1860431,
            481331650.8737087,
            492717110.5241903,
            0,
            321002683.0280162,
            79992899.58352354,
            472811154.28667074,
            485567311.5912508,
            412587009.054528,
            500501759.1401014,
            486590548.8138441,
            479399056.359521,
            511417620.9063463,
            511240420.1589337,
            317884609.8713857,
            472244138.1156292,
            319198928.01073074,
            419789885.0750754,
            320351639.23931843,
            477234420.76493657,
            485567311.5912508,
            472501221.9310567,
            418049608.1073611,
            481404612.6591207,
            486590548.8138441,
            512726306.23699296,
            317884609.8713857,
            416019116.8832908,
            512646958.3493639,
            481914314.3285408,
            492726976.62597966,
            317884609.8713857,
            472139069.0883138,
            472139069.0883138,
            45151966.03233206,
            320970307.48275256,
            45151966.03233206,
            486571890.1860431,
            51820240.737829104,
            421221711.5130769,
            300142566.49563015,
            507495673.1623399,
            320970307.48275256,
            478157812.05289,
            420123427.72874856,
            300142566.49563015,
            421221711.5130769,
            483874113.1117807,
            319198928.01073074,
            412587009.054528,
            83180036.62970138,
            419819071.4354967,
            320970307.48275256,
            416019116.8832908,
            472320536.238348,
            317622609.1803645,
            473513138.7284592,
            416512897.2140299,
            478157812.05289,
            481914314.3285408,
            510576075.5412156,
            486091322.642576,
            483881183.3576055,
            420123427.72874856,
            486091322.642576,
            18379987.035897996,
            512630602.7102861,
            300142566.49563015,
            321002683.0280162,
            416512897.2140299,
            419789885.0750754,
            472320536.238348,
            319198928.01073074,
            419202319.3359488,
            320351639.23931843,
            419819071.4354967,
            472501221.9310567,
            481404612.6591207,
            492219613.5056319,
            486018360.857164,
            511402475.33586526,
            512113815.0979616,
            317622609.1803645,
            472139069.0883138,
            477263847.3843885,
            512710133.3559195,
            317622609.1803645,
            472501221.9310567,
            419202319.3359488,
            512113815.0979616,
            418049608.1073611,
            478967014.1775448,
            320351639.23931843,
            483881183.3576055,
            477263847.3843885,
            420123427.72874856,
            478967014.1775448,
            486035895.4609957,
            512646958.3493639,
            300142566.49563015,
            483874113.1117807,
            481144764.6580277,
            511417620.9063463,
            481249739.828537,
            481144764.6580277,
            51820240.737829104,
            512726306.23699296,
            478875411.8419948,
            486035895.4609957,
            481442447.7650659,
            483040164.43876153,
            481224784.6036117,
            478959943.93172,
            481249739.828537,
            17463620.672768954,
            481426274.88399255,
            492717110.5241903,
            512528269.2606274,
            486112984.8674479,
            486112984.8674479,
            486038885.777088,
            483766108.783744,
            486112984.8674479,
            486129157.7485212,
            511402475.33586526,
            512710133.3559195,
            481442447.7650659,
            486129157.7485212,
            477234420.76493657,
            481426274.88399255,
            512630602.7102861,
            486033454.2218144,
            486033454.2218144,
            486112984.8674479,
            481224784.6036117,
            481352175.7936328
           ]
          },
          {
           "label": "A3 Casualties",
           "values": [
            0,
            0.4452740465304944,
            0.4461375572448561,
            0.4065308479988115,
            0.406565655030438,
            0.1720110445666912,
            0.1854999019595166,
            0.4032944707371885,
            0.1719965416368468,
            0.1650186010623409,
            0.1855308527210394,
            0.1682721364461342,
            0.1756816335338525,
            0.1435408576542374,
            0.1650663278151055,
            0.1755982204028143,
            0.4003285602542979,
            0.4096542882747302,
            0.1702832747165074,
            0.1679866564912941,
            0.4318382973159296,
            0.1646306815679784,
            0.1753568716687134,
            0.4182915924452633,
            0.4214357289667542,
            0.1867130949080076,
            0.1123894928894364,
            0.1668035667726241,
            0.3961591867562532,
            0.3943616306304804,
            0.1742881635188597,
            0.4411139749963375,
            0.4133638101922218,
            0.1693878533328381,
            0.1756746621360288,
            0,
            0.0899115943115491,
            0.0675092084527003,
            0.3951136357631482,
            0.1716994585585461,
            0.9569390510282494,
            0.1799326238816374,
            0.1722452317480129,
            0.403853127470722,
            0.4464380618043035,
            0.1858906488520234,
            0.1106578649332401,
            0.1643173460960335,
            0.2673219901233254,
            0.3524175190358883,
            0.0896169244199245,
            0.1670749968455473,
            0.4120787005405106,
            1.0963960778099828,
            0.3500950175899858,
            0.1694394082065756,
            0.4133885561952309,
            0.4484472673013761,
            0.0885262919465921,
            0.3474020788338778,
            0.1867969607420093,
            0.4071867007383634,
            0.4216359204812461,
            0.2655788758397763,
            1.095061896791376,
            0.1642592845187064,
            0.0377005680944222,
            0.2696818939578292,
            0.1047238002622841,
            0.1722349209134258,
            0.1206841671243113,
            0.1468438599796172,
            0.0835367483082975,
            0.1837974895818074,
            0.0898939646526097,
            0.1675852666751877,
            0.974912958906728,
            0.696139569235813,
            0.3524252639510814,
            0.4098288542505784,
            0.0891073300411084,
            0.3444980583701698,
            0.0695045105515421,
            0.1468610720212861,
            0.1123674558157622,
            0.1447508661807824,
            0.3944629536320894,
            0.0884104658176544,
            0.3960446425496181,
            0.1450237312256807,
            0.4022046400204504,
            0.1696611253076514,
            0.4451997647028398,
            0.1720480965105842,
            0.4098408442739715,
            0.1462369438360092,
            0.4129154316254022,
            0.0426298622255438,
            0.1867854038303633,
            0.2506102449248926,
            0.2697347829346473,
            0.3480569549416337,
            0.1468406329316201,
            0.1643595640133706,
            0.1113841625513856,
            0.1465099169693475,
            0.1120211555249056,
            0.3524665728510866,
            0.1644594116714974,
            0.4066545796957815,
            0.4208564920049122,
            0.4127916999284323,
            0.1860051572092141,
            0.4474085787936378,
            0.2652313974529631,
            0.3942222828448953,
            0.4010190194800312,
            0.1868416002675906,
            0.110513082272068,
            0.3947025880115938,
            0.3516238007264339,
            0.1864202411640158,
            0.1458729239958274,
            0.4033064607605816,
            0.2688507732597735,
            0.1707670184474882,
            0.1670912581166797,
            0.350968665206422,
            0.1680443586502423,
            0.1720089316062187,
            0.4483127057808224,
            0.1044209353853719,
            0.1707620226044077,
            0.406229206489633,
            0.1860158590851265,
            0.169330745006248,
            0.1692621693706804,
            0.043446300164752,
            0.18685302804224,
            0.4031679755791059,
            0.4128214358549248,
            0.1694661425319329,
            0.4086798593196177,
            0.4063514678838355,
            0.1680393628071619,
            0.4063937880149952,
            0.0405044759708084,
            0.1694547147572834,
            0.4216191891264692,
            0.4481114277792182,
            0.1720634030612921,
            0.4129521673471009,
            0.4128265069600588,
            0.1706892867811376,
            0.1720634030612921,
            0.1720748308359415,
            0.4464123773021137,
            0.4484198406422173,
            0.4067187420766389,
            0.4129795940062596,
            0.4009799924293136,
            0.4066913154174802,
            0.4482849691928718,
            0.4128172958977554,
            0.1720072066240648,
            0.4129521673471009,
            0.1693131116182648,
            0.1694023562626825
           ]
          },
          {
           "label": "Dike Investment Costs",
           "values": [
            24198032,
            0,
            0,
            0,
            0,
            0,
            0,
            0,
            0,
            0,
            0,
            0,
            0,
            0,
            0,
            0,
            0,
            0,
            0,
            0,
            0,
            0,
            0,
            0,
            0,
            0,
            0,
            0,
            0,
            0,
            0,
            0,
            0,
            0,
            0,
            22167818,
            0,
            22167818,
            0,
            0,
            0,
            0,
            0,
            0,
            0,
            0,
            0,
            0,
            0,
            0,
            0,
            0,
            0,
            0,
            0,
            0,
            0,
            0,
            0,
            0,
            0,
            0,
            0,
            0,
            0,
            0,
            20299287,
            0,
            20299287,
            0,
            22167818,
            20299287,
            0,
            0,
            0,
            0,
            20299287,
            0,
            20299287,
            0,
            0,
            0,
            20299287,
            0,
            0,
            0,
            0,
            0,
            0,
            0,
            0,
            0,
            0,
            0,
            0,
            20299287,
            0,
            20299287,
            0,
            0,
            0,
            0,
            0,
            0,
            0,
            0,
            0,
            0,
            0,
            0,
            0,
            0,
            0,
            0,
            0,
            0,
            0,
            0,
            0,
            0,
            0,
            0,
            0,
            0,
            0,
            0,
            0,
            20299287,
            0,
            0,
            0,
            0,
            0,
            0,
            0,
            0,
            0,
            22167818,
            0,
            0,
            0,
            0,
            0,
            0,
            0,
            0,
            20299287,
            0,
            0,
            0,
            0,
            0,
            0,
            0,
            0,
            0,
            0,
            0,
            0,
            0,
            0,
            0,
            0,
            0,
            0,
            0,
            0,
            0
           ]
          },
          {
           "label": "RfR Investment Costs",
           "values": [
            0,
            0,
            0,
            151900000,
            236500000,
            115300000,
            0,
            151900000,
            30700000,
            151900000,
            0,
            151900000,
            0,
            151900000,
            0,
            0,
            30700000,
            30700000,
            30700000,
            151900000,
            0,
            30700000,
            0,
            0,
            0,
            0,
            408000000,
            30700000,
            0,
            30700000,
            0,
            0,
            0,
            151900000,
            0,
            30700000,
            408000000,
            0,
            30700000,
            30700000,
            151900000,
            0,
            0,
            151900000,
            0,
            0,
            408000000,
            30700000,
            408000000,
            151900000,
            408000000,
            151900000,
            30700000,
            0,
            151900000,
            151900000,
            0,
            0,
            408000000,
            151900000,
            0,
            30700000,
            0,
            408000000,
            30700000,
            30700000,
            30700000,
            408000000,
            30700000,
            0,
            0,
            0,
            408000000,
            0,
            408000000,
            151900000,
            0,
            408000000,
            0,
            30700000,
            408000000,
            151900000,
            30700000,
            151900000,
            408000000,
            151900000,
            30700000,
            408000000,
            151900000,
            151900000,
            151900000,
            30700000,
            0,
            30700000,
            30700000,
            0,
            30700000,
            151900000,
            0,
            408000000,
            408000000,
            151900000,
            151900000,
            30700000,
            408000000,
            151900000,
            408000000,
            151900000,
            0,
            151900000,
            0,
            30700000,
            0,
            0,
            408000000,
            30700000,
            151900000,
            0,
            408000000,
            0,
            151900000,
            0,
            151900000,
            151900000,
            408000000,
            30700000,
            151900000,
            0,
            151900000,
            115300000,
            0,
            408000000,
            30700000,
            151900000,
            0,
            369700000,
            151900000,
            0,
            0,
            151900000,
            115300000,
            151900000,
            30700000,
            369700000,
            151900000,
            369700000,
            408000000,
            236500000,
            0,
            0,
            115300000,
            30700000,
            115300000,
            30700000,
            30700000,
            30700000,
            0,
            0,
            151900000,
            30700000,
            151900000,
            236500000,
            0,
            30700000,
            30700000,
            115300000,
            369700000,
            236500000
           ]
          },
          {
           "label": "Evacuation Costs",
           "values": [
            0,
            19040.188576265697,
            18858.56976989901,
            17609.592320835265,
            17512.176938319633,
            29138.20935819645,
            33089.24398332204,
            18326.16899659306,
            29353.916739213077,
            33844.81414681162,
            31609.688066066094,
            30040.71152796861,
            38315.44150183793,
            44939.727733556334,
            45249.229915594304,
            38699.118444131294,
            21229.391828065105,
            18477.884291288938,
            31226.55439127768,
            30606.5386071118,
            22983.814455813605,
            39927.59440045717,
            39462.48035054124,
            24389.084210606376,
            23310.527815759087,
            29934.37850789835,
            28657.744052755654,
            35244.107527061205,
            27256.006725628573,
            27004.950823050403,
            40489.69058401449,
            20780.25430417368,
            26290.03165814181,
            29234.67475138666,
            38415.487453144575,
            0,
            35603.03261142349,
            12810.465065944863,
            24050.50392121656,
            29760.80733322233,
            0,
            38156.7232176593,
            43197.34213467968,
            18095.110943905805,
            18577.71725729737,
            31308.172469558904,
            31437.158314200205,
            44832.43788982976,
            17921.80170345583,
            21008.762276412654,
            36307.2631849953,
            33280.87309678712,
            17926.509828952745,
            0,
            21536.130472622663,
            29123.83243159334,
            26020.046085830585,
            17668.088105372673,
            39056.04609387697,
            23718.80505475116,
            29562.92156984159,
            19220.123206118005,
            23079.418881107085,
            18936.264772788832,
            0,
            48634.92570635487,
            13624.769447711584,
            17394.732257397838,
            0,
            43645.560369961975,
            0,
            42057.92999130181,
            47319.55580658037,
            34498.46905966333,
            35876.635280883034,
            30953.778176915388,
            0,
            0,
            25333.71783005474,
            18367.746127828887,
            36963.716013377634,
            27069.577175977465,
            12726.121152138956,
            34657.54772060045,
            28877.973474195627,
            39376.922454176725,
            25816.11804817846,
            41473.42140010225,
            20386.523344903,
            37434.379676681245,
            18645.099325389037,
            31908.40766640684,
            19931.403434659864,
            29189.91509838645,
            18345.04165265061,
            48790.33016024466,
            17582.63121220454,
            0,
            29710.40173202452,
            22942.81493652382,
            17262.076417659875,
            22548.708699365645,
            34877.82799795069,
            42858.78972842127,
            29752.99110925284,
            35224.94680936706,
            29224.596313679933,
            20876.075803467567,
            51981.63008453716,
            17542.82612350093,
            23770.341105267195,
            17681.41808291423,
            30942.066733921583,
            18380.05960931727,
            20108.3255273223,
            29295.390543121997,
            19165.50313503152,
            29435.560708408637,
            33382.962301218664,
            31311.28776856827,
            21217.850313406983,
            30513.770835780622,
            35753.34160493997,
            18303.547660354925,
            17603.521544240146,
            30455.63555615824,
            31817.72981401716,
            29388.99887299444,
            30386.749045511104,
            29239.519990916368,
            17807.312757363405,
            38088.65760946336,
            30493.32853252842,
            17762.836605537163,
            30841.91341543509,
            29169.75569278445,
            29489.084208411296,
            15872.104216787246,
            29331.7868936851,
            18435.938549224997,
            17612.51086511668,
            28895.22791905289,
            18809.406880393148,
            17688.562547164096,
            30424.30399825019,
            17570.48813494781,
            0,
            28914.420099468574,
            23139.68185412944,
            18031.0609365223,
            28979.67946240784,
            17467.95841838163,
            17551.486107525398,
            30676.175092960148,
            28999.54034301638,
            28960.487281992144,
            18638.044903256294,
            17730.596567888493,
            17405.125523005976,
            17444.43469221174,
            20046.831794770595,
            17416.685989326957,
            17896.14786681948,
            17672.494453658546,
            29339.10212033157,
            17455.99515853272,
            29365.777666190395,
            29072.9499952572
           ]
          }
         ],
         "domain": {
          "x": [
           0,
           1
          ],
          "y": [
           0,
           1
          ]
         },
         "line": {
          "color": [
           0,
           1,
           2,
           3,
           4,
           5,
           6,
           7,
           8,
           9,
           10,
           11,
           12,
           13,
           14,
           15,
           16,
           17,
           18,
           19,
           20,
           21,
           22,
           23,
           24,
           25,
           26,
           27,
           28,
           29,
           30,
           31,
           32,
           33,
           34,
           35,
           36,
           37,
           38,
           39,
           40,
           41,
           42,
           43,
           44,
           45,
           46,
           47,
           48,
           49,
           50,
           51,
           52,
           53,
           54,
           55,
           56,
           57,
           58,
           59,
           60,
           61,
           62,
           63,
           64,
           65,
           66,
           67,
           68,
           69,
           70,
           71,
           72,
           73,
           74,
           75,
           76,
           77,
           78,
           79,
           80,
           81,
           82,
           83,
           84,
           85,
           86,
           87,
           88,
           89,
           90,
           91,
           92,
           93,
           94,
           95,
           96,
           97,
           98,
           99,
           100,
           101,
           102,
           103,
           104,
           105,
           106,
           107,
           108,
           109,
           110,
           111,
           112,
           113,
           114,
           115,
           116,
           117,
           118,
           119,
           120,
           121,
           122,
           123,
           124,
           125,
           126,
           127,
           128,
           129,
           130,
           131,
           132,
           133,
           134,
           135,
           136,
           137,
           138,
           139,
           140,
           141,
           142,
           143,
           144,
           145,
           146,
           147,
           148,
           149,
           150,
           151,
           152,
           153,
           154,
           155,
           156,
           157,
           158,
           159,
           160,
           161,
           162,
           163,
           164,
           165,
           166,
           167
          ],
          "coloraxis": "coloraxis"
         },
         "name": "",
         "type": "parcoords"
        }
       ],
       "layout": {
        "coloraxis": {
         "colorbar": {
          "title": {
           "text": "_index"
          }
         },
         "colorscale": [
          [
           0,
           "#0d0887"
          ],
          [
           0.1111111111111111,
           "#46039f"
          ],
          [
           0.2222222222222222,
           "#7201a8"
          ],
          [
           0.3333333333333333,
           "#9c179e"
          ],
          [
           0.4444444444444444,
           "#bd3786"
          ],
          [
           0.5555555555555556,
           "#d8576b"
          ],
          [
           0.6666666666666666,
           "#ed7953"
          ],
          [
           0.7777777777777778,
           "#fb9f3a"
          ],
          [
           0.8888888888888888,
           "#fdca26"
          ],
          [
           1,
           "#f0f921"
          ]
         ]
        },
        "legend": {
         "tracegroupgap": 0
        },
        "margin": {
         "t": 60
        },
        "showlegend": false,
        "template": {
         "data": {
          "bar": [
           {
            "error_x": {
             "color": "#2a3f5f"
            },
            "error_y": {
             "color": "#2a3f5f"
            },
            "marker": {
             "line": {
              "color": "#E5ECF6",
              "width": 0.5
             },
             "pattern": {
              "fillmode": "overlay",
              "size": 10,
              "solidity": 0.2
             }
            },
            "type": "bar"
           }
          ],
          "barpolar": [
           {
            "marker": {
             "line": {
              "color": "#E5ECF6",
              "width": 0.5
             },
             "pattern": {
              "fillmode": "overlay",
              "size": 10,
              "solidity": 0.2
             }
            },
            "type": "barpolar"
           }
          ],
          "carpet": [
           {
            "aaxis": {
             "endlinecolor": "#2a3f5f",
             "gridcolor": "white",
             "linecolor": "white",
             "minorgridcolor": "white",
             "startlinecolor": "#2a3f5f"
            },
            "baxis": {
             "endlinecolor": "#2a3f5f",
             "gridcolor": "white",
             "linecolor": "white",
             "minorgridcolor": "white",
             "startlinecolor": "#2a3f5f"
            },
            "type": "carpet"
           }
          ],
          "choropleth": [
           {
            "colorbar": {
             "outlinewidth": 0,
             "ticks": ""
            },
            "type": "choropleth"
           }
          ],
          "contour": [
           {
            "colorbar": {
             "outlinewidth": 0,
             "ticks": ""
            },
            "colorscale": [
             [
              0,
              "#0d0887"
             ],
             [
              0.1111111111111111,
              "#46039f"
             ],
             [
              0.2222222222222222,
              "#7201a8"
             ],
             [
              0.3333333333333333,
              "#9c179e"
             ],
             [
              0.4444444444444444,
              "#bd3786"
             ],
             [
              0.5555555555555556,
              "#d8576b"
             ],
             [
              0.6666666666666666,
              "#ed7953"
             ],
             [
              0.7777777777777778,
              "#fb9f3a"
             ],
             [
              0.8888888888888888,
              "#fdca26"
             ],
             [
              1,
              "#f0f921"
             ]
            ],
            "type": "contour"
           }
          ],
          "contourcarpet": [
           {
            "colorbar": {
             "outlinewidth": 0,
             "ticks": ""
            },
            "type": "contourcarpet"
           }
          ],
          "heatmap": [
           {
            "colorbar": {
             "outlinewidth": 0,
             "ticks": ""
            },
            "colorscale": [
             [
              0,
              "#0d0887"
             ],
             [
              0.1111111111111111,
              "#46039f"
             ],
             [
              0.2222222222222222,
              "#7201a8"
             ],
             [
              0.3333333333333333,
              "#9c179e"
             ],
             [
              0.4444444444444444,
              "#bd3786"
             ],
             [
              0.5555555555555556,
              "#d8576b"
             ],
             [
              0.6666666666666666,
              "#ed7953"
             ],
             [
              0.7777777777777778,
              "#fb9f3a"
             ],
             [
              0.8888888888888888,
              "#fdca26"
             ],
             [
              1,
              "#f0f921"
             ]
            ],
            "type": "heatmap"
           }
          ],
          "heatmapgl": [
           {
            "colorbar": {
             "outlinewidth": 0,
             "ticks": ""
            },
            "colorscale": [
             [
              0,
              "#0d0887"
             ],
             [
              0.1111111111111111,
              "#46039f"
             ],
             [
              0.2222222222222222,
              "#7201a8"
             ],
             [
              0.3333333333333333,
              "#9c179e"
             ],
             [
              0.4444444444444444,
              "#bd3786"
             ],
             [
              0.5555555555555556,
              "#d8576b"
             ],
             [
              0.6666666666666666,
              "#ed7953"
             ],
             [
              0.7777777777777778,
              "#fb9f3a"
             ],
             [
              0.8888888888888888,
              "#fdca26"
             ],
             [
              1,
              "#f0f921"
             ]
            ],
            "type": "heatmapgl"
           }
          ],
          "histogram": [
           {
            "marker": {
             "pattern": {
              "fillmode": "overlay",
              "size": 10,
              "solidity": 0.2
             }
            },
            "type": "histogram"
           }
          ],
          "histogram2d": [
           {
            "colorbar": {
             "outlinewidth": 0,
             "ticks": ""
            },
            "colorscale": [
             [
              0,
              "#0d0887"
             ],
             [
              0.1111111111111111,
              "#46039f"
             ],
             [
              0.2222222222222222,
              "#7201a8"
             ],
             [
              0.3333333333333333,
              "#9c179e"
             ],
             [
              0.4444444444444444,
              "#bd3786"
             ],
             [
              0.5555555555555556,
              "#d8576b"
             ],
             [
              0.6666666666666666,
              "#ed7953"
             ],
             [
              0.7777777777777778,
              "#fb9f3a"
             ],
             [
              0.8888888888888888,
              "#fdca26"
             ],
             [
              1,
              "#f0f921"
             ]
            ],
            "type": "histogram2d"
           }
          ],
          "histogram2dcontour": [
           {
            "colorbar": {
             "outlinewidth": 0,
             "ticks": ""
            },
            "colorscale": [
             [
              0,
              "#0d0887"
             ],
             [
              0.1111111111111111,
              "#46039f"
             ],
             [
              0.2222222222222222,
              "#7201a8"
             ],
             [
              0.3333333333333333,
              "#9c179e"
             ],
             [
              0.4444444444444444,
              "#bd3786"
             ],
             [
              0.5555555555555556,
              "#d8576b"
             ],
             [
              0.6666666666666666,
              "#ed7953"
             ],
             [
              0.7777777777777778,
              "#fb9f3a"
             ],
             [
              0.8888888888888888,
              "#fdca26"
             ],
             [
              1,
              "#f0f921"
             ]
            ],
            "type": "histogram2dcontour"
           }
          ],
          "mesh3d": [
           {
            "colorbar": {
             "outlinewidth": 0,
             "ticks": ""
            },
            "type": "mesh3d"
           }
          ],
          "parcoords": [
           {
            "line": {
             "colorbar": {
              "outlinewidth": 0,
              "ticks": ""
             }
            },
            "type": "parcoords"
           }
          ],
          "pie": [
           {
            "automargin": true,
            "type": "pie"
           }
          ],
          "scatter": [
           {
            "fillpattern": {
             "fillmode": "overlay",
             "size": 10,
             "solidity": 0.2
            },
            "type": "scatter"
           }
          ],
          "scatter3d": [
           {
            "line": {
             "colorbar": {
              "outlinewidth": 0,
              "ticks": ""
             }
            },
            "marker": {
             "colorbar": {
              "outlinewidth": 0,
              "ticks": ""
             }
            },
            "type": "scatter3d"
           }
          ],
          "scattercarpet": [
           {
            "marker": {
             "colorbar": {
              "outlinewidth": 0,
              "ticks": ""
             }
            },
            "type": "scattercarpet"
           }
          ],
          "scattergeo": [
           {
            "marker": {
             "colorbar": {
              "outlinewidth": 0,
              "ticks": ""
             }
            },
            "type": "scattergeo"
           }
          ],
          "scattergl": [
           {
            "marker": {
             "colorbar": {
              "outlinewidth": 0,
              "ticks": ""
             }
            },
            "type": "scattergl"
           }
          ],
          "scattermapbox": [
           {
            "marker": {
             "colorbar": {
              "outlinewidth": 0,
              "ticks": ""
             }
            },
            "type": "scattermapbox"
           }
          ],
          "scatterpolar": [
           {
            "marker": {
             "colorbar": {
              "outlinewidth": 0,
              "ticks": ""
             }
            },
            "type": "scatterpolar"
           }
          ],
          "scatterpolargl": [
           {
            "marker": {
             "colorbar": {
              "outlinewidth": 0,
              "ticks": ""
             }
            },
            "type": "scatterpolargl"
           }
          ],
          "scatterternary": [
           {
            "marker": {
             "colorbar": {
              "outlinewidth": 0,
              "ticks": ""
             }
            },
            "type": "scatterternary"
           }
          ],
          "surface": [
           {
            "colorbar": {
             "outlinewidth": 0,
             "ticks": ""
            },
            "colorscale": [
             [
              0,
              "#0d0887"
             ],
             [
              0.1111111111111111,
              "#46039f"
             ],
             [
              0.2222222222222222,
              "#7201a8"
             ],
             [
              0.3333333333333333,
              "#9c179e"
             ],
             [
              0.4444444444444444,
              "#bd3786"
             ],
             [
              0.5555555555555556,
              "#d8576b"
             ],
             [
              0.6666666666666666,
              "#ed7953"
             ],
             [
              0.7777777777777778,
              "#fb9f3a"
             ],
             [
              0.8888888888888888,
              "#fdca26"
             ],
             [
              1,
              "#f0f921"
             ]
            ],
            "type": "surface"
           }
          ],
          "table": [
           {
            "cells": {
             "fill": {
              "color": "#EBF0F8"
             },
             "line": {
              "color": "white"
             }
            },
            "header": {
             "fill": {
              "color": "#C8D4E3"
             },
             "line": {
              "color": "white"
             }
            },
            "type": "table"
           }
          ]
         },
         "layout": {
          "annotationdefaults": {
           "arrowcolor": "#2a3f5f",
           "arrowhead": 0,
           "arrowwidth": 1
          },
          "autotypenumbers": "strict",
          "coloraxis": {
           "colorbar": {
            "outlinewidth": 0,
            "ticks": ""
           }
          },
          "colorscale": {
           "diverging": [
            [
             0,
             "#8e0152"
            ],
            [
             0.1,
             "#c51b7d"
            ],
            [
             0.2,
             "#de77ae"
            ],
            [
             0.3,
             "#f1b6da"
            ],
            [
             0.4,
             "#fde0ef"
            ],
            [
             0.5,
             "#f7f7f7"
            ],
            [
             0.6,
             "#e6f5d0"
            ],
            [
             0.7,
             "#b8e186"
            ],
            [
             0.8,
             "#7fbc41"
            ],
            [
             0.9,
             "#4d9221"
            ],
            [
             1,
             "#276419"
            ]
           ],
           "sequential": [
            [
             0,
             "#0d0887"
            ],
            [
             0.1111111111111111,
             "#46039f"
            ],
            [
             0.2222222222222222,
             "#7201a8"
            ],
            [
             0.3333333333333333,
             "#9c179e"
            ],
            [
             0.4444444444444444,
             "#bd3786"
            ],
            [
             0.5555555555555556,
             "#d8576b"
            ],
            [
             0.6666666666666666,
             "#ed7953"
            ],
            [
             0.7777777777777778,
             "#fb9f3a"
            ],
            [
             0.8888888888888888,
             "#fdca26"
            ],
            [
             1,
             "#f0f921"
            ]
           ],
           "sequentialminus": [
            [
             0,
             "#0d0887"
            ],
            [
             0.1111111111111111,
             "#46039f"
            ],
            [
             0.2222222222222222,
             "#7201a8"
            ],
            [
             0.3333333333333333,
             "#9c179e"
            ],
            [
             0.4444444444444444,
             "#bd3786"
            ],
            [
             0.5555555555555556,
             "#d8576b"
            ],
            [
             0.6666666666666666,
             "#ed7953"
            ],
            [
             0.7777777777777778,
             "#fb9f3a"
            ],
            [
             0.8888888888888888,
             "#fdca26"
            ],
            [
             1,
             "#f0f921"
            ]
           ]
          },
          "colorway": [
           "#636efa",
           "#EF553B",
           "#00cc96",
           "#ab63fa",
           "#FFA15A",
           "#19d3f3",
           "#FF6692",
           "#B6E880",
           "#FF97FF",
           "#FECB52"
          ],
          "font": {
           "color": "#2a3f5f"
          },
          "geo": {
           "bgcolor": "white",
           "lakecolor": "white",
           "landcolor": "#E5ECF6",
           "showlakes": true,
           "showland": true,
           "subunitcolor": "white"
          },
          "hoverlabel": {
           "align": "left"
          },
          "hovermode": "closest",
          "mapbox": {
           "style": "light"
          },
          "paper_bgcolor": "white",
          "plot_bgcolor": "#E5ECF6",
          "polar": {
           "angularaxis": {
            "gridcolor": "white",
            "linecolor": "white",
            "ticks": ""
           },
           "bgcolor": "#E5ECF6",
           "radialaxis": {
            "gridcolor": "white",
            "linecolor": "white",
            "ticks": ""
           }
          },
          "scene": {
           "xaxis": {
            "backgroundcolor": "#E5ECF6",
            "gridcolor": "white",
            "gridwidth": 2,
            "linecolor": "white",
            "showbackground": true,
            "ticks": "",
            "zerolinecolor": "white"
           },
           "yaxis": {
            "backgroundcolor": "#E5ECF6",
            "gridcolor": "white",
            "gridwidth": 2,
            "linecolor": "white",
            "showbackground": true,
            "ticks": "",
            "zerolinecolor": "white"
           },
           "zaxis": {
            "backgroundcolor": "#E5ECF6",
            "gridcolor": "white",
            "gridwidth": 2,
            "linecolor": "white",
            "showbackground": true,
            "ticks": "",
            "zerolinecolor": "white"
           }
          },
          "shapedefaults": {
           "line": {
            "color": "#2a3f5f"
           }
          },
          "ternary": {
           "aaxis": {
            "gridcolor": "white",
            "linecolor": "white",
            "ticks": ""
           },
           "baxis": {
            "gridcolor": "white",
            "linecolor": "white",
            "ticks": ""
           },
           "bgcolor": "#E5ECF6",
           "caxis": {
            "gridcolor": "white",
            "linecolor": "white",
            "ticks": ""
           }
          },
          "title": {
           "x": 0.05
          },
          "xaxis": {
           "automargin": true,
           "gridcolor": "white",
           "linecolor": "white",
           "ticks": "",
           "title": {
            "standoff": 15
           },
           "zerolinecolor": "white",
           "zerolinewidth": 2
          },
          "yaxis": {
           "automargin": true,
           "gridcolor": "white",
           "linecolor": "white",
           "ticks": "",
           "title": {
            "standoff": 15
           },
           "zerolinecolor": "white",
           "zerolinewidth": 2
          }
         }
        }
       }
      },
      "text/html": [
       "<div>                            <div id=\"003056a9-2a7d-40ef-ab26-b6c156af2d49\" class=\"plotly-graph-div\" style=\"height:525px; width:100%;\"></div>            <script type=\"text/javascript\">                require([\"plotly\"], function(Plotly) {                    window.PLOTLYENV=window.PLOTLYENV || {};                                    if (document.getElementById(\"003056a9-2a7d-40ef-ab26-b6c156af2d49\")) {                    Plotly.newPlot(                        \"003056a9-2a7d-40ef-ab26-b6c156af2d49\",                        [{\"dimensions\":[{\"label\":\"A3 Damage\",\"values\":[0.0,510628378.9946664,511240420.1589337,481331650.8737087,481352175.7936328,486038885.777088,510576075.5412156,478959943.93172,486018360.857164,473513138.7284592,510628378.9946664,479399056.359521,492726976.62597966,412587009.054528,473599505.71538496,492608928.2141392,476743237.1791805,483766108.783744,483040164.43876153,478875411.8419948,500501759.1401014,472811154.28667074,492219613.5056319,490287466.1887412,492608928.2141392,512528269.2606274,321002683.0280162,476743237.1791805,473599505.71538496,472244138.1156292,490287466.1887412,507495673.1623399,486571890.1860431,481331650.8737087,492717110.5241903,0.0,321002683.0280162,79992899.58352354,472811154.28667074,485567311.5912508,412587009.054528,500501759.1401014,486590548.8138441,479399056.359521,511417620.9063463,511240420.1589337,317884609.8713857,472244138.1156292,319198928.01073074,419789885.0750754,320351639.23931843,477234420.76493657,485567311.5912508,472501221.9310567,418049608.1073611,481404612.6591207,486590548.8138441,512726306.23699296,317884609.8713857,416019116.8832908,512646958.3493639,481914314.3285408,492726976.62597966,317884609.8713857,472139069.0883138,472139069.0883138,45151966.03233206,320970307.48275256,45151966.03233206,486571890.1860431,51820240.737829104,421221711.5130769,300142566.49563015,507495673.1623399,320970307.48275256,478157812.05289,420123427.72874856,300142566.49563015,421221711.5130769,483874113.1117807,319198928.01073074,412587009.054528,83180036.62970138,419819071.4354967,320970307.48275256,416019116.8832908,472320536.238348,317622609.1803645,473513138.7284592,416512897.2140299,478157812.05289,481914314.3285408,510576075.5412156,486091322.642576,483881183.3576055,420123427.72874856,486091322.642576,18379987.035897996,512630602.7102861,300142566.49563015,321002683.0280162,416512897.2140299,419789885.0750754,472320536.238348,319198928.01073074,419202319.3359488,320351639.23931843,419819071.4354967,472501221.9310567,481404612.6591207,492219613.5056319,486018360.857164,511402475.33586526,512113815.0979616,317622609.1803645,472139069.0883138,477263847.3843885,512710133.3559195,317622609.1803645,472501221.9310567,419202319.3359488,512113815.0979616,418049608.1073611,478967014.1775448,320351639.23931843,483881183.3576055,477263847.3843885,420123427.72874856,478967014.1775448,486035895.4609957,512646958.3493639,300142566.49563015,483874113.1117807,481144764.6580277,511417620.9063463,481249739.828537,481144764.6580277,51820240.737829104,512726306.23699296,478875411.8419948,486035895.4609957,481442447.7650659,483040164.43876153,481224784.6036117,478959943.93172,481249739.828537,17463620.672768954,481426274.88399255,492717110.5241903,512528269.2606274,486112984.8674479,486112984.8674479,486038885.777088,483766108.783744,486112984.8674479,486129157.7485212,511402475.33586526,512710133.3559195,481442447.7650659,486129157.7485212,477234420.76493657,481426274.88399255,512630602.7102861,486033454.2218144,486033454.2218144,486112984.8674479,481224784.6036117,481352175.7936328]},{\"label\":\"A3 Casualties\",\"values\":[0.0,0.4452740465304944,0.4461375572448561,0.4065308479988115,0.406565655030438,0.1720110445666912,0.1854999019595166,0.4032944707371885,0.1719965416368468,0.1650186010623409,0.1855308527210394,0.1682721364461342,0.1756816335338525,0.1435408576542374,0.1650663278151055,0.1755982204028143,0.4003285602542979,0.4096542882747302,0.1702832747165074,0.1679866564912941,0.4318382973159296,0.1646306815679784,0.1753568716687134,0.4182915924452633,0.4214357289667542,0.1867130949080076,0.1123894928894364,0.1668035667726241,0.3961591867562532,0.3943616306304804,0.1742881635188597,0.4411139749963375,0.4133638101922218,0.1693878533328381,0.1756746621360288,0.0,0.0899115943115491,0.0675092084527003,0.3951136357631482,0.1716994585585461,0.9569390510282494,0.1799326238816374,0.1722452317480129,0.403853127470722,0.4464380618043035,0.1858906488520234,0.1106578649332401,0.1643173460960335,0.2673219901233254,0.3524175190358883,0.0896169244199245,0.1670749968455473,0.4120787005405106,1.0963960778099828,0.3500950175899858,0.1694394082065756,0.4133885561952309,0.4484472673013761,0.0885262919465921,0.3474020788338778,0.1867969607420093,0.4071867007383634,0.4216359204812461,0.2655788758397763,1.095061896791376,0.1642592845187064,0.0377005680944222,0.2696818939578292,0.1047238002622841,0.1722349209134258,0.1206841671243113,0.1468438599796172,0.0835367483082975,0.1837974895818074,0.0898939646526097,0.1675852666751877,0.974912958906728,0.696139569235813,0.3524252639510814,0.4098288542505784,0.0891073300411084,0.3444980583701698,0.0695045105515421,0.1468610720212861,0.1123674558157622,0.1447508661807824,0.3944629536320894,0.0884104658176544,0.3960446425496181,0.1450237312256807,0.4022046400204504,0.1696611253076514,0.4451997647028398,0.1720480965105842,0.4098408442739715,0.1462369438360092,0.4129154316254022,0.0426298622255438,0.1867854038303633,0.2506102449248926,0.2697347829346473,0.3480569549416337,0.1468406329316201,0.1643595640133706,0.1113841625513856,0.1465099169693475,0.1120211555249056,0.3524665728510866,0.1644594116714974,0.4066545796957815,0.4208564920049122,0.4127916999284323,0.1860051572092141,0.4474085787936378,0.2652313974529631,0.3942222828448953,0.4010190194800312,0.1868416002675906,0.110513082272068,0.3947025880115938,0.3516238007264339,0.1864202411640158,0.1458729239958274,0.4033064607605816,0.2688507732597735,0.1707670184474882,0.1670912581166797,0.350968665206422,0.1680443586502423,0.1720089316062187,0.4483127057808224,0.1044209353853719,0.1707620226044077,0.406229206489633,0.1860158590851265,0.169330745006248,0.1692621693706804,0.043446300164752,0.18685302804224,0.4031679755791059,0.4128214358549248,0.1694661425319329,0.4086798593196177,0.4063514678838355,0.1680393628071619,0.4063937880149952,0.0405044759708084,0.1694547147572834,0.4216191891264692,0.4481114277792182,0.1720634030612921,0.4129521673471009,0.4128265069600588,0.1706892867811376,0.1720634030612921,0.1720748308359415,0.4464123773021137,0.4484198406422173,0.4067187420766389,0.4129795940062596,0.4009799924293136,0.4066913154174802,0.4482849691928718,0.4128172958977554,0.1720072066240648,0.4129521673471009,0.1693131116182648,0.1694023562626825]},{\"label\":\"Dike Investment Costs\",\"values\":[24198032.0,0.0,0.0,0.0,0.0,0.0,0.0,0.0,0.0,0.0,0.0,0.0,0.0,0.0,0.0,0.0,0.0,0.0,0.0,0.0,0.0,0.0,0.0,0.0,0.0,0.0,0.0,0.0,0.0,0.0,0.0,0.0,0.0,0.0,0.0,22167818.0,0.0,22167818.0,0.0,0.0,0.0,0.0,0.0,0.0,0.0,0.0,0.0,0.0,0.0,0.0,0.0,0.0,0.0,0.0,0.0,0.0,0.0,0.0,0.0,0.0,0.0,0.0,0.0,0.0,0.0,0.0,20299287.0,0.0,20299287.0,0.0,22167818.0,20299287.0,0.0,0.0,0.0,0.0,20299287.0,0.0,20299287.0,0.0,0.0,0.0,20299287.0,0.0,0.0,0.0,0.0,0.0,0.0,0.0,0.0,0.0,0.0,0.0,0.0,20299287.0,0.0,20299287.0,0.0,0.0,0.0,0.0,0.0,0.0,0.0,0.0,0.0,0.0,0.0,0.0,0.0,0.0,0.0,0.0,0.0,0.0,0.0,0.0,0.0,0.0,0.0,0.0,0.0,0.0,0.0,0.0,0.0,20299287.0,0.0,0.0,0.0,0.0,0.0,0.0,0.0,0.0,0.0,22167818.0,0.0,0.0,0.0,0.0,0.0,0.0,0.0,0.0,20299287.0,0.0,0.0,0.0,0.0,0.0,0.0,0.0,0.0,0.0,0.0,0.0,0.0,0.0,0.0,0.0,0.0,0.0,0.0,0.0,0.0,0.0]},{\"label\":\"RfR Investment Costs\",\"values\":[0.0,0.0,0.0,151900000.0,236500000.0,115300000.0,0.0,151900000.0,30700000.0,151900000.0,0.0,151900000.0,0.0,151900000.0,0.0,0.0,30700000.0,30700000.0,30700000.0,151900000.0,0.0,30700000.0,0.0,0.0,0.0,0.0,408000000.0,30700000.0,0.0,30700000.0,0.0,0.0,0.0,151900000.0,0.0,30700000.0,408000000.0,0.0,30700000.0,30700000.0,151900000.0,0.0,0.0,151900000.0,0.0,0.0,408000000.0,30700000.0,408000000.0,151900000.0,408000000.0,151900000.0,30700000.0,0.0,151900000.0,151900000.0,0.0,0.0,408000000.0,151900000.0,0.0,30700000.0,0.0,408000000.0,30700000.0,30700000.0,30700000.0,408000000.0,30700000.0,0.0,0.0,0.0,408000000.0,0.0,408000000.0,151900000.0,0.0,408000000.0,0.0,30700000.0,408000000.0,151900000.0,30700000.0,151900000.0,408000000.0,151900000.0,30700000.0,408000000.0,151900000.0,151900000.0,151900000.0,30700000.0,0.0,30700000.0,30700000.0,0.0,30700000.0,151900000.0,0.0,408000000.0,408000000.0,151900000.0,151900000.0,30700000.0,408000000.0,151900000.0,408000000.0,151900000.0,0.0,151900000.0,0.0,30700000.0,0.0,0.0,408000000.0,30700000.0,151900000.0,0.0,408000000.0,0.0,151900000.0,0.0,151900000.0,151900000.0,408000000.0,30700000.0,151900000.0,0.0,151900000.0,115300000.0,0.0,408000000.0,30700000.0,151900000.0,0.0,369700000.0,151900000.0,0.0,0.0,151900000.0,115300000.0,151900000.0,30700000.0,369700000.0,151900000.0,369700000.0,408000000.0,236500000.0,0.0,0.0,115300000.0,30700000.0,115300000.0,30700000.0,30700000.0,30700000.0,0.0,0.0,151900000.0,30700000.0,151900000.0,236500000.0,0.0,30700000.0,30700000.0,115300000.0,369700000.0,236500000.0]},{\"label\":\"Evacuation Costs\",\"values\":[0.0,19040.188576265697,18858.56976989901,17609.592320835265,17512.176938319633,29138.20935819645,33089.24398332204,18326.16899659306,29353.916739213077,33844.81414681162,31609.688066066094,30040.71152796861,38315.44150183793,44939.727733556334,45249.229915594304,38699.118444131294,21229.391828065105,18477.884291288938,31226.55439127768,30606.5386071118,22983.814455813605,39927.59440045717,39462.48035054124,24389.084210606376,23310.527815759087,29934.37850789835,28657.744052755654,35244.107527061205,27256.006725628573,27004.950823050403,40489.69058401449,20780.25430417368,26290.03165814181,29234.67475138666,38415.487453144575,0.0,35603.03261142349,12810.465065944863,24050.50392121656,29760.80733322233,0.0,38156.7232176593,43197.34213467968,18095.110943905805,18577.71725729737,31308.172469558904,31437.158314200205,44832.43788982976,17921.80170345583,21008.762276412654,36307.2631849953,33280.87309678712,17926.509828952745,0.0,21536.130472622663,29123.83243159334,26020.046085830585,17668.088105372673,39056.04609387697,23718.80505475116,29562.92156984159,19220.123206118005,23079.418881107085,18936.264772788832,0.0,48634.92570635487,13624.769447711584,17394.732257397838,0.0,43645.560369961975,0.0,42057.92999130181,47319.55580658037,34498.46905966333,35876.635280883034,30953.778176915388,0.0,0.0,25333.71783005474,18367.746127828887,36963.716013377634,27069.577175977465,12726.121152138956,34657.54772060045,28877.973474195627,39376.922454176725,25816.11804817846,41473.42140010225,20386.523344903,37434.379676681245,18645.099325389037,31908.40766640684,19931.403434659864,29189.91509838645,18345.04165265061,48790.33016024466,17582.63121220454,0.0,29710.40173202452,22942.81493652382,17262.076417659875,22548.708699365645,34877.82799795069,42858.78972842127,29752.99110925284,35224.94680936706,29224.596313679933,20876.075803467567,51981.63008453716,17542.82612350093,23770.341105267195,17681.41808291423,30942.066733921583,18380.05960931727,20108.3255273223,29295.390543121997,19165.50313503152,29435.560708408637,33382.962301218664,31311.28776856827,21217.850313406983,30513.770835780622,35753.34160493997,18303.547660354925,17603.521544240146,30455.63555615824,31817.72981401716,29388.99887299444,30386.749045511104,29239.519990916368,17807.312757363405,38088.65760946336,30493.32853252842,17762.836605537163,30841.91341543509,29169.75569278445,29489.084208411296,15872.104216787246,29331.7868936851,18435.938549224997,17612.51086511668,28895.22791905289,18809.406880393148,17688.562547164096,30424.30399825019,17570.48813494781,0.0,28914.420099468574,23139.68185412944,18031.0609365223,28979.67946240784,17467.95841838163,17551.486107525398,30676.175092960148,28999.54034301638,28960.487281992144,18638.044903256294,17730.596567888493,17405.125523005976,17444.43469221174,20046.831794770595,17416.685989326957,17896.14786681948,17672.494453658546,29339.10212033157,17455.99515853272,29365.777666190395,29072.9499952572]}],\"domain\":{\"x\":[0.0,1.0],\"y\":[0.0,1.0]},\"line\":{\"color\":[0,1,2,3,4,5,6,7,8,9,10,11,12,13,14,15,16,17,18,19,20,21,22,23,24,25,26,27,28,29,30,31,32,33,34,35,36,37,38,39,40,41,42,43,44,45,46,47,48,49,50,51,52,53,54,55,56,57,58,59,60,61,62,63,64,65,66,67,68,69,70,71,72,73,74,75,76,77,78,79,80,81,82,83,84,85,86,87,88,89,90,91,92,93,94,95,96,97,98,99,100,101,102,103,104,105,106,107,108,109,110,111,112,113,114,115,116,117,118,119,120,121,122,123,124,125,126,127,128,129,130,131,132,133,134,135,136,137,138,139,140,141,142,143,144,145,146,147,148,149,150,151,152,153,154,155,156,157,158,159,160,161,162,163,164,165,166,167],\"coloraxis\":\"coloraxis\"},\"name\":\"\",\"type\":\"parcoords\"}],                        {\"template\":{\"data\":{\"histogram2dcontour\":[{\"type\":\"histogram2dcontour\",\"colorbar\":{\"outlinewidth\":0,\"ticks\":\"\"},\"colorscale\":[[0.0,\"#0d0887\"],[0.1111111111111111,\"#46039f\"],[0.2222222222222222,\"#7201a8\"],[0.3333333333333333,\"#9c179e\"],[0.4444444444444444,\"#bd3786\"],[0.5555555555555556,\"#d8576b\"],[0.6666666666666666,\"#ed7953\"],[0.7777777777777778,\"#fb9f3a\"],[0.8888888888888888,\"#fdca26\"],[1.0,\"#f0f921\"]]}],\"choropleth\":[{\"type\":\"choropleth\",\"colorbar\":{\"outlinewidth\":0,\"ticks\":\"\"}}],\"histogram2d\":[{\"type\":\"histogram2d\",\"colorbar\":{\"outlinewidth\":0,\"ticks\":\"\"},\"colorscale\":[[0.0,\"#0d0887\"],[0.1111111111111111,\"#46039f\"],[0.2222222222222222,\"#7201a8\"],[0.3333333333333333,\"#9c179e\"],[0.4444444444444444,\"#bd3786\"],[0.5555555555555556,\"#d8576b\"],[0.6666666666666666,\"#ed7953\"],[0.7777777777777778,\"#fb9f3a\"],[0.8888888888888888,\"#fdca26\"],[1.0,\"#f0f921\"]]}],\"heatmap\":[{\"type\":\"heatmap\",\"colorbar\":{\"outlinewidth\":0,\"ticks\":\"\"},\"colorscale\":[[0.0,\"#0d0887\"],[0.1111111111111111,\"#46039f\"],[0.2222222222222222,\"#7201a8\"],[0.3333333333333333,\"#9c179e\"],[0.4444444444444444,\"#bd3786\"],[0.5555555555555556,\"#d8576b\"],[0.6666666666666666,\"#ed7953\"],[0.7777777777777778,\"#fb9f3a\"],[0.8888888888888888,\"#fdca26\"],[1.0,\"#f0f921\"]]}],\"heatmapgl\":[{\"type\":\"heatmapgl\",\"colorbar\":{\"outlinewidth\":0,\"ticks\":\"\"},\"colorscale\":[[0.0,\"#0d0887\"],[0.1111111111111111,\"#46039f\"],[0.2222222222222222,\"#7201a8\"],[0.3333333333333333,\"#9c179e\"],[0.4444444444444444,\"#bd3786\"],[0.5555555555555556,\"#d8576b\"],[0.6666666666666666,\"#ed7953\"],[0.7777777777777778,\"#fb9f3a\"],[0.8888888888888888,\"#fdca26\"],[1.0,\"#f0f921\"]]}],\"contourcarpet\":[{\"type\":\"contourcarpet\",\"colorbar\":{\"outlinewidth\":0,\"ticks\":\"\"}}],\"contour\":[{\"type\":\"contour\",\"colorbar\":{\"outlinewidth\":0,\"ticks\":\"\"},\"colorscale\":[[0.0,\"#0d0887\"],[0.1111111111111111,\"#46039f\"],[0.2222222222222222,\"#7201a8\"],[0.3333333333333333,\"#9c179e\"],[0.4444444444444444,\"#bd3786\"],[0.5555555555555556,\"#d8576b\"],[0.6666666666666666,\"#ed7953\"],[0.7777777777777778,\"#fb9f3a\"],[0.8888888888888888,\"#fdca26\"],[1.0,\"#f0f921\"]]}],\"surface\":[{\"type\":\"surface\",\"colorbar\":{\"outlinewidth\":0,\"ticks\":\"\"},\"colorscale\":[[0.0,\"#0d0887\"],[0.1111111111111111,\"#46039f\"],[0.2222222222222222,\"#7201a8\"],[0.3333333333333333,\"#9c179e\"],[0.4444444444444444,\"#bd3786\"],[0.5555555555555556,\"#d8576b\"],[0.6666666666666666,\"#ed7953\"],[0.7777777777777778,\"#fb9f3a\"],[0.8888888888888888,\"#fdca26\"],[1.0,\"#f0f921\"]]}],\"mesh3d\":[{\"type\":\"mesh3d\",\"colorbar\":{\"outlinewidth\":0,\"ticks\":\"\"}}],\"scatter\":[{\"fillpattern\":{\"fillmode\":\"overlay\",\"size\":10,\"solidity\":0.2},\"type\":\"scatter\"}],\"parcoords\":[{\"type\":\"parcoords\",\"line\":{\"colorbar\":{\"outlinewidth\":0,\"ticks\":\"\"}}}],\"scatterpolargl\":[{\"type\":\"scatterpolargl\",\"marker\":{\"colorbar\":{\"outlinewidth\":0,\"ticks\":\"\"}}}],\"bar\":[{\"error_x\":{\"color\":\"#2a3f5f\"},\"error_y\":{\"color\":\"#2a3f5f\"},\"marker\":{\"line\":{\"color\":\"#E5ECF6\",\"width\":0.5},\"pattern\":{\"fillmode\":\"overlay\",\"size\":10,\"solidity\":0.2}},\"type\":\"bar\"}],\"scattergeo\":[{\"type\":\"scattergeo\",\"marker\":{\"colorbar\":{\"outlinewidth\":0,\"ticks\":\"\"}}}],\"scatterpolar\":[{\"type\":\"scatterpolar\",\"marker\":{\"colorbar\":{\"outlinewidth\":0,\"ticks\":\"\"}}}],\"histogram\":[{\"marker\":{\"pattern\":{\"fillmode\":\"overlay\",\"size\":10,\"solidity\":0.2}},\"type\":\"histogram\"}],\"scattergl\":[{\"type\":\"scattergl\",\"marker\":{\"colorbar\":{\"outlinewidth\":0,\"ticks\":\"\"}}}],\"scatter3d\":[{\"type\":\"scatter3d\",\"line\":{\"colorbar\":{\"outlinewidth\":0,\"ticks\":\"\"}},\"marker\":{\"colorbar\":{\"outlinewidth\":0,\"ticks\":\"\"}}}],\"scattermapbox\":[{\"type\":\"scattermapbox\",\"marker\":{\"colorbar\":{\"outlinewidth\":0,\"ticks\":\"\"}}}],\"scatterternary\":[{\"type\":\"scatterternary\",\"marker\":{\"colorbar\":{\"outlinewidth\":0,\"ticks\":\"\"}}}],\"scattercarpet\":[{\"type\":\"scattercarpet\",\"marker\":{\"colorbar\":{\"outlinewidth\":0,\"ticks\":\"\"}}}],\"carpet\":[{\"aaxis\":{\"endlinecolor\":\"#2a3f5f\",\"gridcolor\":\"white\",\"linecolor\":\"white\",\"minorgridcolor\":\"white\",\"startlinecolor\":\"#2a3f5f\"},\"baxis\":{\"endlinecolor\":\"#2a3f5f\",\"gridcolor\":\"white\",\"linecolor\":\"white\",\"minorgridcolor\":\"white\",\"startlinecolor\":\"#2a3f5f\"},\"type\":\"carpet\"}],\"table\":[{\"cells\":{\"fill\":{\"color\":\"#EBF0F8\"},\"line\":{\"color\":\"white\"}},\"header\":{\"fill\":{\"color\":\"#C8D4E3\"},\"line\":{\"color\":\"white\"}},\"type\":\"table\"}],\"barpolar\":[{\"marker\":{\"line\":{\"color\":\"#E5ECF6\",\"width\":0.5},\"pattern\":{\"fillmode\":\"overlay\",\"size\":10,\"solidity\":0.2}},\"type\":\"barpolar\"}],\"pie\":[{\"automargin\":true,\"type\":\"pie\"}]},\"layout\":{\"autotypenumbers\":\"strict\",\"colorway\":[\"#636efa\",\"#EF553B\",\"#00cc96\",\"#ab63fa\",\"#FFA15A\",\"#19d3f3\",\"#FF6692\",\"#B6E880\",\"#FF97FF\",\"#FECB52\"],\"font\":{\"color\":\"#2a3f5f\"},\"hovermode\":\"closest\",\"hoverlabel\":{\"align\":\"left\"},\"paper_bgcolor\":\"white\",\"plot_bgcolor\":\"#E5ECF6\",\"polar\":{\"bgcolor\":\"#E5ECF6\",\"angularaxis\":{\"gridcolor\":\"white\",\"linecolor\":\"white\",\"ticks\":\"\"},\"radialaxis\":{\"gridcolor\":\"white\",\"linecolor\":\"white\",\"ticks\":\"\"}},\"ternary\":{\"bgcolor\":\"#E5ECF6\",\"aaxis\":{\"gridcolor\":\"white\",\"linecolor\":\"white\",\"ticks\":\"\"},\"baxis\":{\"gridcolor\":\"white\",\"linecolor\":\"white\",\"ticks\":\"\"},\"caxis\":{\"gridcolor\":\"white\",\"linecolor\":\"white\",\"ticks\":\"\"}},\"coloraxis\":{\"colorbar\":{\"outlinewidth\":0,\"ticks\":\"\"}},\"colorscale\":{\"sequential\":[[0.0,\"#0d0887\"],[0.1111111111111111,\"#46039f\"],[0.2222222222222222,\"#7201a8\"],[0.3333333333333333,\"#9c179e\"],[0.4444444444444444,\"#bd3786\"],[0.5555555555555556,\"#d8576b\"],[0.6666666666666666,\"#ed7953\"],[0.7777777777777778,\"#fb9f3a\"],[0.8888888888888888,\"#fdca26\"],[1.0,\"#f0f921\"]],\"sequentialminus\":[[0.0,\"#0d0887\"],[0.1111111111111111,\"#46039f\"],[0.2222222222222222,\"#7201a8\"],[0.3333333333333333,\"#9c179e\"],[0.4444444444444444,\"#bd3786\"],[0.5555555555555556,\"#d8576b\"],[0.6666666666666666,\"#ed7953\"],[0.7777777777777778,\"#fb9f3a\"],[0.8888888888888888,\"#fdca26\"],[1.0,\"#f0f921\"]],\"diverging\":[[0,\"#8e0152\"],[0.1,\"#c51b7d\"],[0.2,\"#de77ae\"],[0.3,\"#f1b6da\"],[0.4,\"#fde0ef\"],[0.5,\"#f7f7f7\"],[0.6,\"#e6f5d0\"],[0.7,\"#b8e186\"],[0.8,\"#7fbc41\"],[0.9,\"#4d9221\"],[1,\"#276419\"]]},\"xaxis\":{\"gridcolor\":\"white\",\"linecolor\":\"white\",\"ticks\":\"\",\"title\":{\"standoff\":15},\"zerolinecolor\":\"white\",\"automargin\":true,\"zerolinewidth\":2},\"yaxis\":{\"gridcolor\":\"white\",\"linecolor\":\"white\",\"ticks\":\"\",\"title\":{\"standoff\":15},\"zerolinecolor\":\"white\",\"automargin\":true,\"zerolinewidth\":2},\"scene\":{\"xaxis\":{\"backgroundcolor\":\"#E5ECF6\",\"gridcolor\":\"white\",\"linecolor\":\"white\",\"showbackground\":true,\"ticks\":\"\",\"zerolinecolor\":\"white\",\"gridwidth\":2},\"yaxis\":{\"backgroundcolor\":\"#E5ECF6\",\"gridcolor\":\"white\",\"linecolor\":\"white\",\"showbackground\":true,\"ticks\":\"\",\"zerolinecolor\":\"white\",\"gridwidth\":2},\"zaxis\":{\"backgroundcolor\":\"#E5ECF6\",\"gridcolor\":\"white\",\"linecolor\":\"white\",\"showbackground\":true,\"ticks\":\"\",\"zerolinecolor\":\"white\",\"gridwidth\":2}},\"shapedefaults\":{\"line\":{\"color\":\"#2a3f5f\"}},\"annotationdefaults\":{\"arrowcolor\":\"#2a3f5f\",\"arrowhead\":0,\"arrowwidth\":1},\"geo\":{\"bgcolor\":\"white\",\"landcolor\":\"#E5ECF6\",\"subunitcolor\":\"white\",\"showland\":true,\"showlakes\":true,\"lakecolor\":\"white\"},\"title\":{\"x\":0.05},\"mapbox\":{\"style\":\"light\"}}},\"coloraxis\":{\"colorbar\":{\"title\":{\"text\":\"_index\"}},\"colorscale\":[[0.0,\"#0d0887\"],[0.1111111111111111,\"#46039f\"],[0.2222222222222222,\"#7201a8\"],[0.3333333333333333,\"#9c179e\"],[0.4444444444444444,\"#bd3786\"],[0.5555555555555556,\"#d8576b\"],[0.6666666666666666,\"#ed7953\"],[0.7777777777777778,\"#fb9f3a\"],[0.8888888888888888,\"#fdca26\"],[1.0,\"#f0f921\"]]},\"legend\":{\"tracegroupgap\":0},\"margin\":{\"t\":60},\"showlegend\":false},                        {\"responsive\": true}                    ).then(function(){\n",
       "                            \n",
       "var gd = document.getElementById('003056a9-2a7d-40ef-ab26-b6c156af2d49');\n",
       "var x = new MutationObserver(function (mutations, observer) {{\n",
       "        var display = window.getComputedStyle(gd).display;\n",
       "        if (!display || display === 'none') {{\n",
       "            console.log([gd, 'removed!']);\n",
       "            Plotly.purge(gd);\n",
       "            observer.disconnect();\n",
       "        }}\n",
       "}});\n",
       "\n",
       "// Listen for the removal of the full notebook cells\n",
       "var notebookContainer = gd.closest('#notebook-container');\n",
       "if (notebookContainer) {{\n",
       "    x.observe(notebookContainer, {childList: true});\n",
       "}}\n",
       "\n",
       "// Listen for the clearing of the current output cell\n",
       "var outputEl = gd.closest('.output');\n",
       "if (outputEl) {{\n",
       "    x.observe(outputEl, {childList: true});\n",
       "}}\n",
       "\n",
       "                        })                };                });            </script>        </div>"
      ]
     },
     "metadata": {},
     "output_type": "display_data"
    }
   ],
   "source": [
    "# extract DataFrame from the tuple\n",
    "df = results[1]\n",
    "\n",
    "df1=pd.DataFrame(df)\n",
    "df1=df1.reset_index()\n",
    "fig1 = px.parallel_coordinates(df1, labels= \n",
    "    {\"A3 Expected Annual Damage\" : \"A3 Damage\", \n",
    "    \"A3 Aggr Expected Number of Deaths\" : \"A3 Casualties\", \n",
    "    \"A3 Dike Investment Costs\" : \"Dike Investment Costs\", \n",
    "    \"Room for River Investment Costs\" : \"RfR Investment Costs\",\n",
    "    \"Evacuation Costs\" : \"Evacuation Costs\"}, \n",
    "    color=df1.index, \n",
    "    dimensions = [\"A3 Expected Annual Damage\", \n",
    "                  \"A3 Aggr Expected Number of Deaths\", \n",
    "                  \"A3 Dike Investment Costs\", \n",
    "                  \"Room for River Investment Costs\",\n",
    "                  \"Evacuation Costs\"])\n",
    "fig1.update_layout(showlegend=False)\n",
    "fig1.show()\n"
   ]
  },
  {
   "cell_type": "code",
   "execution_count": 22,
   "metadata": {},
   "outputs": [
    {
     "data": {
      "text/plain": [
       "(     0_RfR 0  1_RfR 0  2_RfR 0  3_RfR 0  4_RfR 0  EWS_DaysToThreat  \\\n",
       " 0          0        0        0        0        0                 0   \n",
       " 1          0        0        0        0        0                 1   \n",
       " 2          0        0        0        0        0                 1   \n",
       " 3          0        0        1        1        0                 1   \n",
       " 4          1        0        1        1        0                 1   \n",
       " ..       ...      ...      ...      ...      ...               ...   \n",
       " 163        0        0        1        0        0                 1   \n",
       " 164        0        0        1        0        0                 2   \n",
       " 165        1        0        1        0        0                 1   \n",
       " 166        0        1        1        1        0                 2   \n",
       " 167        1        0        1        1        0                 2   \n",
       " \n",
       "      A.1_DikeIncrease 0  A.2_DikeIncrease 0  A.3_DikeIncrease 0  \\\n",
       " 0                     6                   0                   3   \n",
       " 1                     6                   4                   0   \n",
       " 2                     1                   5                   0   \n",
       " 3                     5                   6                   0   \n",
       " 4                     0                   8                   0   \n",
       " ..                  ...                 ...                 ...   \n",
       " 163                   2                  10                   0   \n",
       " 164                   2                  10                   0   \n",
       " 165                   1                   9                   0   \n",
       " 166                   0                   6                   0   \n",
       " 167                   0                   9                   0   \n",
       " \n",
       "      A.4_DikeIncrease 0  A.5_DikeIncrease 0  \n",
       " 0                     5                   1  \n",
       " 1                     6                   0  \n",
       " 2                     6                  10  \n",
       " 3                     4                   1  \n",
       " 4                     2                   9  \n",
       " ..                  ...                 ...  \n",
       " 163                   5                   1  \n",
       " 164                   3                   4  \n",
       " 165                   7                   4  \n",
       " 166                   5                   2  \n",
       " 167                   3                   5  \n",
       " \n",
       " [168 rows x 11 columns],\n",
       " {'A3 Expected Annual Damage': array([0.00000000e+00, 5.10628379e+08, 5.11240420e+08, 4.81331651e+08,\n",
       "         4.81352176e+08, 4.86038886e+08, 5.10576076e+08, 4.78959944e+08,\n",
       "         4.86018361e+08, 4.73513139e+08, 5.10628379e+08, 4.79399056e+08,\n",
       "         4.92726977e+08, 4.12587009e+08, 4.73599506e+08, 4.92608928e+08,\n",
       "         4.76743237e+08, 4.83766109e+08, 4.83040164e+08, 4.78875412e+08,\n",
       "         5.00501759e+08, 4.72811154e+08, 4.92219614e+08, 4.90287466e+08,\n",
       "         4.92608928e+08, 5.12528269e+08, 3.21002683e+08, 4.76743237e+08,\n",
       "         4.73599506e+08, 4.72244138e+08, 4.90287466e+08, 5.07495673e+08,\n",
       "         4.86571890e+08, 4.81331651e+08, 4.92717111e+08, 0.00000000e+00,\n",
       "         3.21002683e+08, 7.99928996e+07, 4.72811154e+08, 4.85567312e+08,\n",
       "         4.12587009e+08, 5.00501759e+08, 4.86590549e+08, 4.79399056e+08,\n",
       "         5.11417621e+08, 5.11240420e+08, 3.17884610e+08, 4.72244138e+08,\n",
       "         3.19198928e+08, 4.19789885e+08, 3.20351639e+08, 4.77234421e+08,\n",
       "         4.85567312e+08, 4.72501222e+08, 4.18049608e+08, 4.81404613e+08,\n",
       "         4.86590549e+08, 5.12726306e+08, 3.17884610e+08, 4.16019117e+08,\n",
       "         5.12646958e+08, 4.81914314e+08, 4.92726977e+08, 3.17884610e+08,\n",
       "         4.72139069e+08, 4.72139069e+08, 4.51519660e+07, 3.20970307e+08,\n",
       "         4.51519660e+07, 4.86571890e+08, 5.18202407e+07, 4.21221712e+08,\n",
       "         3.00142566e+08, 5.07495673e+08, 3.20970307e+08, 4.78157812e+08,\n",
       "         4.20123428e+08, 3.00142566e+08, 4.21221712e+08, 4.83874113e+08,\n",
       "         3.19198928e+08, 4.12587009e+08, 8.31800366e+07, 4.19819071e+08,\n",
       "         3.20970307e+08, 4.16019117e+08, 4.72320536e+08, 3.17622609e+08,\n",
       "         4.73513139e+08, 4.16512897e+08, 4.78157812e+08, 4.81914314e+08,\n",
       "         5.10576076e+08, 4.86091323e+08, 4.83881183e+08, 4.20123428e+08,\n",
       "         4.86091323e+08, 1.83799870e+07, 5.12630603e+08, 3.00142566e+08,\n",
       "         3.21002683e+08, 4.16512897e+08, 4.19789885e+08, 4.72320536e+08,\n",
       "         3.19198928e+08, 4.19202319e+08, 3.20351639e+08, 4.19819071e+08,\n",
       "         4.72501222e+08, 4.81404613e+08, 4.92219614e+08, 4.86018361e+08,\n",
       "         5.11402475e+08, 5.12113815e+08, 3.17622609e+08, 4.72139069e+08,\n",
       "         4.77263847e+08, 5.12710133e+08, 3.17622609e+08, 4.72501222e+08,\n",
       "         4.19202319e+08, 5.12113815e+08, 4.18049608e+08, 4.78967014e+08,\n",
       "         3.20351639e+08, 4.83881183e+08, 4.77263847e+08, 4.20123428e+08,\n",
       "         4.78967014e+08, 4.86035895e+08, 5.12646958e+08, 3.00142566e+08,\n",
       "         4.83874113e+08, 4.81144765e+08, 5.11417621e+08, 4.81249740e+08,\n",
       "         4.81144765e+08, 5.18202407e+07, 5.12726306e+08, 4.78875412e+08,\n",
       "         4.86035895e+08, 4.81442448e+08, 4.83040164e+08, 4.81224785e+08,\n",
       "         4.78959944e+08, 4.81249740e+08, 1.74636207e+07, 4.81426275e+08,\n",
       "         4.92717111e+08, 5.12528269e+08, 4.86112985e+08, 4.86112985e+08,\n",
       "         4.86038886e+08, 4.83766109e+08, 4.86112985e+08, 4.86129158e+08,\n",
       "         5.11402475e+08, 5.12710133e+08, 4.81442448e+08, 4.86129158e+08,\n",
       "         4.77234421e+08, 4.81426275e+08, 5.12630603e+08, 4.86033454e+08,\n",
       "         4.86033454e+08, 4.86112985e+08, 4.81224785e+08, 4.81352176e+08]),\n",
       "  'A3 Aggr Expected Number of Deaths': array([0.        , 0.44527405, 0.44613756, 0.40653085, 0.40656566,\n",
       "         0.17201104, 0.1854999 , 0.40329447, 0.17199654, 0.1650186 ,\n",
       "         0.18553085, 0.16827214, 0.17568163, 0.14354086, 0.16506633,\n",
       "         0.17559822, 0.40032856, 0.40965429, 0.17028327, 0.16798666,\n",
       "         0.4318383 , 0.16463068, 0.17535687, 0.41829159, 0.42143573,\n",
       "         0.18671309, 0.11238949, 0.16680357, 0.39615919, 0.39436163,\n",
       "         0.17428816, 0.44111397, 0.41336381, 0.16938785, 0.17567466,\n",
       "         0.        , 0.08991159, 0.06750921, 0.39511364, 0.17169946,\n",
       "         0.95693905, 0.17993262, 0.17224523, 0.40385313, 0.44643806,\n",
       "         0.18589065, 0.11065786, 0.16431735, 0.26732199, 0.35241752,\n",
       "         0.08961692, 0.167075  , 0.4120787 , 1.09639608, 0.35009502,\n",
       "         0.16943941, 0.41338856, 0.44844727, 0.08852629, 0.34740208,\n",
       "         0.18679696, 0.4071867 , 0.42163592, 0.26557888, 1.0950619 ,\n",
       "         0.16425928, 0.03770057, 0.26968189, 0.1047238 , 0.17223492,\n",
       "         0.12068417, 0.14684386, 0.08353675, 0.18379749, 0.08989396,\n",
       "         0.16758527, 0.97491296, 0.69613957, 0.35242526, 0.40982885,\n",
       "         0.08910733, 0.34449806, 0.06950451, 0.14686107, 0.11236746,\n",
       "         0.14475087, 0.39446295, 0.08841047, 0.39604464, 0.14502373,\n",
       "         0.40220464, 0.16966113, 0.44519976, 0.1720481 , 0.40984084,\n",
       "         0.14623694, 0.41291543, 0.04262986, 0.1867854 , 0.25061024,\n",
       "         0.26973478, 0.34805695, 0.14684063, 0.16435956, 0.11138416,\n",
       "         0.14650992, 0.11202116, 0.35246657, 0.16445941, 0.40665458,\n",
       "         0.42085649, 0.4127917 , 0.18600516, 0.44740858, 0.2652314 ,\n",
       "         0.39422228, 0.40101902, 0.1868416 , 0.11051308, 0.39470259,\n",
       "         0.3516238 , 0.18642024, 0.14587292, 0.40330646, 0.26885077,\n",
       "         0.17076702, 0.16709126, 0.35096867, 0.16804436, 0.17200893,\n",
       "         0.44831271, 0.10442094, 0.17076202, 0.40622921, 0.18601586,\n",
       "         0.16933075, 0.16926217, 0.0434463 , 0.18685303, 0.40316798,\n",
       "         0.41282144, 0.16946614, 0.40867986, 0.40635147, 0.16803936,\n",
       "         0.40639379, 0.04050448, 0.16945471, 0.42161919, 0.44811143,\n",
       "         0.1720634 , 0.41295217, 0.41282651, 0.17068929, 0.1720634 ,\n",
       "         0.17207483, 0.44641238, 0.44841984, 0.40671874, 0.41297959,\n",
       "         0.40097999, 0.40669132, 0.44828497, 0.4128173 , 0.17200721,\n",
       "         0.41295217, 0.16931311, 0.16940236]),\n",
       "  'A3 Dike Investment Costs': array([24198032.,        0.,        0.,        0.,        0.,        0.,\n",
       "                0.,        0.,        0.,        0.,        0.,        0.,\n",
       "                0.,        0.,        0.,        0.,        0.,        0.,\n",
       "                0.,        0.,        0.,        0.,        0.,        0.,\n",
       "                0.,        0.,        0.,        0.,        0.,        0.,\n",
       "                0.,        0.,        0.,        0.,        0., 22167818.,\n",
       "                0., 22167818.,        0.,        0.,        0.,        0.,\n",
       "                0.,        0.,        0.,        0.,        0.,        0.,\n",
       "                0.,        0.,        0.,        0.,        0.,        0.,\n",
       "                0.,        0.,        0.,        0.,        0.,        0.,\n",
       "                0.,        0.,        0.,        0.,        0.,        0.,\n",
       "         20299287.,        0., 20299287.,        0., 22167818., 20299287.,\n",
       "                0.,        0.,        0.,        0., 20299287.,        0.,\n",
       "         20299287.,        0.,        0.,        0., 20299287.,        0.,\n",
       "                0.,        0.,        0.,        0.,        0.,        0.,\n",
       "                0.,        0.,        0.,        0.,        0., 20299287.,\n",
       "                0., 20299287.,        0.,        0.,        0.,        0.,\n",
       "                0.,        0.,        0.,        0.,        0.,        0.,\n",
       "                0.,        0.,        0.,        0.,        0.,        0.,\n",
       "                0.,        0.,        0.,        0.,        0.,        0.,\n",
       "                0.,        0.,        0.,        0.,        0.,        0.,\n",
       "                0., 20299287.,        0.,        0.,        0.,        0.,\n",
       "                0.,        0.,        0.,        0.,        0., 22167818.,\n",
       "                0.,        0.,        0.,        0.,        0.,        0.,\n",
       "                0.,        0., 20299287.,        0.,        0.,        0.,\n",
       "                0.,        0.,        0.,        0.,        0.,        0.,\n",
       "                0.,        0.,        0.,        0.,        0.,        0.,\n",
       "                0.,        0.,        0.,        0.,        0.,        0.]),\n",
       "  'Room for River Investment Costs': array([0.000e+00, 0.000e+00, 0.000e+00, 1.519e+08, 2.365e+08, 1.153e+08,\n",
       "         0.000e+00, 1.519e+08, 3.070e+07, 1.519e+08, 0.000e+00, 1.519e+08,\n",
       "         0.000e+00, 1.519e+08, 0.000e+00, 0.000e+00, 3.070e+07, 3.070e+07,\n",
       "         3.070e+07, 1.519e+08, 0.000e+00, 3.070e+07, 0.000e+00, 0.000e+00,\n",
       "         0.000e+00, 0.000e+00, 4.080e+08, 3.070e+07, 0.000e+00, 3.070e+07,\n",
       "         0.000e+00, 0.000e+00, 0.000e+00, 1.519e+08, 0.000e+00, 3.070e+07,\n",
       "         4.080e+08, 0.000e+00, 3.070e+07, 3.070e+07, 1.519e+08, 0.000e+00,\n",
       "         0.000e+00, 1.519e+08, 0.000e+00, 0.000e+00, 4.080e+08, 3.070e+07,\n",
       "         4.080e+08, 1.519e+08, 4.080e+08, 1.519e+08, 3.070e+07, 0.000e+00,\n",
       "         1.519e+08, 1.519e+08, 0.000e+00, 0.000e+00, 4.080e+08, 1.519e+08,\n",
       "         0.000e+00, 3.070e+07, 0.000e+00, 4.080e+08, 3.070e+07, 3.070e+07,\n",
       "         3.070e+07, 4.080e+08, 3.070e+07, 0.000e+00, 0.000e+00, 0.000e+00,\n",
       "         4.080e+08, 0.000e+00, 4.080e+08, 1.519e+08, 0.000e+00, 4.080e+08,\n",
       "         0.000e+00, 3.070e+07, 4.080e+08, 1.519e+08, 3.070e+07, 1.519e+08,\n",
       "         4.080e+08, 1.519e+08, 3.070e+07, 4.080e+08, 1.519e+08, 1.519e+08,\n",
       "         1.519e+08, 3.070e+07, 0.000e+00, 3.070e+07, 3.070e+07, 0.000e+00,\n",
       "         3.070e+07, 1.519e+08, 0.000e+00, 4.080e+08, 4.080e+08, 1.519e+08,\n",
       "         1.519e+08, 3.070e+07, 4.080e+08, 1.519e+08, 4.080e+08, 1.519e+08,\n",
       "         0.000e+00, 1.519e+08, 0.000e+00, 3.070e+07, 0.000e+00, 0.000e+00,\n",
       "         4.080e+08, 3.070e+07, 1.519e+08, 0.000e+00, 4.080e+08, 0.000e+00,\n",
       "         1.519e+08, 0.000e+00, 1.519e+08, 1.519e+08, 4.080e+08, 3.070e+07,\n",
       "         1.519e+08, 0.000e+00, 1.519e+08, 1.153e+08, 0.000e+00, 4.080e+08,\n",
       "         3.070e+07, 1.519e+08, 0.000e+00, 3.697e+08, 1.519e+08, 0.000e+00,\n",
       "         0.000e+00, 1.519e+08, 1.153e+08, 1.519e+08, 3.070e+07, 3.697e+08,\n",
       "         1.519e+08, 3.697e+08, 4.080e+08, 2.365e+08, 0.000e+00, 0.000e+00,\n",
       "         1.153e+08, 3.070e+07, 1.153e+08, 3.070e+07, 3.070e+07, 3.070e+07,\n",
       "         0.000e+00, 0.000e+00, 1.519e+08, 3.070e+07, 1.519e+08, 2.365e+08,\n",
       "         0.000e+00, 3.070e+07, 3.070e+07, 1.153e+08, 3.697e+08, 2.365e+08]),\n",
       "  'Evacuation Costs': array([    0.        , 19040.18857627, 18858.5697699 , 17609.59232084,\n",
       "         17512.17693832, 29138.2093582 , 33089.24398332, 18326.16899659,\n",
       "         29353.91673921, 33844.81414681, 31609.68806607, 30040.71152797,\n",
       "         38315.44150184, 44939.72773356, 45249.22991559, 38699.11844413,\n",
       "         21229.39182807, 18477.88429129, 31226.55439128, 30606.53860711,\n",
       "         22983.81445581, 39927.59440046, 39462.48035054, 24389.08421061,\n",
       "         23310.52781576, 29934.3785079 , 28657.74405276, 35244.10752706,\n",
       "         27256.00672563, 27004.95082305, 40489.69058401, 20780.25430417,\n",
       "         26290.03165814, 29234.67475139, 38415.48745314,     0.        ,\n",
       "         35603.03261142, 12810.46506594, 24050.50392122, 29760.80733322,\n",
       "             0.        , 38156.72321766, 43197.34213468, 18095.11094391,\n",
       "         18577.7172573 , 31308.17246956, 31437.1583142 , 44832.43788983,\n",
       "         17921.80170346, 21008.76227641, 36307.263185  , 33280.87309679,\n",
       "         17926.50982895,     0.        , 21536.13047262, 29123.83243159,\n",
       "         26020.04608583, 17668.08810537, 39056.04609388, 23718.80505475,\n",
       "         29562.92156984, 19220.12320612, 23079.41888111, 18936.26477279,\n",
       "             0.        , 48634.92570635, 13624.76944771, 17394.7322574 ,\n",
       "             0.        , 43645.56036996,     0.        , 42057.9299913 ,\n",
       "         47319.55580658, 34498.46905966, 35876.63528088, 30953.77817692,\n",
       "             0.        ,     0.        , 25333.71783005, 18367.74612783,\n",
       "         36963.71601338, 27069.57717598, 12726.12115214, 34657.5477206 ,\n",
       "         28877.9734742 , 39376.92245418, 25816.11804818, 41473.4214001 ,\n",
       "         20386.5233449 , 37434.37967668, 18645.09932539, 31908.40766641,\n",
       "         19931.40343466, 29189.91509839, 18345.04165265, 48790.33016024,\n",
       "         17582.6312122 ,     0.        , 29710.40173202, 22942.81493652,\n",
       "         17262.07641766, 22548.70869937, 34877.82799795, 42858.78972842,\n",
       "         29752.99110925, 35224.94680937, 29224.59631368, 20876.07580347,\n",
       "         51981.63008454, 17542.8261235 , 23770.34110527, 17681.41808291,\n",
       "         30942.06673392, 18380.05960932, 20108.32552732, 29295.39054312,\n",
       "         19165.50313503, 29435.56070841, 33382.96230122, 31311.28776857,\n",
       "         21217.85031341, 30513.77083578, 35753.34160494, 18303.54766035,\n",
       "         17603.52154424, 30455.63555616, 31817.72981402, 29388.99887299,\n",
       "         30386.74904551, 29239.51999092, 17807.31275736, 38088.65760946,\n",
       "         30493.32853253, 17762.83660554, 30841.91341544, 29169.75569278,\n",
       "         29489.08420841, 15872.10421679, 29331.78689369, 18435.93854922,\n",
       "         17612.51086512, 28895.22791905, 18809.40688039, 17688.56254716,\n",
       "         30424.30399825, 17570.48813495,     0.        , 28914.42009947,\n",
       "         23139.68185413, 18031.06093652, 28979.67946241, 17467.95841838,\n",
       "         17551.48610753, 30676.17509296, 28999.54034302, 28960.48728199,\n",
       "         18638.04490326, 17730.59656789, 17405.12552301, 17444.43469221,\n",
       "         20046.83179477, 17416.68598933, 17896.14786682, 17672.49445366,\n",
       "         29339.10212033, 17455.99515853, 29365.77766619, 29072.94999526])})"
      ]
     },
     "execution_count": 22,
     "metadata": {},
     "output_type": "execute_result"
    }
   ],
   "source": [
    "results"
   ]
  },
  {
   "cell_type": "markdown",
   "metadata": {
    "tags": []
   },
   "source": [
    "![Tradeoffs](../figures/Gelderland_Tradeoffs_1ReferenceScenario.png)\n"
   ]
  },
  {
   "cell_type": "markdown",
   "metadata": {},
   "source": [
    "To show the tradeoffs more clearly, we aggregate the costs and the expected number of casualties, as well as the investment costs with the evacuation costs"
   ]
  },
  {
   "cell_type": "code",
   "execution_count": 183,
   "metadata": {},
   "outputs": [
    {
     "data": {
      "text/html": [
       "<div>\n",
       "<style scoped>\n",
       "    .dataframe tbody tr th:only-of-type {\n",
       "        vertical-align: middle;\n",
       "    }\n",
       "\n",
       "    .dataframe tbody tr th {\n",
       "        vertical-align: top;\n",
       "    }\n",
       "\n",
       "    .dataframe thead th {\n",
       "        text-align: right;\n",
       "    }\n",
       "</style>\n",
       "<table border=\"1\" class=\"dataframe\">\n",
       "  <thead>\n",
       "    <tr style=\"text-align: right;\">\n",
       "      <th></th>\n",
       "      <th>0_RfR 0</th>\n",
       "      <th>1_RfR 0</th>\n",
       "      <th>2_RfR 0</th>\n",
       "      <th>3_RfR 0</th>\n",
       "      <th>4_RfR 0</th>\n",
       "      <th>EWS_DaysToThreat</th>\n",
       "      <th>A.1_DikeIncrease 0</th>\n",
       "      <th>A.2_DikeIncrease 0</th>\n",
       "      <th>A.3_DikeIncrease 0</th>\n",
       "      <th>A.4_DikeIncrease 0</th>\n",
       "      <th>A.5_DikeIncrease 0</th>\n",
       "      <th>A3 Expected Annual Damage</th>\n",
       "      <th>A3 Aggr Expected Number of Deaths</th>\n",
       "      <th>A3 Dike Investment Costs</th>\n",
       "      <th>Room for River Investment Costs</th>\n",
       "      <th>Evacuation Costs</th>\n",
       "    </tr>\n",
       "  </thead>\n",
       "  <tbody>\n",
       "    <tr>\n",
       "      <th>0</th>\n",
       "      <td>0</td>\n",
       "      <td>0</td>\n",
       "      <td>0</td>\n",
       "      <td>0</td>\n",
       "      <td>0</td>\n",
       "      <td>0</td>\n",
       "      <td>6</td>\n",
       "      <td>0</td>\n",
       "      <td>3</td>\n",
       "      <td>5</td>\n",
       "      <td>1</td>\n",
       "      <td>0.000000e+00</td>\n",
       "      <td>0.000000</td>\n",
       "      <td>24198032.0</td>\n",
       "      <td>0.0</td>\n",
       "      <td>0.000000</td>\n",
       "    </tr>\n",
       "    <tr>\n",
       "      <th>1</th>\n",
       "      <td>0</td>\n",
       "      <td>0</td>\n",
       "      <td>0</td>\n",
       "      <td>0</td>\n",
       "      <td>0</td>\n",
       "      <td>1</td>\n",
       "      <td>6</td>\n",
       "      <td>4</td>\n",
       "      <td>0</td>\n",
       "      <td>6</td>\n",
       "      <td>0</td>\n",
       "      <td>5.106284e+08</td>\n",
       "      <td>0.445274</td>\n",
       "      <td>0.0</td>\n",
       "      <td>0.0</td>\n",
       "      <td>19040.188576</td>\n",
       "    </tr>\n",
       "    <tr>\n",
       "      <th>2</th>\n",
       "      <td>0</td>\n",
       "      <td>0</td>\n",
       "      <td>0</td>\n",
       "      <td>0</td>\n",
       "      <td>0</td>\n",
       "      <td>1</td>\n",
       "      <td>1</td>\n",
       "      <td>5</td>\n",
       "      <td>0</td>\n",
       "      <td>6</td>\n",
       "      <td>10</td>\n",
       "      <td>5.112404e+08</td>\n",
       "      <td>0.446138</td>\n",
       "      <td>0.0</td>\n",
       "      <td>0.0</td>\n",
       "      <td>18858.569770</td>\n",
       "    </tr>\n",
       "    <tr>\n",
       "      <th>3</th>\n",
       "      <td>0</td>\n",
       "      <td>0</td>\n",
       "      <td>1</td>\n",
       "      <td>1</td>\n",
       "      <td>0</td>\n",
       "      <td>1</td>\n",
       "      <td>5</td>\n",
       "      <td>6</td>\n",
       "      <td>0</td>\n",
       "      <td>4</td>\n",
       "      <td>1</td>\n",
       "      <td>4.813317e+08</td>\n",
       "      <td>0.406531</td>\n",
       "      <td>0.0</td>\n",
       "      <td>151900000.0</td>\n",
       "      <td>17609.592321</td>\n",
       "    </tr>\n",
       "    <tr>\n",
       "      <th>4</th>\n",
       "      <td>1</td>\n",
       "      <td>0</td>\n",
       "      <td>1</td>\n",
       "      <td>1</td>\n",
       "      <td>0</td>\n",
       "      <td>1</td>\n",
       "      <td>0</td>\n",
       "      <td>8</td>\n",
       "      <td>0</td>\n",
       "      <td>2</td>\n",
       "      <td>9</td>\n",
       "      <td>4.813522e+08</td>\n",
       "      <td>0.406566</td>\n",
       "      <td>0.0</td>\n",
       "      <td>236500000.0</td>\n",
       "      <td>17512.176938</td>\n",
       "    </tr>\n",
       "    <tr>\n",
       "      <th>...</th>\n",
       "      <td>...</td>\n",
       "      <td>...</td>\n",
       "      <td>...</td>\n",
       "      <td>...</td>\n",
       "      <td>...</td>\n",
       "      <td>...</td>\n",
       "      <td>...</td>\n",
       "      <td>...</td>\n",
       "      <td>...</td>\n",
       "      <td>...</td>\n",
       "      <td>...</td>\n",
       "      <td>...</td>\n",
       "      <td>...</td>\n",
       "      <td>...</td>\n",
       "      <td>...</td>\n",
       "      <td>...</td>\n",
       "    </tr>\n",
       "    <tr>\n",
       "      <th>163</th>\n",
       "      <td>0</td>\n",
       "      <td>0</td>\n",
       "      <td>1</td>\n",
       "      <td>0</td>\n",
       "      <td>0</td>\n",
       "      <td>1</td>\n",
       "      <td>2</td>\n",
       "      <td>10</td>\n",
       "      <td>0</td>\n",
       "      <td>5</td>\n",
       "      <td>1</td>\n",
       "      <td>4.860335e+08</td>\n",
       "      <td>0.412817</td>\n",
       "      <td>0.0</td>\n",
       "      <td>30700000.0</td>\n",
       "      <td>17672.494454</td>\n",
       "    </tr>\n",
       "    <tr>\n",
       "      <th>164</th>\n",
       "      <td>0</td>\n",
       "      <td>0</td>\n",
       "      <td>1</td>\n",
       "      <td>0</td>\n",
       "      <td>0</td>\n",
       "      <td>2</td>\n",
       "      <td>2</td>\n",
       "      <td>10</td>\n",
       "      <td>0</td>\n",
       "      <td>3</td>\n",
       "      <td>4</td>\n",
       "      <td>4.860335e+08</td>\n",
       "      <td>0.172007</td>\n",
       "      <td>0.0</td>\n",
       "      <td>30700000.0</td>\n",
       "      <td>29339.102120</td>\n",
       "    </tr>\n",
       "    <tr>\n",
       "      <th>165</th>\n",
       "      <td>1</td>\n",
       "      <td>0</td>\n",
       "      <td>1</td>\n",
       "      <td>0</td>\n",
       "      <td>0</td>\n",
       "      <td>1</td>\n",
       "      <td>1</td>\n",
       "      <td>9</td>\n",
       "      <td>0</td>\n",
       "      <td>7</td>\n",
       "      <td>4</td>\n",
       "      <td>4.861130e+08</td>\n",
       "      <td>0.412952</td>\n",
       "      <td>0.0</td>\n",
       "      <td>115300000.0</td>\n",
       "      <td>17455.995159</td>\n",
       "    </tr>\n",
       "    <tr>\n",
       "      <th>166</th>\n",
       "      <td>0</td>\n",
       "      <td>1</td>\n",
       "      <td>1</td>\n",
       "      <td>1</td>\n",
       "      <td>0</td>\n",
       "      <td>2</td>\n",
       "      <td>0</td>\n",
       "      <td>6</td>\n",
       "      <td>0</td>\n",
       "      <td>5</td>\n",
       "      <td>2</td>\n",
       "      <td>4.812248e+08</td>\n",
       "      <td>0.169313</td>\n",
       "      <td>0.0</td>\n",
       "      <td>369700000.0</td>\n",
       "      <td>29365.777666</td>\n",
       "    </tr>\n",
       "    <tr>\n",
       "      <th>167</th>\n",
       "      <td>1</td>\n",
       "      <td>0</td>\n",
       "      <td>1</td>\n",
       "      <td>1</td>\n",
       "      <td>0</td>\n",
       "      <td>2</td>\n",
       "      <td>0</td>\n",
       "      <td>9</td>\n",
       "      <td>0</td>\n",
       "      <td>3</td>\n",
       "      <td>5</td>\n",
       "      <td>4.813522e+08</td>\n",
       "      <td>0.169402</td>\n",
       "      <td>0.0</td>\n",
       "      <td>236500000.0</td>\n",
       "      <td>29072.949995</td>\n",
       "    </tr>\n",
       "  </tbody>\n",
       "</table>\n",
       "<p>168 rows × 16 columns</p>\n",
       "</div>"
      ],
      "text/plain": [
       "     0_RfR 0  1_RfR 0  2_RfR 0  3_RfR 0  4_RfR 0  EWS_DaysToThreat  \\\n",
       "0          0        0        0        0        0                 0   \n",
       "1          0        0        0        0        0                 1   \n",
       "2          0        0        0        0        0                 1   \n",
       "3          0        0        1        1        0                 1   \n",
       "4          1        0        1        1        0                 1   \n",
       "..       ...      ...      ...      ...      ...               ...   \n",
       "163        0        0        1        0        0                 1   \n",
       "164        0        0        1        0        0                 2   \n",
       "165        1        0        1        0        0                 1   \n",
       "166        0        1        1        1        0                 2   \n",
       "167        1        0        1        1        0                 2   \n",
       "\n",
       "     A.1_DikeIncrease 0  A.2_DikeIncrease 0  A.3_DikeIncrease 0  \\\n",
       "0                     6                   0                   3   \n",
       "1                     6                   4                   0   \n",
       "2                     1                   5                   0   \n",
       "3                     5                   6                   0   \n",
       "4                     0                   8                   0   \n",
       "..                  ...                 ...                 ...   \n",
       "163                   2                  10                   0   \n",
       "164                   2                  10                   0   \n",
       "165                   1                   9                   0   \n",
       "166                   0                   6                   0   \n",
       "167                   0                   9                   0   \n",
       "\n",
       "     A.4_DikeIncrease 0  A.5_DikeIncrease 0  A3 Expected Annual Damage  \\\n",
       "0                     5                   1               0.000000e+00   \n",
       "1                     6                   0               5.106284e+08   \n",
       "2                     6                  10               5.112404e+08   \n",
       "3                     4                   1               4.813317e+08   \n",
       "4                     2                   9               4.813522e+08   \n",
       "..                  ...                 ...                        ...   \n",
       "163                   5                   1               4.860335e+08   \n",
       "164                   3                   4               4.860335e+08   \n",
       "165                   7                   4               4.861130e+08   \n",
       "166                   5                   2               4.812248e+08   \n",
       "167                   3                   5               4.813522e+08   \n",
       "\n",
       "     A3 Aggr Expected Number of Deaths  A3 Dike Investment Costs  \\\n",
       "0                             0.000000                24198032.0   \n",
       "1                             0.445274                       0.0   \n",
       "2                             0.446138                       0.0   \n",
       "3                             0.406531                       0.0   \n",
       "4                             0.406566                       0.0   \n",
       "..                                 ...                       ...   \n",
       "163                           0.412817                       0.0   \n",
       "164                           0.172007                       0.0   \n",
       "165                           0.412952                       0.0   \n",
       "166                           0.169313                       0.0   \n",
       "167                           0.169402                       0.0   \n",
       "\n",
       "     Room for River Investment Costs  Evacuation Costs  \n",
       "0                                0.0          0.000000  \n",
       "1                                0.0      19040.188576  \n",
       "2                                0.0      18858.569770  \n",
       "3                        151900000.0      17609.592321  \n",
       "4                        236500000.0      17512.176938  \n",
       "..                               ...               ...  \n",
       "163                       30700000.0      17672.494454  \n",
       "164                       30700000.0      29339.102120  \n",
       "165                      115300000.0      17455.995159  \n",
       "166                      369700000.0      29365.777666  \n",
       "167                      236500000.0      29072.949995  \n",
       "\n",
       "[168 rows x 16 columns]"
      ]
     },
     "execution_count": 183,
     "metadata": {},
     "output_type": "execute_result"
    }
   ],
   "source": [
    "# Split the tuple into a DataFrame and a dictionary\n",
    "results_df, results_dict = results\n",
    "\n",
    "# Convert the dictionary into a DataFrame\n",
    "results_dict_df = pd.DataFrame({'A3 Expected Annual Damage': results_dict['A3 Expected Annual Damage'],\n",
    "                                'A3 Aggr Expected Number of Deaths': results_dict['A3 Aggr Expected Number of Deaths'],\n",
    "                                'A3 Dike Investment Costs': results_dict['A3 Dike Investment Costs'],\n",
    "                               'Room for River Investment Costs': results_dict['Room for River Investment Costs'],\n",
    "                               'Evacuation Costs': results_dict['Evacuation Costs']})\n",
    "\n",
    "# Concatenate this DataFrame with the original results DataFrame\n",
    "results_combined = pd.concat([results_df, results_dict_df], axis=1)\n",
    "\n",
    "results_combined"
   ]
  },
  {
   "cell_type": "code",
   "execution_count": 184,
   "metadata": {},
   "outputs": [
    {
     "data": {
      "text/html": [
       "<div>\n",
       "<style scoped>\n",
       "    .dataframe tbody tr th:only-of-type {\n",
       "        vertical-align: middle;\n",
       "    }\n",
       "\n",
       "    .dataframe tbody tr th {\n",
       "        vertical-align: top;\n",
       "    }\n",
       "\n",
       "    .dataframe thead th {\n",
       "        text-align: right;\n",
       "    }\n",
       "</style>\n",
       "<table border=\"1\" class=\"dataframe\">\n",
       "  <thead>\n",
       "    <tr style=\"text-align: right;\">\n",
       "      <th></th>\n",
       "      <th>A3 Expected Annual Damage</th>\n",
       "      <th>A3 Aggr Expected Number of Deaths</th>\n",
       "      <th>A3 Dike Investment Costs</th>\n",
       "      <th>Room for River Investment Costs</th>\n",
       "      <th>Evacuation Costs</th>\n",
       "      <th>Expected Casualties</th>\n",
       "      <th>Expected Damage</th>\n",
       "      <th>Traditional Costs</th>\n",
       "    </tr>\n",
       "  </thead>\n",
       "  <tbody>\n",
       "    <tr>\n",
       "      <th>0</th>\n",
       "      <td>0.000000e+00</td>\n",
       "      <td>0.000000</td>\n",
       "      <td>24198032.0</td>\n",
       "      <td>0.0</td>\n",
       "      <td>0.000000</td>\n",
       "      <td>0.000000</td>\n",
       "      <td>0.000000e+00</td>\n",
       "      <td>2.419803e+07</td>\n",
       "    </tr>\n",
       "    <tr>\n",
       "      <th>1</th>\n",
       "      <td>5.106284e+08</td>\n",
       "      <td>0.445274</td>\n",
       "      <td>0.0</td>\n",
       "      <td>0.0</td>\n",
       "      <td>19040.188576</td>\n",
       "      <td>0.445274</td>\n",
       "      <td>5.106284e+08</td>\n",
       "      <td>1.904019e+04</td>\n",
       "    </tr>\n",
       "    <tr>\n",
       "      <th>2</th>\n",
       "      <td>5.112404e+08</td>\n",
       "      <td>0.446138</td>\n",
       "      <td>0.0</td>\n",
       "      <td>0.0</td>\n",
       "      <td>18858.569770</td>\n",
       "      <td>0.446138</td>\n",
       "      <td>5.112404e+08</td>\n",
       "      <td>1.885857e+04</td>\n",
       "    </tr>\n",
       "    <tr>\n",
       "      <th>3</th>\n",
       "      <td>4.813317e+08</td>\n",
       "      <td>0.406531</td>\n",
       "      <td>0.0</td>\n",
       "      <td>151900000.0</td>\n",
       "      <td>17609.592321</td>\n",
       "      <td>0.406531</td>\n",
       "      <td>4.813317e+08</td>\n",
       "      <td>1.760959e+04</td>\n",
       "    </tr>\n",
       "    <tr>\n",
       "      <th>4</th>\n",
       "      <td>4.813522e+08</td>\n",
       "      <td>0.406566</td>\n",
       "      <td>0.0</td>\n",
       "      <td>236500000.0</td>\n",
       "      <td>17512.176938</td>\n",
       "      <td>0.406566</td>\n",
       "      <td>4.813522e+08</td>\n",
       "      <td>1.751218e+04</td>\n",
       "    </tr>\n",
       "    <tr>\n",
       "      <th>...</th>\n",
       "      <td>...</td>\n",
       "      <td>...</td>\n",
       "      <td>...</td>\n",
       "      <td>...</td>\n",
       "      <td>...</td>\n",
       "      <td>...</td>\n",
       "      <td>...</td>\n",
       "      <td>...</td>\n",
       "    </tr>\n",
       "    <tr>\n",
       "      <th>163</th>\n",
       "      <td>4.860335e+08</td>\n",
       "      <td>0.412817</td>\n",
       "      <td>0.0</td>\n",
       "      <td>30700000.0</td>\n",
       "      <td>17672.494454</td>\n",
       "      <td>0.412817</td>\n",
       "      <td>4.860335e+08</td>\n",
       "      <td>1.767249e+04</td>\n",
       "    </tr>\n",
       "    <tr>\n",
       "      <th>164</th>\n",
       "      <td>4.860335e+08</td>\n",
       "      <td>0.172007</td>\n",
       "      <td>0.0</td>\n",
       "      <td>30700000.0</td>\n",
       "      <td>29339.102120</td>\n",
       "      <td>0.172007</td>\n",
       "      <td>4.860335e+08</td>\n",
       "      <td>2.933910e+04</td>\n",
       "    </tr>\n",
       "    <tr>\n",
       "      <th>165</th>\n",
       "      <td>4.861130e+08</td>\n",
       "      <td>0.412952</td>\n",
       "      <td>0.0</td>\n",
       "      <td>115300000.0</td>\n",
       "      <td>17455.995159</td>\n",
       "      <td>0.412952</td>\n",
       "      <td>4.861130e+08</td>\n",
       "      <td>1.745600e+04</td>\n",
       "    </tr>\n",
       "    <tr>\n",
       "      <th>166</th>\n",
       "      <td>4.812248e+08</td>\n",
       "      <td>0.169313</td>\n",
       "      <td>0.0</td>\n",
       "      <td>369700000.0</td>\n",
       "      <td>29365.777666</td>\n",
       "      <td>0.169313</td>\n",
       "      <td>4.812248e+08</td>\n",
       "      <td>2.936578e+04</td>\n",
       "    </tr>\n",
       "    <tr>\n",
       "      <th>167</th>\n",
       "      <td>4.813522e+08</td>\n",
       "      <td>0.169402</td>\n",
       "      <td>0.0</td>\n",
       "      <td>236500000.0</td>\n",
       "      <td>29072.949995</td>\n",
       "      <td>0.169402</td>\n",
       "      <td>4.813522e+08</td>\n",
       "      <td>2.907295e+04</td>\n",
       "    </tr>\n",
       "  </tbody>\n",
       "</table>\n",
       "<p>168 rows × 8 columns</p>\n",
       "</div>"
      ],
      "text/plain": [
       "     A3 Expected Annual Damage  A3 Aggr Expected Number of Deaths  \\\n",
       "0                 0.000000e+00                           0.000000   \n",
       "1                 5.106284e+08                           0.445274   \n",
       "2                 5.112404e+08                           0.446138   \n",
       "3                 4.813317e+08                           0.406531   \n",
       "4                 4.813522e+08                           0.406566   \n",
       "..                         ...                                ...   \n",
       "163               4.860335e+08                           0.412817   \n",
       "164               4.860335e+08                           0.172007   \n",
       "165               4.861130e+08                           0.412952   \n",
       "166               4.812248e+08                           0.169313   \n",
       "167               4.813522e+08                           0.169402   \n",
       "\n",
       "     A3 Dike Investment Costs  Room for River Investment Costs  \\\n",
       "0                  24198032.0                              0.0   \n",
       "1                         0.0                              0.0   \n",
       "2                         0.0                              0.0   \n",
       "3                         0.0                      151900000.0   \n",
       "4                         0.0                      236500000.0   \n",
       "..                        ...                              ...   \n",
       "163                       0.0                       30700000.0   \n",
       "164                       0.0                       30700000.0   \n",
       "165                       0.0                      115300000.0   \n",
       "166                       0.0                      369700000.0   \n",
       "167                       0.0                      236500000.0   \n",
       "\n",
       "     Evacuation Costs  Expected Casualties  Expected Damage  Traditional Costs  \n",
       "0            0.000000             0.000000     0.000000e+00       2.419803e+07  \n",
       "1        19040.188576             0.445274     5.106284e+08       1.904019e+04  \n",
       "2        18858.569770             0.446138     5.112404e+08       1.885857e+04  \n",
       "3        17609.592321             0.406531     4.813317e+08       1.760959e+04  \n",
       "4        17512.176938             0.406566     4.813522e+08       1.751218e+04  \n",
       "..                ...                  ...              ...                ...  \n",
       "163      17672.494454             0.412817     4.860335e+08       1.767249e+04  \n",
       "164      29339.102120             0.172007     4.860335e+08       2.933910e+04  \n",
       "165      17455.995159             0.412952     4.861130e+08       1.745600e+04  \n",
       "166      29365.777666             0.169313     4.812248e+08       2.936578e+04  \n",
       "167      29072.949995             0.169402     4.813522e+08       2.907295e+04  \n",
       "\n",
       "[168 rows x 8 columns]"
      ]
     },
     "execution_count": 184,
     "metadata": {},
     "output_type": "execute_result"
    }
   ],
   "source": [
    "results_agg = results_combined.loc[:, [\"A3 Expected Annual Damage\", \"A3 Aggr Expected Number of Deaths\", \"A3 Dike Investment Costs\", \"Room for River Investment Costs\", \"Evacuation Costs\"]]\n",
    "\n",
    "results_agg[\"Expected Casualties\"] = results_agg[\"A3 Aggr Expected Number of Deaths\"]\n",
    "results_agg[\"Expected Damage\"] = results_agg[\"A3 Expected Annual Damage\"]\n",
    "results_agg[\"Traditional Costs\"] = results_agg[\"A3 Dike Investment Costs\"] + results_agg[\"Evacuation Costs\"]\n",
    "results_agg"
   ]
  },
  {
   "cell_type": "code",
   "execution_count": 36,
   "metadata": {},
   "outputs": [
    {
     "data": {
      "application/vnd.plotly.v1+json": {
       "config": {
        "plotlyServerURL": "https://plot.ly"
       },
       "data": [
        {
         "dimensions": [
          {
           "label": "Expected Casualties",
           "values": [
            0,
            0.4452740465304944,
            0.4461375572448561,
            0.4065308479988115,
            0.406565655030438,
            0.1720110445666912,
            0.1854999019595166,
            0.4032944707371885,
            0.1719965416368468,
            0.1650186010623409,
            0.1855308527210394,
            0.1682721364461342,
            0.1756816335338525,
            0.1435408576542374,
            0.1650663278151055,
            0.1755982204028143,
            0.4003285602542979,
            0.4096542882747302,
            0.1702832747165074,
            0.1679866564912941,
            0.4318382973159296,
            0.1646306815679784,
            0.1753568716687134,
            0.4182915924452633,
            0.4214357289667542,
            0.1867130949080076,
            0.1123894928894364,
            0.1668035667726241,
            0.3961591867562532,
            0.3943616306304804,
            0.1742881635188597,
            0.4411139749963375,
            0.4133638101922218,
            0.1693878533328381,
            0.1756746621360288,
            0,
            0.0899115943115491,
            0.0675092084527003,
            0.3951136357631482,
            0.1716994585585461,
            0.9569390510282494,
            0.1799326238816374,
            0.1722452317480129,
            0.403853127470722,
            0.4464380618043035,
            0.1858906488520234,
            0.1106578649332401,
            0.1643173460960335,
            0.2673219901233254,
            0.3524175190358883,
            0.0896169244199245,
            0.1670749968455473,
            0.4120787005405106,
            1.0963960778099828,
            0.3500950175899858,
            0.1694394082065756,
            0.4133885561952309,
            0.4484472673013761,
            0.0885262919465921,
            0.3474020788338778,
            0.1867969607420093,
            0.4071867007383634,
            0.4216359204812461,
            0.2655788758397763,
            1.095061896791376,
            0.1642592845187064,
            0.0377005680944222,
            0.2696818939578292,
            0.1047238002622841,
            0.1722349209134258,
            0.1206841671243113,
            0.1468438599796172,
            0.0835367483082975,
            0.1837974895818074,
            0.0898939646526097,
            0.1675852666751877,
            0.974912958906728,
            0.696139569235813,
            0.3524252639510814,
            0.4098288542505784,
            0.0891073300411084,
            0.3444980583701698,
            0.0695045105515421,
            0.1468610720212861,
            0.1123674558157622,
            0.1447508661807824,
            0.3944629536320894,
            0.0884104658176544,
            0.3960446425496181,
            0.1450237312256807,
            0.4022046400204504,
            0.1696611253076514,
            0.4451997647028398,
            0.1720480965105842,
            0.4098408442739715,
            0.1462369438360092,
            0.4129154316254022,
            0.0426298622255438,
            0.1867854038303633,
            0.2506102449248926,
            0.2697347829346473,
            0.3480569549416337,
            0.1468406329316201,
            0.1643595640133706,
            0.1113841625513856,
            0.1465099169693475,
            0.1120211555249056,
            0.3524665728510866,
            0.1644594116714974,
            0.4066545796957815,
            0.4208564920049122,
            0.4127916999284323,
            0.1860051572092141,
            0.4474085787936378,
            0.2652313974529631,
            0.3942222828448953,
            0.4010190194800312,
            0.1868416002675906,
            0.110513082272068,
            0.3947025880115938,
            0.3516238007264339,
            0.1864202411640158,
            0.1458729239958274,
            0.4033064607605816,
            0.2688507732597735,
            0.1707670184474882,
            0.1670912581166797,
            0.350968665206422,
            0.1680443586502423,
            0.1720089316062187,
            0.4483127057808224,
            0.1044209353853719,
            0.1707620226044077,
            0.406229206489633,
            0.1860158590851265,
            0.169330745006248,
            0.1692621693706804,
            0.043446300164752,
            0.18685302804224,
            0.4031679755791059,
            0.4128214358549248,
            0.1694661425319329,
            0.4086798593196177,
            0.4063514678838355,
            0.1680393628071619,
            0.4063937880149952,
            0.0405044759708084,
            0.1694547147572834,
            0.4216191891264692,
            0.4481114277792182,
            0.1720634030612921,
            0.4129521673471009,
            0.4128265069600588,
            0.1706892867811376,
            0.1720634030612921,
            0.1720748308359415,
            0.4464123773021137,
            0.4484198406422173,
            0.4067187420766389,
            0.4129795940062596,
            0.4009799924293136,
            0.4066913154174802,
            0.4482849691928718,
            0.4128172958977554,
            0.1720072066240648,
            0.4129521673471009,
            0.1693131116182648,
            0.1694023562626825
           ]
          },
          {
           "label": "Expected Damage",
           "values": [
            0,
            510628378.9946664,
            511240420.1589337,
            481331650.8737087,
            481352175.7936328,
            486038885.777088,
            510576075.5412156,
            478959943.93172,
            486018360.857164,
            473513138.7284592,
            510628378.9946664,
            479399056.359521,
            492726976.62597966,
            412587009.054528,
            473599505.71538496,
            492608928.2141392,
            476743237.1791805,
            483766108.783744,
            483040164.43876153,
            478875411.8419948,
            500501759.1401014,
            472811154.28667074,
            492219613.5056319,
            490287466.1887412,
            492608928.2141392,
            512528269.2606274,
            321002683.0280162,
            476743237.1791805,
            473599505.71538496,
            472244138.1156292,
            490287466.1887412,
            507495673.1623399,
            486571890.1860431,
            481331650.8737087,
            492717110.5241903,
            0,
            321002683.0280162,
            79992899.58352354,
            472811154.28667074,
            485567311.5912508,
            412587009.054528,
            500501759.1401014,
            486590548.8138441,
            479399056.359521,
            511417620.9063463,
            511240420.1589337,
            317884609.8713857,
            472244138.1156292,
            319198928.01073074,
            419789885.0750754,
            320351639.23931843,
            477234420.76493657,
            485567311.5912508,
            472501221.9310567,
            418049608.1073611,
            481404612.6591207,
            486590548.8138441,
            512726306.23699296,
            317884609.8713857,
            416019116.8832908,
            512646958.3493639,
            481914314.3285408,
            492726976.62597966,
            317884609.8713857,
            472139069.0883138,
            472139069.0883138,
            45151966.03233206,
            320970307.48275256,
            45151966.03233206,
            486571890.1860431,
            51820240.737829104,
            421221711.5130769,
            300142566.49563015,
            507495673.1623399,
            320970307.48275256,
            478157812.05289,
            420123427.72874856,
            300142566.49563015,
            421221711.5130769,
            483874113.1117807,
            319198928.01073074,
            412587009.054528,
            83180036.62970138,
            419819071.4354967,
            320970307.48275256,
            416019116.8832908,
            472320536.238348,
            317622609.1803645,
            473513138.7284592,
            416512897.2140299,
            478157812.05289,
            481914314.3285408,
            510576075.5412156,
            486091322.642576,
            483881183.3576055,
            420123427.72874856,
            486091322.642576,
            18379987.035897996,
            512630602.7102861,
            300142566.49563015,
            321002683.0280162,
            416512897.2140299,
            419789885.0750754,
            472320536.238348,
            319198928.01073074,
            419202319.3359488,
            320351639.23931843,
            419819071.4354967,
            472501221.9310567,
            481404612.6591207,
            492219613.5056319,
            486018360.857164,
            511402475.33586526,
            512113815.0979616,
            317622609.1803645,
            472139069.0883138,
            477263847.3843885,
            512710133.3559195,
            317622609.1803645,
            472501221.9310567,
            419202319.3359488,
            512113815.0979616,
            418049608.1073611,
            478967014.1775448,
            320351639.23931843,
            483881183.3576055,
            477263847.3843885,
            420123427.72874856,
            478967014.1775448,
            486035895.4609957,
            512646958.3493639,
            300142566.49563015,
            483874113.1117807,
            481144764.6580277,
            511417620.9063463,
            481249739.828537,
            481144764.6580277,
            51820240.737829104,
            512726306.23699296,
            478875411.8419948,
            486035895.4609957,
            481442447.7650659,
            483040164.43876153,
            481224784.6036117,
            478959943.93172,
            481249739.828537,
            17463620.672768954,
            481426274.88399255,
            492717110.5241903,
            512528269.2606274,
            486112984.8674479,
            486112984.8674479,
            486038885.777088,
            483766108.783744,
            486112984.8674479,
            486129157.7485212,
            511402475.33586526,
            512710133.3559195,
            481442447.7650659,
            486129157.7485212,
            477234420.76493657,
            481426274.88399255,
            512630602.7102861,
            486033454.2218144,
            486033454.2218144,
            486112984.8674479,
            481224784.6036117,
            481352175.7936328
           ]
          },
          {
           "label": "Traditional Costs",
           "values": [
            24198032,
            19040.188576265697,
            18858.56976989901,
            17609.592320835265,
            17512.176938319633,
            29138.20935819645,
            33089.24398332204,
            18326.16899659306,
            29353.916739213077,
            33844.81414681162,
            31609.688066066094,
            30040.71152796861,
            38315.44150183793,
            44939.727733556334,
            45249.229915594304,
            38699.118444131294,
            21229.391828065105,
            18477.884291288938,
            31226.55439127768,
            30606.5386071118,
            22983.814455813605,
            39927.59440045717,
            39462.48035054124,
            24389.084210606376,
            23310.527815759087,
            29934.37850789835,
            28657.744052755654,
            35244.107527061205,
            27256.006725628573,
            27004.950823050403,
            40489.69058401449,
            20780.25430417368,
            26290.03165814181,
            29234.67475138666,
            38415.487453144575,
            22167818,
            35603.03261142349,
            22180628.465065945,
            24050.50392121656,
            29760.80733322233,
            0,
            38156.7232176593,
            43197.34213467968,
            18095.110943905805,
            18577.71725729737,
            31308.172469558904,
            31437.158314200205,
            44832.43788982976,
            17921.80170345583,
            21008.762276412654,
            36307.2631849953,
            33280.87309678712,
            17926.509828952745,
            0,
            21536.130472622663,
            29123.83243159334,
            26020.046085830585,
            17668.088105372673,
            39056.04609387697,
            23718.80505475116,
            29562.92156984159,
            19220.123206118005,
            23079.418881107085,
            18936.264772788832,
            0,
            48634.92570635487,
            20312911.76944771,
            17394.732257397838,
            20299287,
            43645.560369961975,
            22167818,
            20341344.9299913,
            47319.55580658037,
            34498.46905966333,
            35876.635280883034,
            30953.778176915388,
            20299287,
            0,
            20324620.717830054,
            18367.746127828887,
            36963.716013377634,
            27069.577175977465,
            20312013.12115214,
            34657.54772060045,
            28877.973474195627,
            39376.922454176725,
            25816.11804817846,
            41473.42140010225,
            20386.523344903,
            37434.379676681245,
            18645.099325389037,
            31908.40766640684,
            19931.403434659864,
            29189.91509838645,
            18345.04165265061,
            20348077.330160245,
            17582.63121220454,
            20299287,
            29710.40173202452,
            22942.81493652382,
            17262.076417659875,
            22548.708699365645,
            34877.82799795069,
            42858.78972842127,
            29752.99110925284,
            35224.94680936706,
            29224.596313679933,
            20876.075803467567,
            51981.63008453716,
            17542.82612350093,
            23770.341105267195,
            17681.41808291423,
            30942.066733921583,
            18380.05960931727,
            20108.3255273223,
            29295.390543121997,
            19165.50313503152,
            29435.560708408637,
            33382.962301218664,
            31311.28776856827,
            21217.850313406983,
            30513.770835780622,
            35753.34160493997,
            18303.547660354925,
            17603.521544240146,
            30455.63555615824,
            31817.72981401716,
            20328675.998872995,
            30386.749045511104,
            29239.519990916368,
            17807.312757363405,
            38088.65760946336,
            30493.32853252842,
            17762.836605537163,
            30841.91341543509,
            29169.75569278445,
            29489.084208411296,
            22183690.104216788,
            29331.7868936851,
            18435.938549224997,
            17612.51086511668,
            28895.22791905289,
            18809.406880393148,
            17688.562547164096,
            30424.30399825019,
            17570.48813494781,
            20299287,
            28914.420099468574,
            23139.68185412944,
            18031.0609365223,
            28979.67946240784,
            17467.95841838163,
            17551.486107525398,
            30676.175092960148,
            28999.54034301638,
            28960.487281992144,
            18638.044903256294,
            17730.596567888493,
            17405.125523005976,
            17444.43469221174,
            20046.831794770595,
            17416.685989326957,
            17896.14786681948,
            17672.494453658546,
            29339.10212033157,
            17455.99515853272,
            29365.777666190395,
            29072.9499952572
           ]
          },
          {
           "label": "Room for River Investment Costs",
           "values": [
            0,
            0,
            0,
            151900000,
            236500000,
            115300000,
            0,
            151900000,
            30700000,
            151900000,
            0,
            151900000,
            0,
            151900000,
            0,
            0,
            30700000,
            30700000,
            30700000,
            151900000,
            0,
            30700000,
            0,
            0,
            0,
            0,
            408000000,
            30700000,
            0,
            30700000,
            0,
            0,
            0,
            151900000,
            0,
            30700000,
            408000000,
            0,
            30700000,
            30700000,
            151900000,
            0,
            0,
            151900000,
            0,
            0,
            408000000,
            30700000,
            408000000,
            151900000,
            408000000,
            151900000,
            30700000,
            0,
            151900000,
            151900000,
            0,
            0,
            408000000,
            151900000,
            0,
            30700000,
            0,
            408000000,
            30700000,
            30700000,
            30700000,
            408000000,
            30700000,
            0,
            0,
            0,
            408000000,
            0,
            408000000,
            151900000,
            0,
            408000000,
            0,
            30700000,
            408000000,
            151900000,
            30700000,
            151900000,
            408000000,
            151900000,
            30700000,
            408000000,
            151900000,
            151900000,
            151900000,
            30700000,
            0,
            30700000,
            30700000,
            0,
            30700000,
            151900000,
            0,
            408000000,
            408000000,
            151900000,
            151900000,
            30700000,
            408000000,
            151900000,
            408000000,
            151900000,
            0,
            151900000,
            0,
            30700000,
            0,
            0,
            408000000,
            30700000,
            151900000,
            0,
            408000000,
            0,
            151900000,
            0,
            151900000,
            151900000,
            408000000,
            30700000,
            151900000,
            0,
            151900000,
            115300000,
            0,
            408000000,
            30700000,
            151900000,
            0,
            369700000,
            151900000,
            0,
            0,
            151900000,
            115300000,
            151900000,
            30700000,
            369700000,
            151900000,
            369700000,
            408000000,
            236500000,
            0,
            0,
            115300000,
            30700000,
            115300000,
            30700000,
            30700000,
            30700000,
            0,
            0,
            151900000,
            30700000,
            151900000,
            236500000,
            0,
            30700000,
            30700000,
            115300000,
            369700000,
            236500000
           ]
          }
         ],
         "domain": {
          "x": [
           0,
           1
          ],
          "y": [
           0,
           1
          ]
         },
         "line": {
          "color": [
           0,
           1,
           2,
           3,
           4,
           5,
           6,
           7,
           8,
           9,
           10,
           11,
           12,
           13,
           14,
           15,
           16,
           17,
           18,
           19,
           20,
           21,
           22,
           23,
           24,
           25,
           26,
           27,
           28,
           29,
           30,
           31,
           32,
           33,
           34,
           35,
           36,
           37,
           38,
           39,
           40,
           41,
           42,
           43,
           44,
           45,
           46,
           47,
           48,
           49,
           50,
           51,
           52,
           53,
           54,
           55,
           56,
           57,
           58,
           59,
           60,
           61,
           62,
           63,
           64,
           65,
           66,
           67,
           68,
           69,
           70,
           71,
           72,
           73,
           74,
           75,
           76,
           77,
           78,
           79,
           80,
           81,
           82,
           83,
           84,
           85,
           86,
           87,
           88,
           89,
           90,
           91,
           92,
           93,
           94,
           95,
           96,
           97,
           98,
           99,
           100,
           101,
           102,
           103,
           104,
           105,
           106,
           107,
           108,
           109,
           110,
           111,
           112,
           113,
           114,
           115,
           116,
           117,
           118,
           119,
           120,
           121,
           122,
           123,
           124,
           125,
           126,
           127,
           128,
           129,
           130,
           131,
           132,
           133,
           134,
           135,
           136,
           137,
           138,
           139,
           140,
           141,
           142,
           143,
           144,
           145,
           146,
           147,
           148,
           149,
           150,
           151,
           152,
           153,
           154,
           155,
           156,
           157,
           158,
           159,
           160,
           161,
           162,
           163,
           164,
           165,
           166,
           167
          ],
          "coloraxis": "coloraxis"
         },
         "name": "",
         "type": "parcoords"
        }
       ],
       "layout": {
        "coloraxis": {
         "colorbar": {
          "title": {
           "text": "index"
          }
         },
         "colorscale": [
          [
           0,
           "#0d0887"
          ],
          [
           0.1111111111111111,
           "#46039f"
          ],
          [
           0.2222222222222222,
           "#7201a8"
          ],
          [
           0.3333333333333333,
           "#9c179e"
          ],
          [
           0.4444444444444444,
           "#bd3786"
          ],
          [
           0.5555555555555556,
           "#d8576b"
          ],
          [
           0.6666666666666666,
           "#ed7953"
          ],
          [
           0.7777777777777778,
           "#fb9f3a"
          ],
          [
           0.8888888888888888,
           "#fdca26"
          ],
          [
           1,
           "#f0f921"
          ]
         ]
        },
        "legend": {
         "tracegroupgap": 0
        },
        "margin": {
         "t": 60
        },
        "showlegend": false,
        "template": {
         "data": {
          "bar": [
           {
            "error_x": {
             "color": "#2a3f5f"
            },
            "error_y": {
             "color": "#2a3f5f"
            },
            "marker": {
             "line": {
              "color": "#E5ECF6",
              "width": 0.5
             },
             "pattern": {
              "fillmode": "overlay",
              "size": 10,
              "solidity": 0.2
             }
            },
            "type": "bar"
           }
          ],
          "barpolar": [
           {
            "marker": {
             "line": {
              "color": "#E5ECF6",
              "width": 0.5
             },
             "pattern": {
              "fillmode": "overlay",
              "size": 10,
              "solidity": 0.2
             }
            },
            "type": "barpolar"
           }
          ],
          "carpet": [
           {
            "aaxis": {
             "endlinecolor": "#2a3f5f",
             "gridcolor": "white",
             "linecolor": "white",
             "minorgridcolor": "white",
             "startlinecolor": "#2a3f5f"
            },
            "baxis": {
             "endlinecolor": "#2a3f5f",
             "gridcolor": "white",
             "linecolor": "white",
             "minorgridcolor": "white",
             "startlinecolor": "#2a3f5f"
            },
            "type": "carpet"
           }
          ],
          "choropleth": [
           {
            "colorbar": {
             "outlinewidth": 0,
             "ticks": ""
            },
            "type": "choropleth"
           }
          ],
          "contour": [
           {
            "colorbar": {
             "outlinewidth": 0,
             "ticks": ""
            },
            "colorscale": [
             [
              0,
              "#0d0887"
             ],
             [
              0.1111111111111111,
              "#46039f"
             ],
             [
              0.2222222222222222,
              "#7201a8"
             ],
             [
              0.3333333333333333,
              "#9c179e"
             ],
             [
              0.4444444444444444,
              "#bd3786"
             ],
             [
              0.5555555555555556,
              "#d8576b"
             ],
             [
              0.6666666666666666,
              "#ed7953"
             ],
             [
              0.7777777777777778,
              "#fb9f3a"
             ],
             [
              0.8888888888888888,
              "#fdca26"
             ],
             [
              1,
              "#f0f921"
             ]
            ],
            "type": "contour"
           }
          ],
          "contourcarpet": [
           {
            "colorbar": {
             "outlinewidth": 0,
             "ticks": ""
            },
            "type": "contourcarpet"
           }
          ],
          "heatmap": [
           {
            "colorbar": {
             "outlinewidth": 0,
             "ticks": ""
            },
            "colorscale": [
             [
              0,
              "#0d0887"
             ],
             [
              0.1111111111111111,
              "#46039f"
             ],
             [
              0.2222222222222222,
              "#7201a8"
             ],
             [
              0.3333333333333333,
              "#9c179e"
             ],
             [
              0.4444444444444444,
              "#bd3786"
             ],
             [
              0.5555555555555556,
              "#d8576b"
             ],
             [
              0.6666666666666666,
              "#ed7953"
             ],
             [
              0.7777777777777778,
              "#fb9f3a"
             ],
             [
              0.8888888888888888,
              "#fdca26"
             ],
             [
              1,
              "#f0f921"
             ]
            ],
            "type": "heatmap"
           }
          ],
          "heatmapgl": [
           {
            "colorbar": {
             "outlinewidth": 0,
             "ticks": ""
            },
            "colorscale": [
             [
              0,
              "#0d0887"
             ],
             [
              0.1111111111111111,
              "#46039f"
             ],
             [
              0.2222222222222222,
              "#7201a8"
             ],
             [
              0.3333333333333333,
              "#9c179e"
             ],
             [
              0.4444444444444444,
              "#bd3786"
             ],
             [
              0.5555555555555556,
              "#d8576b"
             ],
             [
              0.6666666666666666,
              "#ed7953"
             ],
             [
              0.7777777777777778,
              "#fb9f3a"
             ],
             [
              0.8888888888888888,
              "#fdca26"
             ],
             [
              1,
              "#f0f921"
             ]
            ],
            "type": "heatmapgl"
           }
          ],
          "histogram": [
           {
            "marker": {
             "pattern": {
              "fillmode": "overlay",
              "size": 10,
              "solidity": 0.2
             }
            },
            "type": "histogram"
           }
          ],
          "histogram2d": [
           {
            "colorbar": {
             "outlinewidth": 0,
             "ticks": ""
            },
            "colorscale": [
             [
              0,
              "#0d0887"
             ],
             [
              0.1111111111111111,
              "#46039f"
             ],
             [
              0.2222222222222222,
              "#7201a8"
             ],
             [
              0.3333333333333333,
              "#9c179e"
             ],
             [
              0.4444444444444444,
              "#bd3786"
             ],
             [
              0.5555555555555556,
              "#d8576b"
             ],
             [
              0.6666666666666666,
              "#ed7953"
             ],
             [
              0.7777777777777778,
              "#fb9f3a"
             ],
             [
              0.8888888888888888,
              "#fdca26"
             ],
             [
              1,
              "#f0f921"
             ]
            ],
            "type": "histogram2d"
           }
          ],
          "histogram2dcontour": [
           {
            "colorbar": {
             "outlinewidth": 0,
             "ticks": ""
            },
            "colorscale": [
             [
              0,
              "#0d0887"
             ],
             [
              0.1111111111111111,
              "#46039f"
             ],
             [
              0.2222222222222222,
              "#7201a8"
             ],
             [
              0.3333333333333333,
              "#9c179e"
             ],
             [
              0.4444444444444444,
              "#bd3786"
             ],
             [
              0.5555555555555556,
              "#d8576b"
             ],
             [
              0.6666666666666666,
              "#ed7953"
             ],
             [
              0.7777777777777778,
              "#fb9f3a"
             ],
             [
              0.8888888888888888,
              "#fdca26"
             ],
             [
              1,
              "#f0f921"
             ]
            ],
            "type": "histogram2dcontour"
           }
          ],
          "mesh3d": [
           {
            "colorbar": {
             "outlinewidth": 0,
             "ticks": ""
            },
            "type": "mesh3d"
           }
          ],
          "parcoords": [
           {
            "line": {
             "colorbar": {
              "outlinewidth": 0,
              "ticks": ""
             }
            },
            "type": "parcoords"
           }
          ],
          "pie": [
           {
            "automargin": true,
            "type": "pie"
           }
          ],
          "scatter": [
           {
            "fillpattern": {
             "fillmode": "overlay",
             "size": 10,
             "solidity": 0.2
            },
            "type": "scatter"
           }
          ],
          "scatter3d": [
           {
            "line": {
             "colorbar": {
              "outlinewidth": 0,
              "ticks": ""
             }
            },
            "marker": {
             "colorbar": {
              "outlinewidth": 0,
              "ticks": ""
             }
            },
            "type": "scatter3d"
           }
          ],
          "scattercarpet": [
           {
            "marker": {
             "colorbar": {
              "outlinewidth": 0,
              "ticks": ""
             }
            },
            "type": "scattercarpet"
           }
          ],
          "scattergeo": [
           {
            "marker": {
             "colorbar": {
              "outlinewidth": 0,
              "ticks": ""
             }
            },
            "type": "scattergeo"
           }
          ],
          "scattergl": [
           {
            "marker": {
             "colorbar": {
              "outlinewidth": 0,
              "ticks": ""
             }
            },
            "type": "scattergl"
           }
          ],
          "scattermapbox": [
           {
            "marker": {
             "colorbar": {
              "outlinewidth": 0,
              "ticks": ""
             }
            },
            "type": "scattermapbox"
           }
          ],
          "scatterpolar": [
           {
            "marker": {
             "colorbar": {
              "outlinewidth": 0,
              "ticks": ""
             }
            },
            "type": "scatterpolar"
           }
          ],
          "scatterpolargl": [
           {
            "marker": {
             "colorbar": {
              "outlinewidth": 0,
              "ticks": ""
             }
            },
            "type": "scatterpolargl"
           }
          ],
          "scatterternary": [
           {
            "marker": {
             "colorbar": {
              "outlinewidth": 0,
              "ticks": ""
             }
            },
            "type": "scatterternary"
           }
          ],
          "surface": [
           {
            "colorbar": {
             "outlinewidth": 0,
             "ticks": ""
            },
            "colorscale": [
             [
              0,
              "#0d0887"
             ],
             [
              0.1111111111111111,
              "#46039f"
             ],
             [
              0.2222222222222222,
              "#7201a8"
             ],
             [
              0.3333333333333333,
              "#9c179e"
             ],
             [
              0.4444444444444444,
              "#bd3786"
             ],
             [
              0.5555555555555556,
              "#d8576b"
             ],
             [
              0.6666666666666666,
              "#ed7953"
             ],
             [
              0.7777777777777778,
              "#fb9f3a"
             ],
             [
              0.8888888888888888,
              "#fdca26"
             ],
             [
              1,
              "#f0f921"
             ]
            ],
            "type": "surface"
           }
          ],
          "table": [
           {
            "cells": {
             "fill": {
              "color": "#EBF0F8"
             },
             "line": {
              "color": "white"
             }
            },
            "header": {
             "fill": {
              "color": "#C8D4E3"
             },
             "line": {
              "color": "white"
             }
            },
            "type": "table"
           }
          ]
         },
         "layout": {
          "annotationdefaults": {
           "arrowcolor": "#2a3f5f",
           "arrowhead": 0,
           "arrowwidth": 1
          },
          "autotypenumbers": "strict",
          "coloraxis": {
           "colorbar": {
            "outlinewidth": 0,
            "ticks": ""
           }
          },
          "colorscale": {
           "diverging": [
            [
             0,
             "#8e0152"
            ],
            [
             0.1,
             "#c51b7d"
            ],
            [
             0.2,
             "#de77ae"
            ],
            [
             0.3,
             "#f1b6da"
            ],
            [
             0.4,
             "#fde0ef"
            ],
            [
             0.5,
             "#f7f7f7"
            ],
            [
             0.6,
             "#e6f5d0"
            ],
            [
             0.7,
             "#b8e186"
            ],
            [
             0.8,
             "#7fbc41"
            ],
            [
             0.9,
             "#4d9221"
            ],
            [
             1,
             "#276419"
            ]
           ],
           "sequential": [
            [
             0,
             "#0d0887"
            ],
            [
             0.1111111111111111,
             "#46039f"
            ],
            [
             0.2222222222222222,
             "#7201a8"
            ],
            [
             0.3333333333333333,
             "#9c179e"
            ],
            [
             0.4444444444444444,
             "#bd3786"
            ],
            [
             0.5555555555555556,
             "#d8576b"
            ],
            [
             0.6666666666666666,
             "#ed7953"
            ],
            [
             0.7777777777777778,
             "#fb9f3a"
            ],
            [
             0.8888888888888888,
             "#fdca26"
            ],
            [
             1,
             "#f0f921"
            ]
           ],
           "sequentialminus": [
            [
             0,
             "#0d0887"
            ],
            [
             0.1111111111111111,
             "#46039f"
            ],
            [
             0.2222222222222222,
             "#7201a8"
            ],
            [
             0.3333333333333333,
             "#9c179e"
            ],
            [
             0.4444444444444444,
             "#bd3786"
            ],
            [
             0.5555555555555556,
             "#d8576b"
            ],
            [
             0.6666666666666666,
             "#ed7953"
            ],
            [
             0.7777777777777778,
             "#fb9f3a"
            ],
            [
             0.8888888888888888,
             "#fdca26"
            ],
            [
             1,
             "#f0f921"
            ]
           ]
          },
          "colorway": [
           "#636efa",
           "#EF553B",
           "#00cc96",
           "#ab63fa",
           "#FFA15A",
           "#19d3f3",
           "#FF6692",
           "#B6E880",
           "#FF97FF",
           "#FECB52"
          ],
          "font": {
           "color": "#2a3f5f"
          },
          "geo": {
           "bgcolor": "white",
           "lakecolor": "white",
           "landcolor": "#E5ECF6",
           "showlakes": true,
           "showland": true,
           "subunitcolor": "white"
          },
          "hoverlabel": {
           "align": "left"
          },
          "hovermode": "closest",
          "mapbox": {
           "style": "light"
          },
          "paper_bgcolor": "white",
          "plot_bgcolor": "#E5ECF6",
          "polar": {
           "angularaxis": {
            "gridcolor": "white",
            "linecolor": "white",
            "ticks": ""
           },
           "bgcolor": "#E5ECF6",
           "radialaxis": {
            "gridcolor": "white",
            "linecolor": "white",
            "ticks": ""
           }
          },
          "scene": {
           "xaxis": {
            "backgroundcolor": "#E5ECF6",
            "gridcolor": "white",
            "gridwidth": 2,
            "linecolor": "white",
            "showbackground": true,
            "ticks": "",
            "zerolinecolor": "white"
           },
           "yaxis": {
            "backgroundcolor": "#E5ECF6",
            "gridcolor": "white",
            "gridwidth": 2,
            "linecolor": "white",
            "showbackground": true,
            "ticks": "",
            "zerolinecolor": "white"
           },
           "zaxis": {
            "backgroundcolor": "#E5ECF6",
            "gridcolor": "white",
            "gridwidth": 2,
            "linecolor": "white",
            "showbackground": true,
            "ticks": "",
            "zerolinecolor": "white"
           }
          },
          "shapedefaults": {
           "line": {
            "color": "#2a3f5f"
           }
          },
          "ternary": {
           "aaxis": {
            "gridcolor": "white",
            "linecolor": "white",
            "ticks": ""
           },
           "baxis": {
            "gridcolor": "white",
            "linecolor": "white",
            "ticks": ""
           },
           "bgcolor": "#E5ECF6",
           "caxis": {
            "gridcolor": "white",
            "linecolor": "white",
            "ticks": ""
           }
          },
          "title": {
           "x": 0.05
          },
          "xaxis": {
           "automargin": true,
           "gridcolor": "white",
           "linecolor": "white",
           "ticks": "",
           "title": {
            "standoff": 15
           },
           "zerolinecolor": "white",
           "zerolinewidth": 2
          },
          "yaxis": {
           "automargin": true,
           "gridcolor": "white",
           "linecolor": "white",
           "ticks": "",
           "title": {
            "standoff": 15
           },
           "zerolinecolor": "white",
           "zerolinewidth": 2
          }
         }
        }
       }
      },
      "text/html": [
       "<div>                            <div id=\"7357f112-78e3-4973-a13a-2e3aa429559e\" class=\"plotly-graph-div\" style=\"height:525px; width:100%;\"></div>            <script type=\"text/javascript\">                require([\"plotly\"], function(Plotly) {                    window.PLOTLYENV=window.PLOTLYENV || {};                                    if (document.getElementById(\"7357f112-78e3-4973-a13a-2e3aa429559e\")) {                    Plotly.newPlot(                        \"7357f112-78e3-4973-a13a-2e3aa429559e\",                        [{\"dimensions\":[{\"label\":\"Expected Casualties\",\"values\":[0.0,0.4452740465304944,0.4461375572448561,0.4065308479988115,0.406565655030438,0.1720110445666912,0.1854999019595166,0.4032944707371885,0.1719965416368468,0.1650186010623409,0.1855308527210394,0.1682721364461342,0.1756816335338525,0.1435408576542374,0.1650663278151055,0.1755982204028143,0.4003285602542979,0.4096542882747302,0.1702832747165074,0.1679866564912941,0.4318382973159296,0.1646306815679784,0.1753568716687134,0.4182915924452633,0.4214357289667542,0.1867130949080076,0.1123894928894364,0.1668035667726241,0.3961591867562532,0.3943616306304804,0.1742881635188597,0.4411139749963375,0.4133638101922218,0.1693878533328381,0.1756746621360288,0.0,0.0899115943115491,0.0675092084527003,0.3951136357631482,0.1716994585585461,0.9569390510282494,0.1799326238816374,0.1722452317480129,0.403853127470722,0.4464380618043035,0.1858906488520234,0.1106578649332401,0.1643173460960335,0.2673219901233254,0.3524175190358883,0.0896169244199245,0.1670749968455473,0.4120787005405106,1.0963960778099828,0.3500950175899858,0.1694394082065756,0.4133885561952309,0.4484472673013761,0.0885262919465921,0.3474020788338778,0.1867969607420093,0.4071867007383634,0.4216359204812461,0.2655788758397763,1.095061896791376,0.1642592845187064,0.0377005680944222,0.2696818939578292,0.1047238002622841,0.1722349209134258,0.1206841671243113,0.1468438599796172,0.0835367483082975,0.1837974895818074,0.0898939646526097,0.1675852666751877,0.974912958906728,0.696139569235813,0.3524252639510814,0.4098288542505784,0.0891073300411084,0.3444980583701698,0.0695045105515421,0.1468610720212861,0.1123674558157622,0.1447508661807824,0.3944629536320894,0.0884104658176544,0.3960446425496181,0.1450237312256807,0.4022046400204504,0.1696611253076514,0.4451997647028398,0.1720480965105842,0.4098408442739715,0.1462369438360092,0.4129154316254022,0.0426298622255438,0.1867854038303633,0.2506102449248926,0.2697347829346473,0.3480569549416337,0.1468406329316201,0.1643595640133706,0.1113841625513856,0.1465099169693475,0.1120211555249056,0.3524665728510866,0.1644594116714974,0.4066545796957815,0.4208564920049122,0.4127916999284323,0.1860051572092141,0.4474085787936378,0.2652313974529631,0.3942222828448953,0.4010190194800312,0.1868416002675906,0.110513082272068,0.3947025880115938,0.3516238007264339,0.1864202411640158,0.1458729239958274,0.4033064607605816,0.2688507732597735,0.1707670184474882,0.1670912581166797,0.350968665206422,0.1680443586502423,0.1720089316062187,0.4483127057808224,0.1044209353853719,0.1707620226044077,0.406229206489633,0.1860158590851265,0.169330745006248,0.1692621693706804,0.043446300164752,0.18685302804224,0.4031679755791059,0.4128214358549248,0.1694661425319329,0.4086798593196177,0.4063514678838355,0.1680393628071619,0.4063937880149952,0.0405044759708084,0.1694547147572834,0.4216191891264692,0.4481114277792182,0.1720634030612921,0.4129521673471009,0.4128265069600588,0.1706892867811376,0.1720634030612921,0.1720748308359415,0.4464123773021137,0.4484198406422173,0.4067187420766389,0.4129795940062596,0.4009799924293136,0.4066913154174802,0.4482849691928718,0.4128172958977554,0.1720072066240648,0.4129521673471009,0.1693131116182648,0.1694023562626825]},{\"label\":\"Expected Damage\",\"values\":[0.0,510628378.9946664,511240420.1589337,481331650.8737087,481352175.7936328,486038885.777088,510576075.5412156,478959943.93172,486018360.857164,473513138.7284592,510628378.9946664,479399056.359521,492726976.62597966,412587009.054528,473599505.71538496,492608928.2141392,476743237.1791805,483766108.783744,483040164.43876153,478875411.8419948,500501759.1401014,472811154.28667074,492219613.5056319,490287466.1887412,492608928.2141392,512528269.2606274,321002683.0280162,476743237.1791805,473599505.71538496,472244138.1156292,490287466.1887412,507495673.1623399,486571890.1860431,481331650.8737087,492717110.5241903,0.0,321002683.0280162,79992899.58352354,472811154.28667074,485567311.5912508,412587009.054528,500501759.1401014,486590548.8138441,479399056.359521,511417620.9063463,511240420.1589337,317884609.8713857,472244138.1156292,319198928.01073074,419789885.0750754,320351639.23931843,477234420.76493657,485567311.5912508,472501221.9310567,418049608.1073611,481404612.6591207,486590548.8138441,512726306.23699296,317884609.8713857,416019116.8832908,512646958.3493639,481914314.3285408,492726976.62597966,317884609.8713857,472139069.0883138,472139069.0883138,45151966.03233206,320970307.48275256,45151966.03233206,486571890.1860431,51820240.737829104,421221711.5130769,300142566.49563015,507495673.1623399,320970307.48275256,478157812.05289,420123427.72874856,300142566.49563015,421221711.5130769,483874113.1117807,319198928.01073074,412587009.054528,83180036.62970138,419819071.4354967,320970307.48275256,416019116.8832908,472320536.238348,317622609.1803645,473513138.7284592,416512897.2140299,478157812.05289,481914314.3285408,510576075.5412156,486091322.642576,483881183.3576055,420123427.72874856,486091322.642576,18379987.035897996,512630602.7102861,300142566.49563015,321002683.0280162,416512897.2140299,419789885.0750754,472320536.238348,319198928.01073074,419202319.3359488,320351639.23931843,419819071.4354967,472501221.9310567,481404612.6591207,492219613.5056319,486018360.857164,511402475.33586526,512113815.0979616,317622609.1803645,472139069.0883138,477263847.3843885,512710133.3559195,317622609.1803645,472501221.9310567,419202319.3359488,512113815.0979616,418049608.1073611,478967014.1775448,320351639.23931843,483881183.3576055,477263847.3843885,420123427.72874856,478967014.1775448,486035895.4609957,512646958.3493639,300142566.49563015,483874113.1117807,481144764.6580277,511417620.9063463,481249739.828537,481144764.6580277,51820240.737829104,512726306.23699296,478875411.8419948,486035895.4609957,481442447.7650659,483040164.43876153,481224784.6036117,478959943.93172,481249739.828537,17463620.672768954,481426274.88399255,492717110.5241903,512528269.2606274,486112984.8674479,486112984.8674479,486038885.777088,483766108.783744,486112984.8674479,486129157.7485212,511402475.33586526,512710133.3559195,481442447.7650659,486129157.7485212,477234420.76493657,481426274.88399255,512630602.7102861,486033454.2218144,486033454.2218144,486112984.8674479,481224784.6036117,481352175.7936328]},{\"label\":\"Traditional Costs\",\"values\":[24198032.0,19040.188576265697,18858.56976989901,17609.592320835265,17512.176938319633,29138.20935819645,33089.24398332204,18326.16899659306,29353.916739213077,33844.81414681162,31609.688066066094,30040.71152796861,38315.44150183793,44939.727733556334,45249.229915594304,38699.118444131294,21229.391828065105,18477.884291288938,31226.55439127768,30606.5386071118,22983.814455813605,39927.59440045717,39462.48035054124,24389.084210606376,23310.527815759087,29934.37850789835,28657.744052755654,35244.107527061205,27256.006725628573,27004.950823050403,40489.69058401449,20780.25430417368,26290.03165814181,29234.67475138666,38415.487453144575,22167818.0,35603.03261142349,22180628.465065945,24050.50392121656,29760.80733322233,0.0,38156.7232176593,43197.34213467968,18095.110943905805,18577.71725729737,31308.172469558904,31437.158314200205,44832.43788982976,17921.80170345583,21008.762276412654,36307.2631849953,33280.87309678712,17926.509828952745,0.0,21536.130472622663,29123.83243159334,26020.046085830585,17668.088105372673,39056.04609387697,23718.80505475116,29562.92156984159,19220.123206118005,23079.418881107085,18936.264772788832,0.0,48634.92570635487,20312911.76944771,17394.732257397838,20299287.0,43645.560369961975,22167818.0,20341344.9299913,47319.55580658037,34498.46905966333,35876.635280883034,30953.778176915388,20299287.0,0.0,20324620.717830054,18367.746127828887,36963.716013377634,27069.577175977465,20312013.12115214,34657.54772060045,28877.973474195627,39376.922454176725,25816.11804817846,41473.42140010225,20386.523344903,37434.379676681245,18645.099325389037,31908.40766640684,19931.403434659864,29189.91509838645,18345.04165265061,20348077.330160245,17582.63121220454,20299287.0,29710.40173202452,22942.81493652382,17262.076417659875,22548.708699365645,34877.82799795069,42858.78972842127,29752.99110925284,35224.94680936706,29224.596313679933,20876.075803467567,51981.63008453716,17542.82612350093,23770.341105267195,17681.41808291423,30942.066733921583,18380.05960931727,20108.3255273223,29295.390543121997,19165.50313503152,29435.560708408637,33382.962301218664,31311.28776856827,21217.850313406983,30513.770835780622,35753.34160493997,18303.547660354925,17603.521544240146,30455.63555615824,31817.72981401716,20328675.998872995,30386.749045511104,29239.519990916368,17807.312757363405,38088.65760946336,30493.32853252842,17762.836605537163,30841.91341543509,29169.75569278445,29489.084208411296,22183690.104216788,29331.7868936851,18435.938549224997,17612.51086511668,28895.22791905289,18809.406880393148,17688.562547164096,30424.30399825019,17570.48813494781,20299287.0,28914.420099468574,23139.68185412944,18031.0609365223,28979.67946240784,17467.95841838163,17551.486107525398,30676.175092960148,28999.54034301638,28960.487281992144,18638.044903256294,17730.596567888493,17405.125523005976,17444.43469221174,20046.831794770595,17416.685989326957,17896.14786681948,17672.494453658546,29339.10212033157,17455.99515853272,29365.777666190395,29072.9499952572]},{\"label\":\"Room for River Investment Costs\",\"values\":[0.0,0.0,0.0,151900000.0,236500000.0,115300000.0,0.0,151900000.0,30700000.0,151900000.0,0.0,151900000.0,0.0,151900000.0,0.0,0.0,30700000.0,30700000.0,30700000.0,151900000.0,0.0,30700000.0,0.0,0.0,0.0,0.0,408000000.0,30700000.0,0.0,30700000.0,0.0,0.0,0.0,151900000.0,0.0,30700000.0,408000000.0,0.0,30700000.0,30700000.0,151900000.0,0.0,0.0,151900000.0,0.0,0.0,408000000.0,30700000.0,408000000.0,151900000.0,408000000.0,151900000.0,30700000.0,0.0,151900000.0,151900000.0,0.0,0.0,408000000.0,151900000.0,0.0,30700000.0,0.0,408000000.0,30700000.0,30700000.0,30700000.0,408000000.0,30700000.0,0.0,0.0,0.0,408000000.0,0.0,408000000.0,151900000.0,0.0,408000000.0,0.0,30700000.0,408000000.0,151900000.0,30700000.0,151900000.0,408000000.0,151900000.0,30700000.0,408000000.0,151900000.0,151900000.0,151900000.0,30700000.0,0.0,30700000.0,30700000.0,0.0,30700000.0,151900000.0,0.0,408000000.0,408000000.0,151900000.0,151900000.0,30700000.0,408000000.0,151900000.0,408000000.0,151900000.0,0.0,151900000.0,0.0,30700000.0,0.0,0.0,408000000.0,30700000.0,151900000.0,0.0,408000000.0,0.0,151900000.0,0.0,151900000.0,151900000.0,408000000.0,30700000.0,151900000.0,0.0,151900000.0,115300000.0,0.0,408000000.0,30700000.0,151900000.0,0.0,369700000.0,151900000.0,0.0,0.0,151900000.0,115300000.0,151900000.0,30700000.0,369700000.0,151900000.0,369700000.0,408000000.0,236500000.0,0.0,0.0,115300000.0,30700000.0,115300000.0,30700000.0,30700000.0,30700000.0,0.0,0.0,151900000.0,30700000.0,151900000.0,236500000.0,0.0,30700000.0,30700000.0,115300000.0,369700000.0,236500000.0]}],\"domain\":{\"x\":[0.0,1.0],\"y\":[0.0,1.0]},\"line\":{\"color\":[0,1,2,3,4,5,6,7,8,9,10,11,12,13,14,15,16,17,18,19,20,21,22,23,24,25,26,27,28,29,30,31,32,33,34,35,36,37,38,39,40,41,42,43,44,45,46,47,48,49,50,51,52,53,54,55,56,57,58,59,60,61,62,63,64,65,66,67,68,69,70,71,72,73,74,75,76,77,78,79,80,81,82,83,84,85,86,87,88,89,90,91,92,93,94,95,96,97,98,99,100,101,102,103,104,105,106,107,108,109,110,111,112,113,114,115,116,117,118,119,120,121,122,123,124,125,126,127,128,129,130,131,132,133,134,135,136,137,138,139,140,141,142,143,144,145,146,147,148,149,150,151,152,153,154,155,156,157,158,159,160,161,162,163,164,165,166,167],\"coloraxis\":\"coloraxis\"},\"name\":\"\",\"type\":\"parcoords\"}],                        {\"template\":{\"data\":{\"histogram2dcontour\":[{\"type\":\"histogram2dcontour\",\"colorbar\":{\"outlinewidth\":0,\"ticks\":\"\"},\"colorscale\":[[0.0,\"#0d0887\"],[0.1111111111111111,\"#46039f\"],[0.2222222222222222,\"#7201a8\"],[0.3333333333333333,\"#9c179e\"],[0.4444444444444444,\"#bd3786\"],[0.5555555555555556,\"#d8576b\"],[0.6666666666666666,\"#ed7953\"],[0.7777777777777778,\"#fb9f3a\"],[0.8888888888888888,\"#fdca26\"],[1.0,\"#f0f921\"]]}],\"choropleth\":[{\"type\":\"choropleth\",\"colorbar\":{\"outlinewidth\":0,\"ticks\":\"\"}}],\"histogram2d\":[{\"type\":\"histogram2d\",\"colorbar\":{\"outlinewidth\":0,\"ticks\":\"\"},\"colorscale\":[[0.0,\"#0d0887\"],[0.1111111111111111,\"#46039f\"],[0.2222222222222222,\"#7201a8\"],[0.3333333333333333,\"#9c179e\"],[0.4444444444444444,\"#bd3786\"],[0.5555555555555556,\"#d8576b\"],[0.6666666666666666,\"#ed7953\"],[0.7777777777777778,\"#fb9f3a\"],[0.8888888888888888,\"#fdca26\"],[1.0,\"#f0f921\"]]}],\"heatmap\":[{\"type\":\"heatmap\",\"colorbar\":{\"outlinewidth\":0,\"ticks\":\"\"},\"colorscale\":[[0.0,\"#0d0887\"],[0.1111111111111111,\"#46039f\"],[0.2222222222222222,\"#7201a8\"],[0.3333333333333333,\"#9c179e\"],[0.4444444444444444,\"#bd3786\"],[0.5555555555555556,\"#d8576b\"],[0.6666666666666666,\"#ed7953\"],[0.7777777777777778,\"#fb9f3a\"],[0.8888888888888888,\"#fdca26\"],[1.0,\"#f0f921\"]]}],\"heatmapgl\":[{\"type\":\"heatmapgl\",\"colorbar\":{\"outlinewidth\":0,\"ticks\":\"\"},\"colorscale\":[[0.0,\"#0d0887\"],[0.1111111111111111,\"#46039f\"],[0.2222222222222222,\"#7201a8\"],[0.3333333333333333,\"#9c179e\"],[0.4444444444444444,\"#bd3786\"],[0.5555555555555556,\"#d8576b\"],[0.6666666666666666,\"#ed7953\"],[0.7777777777777778,\"#fb9f3a\"],[0.8888888888888888,\"#fdca26\"],[1.0,\"#f0f921\"]]}],\"contourcarpet\":[{\"type\":\"contourcarpet\",\"colorbar\":{\"outlinewidth\":0,\"ticks\":\"\"}}],\"contour\":[{\"type\":\"contour\",\"colorbar\":{\"outlinewidth\":0,\"ticks\":\"\"},\"colorscale\":[[0.0,\"#0d0887\"],[0.1111111111111111,\"#46039f\"],[0.2222222222222222,\"#7201a8\"],[0.3333333333333333,\"#9c179e\"],[0.4444444444444444,\"#bd3786\"],[0.5555555555555556,\"#d8576b\"],[0.6666666666666666,\"#ed7953\"],[0.7777777777777778,\"#fb9f3a\"],[0.8888888888888888,\"#fdca26\"],[1.0,\"#f0f921\"]]}],\"surface\":[{\"type\":\"surface\",\"colorbar\":{\"outlinewidth\":0,\"ticks\":\"\"},\"colorscale\":[[0.0,\"#0d0887\"],[0.1111111111111111,\"#46039f\"],[0.2222222222222222,\"#7201a8\"],[0.3333333333333333,\"#9c179e\"],[0.4444444444444444,\"#bd3786\"],[0.5555555555555556,\"#d8576b\"],[0.6666666666666666,\"#ed7953\"],[0.7777777777777778,\"#fb9f3a\"],[0.8888888888888888,\"#fdca26\"],[1.0,\"#f0f921\"]]}],\"mesh3d\":[{\"type\":\"mesh3d\",\"colorbar\":{\"outlinewidth\":0,\"ticks\":\"\"}}],\"scatter\":[{\"fillpattern\":{\"fillmode\":\"overlay\",\"size\":10,\"solidity\":0.2},\"type\":\"scatter\"}],\"parcoords\":[{\"type\":\"parcoords\",\"line\":{\"colorbar\":{\"outlinewidth\":0,\"ticks\":\"\"}}}],\"scatterpolargl\":[{\"type\":\"scatterpolargl\",\"marker\":{\"colorbar\":{\"outlinewidth\":0,\"ticks\":\"\"}}}],\"bar\":[{\"error_x\":{\"color\":\"#2a3f5f\"},\"error_y\":{\"color\":\"#2a3f5f\"},\"marker\":{\"line\":{\"color\":\"#E5ECF6\",\"width\":0.5},\"pattern\":{\"fillmode\":\"overlay\",\"size\":10,\"solidity\":0.2}},\"type\":\"bar\"}],\"scattergeo\":[{\"type\":\"scattergeo\",\"marker\":{\"colorbar\":{\"outlinewidth\":0,\"ticks\":\"\"}}}],\"scatterpolar\":[{\"type\":\"scatterpolar\",\"marker\":{\"colorbar\":{\"outlinewidth\":0,\"ticks\":\"\"}}}],\"histogram\":[{\"marker\":{\"pattern\":{\"fillmode\":\"overlay\",\"size\":10,\"solidity\":0.2}},\"type\":\"histogram\"}],\"scattergl\":[{\"type\":\"scattergl\",\"marker\":{\"colorbar\":{\"outlinewidth\":0,\"ticks\":\"\"}}}],\"scatter3d\":[{\"type\":\"scatter3d\",\"line\":{\"colorbar\":{\"outlinewidth\":0,\"ticks\":\"\"}},\"marker\":{\"colorbar\":{\"outlinewidth\":0,\"ticks\":\"\"}}}],\"scattermapbox\":[{\"type\":\"scattermapbox\",\"marker\":{\"colorbar\":{\"outlinewidth\":0,\"ticks\":\"\"}}}],\"scatterternary\":[{\"type\":\"scatterternary\",\"marker\":{\"colorbar\":{\"outlinewidth\":0,\"ticks\":\"\"}}}],\"scattercarpet\":[{\"type\":\"scattercarpet\",\"marker\":{\"colorbar\":{\"outlinewidth\":0,\"ticks\":\"\"}}}],\"carpet\":[{\"aaxis\":{\"endlinecolor\":\"#2a3f5f\",\"gridcolor\":\"white\",\"linecolor\":\"white\",\"minorgridcolor\":\"white\",\"startlinecolor\":\"#2a3f5f\"},\"baxis\":{\"endlinecolor\":\"#2a3f5f\",\"gridcolor\":\"white\",\"linecolor\":\"white\",\"minorgridcolor\":\"white\",\"startlinecolor\":\"#2a3f5f\"},\"type\":\"carpet\"}],\"table\":[{\"cells\":{\"fill\":{\"color\":\"#EBF0F8\"},\"line\":{\"color\":\"white\"}},\"header\":{\"fill\":{\"color\":\"#C8D4E3\"},\"line\":{\"color\":\"white\"}},\"type\":\"table\"}],\"barpolar\":[{\"marker\":{\"line\":{\"color\":\"#E5ECF6\",\"width\":0.5},\"pattern\":{\"fillmode\":\"overlay\",\"size\":10,\"solidity\":0.2}},\"type\":\"barpolar\"}],\"pie\":[{\"automargin\":true,\"type\":\"pie\"}]},\"layout\":{\"autotypenumbers\":\"strict\",\"colorway\":[\"#636efa\",\"#EF553B\",\"#00cc96\",\"#ab63fa\",\"#FFA15A\",\"#19d3f3\",\"#FF6692\",\"#B6E880\",\"#FF97FF\",\"#FECB52\"],\"font\":{\"color\":\"#2a3f5f\"},\"hovermode\":\"closest\",\"hoverlabel\":{\"align\":\"left\"},\"paper_bgcolor\":\"white\",\"plot_bgcolor\":\"#E5ECF6\",\"polar\":{\"bgcolor\":\"#E5ECF6\",\"angularaxis\":{\"gridcolor\":\"white\",\"linecolor\":\"white\",\"ticks\":\"\"},\"radialaxis\":{\"gridcolor\":\"white\",\"linecolor\":\"white\",\"ticks\":\"\"}},\"ternary\":{\"bgcolor\":\"#E5ECF6\",\"aaxis\":{\"gridcolor\":\"white\",\"linecolor\":\"white\",\"ticks\":\"\"},\"baxis\":{\"gridcolor\":\"white\",\"linecolor\":\"white\",\"ticks\":\"\"},\"caxis\":{\"gridcolor\":\"white\",\"linecolor\":\"white\",\"ticks\":\"\"}},\"coloraxis\":{\"colorbar\":{\"outlinewidth\":0,\"ticks\":\"\"}},\"colorscale\":{\"sequential\":[[0.0,\"#0d0887\"],[0.1111111111111111,\"#46039f\"],[0.2222222222222222,\"#7201a8\"],[0.3333333333333333,\"#9c179e\"],[0.4444444444444444,\"#bd3786\"],[0.5555555555555556,\"#d8576b\"],[0.6666666666666666,\"#ed7953\"],[0.7777777777777778,\"#fb9f3a\"],[0.8888888888888888,\"#fdca26\"],[1.0,\"#f0f921\"]],\"sequentialminus\":[[0.0,\"#0d0887\"],[0.1111111111111111,\"#46039f\"],[0.2222222222222222,\"#7201a8\"],[0.3333333333333333,\"#9c179e\"],[0.4444444444444444,\"#bd3786\"],[0.5555555555555556,\"#d8576b\"],[0.6666666666666666,\"#ed7953\"],[0.7777777777777778,\"#fb9f3a\"],[0.8888888888888888,\"#fdca26\"],[1.0,\"#f0f921\"]],\"diverging\":[[0,\"#8e0152\"],[0.1,\"#c51b7d\"],[0.2,\"#de77ae\"],[0.3,\"#f1b6da\"],[0.4,\"#fde0ef\"],[0.5,\"#f7f7f7\"],[0.6,\"#e6f5d0\"],[0.7,\"#b8e186\"],[0.8,\"#7fbc41\"],[0.9,\"#4d9221\"],[1,\"#276419\"]]},\"xaxis\":{\"gridcolor\":\"white\",\"linecolor\":\"white\",\"ticks\":\"\",\"title\":{\"standoff\":15},\"zerolinecolor\":\"white\",\"automargin\":true,\"zerolinewidth\":2},\"yaxis\":{\"gridcolor\":\"white\",\"linecolor\":\"white\",\"ticks\":\"\",\"title\":{\"standoff\":15},\"zerolinecolor\":\"white\",\"automargin\":true,\"zerolinewidth\":2},\"scene\":{\"xaxis\":{\"backgroundcolor\":\"#E5ECF6\",\"gridcolor\":\"white\",\"linecolor\":\"white\",\"showbackground\":true,\"ticks\":\"\",\"zerolinecolor\":\"white\",\"gridwidth\":2},\"yaxis\":{\"backgroundcolor\":\"#E5ECF6\",\"gridcolor\":\"white\",\"linecolor\":\"white\",\"showbackground\":true,\"ticks\":\"\",\"zerolinecolor\":\"white\",\"gridwidth\":2},\"zaxis\":{\"backgroundcolor\":\"#E5ECF6\",\"gridcolor\":\"white\",\"linecolor\":\"white\",\"showbackground\":true,\"ticks\":\"\",\"zerolinecolor\":\"white\",\"gridwidth\":2}},\"shapedefaults\":{\"line\":{\"color\":\"#2a3f5f\"}},\"annotationdefaults\":{\"arrowcolor\":\"#2a3f5f\",\"arrowhead\":0,\"arrowwidth\":1},\"geo\":{\"bgcolor\":\"white\",\"landcolor\":\"#E5ECF6\",\"subunitcolor\":\"white\",\"showland\":true,\"showlakes\":true,\"lakecolor\":\"white\"},\"title\":{\"x\":0.05},\"mapbox\":{\"style\":\"light\"}}},\"coloraxis\":{\"colorbar\":{\"title\":{\"text\":\"index\"}},\"colorscale\":[[0.0,\"#0d0887\"],[0.1111111111111111,\"#46039f\"],[0.2222222222222222,\"#7201a8\"],[0.3333333333333333,\"#9c179e\"],[0.4444444444444444,\"#bd3786\"],[0.5555555555555556,\"#d8576b\"],[0.6666666666666666,\"#ed7953\"],[0.7777777777777778,\"#fb9f3a\"],[0.8888888888888888,\"#fdca26\"],[1.0,\"#f0f921\"]]},\"legend\":{\"tracegroupgap\":0},\"margin\":{\"t\":60},\"showlegend\":false},                        {\"responsive\": true}                    ).then(function(){\n",
       "                            \n",
       "var gd = document.getElementById('7357f112-78e3-4973-a13a-2e3aa429559e');\n",
       "var x = new MutationObserver(function (mutations, observer) {{\n",
       "        var display = window.getComputedStyle(gd).display;\n",
       "        if (!display || display === 'none') {{\n",
       "            console.log([gd, 'removed!']);\n",
       "            Plotly.purge(gd);\n",
       "            observer.disconnect();\n",
       "        }}\n",
       "}});\n",
       "\n",
       "// Listen for the removal of the full notebook cells\n",
       "var notebookContainer = gd.closest('#notebook-container');\n",
       "if (notebookContainer) {{\n",
       "    x.observe(notebookContainer, {childList: true});\n",
       "}}\n",
       "\n",
       "// Listen for the clearing of the current output cell\n",
       "var outputEl = gd.closest('.output');\n",
       "if (outputEl) {{\n",
       "    x.observe(outputEl, {childList: true});\n",
       "}}\n",
       "\n",
       "                        })                };                });            </script>        </div>"
      ]
     },
     "metadata": {},
     "output_type": "display_data"
    }
   ],
   "source": [
    "fig2 = px.parallel_coordinates(results_agg, dimensions=[\"Expected Casualties\",\"Expected Damage\", \"Traditional Costs\", \"Room for River Investment Costs\"], color = results_agg.index)\n",
    "fig2.update_layout(showlegend=False)\n",
    "fig2.show()"
   ]
  },
  {
   "cell_type": "markdown",
   "metadata": {},
   "source": [
    "![](../figures/Gelderland_Tradeoffs_Aggr_1ReferenceScenario.png)"
   ]
  },
  {
   "cell_type": "markdown",
   "metadata": {},
   "source": [
    "## Re-Evaluate under deep uncertainty\n",
    "For evaluating the promising policies under deep uncertainty, we set a hard limit on one expected casualties below 0.001 and expected damages below €100.000. "
   ]
  },
  {
   "cell_type": "code",
   "execution_count": 193,
   "metadata": {},
   "outputs": [
    {
     "data": {
      "text/plain": [
       "(2, 16)"
      ]
     },
     "execution_count": 193,
     "metadata": {},
     "output_type": "execute_result"
    }
   ],
   "source": [
    "results_subset = results_combined[(results_combined[\"A3 Aggr Expected Number of Deaths\"] < 0.0005) &\n",
    "    (results_combined[\"A3 Expected Annual Damage\"] < 1000)]\n",
    "results_subset.shape"
   ]
  },
  {
   "cell_type": "code",
   "execution_count": 188,
   "metadata": {},
   "outputs": [
    {
     "data": {
      "text/plain": [
       "(2, 16)"
      ]
     },
     "execution_count": 188,
     "metadata": {},
     "output_type": "execute_result"
    }
   ],
   "source": [
    "results_subset.shape"
   ]
  },
  {
   "cell_type": "markdown",
   "metadata": {},
   "source": [
    "We further use the remaining policies to test them under deep uncertainty by running the policies for 1000 scenarios each. "
   ]
  },
  {
   "cell_type": "code",
   "execution_count": 39,
   "metadata": {},
   "outputs": [],
   "source": [
    "policies = results_subset.iloc[:,0:31]\n",
    "policies_to_evaluate = []\n",
    "\n",
    "for i, policy in policies.iterrows():\n",
    "    policies_to_evaluate.append(Policy(str(i), **policy.to_dict()))"
   ]
  },
  {
   "cell_type": "code",
   "execution_count": 40,
   "metadata": {},
   "outputs": [
    {
     "name": "stderr",
     "output_type": "stream",
     "text": [
      "[MainProcess/INFO] pool started with 1 workers\n",
      "[MainProcess/INFO] performing 10000 scenarios * 2 policies * 1 model(s) = 20000 experiments\n",
      "100%|██████████████████████████████████| 20000/20000 [1:20:31<00:00,  4.14it/s]\n",
      "[MainProcess/INFO] experiments finished\n",
      "[MainProcess/INFO] terminating pool\n"
     ]
    }
   ],
   "source": [
    "ema_logging.log_to_stderr(ema_logging.INFO)\n",
    "\n",
    "with MultiprocessingEvaluator(dike_model) as evaluator:\n",
    "    results = evaluator.perform_experiments(n_scenarios, policies_to_evaluate)"
   ]
  },
  {
   "cell_type": "code",
   "execution_count": 43,
   "metadata": {},
   "outputs": [
    {
     "name": "stderr",
     "output_type": "stream",
     "text": [
      "[MainProcess/INFO] results saved successfully to C:\\Users\\NKondhalkar\\Documents\\final assignment\\results\\DeepUncertainty2policies_10000scenarios_DikeRing3.tar.gz\n"
     ]
    }
   ],
   "source": [
    "#Save results\n",
    "save_results(results, \"./results/DeepUncertainty2policies_\"+str(n_scenarios)+\"scenarios_\"+province+\".tar.gz\")"
   ]
  },
  {
   "cell_type": "code",
   "execution_count": 172,
   "metadata": {
    "tags": []
   },
   "outputs": [
    {
     "name": "stderr",
     "output_type": "stream",
     "text": [
      "[MainProcess/INFO] results loaded successfully from C:\\Users\\NKondhalkar\\Documents\\final assignment\\results\\DeepUncertainty2policies_10000scenarios_DikeRing3.tar.gz\n"
     ]
    }
   ],
   "source": [
    "#Load results\n",
    "results = load_results(\"./results/DeepUncertainty2policies_\"+str(n_scenarios)+\"scenarios_\"+province+\".tar.gz\")\n",
    "experiments, outcomes = results\n"
   ]
  },
  {
   "cell_type": "markdown",
   "metadata": {},
   "source": [
    "## Robustness Evaluation\n",
    "### Signal-to-noise Ratio\n",
    "To find the most robust policy, we rate the different policies by calculating the signal-to-noise ratio. For those model outcomes which are to be minimized, this metric multiplies the mean over all scenarios times the standard deviation. In that sense, the higher the signal-to-noise ratio is for a given policy over the outcomes, the less robust the policy performs. "
   ]
  },
  {
   "cell_type": "code",
   "execution_count": 47,
   "metadata": {},
   "outputs": [],
   "source": [
    "#Define a function to calculate the signal-to-noise ratio\n",
    "def s_to_n(data, direction):\n",
    "    mean = np.mean(data)\n",
    "    std = np.std(data)\n",
    "    \n",
    "    if direction==ScalarOutcome.MAXIMIZE:\n",
    "        return mean/std\n",
    "    else:\n",
    "        return mean*std"
   ]
  },
  {
   "cell_type": "code",
   "execution_count": 48,
   "metadata": {},
   "outputs": [
    {
     "data": {
      "text/html": [
       "<div>\n",
       "<style scoped>\n",
       "    .dataframe tbody tr th:only-of-type {\n",
       "        vertical-align: middle;\n",
       "    }\n",
       "\n",
       "    .dataframe tbody tr th {\n",
       "        vertical-align: top;\n",
       "    }\n",
       "\n",
       "    .dataframe thead th {\n",
       "        text-align: right;\n",
       "    }\n",
       "</style>\n",
       "<table border=\"1\" class=\"dataframe\">\n",
       "  <thead>\n",
       "    <tr style=\"text-align: right;\">\n",
       "      <th></th>\n",
       "      <th>index</th>\n",
       "      <th>A1_2 Aggr Expected Annual Damage</th>\n",
       "      <th>A3 Expected Annual Damage</th>\n",
       "      <th>A1_2 Aggr Expected Number of Deaths</th>\n",
       "      <th>A3 Aggr Expected Number of Deaths</th>\n",
       "      <th>A1_5 Dike Investment Costs</th>\n",
       "      <th>Room for River Investment Costs</th>\n",
       "      <th>Evacuation Costs</th>\n",
       "    </tr>\n",
       "  </thead>\n",
       "  <tbody>\n",
       "    <tr>\n",
       "      <th>0</th>\n",
       "      <td>0</td>\n",
       "      <td>1.251870e+16</td>\n",
       "      <td>6.533340e+15</td>\n",
       "      <td>0.007153</td>\n",
       "      <td>0.015749</td>\n",
       "      <td>0.0</td>\n",
       "      <td>0.0</td>\n",
       "      <td>0.0</td>\n",
       "    </tr>\n",
       "    <tr>\n",
       "      <th>1</th>\n",
       "      <td>35</td>\n",
       "      <td>2.122550e+17</td>\n",
       "      <td>3.603089e+15</td>\n",
       "      <td>0.080421</td>\n",
       "      <td>0.008091</td>\n",
       "      <td>0.0</td>\n",
       "      <td>0.0</td>\n",
       "      <td>0.0</td>\n",
       "    </tr>\n",
       "  </tbody>\n",
       "</table>\n",
       "</div>"
      ],
      "text/plain": [
       "   index  A1_2 Aggr Expected Annual Damage  A3 Expected Annual Damage  \\\n",
       "0      0                      1.251870e+16               6.533340e+15   \n",
       "1     35                      2.122550e+17               3.603089e+15   \n",
       "\n",
       "   A1_2 Aggr Expected Number of Deaths  A3 Aggr Expected Number of Deaths  \\\n",
       "0                             0.007153                           0.015749   \n",
       "1                             0.080421                           0.008091   \n",
       "\n",
       "   A1_5 Dike Investment Costs  Room for River Investment Costs  \\\n",
       "0                         0.0                              0.0   \n",
       "1                         0.0                              0.0   \n",
       "\n",
       "   Evacuation Costs  \n",
       "0               0.0  \n",
       "1               0.0  "
      ]
     },
     "execution_count": 48,
     "metadata": {},
     "output_type": "execute_result"
    }
   ],
   "source": [
    "#Calculate the signal-to-noise ratio \n",
    "overall_scores = {}\n",
    "for policy in np.unique(experiments['policy']):\n",
    "    scores = {}\n",
    "    \n",
    "    logical = experiments['policy']==policy\n",
    "    \n",
    "    for outcome in dike_model.outcomes:\n",
    "        value  = outcomes[outcome.name][logical]\n",
    "        sn_ratio = s_to_n(value, outcome.kind)\n",
    "        scores[outcome.name] = sn_ratio\n",
    "    overall_scores[policy] = scores\n",
    "scores = pd.DataFrame.from_dict(overall_scores).T\n",
    "scores = scores.reset_index()\n",
    "scores"
   ]
  },
  {
   "cell_type": "markdown",
   "metadata": {},
   "source": [
    "For a better visual understanding, we will plot the stn ratio in a parallel coordinates plot. "
   ]
  },
  {
   "cell_type": "code",
   "execution_count": 50,
   "metadata": {},
   "outputs": [
    {
     "data": {
      "application/vnd.plotly.v1+json": {
       "config": {
        "plotlyServerURL": "https://plot.ly"
       },
       "data": [
        {
         "dimensions": [
          {
           "label": "A1_2 Aggr Expected Annual Damage",
           "values": [
            12518699075912482,
            212255047246982700
           ]
          },
          {
           "label": "A3 Damage",
           "values": [
            6533339687361351,
            3603089456232674.5
           ]
          },
          {
           "label": "A1_2 Aggr Expected Number of Deaths",
           "values": [
            0.007153052842083111,
            0.08042083104718577
           ]
          },
          {
           "label": "A3 Casualties",
           "values": [
            0.015748640077494568,
            0.008090713503687234
           ]
          },
          {
           "label": "A1_5 Dike Investment Costs",
           "values": [
            0,
            0
           ]
          },
          {
           "label": "RfR Investment Costs",
           "values": [
            0,
            0
           ]
          }
         ],
         "domain": {
          "x": [
           0,
           1
          ],
          "y": [
           0,
           1
          ]
         },
         "line": {
          "color": [
           0,
           1
          ],
          "coloraxis": "coloraxis"
         },
         "name": "",
         "type": "parcoords"
        }
       ],
       "layout": {
        "coloraxis": {
         "colorbar": {
          "title": {
           "text": "_index"
          }
         },
         "colorscale": [
          [
           0,
           "#0d0887"
          ],
          [
           0.1111111111111111,
           "#46039f"
          ],
          [
           0.2222222222222222,
           "#7201a8"
          ],
          [
           0.3333333333333333,
           "#9c179e"
          ],
          [
           0.4444444444444444,
           "#bd3786"
          ],
          [
           0.5555555555555556,
           "#d8576b"
          ],
          [
           0.6666666666666666,
           "#ed7953"
          ],
          [
           0.7777777777777778,
           "#fb9f3a"
          ],
          [
           0.8888888888888888,
           "#fdca26"
          ],
          [
           1,
           "#f0f921"
          ]
         ]
        },
        "legend": {
         "tracegroupgap": 0
        },
        "margin": {
         "t": 60
        },
        "template": {
         "data": {
          "bar": [
           {
            "error_x": {
             "color": "#2a3f5f"
            },
            "error_y": {
             "color": "#2a3f5f"
            },
            "marker": {
             "line": {
              "color": "#E5ECF6",
              "width": 0.5
             },
             "pattern": {
              "fillmode": "overlay",
              "size": 10,
              "solidity": 0.2
             }
            },
            "type": "bar"
           }
          ],
          "barpolar": [
           {
            "marker": {
             "line": {
              "color": "#E5ECF6",
              "width": 0.5
             },
             "pattern": {
              "fillmode": "overlay",
              "size": 10,
              "solidity": 0.2
             }
            },
            "type": "barpolar"
           }
          ],
          "carpet": [
           {
            "aaxis": {
             "endlinecolor": "#2a3f5f",
             "gridcolor": "white",
             "linecolor": "white",
             "minorgridcolor": "white",
             "startlinecolor": "#2a3f5f"
            },
            "baxis": {
             "endlinecolor": "#2a3f5f",
             "gridcolor": "white",
             "linecolor": "white",
             "minorgridcolor": "white",
             "startlinecolor": "#2a3f5f"
            },
            "type": "carpet"
           }
          ],
          "choropleth": [
           {
            "colorbar": {
             "outlinewidth": 0,
             "ticks": ""
            },
            "type": "choropleth"
           }
          ],
          "contour": [
           {
            "colorbar": {
             "outlinewidth": 0,
             "ticks": ""
            },
            "colorscale": [
             [
              0,
              "#0d0887"
             ],
             [
              0.1111111111111111,
              "#46039f"
             ],
             [
              0.2222222222222222,
              "#7201a8"
             ],
             [
              0.3333333333333333,
              "#9c179e"
             ],
             [
              0.4444444444444444,
              "#bd3786"
             ],
             [
              0.5555555555555556,
              "#d8576b"
             ],
             [
              0.6666666666666666,
              "#ed7953"
             ],
             [
              0.7777777777777778,
              "#fb9f3a"
             ],
             [
              0.8888888888888888,
              "#fdca26"
             ],
             [
              1,
              "#f0f921"
             ]
            ],
            "type": "contour"
           }
          ],
          "contourcarpet": [
           {
            "colorbar": {
             "outlinewidth": 0,
             "ticks": ""
            },
            "type": "contourcarpet"
           }
          ],
          "heatmap": [
           {
            "colorbar": {
             "outlinewidth": 0,
             "ticks": ""
            },
            "colorscale": [
             [
              0,
              "#0d0887"
             ],
             [
              0.1111111111111111,
              "#46039f"
             ],
             [
              0.2222222222222222,
              "#7201a8"
             ],
             [
              0.3333333333333333,
              "#9c179e"
             ],
             [
              0.4444444444444444,
              "#bd3786"
             ],
             [
              0.5555555555555556,
              "#d8576b"
             ],
             [
              0.6666666666666666,
              "#ed7953"
             ],
             [
              0.7777777777777778,
              "#fb9f3a"
             ],
             [
              0.8888888888888888,
              "#fdca26"
             ],
             [
              1,
              "#f0f921"
             ]
            ],
            "type": "heatmap"
           }
          ],
          "heatmapgl": [
           {
            "colorbar": {
             "outlinewidth": 0,
             "ticks": ""
            },
            "colorscale": [
             [
              0,
              "#0d0887"
             ],
             [
              0.1111111111111111,
              "#46039f"
             ],
             [
              0.2222222222222222,
              "#7201a8"
             ],
             [
              0.3333333333333333,
              "#9c179e"
             ],
             [
              0.4444444444444444,
              "#bd3786"
             ],
             [
              0.5555555555555556,
              "#d8576b"
             ],
             [
              0.6666666666666666,
              "#ed7953"
             ],
             [
              0.7777777777777778,
              "#fb9f3a"
             ],
             [
              0.8888888888888888,
              "#fdca26"
             ],
             [
              1,
              "#f0f921"
             ]
            ],
            "type": "heatmapgl"
           }
          ],
          "histogram": [
           {
            "marker": {
             "pattern": {
              "fillmode": "overlay",
              "size": 10,
              "solidity": 0.2
             }
            },
            "type": "histogram"
           }
          ],
          "histogram2d": [
           {
            "colorbar": {
             "outlinewidth": 0,
             "ticks": ""
            },
            "colorscale": [
             [
              0,
              "#0d0887"
             ],
             [
              0.1111111111111111,
              "#46039f"
             ],
             [
              0.2222222222222222,
              "#7201a8"
             ],
             [
              0.3333333333333333,
              "#9c179e"
             ],
             [
              0.4444444444444444,
              "#bd3786"
             ],
             [
              0.5555555555555556,
              "#d8576b"
             ],
             [
              0.6666666666666666,
              "#ed7953"
             ],
             [
              0.7777777777777778,
              "#fb9f3a"
             ],
             [
              0.8888888888888888,
              "#fdca26"
             ],
             [
              1,
              "#f0f921"
             ]
            ],
            "type": "histogram2d"
           }
          ],
          "histogram2dcontour": [
           {
            "colorbar": {
             "outlinewidth": 0,
             "ticks": ""
            },
            "colorscale": [
             [
              0,
              "#0d0887"
             ],
             [
              0.1111111111111111,
              "#46039f"
             ],
             [
              0.2222222222222222,
              "#7201a8"
             ],
             [
              0.3333333333333333,
              "#9c179e"
             ],
             [
              0.4444444444444444,
              "#bd3786"
             ],
             [
              0.5555555555555556,
              "#d8576b"
             ],
             [
              0.6666666666666666,
              "#ed7953"
             ],
             [
              0.7777777777777778,
              "#fb9f3a"
             ],
             [
              0.8888888888888888,
              "#fdca26"
             ],
             [
              1,
              "#f0f921"
             ]
            ],
            "type": "histogram2dcontour"
           }
          ],
          "mesh3d": [
           {
            "colorbar": {
             "outlinewidth": 0,
             "ticks": ""
            },
            "type": "mesh3d"
           }
          ],
          "parcoords": [
           {
            "line": {
             "colorbar": {
              "outlinewidth": 0,
              "ticks": ""
             }
            },
            "type": "parcoords"
           }
          ],
          "pie": [
           {
            "automargin": true,
            "type": "pie"
           }
          ],
          "scatter": [
           {
            "fillpattern": {
             "fillmode": "overlay",
             "size": 10,
             "solidity": 0.2
            },
            "type": "scatter"
           }
          ],
          "scatter3d": [
           {
            "line": {
             "colorbar": {
              "outlinewidth": 0,
              "ticks": ""
             }
            },
            "marker": {
             "colorbar": {
              "outlinewidth": 0,
              "ticks": ""
             }
            },
            "type": "scatter3d"
           }
          ],
          "scattercarpet": [
           {
            "marker": {
             "colorbar": {
              "outlinewidth": 0,
              "ticks": ""
             }
            },
            "type": "scattercarpet"
           }
          ],
          "scattergeo": [
           {
            "marker": {
             "colorbar": {
              "outlinewidth": 0,
              "ticks": ""
             }
            },
            "type": "scattergeo"
           }
          ],
          "scattergl": [
           {
            "marker": {
             "colorbar": {
              "outlinewidth": 0,
              "ticks": ""
             }
            },
            "type": "scattergl"
           }
          ],
          "scattermapbox": [
           {
            "marker": {
             "colorbar": {
              "outlinewidth": 0,
              "ticks": ""
             }
            },
            "type": "scattermapbox"
           }
          ],
          "scatterpolar": [
           {
            "marker": {
             "colorbar": {
              "outlinewidth": 0,
              "ticks": ""
             }
            },
            "type": "scatterpolar"
           }
          ],
          "scatterpolargl": [
           {
            "marker": {
             "colorbar": {
              "outlinewidth": 0,
              "ticks": ""
             }
            },
            "type": "scatterpolargl"
           }
          ],
          "scatterternary": [
           {
            "marker": {
             "colorbar": {
              "outlinewidth": 0,
              "ticks": ""
             }
            },
            "type": "scatterternary"
           }
          ],
          "surface": [
           {
            "colorbar": {
             "outlinewidth": 0,
             "ticks": ""
            },
            "colorscale": [
             [
              0,
              "#0d0887"
             ],
             [
              0.1111111111111111,
              "#46039f"
             ],
             [
              0.2222222222222222,
              "#7201a8"
             ],
             [
              0.3333333333333333,
              "#9c179e"
             ],
             [
              0.4444444444444444,
              "#bd3786"
             ],
             [
              0.5555555555555556,
              "#d8576b"
             ],
             [
              0.6666666666666666,
              "#ed7953"
             ],
             [
              0.7777777777777778,
              "#fb9f3a"
             ],
             [
              0.8888888888888888,
              "#fdca26"
             ],
             [
              1,
              "#f0f921"
             ]
            ],
            "type": "surface"
           }
          ],
          "table": [
           {
            "cells": {
             "fill": {
              "color": "#EBF0F8"
             },
             "line": {
              "color": "white"
             }
            },
            "header": {
             "fill": {
              "color": "#C8D4E3"
             },
             "line": {
              "color": "white"
             }
            },
            "type": "table"
           }
          ]
         },
         "layout": {
          "annotationdefaults": {
           "arrowcolor": "#2a3f5f",
           "arrowhead": 0,
           "arrowwidth": 1
          },
          "autotypenumbers": "strict",
          "coloraxis": {
           "colorbar": {
            "outlinewidth": 0,
            "ticks": ""
           }
          },
          "colorscale": {
           "diverging": [
            [
             0,
             "#8e0152"
            ],
            [
             0.1,
             "#c51b7d"
            ],
            [
             0.2,
             "#de77ae"
            ],
            [
             0.3,
             "#f1b6da"
            ],
            [
             0.4,
             "#fde0ef"
            ],
            [
             0.5,
             "#f7f7f7"
            ],
            [
             0.6,
             "#e6f5d0"
            ],
            [
             0.7,
             "#b8e186"
            ],
            [
             0.8,
             "#7fbc41"
            ],
            [
             0.9,
             "#4d9221"
            ],
            [
             1,
             "#276419"
            ]
           ],
           "sequential": [
            [
             0,
             "#0d0887"
            ],
            [
             0.1111111111111111,
             "#46039f"
            ],
            [
             0.2222222222222222,
             "#7201a8"
            ],
            [
             0.3333333333333333,
             "#9c179e"
            ],
            [
             0.4444444444444444,
             "#bd3786"
            ],
            [
             0.5555555555555556,
             "#d8576b"
            ],
            [
             0.6666666666666666,
             "#ed7953"
            ],
            [
             0.7777777777777778,
             "#fb9f3a"
            ],
            [
             0.8888888888888888,
             "#fdca26"
            ],
            [
             1,
             "#f0f921"
            ]
           ],
           "sequentialminus": [
            [
             0,
             "#0d0887"
            ],
            [
             0.1111111111111111,
             "#46039f"
            ],
            [
             0.2222222222222222,
             "#7201a8"
            ],
            [
             0.3333333333333333,
             "#9c179e"
            ],
            [
             0.4444444444444444,
             "#bd3786"
            ],
            [
             0.5555555555555556,
             "#d8576b"
            ],
            [
             0.6666666666666666,
             "#ed7953"
            ],
            [
             0.7777777777777778,
             "#fb9f3a"
            ],
            [
             0.8888888888888888,
             "#fdca26"
            ],
            [
             1,
             "#f0f921"
            ]
           ]
          },
          "colorway": [
           "#636efa",
           "#EF553B",
           "#00cc96",
           "#ab63fa",
           "#FFA15A",
           "#19d3f3",
           "#FF6692",
           "#B6E880",
           "#FF97FF",
           "#FECB52"
          ],
          "font": {
           "color": "#2a3f5f"
          },
          "geo": {
           "bgcolor": "white",
           "lakecolor": "white",
           "landcolor": "#E5ECF6",
           "showlakes": true,
           "showland": true,
           "subunitcolor": "white"
          },
          "hoverlabel": {
           "align": "left"
          },
          "hovermode": "closest",
          "mapbox": {
           "style": "light"
          },
          "paper_bgcolor": "white",
          "plot_bgcolor": "#E5ECF6",
          "polar": {
           "angularaxis": {
            "gridcolor": "white",
            "linecolor": "white",
            "ticks": ""
           },
           "bgcolor": "#E5ECF6",
           "radialaxis": {
            "gridcolor": "white",
            "linecolor": "white",
            "ticks": ""
           }
          },
          "scene": {
           "xaxis": {
            "backgroundcolor": "#E5ECF6",
            "gridcolor": "white",
            "gridwidth": 2,
            "linecolor": "white",
            "showbackground": true,
            "ticks": "",
            "zerolinecolor": "white"
           },
           "yaxis": {
            "backgroundcolor": "#E5ECF6",
            "gridcolor": "white",
            "gridwidth": 2,
            "linecolor": "white",
            "showbackground": true,
            "ticks": "",
            "zerolinecolor": "white"
           },
           "zaxis": {
            "backgroundcolor": "#E5ECF6",
            "gridcolor": "white",
            "gridwidth": 2,
            "linecolor": "white",
            "showbackground": true,
            "ticks": "",
            "zerolinecolor": "white"
           }
          },
          "shapedefaults": {
           "line": {
            "color": "#2a3f5f"
           }
          },
          "ternary": {
           "aaxis": {
            "gridcolor": "white",
            "linecolor": "white",
            "ticks": ""
           },
           "baxis": {
            "gridcolor": "white",
            "linecolor": "white",
            "ticks": ""
           },
           "bgcolor": "#E5ECF6",
           "caxis": {
            "gridcolor": "white",
            "linecolor": "white",
            "ticks": ""
           }
          },
          "title": {
           "x": 0.05
          },
          "xaxis": {
           "automargin": true,
           "gridcolor": "white",
           "linecolor": "white",
           "ticks": "",
           "title": {
            "standoff": 15
           },
           "zerolinecolor": "white",
           "zerolinewidth": 2
          },
          "yaxis": {
           "automargin": true,
           "gridcolor": "white",
           "linecolor": "white",
           "ticks": "",
           "title": {
            "standoff": 15
           },
           "zerolinecolor": "white",
           "zerolinewidth": 2
          }
         }
        }
       }
      },
      "text/html": [
       "<div>                            <div id=\"897ba0de-8db6-46b6-9f54-1bbaedaed7e9\" class=\"plotly-graph-div\" style=\"height:525px; width:100%;\"></div>            <script type=\"text/javascript\">                require([\"plotly\"], function(Plotly) {                    window.PLOTLYENV=window.PLOTLYENV || {};                                    if (document.getElementById(\"897ba0de-8db6-46b6-9f54-1bbaedaed7e9\")) {                    Plotly.newPlot(                        \"897ba0de-8db6-46b6-9f54-1bbaedaed7e9\",                        [{\"dimensions\":[{\"label\":\"A1_2 Aggr Expected Annual Damage\",\"values\":[1.2518699075912482e+16,2.122550472469827e+17]},{\"label\":\"A3 Damage\",\"values\":[6533339687361351.0,3603089456232674.5]},{\"label\":\"A1_2 Aggr Expected Number of Deaths\",\"values\":[0.007153052842083111,0.08042083104718577]},{\"label\":\"A3 Casualties\",\"values\":[0.015748640077494568,0.008090713503687234]},{\"label\":\"A1_5 Dike Investment Costs\",\"values\":[0.0,0.0]},{\"label\":\"RfR Investment Costs\",\"values\":[0.0,0.0]}],\"domain\":{\"x\":[0.0,1.0],\"y\":[0.0,1.0]},\"line\":{\"color\":[0,1],\"coloraxis\":\"coloraxis\"},\"name\":\"\",\"type\":\"parcoords\"}],                        {\"template\":{\"data\":{\"histogram2dcontour\":[{\"type\":\"histogram2dcontour\",\"colorbar\":{\"outlinewidth\":0,\"ticks\":\"\"},\"colorscale\":[[0.0,\"#0d0887\"],[0.1111111111111111,\"#46039f\"],[0.2222222222222222,\"#7201a8\"],[0.3333333333333333,\"#9c179e\"],[0.4444444444444444,\"#bd3786\"],[0.5555555555555556,\"#d8576b\"],[0.6666666666666666,\"#ed7953\"],[0.7777777777777778,\"#fb9f3a\"],[0.8888888888888888,\"#fdca26\"],[1.0,\"#f0f921\"]]}],\"choropleth\":[{\"type\":\"choropleth\",\"colorbar\":{\"outlinewidth\":0,\"ticks\":\"\"}}],\"histogram2d\":[{\"type\":\"histogram2d\",\"colorbar\":{\"outlinewidth\":0,\"ticks\":\"\"},\"colorscale\":[[0.0,\"#0d0887\"],[0.1111111111111111,\"#46039f\"],[0.2222222222222222,\"#7201a8\"],[0.3333333333333333,\"#9c179e\"],[0.4444444444444444,\"#bd3786\"],[0.5555555555555556,\"#d8576b\"],[0.6666666666666666,\"#ed7953\"],[0.7777777777777778,\"#fb9f3a\"],[0.8888888888888888,\"#fdca26\"],[1.0,\"#f0f921\"]]}],\"heatmap\":[{\"type\":\"heatmap\",\"colorbar\":{\"outlinewidth\":0,\"ticks\":\"\"},\"colorscale\":[[0.0,\"#0d0887\"],[0.1111111111111111,\"#46039f\"],[0.2222222222222222,\"#7201a8\"],[0.3333333333333333,\"#9c179e\"],[0.4444444444444444,\"#bd3786\"],[0.5555555555555556,\"#d8576b\"],[0.6666666666666666,\"#ed7953\"],[0.7777777777777778,\"#fb9f3a\"],[0.8888888888888888,\"#fdca26\"],[1.0,\"#f0f921\"]]}],\"heatmapgl\":[{\"type\":\"heatmapgl\",\"colorbar\":{\"outlinewidth\":0,\"ticks\":\"\"},\"colorscale\":[[0.0,\"#0d0887\"],[0.1111111111111111,\"#46039f\"],[0.2222222222222222,\"#7201a8\"],[0.3333333333333333,\"#9c179e\"],[0.4444444444444444,\"#bd3786\"],[0.5555555555555556,\"#d8576b\"],[0.6666666666666666,\"#ed7953\"],[0.7777777777777778,\"#fb9f3a\"],[0.8888888888888888,\"#fdca26\"],[1.0,\"#f0f921\"]]}],\"contourcarpet\":[{\"type\":\"contourcarpet\",\"colorbar\":{\"outlinewidth\":0,\"ticks\":\"\"}}],\"contour\":[{\"type\":\"contour\",\"colorbar\":{\"outlinewidth\":0,\"ticks\":\"\"},\"colorscale\":[[0.0,\"#0d0887\"],[0.1111111111111111,\"#46039f\"],[0.2222222222222222,\"#7201a8\"],[0.3333333333333333,\"#9c179e\"],[0.4444444444444444,\"#bd3786\"],[0.5555555555555556,\"#d8576b\"],[0.6666666666666666,\"#ed7953\"],[0.7777777777777778,\"#fb9f3a\"],[0.8888888888888888,\"#fdca26\"],[1.0,\"#f0f921\"]]}],\"surface\":[{\"type\":\"surface\",\"colorbar\":{\"outlinewidth\":0,\"ticks\":\"\"},\"colorscale\":[[0.0,\"#0d0887\"],[0.1111111111111111,\"#46039f\"],[0.2222222222222222,\"#7201a8\"],[0.3333333333333333,\"#9c179e\"],[0.4444444444444444,\"#bd3786\"],[0.5555555555555556,\"#d8576b\"],[0.6666666666666666,\"#ed7953\"],[0.7777777777777778,\"#fb9f3a\"],[0.8888888888888888,\"#fdca26\"],[1.0,\"#f0f921\"]]}],\"mesh3d\":[{\"type\":\"mesh3d\",\"colorbar\":{\"outlinewidth\":0,\"ticks\":\"\"}}],\"scatter\":[{\"fillpattern\":{\"fillmode\":\"overlay\",\"size\":10,\"solidity\":0.2},\"type\":\"scatter\"}],\"parcoords\":[{\"type\":\"parcoords\",\"line\":{\"colorbar\":{\"outlinewidth\":0,\"ticks\":\"\"}}}],\"scatterpolargl\":[{\"type\":\"scatterpolargl\",\"marker\":{\"colorbar\":{\"outlinewidth\":0,\"ticks\":\"\"}}}],\"bar\":[{\"error_x\":{\"color\":\"#2a3f5f\"},\"error_y\":{\"color\":\"#2a3f5f\"},\"marker\":{\"line\":{\"color\":\"#E5ECF6\",\"width\":0.5},\"pattern\":{\"fillmode\":\"overlay\",\"size\":10,\"solidity\":0.2}},\"type\":\"bar\"}],\"scattergeo\":[{\"type\":\"scattergeo\",\"marker\":{\"colorbar\":{\"outlinewidth\":0,\"ticks\":\"\"}}}],\"scatterpolar\":[{\"type\":\"scatterpolar\",\"marker\":{\"colorbar\":{\"outlinewidth\":0,\"ticks\":\"\"}}}],\"histogram\":[{\"marker\":{\"pattern\":{\"fillmode\":\"overlay\",\"size\":10,\"solidity\":0.2}},\"type\":\"histogram\"}],\"scattergl\":[{\"type\":\"scattergl\",\"marker\":{\"colorbar\":{\"outlinewidth\":0,\"ticks\":\"\"}}}],\"scatter3d\":[{\"type\":\"scatter3d\",\"line\":{\"colorbar\":{\"outlinewidth\":0,\"ticks\":\"\"}},\"marker\":{\"colorbar\":{\"outlinewidth\":0,\"ticks\":\"\"}}}],\"scattermapbox\":[{\"type\":\"scattermapbox\",\"marker\":{\"colorbar\":{\"outlinewidth\":0,\"ticks\":\"\"}}}],\"scatterternary\":[{\"type\":\"scatterternary\",\"marker\":{\"colorbar\":{\"outlinewidth\":0,\"ticks\":\"\"}}}],\"scattercarpet\":[{\"type\":\"scattercarpet\",\"marker\":{\"colorbar\":{\"outlinewidth\":0,\"ticks\":\"\"}}}],\"carpet\":[{\"aaxis\":{\"endlinecolor\":\"#2a3f5f\",\"gridcolor\":\"white\",\"linecolor\":\"white\",\"minorgridcolor\":\"white\",\"startlinecolor\":\"#2a3f5f\"},\"baxis\":{\"endlinecolor\":\"#2a3f5f\",\"gridcolor\":\"white\",\"linecolor\":\"white\",\"minorgridcolor\":\"white\",\"startlinecolor\":\"#2a3f5f\"},\"type\":\"carpet\"}],\"table\":[{\"cells\":{\"fill\":{\"color\":\"#EBF0F8\"},\"line\":{\"color\":\"white\"}},\"header\":{\"fill\":{\"color\":\"#C8D4E3\"},\"line\":{\"color\":\"white\"}},\"type\":\"table\"}],\"barpolar\":[{\"marker\":{\"line\":{\"color\":\"#E5ECF6\",\"width\":0.5},\"pattern\":{\"fillmode\":\"overlay\",\"size\":10,\"solidity\":0.2}},\"type\":\"barpolar\"}],\"pie\":[{\"automargin\":true,\"type\":\"pie\"}]},\"layout\":{\"autotypenumbers\":\"strict\",\"colorway\":[\"#636efa\",\"#EF553B\",\"#00cc96\",\"#ab63fa\",\"#FFA15A\",\"#19d3f3\",\"#FF6692\",\"#B6E880\",\"#FF97FF\",\"#FECB52\"],\"font\":{\"color\":\"#2a3f5f\"},\"hovermode\":\"closest\",\"hoverlabel\":{\"align\":\"left\"},\"paper_bgcolor\":\"white\",\"plot_bgcolor\":\"#E5ECF6\",\"polar\":{\"bgcolor\":\"#E5ECF6\",\"angularaxis\":{\"gridcolor\":\"white\",\"linecolor\":\"white\",\"ticks\":\"\"},\"radialaxis\":{\"gridcolor\":\"white\",\"linecolor\":\"white\",\"ticks\":\"\"}},\"ternary\":{\"bgcolor\":\"#E5ECF6\",\"aaxis\":{\"gridcolor\":\"white\",\"linecolor\":\"white\",\"ticks\":\"\"},\"baxis\":{\"gridcolor\":\"white\",\"linecolor\":\"white\",\"ticks\":\"\"},\"caxis\":{\"gridcolor\":\"white\",\"linecolor\":\"white\",\"ticks\":\"\"}},\"coloraxis\":{\"colorbar\":{\"outlinewidth\":0,\"ticks\":\"\"}},\"colorscale\":{\"sequential\":[[0.0,\"#0d0887\"],[0.1111111111111111,\"#46039f\"],[0.2222222222222222,\"#7201a8\"],[0.3333333333333333,\"#9c179e\"],[0.4444444444444444,\"#bd3786\"],[0.5555555555555556,\"#d8576b\"],[0.6666666666666666,\"#ed7953\"],[0.7777777777777778,\"#fb9f3a\"],[0.8888888888888888,\"#fdca26\"],[1.0,\"#f0f921\"]],\"sequentialminus\":[[0.0,\"#0d0887\"],[0.1111111111111111,\"#46039f\"],[0.2222222222222222,\"#7201a8\"],[0.3333333333333333,\"#9c179e\"],[0.4444444444444444,\"#bd3786\"],[0.5555555555555556,\"#d8576b\"],[0.6666666666666666,\"#ed7953\"],[0.7777777777777778,\"#fb9f3a\"],[0.8888888888888888,\"#fdca26\"],[1.0,\"#f0f921\"]],\"diverging\":[[0,\"#8e0152\"],[0.1,\"#c51b7d\"],[0.2,\"#de77ae\"],[0.3,\"#f1b6da\"],[0.4,\"#fde0ef\"],[0.5,\"#f7f7f7\"],[0.6,\"#e6f5d0\"],[0.7,\"#b8e186\"],[0.8,\"#7fbc41\"],[0.9,\"#4d9221\"],[1,\"#276419\"]]},\"xaxis\":{\"gridcolor\":\"white\",\"linecolor\":\"white\",\"ticks\":\"\",\"title\":{\"standoff\":15},\"zerolinecolor\":\"white\",\"automargin\":true,\"zerolinewidth\":2},\"yaxis\":{\"gridcolor\":\"white\",\"linecolor\":\"white\",\"ticks\":\"\",\"title\":{\"standoff\":15},\"zerolinecolor\":\"white\",\"automargin\":true,\"zerolinewidth\":2},\"scene\":{\"xaxis\":{\"backgroundcolor\":\"#E5ECF6\",\"gridcolor\":\"white\",\"linecolor\":\"white\",\"showbackground\":true,\"ticks\":\"\",\"zerolinecolor\":\"white\",\"gridwidth\":2},\"yaxis\":{\"backgroundcolor\":\"#E5ECF6\",\"gridcolor\":\"white\",\"linecolor\":\"white\",\"showbackground\":true,\"ticks\":\"\",\"zerolinecolor\":\"white\",\"gridwidth\":2},\"zaxis\":{\"backgroundcolor\":\"#E5ECF6\",\"gridcolor\":\"white\",\"linecolor\":\"white\",\"showbackground\":true,\"ticks\":\"\",\"zerolinecolor\":\"white\",\"gridwidth\":2}},\"shapedefaults\":{\"line\":{\"color\":\"#2a3f5f\"}},\"annotationdefaults\":{\"arrowcolor\":\"#2a3f5f\",\"arrowhead\":0,\"arrowwidth\":1},\"geo\":{\"bgcolor\":\"white\",\"landcolor\":\"#E5ECF6\",\"subunitcolor\":\"white\",\"showland\":true,\"showlakes\":true,\"lakecolor\":\"white\"},\"title\":{\"x\":0.05},\"mapbox\":{\"style\":\"light\"}}},\"coloraxis\":{\"colorbar\":{\"title\":{\"text\":\"_index\"}},\"colorscale\":[[0.0,\"#0d0887\"],[0.1111111111111111,\"#46039f\"],[0.2222222222222222,\"#7201a8\"],[0.3333333333333333,\"#9c179e\"],[0.4444444444444444,\"#bd3786\"],[0.5555555555555556,\"#d8576b\"],[0.6666666666666666,\"#ed7953\"],[0.7777777777777778,\"#fb9f3a\"],[0.8888888888888888,\"#fdca26\"],[1.0,\"#f0f921\"]]},\"legend\":{\"tracegroupgap\":0},\"margin\":{\"t\":60}},                        {\"responsive\": true}                    ).then(function(){\n",
       "                            \n",
       "var gd = document.getElementById('897ba0de-8db6-46b6-9f54-1bbaedaed7e9');\n",
       "var x = new MutationObserver(function (mutations, observer) {{\n",
       "        var display = window.getComputedStyle(gd).display;\n",
       "        if (!display || display === 'none') {{\n",
       "            console.log([gd, 'removed!']);\n",
       "            Plotly.purge(gd);\n",
       "            observer.disconnect();\n",
       "        }}\n",
       "}});\n",
       "\n",
       "// Listen for the removal of the full notebook cells\n",
       "var notebookContainer = gd.closest('#notebook-container');\n",
       "if (notebookContainer) {{\n",
       "    x.observe(notebookContainer, {childList: true});\n",
       "}}\n",
       "\n",
       "// Listen for the clearing of the current output cell\n",
       "var outputEl = gd.closest('.output');\n",
       "if (outputEl) {{\n",
       "    x.observe(outputEl, {childList: true});\n",
       "}}\n",
       "\n",
       "                        })                };                });            </script>        </div>"
      ]
     },
     "metadata": {},
     "output_type": "display_data"
    }
   ],
   "source": [
    "fig3 = px.parallel_coordinates(scores, labels= {\"A3 Expected Annual Damage\" : \"A3 Damage\", \"A3 Aggr Expected Number of Deaths\" : \"A3 Casualties\", \"Room for River Investment Costs\" : \"RfR Investment Costs\"}, color = scores.index, dimensions=[\"A1_2 Aggr Expected Annual Damage\", \"A3 Expected Annual Damage\", \"A1_2 Aggr Expected Number of Deaths\",\"A3 Aggr Expected Number of Deaths\", \"A1_5 Dike Investment Costs\", \"Room for River Investment Costs\" ])\n",
    "fig3.show()"
   ]
  },
  {
   "cell_type": "markdown",
   "metadata": {},
   "source": [
    "We find some robust policies, as seen in the graph.\n",
    "\n",
    "![](../figures/Gelderland_stnr.png)\n",
    "\n"
   ]
  },
  {
   "cell_type": "markdown",
   "metadata": {},
   "source": [
    "### Maximum Regret\n",
    "Another robustness criterion is the maximum regret measure. We again calculate this measure for every policy selected"
   ]
  },
  {
   "cell_type": "code",
   "execution_count": 52,
   "metadata": {},
   "outputs": [],
   "source": [
    "def calculate_regret(data, best):\n",
    "    return np.abs(best-data)\n",
    "\n",
    "overall_regret = {}\n",
    "max_regret = {}\n",
    "for outcome in dike_model.outcomes:\n",
    "    policy_column = experiments['policy']\n",
    "\n",
    "    data = pd.DataFrame({outcome.name: outcomes[outcome.name], \n",
    "                         \"policy\":experiments['policy'],\n",
    "                         \"scenario\":experiments['scenario']})\n",
    "\n",
    "    data = data.pivot(index='scenario', columns='policy')\n",
    "    data.columns = data.columns.get_level_values(1)\n",
    "\n",
    "    outcome_regret = (data.max(axis=1).values[:, np.newaxis] - data).abs()\n",
    "\n",
    "    overall_regret[outcome.name] = outcome_regret\n",
    "    max_regret[outcome.name] = outcome_regret.max()\n"
   ]
  },
  {
   "cell_type": "code",
   "execution_count": 53,
   "metadata": {},
   "outputs": [],
   "source": [
    "max_regret = pd.DataFrame(max_regret)\n",
    "max_regret = max_regret.reindex()"
   ]
  },
  {
   "cell_type": "code",
   "execution_count": 54,
   "metadata": {},
   "outputs": [
    {
     "data": {
      "application/vnd.plotly.v1+json": {
       "config": {
        "plotlyServerURL": "https://plot.ly"
       },
       "data": [
        {
         "coloraxis": "coloraxis",
         "hovertemplate": "Outcomes: %{x}<br>Policies: %{y}<br>Maximum regret: %{z}<extra></extra>",
         "name": "0",
         "type": "heatmap",
         "x": [
          "A1_2 Aggr Expected Annual Damage",
          "A3 Expected Annual Damage",
          "A1_2 Aggr Expected Number of Deaths",
          "A3 Aggr Expected Number of Deaths",
          "A1_5 Dike Investment Costs",
          "Room for River Investment Costs",
          "Evacuation Costs"
         ],
         "xaxis": "x",
         "y": [
          0,
          35
         ],
         "yaxis": "y",
         "z": [
          [
           1,
           0.296188294227624,
           1,
           0.47710484988903884,
           0,
           1,
           null
          ],
          [
           0.17095374808063446,
           1,
           0.25671654790694787,
           1,
           1,
           0,
           null
          ]
         ]
        }
       ],
       "layout": {
        "coloraxis": {
         "colorbar": {
          "title": {
           "text": "Maximum regret"
          }
         },
         "colorscale": [
          [
           0,
           "#0d0887"
          ],
          [
           0.1111111111111111,
           "#46039f"
          ],
          [
           0.2222222222222222,
           "#7201a8"
          ],
          [
           0.3333333333333333,
           "#9c179e"
          ],
          [
           0.4444444444444444,
           "#bd3786"
          ],
          [
           0.5555555555555556,
           "#d8576b"
          ],
          [
           0.6666666666666666,
           "#ed7953"
          ],
          [
           0.7777777777777778,
           "#fb9f3a"
          ],
          [
           0.8888888888888888,
           "#fdca26"
          ],
          [
           1,
           "#f0f921"
          ]
         ]
        },
        "margin": {
         "t": 60
        },
        "template": {
         "data": {
          "bar": [
           {
            "error_x": {
             "color": "#2a3f5f"
            },
            "error_y": {
             "color": "#2a3f5f"
            },
            "marker": {
             "line": {
              "color": "#E5ECF6",
              "width": 0.5
             },
             "pattern": {
              "fillmode": "overlay",
              "size": 10,
              "solidity": 0.2
             }
            },
            "type": "bar"
           }
          ],
          "barpolar": [
           {
            "marker": {
             "line": {
              "color": "#E5ECF6",
              "width": 0.5
             },
             "pattern": {
              "fillmode": "overlay",
              "size": 10,
              "solidity": 0.2
             }
            },
            "type": "barpolar"
           }
          ],
          "carpet": [
           {
            "aaxis": {
             "endlinecolor": "#2a3f5f",
             "gridcolor": "white",
             "linecolor": "white",
             "minorgridcolor": "white",
             "startlinecolor": "#2a3f5f"
            },
            "baxis": {
             "endlinecolor": "#2a3f5f",
             "gridcolor": "white",
             "linecolor": "white",
             "minorgridcolor": "white",
             "startlinecolor": "#2a3f5f"
            },
            "type": "carpet"
           }
          ],
          "choropleth": [
           {
            "colorbar": {
             "outlinewidth": 0,
             "ticks": ""
            },
            "type": "choropleth"
           }
          ],
          "contour": [
           {
            "colorbar": {
             "outlinewidth": 0,
             "ticks": ""
            },
            "colorscale": [
             [
              0,
              "#0d0887"
             ],
             [
              0.1111111111111111,
              "#46039f"
             ],
             [
              0.2222222222222222,
              "#7201a8"
             ],
             [
              0.3333333333333333,
              "#9c179e"
             ],
             [
              0.4444444444444444,
              "#bd3786"
             ],
             [
              0.5555555555555556,
              "#d8576b"
             ],
             [
              0.6666666666666666,
              "#ed7953"
             ],
             [
              0.7777777777777778,
              "#fb9f3a"
             ],
             [
              0.8888888888888888,
              "#fdca26"
             ],
             [
              1,
              "#f0f921"
             ]
            ],
            "type": "contour"
           }
          ],
          "contourcarpet": [
           {
            "colorbar": {
             "outlinewidth": 0,
             "ticks": ""
            },
            "type": "contourcarpet"
           }
          ],
          "heatmap": [
           {
            "colorbar": {
             "outlinewidth": 0,
             "ticks": ""
            },
            "colorscale": [
             [
              0,
              "#0d0887"
             ],
             [
              0.1111111111111111,
              "#46039f"
             ],
             [
              0.2222222222222222,
              "#7201a8"
             ],
             [
              0.3333333333333333,
              "#9c179e"
             ],
             [
              0.4444444444444444,
              "#bd3786"
             ],
             [
              0.5555555555555556,
              "#d8576b"
             ],
             [
              0.6666666666666666,
              "#ed7953"
             ],
             [
              0.7777777777777778,
              "#fb9f3a"
             ],
             [
              0.8888888888888888,
              "#fdca26"
             ],
             [
              1,
              "#f0f921"
             ]
            ],
            "type": "heatmap"
           }
          ],
          "heatmapgl": [
           {
            "colorbar": {
             "outlinewidth": 0,
             "ticks": ""
            },
            "colorscale": [
             [
              0,
              "#0d0887"
             ],
             [
              0.1111111111111111,
              "#46039f"
             ],
             [
              0.2222222222222222,
              "#7201a8"
             ],
             [
              0.3333333333333333,
              "#9c179e"
             ],
             [
              0.4444444444444444,
              "#bd3786"
             ],
             [
              0.5555555555555556,
              "#d8576b"
             ],
             [
              0.6666666666666666,
              "#ed7953"
             ],
             [
              0.7777777777777778,
              "#fb9f3a"
             ],
             [
              0.8888888888888888,
              "#fdca26"
             ],
             [
              1,
              "#f0f921"
             ]
            ],
            "type": "heatmapgl"
           }
          ],
          "histogram": [
           {
            "marker": {
             "pattern": {
              "fillmode": "overlay",
              "size": 10,
              "solidity": 0.2
             }
            },
            "type": "histogram"
           }
          ],
          "histogram2d": [
           {
            "colorbar": {
             "outlinewidth": 0,
             "ticks": ""
            },
            "colorscale": [
             [
              0,
              "#0d0887"
             ],
             [
              0.1111111111111111,
              "#46039f"
             ],
             [
              0.2222222222222222,
              "#7201a8"
             ],
             [
              0.3333333333333333,
              "#9c179e"
             ],
             [
              0.4444444444444444,
              "#bd3786"
             ],
             [
              0.5555555555555556,
              "#d8576b"
             ],
             [
              0.6666666666666666,
              "#ed7953"
             ],
             [
              0.7777777777777778,
              "#fb9f3a"
             ],
             [
              0.8888888888888888,
              "#fdca26"
             ],
             [
              1,
              "#f0f921"
             ]
            ],
            "type": "histogram2d"
           }
          ],
          "histogram2dcontour": [
           {
            "colorbar": {
             "outlinewidth": 0,
             "ticks": ""
            },
            "colorscale": [
             [
              0,
              "#0d0887"
             ],
             [
              0.1111111111111111,
              "#46039f"
             ],
             [
              0.2222222222222222,
              "#7201a8"
             ],
             [
              0.3333333333333333,
              "#9c179e"
             ],
             [
              0.4444444444444444,
              "#bd3786"
             ],
             [
              0.5555555555555556,
              "#d8576b"
             ],
             [
              0.6666666666666666,
              "#ed7953"
             ],
             [
              0.7777777777777778,
              "#fb9f3a"
             ],
             [
              0.8888888888888888,
              "#fdca26"
             ],
             [
              1,
              "#f0f921"
             ]
            ],
            "type": "histogram2dcontour"
           }
          ],
          "mesh3d": [
           {
            "colorbar": {
             "outlinewidth": 0,
             "ticks": ""
            },
            "type": "mesh3d"
           }
          ],
          "parcoords": [
           {
            "line": {
             "colorbar": {
              "outlinewidth": 0,
              "ticks": ""
             }
            },
            "type": "parcoords"
           }
          ],
          "pie": [
           {
            "automargin": true,
            "type": "pie"
           }
          ],
          "scatter": [
           {
            "fillpattern": {
             "fillmode": "overlay",
             "size": 10,
             "solidity": 0.2
            },
            "type": "scatter"
           }
          ],
          "scatter3d": [
           {
            "line": {
             "colorbar": {
              "outlinewidth": 0,
              "ticks": ""
             }
            },
            "marker": {
             "colorbar": {
              "outlinewidth": 0,
              "ticks": ""
             }
            },
            "type": "scatter3d"
           }
          ],
          "scattercarpet": [
           {
            "marker": {
             "colorbar": {
              "outlinewidth": 0,
              "ticks": ""
             }
            },
            "type": "scattercarpet"
           }
          ],
          "scattergeo": [
           {
            "marker": {
             "colorbar": {
              "outlinewidth": 0,
              "ticks": ""
             }
            },
            "type": "scattergeo"
           }
          ],
          "scattergl": [
           {
            "marker": {
             "colorbar": {
              "outlinewidth": 0,
              "ticks": ""
             }
            },
            "type": "scattergl"
           }
          ],
          "scattermapbox": [
           {
            "marker": {
             "colorbar": {
              "outlinewidth": 0,
              "ticks": ""
             }
            },
            "type": "scattermapbox"
           }
          ],
          "scatterpolar": [
           {
            "marker": {
             "colorbar": {
              "outlinewidth": 0,
              "ticks": ""
             }
            },
            "type": "scatterpolar"
           }
          ],
          "scatterpolargl": [
           {
            "marker": {
             "colorbar": {
              "outlinewidth": 0,
              "ticks": ""
             }
            },
            "type": "scatterpolargl"
           }
          ],
          "scatterternary": [
           {
            "marker": {
             "colorbar": {
              "outlinewidth": 0,
              "ticks": ""
             }
            },
            "type": "scatterternary"
           }
          ],
          "surface": [
           {
            "colorbar": {
             "outlinewidth": 0,
             "ticks": ""
            },
            "colorscale": [
             [
              0,
              "#0d0887"
             ],
             [
              0.1111111111111111,
              "#46039f"
             ],
             [
              0.2222222222222222,
              "#7201a8"
             ],
             [
              0.3333333333333333,
              "#9c179e"
             ],
             [
              0.4444444444444444,
              "#bd3786"
             ],
             [
              0.5555555555555556,
              "#d8576b"
             ],
             [
              0.6666666666666666,
              "#ed7953"
             ],
             [
              0.7777777777777778,
              "#fb9f3a"
             ],
             [
              0.8888888888888888,
              "#fdca26"
             ],
             [
              1,
              "#f0f921"
             ]
            ],
            "type": "surface"
           }
          ],
          "table": [
           {
            "cells": {
             "fill": {
              "color": "#EBF0F8"
             },
             "line": {
              "color": "white"
             }
            },
            "header": {
             "fill": {
              "color": "#C8D4E3"
             },
             "line": {
              "color": "white"
             }
            },
            "type": "table"
           }
          ]
         },
         "layout": {
          "annotationdefaults": {
           "arrowcolor": "#2a3f5f",
           "arrowhead": 0,
           "arrowwidth": 1
          },
          "autotypenumbers": "strict",
          "coloraxis": {
           "colorbar": {
            "outlinewidth": 0,
            "ticks": ""
           }
          },
          "colorscale": {
           "diverging": [
            [
             0,
             "#8e0152"
            ],
            [
             0.1,
             "#c51b7d"
            ],
            [
             0.2,
             "#de77ae"
            ],
            [
             0.3,
             "#f1b6da"
            ],
            [
             0.4,
             "#fde0ef"
            ],
            [
             0.5,
             "#f7f7f7"
            ],
            [
             0.6,
             "#e6f5d0"
            ],
            [
             0.7,
             "#b8e186"
            ],
            [
             0.8,
             "#7fbc41"
            ],
            [
             0.9,
             "#4d9221"
            ],
            [
             1,
             "#276419"
            ]
           ],
           "sequential": [
            [
             0,
             "#0d0887"
            ],
            [
             0.1111111111111111,
             "#46039f"
            ],
            [
             0.2222222222222222,
             "#7201a8"
            ],
            [
             0.3333333333333333,
             "#9c179e"
            ],
            [
             0.4444444444444444,
             "#bd3786"
            ],
            [
             0.5555555555555556,
             "#d8576b"
            ],
            [
             0.6666666666666666,
             "#ed7953"
            ],
            [
             0.7777777777777778,
             "#fb9f3a"
            ],
            [
             0.8888888888888888,
             "#fdca26"
            ],
            [
             1,
             "#f0f921"
            ]
           ],
           "sequentialminus": [
            [
             0,
             "#0d0887"
            ],
            [
             0.1111111111111111,
             "#46039f"
            ],
            [
             0.2222222222222222,
             "#7201a8"
            ],
            [
             0.3333333333333333,
             "#9c179e"
            ],
            [
             0.4444444444444444,
             "#bd3786"
            ],
            [
             0.5555555555555556,
             "#d8576b"
            ],
            [
             0.6666666666666666,
             "#ed7953"
            ],
            [
             0.7777777777777778,
             "#fb9f3a"
            ],
            [
             0.8888888888888888,
             "#fdca26"
            ],
            [
             1,
             "#f0f921"
            ]
           ]
          },
          "colorway": [
           "#636efa",
           "#EF553B",
           "#00cc96",
           "#ab63fa",
           "#FFA15A",
           "#19d3f3",
           "#FF6692",
           "#B6E880",
           "#FF97FF",
           "#FECB52"
          ],
          "font": {
           "color": "#2a3f5f"
          },
          "geo": {
           "bgcolor": "white",
           "lakecolor": "white",
           "landcolor": "#E5ECF6",
           "showlakes": true,
           "showland": true,
           "subunitcolor": "white"
          },
          "hoverlabel": {
           "align": "left"
          },
          "hovermode": "closest",
          "mapbox": {
           "style": "light"
          },
          "paper_bgcolor": "white",
          "plot_bgcolor": "#E5ECF6",
          "polar": {
           "angularaxis": {
            "gridcolor": "white",
            "linecolor": "white",
            "ticks": ""
           },
           "bgcolor": "#E5ECF6",
           "radialaxis": {
            "gridcolor": "white",
            "linecolor": "white",
            "ticks": ""
           }
          },
          "scene": {
           "xaxis": {
            "backgroundcolor": "#E5ECF6",
            "gridcolor": "white",
            "gridwidth": 2,
            "linecolor": "white",
            "showbackground": true,
            "ticks": "",
            "zerolinecolor": "white"
           },
           "yaxis": {
            "backgroundcolor": "#E5ECF6",
            "gridcolor": "white",
            "gridwidth": 2,
            "linecolor": "white",
            "showbackground": true,
            "ticks": "",
            "zerolinecolor": "white"
           },
           "zaxis": {
            "backgroundcolor": "#E5ECF6",
            "gridcolor": "white",
            "gridwidth": 2,
            "linecolor": "white",
            "showbackground": true,
            "ticks": "",
            "zerolinecolor": "white"
           }
          },
          "shapedefaults": {
           "line": {
            "color": "#2a3f5f"
           }
          },
          "ternary": {
           "aaxis": {
            "gridcolor": "white",
            "linecolor": "white",
            "ticks": ""
           },
           "baxis": {
            "gridcolor": "white",
            "linecolor": "white",
            "ticks": ""
           },
           "bgcolor": "#E5ECF6",
           "caxis": {
            "gridcolor": "white",
            "linecolor": "white",
            "ticks": ""
           }
          },
          "title": {
           "x": 0.05
          },
          "xaxis": {
           "automargin": true,
           "gridcolor": "white",
           "linecolor": "white",
           "ticks": "",
           "title": {
            "standoff": 15
           },
           "zerolinecolor": "white",
           "zerolinewidth": 2
          },
          "yaxis": {
           "automargin": true,
           "gridcolor": "white",
           "linecolor": "white",
           "ticks": "",
           "title": {
            "standoff": 15
           },
           "zerolinecolor": "white",
           "zerolinewidth": 2
          }
         }
        },
        "xaxis": {
         "anchor": "y",
         "constrain": "domain",
         "domain": [
          0,
          1
         ],
         "scaleanchor": "y",
         "title": {
          "text": "Outcomes"
         }
        },
        "yaxis": {
         "anchor": "x",
         "autorange": "reversed",
         "constrain": "domain",
         "domain": [
          0,
          1
         ],
         "title": {
          "text": "Policies"
         }
        }
       }
      },
      "text/html": [
       "<div>                            <div id=\"08fa5d66-e2fa-4b7b-9982-1a8325ad41ad\" class=\"plotly-graph-div\" style=\"height:525px; width:100%;\"></div>            <script type=\"text/javascript\">                require([\"plotly\"], function(Plotly) {                    window.PLOTLYENV=window.PLOTLYENV || {};                                    if (document.getElementById(\"08fa5d66-e2fa-4b7b-9982-1a8325ad41ad\")) {                    Plotly.newPlot(                        \"08fa5d66-e2fa-4b7b-9982-1a8325ad41ad\",                        [{\"coloraxis\":\"coloraxis\",\"name\":\"0\",\"x\":[\"A1_2 Aggr Expected Annual Damage\",\"A3 Expected Annual Damage\",\"A1_2 Aggr Expected Number of Deaths\",\"A3 Aggr Expected Number of Deaths\",\"A1_5 Dike Investment Costs\",\"Room for River Investment Costs\",\"Evacuation Costs\"],\"y\":[0,35],\"z\":[[1.0,0.296188294227624,1.0,0.47710484988903884,0.0,1.0,null],[0.17095374808063446,1.0,0.25671654790694787,1.0,1.0,0.0,null]],\"type\":\"heatmap\",\"xaxis\":\"x\",\"yaxis\":\"y\",\"hovertemplate\":\"Outcomes: %{x}\\u003cbr\\u003ePolicies: %{y}\\u003cbr\\u003eMaximum regret: %{z}\\u003cextra\\u003e\\u003c\\u002fextra\\u003e\"}],                        {\"template\":{\"data\":{\"histogram2dcontour\":[{\"type\":\"histogram2dcontour\",\"colorbar\":{\"outlinewidth\":0,\"ticks\":\"\"},\"colorscale\":[[0.0,\"#0d0887\"],[0.1111111111111111,\"#46039f\"],[0.2222222222222222,\"#7201a8\"],[0.3333333333333333,\"#9c179e\"],[0.4444444444444444,\"#bd3786\"],[0.5555555555555556,\"#d8576b\"],[0.6666666666666666,\"#ed7953\"],[0.7777777777777778,\"#fb9f3a\"],[0.8888888888888888,\"#fdca26\"],[1.0,\"#f0f921\"]]}],\"choropleth\":[{\"type\":\"choropleth\",\"colorbar\":{\"outlinewidth\":0,\"ticks\":\"\"}}],\"histogram2d\":[{\"type\":\"histogram2d\",\"colorbar\":{\"outlinewidth\":0,\"ticks\":\"\"},\"colorscale\":[[0.0,\"#0d0887\"],[0.1111111111111111,\"#46039f\"],[0.2222222222222222,\"#7201a8\"],[0.3333333333333333,\"#9c179e\"],[0.4444444444444444,\"#bd3786\"],[0.5555555555555556,\"#d8576b\"],[0.6666666666666666,\"#ed7953\"],[0.7777777777777778,\"#fb9f3a\"],[0.8888888888888888,\"#fdca26\"],[1.0,\"#f0f921\"]]}],\"heatmap\":[{\"type\":\"heatmap\",\"colorbar\":{\"outlinewidth\":0,\"ticks\":\"\"},\"colorscale\":[[0.0,\"#0d0887\"],[0.1111111111111111,\"#46039f\"],[0.2222222222222222,\"#7201a8\"],[0.3333333333333333,\"#9c179e\"],[0.4444444444444444,\"#bd3786\"],[0.5555555555555556,\"#d8576b\"],[0.6666666666666666,\"#ed7953\"],[0.7777777777777778,\"#fb9f3a\"],[0.8888888888888888,\"#fdca26\"],[1.0,\"#f0f921\"]]}],\"heatmapgl\":[{\"type\":\"heatmapgl\",\"colorbar\":{\"outlinewidth\":0,\"ticks\":\"\"},\"colorscale\":[[0.0,\"#0d0887\"],[0.1111111111111111,\"#46039f\"],[0.2222222222222222,\"#7201a8\"],[0.3333333333333333,\"#9c179e\"],[0.4444444444444444,\"#bd3786\"],[0.5555555555555556,\"#d8576b\"],[0.6666666666666666,\"#ed7953\"],[0.7777777777777778,\"#fb9f3a\"],[0.8888888888888888,\"#fdca26\"],[1.0,\"#f0f921\"]]}],\"contourcarpet\":[{\"type\":\"contourcarpet\",\"colorbar\":{\"outlinewidth\":0,\"ticks\":\"\"}}],\"contour\":[{\"type\":\"contour\",\"colorbar\":{\"outlinewidth\":0,\"ticks\":\"\"},\"colorscale\":[[0.0,\"#0d0887\"],[0.1111111111111111,\"#46039f\"],[0.2222222222222222,\"#7201a8\"],[0.3333333333333333,\"#9c179e\"],[0.4444444444444444,\"#bd3786\"],[0.5555555555555556,\"#d8576b\"],[0.6666666666666666,\"#ed7953\"],[0.7777777777777778,\"#fb9f3a\"],[0.8888888888888888,\"#fdca26\"],[1.0,\"#f0f921\"]]}],\"surface\":[{\"type\":\"surface\",\"colorbar\":{\"outlinewidth\":0,\"ticks\":\"\"},\"colorscale\":[[0.0,\"#0d0887\"],[0.1111111111111111,\"#46039f\"],[0.2222222222222222,\"#7201a8\"],[0.3333333333333333,\"#9c179e\"],[0.4444444444444444,\"#bd3786\"],[0.5555555555555556,\"#d8576b\"],[0.6666666666666666,\"#ed7953\"],[0.7777777777777778,\"#fb9f3a\"],[0.8888888888888888,\"#fdca26\"],[1.0,\"#f0f921\"]]}],\"mesh3d\":[{\"type\":\"mesh3d\",\"colorbar\":{\"outlinewidth\":0,\"ticks\":\"\"}}],\"scatter\":[{\"fillpattern\":{\"fillmode\":\"overlay\",\"size\":10,\"solidity\":0.2},\"type\":\"scatter\"}],\"parcoords\":[{\"type\":\"parcoords\",\"line\":{\"colorbar\":{\"outlinewidth\":0,\"ticks\":\"\"}}}],\"scatterpolargl\":[{\"type\":\"scatterpolargl\",\"marker\":{\"colorbar\":{\"outlinewidth\":0,\"ticks\":\"\"}}}],\"bar\":[{\"error_x\":{\"color\":\"#2a3f5f\"},\"error_y\":{\"color\":\"#2a3f5f\"},\"marker\":{\"line\":{\"color\":\"#E5ECF6\",\"width\":0.5},\"pattern\":{\"fillmode\":\"overlay\",\"size\":10,\"solidity\":0.2}},\"type\":\"bar\"}],\"scattergeo\":[{\"type\":\"scattergeo\",\"marker\":{\"colorbar\":{\"outlinewidth\":0,\"ticks\":\"\"}}}],\"scatterpolar\":[{\"type\":\"scatterpolar\",\"marker\":{\"colorbar\":{\"outlinewidth\":0,\"ticks\":\"\"}}}],\"histogram\":[{\"marker\":{\"pattern\":{\"fillmode\":\"overlay\",\"size\":10,\"solidity\":0.2}},\"type\":\"histogram\"}],\"scattergl\":[{\"type\":\"scattergl\",\"marker\":{\"colorbar\":{\"outlinewidth\":0,\"ticks\":\"\"}}}],\"scatter3d\":[{\"type\":\"scatter3d\",\"line\":{\"colorbar\":{\"outlinewidth\":0,\"ticks\":\"\"}},\"marker\":{\"colorbar\":{\"outlinewidth\":0,\"ticks\":\"\"}}}],\"scattermapbox\":[{\"type\":\"scattermapbox\",\"marker\":{\"colorbar\":{\"outlinewidth\":0,\"ticks\":\"\"}}}],\"scatterternary\":[{\"type\":\"scatterternary\",\"marker\":{\"colorbar\":{\"outlinewidth\":0,\"ticks\":\"\"}}}],\"scattercarpet\":[{\"type\":\"scattercarpet\",\"marker\":{\"colorbar\":{\"outlinewidth\":0,\"ticks\":\"\"}}}],\"carpet\":[{\"aaxis\":{\"endlinecolor\":\"#2a3f5f\",\"gridcolor\":\"white\",\"linecolor\":\"white\",\"minorgridcolor\":\"white\",\"startlinecolor\":\"#2a3f5f\"},\"baxis\":{\"endlinecolor\":\"#2a3f5f\",\"gridcolor\":\"white\",\"linecolor\":\"white\",\"minorgridcolor\":\"white\",\"startlinecolor\":\"#2a3f5f\"},\"type\":\"carpet\"}],\"table\":[{\"cells\":{\"fill\":{\"color\":\"#EBF0F8\"},\"line\":{\"color\":\"white\"}},\"header\":{\"fill\":{\"color\":\"#C8D4E3\"},\"line\":{\"color\":\"white\"}},\"type\":\"table\"}],\"barpolar\":[{\"marker\":{\"line\":{\"color\":\"#E5ECF6\",\"width\":0.5},\"pattern\":{\"fillmode\":\"overlay\",\"size\":10,\"solidity\":0.2}},\"type\":\"barpolar\"}],\"pie\":[{\"automargin\":true,\"type\":\"pie\"}]},\"layout\":{\"autotypenumbers\":\"strict\",\"colorway\":[\"#636efa\",\"#EF553B\",\"#00cc96\",\"#ab63fa\",\"#FFA15A\",\"#19d3f3\",\"#FF6692\",\"#B6E880\",\"#FF97FF\",\"#FECB52\"],\"font\":{\"color\":\"#2a3f5f\"},\"hovermode\":\"closest\",\"hoverlabel\":{\"align\":\"left\"},\"paper_bgcolor\":\"white\",\"plot_bgcolor\":\"#E5ECF6\",\"polar\":{\"bgcolor\":\"#E5ECF6\",\"angularaxis\":{\"gridcolor\":\"white\",\"linecolor\":\"white\",\"ticks\":\"\"},\"radialaxis\":{\"gridcolor\":\"white\",\"linecolor\":\"white\",\"ticks\":\"\"}},\"ternary\":{\"bgcolor\":\"#E5ECF6\",\"aaxis\":{\"gridcolor\":\"white\",\"linecolor\":\"white\",\"ticks\":\"\"},\"baxis\":{\"gridcolor\":\"white\",\"linecolor\":\"white\",\"ticks\":\"\"},\"caxis\":{\"gridcolor\":\"white\",\"linecolor\":\"white\",\"ticks\":\"\"}},\"coloraxis\":{\"colorbar\":{\"outlinewidth\":0,\"ticks\":\"\"}},\"colorscale\":{\"sequential\":[[0.0,\"#0d0887\"],[0.1111111111111111,\"#46039f\"],[0.2222222222222222,\"#7201a8\"],[0.3333333333333333,\"#9c179e\"],[0.4444444444444444,\"#bd3786\"],[0.5555555555555556,\"#d8576b\"],[0.6666666666666666,\"#ed7953\"],[0.7777777777777778,\"#fb9f3a\"],[0.8888888888888888,\"#fdca26\"],[1.0,\"#f0f921\"]],\"sequentialminus\":[[0.0,\"#0d0887\"],[0.1111111111111111,\"#46039f\"],[0.2222222222222222,\"#7201a8\"],[0.3333333333333333,\"#9c179e\"],[0.4444444444444444,\"#bd3786\"],[0.5555555555555556,\"#d8576b\"],[0.6666666666666666,\"#ed7953\"],[0.7777777777777778,\"#fb9f3a\"],[0.8888888888888888,\"#fdca26\"],[1.0,\"#f0f921\"]],\"diverging\":[[0,\"#8e0152\"],[0.1,\"#c51b7d\"],[0.2,\"#de77ae\"],[0.3,\"#f1b6da\"],[0.4,\"#fde0ef\"],[0.5,\"#f7f7f7\"],[0.6,\"#e6f5d0\"],[0.7,\"#b8e186\"],[0.8,\"#7fbc41\"],[0.9,\"#4d9221\"],[1,\"#276419\"]]},\"xaxis\":{\"gridcolor\":\"white\",\"linecolor\":\"white\",\"ticks\":\"\",\"title\":{\"standoff\":15},\"zerolinecolor\":\"white\",\"automargin\":true,\"zerolinewidth\":2},\"yaxis\":{\"gridcolor\":\"white\",\"linecolor\":\"white\",\"ticks\":\"\",\"title\":{\"standoff\":15},\"zerolinecolor\":\"white\",\"automargin\":true,\"zerolinewidth\":2},\"scene\":{\"xaxis\":{\"backgroundcolor\":\"#E5ECF6\",\"gridcolor\":\"white\",\"linecolor\":\"white\",\"showbackground\":true,\"ticks\":\"\",\"zerolinecolor\":\"white\",\"gridwidth\":2},\"yaxis\":{\"backgroundcolor\":\"#E5ECF6\",\"gridcolor\":\"white\",\"linecolor\":\"white\",\"showbackground\":true,\"ticks\":\"\",\"zerolinecolor\":\"white\",\"gridwidth\":2},\"zaxis\":{\"backgroundcolor\":\"#E5ECF6\",\"gridcolor\":\"white\",\"linecolor\":\"white\",\"showbackground\":true,\"ticks\":\"\",\"zerolinecolor\":\"white\",\"gridwidth\":2}},\"shapedefaults\":{\"line\":{\"color\":\"#2a3f5f\"}},\"annotationdefaults\":{\"arrowcolor\":\"#2a3f5f\",\"arrowhead\":0,\"arrowwidth\":1},\"geo\":{\"bgcolor\":\"white\",\"landcolor\":\"#E5ECF6\",\"subunitcolor\":\"white\",\"showland\":true,\"showlakes\":true,\"lakecolor\":\"white\"},\"title\":{\"x\":0.05},\"mapbox\":{\"style\":\"light\"}}},\"xaxis\":{\"anchor\":\"y\",\"domain\":[0.0,1.0],\"scaleanchor\":\"y\",\"constrain\":\"domain\",\"title\":{\"text\":\"Outcomes\"}},\"yaxis\":{\"anchor\":\"x\",\"domain\":[0.0,1.0],\"autorange\":\"reversed\",\"constrain\":\"domain\",\"title\":{\"text\":\"Policies\"}},\"coloraxis\":{\"colorbar\":{\"title\":{\"text\":\"Maximum regret\"}},\"colorscale\":[[0.0,\"#0d0887\"],[0.1111111111111111,\"#46039f\"],[0.2222222222222222,\"#7201a8\"],[0.3333333333333333,\"#9c179e\"],[0.4444444444444444,\"#bd3786\"],[0.5555555555555556,\"#d8576b\"],[0.6666666666666666,\"#ed7953\"],[0.7777777777777778,\"#fb9f3a\"],[0.8888888888888888,\"#fdca26\"],[1.0,\"#f0f921\"]]},\"margin\":{\"t\":60}},                        {\"responsive\": true}                    ).then(function(){\n",
       "                            \n",
       "var gd = document.getElementById('08fa5d66-e2fa-4b7b-9982-1a8325ad41ad');\n",
       "var x = new MutationObserver(function (mutations, observer) {{\n",
       "        var display = window.getComputedStyle(gd).display;\n",
       "        if (!display || display === 'none') {{\n",
       "            console.log([gd, 'removed!']);\n",
       "            Plotly.purge(gd);\n",
       "            observer.disconnect();\n",
       "        }}\n",
       "}});\n",
       "\n",
       "// Listen for the removal of the full notebook cells\n",
       "var notebookContainer = gd.closest('#notebook-container');\n",
       "if (notebookContainer) {{\n",
       "    x.observe(notebookContainer, {childList: true});\n",
       "}}\n",
       "\n",
       "// Listen for the clearing of the current output cell\n",
       "var outputEl = gd.closest('.output');\n",
       "if (outputEl) {{\n",
       "    x.observe(outputEl, {childList: true});\n",
       "}}\n",
       "\n",
       "                        })                };                });            </script>        </div>"
      ]
     },
     "metadata": {},
     "output_type": "display_data"
    }
   ],
   "source": [
    "fig = px.imshow(max_regret/max_regret.max(), labels=dict(x=\"Outcomes\", y = \"Policies\", color = \"Maximum regret\"))\n",
    "fig.show()"
   ]
  },
  {
   "cell_type": "markdown",
   "metadata": {},
   "source": [
    "Although not numbered, it can clearly be seen that policy 7, for example, shows little regret for outcomes 2, 4 and 6. Therefore this policy might be a robust solution when only considering the initial reference case scenario based on the worst deaths. However, we continue looking for more robust solutions across multiple reference scenarios using the PRIM algorithm. "
   ]
  },
  {
   "cell_type": "markdown",
   "metadata": {},
   "source": [
    "## Scenario Discovery\n",
    "We perform Scenario Discovery using the PRIM-algorithm to discover such scenarios in which the robust policies fail. For Gelderland, we focus on such scenarios where deaths and damages occur, and where the total costs are above 4 Billion €. "
   ]
  },
  {
   "cell_type": "code",
   "execution_count": 173,
   "metadata": {},
   "outputs": [],
   "source": [
    "\n",
    "condition= {}\n",
    "\n",
    "\n",
    "condition[\"condition1\"] = outcomes[\"A1_2 Aggr Expected Annual Damage\"] + outcomes[\"A3 Expected Annual Damage\"] + outcomes[\"A1_2 Aggr Expected Number of Deaths\"] + outcomes[\"A3 Aggr Expected Number of Deaths\"]\n",
    "\n",
    "condition[\"condition2\"] = outcomes[\"A1_5 Dike Investment Costs\"] + outcomes[\"Evacuation Costs\"] + outcomes[\"Room for River Investment Costs\"]\n",
    "\n",
    "condition1 = condition[\"condition1\"] > 0 \n",
    "\n",
    "condition2 = condition[\"condition2\"] > 4e9"
   ]
  },
  {
   "cell_type": "code",
   "execution_count": 174,
   "metadata": {},
   "outputs": [
    {
     "name": "stdout",
     "output_type": "stream",
     "text": [
      "20000\n"
     ]
    },
    {
     "data": {
      "text/html": [
       "<div>\n",
       "<style scoped>\n",
       "    .dataframe tbody tr th:only-of-type {\n",
       "        vertical-align: middle;\n",
       "    }\n",
       "\n",
       "    .dataframe tbody tr th {\n",
       "        vertical-align: top;\n",
       "    }\n",
       "\n",
       "    .dataframe thead th {\n",
       "        text-align: right;\n",
       "    }\n",
       "</style>\n",
       "<table border=\"1\" class=\"dataframe\">\n",
       "  <thead>\n",
       "    <tr style=\"text-align: right;\">\n",
       "      <th></th>\n",
       "      <th>A.0_ID flood wave shape</th>\n",
       "      <th>A.1_Bmax</th>\n",
       "      <th>A.1_Brate</th>\n",
       "      <th>A.1_pfail</th>\n",
       "      <th>A.2_Bmax</th>\n",
       "      <th>A.2_Brate</th>\n",
       "      <th>A.2_pfail</th>\n",
       "      <th>A.3_Bmax</th>\n",
       "      <th>A.3_Brate</th>\n",
       "      <th>A.3_pfail</th>\n",
       "      <th>...</th>\n",
       "      <th>4_RfR 0</th>\n",
       "      <th>EWS_DaysToThreat</th>\n",
       "      <th>A.1_DikeIncrease 0</th>\n",
       "      <th>A.2_DikeIncrease 0</th>\n",
       "      <th>A.3_DikeIncrease 0</th>\n",
       "      <th>A.4_DikeIncrease 0</th>\n",
       "      <th>A.5_DikeIncrease 0</th>\n",
       "      <th>scenario</th>\n",
       "      <th>policy</th>\n",
       "      <th>model</th>\n",
       "    </tr>\n",
       "  </thead>\n",
       "  <tbody>\n",
       "    <tr>\n",
       "      <th>0</th>\n",
       "      <td>20</td>\n",
       "      <td>289.399676</td>\n",
       "      <td>1.5</td>\n",
       "      <td>0.036728</td>\n",
       "      <td>31.397705</td>\n",
       "      <td>10.0</td>\n",
       "      <td>0.327683</td>\n",
       "      <td>68.183137</td>\n",
       "      <td>1.5</td>\n",
       "      <td>0.543086</td>\n",
       "      <td>...</td>\n",
       "      <td>0</td>\n",
       "      <td>0</td>\n",
       "      <td>6</td>\n",
       "      <td>0</td>\n",
       "      <td>3</td>\n",
       "      <td>5</td>\n",
       "      <td>1</td>\n",
       "      <td>0</td>\n",
       "      <td>0</td>\n",
       "      <td>dikesnet</td>\n",
       "    </tr>\n",
       "    <tr>\n",
       "      <th>1</th>\n",
       "      <td>6</td>\n",
       "      <td>318.399972</td>\n",
       "      <td>1.0</td>\n",
       "      <td>0.973925</td>\n",
       "      <td>161.274004</td>\n",
       "      <td>10.0</td>\n",
       "      <td>0.400778</td>\n",
       "      <td>276.275262</td>\n",
       "      <td>1.5</td>\n",
       "      <td>0.700947</td>\n",
       "      <td>...</td>\n",
       "      <td>0</td>\n",
       "      <td>0</td>\n",
       "      <td>6</td>\n",
       "      <td>0</td>\n",
       "      <td>3</td>\n",
       "      <td>5</td>\n",
       "      <td>1</td>\n",
       "      <td>1</td>\n",
       "      <td>0</td>\n",
       "      <td>dikesnet</td>\n",
       "    </tr>\n",
       "    <tr>\n",
       "      <th>2</th>\n",
       "      <td>116</td>\n",
       "      <td>80.054599</td>\n",
       "      <td>10.0</td>\n",
       "      <td>0.014983</td>\n",
       "      <td>122.782381</td>\n",
       "      <td>1.5</td>\n",
       "      <td>0.623160</td>\n",
       "      <td>183.285770</td>\n",
       "      <td>1.0</td>\n",
       "      <td>0.979794</td>\n",
       "      <td>...</td>\n",
       "      <td>0</td>\n",
       "      <td>0</td>\n",
       "      <td>6</td>\n",
       "      <td>0</td>\n",
       "      <td>3</td>\n",
       "      <td>5</td>\n",
       "      <td>1</td>\n",
       "      <td>2</td>\n",
       "      <td>0</td>\n",
       "      <td>dikesnet</td>\n",
       "    </tr>\n",
       "    <tr>\n",
       "      <th>3</th>\n",
       "      <td>41</td>\n",
       "      <td>118.604323</td>\n",
       "      <td>10.0</td>\n",
       "      <td>0.823911</td>\n",
       "      <td>71.861972</td>\n",
       "      <td>1.0</td>\n",
       "      <td>0.736468</td>\n",
       "      <td>140.150355</td>\n",
       "      <td>10.0</td>\n",
       "      <td>0.684820</td>\n",
       "      <td>...</td>\n",
       "      <td>0</td>\n",
       "      <td>0</td>\n",
       "      <td>6</td>\n",
       "      <td>0</td>\n",
       "      <td>3</td>\n",
       "      <td>5</td>\n",
       "      <td>1</td>\n",
       "      <td>3</td>\n",
       "      <td>0</td>\n",
       "      <td>dikesnet</td>\n",
       "    </tr>\n",
       "    <tr>\n",
       "      <th>4</th>\n",
       "      <td>127</td>\n",
       "      <td>53.541862</td>\n",
       "      <td>1.5</td>\n",
       "      <td>0.573363</td>\n",
       "      <td>257.302124</td>\n",
       "      <td>10.0</td>\n",
       "      <td>0.633229</td>\n",
       "      <td>278.901756</td>\n",
       "      <td>10.0</td>\n",
       "      <td>0.369994</td>\n",
       "      <td>...</td>\n",
       "      <td>0</td>\n",
       "      <td>0</td>\n",
       "      <td>6</td>\n",
       "      <td>0</td>\n",
       "      <td>3</td>\n",
       "      <td>5</td>\n",
       "      <td>1</td>\n",
       "      <td>4</td>\n",
       "      <td>0</td>\n",
       "      <td>dikesnet</td>\n",
       "    </tr>\n",
       "    <tr>\n",
       "      <th>...</th>\n",
       "      <td>...</td>\n",
       "      <td>...</td>\n",
       "      <td>...</td>\n",
       "      <td>...</td>\n",
       "      <td>...</td>\n",
       "      <td>...</td>\n",
       "      <td>...</td>\n",
       "      <td>...</td>\n",
       "      <td>...</td>\n",
       "      <td>...</td>\n",
       "      <td>...</td>\n",
       "      <td>...</td>\n",
       "      <td>...</td>\n",
       "      <td>...</td>\n",
       "      <td>...</td>\n",
       "      <td>...</td>\n",
       "      <td>...</td>\n",
       "      <td>...</td>\n",
       "      <td>...</td>\n",
       "      <td>...</td>\n",
       "      <td>...</td>\n",
       "    </tr>\n",
       "    <tr>\n",
       "      <th>19995</th>\n",
       "      <td>90</td>\n",
       "      <td>141.339517</td>\n",
       "      <td>1.0</td>\n",
       "      <td>0.690489</td>\n",
       "      <td>341.762757</td>\n",
       "      <td>1.5</td>\n",
       "      <td>0.512119</td>\n",
       "      <td>157.676027</td>\n",
       "      <td>1.5</td>\n",
       "      <td>0.075218</td>\n",
       "      <td>...</td>\n",
       "      <td>0</td>\n",
       "      <td>0</td>\n",
       "      <td>0</td>\n",
       "      <td>0</td>\n",
       "      <td>2</td>\n",
       "      <td>8</td>\n",
       "      <td>2</td>\n",
       "      <td>9995</td>\n",
       "      <td>35</td>\n",
       "      <td>dikesnet</td>\n",
       "    </tr>\n",
       "    <tr>\n",
       "      <th>19996</th>\n",
       "      <td>63</td>\n",
       "      <td>254.007476</td>\n",
       "      <td>1.5</td>\n",
       "      <td>0.586265</td>\n",
       "      <td>303.755827</td>\n",
       "      <td>1.0</td>\n",
       "      <td>0.577989</td>\n",
       "      <td>77.560077</td>\n",
       "      <td>1.5</td>\n",
       "      <td>0.520859</td>\n",
       "      <td>...</td>\n",
       "      <td>0</td>\n",
       "      <td>0</td>\n",
       "      <td>0</td>\n",
       "      <td>0</td>\n",
       "      <td>2</td>\n",
       "      <td>8</td>\n",
       "      <td>2</td>\n",
       "      <td>9996</td>\n",
       "      <td>35</td>\n",
       "      <td>dikesnet</td>\n",
       "    </tr>\n",
       "    <tr>\n",
       "      <th>19997</th>\n",
       "      <td>127</td>\n",
       "      <td>143.157316</td>\n",
       "      <td>1.5</td>\n",
       "      <td>0.835723</td>\n",
       "      <td>113.670928</td>\n",
       "      <td>1.0</td>\n",
       "      <td>0.325137</td>\n",
       "      <td>111.722728</td>\n",
       "      <td>1.5</td>\n",
       "      <td>0.494793</td>\n",
       "      <td>...</td>\n",
       "      <td>0</td>\n",
       "      <td>0</td>\n",
       "      <td>0</td>\n",
       "      <td>0</td>\n",
       "      <td>2</td>\n",
       "      <td>8</td>\n",
       "      <td>2</td>\n",
       "      <td>9997</td>\n",
       "      <td>35</td>\n",
       "      <td>dikesnet</td>\n",
       "    </tr>\n",
       "    <tr>\n",
       "      <th>19998</th>\n",
       "      <td>98</td>\n",
       "      <td>92.150047</td>\n",
       "      <td>10.0</td>\n",
       "      <td>0.693801</td>\n",
       "      <td>196.390912</td>\n",
       "      <td>1.0</td>\n",
       "      <td>0.307951</td>\n",
       "      <td>104.347980</td>\n",
       "      <td>1.5</td>\n",
       "      <td>0.604501</td>\n",
       "      <td>...</td>\n",
       "      <td>0</td>\n",
       "      <td>0</td>\n",
       "      <td>0</td>\n",
       "      <td>0</td>\n",
       "      <td>2</td>\n",
       "      <td>8</td>\n",
       "      <td>2</td>\n",
       "      <td>9998</td>\n",
       "      <td>35</td>\n",
       "      <td>dikesnet</td>\n",
       "    </tr>\n",
       "    <tr>\n",
       "      <th>19999</th>\n",
       "      <td>88</td>\n",
       "      <td>207.517433</td>\n",
       "      <td>1.0</td>\n",
       "      <td>0.559204</td>\n",
       "      <td>116.646397</td>\n",
       "      <td>10.0</td>\n",
       "      <td>0.102736</td>\n",
       "      <td>275.323134</td>\n",
       "      <td>1.0</td>\n",
       "      <td>0.739238</td>\n",
       "      <td>...</td>\n",
       "      <td>0</td>\n",
       "      <td>0</td>\n",
       "      <td>0</td>\n",
       "      <td>0</td>\n",
       "      <td>2</td>\n",
       "      <td>8</td>\n",
       "      <td>2</td>\n",
       "      <td>9999</td>\n",
       "      <td>35</td>\n",
       "      <td>dikesnet</td>\n",
       "    </tr>\n",
       "  </tbody>\n",
       "</table>\n",
       "<p>20000 rows × 31 columns</p>\n",
       "</div>"
      ],
      "text/plain": [
       "       A.0_ID flood wave shape    A.1_Bmax  A.1_Brate  A.1_pfail    A.2_Bmax  \\\n",
       "0                           20  289.399676        1.5   0.036728   31.397705   \n",
       "1                            6  318.399972        1.0   0.973925  161.274004   \n",
       "2                          116   80.054599       10.0   0.014983  122.782381   \n",
       "3                           41  118.604323       10.0   0.823911   71.861972   \n",
       "4                          127   53.541862        1.5   0.573363  257.302124   \n",
       "...                        ...         ...        ...        ...         ...   \n",
       "19995                       90  141.339517        1.0   0.690489  341.762757   \n",
       "19996                       63  254.007476        1.5   0.586265  303.755827   \n",
       "19997                      127  143.157316        1.5   0.835723  113.670928   \n",
       "19998                       98   92.150047       10.0   0.693801  196.390912   \n",
       "19999                       88  207.517433        1.0   0.559204  116.646397   \n",
       "\n",
       "       A.2_Brate  A.2_pfail    A.3_Bmax  A.3_Brate  A.3_pfail  ...  4_RfR 0  \\\n",
       "0           10.0   0.327683   68.183137        1.5   0.543086  ...        0   \n",
       "1           10.0   0.400778  276.275262        1.5   0.700947  ...        0   \n",
       "2            1.5   0.623160  183.285770        1.0   0.979794  ...        0   \n",
       "3            1.0   0.736468  140.150355       10.0   0.684820  ...        0   \n",
       "4           10.0   0.633229  278.901756       10.0   0.369994  ...        0   \n",
       "...          ...        ...         ...        ...        ...  ...      ...   \n",
       "19995        1.5   0.512119  157.676027        1.5   0.075218  ...        0   \n",
       "19996        1.0   0.577989   77.560077        1.5   0.520859  ...        0   \n",
       "19997        1.0   0.325137  111.722728        1.5   0.494793  ...        0   \n",
       "19998        1.0   0.307951  104.347980        1.5   0.604501  ...        0   \n",
       "19999       10.0   0.102736  275.323134        1.0   0.739238  ...        0   \n",
       "\n",
       "       EWS_DaysToThreat  A.1_DikeIncrease 0  A.2_DikeIncrease 0  \\\n",
       "0                     0                   6                   0   \n",
       "1                     0                   6                   0   \n",
       "2                     0                   6                   0   \n",
       "3                     0                   6                   0   \n",
       "4                     0                   6                   0   \n",
       "...                 ...                 ...                 ...   \n",
       "19995                 0                   0                   0   \n",
       "19996                 0                   0                   0   \n",
       "19997                 0                   0                   0   \n",
       "19998                 0                   0                   0   \n",
       "19999                 0                   0                   0   \n",
       "\n",
       "       A.3_DikeIncrease 0  A.4_DikeIncrease 0  A.5_DikeIncrease 0  scenario  \\\n",
       "0                       3                   5                   1         0   \n",
       "1                       3                   5                   1         1   \n",
       "2                       3                   5                   1         2   \n",
       "3                       3                   5                   1         3   \n",
       "4                       3                   5                   1         4   \n",
       "...                   ...                 ...                 ...       ...   \n",
       "19995                   2                   8                   2      9995   \n",
       "19996                   2                   8                   2      9996   \n",
       "19997                   2                   8                   2      9997   \n",
       "19998                   2                   8                   2      9998   \n",
       "19999                   2                   8                   2      9999   \n",
       "\n",
       "       policy     model  \n",
       "0           0  dikesnet  \n",
       "1           0  dikesnet  \n",
       "2           0  dikesnet  \n",
       "3           0  dikesnet  \n",
       "4           0  dikesnet  \n",
       "...       ...       ...  \n",
       "19995      35  dikesnet  \n",
       "19996      35  dikesnet  \n",
       "19997      35  dikesnet  \n",
       "19998      35  dikesnet  \n",
       "19999      35  dikesnet  \n",
       "\n",
       "[20000 rows x 31 columns]"
      ]
     },
     "execution_count": 174,
     "metadata": {},
     "output_type": "execute_result"
    }
   ],
   "source": [
    "print(len(condition['condition2']))\n",
    "experiments\n"
   ]
  },
  {
   "cell_type": "code",
   "execution_count": 177,
   "metadata": {
    "tags": []
   },
   "outputs": [
    {
     "name": "stderr",
     "output_type": "stream",
     "text": [
      "[MainProcess/INFO] 20000 points remaining, containing 19993 cases of interest\n",
      "[MainProcess/INFO] mean: 1.0, mass: 0.95, coverage: 0.9503326164157455, density: 1.0 restricted_dimensions: 1\n"
     ]
    }
   ],
   "source": [
    "x = experiments.iloc[:,0:19]\n",
    "y = (condition1 | condition2)\n",
    "prim_alg = prim.Prim(x,y, threshold=0.5)\n",
    "box = prim_alg.find_box()"
   ]
  },
  {
   "cell_type": "code",
   "execution_count": 176,
   "metadata": {},
   "outputs": [
    {
     "ename": "AttributeError",
     "evalue": "'NoneType' object has no attribute 'selection_single'",
     "output_type": "error",
     "traceback": [
      "\u001b[1;31m---------------------------------------------------------------------------\u001b[0m",
      "\u001b[1;31mAttributeError\u001b[0m                            Traceback (most recent call last)",
      "Cell \u001b[1;32mIn[176], line 1\u001b[0m\n\u001b[1;32m----> 1\u001b[0m \u001b[43mbox\u001b[49m\u001b[38;5;241;43m.\u001b[39;49m\u001b[43minspect_tradeoff\u001b[49m\u001b[43m(\u001b[49m\u001b[43m)\u001b[49m\n",
      "File \u001b[1;32m~\\AppData\\Local\\Programs\\Python\\Python311\\Lib\\site-packages\\ema_workbench\\analysis\\prim.py:563\u001b[0m, in \u001b[0;36mPrimBox.inspect_tradeoff\u001b[1;34m(self)\u001b[0m\n\u001b[0;32m    560\u001b[0m width \u001b[38;5;241m=\u001b[39m \u001b[38;5;241m400\u001b[39m\n\u001b[0;32m    561\u001b[0m height \u001b[38;5;241m=\u001b[39m width\n\u001b[1;32m--> 563\u001b[0m point_selector \u001b[38;5;241m=\u001b[39m \u001b[43malt\u001b[49m\u001b[38;5;241;43m.\u001b[39;49m\u001b[43mselection_single\u001b[49m(fields\u001b[38;5;241m=\u001b[39m[\u001b[38;5;124m\"\u001b[39m\u001b[38;5;124mid\u001b[39m\u001b[38;5;124m\"\u001b[39m])\n\u001b[0;32m    565\u001b[0m peeling \u001b[38;5;241m=\u001b[39m \u001b[38;5;28mself\u001b[39m\u001b[38;5;241m.\u001b[39mpeeling_trajectory\u001b[38;5;241m.\u001b[39mcopy()\n\u001b[0;32m    566\u001b[0m peeling[\u001b[38;5;124m\"\u001b[39m\u001b[38;5;124mid\u001b[39m\u001b[38;5;124m\"\u001b[39m] \u001b[38;5;241m=\u001b[39m peeling\u001b[38;5;241m.\u001b[39mindex\n",
      "\u001b[1;31mAttributeError\u001b[0m: 'NoneType' object has no attribute 'selection_single'"
     ]
    }
   ],
   "source": [
    "\n",
    "box.inspect_tradeoff()\n"
   ]
  },
  {
   "cell_type": "markdown",
   "metadata": {},
   "source": [
    "We select box 10, as it shows a good mixture between coverage and density. "
   ]
  },
  {
   "cell_type": "code",
   "execution_count": 62,
   "metadata": {
    "tags": []
   },
   "outputs": [
    {
     "ename": "IndexError",
     "evalue": "single positional indexer is out-of-bounds",
     "output_type": "error",
     "traceback": [
      "\u001b[1;31m---------------------------------------------------------------------------\u001b[0m",
      "\u001b[1;31mIndexError\u001b[0m                                Traceback (most recent call last)",
      "Cell \u001b[1;32mIn[62], line 2\u001b[0m\n\u001b[0;32m      1\u001b[0m n_box \u001b[38;5;241m=\u001b[39m \u001b[38;5;241m10\u001b[39m\n\u001b[1;32m----> 2\u001b[0m \u001b[43mbox\u001b[49m\u001b[38;5;241;43m.\u001b[39;49m\u001b[43minspect\u001b[49m\u001b[43m(\u001b[49m\u001b[43mn_box\u001b[49m\u001b[43m)\u001b[49m\n",
      "File \u001b[1;32m~\\AppData\\Local\\Programs\\Python\\Python311\\Lib\\site-packages\\ema_workbench\\analysis\\prim.py:420\u001b[0m, in \u001b[0;36mPrimBox.inspect\u001b[1;34m(self, i, style, **kwargs)\u001b[0m\n\u001b[0;32m    417\u001b[0m \u001b[38;5;28;01mif\u001b[39;00m \u001b[38;5;129;01mnot\u001b[39;00m \u001b[38;5;28mall\u001b[39m(\u001b[38;5;28misinstance\u001b[39m(x, \u001b[38;5;28mint\u001b[39m) \u001b[38;5;28;01mfor\u001b[39;00m x \u001b[38;5;129;01min\u001b[39;00m i):\n\u001b[0;32m    418\u001b[0m     \u001b[38;5;28;01mraise\u001b[39;00m \u001b[38;5;167;01mTypeError\u001b[39;00m(\u001b[38;5;124m\"\u001b[39m\u001b[38;5;124mi must be an integer or list of integers\u001b[39m\u001b[38;5;124m\"\u001b[39m)\n\u001b[1;32m--> 420\u001b[0m \u001b[38;5;28;01mreturn\u001b[39;00m \u001b[43m[\u001b[49m\u001b[38;5;28;43mself\u001b[39;49m\u001b[38;5;241;43m.\u001b[39;49m\u001b[43m_inspect\u001b[49m\u001b[43m(\u001b[49m\u001b[43mentry\u001b[49m\u001b[43m,\u001b[49m\u001b[43m \u001b[49m\u001b[43mstyle\u001b[49m\u001b[38;5;241;43m=\u001b[39;49m\u001b[43mstyle\u001b[49m\u001b[43m,\u001b[49m\u001b[43m \u001b[49m\u001b[38;5;241;43m*\u001b[39;49m\u001b[38;5;241;43m*\u001b[39;49m\u001b[43mkwargs\u001b[49m\u001b[43m)\u001b[49m\u001b[43m \u001b[49m\u001b[38;5;28;43;01mfor\u001b[39;49;00m\u001b[43m \u001b[49m\u001b[43mentry\u001b[49m\u001b[43m \u001b[49m\u001b[38;5;129;43;01min\u001b[39;49;00m\u001b[43m \u001b[49m\u001b[43mi\u001b[49m\u001b[43m]\u001b[49m\n",
      "File \u001b[1;32m~\\AppData\\Local\\Programs\\Python\\Python311\\Lib\\site-packages\\ema_workbench\\analysis\\prim.py:420\u001b[0m, in \u001b[0;36m<listcomp>\u001b[1;34m(.0)\u001b[0m\n\u001b[0;32m    417\u001b[0m \u001b[38;5;28;01mif\u001b[39;00m \u001b[38;5;129;01mnot\u001b[39;00m \u001b[38;5;28mall\u001b[39m(\u001b[38;5;28misinstance\u001b[39m(x, \u001b[38;5;28mint\u001b[39m) \u001b[38;5;28;01mfor\u001b[39;00m x \u001b[38;5;129;01min\u001b[39;00m i):\n\u001b[0;32m    418\u001b[0m     \u001b[38;5;28;01mraise\u001b[39;00m \u001b[38;5;167;01mTypeError\u001b[39;00m(\u001b[38;5;124m\"\u001b[39m\u001b[38;5;124mi must be an integer or list of integers\u001b[39m\u001b[38;5;124m\"\u001b[39m)\n\u001b[1;32m--> 420\u001b[0m \u001b[38;5;28;01mreturn\u001b[39;00m [\u001b[38;5;28;43mself\u001b[39;49m\u001b[38;5;241;43m.\u001b[39;49m\u001b[43m_inspect\u001b[49m\u001b[43m(\u001b[49m\u001b[43mentry\u001b[49m\u001b[43m,\u001b[49m\u001b[43m \u001b[49m\u001b[43mstyle\u001b[49m\u001b[38;5;241;43m=\u001b[39;49m\u001b[43mstyle\u001b[49m\u001b[43m,\u001b[49m\u001b[43m \u001b[49m\u001b[38;5;241;43m*\u001b[39;49m\u001b[38;5;241;43m*\u001b[39;49m\u001b[43mkwargs\u001b[49m\u001b[43m)\u001b[49m \u001b[38;5;28;01mfor\u001b[39;00m entry \u001b[38;5;129;01min\u001b[39;00m i]\n",
      "File \u001b[1;32m~\\AppData\\Local\\Programs\\Python\\Python311\\Lib\\site-packages\\ema_workbench\\analysis\\prim.py:436\u001b[0m, in \u001b[0;36mPrimBox._inspect\u001b[1;34m(self, i, style, **kwargs)\u001b[0m\n\u001b[0;32m    422\u001b[0m \u001b[38;5;28;01mdef\u001b[39;00m \u001b[38;5;21m_inspect\u001b[39m(\u001b[38;5;28mself\u001b[39m, i\u001b[38;5;241m=\u001b[39m\u001b[38;5;28;01mNone\u001b[39;00m, style\u001b[38;5;241m=\u001b[39m\u001b[38;5;124m\"\u001b[39m\u001b[38;5;124mtable\u001b[39m\u001b[38;5;124m\"\u001b[39m, \u001b[38;5;241m*\u001b[39m\u001b[38;5;241m*\u001b[39mkwargs):\n\u001b[0;32m    423\u001b[0m \u001b[38;5;250m    \u001b[39m\u001b[38;5;124;03m\"\"\"Helper method for inspecting one or more boxes on the\u001b[39;00m\n\u001b[0;32m    424\u001b[0m \u001b[38;5;124;03m    peeling trajectory\u001b[39;00m\n\u001b[0;32m    425\u001b[0m \n\u001b[1;32m   (...)\u001b[0m\n\u001b[0;32m    433\u001b[0m \n\u001b[0;32m    434\u001b[0m \u001b[38;5;124;03m    \"\"\"\u001b[39;00m\n\u001b[1;32m--> 436\u001b[0m     stats \u001b[38;5;241m=\u001b[39m \u001b[38;5;28;43mself\u001b[39;49m\u001b[38;5;241;43m.\u001b[39;49m\u001b[43mpeeling_trajectory\u001b[49m\u001b[38;5;241;43m.\u001b[39;49m\u001b[43miloc\u001b[49m\u001b[43m[\u001b[49m\u001b[43mi\u001b[49m\u001b[43m]\u001b[49m\u001b[38;5;241m.\u001b[39mto_dict()\n\u001b[0;32m    437\u001b[0m     stats[\u001b[38;5;124m\"\u001b[39m\u001b[38;5;124mrestricted_dim\u001b[39m\u001b[38;5;124m\"\u001b[39m] \u001b[38;5;241m=\u001b[39m stats[\u001b[38;5;124m\"\u001b[39m\u001b[38;5;124mres_dim\u001b[39m\u001b[38;5;124m\"\u001b[39m]\n\u001b[0;32m    439\u001b[0m     qp_values \u001b[38;5;241m=\u001b[39m \u001b[38;5;28mself\u001b[39m\u001b[38;5;241m.\u001b[39mqp[i]\n",
      "File \u001b[1;32m~\\AppData\\Local\\Programs\\Python\\Python311\\Lib\\site-packages\\pandas\\core\\indexing.py:1103\u001b[0m, in \u001b[0;36m_LocationIndexer.__getitem__\u001b[1;34m(self, key)\u001b[0m\n\u001b[0;32m   1100\u001b[0m axis \u001b[38;5;241m=\u001b[39m \u001b[38;5;28mself\u001b[39m\u001b[38;5;241m.\u001b[39maxis \u001b[38;5;129;01mor\u001b[39;00m \u001b[38;5;241m0\u001b[39m\n\u001b[0;32m   1102\u001b[0m maybe_callable \u001b[38;5;241m=\u001b[39m com\u001b[38;5;241m.\u001b[39mapply_if_callable(key, \u001b[38;5;28mself\u001b[39m\u001b[38;5;241m.\u001b[39mobj)\n\u001b[1;32m-> 1103\u001b[0m \u001b[38;5;28;01mreturn\u001b[39;00m \u001b[38;5;28;43mself\u001b[39;49m\u001b[38;5;241;43m.\u001b[39;49m\u001b[43m_getitem_axis\u001b[49m\u001b[43m(\u001b[49m\u001b[43mmaybe_callable\u001b[49m\u001b[43m,\u001b[49m\u001b[43m \u001b[49m\u001b[43maxis\u001b[49m\u001b[38;5;241;43m=\u001b[39;49m\u001b[43maxis\u001b[49m\u001b[43m)\u001b[49m\n",
      "File \u001b[1;32m~\\AppData\\Local\\Programs\\Python\\Python311\\Lib\\site-packages\\pandas\\core\\indexing.py:1656\u001b[0m, in \u001b[0;36m_iLocIndexer._getitem_axis\u001b[1;34m(self, key, axis)\u001b[0m\n\u001b[0;32m   1653\u001b[0m     \u001b[38;5;28;01mraise\u001b[39;00m \u001b[38;5;167;01mTypeError\u001b[39;00m(\u001b[38;5;124m\"\u001b[39m\u001b[38;5;124mCannot index by location index with a non-integer key\u001b[39m\u001b[38;5;124m\"\u001b[39m)\n\u001b[0;32m   1655\u001b[0m \u001b[38;5;66;03m# validate the location\u001b[39;00m\n\u001b[1;32m-> 1656\u001b[0m \u001b[38;5;28;43mself\u001b[39;49m\u001b[38;5;241;43m.\u001b[39;49m\u001b[43m_validate_integer\u001b[49m\u001b[43m(\u001b[49m\u001b[43mkey\u001b[49m\u001b[43m,\u001b[49m\u001b[43m \u001b[49m\u001b[43maxis\u001b[49m\u001b[43m)\u001b[49m\n\u001b[0;32m   1658\u001b[0m \u001b[38;5;28;01mreturn\u001b[39;00m \u001b[38;5;28mself\u001b[39m\u001b[38;5;241m.\u001b[39mobj\u001b[38;5;241m.\u001b[39m_ixs(key, axis\u001b[38;5;241m=\u001b[39maxis)\n",
      "File \u001b[1;32m~\\AppData\\Local\\Programs\\Python\\Python311\\Lib\\site-packages\\pandas\\core\\indexing.py:1589\u001b[0m, in \u001b[0;36m_iLocIndexer._validate_integer\u001b[1;34m(self, key, axis)\u001b[0m\n\u001b[0;32m   1587\u001b[0m len_axis \u001b[38;5;241m=\u001b[39m \u001b[38;5;28mlen\u001b[39m(\u001b[38;5;28mself\u001b[39m\u001b[38;5;241m.\u001b[39mobj\u001b[38;5;241m.\u001b[39m_get_axis(axis))\n\u001b[0;32m   1588\u001b[0m \u001b[38;5;28;01mif\u001b[39;00m key \u001b[38;5;241m>\u001b[39m\u001b[38;5;241m=\u001b[39m len_axis \u001b[38;5;129;01mor\u001b[39;00m key \u001b[38;5;241m<\u001b[39m \u001b[38;5;241m-\u001b[39mlen_axis:\n\u001b[1;32m-> 1589\u001b[0m     \u001b[38;5;28;01mraise\u001b[39;00m \u001b[38;5;167;01mIndexError\u001b[39;00m(\u001b[38;5;124m\"\u001b[39m\u001b[38;5;124msingle positional indexer is out-of-bounds\u001b[39m\u001b[38;5;124m\"\u001b[39m)\n",
      "\u001b[1;31mIndexError\u001b[0m: single positional indexer is out-of-bounds"
     ]
    }
   ],
   "source": [
    "n_box = 10\n",
    "box.inspect(n_box)\n"
   ]
  },
  {
   "cell_type": "code",
   "execution_count": 63,
   "metadata": {},
   "outputs": [
    {
     "ename": "IndexError",
     "evalue": "list index out of range",
     "output_type": "error",
     "traceback": [
      "\u001b[1;31m---------------------------------------------------------------------------\u001b[0m",
      "\u001b[1;31mIndexError\u001b[0m                                Traceback (most recent call last)",
      "Cell \u001b[1;32mIn[63], line 1\u001b[0m\n\u001b[1;32m----> 1\u001b[0m \u001b[43mbox\u001b[49m\u001b[38;5;241;43m.\u001b[39;49m\u001b[43mselect\u001b[49m\u001b[43m(\u001b[49m\u001b[43mn_box\u001b[49m\u001b[43m)\u001b[49m\n\u001b[0;32m      2\u001b[0m scens_in_box \u001b[38;5;241m=\u001b[39m experiments\u001b[38;5;241m.\u001b[39miloc[box\u001b[38;5;241m.\u001b[39myi]\n\u001b[0;32m      3\u001b[0m outcomes_in_box \u001b[38;5;241m=\u001b[39m {k:v[box\u001b[38;5;241m.\u001b[39myi] \u001b[38;5;28;01mfor\u001b[39;00m k,v \u001b[38;5;129;01min\u001b[39;00m outcomes\u001b[38;5;241m.\u001b[39mitems()}\n",
      "File \u001b[1;32m~\\AppData\\Local\\Programs\\Python\\Python311\\Lib\\site-packages\\ema_workbench\\analysis\\prim.py:735\u001b[0m, in \u001b[0;36mPrimBox.select\u001b[1;34m(self, i)\u001b[0m\n\u001b[0;32m    730\u001b[0m \u001b[38;5;28;01mif\u001b[39;00m \u001b[38;5;28mself\u001b[39m\u001b[38;5;241m.\u001b[39m_frozen:\n\u001b[0;32m    731\u001b[0m     \u001b[38;5;28;01mraise\u001b[39;00m PrimException(\n\u001b[0;32m    732\u001b[0m         \u001b[38;5;124m\"\u001b[39m\u001b[38;5;124mbox has been frozen because PRIM \u001b[39m\u001b[38;5;124m\"\u001b[39m \u001b[38;5;124m\"\u001b[39m\u001b[38;5;124mhas found at least one more recent \u001b[39m\u001b[38;5;124m\"\u001b[39m \u001b[38;5;124m\"\u001b[39m\u001b[38;5;124mbox\u001b[39m\u001b[38;5;124m\"\u001b[39m\n\u001b[0;32m    733\u001b[0m     )\n\u001b[1;32m--> 735\u001b[0m res_dim \u001b[38;5;241m=\u001b[39m sdutil\u001b[38;5;241m.\u001b[39m_determine_restricted_dims(\u001b[38;5;28;43mself\u001b[39;49m\u001b[38;5;241;43m.\u001b[39;49m\u001b[43mbox_lims\u001b[49m\u001b[43m[\u001b[49m\u001b[43mi\u001b[49m\u001b[43m]\u001b[49m, \u001b[38;5;28mself\u001b[39m\u001b[38;5;241m.\u001b[39mprim\u001b[38;5;241m.\u001b[39mbox_init)\n\u001b[0;32m    737\u001b[0m indices \u001b[38;5;241m=\u001b[39m sdutil\u001b[38;5;241m.\u001b[39m_in_box(\n\u001b[0;32m    738\u001b[0m     \u001b[38;5;28mself\u001b[39m\u001b[38;5;241m.\u001b[39mprim\u001b[38;5;241m.\u001b[39mx\u001b[38;5;241m.\u001b[39mloc[\u001b[38;5;28mself\u001b[39m\u001b[38;5;241m.\u001b[39mprim\u001b[38;5;241m.\u001b[39myi_remaining, res_dim], \u001b[38;5;28mself\u001b[39m\u001b[38;5;241m.\u001b[39mbox_lims[i][res_dim]\n\u001b[0;32m    739\u001b[0m )\n\u001b[0;32m    740\u001b[0m \u001b[38;5;28mself\u001b[39m\u001b[38;5;241m.\u001b[39myi \u001b[38;5;241m=\u001b[39m \u001b[38;5;28mself\u001b[39m\u001b[38;5;241m.\u001b[39mprim\u001b[38;5;241m.\u001b[39myi_remaining[indices]\n",
      "\u001b[1;31mIndexError\u001b[0m: list index out of range"
     ]
    }
   ],
   "source": [
    "box.select(n_box)\n",
    "scens_in_box = experiments.iloc[box.yi]\n",
    "outcomes_in_box = {k:v[box.yi] for k,v in outcomes.items()}"
   ]
  },
  {
   "cell_type": "code",
   "execution_count": 127,
   "metadata": {
    "tags": []
   },
   "outputs": [
    {
     "name": "stderr",
     "output_type": "stream",
     "text": [
      "[MainProcess/INFO] results saved successfully to /Users/ricoherzog/OneDrive/Uni/2019-2020 WiSe Den Haag/Q4/EPA1361 Model Based Decision Making/05_Project/model-based-decision-making/results/mordm_10_Gelderland.tar.gz\n"
     ]
    }
   ],
   "source": [
    "#Save results\n",
    "save_results([scens_in_box.reindex(), outcomes_in_box], '../results/mordm_'+str(n_box)+'_'+province+'.tar.gz')"
   ]
  },
  {
   "cell_type": "markdown",
   "metadata": {},
   "source": [
    "# Multi-Scenario MORDM\n",
    "Based on the results of scenario discovery, we now continue to select three of such scenarios based on the worst outcomes in terms of casualties, damages and total costs. We will take each of these scenarios as a reference scenario to run an optimization algorithm for the levers to choose. "
   ]
  },
  {
   "cell_type": "code",
   "execution_count": 128,
   "metadata": {},
   "outputs": [],
   "source": [
    "#Load results\n",
    "# mordm_results = load_results('../results/mordm_29_Gelderland.tar.gz')\n",
    "results_df = pd.concat([pd.DataFrame(scens_in_box).reset_index(drop=True), pd.DataFrame(outcomes_in_box)], axis = 1)"
   ]
  },
  {
   "cell_type": "code",
   "execution_count": 129,
   "metadata": {},
   "outputs": [],
   "source": [
    "#Sum up Deaths and Damages\n",
    "results_df[\"Deaths Aggregated\"] = results_df[\"A1_2 Aggr Expected Number of Deaths\"] + results_df[\"A3 Aggr Expected Number of Deaths\"]\n",
    "results_df[\"Damages Aggregated\"] = results_df[\"A1_2 Aggr Expected Annual Damage\"] + results_df[\"A3 Expected Annual Damage\"]"
   ]
  },
  {
   "cell_type": "code",
   "execution_count": 130,
   "metadata": {},
   "outputs": [],
   "source": [
    "#Get the three reference scenarios\n",
    "scenario_indices = [results_df.sort_values([\"Evacuation Costs\"]).tail(1).index[0], \n",
    "                    results_df.sort_values([\"Deaths Aggregated\"]).tail(1).index[0], \n",
    "                    results_df.sort_values([\"Damages Aggregated\"]).tail(1).index[0]]\n",
    "selected = results_df.iloc[scenario_indices, 0:19]\n"
   ]
  },
  {
   "cell_type": "code",
   "execution_count": 131,
   "metadata": {},
   "outputs": [],
   "source": [
    "#Create the three reference case scenario instances\n",
    "scenarios_mordm = [Scenario(f\"{index}\", **row) for index, row in selected.iterrows()]"
   ]
  },
  {
   "cell_type": "markdown",
   "metadata": {},
   "source": [
    "### Optimization run 2, now for 3 reference case scenarios\n",
    "We now search for optimal policies utilizing the three new refence scenarios specified above. For reasons already mentioned, we again use 20000 nfes and the epsilon progress to check for convergence"
   ]
  },
  {
   "cell_type": "code",
   "execution_count": 15,
   "metadata": {},
   "outputs": [
    {
     "name": "stderr",
     "output_type": "stream",
     "text": [
      "[MainProcess/INFO] pool started\n",
      "[MainProcess/INFO] generation 0: 0/20000 nfe\n",
      "[MainProcess/INFO] generation 5: 497/20000 nfe\n",
      "[MainProcess/INFO] generation 10: 996/20000 nfe\n",
      "[MainProcess/INFO] generation 15: 1493/20000 nfe\n",
      "[MainProcess/INFO] generation 20: 1993/20000 nfe\n",
      "[MainProcess/INFO] generation 25: 2492/20000 nfe\n",
      "[MainProcess/INFO] generation 30: 2989/20000 nfe\n",
      "[MainProcess/INFO] generation 35: 3489/20000 nfe\n",
      "[MainProcess/INFO] generation 40: 3988/20000 nfe\n",
      "[MainProcess/INFO] generation 45: 4487/20000 nfe\n",
      "[MainProcess/INFO] generation 50: 4985/20000 nfe\n",
      "[MainProcess/INFO] generation 55: 5484/20000 nfe\n",
      "[MainProcess/INFO] generation 60: 5983/20000 nfe\n",
      "[MainProcess/INFO] generation 65: 6483/20000 nfe\n",
      "[MainProcess/INFO] generation 70: 6978/20000 nfe\n",
      "[MainProcess/INFO] generation 75: 7474/20000 nfe\n",
      "[MainProcess/INFO] generation 80: 7973/20000 nfe\n",
      "[MainProcess/INFO] generation 85: 8468/20000 nfe\n",
      "[MainProcess/INFO] generation 90: 8966/20000 nfe\n",
      "[MainProcess/INFO] generation 95: 9465/20000 nfe\n",
      "[MainProcess/INFO] generation 100: 9962/20000 nfe\n",
      "[MainProcess/INFO] optimization completed, found 944 solutions\n",
      "[MainProcess/INFO] terminating pool\n",
      "[MainProcess/INFO] pool started\n",
      "[MainProcess/INFO] generation 0: 0/20000 nfe\n",
      "[MainProcess/INFO] generation 5: 496/20000 nfe\n",
      "[MainProcess/INFO] generation 10: 996/20000 nfe\n",
      "[MainProcess/INFO] generation 15: 1492/20000 nfe\n",
      "[MainProcess/INFO] generation 20: 1992/20000 nfe\n",
      "[MainProcess/INFO] generation 25: 2491/20000 nfe\n",
      "[MainProcess/INFO] generation 30: 2988/20000 nfe\n",
      "[MainProcess/INFO] generation 35: 3485/20000 nfe\n",
      "[MainProcess/INFO] generation 40: 3985/20000 nfe\n",
      "[MainProcess/INFO] generation 45: 4485/20000 nfe\n",
      "[MainProcess/INFO] generation 50: 4981/20000 nfe\n",
      "[MainProcess/INFO] generation 55: 5479/20000 nfe\n",
      "[MainProcess/INFO] generation 60: 5978/20000 nfe\n",
      "[MainProcess/INFO] generation 65: 6471/20000 nfe\n",
      "[MainProcess/INFO] generation 70: 6968/20000 nfe\n",
      "[MainProcess/INFO] generation 75: 7466/20000 nfe\n",
      "[MainProcess/INFO] generation 80: 7963/20000 nfe\n",
      "[MainProcess/INFO] generation 85: 8458/20000 nfe\n",
      "[MainProcess/INFO] generation 90: 8957/20000 nfe\n",
      "[MainProcess/INFO] generation 95: 9452/20000 nfe\n",
      "[MainProcess/INFO] generation 100: 9948/20000 nfe\n",
      "[MainProcess/INFO] generation 105: 19590/20000 nfe\n",
      "[MainProcess/INFO] optimization completed, found 531 solutions\n",
      "[MainProcess/INFO] terminating pool\n",
      "[MainProcess/INFO] pool started\n",
      "[MainProcess/INFO] generation 0: 0/20000 nfe\n",
      "[MainProcess/INFO] generation 5: 499/20000 nfe\n",
      "[MainProcess/INFO] generation 10: 995/20000 nfe\n",
      "[MainProcess/INFO] generation 15: 1494/20000 nfe\n",
      "[MainProcess/INFO] generation 20: 1993/20000 nfe\n",
      "[MainProcess/INFO] generation 25: 2493/20000 nfe\n",
      "[MainProcess/INFO] generation 30: 2988/20000 nfe\n",
      "[MainProcess/INFO] generation 35: 3486/20000 nfe\n",
      "[MainProcess/INFO] generation 40: 3986/20000 nfe\n",
      "[MainProcess/INFO] generation 45: 4485/20000 nfe\n",
      "[MainProcess/INFO] generation 50: 4985/20000 nfe\n",
      "[MainProcess/INFO] generation 55: 5485/20000 nfe\n",
      "[MainProcess/INFO] generation 60: 5985/20000 nfe\n",
      "[MainProcess/INFO] generation 65: 6481/20000 nfe\n",
      "[MainProcess/INFO] generation 70: 6979/20000 nfe\n",
      "[MainProcess/INFO] generation 75: 7475/20000 nfe\n",
      "[MainProcess/INFO] generation 80: 7973/20000 nfe\n",
      "[MainProcess/INFO] generation 85: 8472/20000 nfe\n",
      "[MainProcess/INFO] generation 90: 8971/20000 nfe\n",
      "[MainProcess/INFO] generation 95: 9466/20000 nfe\n",
      "[MainProcess/INFO] generation 100: 9960/20000 nfe\n",
      "[MainProcess/INFO] generation 105: 18622/20000 nfe\n",
      "[MainProcess/INFO] optimization completed, found 613 solutions\n",
      "[MainProcess/INFO] terminating pool\n"
     ]
    }
   ],
   "source": [
    "def optimize(scenario, nfe, model, converge_metrics, epsilons):\n",
    "\n",
    "    with MultiprocessingEvaluator(model) as evaluator:\n",
    "        results, convergence = evaluator.optimize(nfe=n_nfe, searchover='levers',\n",
    "                                     convergence=convergence_metrics,\n",
    "                                     epsilons=epsilons,\n",
    "                                     reference=scenario)\n",
    "    return results, convergence\n",
    "\n",
    "\n",
    "results = []\n",
    "\n",
    "for scenario in scenarios_mordm:\n",
    "    convergence_metrics = [EpsilonProgress()]\n",
    "    epsilons = [0.1,]*len(dike_model.outcomes)\n",
    "    \n",
    "    results.append(optimize(scenario, 1e4, dike_model, convergence_metrics, epsilons))"
   ]
  },
  {
   "cell_type": "code",
   "execution_count": 16,
   "metadata": {},
   "outputs": [
    {
     "name": "stderr",
     "output_type": "stream",
     "text": [
      "[MainProcess/INFO] results saved successfully to c:\\Users\\ricoh\\Documents\\GitHub\\model-based-decision-making\\results\\ms_mordm_20000nfe_Gelderland_reference1.tar.gz\n",
      "[MainProcess/INFO] results saved successfully to c:\\Users\\ricoh\\Documents\\GitHub\\model-based-decision-making\\results\\ms_mordm_20000nfe_Gelderland_reference2.tar.gz\n",
      "[MainProcess/INFO] results saved successfully to c:\\Users\\ricoh\\Documents\\GitHub\\model-based-decision-making\\results\\ms_mordm_20000nfe_Gelderland_reference3.tar.gz\n"
     ]
    }
   ],
   "source": [
    "save_results(results[0], \"../results/ms_mordm_\"+str(n_nfe)+\"nfe_\"+province+\"_reference1.tar.gz\")\n",
    "save_results(results[1], \"../results/ms_mordm_\"+str(n_nfe)+\"nfe_\"+province+\"_reference2.tar.gz\")\n",
    "save_results(results[2], \"../results/ms_mordm_\"+str(n_nfe)+\"nfe_\"+province+\"_reference3.tar.gz\")"
   ]
  },
  {
   "cell_type": "code",
   "execution_count": 132,
   "metadata": {
    "tags": []
   },
   "outputs": [
    {
     "name": "stderr",
     "output_type": "stream",
     "text": [
      "[MainProcess/INFO] results loaded succesfully from /Users/ricoherzog/OneDrive/Uni/2019-2020 WiSe Den Haag/Q4/EPA1361 Model Based Decision Making/05_Project/model-based-decision-making/results/ms_mordm_20000nfe_Gelderland_reference1.tar.gz\n",
      "[MainProcess/INFO] results loaded succesfully from /Users/ricoherzog/OneDrive/Uni/2019-2020 WiSe Den Haag/Q4/EPA1361 Model Based Decision Making/05_Project/model-based-decision-making/results/ms_mordm_20000nfe_Gelderland_reference2.tar.gz\n",
      "[MainProcess/INFO] results loaded succesfully from /Users/ricoherzog/OneDrive/Uni/2019-2020 WiSe Den Haag/Q4/EPA1361 Model Based Decision Making/05_Project/model-based-decision-making/results/ms_mordm_20000nfe_Gelderland_reference3.tar.gz\n"
     ]
    }
   ],
   "source": [
    "#Load results\n",
    "results = []\n",
    "results.append(load_results(\"../results/ms_mordm_20000nfe_\"+province+\"_reference1.tar.gz\"))\n",
    "results.append(load_results(\"../results/ms_mordm_20000nfe_\"+province+\"_reference2.tar.gz\"))\n",
    "results.append(load_results(\"../results/ms_mordm_20000nfe_\"+province+\"_reference3.tar.gz\"))"
   ]
  },
  {
   "cell_type": "markdown",
   "metadata": {},
   "source": [
    "### Check for convergence"
   ]
  },
  {
   "cell_type": "code",
   "execution_count": 9,
   "metadata": {},
   "outputs": [
    {
     "data": {
      "image/png": "[encoded data removed]",
      "image/svg+xml": [
       "<?xml version=\"1.0\" encoding=\"utf-8\" standalone=\"no\"?>\n",
       "<!DOCTYPE svg PUBLIC \"-//W3C//DTD SVG 1.1//EN\"\n",
       "  \"http://www.w3.org/Graphics/SVG/1.1/DTD/svg11.dtd\">\n",
       "<!-- Created with matplotlib (https://matplotlib.org/) -->\n",
       "<svg height=\"291.75625pt\" version=\"1.1\" viewBox=\"0 0 433.528125 291.75625\" width=\"433.528125pt\" xmlns=\"http://www.w3.org/2000/svg\" xmlns:xlink=\"http://www.w3.org/1999/xlink\">\n",
       " <defs>\n",
       "  <style type=\"text/css\">\n",
       "*{stroke-linecap:butt;stroke-linejoin:round;}\n",
       "  </style>\n",
       " </defs>\n",
       " <g id=\"figure_1\">\n",
       "  <g id=\"patch_1\">\n",
       "   <path d=\"M 0 291.75625 \n",
       "L 433.528125 291.75625 \n",
       "L 433.528125 0 \n",
       "L 0 0 \n",
       "z\n",
       "\" style=\"fill:none;\"/>\n",
       "  </g>\n",
       "  <g id=\"axes_1\">\n",
       "   <g id=\"patch_2\">\n",
       "    <path d=\"M 53.328125 254.2 \n",
       "L 388.128125 254.2 \n",
       "L 388.128125 36.76 \n",
       "L 53.328125 36.76 \n",
       "z\n",
       "\" style=\"fill:#ffffff;\"/>\n",
       "   </g>\n",
       "   <g id=\"matplotlib.axis_1\">\n",
       "    <g id=\"xtick_1\">\n",
       "     <g id=\"line2d_1\">\n",
       "      <defs>\n",
       "       <path d=\"M 0 0 \n",
       "L 0 3.5 \n",
       "\" id=\"mfe735a73f7\" style=\"stroke:#000000;stroke-width:0.8;\"/>\n",
       "      </defs>\n",
       "      <g>\n",
       "       <use style=\"stroke:#000000;stroke-width:0.8;\" x=\"68.546307\" xlink:href=\"#mfe735a73f7\" y=\"254.2\"/>\n",
       "      </g>\n",
       "     </g>\n",
       "     <g id=\"text_1\">\n",
       "      <!-- 0 -->\n",
       "      <defs>\n",
       "       <path d=\"M 31.78125 66.40625 \n",
       "Q 24.171875 66.40625 20.328125 58.90625 \n",
       "Q 16.5 51.421875 16.5 36.375 \n",
       "Q 16.5 21.390625 20.328125 13.890625 \n",
       "Q 24.171875 6.390625 31.78125 6.390625 \n",
       "Q 39.453125 6.390625 43.28125 13.890625 \n",
       "Q 47.125 21.390625 47.125 36.375 \n",
       "Q 47.125 51.421875 43.28125 58.90625 \n",
       "Q 39.453125 66.40625 31.78125 66.40625 \n",
       "z\n",
       "M 31.78125 74.21875 \n",
       "Q 44.046875 74.21875 50.515625 64.515625 \n",
       "Q 56.984375 54.828125 56.984375 36.375 \n",
       "Q 56.984375 17.96875 50.515625 8.265625 \n",
       "Q 44.046875 -1.421875 31.78125 -1.421875 \n",
       "Q 19.53125 -1.421875 13.0625 8.265625 \n",
       "Q 6.59375 17.96875 6.59375 36.375 \n",
       "Q 6.59375 54.828125 13.0625 64.515625 \n",
       "Q 19.53125 74.21875 31.78125 74.21875 \n",
       "z\n",
       "\" id=\"DejaVuSans-48\"/>\n",
       "      </defs>\n",
       "      <g transform=\"translate(65.365057 268.798437)scale(0.1 -0.1)\">\n",
       "       <use xlink:href=\"#DejaVuSans-48\"/>\n",
       "      </g>\n",
       "     </g>\n",
       "    </g>\n",
       "    <g id=\"xtick_2\">\n",
       "     <g id=\"line2d_2\">\n",
       "      <g>\n",
       "       <use style=\"stroke:#000000;stroke-width:0.8;\" x=\"107.388016\" xlink:href=\"#mfe735a73f7\" y=\"254.2\"/>\n",
       "      </g>\n",
       "     </g>\n",
       "     <g id=\"text_2\">\n",
       "      <!-- 2500 -->\n",
       "      <defs>\n",
       "       <path d=\"M 19.1875 8.296875 \n",
       "L 53.609375 8.296875 \n",
       "L 53.609375 0 \n",
       "L 7.328125 0 \n",
       "L 7.328125 8.296875 \n",
       "Q 12.9375 14.109375 22.625 23.890625 \n",
       "Q 32.328125 33.6875 34.8125 36.53125 \n",
       "Q 39.546875 41.84375 41.421875 45.53125 \n",
       "Q 43.3125 49.21875 43.3125 52.78125 \n",
       "Q 43.3125 58.59375 39.234375 62.25 \n",
       "Q 35.15625 65.921875 28.609375 65.921875 \n",
       "Q 23.96875 65.921875 18.8125 64.3125 \n",
       "Q 13.671875 62.703125 7.8125 59.421875 \n",
       "L 7.8125 69.390625 \n",
       "Q 13.765625 71.78125 18.9375 73 \n",
       "Q 24.125 74.21875 28.421875 74.21875 \n",
       "Q 39.75 74.21875 46.484375 68.546875 \n",
       "Q 53.21875 62.890625 53.21875 53.421875 \n",
       "Q 53.21875 48.921875 51.53125 44.890625 \n",
       "Q 49.859375 40.875 45.40625 35.40625 \n",
       "Q 44.1875 33.984375 37.640625 27.21875 \n",
       "Q 31.109375 20.453125 19.1875 8.296875 \n",
       "z\n",
       "\" id=\"DejaVuSans-50\"/>\n",
       "       <path d=\"M 10.796875 72.90625 \n",
       "L 49.515625 72.90625 \n",
       "L 49.515625 64.59375 \n",
       "L 19.828125 64.59375 \n",
       "L 19.828125 46.734375 \n",
       "Q 21.96875 47.46875 24.109375 47.828125 \n",
       "Q 26.265625 48.1875 28.421875 48.1875 \n",
       "Q 40.625 48.1875 47.75 41.5 \n",
       "Q 54.890625 34.8125 54.890625 23.390625 \n",
       "Q 54.890625 11.625 47.5625 5.09375 \n",
       "Q 40.234375 -1.421875 26.90625 -1.421875 \n",
       "Q 22.3125 -1.421875 17.546875 -0.640625 \n",
       "Q 12.796875 0.140625 7.71875 1.703125 \n",
       "L 7.71875 11.625 \n",
       "Q 12.109375 9.234375 16.796875 8.0625 \n",
       "Q 21.484375 6.890625 26.703125 6.890625 \n",
       "Q 35.15625 6.890625 40.078125 11.328125 \n",
       "Q 45.015625 15.765625 45.015625 23.390625 \n",
       "Q 45.015625 31 40.078125 35.4375 \n",
       "Q 35.15625 39.890625 26.703125 39.890625 \n",
       "Q 22.75 39.890625 18.8125 39.015625 \n",
       "Q 14.890625 38.140625 10.796875 36.28125 \n",
       "z\n",
       "\" id=\"DejaVuSans-53\"/>\n",
       "      </defs>\n",
       "      <g transform=\"translate(94.663016 268.798437)scale(0.1 -0.1)\">\n",
       "       <use xlink:href=\"#DejaVuSans-50\"/>\n",
       "       <use x=\"63.623047\" xlink:href=\"#DejaVuSans-53\"/>\n",
       "       <use x=\"127.246094\" xlink:href=\"#DejaVuSans-48\"/>\n",
       "       <use x=\"190.869141\" xlink:href=\"#DejaVuSans-48\"/>\n",
       "      </g>\n",
       "     </g>\n",
       "    </g>\n",
       "    <g id=\"xtick_3\">\n",
       "     <g id=\"line2d_3\">\n",
       "      <g>\n",
       "       <use style=\"stroke:#000000;stroke-width:0.8;\" x=\"146.229726\" xlink:href=\"#mfe735a73f7\" y=\"254.2\"/>\n",
       "      </g>\n",
       "     </g>\n",
       "     <g id=\"text_3\">\n",
       "      <!-- 5000 -->\n",
       "      <g transform=\"translate(133.504726 268.798437)scale(0.1 -0.1)\">\n",
       "       <use xlink:href=\"#DejaVuSans-53\"/>\n",
       "       <use x=\"63.623047\" xlink:href=\"#DejaVuSans-48\"/>\n",
       "       <use x=\"127.246094\" xlink:href=\"#DejaVuSans-48\"/>\n",
       "       <use x=\"190.869141\" xlink:href=\"#DejaVuSans-48\"/>\n",
       "      </g>\n",
       "     </g>\n",
       "    </g>\n",
       "    <g id=\"xtick_4\">\n",
       "     <g id=\"line2d_4\">\n",
       "      <g>\n",
       "       <use style=\"stroke:#000000;stroke-width:0.8;\" x=\"185.071436\" xlink:href=\"#mfe735a73f7\" y=\"254.2\"/>\n",
       "      </g>\n",
       "     </g>\n",
       "     <g id=\"text_4\">\n",
       "      <!-- 7500 -->\n",
       "      <defs>\n",
       "       <path d=\"M 8.203125 72.90625 \n",
       "L 55.078125 72.90625 \n",
       "L 55.078125 68.703125 \n",
       "L 28.609375 0 \n",
       "L 18.3125 0 \n",
       "L 43.21875 64.59375 \n",
       "L 8.203125 64.59375 \n",
       "z\n",
       "\" id=\"DejaVuSans-55\"/>\n",
       "      </defs>\n",
       "      <g transform=\"translate(172.346436 268.798437)scale(0.1 -0.1)\">\n",
       "       <use xlink:href=\"#DejaVuSans-55\"/>\n",
       "       <use x=\"63.623047\" xlink:href=\"#DejaVuSans-53\"/>\n",
       "       <use x=\"127.246094\" xlink:href=\"#DejaVuSans-48\"/>\n",
       "       <use x=\"190.869141\" xlink:href=\"#DejaVuSans-48\"/>\n",
       "      </g>\n",
       "     </g>\n",
       "    </g>\n",
       "    <g id=\"xtick_5\">\n",
       "     <g id=\"line2d_5\">\n",
       "      <g>\n",
       "       <use style=\"stroke:#000000;stroke-width:0.8;\" x=\"223.913145\" xlink:href=\"#mfe735a73f7\" y=\"254.2\"/>\n",
       "      </g>\n",
       "     </g>\n",
       "     <g id=\"text_5\">\n",
       "      <!-- 10000 -->\n",
       "      <defs>\n",
       "       <path d=\"M 12.40625 8.296875 \n",
       "L 28.515625 8.296875 \n",
       "L 28.515625 63.921875 \n",
       "L 10.984375 60.40625 \n",
       "L 10.984375 69.390625 \n",
       "L 28.421875 72.90625 \n",
       "L 38.28125 72.90625 \n",
       "L 38.28125 8.296875 \n",
       "L 54.390625 8.296875 \n",
       "L 54.390625 0 \n",
       "L 12.40625 0 \n",
       "z\n",
       "\" id=\"DejaVuSans-49\"/>\n",
       "      </defs>\n",
       "      <g transform=\"translate(208.006895 268.798437)scale(0.1 -0.1)\">\n",
       "       <use xlink:href=\"#DejaVuSans-49\"/>\n",
       "       <use x=\"63.623047\" xlink:href=\"#DejaVuSans-48\"/>\n",
       "       <use x=\"127.246094\" xlink:href=\"#DejaVuSans-48\"/>\n",
       "       <use x=\"190.869141\" xlink:href=\"#DejaVuSans-48\"/>\n",
       "       <use x=\"254.492188\" xlink:href=\"#DejaVuSans-48\"/>\n",
       "      </g>\n",
       "     </g>\n",
       "    </g>\n",
       "    <g id=\"xtick_6\">\n",
       "     <g id=\"line2d_6\">\n",
       "      <g>\n",
       "       <use style=\"stroke:#000000;stroke-width:0.8;\" x=\"262.754855\" xlink:href=\"#mfe735a73f7\" y=\"254.2\"/>\n",
       "      </g>\n",
       "     </g>\n",
       "     <g id=\"text_6\">\n",
       "      <!-- 12500 -->\n",
       "      <g transform=\"translate(246.848605 268.798437)scale(0.1 -0.1)\">\n",
       "       <use xlink:href=\"#DejaVuSans-49\"/>\n",
       "       <use x=\"63.623047\" xlink:href=\"#DejaVuSans-50\"/>\n",
       "       <use x=\"127.246094\" xlink:href=\"#DejaVuSans-53\"/>\n",
       "       <use x=\"190.869141\" xlink:href=\"#DejaVuSans-48\"/>\n",
       "       <use x=\"254.492188\" xlink:href=\"#DejaVuSans-48\"/>\n",
       "      </g>\n",
       "     </g>\n",
       "    </g>\n",
       "    <g id=\"xtick_7\">\n",
       "     <g id=\"line2d_7\">\n",
       "      <g>\n",
       "       <use style=\"stroke:#000000;stroke-width:0.8;\" x=\"301.596564\" xlink:href=\"#mfe735a73f7\" y=\"254.2\"/>\n",
       "      </g>\n",
       "     </g>\n",
       "     <g id=\"text_7\">\n",
       "      <!-- 15000 -->\n",
       "      <g transform=\"translate(285.690314 268.798437)scale(0.1 -0.1)\">\n",
       "       <use xlink:href=\"#DejaVuSans-49\"/>\n",
       "       <use x=\"63.623047\" xlink:href=\"#DejaVuSans-53\"/>\n",
       "       <use x=\"127.246094\" xlink:href=\"#DejaVuSans-48\"/>\n",
       "       <use x=\"190.869141\" xlink:href=\"#DejaVuSans-48\"/>\n",
       "       <use x=\"254.492188\" xlink:href=\"#DejaVuSans-48\"/>\n",
       "      </g>\n",
       "     </g>\n",
       "    </g>\n",
       "    <g id=\"xtick_8\">\n",
       "     <g id=\"line2d_8\">\n",
       "      <g>\n",
       "       <use style=\"stroke:#000000;stroke-width:0.8;\" x=\"340.438274\" xlink:href=\"#mfe735a73f7\" y=\"254.2\"/>\n",
       "      </g>\n",
       "     </g>\n",
       "     <g id=\"text_8\">\n",
       "      <!-- 17500 -->\n",
       "      <g transform=\"translate(324.532024 268.798437)scale(0.1 -0.1)\">\n",
       "       <use xlink:href=\"#DejaVuSans-49\"/>\n",
       "       <use x=\"63.623047\" xlink:href=\"#DejaVuSans-55\"/>\n",
       "       <use x=\"127.246094\" xlink:href=\"#DejaVuSans-53\"/>\n",
       "       <use x=\"190.869141\" xlink:href=\"#DejaVuSans-48\"/>\n",
       "       <use x=\"254.492188\" xlink:href=\"#DejaVuSans-48\"/>\n",
       "      </g>\n",
       "     </g>\n",
       "    </g>\n",
       "    <g id=\"xtick_9\">\n",
       "     <g id=\"line2d_9\">\n",
       "      <g>\n",
       "       <use style=\"stroke:#000000;stroke-width:0.8;\" x=\"379.279984\" xlink:href=\"#mfe735a73f7\" y=\"254.2\"/>\n",
       "      </g>\n",
       "     </g>\n",
       "     <g id=\"text_9\">\n",
       "      <!-- 20000 -->\n",
       "      <g transform=\"translate(363.373734 268.798437)scale(0.1 -0.1)\">\n",
       "       <use xlink:href=\"#DejaVuSans-50\"/>\n",
       "       <use x=\"63.623047\" xlink:href=\"#DejaVuSans-48\"/>\n",
       "       <use x=\"127.246094\" xlink:href=\"#DejaVuSans-48\"/>\n",
       "       <use x=\"190.869141\" xlink:href=\"#DejaVuSans-48\"/>\n",
       "       <use x=\"254.492188\" xlink:href=\"#DejaVuSans-48\"/>\n",
       "      </g>\n",
       "     </g>\n",
       "    </g>\n",
       "    <g id=\"text_10\">\n",
       "     <!-- nfe -->\n",
       "     <defs>\n",
       "      <path d=\"M 54.890625 33.015625 \n",
       "L 54.890625 0 \n",
       "L 45.90625 0 \n",
       "L 45.90625 32.71875 \n",
       "Q 45.90625 40.484375 42.875 44.328125 \n",
       "Q 39.84375 48.1875 33.796875 48.1875 \n",
       "Q 26.515625 48.1875 22.3125 43.546875 \n",
       "Q 18.109375 38.921875 18.109375 30.90625 \n",
       "L 18.109375 0 \n",
       "L 9.078125 0 \n",
       "L 9.078125 54.6875 \n",
       "L 18.109375 54.6875 \n",
       "L 18.109375 46.1875 \n",
       "Q 21.34375 51.125 25.703125 53.5625 \n",
       "Q 30.078125 56 35.796875 56 \n",
       "Q 45.21875 56 50.046875 50.171875 \n",
       "Q 54.890625 44.34375 54.890625 33.015625 \n",
       "z\n",
       "\" id=\"DejaVuSans-110\"/>\n",
       "      <path d=\"M 37.109375 75.984375 \n",
       "L 37.109375 68.5 \n",
       "L 28.515625 68.5 \n",
       "Q 23.6875 68.5 21.796875 66.546875 \n",
       "Q 19.921875 64.59375 19.921875 59.515625 \n",
       "L 19.921875 54.6875 \n",
       "L 34.71875 54.6875 \n",
       "L 34.71875 47.703125 \n",
       "L 19.921875 47.703125 \n",
       "L 19.921875 0 \n",
       "L 10.890625 0 \n",
       "L 10.890625 47.703125 \n",
       "L 2.296875 47.703125 \n",
       "L 2.296875 54.6875 \n",
       "L 10.890625 54.6875 \n",
       "L 10.890625 58.5 \n",
       "Q 10.890625 67.625 15.140625 71.796875 \n",
       "Q 19.390625 75.984375 28.609375 75.984375 \n",
       "z\n",
       "\" id=\"DejaVuSans-102\"/>\n",
       "      <path d=\"M 56.203125 29.59375 \n",
       "L 56.203125 25.203125 \n",
       "L 14.890625 25.203125 \n",
       "Q 15.484375 15.921875 20.484375 11.0625 \n",
       "Q 25.484375 6.203125 34.421875 6.203125 \n",
       "Q 39.59375 6.203125 44.453125 7.46875 \n",
       "Q 49.3125 8.734375 54.109375 11.28125 \n",
       "L 54.109375 2.78125 \n",
       "Q 49.265625 0.734375 44.1875 -0.34375 \n",
       "Q 39.109375 -1.421875 33.890625 -1.421875 \n",
       "Q 20.796875 -1.421875 13.15625 6.1875 \n",
       "Q 5.515625 13.8125 5.515625 26.8125 \n",
       "Q 5.515625 40.234375 12.765625 48.109375 \n",
       "Q 20.015625 56 32.328125 56 \n",
       "Q 43.359375 56 49.78125 48.890625 \n",
       "Q 56.203125 41.796875 56.203125 29.59375 \n",
       "z\n",
       "M 47.21875 32.234375 \n",
       "Q 47.125 39.59375 43.09375 43.984375 \n",
       "Q 39.0625 48.390625 32.421875 48.390625 \n",
       "Q 24.90625 48.390625 20.390625 44.140625 \n",
       "Q 15.875 39.890625 15.1875 32.171875 \n",
       "z\n",
       "\" id=\"DejaVuSans-101\"/>\n",
       "     </defs>\n",
       "     <g transform=\"translate(212.722656 282.476562)scale(0.1 -0.1)\">\n",
       "      <use xlink:href=\"#DejaVuSans-110\"/>\n",
       "      <use x=\"63.378906\" xlink:href=\"#DejaVuSans-102\"/>\n",
       "      <use x=\"98.583984\" xlink:href=\"#DejaVuSans-101\"/>\n",
       "     </g>\n",
       "    </g>\n",
       "   </g>\n",
       "   <g id=\"matplotlib.axis_2\">\n",
       "    <g id=\"ytick_1\">\n",
       "     <g id=\"line2d_10\">\n",
       "      <defs>\n",
       "       <path d=\"M 0 0 \n",
       "L -3.5 0 \n",
       "\" id=\"m80bc11a35e\" style=\"stroke:#000000;stroke-width:0.8;\"/>\n",
       "      </defs>\n",
       "      <g>\n",
       "       <use style=\"stroke:#000000;stroke-width:0.8;\" x=\"53.328125\" xlink:href=\"#m80bc11a35e\" y=\"244.316364\"/>\n",
       "      </g>\n",
       "     </g>\n",
       "     <g id=\"text_11\">\n",
       "      <!-- 0 -->\n",
       "      <g transform=\"translate(39.965625 248.115582)scale(0.1 -0.1)\">\n",
       "       <use xlink:href=\"#DejaVuSans-48\"/>\n",
       "      </g>\n",
       "     </g>\n",
       "    </g>\n",
       "    <g id=\"ytick_2\">\n",
       "     <g id=\"line2d_11\">\n",
       "      <g>\n",
       "       <use style=\"stroke:#000000;stroke-width:0.8;\" x=\"53.328125\" xlink:href=\"#m80bc11a35e\" y=\"196.776025\"/>\n",
       "      </g>\n",
       "     </g>\n",
       "     <g id=\"text_12\">\n",
       "      <!-- 500 -->\n",
       "      <g transform=\"translate(27.240625 200.575244)scale(0.1 -0.1)\">\n",
       "       <use xlink:href=\"#DejaVuSans-53\"/>\n",
       "       <use x=\"63.623047\" xlink:href=\"#DejaVuSans-48\"/>\n",
       "       <use x=\"127.246094\" xlink:href=\"#DejaVuSans-48\"/>\n",
       "      </g>\n",
       "     </g>\n",
       "    </g>\n",
       "    <g id=\"ytick_3\">\n",
       "     <g id=\"line2d_12\">\n",
       "      <g>\n",
       "       <use style=\"stroke:#000000;stroke-width:0.8;\" x=\"53.328125\" xlink:href=\"#m80bc11a35e\" y=\"149.235687\"/>\n",
       "      </g>\n",
       "     </g>\n",
       "     <g id=\"text_13\">\n",
       "      <!-- 1000 -->\n",
       "      <g transform=\"translate(20.878125 153.034905)scale(0.1 -0.1)\">\n",
       "       <use xlink:href=\"#DejaVuSans-49\"/>\n",
       "       <use x=\"63.623047\" xlink:href=\"#DejaVuSans-48\"/>\n",
       "       <use x=\"127.246094\" xlink:href=\"#DejaVuSans-48\"/>\n",
       "       <use x=\"190.869141\" xlink:href=\"#DejaVuSans-48\"/>\n",
       "      </g>\n",
       "     </g>\n",
       "    </g>\n",
       "    <g id=\"ytick_4\">\n",
       "     <g id=\"line2d_13\">\n",
       "      <g>\n",
       "       <use style=\"stroke:#000000;stroke-width:0.8;\" x=\"53.328125\" xlink:href=\"#m80bc11a35e\" y=\"101.695348\"/>\n",
       "      </g>\n",
       "     </g>\n",
       "     <g id=\"text_14\">\n",
       "      <!-- 1500 -->\n",
       "      <g transform=\"translate(20.878125 105.494567)scale(0.1 -0.1)\">\n",
       "       <use xlink:href=\"#DejaVuSans-49\"/>\n",
       "       <use x=\"63.623047\" xlink:href=\"#DejaVuSans-53\"/>\n",
       "       <use x=\"127.246094\" xlink:href=\"#DejaVuSans-48\"/>\n",
       "       <use x=\"190.869141\" xlink:href=\"#DejaVuSans-48\"/>\n",
       "      </g>\n",
       "     </g>\n",
       "    </g>\n",
       "    <g id=\"ytick_5\">\n",
       "     <g id=\"line2d_14\">\n",
       "      <g>\n",
       "       <use style=\"stroke:#000000;stroke-width:0.8;\" x=\"53.328125\" xlink:href=\"#m80bc11a35e\" y=\"54.15501\"/>\n",
       "      </g>\n",
       "     </g>\n",
       "     <g id=\"text_15\">\n",
       "      <!-- 2000 -->\n",
       "      <g transform=\"translate(20.878125 57.954229)scale(0.1 -0.1)\">\n",
       "       <use xlink:href=\"#DejaVuSans-50\"/>\n",
       "       <use x=\"63.623047\" xlink:href=\"#DejaVuSans-48\"/>\n",
       "       <use x=\"127.246094\" xlink:href=\"#DejaVuSans-48\"/>\n",
       "       <use x=\"190.869141\" xlink:href=\"#DejaVuSans-48\"/>\n",
       "      </g>\n",
       "     </g>\n",
       "    </g>\n",
       "    <g id=\"text_16\">\n",
       "     <!-- $\\epsilon$ progress -->\n",
       "     <defs>\n",
       "      <path d=\"M 19.734375 29.5 \n",
       "Q 14.453125 30.671875 12.15625 33.84375 \n",
       "Q 10.453125 36.078125 10.453125 39.109375 \n",
       "Q 10.453125 47.40625 18.359375 52.25 \n",
       "Q 24.609375 56.0625 34.1875 56.0625 \n",
       "Q 37.890625 56.0625 41.9375 55.46875 \n",
       "Q 46 54.890625 50.53125 53.71875 \n",
       "L 48.96875 45.5625 \n",
       "Q 44.484375 46.96875 40.71875 47.609375 \n",
       "Q 36.859375 48.25 33.40625 48.25 \n",
       "Q 27.59375 48.25 23.78125 46 \n",
       "Q 19.1875 43.3125 19.1875 39.40625 \n",
       "Q 19.1875 36.8125 21.578125 35.015625 \n",
       "Q 24.421875 32.859375 30.078125 32.859375 \n",
       "L 37.640625 32.859375 \n",
       "L 36.234375 25.4375 \n",
       "L 29 25.4375 \n",
       "Q 22.265625 25.4375 18.3125 22.953125 \n",
       "Q 12.9375 19.578125 12.9375 14.3125 \n",
       "Q 12.9375 10.984375 15.828125 8.796875 \n",
       "Q 19.4375 6.0625 26.8125 6.0625 \n",
       "Q 31.34375 6.0625 35.6875 6.9375 \n",
       "Q 40.046875 7.859375 43.84375 9.671875 \n",
       "L 42.1875 1.3125 \n",
       "Q 37.546875 -0.046875 33.296875 -0.734375 \n",
       "Q 29.046875 -1.421875 25.140625 -1.421875 \n",
       "Q 13.53125 -1.421875 8.0625 3.03125 \n",
       "Q 3.90625 6.453125 3.90625 12.203125 \n",
       "Q 3.90625 19.96875 9.375 24.75 \n",
       "Q 13.421875 28.328125 19.734375 29.5 \n",
       "z\n",
       "\" id=\"DejaVuSans-Oblique-949\"/>\n",
       "      <path id=\"DejaVuSans-32\"/>\n",
       "      <path d=\"M 18.109375 8.203125 \n",
       "L 18.109375 -20.796875 \n",
       "L 9.078125 -20.796875 \n",
       "L 9.078125 54.6875 \n",
       "L 18.109375 54.6875 \n",
       "L 18.109375 46.390625 \n",
       "Q 20.953125 51.265625 25.265625 53.625 \n",
       "Q 29.59375 56 35.59375 56 \n",
       "Q 45.5625 56 51.78125 48.09375 \n",
       "Q 58.015625 40.1875 58.015625 27.296875 \n",
       "Q 58.015625 14.40625 51.78125 6.484375 \n",
       "Q 45.5625 -1.421875 35.59375 -1.421875 \n",
       "Q 29.59375 -1.421875 25.265625 0.953125 \n",
       "Q 20.953125 3.328125 18.109375 8.203125 \n",
       "z\n",
       "M 48.6875 27.296875 \n",
       "Q 48.6875 37.203125 44.609375 42.84375 \n",
       "Q 40.53125 48.484375 33.40625 48.484375 \n",
       "Q 26.265625 48.484375 22.1875 42.84375 \n",
       "Q 18.109375 37.203125 18.109375 27.296875 \n",
       "Q 18.109375 17.390625 22.1875 11.75 \n",
       "Q 26.265625 6.109375 33.40625 6.109375 \n",
       "Q 40.53125 6.109375 44.609375 11.75 \n",
       "Q 48.6875 17.390625 48.6875 27.296875 \n",
       "z\n",
       "\" id=\"DejaVuSans-112\"/>\n",
       "      <path d=\"M 41.109375 46.296875 \n",
       "Q 39.59375 47.171875 37.8125 47.578125 \n",
       "Q 36.03125 48 33.890625 48 \n",
       "Q 26.265625 48 22.1875 43.046875 \n",
       "Q 18.109375 38.09375 18.109375 28.8125 \n",
       "L 18.109375 0 \n",
       "L 9.078125 0 \n",
       "L 9.078125 54.6875 \n",
       "L 18.109375 54.6875 \n",
       "L 18.109375 46.1875 \n",
       "Q 20.953125 51.171875 25.484375 53.578125 \n",
       "Q 30.03125 56 36.53125 56 \n",
       "Q 37.453125 56 38.578125 55.875 \n",
       "Q 39.703125 55.765625 41.0625 55.515625 \n",
       "z\n",
       "\" id=\"DejaVuSans-114\"/>\n",
       "      <path d=\"M 30.609375 48.390625 \n",
       "Q 23.390625 48.390625 19.1875 42.75 \n",
       "Q 14.984375 37.109375 14.984375 27.296875 \n",
       "Q 14.984375 17.484375 19.15625 11.84375 \n",
       "Q 23.34375 6.203125 30.609375 6.203125 \n",
       "Q 37.796875 6.203125 41.984375 11.859375 \n",
       "Q 46.1875 17.53125 46.1875 27.296875 \n",
       "Q 46.1875 37.015625 41.984375 42.703125 \n",
       "Q 37.796875 48.390625 30.609375 48.390625 \n",
       "z\n",
       "M 30.609375 56 \n",
       "Q 42.328125 56 49.015625 48.375 \n",
       "Q 55.71875 40.765625 55.71875 27.296875 \n",
       "Q 55.71875 13.875 49.015625 6.21875 \n",
       "Q 42.328125 -1.421875 30.609375 -1.421875 \n",
       "Q 18.84375 -1.421875 12.171875 6.21875 \n",
       "Q 5.515625 13.875 5.515625 27.296875 \n",
       "Q 5.515625 40.765625 12.171875 48.375 \n",
       "Q 18.84375 56 30.609375 56 \n",
       "z\n",
       "\" id=\"DejaVuSans-111\"/>\n",
       "      <path d=\"M 45.40625 27.984375 \n",
       "Q 45.40625 37.75 41.375 43.109375 \n",
       "Q 37.359375 48.484375 30.078125 48.484375 \n",
       "Q 22.859375 48.484375 18.828125 43.109375 \n",
       "Q 14.796875 37.75 14.796875 27.984375 \n",
       "Q 14.796875 18.265625 18.828125 12.890625 \n",
       "Q 22.859375 7.515625 30.078125 7.515625 \n",
       "Q 37.359375 7.515625 41.375 12.890625 \n",
       "Q 45.40625 18.265625 45.40625 27.984375 \n",
       "z\n",
       "M 54.390625 6.78125 \n",
       "Q 54.390625 -7.171875 48.1875 -13.984375 \n",
       "Q 42 -20.796875 29.203125 -20.796875 \n",
       "Q 24.46875 -20.796875 20.265625 -20.09375 \n",
       "Q 16.0625 -19.390625 12.109375 -17.921875 \n",
       "L 12.109375 -9.1875 \n",
       "Q 16.0625 -11.328125 19.921875 -12.34375 \n",
       "Q 23.78125 -13.375 27.78125 -13.375 \n",
       "Q 36.625 -13.375 41.015625 -8.765625 \n",
       "Q 45.40625 -4.15625 45.40625 5.171875 \n",
       "L 45.40625 9.625 \n",
       "Q 42.625 4.78125 38.28125 2.390625 \n",
       "Q 33.9375 0 27.875 0 \n",
       "Q 17.828125 0 11.671875 7.65625 \n",
       "Q 5.515625 15.328125 5.515625 27.984375 \n",
       "Q 5.515625 40.671875 11.671875 48.328125 \n",
       "Q 17.828125 56 27.875 56 \n",
       "Q 33.9375 56 38.28125 53.609375 \n",
       "Q 42.625 51.21875 45.40625 46.390625 \n",
       "L 45.40625 54.6875 \n",
       "L 54.390625 54.6875 \n",
       "z\n",
       "\" id=\"DejaVuSans-103\"/>\n",
       "      <path d=\"M 44.28125 53.078125 \n",
       "L 44.28125 44.578125 \n",
       "Q 40.484375 46.53125 36.375 47.5 \n",
       "Q 32.28125 48.484375 27.875 48.484375 \n",
       "Q 21.1875 48.484375 17.84375 46.4375 \n",
       "Q 14.5 44.390625 14.5 40.28125 \n",
       "Q 14.5 37.15625 16.890625 35.375 \n",
       "Q 19.28125 33.59375 26.515625 31.984375 \n",
       "L 29.59375 31.296875 \n",
       "Q 39.15625 29.25 43.1875 25.515625 \n",
       "Q 47.21875 21.78125 47.21875 15.09375 \n",
       "Q 47.21875 7.46875 41.1875 3.015625 \n",
       "Q 35.15625 -1.421875 24.609375 -1.421875 \n",
       "Q 20.21875 -1.421875 15.453125 -0.5625 \n",
       "Q 10.6875 0.296875 5.421875 2 \n",
       "L 5.421875 11.28125 \n",
       "Q 10.40625 8.6875 15.234375 7.390625 \n",
       "Q 20.0625 6.109375 24.8125 6.109375 \n",
       "Q 31.15625 6.109375 34.5625 8.28125 \n",
       "Q 37.984375 10.453125 37.984375 14.40625 \n",
       "Q 37.984375 18.0625 35.515625 20.015625 \n",
       "Q 33.0625 21.96875 24.703125 23.78125 \n",
       "L 21.578125 24.515625 \n",
       "Q 13.234375 26.265625 9.515625 29.90625 \n",
       "Q 5.8125 33.546875 5.8125 39.890625 \n",
       "Q 5.8125 47.609375 11.28125 51.796875 \n",
       "Q 16.75 56 26.8125 56 \n",
       "Q 31.78125 56 36.171875 55.265625 \n",
       "Q 40.578125 54.546875 44.28125 53.078125 \n",
       "z\n",
       "\" id=\"DejaVuSans-115\"/>\n",
       "     </defs>\n",
       "     <g transform=\"translate(14.778125 171.58)rotate(-90)scale(0.1 -0.1)\">\n",
       "      <use transform=\"translate(0 0.9375)\" xlink:href=\"#DejaVuSans-Oblique-949\"/>\n",
       "      <use transform=\"translate(54.052734 0.9375)\" xlink:href=\"#DejaVuSans-32\"/>\n",
       "      <use transform=\"translate(85.839844 0.9375)\" xlink:href=\"#DejaVuSans-112\"/>\n",
       "      <use transform=\"translate(149.316406 0.9375)\" xlink:href=\"#DejaVuSans-114\"/>\n",
       "      <use transform=\"translate(190.429688 0.9375)\" xlink:href=\"#DejaVuSans-111\"/>\n",
       "      <use transform=\"translate(251.611328 0.9375)\" xlink:href=\"#DejaVuSans-103\"/>\n",
       "      <use transform=\"translate(315.087891 0.9375)\" xlink:href=\"#DejaVuSans-114\"/>\n",
       "      <use transform=\"translate(356.201172 0.9375)\" xlink:href=\"#DejaVuSans-101\"/>\n",
       "      <use transform=\"translate(417.724609 0.9375)\" xlink:href=\"#DejaVuSans-115\"/>\n",
       "      <use transform=\"translate(469.824219 0.9375)\" xlink:href=\"#DejaVuSans-115\"/>\n",
       "     </g>\n",
       "    </g>\n",
       "   </g>\n",
       "   <g id=\"line2d_15\">\n",
       "    <path clip-path=\"url(#pe5cd4418d2)\" d=\"M 68.546307 244.316364 \n",
       "L 70.099975 239.277088 \n",
       "L 87.112644 207.425061 \n",
       "L 104.156386 188.218764 \n",
       "L 121.200128 171.104242 \n",
       "L 138.259407 154.560205 \n",
       "L 155.303149 142.199717 \n",
       "L 172.377965 128.983503 \n",
       "L 189.31295 114.62632 \n",
       "L 206.310082 101.98059 \n",
       "L 223.322751 87.052924 \n",
       "L 260.859379 85.816875 \n",
       "L 310.918575 69.938402 \n",
       "L 360.962233 46.643636 \n",
       "\" style=\"fill:none;stroke:#1f77b4;stroke-linecap:square;stroke-width:1.5;\"/>\n",
       "   </g>\n",
       "   <g id=\"line2d_16\">\n",
       "    <path clip-path=\"url(#pe5cd4418d2)\" d=\"M 68.546307 244.316364 \n",
       "L 70.099975 240.322975 \n",
       "L 87.097107 208.470948 \n",
       "L 104.140849 181.182794 \n",
       "L 121.153518 163.497788 \n",
       "L 138.228334 150.566816 \n",
       "L 155.225466 139.062054 \n",
       "L 172.175988 126.796647 \n",
       "L 189.188657 115.386966 \n",
       "L 206.154716 104.072365 \n",
       "L 223.105238 95.800346 \n",
       "L 246.75207 95.800346 \n",
       "L 278.291539 90.380748 \n",
       "L 309.831007 84.580826 \n",
       "L 341.370475 73.361307 \n",
       "L 372.909943 59.574608 \n",
       "\" style=\"fill:none;stroke:#ff7f0e;stroke-linecap:square;stroke-width:1.5;\"/>\n",
       "   </g>\n",
       "   <g id=\"line2d_17\">\n",
       "    <path clip-path=\"url(#pe5cd4418d2)\" d=\"M 68.546307 244.316364 \n",
       "L 70.099975 240.703298 \n",
       "L 87.112644 212.84466 \n",
       "L 104.171923 183.084408 \n",
       "L 121.153518 162.35682 \n",
       "L 138.228334 147.999638 \n",
       "L 153.765018 136.875199 \n",
       "L 170.777686 121.757371 \n",
       "L 187.790355 112.249303 \n",
       "L 204.818561 105.213333 \n",
       "L 221.738009 99.318331 \n",
       "L 244.545861 98.842928 \n",
       "L 272.853699 93.898733 \n",
       "L 301.192611 87.90865 \n",
       "L 329.531522 79.066147 \n",
       "L 357.870433 62.712271 \n",
       "\" style=\"fill:none;stroke:#2ca02c;stroke-linecap:square;stroke-width:1.5;\"/>\n",
       "   </g>\n",
       "   <g id=\"patch_3\">\n",
       "    <path d=\"M 53.328125 254.2 \n",
       "L 53.328125 36.76 \n",
       "\" style=\"fill:none;stroke:#000000;stroke-linecap:square;stroke-linejoin:miter;stroke-width:0.8;\"/>\n",
       "   </g>\n",
       "   <g id=\"patch_4\">\n",
       "    <path d=\"M 388.128125 254.2 \n",
       "L 388.128125 36.76 \n",
       "\" style=\"fill:none;stroke:#000000;stroke-linecap:square;stroke-linejoin:miter;stroke-width:0.8;\"/>\n",
       "   </g>\n",
       "   <g id=\"patch_5\">\n",
       "    <path d=\"M 53.328125 254.2 \n",
       "L 388.128125 254.2 \n",
       "\" style=\"fill:none;stroke:#000000;stroke-linecap:square;stroke-linejoin:miter;stroke-width:0.8;\"/>\n",
       "   </g>\n",
       "   <g id=\"patch_6\">\n",
       "    <path d=\"M 53.328125 36.76 \n",
       "L 388.128125 36.76 \n",
       "\" style=\"fill:none;stroke:#000000;stroke-linecap:square;stroke-linejoin:miter;stroke-width:0.8;\"/>\n",
       "   </g>\n",
       "  </g>\n",
       "  <g id=\"legend_1\">\n",
       "   <g id=\"patch_7\">\n",
       "    <path d=\"M 342.653125 52.034375 \n",
       "L 426.528125 52.034375 \n",
       "Q 428.528125 52.034375 428.528125 50.034375 \n",
       "L 428.528125 7 \n",
       "Q 428.528125 5 426.528125 5 \n",
       "L 342.653125 5 \n",
       "Q 340.653125 5 340.653125 7 \n",
       "L 340.653125 50.034375 \n",
       "Q 340.653125 52.034375 342.653125 52.034375 \n",
       "z\n",
       "\" style=\"fill:#ffffff;opacity:0.8;stroke:#cccccc;stroke-linejoin:miter;\"/>\n",
       "   </g>\n",
       "   <g id=\"line2d_18\">\n",
       "    <path d=\"M 344.653125 13.098437 \n",
       "L 364.653125 13.098437 \n",
       "\" style=\"fill:none;stroke:#1f77b4;stroke-linecap:square;stroke-width:1.5;\"/>\n",
       "   </g>\n",
       "   <g id=\"line2d_19\"/>\n",
       "   <g id=\"text_17\">\n",
       "    <!-- scenario 0 -->\n",
       "    <defs>\n",
       "     <path d=\"M 48.78125 52.59375 \n",
       "L 48.78125 44.1875 \n",
       "Q 44.96875 46.296875 41.140625 47.34375 \n",
       "Q 37.3125 48.390625 33.40625 48.390625 \n",
       "Q 24.65625 48.390625 19.8125 42.84375 \n",
       "Q 14.984375 37.3125 14.984375 27.296875 \n",
       "Q 14.984375 17.28125 19.8125 11.734375 \n",
       "Q 24.65625 6.203125 33.40625 6.203125 \n",
       "Q 37.3125 6.203125 41.140625 7.25 \n",
       "Q 44.96875 8.296875 48.78125 10.40625 \n",
       "L 48.78125 2.09375 \n",
       "Q 45.015625 0.34375 40.984375 -0.53125 \n",
       "Q 36.96875 -1.421875 32.421875 -1.421875 \n",
       "Q 20.0625 -1.421875 12.78125 6.34375 \n",
       "Q 5.515625 14.109375 5.515625 27.296875 \n",
       "Q 5.515625 40.671875 12.859375 48.328125 \n",
       "Q 20.21875 56 33.015625 56 \n",
       "Q 37.15625 56 41.109375 55.140625 \n",
       "Q 45.0625 54.296875 48.78125 52.59375 \n",
       "z\n",
       "\" id=\"DejaVuSans-99\"/>\n",
       "     <path d=\"M 34.28125 27.484375 \n",
       "Q 23.390625 27.484375 19.1875 25 \n",
       "Q 14.984375 22.515625 14.984375 16.5 \n",
       "Q 14.984375 11.71875 18.140625 8.90625 \n",
       "Q 21.296875 6.109375 26.703125 6.109375 \n",
       "Q 34.1875 6.109375 38.703125 11.40625 \n",
       "Q 43.21875 16.703125 43.21875 25.484375 \n",
       "L 43.21875 27.484375 \n",
       "z\n",
       "M 52.203125 31.203125 \n",
       "L 52.203125 0 \n",
       "L 43.21875 0 \n",
       "L 43.21875 8.296875 \n",
       "Q 40.140625 3.328125 35.546875 0.953125 \n",
       "Q 30.953125 -1.421875 24.3125 -1.421875 \n",
       "Q 15.921875 -1.421875 10.953125 3.296875 \n",
       "Q 6 8.015625 6 15.921875 \n",
       "Q 6 25.140625 12.171875 29.828125 \n",
       "Q 18.359375 34.515625 30.609375 34.515625 \n",
       "L 43.21875 34.515625 \n",
       "L 43.21875 35.40625 \n",
       "Q 43.21875 41.609375 39.140625 45 \n",
       "Q 35.0625 48.390625 27.6875 48.390625 \n",
       "Q 23 48.390625 18.546875 47.265625 \n",
       "Q 14.109375 46.140625 10.015625 43.890625 \n",
       "L 10.015625 52.203125 \n",
       "Q 14.9375 54.109375 19.578125 55.046875 \n",
       "Q 24.21875 56 28.609375 56 \n",
       "Q 40.484375 56 46.34375 49.84375 \n",
       "Q 52.203125 43.703125 52.203125 31.203125 \n",
       "z\n",
       "\" id=\"DejaVuSans-97\"/>\n",
       "     <path d=\"M 9.421875 54.6875 \n",
       "L 18.40625 54.6875 \n",
       "L 18.40625 0 \n",
       "L 9.421875 0 \n",
       "z\n",
       "M 9.421875 75.984375 \n",
       "L 18.40625 75.984375 \n",
       "L 18.40625 64.59375 \n",
       "L 9.421875 64.59375 \n",
       "z\n",
       "\" id=\"DejaVuSans-105\"/>\n",
       "    </defs>\n",
       "    <g transform=\"translate(372.653125 16.598437)scale(0.1 -0.1)\">\n",
       "     <use xlink:href=\"#DejaVuSans-115\"/>\n",
       "     <use x=\"52.099609\" xlink:href=\"#DejaVuSans-99\"/>\n",
       "     <use x=\"107.080078\" xlink:href=\"#DejaVuSans-101\"/>\n",
       "     <use x=\"168.603516\" xlink:href=\"#DejaVuSans-110\"/>\n",
       "     <use x=\"231.982422\" xlink:href=\"#DejaVuSans-97\"/>\n",
       "     <use x=\"293.261719\" xlink:href=\"#DejaVuSans-114\"/>\n",
       "     <use x=\"334.375\" xlink:href=\"#DejaVuSans-105\"/>\n",
       "     <use x=\"362.158203\" xlink:href=\"#DejaVuSans-111\"/>\n",
       "     <use x=\"423.339844\" xlink:href=\"#DejaVuSans-32\"/>\n",
       "     <use x=\"455.126953\" xlink:href=\"#DejaVuSans-48\"/>\n",
       "    </g>\n",
       "   </g>\n",
       "   <g id=\"line2d_20\">\n",
       "    <path d=\"M 344.653125 27.776563 \n",
       "L 364.653125 27.776563 \n",
       "\" style=\"fill:none;stroke:#ff7f0e;stroke-linecap:square;stroke-width:1.5;\"/>\n",
       "   </g>\n",
       "   <g id=\"line2d_21\"/>\n",
       "   <g id=\"text_18\">\n",
       "    <!-- scenario 1 -->\n",
       "    <g transform=\"translate(372.653125 31.276563)scale(0.1 -0.1)\">\n",
       "     <use xlink:href=\"#DejaVuSans-115\"/>\n",
       "     <use x=\"52.099609\" xlink:href=\"#DejaVuSans-99\"/>\n",
       "     <use x=\"107.080078\" xlink:href=\"#DejaVuSans-101\"/>\n",
       "     <use x=\"168.603516\" xlink:href=\"#DejaVuSans-110\"/>\n",
       "     <use x=\"231.982422\" xlink:href=\"#DejaVuSans-97\"/>\n",
       "     <use x=\"293.261719\" xlink:href=\"#DejaVuSans-114\"/>\n",
       "     <use x=\"334.375\" xlink:href=\"#DejaVuSans-105\"/>\n",
       "     <use x=\"362.158203\" xlink:href=\"#DejaVuSans-111\"/>\n",
       "     <use x=\"423.339844\" xlink:href=\"#DejaVuSans-32\"/>\n",
       "     <use x=\"455.126953\" xlink:href=\"#DejaVuSans-49\"/>\n",
       "    </g>\n",
       "   </g>\n",
       "   <g id=\"line2d_22\">\n",
       "    <path d=\"M 344.653125 42.454687 \n",
       "L 364.653125 42.454687 \n",
       "\" style=\"fill:none;stroke:#2ca02c;stroke-linecap:square;stroke-width:1.5;\"/>\n",
       "   </g>\n",
       "   <g id=\"line2d_23\"/>\n",
       "   <g id=\"text_19\">\n",
       "    <!-- scenario 2 -->\n",
       "    <g transform=\"translate(372.653125 45.954687)scale(0.1 -0.1)\">\n",
       "     <use xlink:href=\"#DejaVuSans-115\"/>\n",
       "     <use x=\"52.099609\" xlink:href=\"#DejaVuSans-99\"/>\n",
       "     <use x=\"107.080078\" xlink:href=\"#DejaVuSans-101\"/>\n",
       "     <use x=\"168.603516\" xlink:href=\"#DejaVuSans-110\"/>\n",
       "     <use x=\"231.982422\" xlink:href=\"#DejaVuSans-97\"/>\n",
       "     <use x=\"293.261719\" xlink:href=\"#DejaVuSans-114\"/>\n",
       "     <use x=\"334.375\" xlink:href=\"#DejaVuSans-105\"/>\n",
       "     <use x=\"362.158203\" xlink:href=\"#DejaVuSans-111\"/>\n",
       "     <use x=\"423.339844\" xlink:href=\"#DejaVuSans-32\"/>\n",
       "     <use x=\"455.126953\" xlink:href=\"#DejaVuSans-50\"/>\n",
       "    </g>\n",
       "   </g>\n",
       "  </g>\n",
       " </g>\n",
       " <defs>\n",
       "  <clipPath id=\"pe5cd4418d2\">\n",
       "   <rect height=\"217.44\" width=\"334.8\" x=\"53.328125\" y=\"36.76\"/>\n",
       "  </clipPath>\n",
       " </defs>\n",
       "</svg>\n"
      ],
      "text/plain": [
       "<Figure size 432x288 with 1 Axes>"
      ]
     },
     "metadata": {
      "needs_background": "light"
     },
     "output_type": "display_data"
    }
   ],
   "source": [
    "fig, (ax2) = plt.subplots(ncols=1)\n",
    "for i, (_, convergence) in enumerate(results):\n",
    "    ax2.plot(convergence[\"nfe\"], convergence[\"epsilon_progress\"], label=f'scenario {i}')\n",
    "\n",
    "ax2.set_ylabel('$\\epsilon$ progress')\n",
    "ax2.set_xlabel('nfe')\n",
    "fig.legend()\n",
    "plt.show()"
   ]
  },
  {
   "cell_type": "markdown",
   "metadata": {},
   "source": [
    "As we can see, the algorithm shows a similar convergence behavior across all three reference case scenarios. It does however not fully converge, which - in further research - should be improved upon. "
   ]
  },
  {
   "cell_type": "markdown",
   "metadata": {},
   "source": [
    "## Selection of promising policies\n",
    "We now again continue to select promising policies, first by plotting the trade-offs involved and then by subsetting the policies based on thresholds. "
   ]
  },
  {
   "cell_type": "code",
   "execution_count": 133,
   "metadata": {},
   "outputs": [],
   "source": [
    "#Make a dataframe out of all results\n",
    "ms_results_df = pd.concat([results[0][0],results[1][0], results[2][0]], axis=0)\n",
    "ms_results_df = ms_results_df.reset_index(drop=True)"
   ]
  },
  {
   "cell_type": "code",
   "execution_count": 135,
   "metadata": {},
   "outputs": [],
   "source": [
    "#fig4 = px.parallel_coordinates(ms_results_df, labels= {\"A1_2 Aggr Expected Annual Damage\" : \"A1 & 2 Damage\", \"A3 Expected Annual Damage\" : \"A3 Damage\", \"A1_2 Aggr Expected Number of Deaths\" : \"A1 & 2 Casualties\", \"A3 Aggr Expected Number of Deaths\" : \"A3 Casualties\", \"A1_5 Dike Investment Costs\" : \"Investment Costs\", \"Room for River Investment Costs\" : \"RfR Investment Costs\"}, color = ms_results_df.index, dimensions= [\"A1_2 Aggr Expected Annual Damage\", \"A3 Expected Annual Damage\", \"A1_2 Aggr Expected Number of Deaths\",\"A3 Aggr Expected Number of Deaths\", \"A1_5 Dike Investment Costs\", \"Room for River Investment Costs\"])\n",
    "#fig4.show()"
   ]
  },
  {
   "cell_type": "markdown",
   "metadata": {},
   "source": [
    "We can observe similar trade-offs as before, however, the newly found policies overall show a much better performance when it comes to casualties and damages. \n",
    "\n",
    "![Tradeoffs](../figures/Gelderland_Tradeoffs_3ReferenceScenario.png)\n"
   ]
  },
  {
   "cell_type": "markdown",
   "metadata": {},
   "source": [
    "## Selection of promising policies\n",
    "We select from the solutions found only these which lead to no expected deaths, no expected damage and no evacuation costs. From these selection onwards, due to comparability with the other notebooks and computational resources, we select the 10 policies with lowest total costs (Dike investment costs and Room for River costs combined)"
   ]
  },
  {
   "cell_type": "code",
   "execution_count": 8,
   "metadata": {},
   "outputs": [],
   "source": [
    "ms_results_subset = ms_results_df[\n",
    "    ((ms_results_df[\"A1_2 Aggr Expected Number of Deaths\"] + ms_results_df[\"A3 Aggr Expected Number of Deaths\"]) == 0) &\n",
    "    ((ms_results_df[\"A1_2 Aggr Expected Annual Damage\"] + ms_results_df[\"A3 Expected Annual Damage\"]) == 0) &\n",
    "    ((ms_results_df[\"Evacuation Costs\"] + ms_results_df[\"Evacuation Costs\"]) == 0) ]\n",
    "\n",
    "ms_results_subset[\"Total Costs\"] = ms_results_subset[\"A1_5 Dike Investment Costs\"] + ms_results_subset[\"Room for River Investment Costs\"] \n"
   ]
  },
  {
   "cell_type": "code",
   "execution_count": 10,
   "metadata": {},
   "outputs": [],
   "source": [
    "#Select only the 10 cheapest policies in terms of total costs. \n",
    "ms_results_subset = ms_results_subset.sort_values(\"Total Costs\").head(10)\n",
    "ms_policies = ms_results_subset.iloc[:,0:31]\n",
    "ms_policies_to_evaluate = []\n",
    "\n",
    "for i, policy in ms_policies.iterrows():\n",
    "    ms_policies_to_evaluate.append(Policy(str(i), **policy.to_dict()))"
   ]
  },
  {
   "cell_type": "markdown",
   "metadata": {},
   "source": [
    "## Re-evaluation under deep uncertainty\n",
    "We now re-evalute the 10 policies seleted under deep uncertainty by running 1000 scenarios sampled by latin hypercube for each policy. We then determine the robustness of each policy to come to a feasible policy advice."
   ]
  },
  {
   "cell_type": "code",
   "execution_count": 11,
   "metadata": {
    "tags": []
   },
   "outputs": [
    {
     "name": "stderr",
     "output_type": "stream",
     "text": [
      "[MainProcess/INFO] pool started\n",
      "[MainProcess/INFO] performing 1000 scenarios * 10 policies * 1 model(s) = 10000 experiments\n",
      "[MainProcess/INFO] 1000 cases completed\n",
      "[MainProcess/INFO] 2000 cases completed\n",
      "[MainProcess/INFO] 3000 cases completed\n",
      "[MainProcess/INFO] 4000 cases completed\n",
      "[MainProcess/INFO] 5000 cases completed\n",
      "[MainProcess/INFO] 6000 cases completed\n",
      "[MainProcess/INFO] 7000 cases completed\n",
      "[MainProcess/INFO] 8000 cases completed\n",
      "[MainProcess/INFO] 9000 cases completed\n",
      "[MainProcess/INFO] 10000 cases completed\n",
      "[MainProcess/INFO] experiments finished\n",
      "[MainProcess/INFO] terminating pool\n"
     ]
    },
    {
     "ename": "TypeError",
     "evalue": "can only concatenate str (not \"int\") to str",
     "output_type": "error",
     "traceback": [
      "\u001b[0;31m---------------------------------------------------------------------------\u001b[0m",
      "\u001b[0;31mTypeError\u001b[0m                                 Traceback (most recent call last)",
      "\u001b[0;32m<ipython-input-11-b47407a5dc52>\u001b[0m in \u001b[0;36m<module>\u001b[0;34m\u001b[0m\n\u001b[1;32m      5\u001b[0m \u001b[0;34m\u001b[0m\u001b[0m\n\u001b[1;32m      6\u001b[0m \u001b[0;31m#Save results\u001b[0m\u001b[0;34m\u001b[0m\u001b[0;34m\u001b[0m\u001b[0;34m\u001b[0m\u001b[0m\n\u001b[0;32m----> 7\u001b[0;31m \u001b[0msave_results\u001b[0m\u001b[0;34m(\u001b[0m\u001b[0mresults\u001b[0m\u001b[0;34m,\u001b[0m \u001b[0;34m\"../results/Multi_Scenario_DeepUncertainty\"\u001b[0m\u001b[0;34m+\u001b[0m\u001b[0mlen\u001b[0m\u001b[0;34m(\u001b[0m\u001b[0mms_policies_to_evaluate\u001b[0m\u001b[0;34m)\u001b[0m\u001b[0;34m+\u001b[0m\u001b[0;34m\"policies_\"\u001b[0m\u001b[0;34m+\u001b[0m\u001b[0mstr\u001b[0m\u001b[0;34m(\u001b[0m\u001b[0mn_scenarios\u001b[0m\u001b[0;34m)\u001b[0m\u001b[0;34m+\u001b[0m\u001b[0;34m\"scenarios_\"\u001b[0m\u001b[0;34m+\u001b[0m\u001b[0mprovince\u001b[0m\u001b[0;34m+\u001b[0m\u001b[0;34m\".tar.gz\"\u001b[0m\u001b[0;34m)\u001b[0m\u001b[0;34m\u001b[0m\u001b[0;34m\u001b[0m\u001b[0m\n\u001b[0m",
      "\u001b[0;31mTypeError\u001b[0m: can only concatenate str (not \"int\") to str"
     ]
    }
   ],
   "source": [
    "ema_logging.log_to_stderr(ema_logging.INFO)\n",
    "\n",
    "with MultiprocessingEvaluator(dike_model) as evaluator:\n",
    "    results = evaluator.perform_experiments(n_scenarios, ms_policies_to_evaluate)\n",
    "\n",
    "#Save results\n",
    "save_results(results, \"../results/Multi_Scenario_DeepUncertainty\"+str(len(ms_policies_to_evaluate))+\"policies_\"+str(n_scenarios)+\"scenarios_\"+province+\".tar.gz\")"
   ]
  },
  {
   "cell_type": "code",
   "execution_count": 12,
   "metadata": {
    "tags": []
   },
   "outputs": [
    {
     "name": "stderr",
     "output_type": "stream",
     "text": [
      "[MainProcess/INFO] results saved successfully to /Users/ricoherzog/OneDrive/Uni/2019-2020 WiSe Den Haag/Q4/EPA1361 Model Based Decision Making/05_Project/model-based-decision-making/results/Multi_Scenario_DeepUncertainty10policies_1000scenarios_Gelderland.tar.gz\n"
     ]
    }
   ],
   "source": [
    "save_results(results, \"../results/Multi_Scenario_DeepUncertainty\"+str(len(ms_policies_to_evaluate))+\"policies_\"+str(n_scenarios)+\"scenarios_\"+province+\".tar.gz\")"
   ]
  },
  {
   "cell_type": "code",
   "execution_count": 136,
   "metadata": {
    "tags": []
   },
   "outputs": [
    {
     "name": "stderr",
     "output_type": "stream",
     "text": [
      "[MainProcess/INFO] results loaded succesfully from /Users/ricoherzog/OneDrive/Uni/2019-2020 WiSe Den Haag/Q4/EPA1361 Model Based Decision Making/05_Project/model-based-decision-making/results/Multi_Scenario_DeepUncertainty10policies_1000scenarios_Gelderland.tar.gz\n"
     ]
    }
   ],
   "source": [
    "#Load results\n",
    "reevaluation_results = load_results(\"../results/Multi_Scenario_DeepUncertainty10policies_1000scenarios_Gelderland.tar.gz\")"
   ]
  },
  {
   "cell_type": "code",
   "execution_count": 138,
   "metadata": {},
   "outputs": [],
   "source": [
    "#Show results\n",
    "experiments, outcomes = reevaluation_results\n",
    "reevaluation_df = pd.concat([pd.DataFrame(experiments), pd.DataFrame(outcomes)], axis = 1)\n",
    "#fig5 = px.parallel_coordinates(reevaluation_df.groupby(\"policy\").mean().iloc[:,11:42], color = range(10), width=2500, height=400)\n",
    "#fig5.show()"
   ]
  },
  {
   "cell_type": "markdown",
   "metadata": {},
   "source": [
    "We can see in the parallell coordinated plot, that the 10 policies selected show quite some variation. This means that the province of Gelderland has multiple options to effectively protect their citizens. \n",
    "\n",
    "![](../figures/Gelderland_all_Policies.png )\n",
    "\n",
    "As this display of policies is rather messy, we display the 10 promising polices aggregated on timesteps."
   ]
  },
  {
   "cell_type": "code",
   "execution_count": 84,
   "metadata": {},
   "outputs": [],
   "source": [
    "robust_policies_agg = pd.DataFrame(columns=[\"RfR 0\", \"RfR 1\", \"RfR 2\", \"RfR 3\", \"RfR 4\", \"EWS\", \"A1 Increase\", \"A2 Increase\", \"A3 Increase\", \"A4 Increase\", \"A5 Increase\"])\n",
    "robust_policies_agg[\"RfR 0\"] = robust_policies[\"0_RfR 0\"] + robust_policies[\"0_RfR 1\"] + robust_policies[\"0_RfR 2\"]\n",
    "robust_policies_agg[\"RfR 1\"] = robust_policies[\"1_RfR 0\"] + robust_policies[\"1_RfR 1\"] + robust_policies[\"1_RfR 2\"]\n",
    "robust_policies_agg[\"RfR 2\"] = robust_policies[\"2_RfR 0\"] + robust_policies[\"2_RfR 1\"] + robust_policies[\"2_RfR 2\"]\n",
    "robust_policies_agg[\"RfR 3\"] = robust_policies[\"3_RfR 0\"] + robust_policies[\"3_RfR 1\"] + robust_policies[\"3_RfR 2\"]\n",
    "robust_policies_agg[\"RfR 4\"] = robust_policies[\"4_RfR 0\"] + robust_policies[\"4_RfR 1\"] + robust_policies[\"4_RfR 2\"]\n",
    "robust_policies_agg[\"EWS\"] = robust_policies[\"EWS_DaysToThreat\"]\n",
    "robust_policies_agg[\"A1 Increase\"] = robust_policies[\"A.1_DikeIncrease 0\"] + robust_policies[\"A.1_DikeIncrease 1\"] + robust_policies[\"A.1_DikeIncrease 2\"]\n",
    "robust_policies_agg[\"A2 Increase\"] = robust_policies[\"A.2_DikeIncrease 0\"] + robust_policies[\"A.2_DikeIncrease 1\"] + robust_policies[\"A.2_DikeIncrease 2\"]\n",
    "robust_policies_agg[\"A3 Increase\"] = robust_policies[\"A.3_DikeIncrease 0\"] + robust_policies[\"A.3_DikeIncrease 1\"] + robust_policies[\"A.3_DikeIncrease 2\"]\n",
    "robust_policies_agg[\"A4 Increase\"] = robust_policies[\"A.4_DikeIncrease 0\"] + robust_policies[\"A.4_DikeIncrease 1\"] + robust_policies[\"A.4_DikeIncrease 2\"]\n",
    "robust_policies_agg[\"A5 Increase\"] = robust_policies[\"A.5_DikeIncrease 0\"] + robust_policies[\"A.5_DikeIncrease 1\"] + robust_policies[\"A.5_DikeIncrease 2\"]\n"
   ]
  },
  {
   "cell_type": "code",
   "execution_count": 140,
   "metadata": {},
   "outputs": [],
   "source": [
    "#fig6 = px.parallel_coordinates(robust_policies_agg, color = range(10), width=1500, height=400, dimensions=[\"RfR 0\", \"RfR 1\", \"RfR 2\", \"RfR 3\", \"RfR 4\", \"A1 Increase\", \"A2 Increase\", \"A3 Increase\", \"A4 Increase\", \"A5 Increase\"])\n",
    "#fig6.show()"
   ]
  },
  {
   "cell_type": "markdown",
   "metadata": {
    "tags": []
   },
   "source": [
    "![](../figures/Gelderland_PromisingPolicies.png )"
   ]
  },
  {
   "cell_type": "markdown",
   "metadata": {},
   "source": [
    "## Robustness Assessment\n",
    "### Domain criterion\n",
    "For the last robustness assessment, we chose the domain criterion to assess the percentage of scenarios which fail to meet a certain outcome.  "
   ]
  },
  {
   "cell_type": "code",
   "execution_count": 142,
   "metadata": {},
   "outputs": [],
   "source": [
    "domain_criterion = pd.DataFrame(columns=[\"policy\", \"A1_2 Damage\", \"A3 Damage\", \"A1_2 Deaths\", \"A3 Deaths\", \"Evacuation Costs\"])\n",
    "\n",
    "for policy in reevaluation_df[\"policy\"].unique():\n",
    "    policy_subset = reevaluation_df[reevaluation_df[\"policy\"] == policy]\n",
    "\n",
    "    a12_damage_dc = len(policy_subset[\"A1_2 Aggr Expected Annual Damage\"][policy_subset[\"A1_2 Aggr Expected Annual Damage\"] > 0])/1000\n",
    "    a3_damage_dc = len(policy_subset[\"A3 Expected Annual Damage\"][policy_subset[\"A3 Expected Annual Damage\"] > 0])/1000\n",
    "    a12_deaths_dc = len(policy_subset[\"A1_2 Aggr Expected Number of Deaths\"][policy_subset[\"A1_2 Aggr Expected Number of Deaths\"] > 0])/1000\n",
    "    a3_deaths_dc = len(policy_subset[\"A3 Aggr Expected Number of Deaths\"][policy_subset[\"A3 Aggr Expected Number of Deaths\"] > 0])/1000\n",
    "    evac_costs = len(policy_subset[\"Evacuation Costs\"][policy_subset[\"Evacuation Costs\"] > 0])/1000\n",
    "\n",
    "    domain_criterion = domain_criterion.append(pd.DataFrame({\"policy\": [policy],\"A1_2 Damage\": [a12_damage_dc], \"A3 Damage\" : [a3_damage_dc], \"A1_2 Deaths\" : [a12_deaths_dc], \"A3 Deaths\" : [a3_deaths_dc], \"Evacuation Costs\" : [evac_costs]}) )\n",
    "\n",
    "domain_criterion = domain_criterion.reset_index(drop=True)"
   ]
  },
  {
   "cell_type": "code",
   "execution_count": 143,
   "metadata": {},
   "outputs": [],
   "source": [
    "policy_costs = reevaluation_df.groupby(\"policy\").mean()\n",
    "policy_costs[\"Total Costs\"] = policy_costs[\"A1_5 Dike Investment Costs\"] +  policy_costs[\"Room for River Investment Costs\"]\n",
    "domain_criterion_costs = pd.merge(domain_criterion, policy_costs[[\"Total Costs\"]], how=\"left\", on=\"policy\")\n"
   ]
  },
  {
   "cell_type": "code",
   "execution_count": 144,
   "metadata": {},
   "outputs": [
    {
     "data": {
      "text/html": [
       "<div>\n",
       "<style scoped>\n",
       "    .dataframe tbody tr th:only-of-type {\n",
       "        vertical-align: middle;\n",
       "    }\n",
       "\n",
       "    .dataframe tbody tr th {\n",
       "        vertical-align: top;\n",
       "    }\n",
       "\n",
       "    .dataframe thead th {\n",
       "        text-align: right;\n",
       "    }\n",
       "</style>\n",
       "<table border=\"1\" class=\"dataframe\">\n",
       "  <thead>\n",
       "    <tr style=\"text-align: right;\">\n",
       "      <th></th>\n",
       "      <th>policy</th>\n",
       "      <th>A1_2 Damage</th>\n",
       "      <th>A3 Damage</th>\n",
       "      <th>A1_2 Deaths</th>\n",
       "      <th>A3 Deaths</th>\n",
       "      <th>Evacuation Costs</th>\n",
       "      <th>Total Costs</th>\n",
       "    </tr>\n",
       "  </thead>\n",
       "  <tbody>\n",
       "    <tr>\n",
       "      <th>0</th>\n",
       "      <td>1289</td>\n",
       "      <td>0.468</td>\n",
       "      <td>0.050</td>\n",
       "      <td>0.468</td>\n",
       "      <td>0.050</td>\n",
       "      <td>0.0</td>\n",
       "      <td>1.342035e+09</td>\n",
       "    </tr>\n",
       "    <tr>\n",
       "      <th>1</th>\n",
       "      <td>1458</td>\n",
       "      <td>0.468</td>\n",
       "      <td>0.050</td>\n",
       "      <td>0.468</td>\n",
       "      <td>0.050</td>\n",
       "      <td>0.0</td>\n",
       "      <td>1.457728e+09</td>\n",
       "    </tr>\n",
       "    <tr>\n",
       "      <th>2</th>\n",
       "      <td>1752</td>\n",
       "      <td>0.309</td>\n",
       "      <td>0.012</td>\n",
       "      <td>0.309</td>\n",
       "      <td>0.012</td>\n",
       "      <td>0.0</td>\n",
       "      <td>1.488352e+09</td>\n",
       "    </tr>\n",
       "    <tr>\n",
       "      <th>3</th>\n",
       "      <td>1902</td>\n",
       "      <td>0.384</td>\n",
       "      <td>0.023</td>\n",
       "      <td>0.384</td>\n",
       "      <td>0.023</td>\n",
       "      <td>0.0</td>\n",
       "      <td>1.535650e+09</td>\n",
       "    </tr>\n",
       "    <tr>\n",
       "      <th>4</th>\n",
       "      <td>1144</td>\n",
       "      <td>0.050</td>\n",
       "      <td>0.027</td>\n",
       "      <td>0.050</td>\n",
       "      <td>0.027</td>\n",
       "      <td>0.0</td>\n",
       "      <td>1.687657e+09</td>\n",
       "    </tr>\n",
       "    <tr>\n",
       "      <th>5</th>\n",
       "      <td>1173</td>\n",
       "      <td>0.285</td>\n",
       "      <td>0.005</td>\n",
       "      <td>0.285</td>\n",
       "      <td>0.005</td>\n",
       "      <td>0.0</td>\n",
       "      <td>1.781657e+09</td>\n",
       "    </tr>\n",
       "    <tr>\n",
       "      <th>6</th>\n",
       "      <td>1875</td>\n",
       "      <td>0.349</td>\n",
       "      <td>0.036</td>\n",
       "      <td>0.349</td>\n",
       "      <td>0.036</td>\n",
       "      <td>0.0</td>\n",
       "      <td>1.796451e+09</td>\n",
       "    </tr>\n",
       "    <tr>\n",
       "      <th>7</th>\n",
       "      <td>980</td>\n",
       "      <td>0.069</td>\n",
       "      <td>0.065</td>\n",
       "      <td>0.069</td>\n",
       "      <td>0.065</td>\n",
       "      <td>0.0</td>\n",
       "      <td>1.908047e+09</td>\n",
       "    </tr>\n",
       "    <tr>\n",
       "      <th>8</th>\n",
       "      <td>1520</td>\n",
       "      <td>0.069</td>\n",
       "      <td>0.065</td>\n",
       "      <td>0.069</td>\n",
       "      <td>0.065</td>\n",
       "      <td>0.0</td>\n",
       "      <td>2.082841e+09</td>\n",
       "    </tr>\n",
       "    <tr>\n",
       "      <th>9</th>\n",
       "      <td>1477</td>\n",
       "      <td>0.309</td>\n",
       "      <td>0.060</td>\n",
       "      <td>0.309</td>\n",
       "      <td>0.060</td>\n",
       "      <td>0.0</td>\n",
       "      <td>2.103008e+09</td>\n",
       "    </tr>\n",
       "  </tbody>\n",
       "</table>\n",
       "</div>"
      ],
      "text/plain": [
       "  policy  A1_2 Damage  A3 Damage  A1_2 Deaths  A3 Deaths  Evacuation Costs  \\\n",
       "0   1289        0.468      0.050        0.468      0.050               0.0   \n",
       "1   1458        0.468      0.050        0.468      0.050               0.0   \n",
       "2   1752        0.309      0.012        0.309      0.012               0.0   \n",
       "3   1902        0.384      0.023        0.384      0.023               0.0   \n",
       "4   1144        0.050      0.027        0.050      0.027               0.0   \n",
       "5   1173        0.285      0.005        0.285      0.005               0.0   \n",
       "6   1875        0.349      0.036        0.349      0.036               0.0   \n",
       "7    980        0.069      0.065        0.069      0.065               0.0   \n",
       "8   1520        0.069      0.065        0.069      0.065               0.0   \n",
       "9   1477        0.309      0.060        0.309      0.060               0.0   \n",
       "\n",
       "    Total Costs  \n",
       "0  1.342035e+09  \n",
       "1  1.457728e+09  \n",
       "2  1.488352e+09  \n",
       "3  1.535650e+09  \n",
       "4  1.687657e+09  \n",
       "5  1.781657e+09  \n",
       "6  1.796451e+09  \n",
       "7  1.908047e+09  \n",
       "8  2.082841e+09  \n",
       "9  2.103008e+09  "
      ]
     },
     "execution_count": 144,
     "metadata": {},
     "output_type": "execute_result"
    }
   ],
   "source": [
    "domain_criterion_costs"
   ]
  },
  {
   "cell_type": "markdown",
   "metadata": {},
   "source": [
    "As we can see, all policies have no evacuation costs in all the deep uncertainty runs. This is why we focus on the trade-offs in damages and deaths. The domain criterion being a dimensionless metric, we also add the total costs (Room for River costs plus Dike investment costs) in the parallel coordinated plot to show the \"price of robustness\". It is important to keep in mind that unlinke the domain criterion metrics, the total cost unit is monetary. "
   ]
  },
  {
   "cell_type": "code",
   "execution_count": 147,
   "metadata": {},
   "outputs": [],
   "source": [
    "#fig7 = px.parallel_coordinates(domain_criterion_costs, color = \"policy\", dimensions=[\"A1_2 Damage\", \"A3 Damage\", \"A1_2 Deaths\", \"A3 Deaths\", \"Total Costs\"])\n",
    "#fig7.show()"
   ]
  },
  {
   "cell_type": "markdown",
   "metadata": {},
   "source": [
    "![](../figures/Gelderland_RobustPolicies.png)"
   ]
  },
  {
   "cell_type": "markdown",
   "metadata": {},
   "source": [
    "As the results show, policies 980, 1144 and 1520 shows very promising results in terms of robustness. When it comes to cost, it can be seen that robustness comes along with a higher cost. It is also worth to point out that policy 980 outperforms policy 1520 having the same robustness results, but a lower cost.  "
   ]
  },
  {
   "cell_type": "markdown",
   "metadata": {},
   "source": [
    "## Scenario Discovery: PRIM\n",
    "At the last stage of Multi-Scenario MORDM, we will conduct another scenario dicovery using the PRIM algorithm to specifically show under which scenarios these policies fail. We consider a policy failed when either deaths or damage occurs. "
   ]
  },
  {
   "cell_type": "code",
   "execution_count": 75,
   "metadata": {},
   "outputs": [
    {
     "name": "stderr",
     "output_type": "stream",
     "text": [
      "[MainProcess/INFO] 10000 points remaining, containing 3074 cases of interest\n",
      "[MainProcess/INFO] mean: 0.9961538461538462, mass: 0.052, coverage: 0.16851008458035133, density: 0.9961538461538462 restricted_dimensions: 4\n"
     ]
    }
   ],
   "source": [
    "outcomes[\"condition\"] = outcomes[\"A1_2 Aggr Expected Annual Damage\"] + outcomes[\"A3 Expected Annual Damage\"] + outcomes[\"A1_2 Aggr Expected Number of Deaths\"] + outcomes[\"A3 Aggr Expected Number of Deaths\"]\n",
    "x = experiments.iloc[:,0:19]\n",
    "y = outcomes[\"condition\"] > 0\n",
    "prim_alg = prim.Prim(x,y, threshold=0.5)\n",
    "box = prim_alg.find_box()"
   ]
  },
  {
   "cell_type": "code",
   "execution_count": 76,
   "metadata": {},
   "outputs": [
    {
     "data": {
      "text/html": [
       "\n",
       "<div id=\"altair-viz-e2aeeac80fc1493a96a6f948c713907d\"></div>\n",
       "<script type=\"text/javascript\">\n",
       "  (function(spec, embedOpt){\n",
       "    let outputDiv = document.currentScript.previousElementSibling;\n",
       "    if (outputDiv.id !== \"altair-viz-e2aeeac80fc1493a96a6f948c713907d\") {\n",
       "      outputDiv = document.getElementById(\"altair-viz-e2aeeac80fc1493a96a6f948c713907d\");\n",
       "    }\n",
       "    const paths = {\n",
       "      \"vega\": \"https://cdn.jsdelivr.net/npm//vega@5?noext\",\n",
       "      \"vega-lib\": \"https://cdn.jsdelivr.net/npm//vega-lib?noext\",\n",
       "      \"vega-lite\": \"https://cdn.jsdelivr.net/npm//vega-lite@4.8.1?noext\",\n",
       "      \"vega-embed\": \"https://cdn.jsdelivr.net/npm//vega-embed@6?noext\",\n",
       "    };\n",
       "\n",
       "    function loadScript(lib) {\n",
       "      return new Promise(function(resolve, reject) {\n",
       "        var s = document.createElement('script');\n",
       "        s.src = paths[lib];\n",
       "        s.async = true;\n",
       "        s.onload = () => resolve(paths[lib]);\n",
       "        s.onerror = () => reject(`Error loading script: ${paths[lib]}`);\n",
       "        document.getElementsByTagName(\"head\")[0].appendChild(s);\n",
       "      });\n",
       "    }\n",
       "\n",
       "    function showError(err) {\n",
       "      outputDiv.innerHTML = `<div class=\"error\" style=\"color:red;\">${err}</div>`;\n",
       "      throw err;\n",
       "    }\n",
       "\n",
       "    function displayChart(vegaEmbed) {\n",
       "      vegaEmbed(outputDiv, spec, embedOpt)\n",
       "        .catch(err => showError(`Javascript Error: ${err.message}<br>This usually means there's a typo in your chart specification. See the javascript console for the full traceback.`));\n",
       "    }\n",
       "\n",
       "    if(typeof define === \"function\" && define.amd) {\n",
       "      requirejs.config({paths});\n",
       "      require([\"vega-embed\"], displayChart, err => showError(`Error loading script: ${err.message}`));\n",
       "    } else if (typeof vegaEmbed === \"function\") {\n",
       "      displayChart(vegaEmbed);\n",
       "    } else {\n",
       "      loadScript(\"vega\")\n",
       "        .then(() => loadScript(\"vega-lite\"))\n",
       "        .then(() => loadScript(\"vega-embed\"))\n",
       "        .catch(showError)\n",
       "        .then(() => displayChart(vegaEmbed));\n",
       "    }\n",
       "  })({\"config\": {\"view\": {\"continuousWidth\": 400, \"continuousHeight\": 300}}, \"vconcat\": [{\"data\": {\"name\": \"data-ac5b0a07f9a0979e8c023d7064a03c6f\"}, \"mark\": {\"type\": \"circle\", \"size\": 75}, \"encoding\": {\"color\": {\"type\": \"ordinal\", \"field\": \"res_dim\", \"scale\": {\"range\": [\"#eff9b6\", \"#d0edb3\", \"#97d6b9\", \"#5dc0c0\", \"#31a5c2\", \"#1f80b8\", \"#2354a3\", \"#21318d\"]}}, \"opacity\": {\"condition\": {\"value\": 1, \"selection\": \"selector001\"}, \"value\": 0.4}, \"tooltip\": [{\"type\": \"ordinal\", \"field\": \"id\"}, {\"type\": \"quantitative\", \"field\": \"coverage\", \"format\": \".2\"}, {\"type\": \"quantitative\", \"field\": \"density\", \"format\": \".2\"}, {\"type\": \"ordinal\", \"field\": \"res_dim\"}], \"x\": {\"type\": \"quantitative\", \"field\": \"coverage\"}, \"y\": {\"type\": \"quantitative\", \"field\": \"density\"}}, \"height\": 400, \"selection\": {\"selector001\": {\"type\": \"single\", \"fields\": [\"id\"]}}, \"width\": 400}, {\"layer\": [{\"data\": {\"name\": \"data-04ea489607189d4a23f451ac407d8ff5\"}, \"mark\": \"rule\", \"encoding\": {\"x\": {\"type\": \"quantitative\", \"axis\": {\"grid\": false, \"labels\": false, \"title\": \"box limits\"}, \"field\": \"x_lower\", \"scale\": {\"domain\": [0, 1], \"padding\": 0.1}}, \"x2\": {\"field\": \"x_upper\"}, \"y\": {\"type\": \"nominal\", \"field\": \"name\", \"scale\": {\"padding\": 1.0}}}, \"transform\": [{\"calculate\": \"(datum.x1-datum.minimum)/(datum.maximum-datum.minimum)\", \"as\": \"x_lower\"}, {\"calculate\": \"(datum.x2-datum.minimum)/(datum.maximum-datum.minimum)\", \"as\": \"x_upper\"}, {\"filter\": {\"selection\": \"selector001\"}}], \"width\": 400}, {\"data\": {\"name\": \"data-04ea489607189d4a23f451ac407d8ff5\"}, \"mark\": {\"type\": \"text\", \"align\": \"left\", \"baseline\": \"top\", \"dy\": 5}, \"encoding\": {\"text\": {\"type\": \"ordinal\", \"field\": \"text\"}, \"x\": {\"type\": \"quantitative\", \"axis\": {\"grid\": false, \"labels\": false, \"title\": \"box limits\"}, \"field\": \"x_lower\", \"scale\": {\"domain\": [0, 1], \"padding\": 0.1}}, \"x2\": {\"field\": \"x_upper\"}, \"y\": {\"type\": \"nominal\", \"field\": \"name\", \"scale\": {\"padding\": 1.0}}}, \"transform\": [{\"calculate\": \"(datum.x1-datum.minimum)/(datum.maximum-datum.minimum)\", \"as\": \"x_lower\"}, {\"calculate\": \"(datum.x2-datum.minimum)/(datum.maximum-datum.minimum)\", \"as\": \"x_upper\"}, {\"filter\": {\"selection\": \"selector001\"}}, {\"calculate\": \"datum.qp_lower>0?format(datum.x1, \\\".2\\\")+\\\" (\\\"+format(datum.qp_lower, \\\".1~g\\\")+\\\")\\\" :format(datum.x1, \\\".2\\\")\", \"as\": \"text\"}], \"width\": 400}, {\"data\": {\"name\": \"data-04ea489607189d4a23f451ac407d8ff5\"}, \"mark\": {\"type\": \"text\", \"align\": \"right\", \"baseline\": \"top\", \"dy\": 5}, \"encoding\": {\"text\": {\"type\": \"ordinal\", \"field\": \"text\"}, \"x\": {\"type\": \"quantitative\", \"field\": \"x_upper\"}, \"x2\": {\"field\": \"x_upper\"}, \"y\": {\"type\": \"nominal\", \"field\": \"name\", \"scale\": {\"padding\": 1.0}}}, \"transform\": [{\"calculate\": \"(datum.x1-datum.minimum)/(datum.maximum-datum.minimum)\", \"as\": \"x_lower\"}, {\"calculate\": \"(datum.x2-datum.minimum)/(datum.maximum-datum.minimum)\", \"as\": \"x_upper\"}, {\"filter\": {\"selection\": \"selector001\"}}, {\"calculate\": \"datum.qp_upper>0?format(datum.x2, \\\".2\\\")+\\\" (\\\"+format(datum.qp_upper, \\\".1\\\")+\\\")\\\" :format(datum.x2, \\\".2\\\")\", \"as\": \"text\"}], \"width\": 400}, {\"data\": {\"name\": \"data-bb8d07f6df3d47a6a475317795287b23\"}, \"mark\": {\"type\": \"rect\", \"opacity\": 0.05}, \"encoding\": {\"x\": {\"type\": \"quantitative\", \"field\": \"start\"}, \"x2\": {\"field\": \"end\"}}}, {\"data\": {\"name\": \"data-d751713988987e9331980363e24189ce\"}, \"mark\": \"point\", \"encoding\": {\"x\": {\"type\": \"quantitative\", \"field\": \"x\"}, \"y\": {\"type\": \"nominal\", \"field\": \"name\"}}, \"transform\": [{\"filter\": {\"selection\": \"selector001\"}}], \"width\": 400}, {\"data\": {\"name\": \"data-d751713988987e9331980363e24189ce\"}, \"mark\": {\"type\": \"text\", \"align\": \"center\", \"baseline\": \"top\", \"dy\": 5}, \"encoding\": {\"text\": {\"type\": \"nominal\", \"field\": \"item\"}, \"x\": {\"type\": \"quantitative\", \"field\": \"x\"}, \"y\": {\"type\": \"nominal\", \"field\": \"name\"}}, \"transform\": [{\"filter\": {\"selection\": \"selector001\"}}], \"width\": 400}]}], \"$schema\": \"https://vega.github.io/schema/vega-lite/v4.8.1.json\", \"datasets\": {\"data-ac5b0a07f9a0979e8c023d7064a03c6f\": [{\"coverage\": 1.0, \"density\": 0.3074, \"id\": 0, \"mass\": 1.0, \"mean\": 0.3074, \"res_dim\": 0}, {\"coverage\": 0.9921925829538061, \"density\": 0.32105263157894737, \"id\": 1, \"mass\": 0.95, \"mean\": 0.32105263157894737, \"res_dim\": 1}, {\"coverage\": 0.9860117111255693, \"density\": 0.33603104212860313, \"id\": 2, \"mass\": 0.902, \"mean\": 0.33603104212860313, \"res_dim\": 1}, {\"coverage\": 0.9830839297332465, \"density\": 0.3530373831775701, \"id\": 3, \"mass\": 0.856, \"mean\": 0.3530373831775701, \"res_dim\": 1}, {\"coverage\": 0.9798308392973325, \"density\": 0.37047970479704795, \"id\": 4, \"mass\": 0.813, \"mean\": 0.37047970479704795, \"res_dim\": 1}, {\"coverage\": 0.9798308392973325, \"density\": 0.3901554404145078, \"id\": 5, \"mass\": 0.772, \"mean\": 0.3901554404145078, \"res_dim\": 1}, {\"coverage\": 0.9655172413793104, \"density\": 0.4049113233287858, \"id\": 6, \"mass\": 0.733, \"mean\": 0.4049113233287858, \"res_dim\": 1}, {\"coverage\": 0.9577098243331165, \"density\": 0.42298850574712643, \"id\": 7, \"mass\": 0.696, \"mean\": 0.42298850574712643, \"res_dim\": 1}, {\"coverage\": 0.9577098243331165, \"density\": 0.4453857791225416, \"id\": 8, \"mass\": 0.661, \"mean\": 0.4453857791225416, \"res_dim\": 1}, {\"coverage\": 0.955757970071568, \"density\": 0.46858054226475276, \"id\": 9, \"mass\": 0.627, \"mean\": 0.46858054226475276, \"res_dim\": 1}, {\"coverage\": 0.9424202992843201, \"density\": 0.486890756302521, \"id\": 10, \"mass\": 0.595, \"mean\": 0.486890756302521, \"res_dim\": 1}, {\"coverage\": 0.9326610279765778, \"density\": 0.5074336283185841, \"id\": 11, \"mass\": 0.565, \"mean\": 0.5074336283185841, \"res_dim\": 1}, {\"coverage\": 0.9310344827586207, \"density\": 0.533955223880597, \"id\": 12, \"mass\": 0.536, \"mean\": 0.533955223880597, \"res_dim\": 1}, {\"coverage\": 0.9303838646714379, \"density\": 0.5618860510805501, \"id\": 13, \"mass\": 0.509, \"mean\": 0.5618860510805501, \"res_dim\": 1}, {\"coverage\": 0.9242029928432011, \"density\": 0.5881987577639751, \"id\": 14, \"mass\": 0.483, \"mean\": 0.5881987577639751, \"res_dim\": 1}, {\"coverage\": 0.9144437215354587, \"density\": 0.6137554585152838, \"id\": 15, \"mass\": 0.458, \"mean\": 0.6137554585152838, \"res_dim\": 1}, {\"coverage\": 0.8972023422251139, \"density\": 0.6340229885057471, \"id\": 16, \"mass\": 0.435, \"mean\": 0.6340229885057471, \"res_dim\": 1}, {\"coverage\": 0.8835393623942746, \"density\": 0.6576271186440678, \"id\": 17, \"mass\": 0.413, \"mean\": 0.6576271186440678, \"res_dim\": 1}, {\"coverage\": 0.8646714378659727, \"density\": 0.6780612244897959, \"id\": 18, \"mass\": 0.392, \"mean\": 0.6780612244897959, \"res_dim\": 1}, {\"coverage\": 0.842875731945348, \"density\": 0.696505376344086, \"id\": 19, \"mass\": 0.372, \"mean\": 0.696505376344086, \"res_dim\": 1}, {\"coverage\": 0.8217306441119063, \"density\": 0.7155807365439093, \"id\": 20, \"mass\": 0.353, \"mean\": 0.7155807365439093, \"res_dim\": 1}, {\"coverage\": 0.7960312296681847, \"density\": 0.7304477611940299, \"id\": 21, \"mass\": 0.335, \"mean\": 0.7304477611940299, \"res_dim\": 1}, {\"coverage\": 0.7755367599219258, \"density\": 0.7496855345911949, \"id\": 22, \"mass\": 0.318, \"mean\": 0.7496855345911949, \"res_dim\": 1}, {\"coverage\": 0.7482108002602472, \"density\": 0.7615894039735099, \"id\": 23, \"mass\": 0.302, \"mean\": 0.7615894039735099, \"res_dim\": 1}, {\"coverage\": 0.7163305139882888, \"density\": 0.76993006993007, \"id\": 24, \"mass\": 0.286, \"mean\": 0.76993006993007, \"res_dim\": 1}, {\"coverage\": 0.6834743005855562, \"density\": 0.7752767527675277, \"id\": 25, \"mass\": 0.271, \"mean\": 0.7752767527675277, \"res_dim\": 1}, {\"coverage\": 0.653220559531555, \"density\": 0.7813229571984436, \"id\": 26, \"mass\": 0.257, \"mean\": 0.7813229571984436, \"res_dim\": 1}, {\"coverage\": 0.623942745608328, \"density\": 0.7860655737704918, \"id\": 27, \"mass\": 0.244, \"mean\": 0.7860655737704918, \"res_dim\": 1}, {\"coverage\": 0.5943396226415094, \"density\": 0.7909090909090909, \"id\": 28, \"mass\": 0.231, \"mean\": 0.7909090909090909, \"res_dim\": 1}, {\"coverage\": 0.5670136629798308, \"density\": 0.7958904109589041, \"id\": 29, \"mass\": 0.219, \"mean\": 0.7958904109589041, \"res_dim\": 1}, {\"coverage\": 0.5419648666232921, \"density\": 0.8009615384615385, \"id\": 30, \"mass\": 0.208, \"mean\": 0.8009615384615385, \"res_dim\": 2}, {\"coverage\": 0.5159401431359791, \"density\": 0.8050761421319796, \"id\": 31, \"mass\": 0.197, \"mean\": 0.8050761421319796, \"res_dim\": 2}, {\"coverage\": 0.49251789199739754, \"density\": 0.8096256684491978, \"id\": 32, \"mass\": 0.187, \"mean\": 0.8096256684491978, \"res_dim\": 3}, {\"coverage\": 0.4687703318152245, \"density\": 0.8141242937853107, \"id\": 33, \"mass\": 0.177, \"mean\": 0.8141242937853107, \"res_dim\": 3}, {\"coverage\": 0.4482758620689655, \"density\": 0.8202380952380952, \"id\": 34, \"mass\": 0.168, \"mean\": 0.8202380952380952, \"res_dim\": 3}, {\"coverage\": 0.42778139232270657, \"density\": 0.8270440251572327, \"id\": 35, \"mass\": 0.159, \"mean\": 0.8270440251572327, \"res_dim\": 3}, {\"coverage\": 0.4089134677944047, \"density\": 0.8324503311258278, \"id\": 36, \"mass\": 0.151, \"mean\": 0.8324503311258278, \"res_dim\": 3}, {\"coverage\": 0.3906961613532856, \"density\": 0.8398601398601399, \"id\": 37, \"mass\": 0.143, \"mean\": 0.8398601398601399, \"res_dim\": 3}, {\"coverage\": 0.37247885491216653, \"density\": 0.8481481481481481, \"id\": 38, \"mass\": 0.135, \"mean\": 0.8481481481481481, \"res_dim\": 3}, {\"coverage\": 0.3565387117761874, \"density\": 0.85625, \"id\": 39, \"mass\": 0.128, \"mean\": 0.85625, \"res_dim\": 3}, {\"coverage\": 0.3405985686402082, \"density\": 0.8652892561983471, \"id\": 40, \"mass\": 0.121, \"mean\": 0.8652892561983471, \"res_dim\": 3}, {\"coverage\": 0.324658425504229, \"density\": 0.875438596491228, \"id\": 41, \"mass\": 0.114, \"mean\": 0.875438596491228, \"res_dim\": 3}, {\"coverage\": 0.3103448275862069, \"density\": 0.8833333333333333, \"id\": 42, \"mass\": 0.108, \"mean\": 0.8833333333333333, \"res_dim\": 3}, {\"coverage\": 0.2957059206245934, \"density\": 0.8911764705882353, \"id\": 43, \"mass\": 0.102, \"mean\": 0.8911764705882353, \"res_dim\": 3}, {\"coverage\": 0.2820429407937541, \"density\": 0.903125, \"id\": 44, \"mass\": 0.096, \"mean\": 0.903125, \"res_dim\": 3}, {\"coverage\": 0.27000650618087185, \"density\": 0.9120879120879121, \"id\": 45, \"mass\": 0.091, \"mean\": 0.9120879120879121, \"res_dim\": 3}, {\"coverage\": 0.25764476252439816, \"density\": 0.9209302325581395, \"id\": 46, \"mass\": 0.086, \"mean\": 0.9209302325581395, \"res_dim\": 3}, {\"coverage\": 0.24528301886792453, \"density\": 0.9308641975308642, \"id\": 47, \"mass\": 0.081, \"mean\": 0.9308641975308642, \"res_dim\": 3}, {\"coverage\": 0.23259596616785946, \"density\": 0.9407894736842105, \"id\": 48, \"mass\": 0.076, \"mean\": 0.9407894736842105, \"res_dim\": 3}, {\"coverage\": 0.22348731294729993, \"density\": 0.9541666666666667, \"id\": 49, \"mass\": 0.072, \"mean\": 0.9541666666666667, \"res_dim\": 3}, {\"coverage\": 0.21307742355237475, \"density\": 0.9632352941176471, \"id\": 50, \"mass\": 0.068, \"mean\": 0.9632352941176471, \"res_dim\": 3}, {\"coverage\": 0.20169160702667535, \"density\": 0.96875, \"id\": 51, \"mass\": 0.064, \"mean\": 0.96875, \"res_dim\": 3}, {\"coverage\": 0.19030579050097593, \"density\": 0.975, \"id\": 52, \"mass\": 0.06, \"mean\": 0.975, \"res_dim\": 4}, {\"coverage\": 0.1815224463240078, \"density\": 0.9789473684210527, \"id\": 53, \"mass\": 0.057, \"mean\": 0.9789473684210527, \"res_dim\": 4}, {\"coverage\": 0.1733897202342225, \"density\": 0.987037037037037, \"id\": 54, \"mass\": 0.054, \"mean\": 0.987037037037037, \"res_dim\": 4}, {\"coverage\": 0.1652569941444372, \"density\": 0.996078431372549, \"id\": 55, \"mass\": 0.051, \"mean\": 0.996078431372549, \"res_dim\": 4}, {\"coverage\": 0.16851008458035133, \"density\": 0.9961538461538462, \"id\": 56, \"mass\": 0.052, \"mean\": 0.9961538461538462, \"res_dim\": 4}], \"data-04ea489607189d4a23f451ac407d8ff5\": [{\"x1\": 1.657701397314104e-05, \"x2\": 0.9503249653127765, \"name\": \"A.2_pfail\", \"id\": 1, \"minimum\": 1.657701397314104e-05, \"maximum\": 0.9995286627303218, \"qp_lower\": -1.0, \"qp_upper\": 0.002099897162741158}, {\"x1\": 1.657701397314104e-05, \"x2\": 0.902050521555166, \"name\": \"A.2_pfail\", \"id\": 2, \"minimum\": 1.657701397314104e-05, \"maximum\": 0.9995286627303218, \"qp_lower\": -1.0, \"qp_upper\": 2.6846426066128627e-09}, {\"x1\": 1.657701397314104e-05, \"x2\": 0.8563217703853803, \"name\": \"A.2_pfail\", \"id\": 3, \"minimum\": 1.657701397314104e-05, \"maximum\": 0.9995286627303218, \"qp_lower\": -1.0, \"qp_upper\": 8.904325757199181e-20}, {\"x1\": 1.657701397314104e-05, \"x2\": 0.8130675296885403, \"name\": \"A.2_pfail\", \"id\": 4, \"minimum\": 1.657701397314104e-05, \"maximum\": 0.9995286627303218, \"qp_lower\": -1.0, \"qp_upper\": 4.267512894236916e-34}, {\"x1\": 1.657701397314104e-05, \"x2\": 0.7717134645276056, \"name\": \"A.2_pfail\", \"id\": 5, \"minimum\": 1.657701397314104e-05, \"maximum\": 0.9995286627303218, \"qp_lower\": -1.0, \"qp_upper\": 6.56468580845421e-54}, {\"x1\": 1.657701397314104e-05, \"x2\": 0.7329508075778524, \"name\": \"A.2_pfail\", \"id\": 6, \"minimum\": 1.657701397314104e-05, \"maximum\": 0.9995286627303218, \"qp_lower\": -1.0, \"qp_upper\": 5.690342003768288e-70}, {\"x1\": 1.657701397314104e-05, \"x2\": 0.6960250730732299, \"name\": \"A.2_pfail\", \"id\": 7, \"minimum\": 1.657701397314104e-05, \"maximum\": 0.9995286627303218, \"qp_lower\": -1.0, \"qp_upper\": 4.562225711465831e-92}, {\"x1\": 1.657701397314104e-05, \"x2\": 0.661151929562048, \"name\": \"A.2_pfail\", \"id\": 8, \"minimum\": 1.657701397314104e-05, \"maximum\": 0.9995286627303218, \"qp_lower\": -1.0, \"qp_upper\": 1.0031962875549698e-122}, {\"x1\": 1.657701397314104e-05, \"x2\": 0.6267676167986036, \"name\": \"A.2_pfail\", \"id\": 9, \"minimum\": 1.657701397314104e-05, \"maximum\": 0.9995286627303218, \"qp_lower\": -1.0, \"qp_upper\": 5.591747533601372e-157}, {\"x1\": 1.657701397314104e-05, \"x2\": 0.5947595368855245, \"name\": \"A.2_pfail\", \"id\": 10, \"minimum\": 1.657701397314104e-05, \"maximum\": 0.9995286627303218, \"qp_lower\": -1.0, \"qp_upper\": 2.5100095886865616e-183}, {\"x1\": 1.657701397314104e-05, \"x2\": 0.5647957425692447, \"name\": \"A.2_pfail\", \"id\": 11, \"minimum\": 1.657701397314104e-05, \"maximum\": 0.9995286627303218, \"qp_lower\": -1.0, \"qp_upper\": 9.556450014102734e-215}, {\"x1\": 1.657701397314104e-05, \"x2\": 0.5357754650661901, \"name\": \"A.2_pfail\", \"id\": 12, \"minimum\": 1.657701397314104e-05, \"maximum\": 0.9995286627303218, \"qp_lower\": -1.0, \"qp_upper\": 5.414161737597287e-259}, {\"x1\": 1.657701397314104e-05, \"x2\": 0.5089706703081875, \"name\": \"A.2_pfail\", \"id\": 13, \"minimum\": 1.657701397314104e-05, \"maximum\": 0.9995286627303218, \"qp_lower\": -1.0, \"qp_upper\": 4.0926942454919294e-308}, {\"x1\": 1.657701397314104e-05, \"x2\": 0.48296996936834363, \"name\": \"A.2_pfail\", \"id\": 14, \"minimum\": 1.657701397314104e-05, \"maximum\": 0.9995286627303218, \"qp_lower\": -1.0, \"qp_upper\": 0.0}, {\"x1\": 1.657701397314104e-05, \"x2\": 0.45784040112852104, \"name\": \"A.2_pfail\", \"id\": 15, \"minimum\": 1.657701397314104e-05, \"maximum\": 0.9995286627303218, \"qp_lower\": -1.0, \"qp_upper\": 0.0}, {\"x1\": 1.657701397314104e-05, \"x2\": 0.4350431854362164, \"name\": \"A.2_pfail\", \"id\": 16, \"minimum\": 1.657701397314104e-05, \"maximum\": 0.9995286627303218, \"qp_lower\": -1.0, \"qp_upper\": 0.0}, {\"x1\": 1.657701397314104e-05, \"x2\": 0.41288742748568663, \"name\": \"A.2_pfail\", \"id\": 17, \"minimum\": 1.657701397314104e-05, \"maximum\": 0.9995286627303218, \"qp_lower\": -1.0, \"qp_upper\": 0.0}, {\"x1\": 1.657701397314104e-05, \"x2\": 0.3919145024042968, \"name\": \"A.2_pfail\", \"id\": 18, \"minimum\": 1.657701397314104e-05, \"maximum\": 0.9995286627303218, \"qp_lower\": -1.0, \"qp_upper\": 0.0}, {\"x1\": 1.657701397314104e-05, \"x2\": 0.372292377855618, \"name\": \"A.2_pfail\", \"id\": 19, \"minimum\": 1.657701397314104e-05, \"maximum\": 0.9995286627303218, \"qp_lower\": -1.0, \"qp_upper\": 0.0}, {\"x1\": 1.657701397314104e-05, \"x2\": 0.3533927118522678, \"name\": \"A.2_pfail\", \"id\": 20, \"minimum\": 1.657701397314104e-05, \"maximum\": 0.9995286627303218, \"qp_lower\": -1.0, \"qp_upper\": 0.0}, {\"x1\": 1.657701397314104e-05, \"x2\": 0.33492084826386725, \"name\": \"A.2_pfail\", \"id\": 21, \"minimum\": 1.657701397314104e-05, \"maximum\": 0.9995286627303218, \"qp_lower\": -1.0, \"qp_upper\": 0.0}, {\"x1\": 1.657701397314104e-05, \"x2\": 0.3177944643218469, \"name\": \"A.2_pfail\", \"id\": 22, \"minimum\": 1.657701397314104e-05, \"maximum\": 0.9995286627303218, \"qp_lower\": -1.0, \"qp_upper\": 0.0}, {\"x1\": 1.657701397314104e-05, \"x2\": 0.30205094317096703, \"name\": \"A.2_pfail\", \"id\": 23, \"minimum\": 1.657701397314104e-05, \"maximum\": 0.9995286627303218, \"qp_lower\": -1.0, \"qp_upper\": 0.0}, {\"x1\": 1.657701397314104e-05, \"x2\": 0.2858183337324349, \"name\": \"A.2_pfail\", \"id\": 24, \"minimum\": 1.657701397314104e-05, \"maximum\": 0.9995286627303218, \"qp_lower\": -1.0, \"qp_upper\": 0.0}, {\"x1\": 1.657701397314104e-05, \"x2\": 0.2710515570307874, \"name\": \"A.2_pfail\", \"id\": 25, \"minimum\": 1.657701397314104e-05, \"maximum\": 0.9995286627303218, \"qp_lower\": -1.0, \"qp_upper\": 0.0}, {\"x1\": 1.657701397314104e-05, \"x2\": 0.2568585108666888, \"name\": \"A.2_pfail\", \"id\": 26, \"minimum\": 1.657701397314104e-05, \"maximum\": 0.9995286627303218, \"qp_lower\": -1.0, \"qp_upper\": 0.0}, {\"x1\": 1.657701397314104e-05, \"x2\": 0.24395400355764885, \"name\": \"A.2_pfail\", \"id\": 27, \"minimum\": 1.657701397314104e-05, \"maximum\": 0.9995286627303218, \"qp_lower\": -1.0, \"qp_upper\": 0.0}, {\"x1\": 1.657701397314104e-05, \"x2\": 0.23119419360267496, \"name\": \"A.2_pfail\", \"id\": 28, \"minimum\": 1.657701397314104e-05, \"maximum\": 0.9995286627303218, \"qp_lower\": -1.0, \"qp_upper\": 0.0}, {\"x1\": 1.657701397314104e-05, \"x2\": 0.21895914654419601, \"name\": \"A.2_pfail\", \"id\": 29, \"minimum\": 1.657701397314104e-05, \"maximum\": 0.9995286627303218, \"qp_lower\": -1.0, \"qp_upper\": 0.0}, {\"x1\": 46.30192800223435, \"x2\": 349.8767734887607, \"name\": \"A.1_Bmax\", \"id\": 30, \"minimum\": 30.310211829298503, \"maximum\": 349.8767734887607, \"qp_lower\": 0.2936205118550125, \"qp_upper\": -1.0}, {\"x1\": 1.657701397314104e-05, \"x2\": 0.21895914654419601, \"name\": \"A.2_pfail\", \"id\": 30, \"minimum\": 1.657701397314104e-05, \"maximum\": 0.9995286627303218, \"qp_lower\": -1.0, \"qp_upper\": 0.0}, {\"x1\": 46.30192800223435, \"x2\": 349.8767734887607, \"name\": \"A.1_Bmax\", \"id\": 31, \"minimum\": 30.310211829298503, \"maximum\": 349.8767734887607, \"qp_lower\": 0.2988942803088194, \"qp_upper\": -1.0}, {\"x1\": 1.657701397314104e-05, \"x2\": 0.20804123435572186, \"name\": \"A.2_pfail\", \"id\": 31, \"minimum\": 1.657701397314104e-05, \"maximum\": 0.9995286627303218, \"qp_lower\": -1.0, \"qp_upper\": 0.0}, {\"x1\": 46.30192800223435, \"x2\": 349.8767734887607, \"name\": \"A.1_Bmax\", \"id\": 32, \"minimum\": 30.310211829298503, \"maximum\": 349.8767734887607, \"qp_lower\": 0.2642794743796098, \"qp_upper\": -1.0}, {\"x1\": 1.657701397314104e-05, \"x2\": 0.20804123435572186, \"name\": \"A.2_pfail\", \"id\": 32, \"minimum\": 1.657701397314104e-05, \"maximum\": 0.9995286627303218, \"qp_lower\": -1.0, \"qp_upper\": 0.0}, {\"x1\": 0.06624590430603586, \"x2\": 0.9997495111155824, \"name\": \"A.4_pfail\", \"id\": 32, \"minimum\": 1.4115449263606527e-05, \"maximum\": 0.9997495111155824, \"qp_lower\": 0.3217608793543157, \"qp_upper\": -1.0}, {\"x1\": 46.30192800223435, \"x2\": 349.8767734887607, \"name\": \"A.1_Bmax\", \"id\": 33, \"minimum\": 30.310211829298503, \"maximum\": 349.8767734887607, \"qp_lower\": 0.24856465234281813, \"qp_upper\": -1.0}, {\"x1\": 1.657701397314104e-05, \"x2\": 0.195328865557228, \"name\": \"A.2_pfail\", \"id\": 33, \"minimum\": 1.657701397314104e-05, \"maximum\": 0.9995286627303218, \"qp_lower\": -1.0, \"qp_upper\": 0.0}, {\"x1\": 0.06624590430603586, \"x2\": 0.9997495111155824, \"name\": \"A.4_pfail\", \"id\": 33, \"minimum\": 1.4115449263606527e-05, \"maximum\": 0.9997495111155824, \"qp_lower\": 0.3527698923160068, \"qp_upper\": -1.0}, {\"x1\": 46.30192800223435, \"x2\": 349.8767734887607, \"name\": \"A.1_Bmax\", \"id\": 34, \"minimum\": 30.310211829298503, \"maximum\": 349.8767734887607, \"qp_lower\": 0.2713617211711447, \"qp_upper\": -1.0}, {\"x1\": 1.657701397314104e-05, \"x2\": 0.18392369367502323, \"name\": \"A.2_pfail\", \"id\": 34, \"minimum\": 1.657701397314104e-05, \"maximum\": 0.9995286627303218, \"qp_lower\": -1.0, \"qp_upper\": 0.0}, {\"x1\": 0.06624590430603586, \"x2\": 0.9997495111155824, \"name\": \"A.4_pfail\", \"id\": 34, \"minimum\": 1.4115449263606527e-05, \"maximum\": 0.9997495111155824, \"qp_lower\": 0.36280526647683387, \"qp_upper\": -1.0}, {\"x1\": 46.30192800223435, \"x2\": 349.8767734887607, \"name\": \"A.1_Bmax\", \"id\": 35, \"minimum\": 30.310211829298503, \"maximum\": 349.8767734887607, \"qp_lower\": 0.25134121602150256, \"qp_upper\": -1.0}, {\"x1\": 1.657701397314104e-05, \"x2\": 0.17503105383131579, \"name\": \"A.2_pfail\", \"id\": 35, \"minimum\": 1.657701397314104e-05, \"maximum\": 0.9995286627303218, \"qp_lower\": -1.0, \"qp_upper\": 0.0}, {\"x1\": 0.06624590430603586, \"x2\": 0.9997495111155824, \"name\": \"A.4_pfail\", \"id\": 35, \"minimum\": 1.4115449263606527e-05, \"maximum\": 0.9997495111155824, \"qp_lower\": 0.34645464379051966, \"qp_upper\": -1.0}, {\"x1\": 46.30192800223435, \"x2\": 349.8767734887607, \"name\": \"A.1_Bmax\", \"id\": 36, \"minimum\": 30.310211829298503, \"maximum\": 349.8767734887607, \"qp_lower\": 0.25961493977921873, \"qp_upper\": -1.0}, {\"x1\": 1.657701397314104e-05, \"x2\": 0.16606999984940168, \"name\": \"A.2_pfail\", \"id\": 36, \"minimum\": 1.657701397314104e-05, \"maximum\": 0.9995286627303218, \"qp_lower\": -1.0, \"qp_upper\": 0.0}, {\"x1\": 0.06624590430603586, \"x2\": 0.9997495111155824, \"name\": \"A.4_pfail\", \"id\": 36, \"minimum\": 1.4115449263606527e-05, \"maximum\": 0.9997495111155824, \"qp_lower\": 0.3322916687071834, \"qp_upper\": -1.0}, {\"x1\": 46.30192800223435, \"x2\": 349.8767734887607, \"name\": \"A.1_Bmax\", \"id\": 37, \"minimum\": 30.310211829298503, \"maximum\": 349.8767734887607, \"qp_lower\": 0.22036895381876695, \"qp_upper\": -1.0}, {\"x1\": 1.657701397314104e-05, \"x2\": 0.15796244202016296, \"name\": \"A.2_pfail\", \"id\": 37, \"minimum\": 1.657701397314104e-05, \"maximum\": 0.9995286627303218, \"qp_lower\": -1.0, \"qp_upper\": 0.0}, {\"x1\": 0.06624590430603586, \"x2\": 0.9997495111155824, \"name\": \"A.4_pfail\", \"id\": 37, \"minimum\": 1.4115449263606527e-05, \"maximum\": 0.9997495111155824, \"qp_lower\": 0.29214150253145665, \"qp_upper\": -1.0}, {\"x1\": 46.30192800223435, \"x2\": 349.8767734887607, \"name\": \"A.1_Bmax\", \"id\": 38, \"minimum\": 30.310211829298503, \"maximum\": 349.8767734887607, \"qp_lower\": 0.2444884237216185, \"qp_upper\": -1.0}, {\"x1\": 1.657701397314104e-05, \"x2\": 0.14872064114363148, \"name\": \"A.2_pfail\", \"id\": 38, \"minimum\": 1.657701397314104e-05, \"maximum\": 0.9995286627303218, \"qp_lower\": -1.0, \"qp_upper\": 0.0}, {\"x1\": 0.06624590430603586, \"x2\": 0.9997495111155824, \"name\": \"A.4_pfail\", \"id\": 38, \"minimum\": 1.4115449263606527e-05, \"maximum\": 0.9997495111155824, \"qp_lower\": 0.29083882759003993, \"qp_upper\": -1.0}, {\"x1\": 46.30192800223435, \"x2\": 349.8767734887607, \"name\": \"A.1_Bmax\", \"id\": 39, \"minimum\": 30.310211829298503, \"maximum\": 349.8767734887607, \"qp_lower\": 0.25611948462961065, \"qp_upper\": -1.0}, {\"x1\": 1.657701397314104e-05, \"x2\": 0.13992796568864296, \"name\": \"A.2_pfail\", \"id\": 39, \"minimum\": 1.657701397314104e-05, \"maximum\": 0.9995286627303218, \"qp_lower\": -1.0, \"qp_upper\": 0.0}, {\"x1\": 0.06624590430603586, \"x2\": 0.9997495111155824, \"name\": \"A.4_pfail\", \"id\": 39, \"minimum\": 1.4115449263606527e-05, \"maximum\": 0.9997495111155824, \"qp_lower\": 0.3062297744370394, \"qp_upper\": -1.0}, {\"x1\": 46.30192800223435, \"x2\": 349.8767734887607, \"name\": \"A.1_Bmax\", \"id\": 40, \"minimum\": 30.310211829298503, \"maximum\": 349.8767734887607, \"qp_lower\": 0.23226429520246847, \"qp_upper\": -1.0}, {\"x1\": 1.657701397314104e-05, \"x2\": 0.1325643544946309, \"name\": \"A.2_pfail\", \"id\": 40, \"minimum\": 1.657701397314104e-05, \"maximum\": 0.9995286627303218, \"qp_lower\": -1.0, \"qp_upper\": 0.0}, {\"x1\": 0.06624590430603586, \"x2\": 0.9997495111155824, \"name\": \"A.4_pfail\", \"id\": 40, \"minimum\": 1.4115449263606527e-05, \"maximum\": 0.9997495111155824, \"qp_lower\": 0.2825384760024786, \"qp_upper\": -1.0}, {\"x1\": 46.30192800223435, \"x2\": 349.8767734887607, \"name\": \"A.1_Bmax\", \"id\": 41, \"minimum\": 30.310211829298503, \"maximum\": 349.8767734887607, \"qp_lower\": 0.2463372457419919, \"qp_upper\": -1.0}, {\"x1\": 1.657701397314104e-05, \"x2\": 0.12484108733777667, \"name\": \"A.2_pfail\", \"id\": 41, \"minimum\": 1.657701397314104e-05, \"maximum\": 0.9995286627303218, \"qp_lower\": -1.0, \"qp_upper\": 0.0}, {\"x1\": 0.06624590430603586, \"x2\": 0.9997495111155824, \"name\": \"A.4_pfail\", \"id\": 41, \"minimum\": 1.4115449263606527e-05, \"maximum\": 0.9997495111155824, \"qp_lower\": 0.25472794859223835, \"qp_upper\": -1.0}, {\"x1\": 54.975451564984226, \"x2\": 349.8767734887607, \"name\": \"A.1_Bmax\", \"id\": 42, \"minimum\": 30.310211829298503, \"maximum\": 349.8767734887607, \"qp_lower\": 0.07350446083650759, \"qp_upper\": -1.0}, {\"x1\": 1.657701397314104e-05, \"x2\": 0.12484108733777667, \"name\": \"A.2_pfail\", \"id\": 42, \"minimum\": 1.657701397314104e-05, \"maximum\": 0.9995286627303218, \"qp_lower\": -1.0, \"qp_upper\": 0.0}, {\"x1\": 0.06624590430603586, \"x2\": 0.9997495111155824, \"name\": \"A.4_pfail\", \"id\": 42, \"minimum\": 1.4115449263606527e-05, \"maximum\": 0.9997495111155824, \"qp_lower\": 0.23135832122269637, \"qp_upper\": -1.0}, {\"x1\": 54.975451564984226, \"x2\": 349.8767734887607, \"name\": \"A.1_Bmax\", \"id\": 43, \"minimum\": 30.310211829298503, \"maximum\": 349.8767734887607, \"qp_lower\": 0.10982836588659628, \"qp_upper\": -1.0}, {\"x1\": 1.657701397314104e-05, \"x2\": 0.11585351655260825, \"name\": \"A.2_pfail\", \"id\": 43, \"minimum\": 1.657701397314104e-05, \"maximum\": 0.9995286627303218, \"qp_lower\": -1.0, \"qp_upper\": 0.0}, {\"x1\": 0.06624590430603586, \"x2\": 0.9997495111155824, \"name\": \"A.4_pfail\", \"id\": 43, \"minimum\": 1.4115449263606527e-05, \"maximum\": 0.9997495111155824, \"qp_lower\": 0.18274233509141471, \"qp_upper\": -1.0}, {\"x1\": 54.975451564984226, \"x2\": 349.8767734887607, \"name\": \"A.1_Bmax\", \"id\": 44, \"minimum\": 30.310211829298503, \"maximum\": 349.8767734887607, \"qp_lower\": 0.17148583895588038, \"qp_upper\": -1.0}, {\"x1\": 1.657701397314104e-05, \"x2\": 0.10726149984757477, \"name\": \"A.2_pfail\", \"id\": 44, \"minimum\": 1.657701397314104e-05, \"maximum\": 0.9995286627303218, \"qp_lower\": -1.0, \"qp_upper\": 5e-324}, {\"x1\": 0.06624590430603586, \"x2\": 0.9997495111155824, \"name\": \"A.4_pfail\", \"id\": 44, \"minimum\": 1.4115449263606527e-05, \"maximum\": 0.9997495111155824, \"qp_lower\": 0.22423555601869807, \"qp_upper\": -1.0}, {\"x1\": 54.975451564984226, \"x2\": 349.8767734887607, \"name\": \"A.1_Bmax\", \"id\": 45, \"minimum\": 30.310211829298503, \"maximum\": 349.8767734887607, \"qp_lower\": 0.19649349045931083, \"qp_upper\": -1.0}, {\"x1\": 1.657701397314104e-05, \"x2\": 0.09908820522393269, \"name\": \"A.2_pfail\", \"id\": 45, \"minimum\": 1.657701397314104e-05, \"maximum\": 0.9995286627303218, \"qp_lower\": -1.0, \"qp_upper\": 2.085614e-318}, {\"x1\": 0.06624590430603586, \"x2\": 0.9997495111155824, \"name\": \"A.4_pfail\", \"id\": 45, \"minimum\": 1.4115449263606527e-05, \"maximum\": 0.9997495111155824, \"qp_lower\": 0.339776352224237, \"qp_upper\": -1.0}, {\"x1\": 54.975451564984226, \"x2\": 349.8767734887607, \"name\": \"A.1_Bmax\", \"id\": 46, \"minimum\": 30.310211829298503, \"maximum\": 349.8767734887607, \"qp_lower\": 0.20109150295115072, \"qp_upper\": -1.0}, {\"x1\": 1.657701397314104e-05, \"x2\": 0.09228935275865177, \"name\": \"A.2_pfail\", \"id\": 46, \"minimum\": 1.657701397314104e-05, \"maximum\": 0.9995286627303218, \"qp_lower\": -1.0, \"qp_upper\": 1.781707685924e-312}, {\"x1\": 0.06624590430603586, \"x2\": 0.9997495111155824, \"name\": \"A.4_pfail\", \"id\": 46, \"minimum\": 1.4115449263606527e-05, \"maximum\": 0.9997495111155824, \"qp_lower\": 0.370366152349031, \"qp_upper\": -1.0}, {\"x1\": 54.975451564984226, \"x2\": 349.8767734887607, \"name\": \"A.1_Bmax\", \"id\": 47, \"minimum\": 30.310211829298503, \"maximum\": 349.8767734887607, \"qp_lower\": 0.20207770484493323, \"qp_upper\": -1.0}, {\"x1\": 1.657701397314104e-05, \"x2\": 0.08585856262069196, \"name\": \"A.2_pfail\", \"id\": 47, \"minimum\": 1.657701397314104e-05, \"maximum\": 0.9995286627303218, \"qp_lower\": -1.0, \"qp_upper\": 4.134236143169207e-305}, {\"x1\": 0.06624590430603586, \"x2\": 0.9997495111155824, \"name\": \"A.4_pfail\", \"id\": 47, \"minimum\": 1.4115449263606527e-05, \"maximum\": 0.9997495111155824, \"qp_lower\": 0.518663084955217, \"qp_upper\": -1.0}, {\"x1\": 54.975451564984226, \"x2\": 349.8767734887607, \"name\": \"A.1_Bmax\", \"id\": 48, \"minimum\": 30.310211829298503, \"maximum\": 349.8767734887607, \"qp_lower\": 0.27364138995623816, \"qp_upper\": -1.0}, {\"x1\": 1.657701397314104e-05, \"x2\": 0.07907755243706122, \"name\": \"A.2_pfail\", \"id\": 48, \"minimum\": 1.657701397314104e-05, \"maximum\": 0.9995286627303218, \"qp_lower\": -1.0, \"qp_upper\": 9.602507365861739e-298}, {\"x1\": 0.06624590430603586, \"x2\": 0.9997495111155824, \"name\": \"A.4_pfail\", \"id\": 48, \"minimum\": 1.4115449263606527e-05, \"maximum\": 0.9997495111155824, \"qp_lower\": 0.5149230939706954, \"qp_upper\": -1.0}, {\"x1\": 54.975451564984226, \"x2\": 349.8767734887607, \"name\": \"A.1_Bmax\", \"id\": 49, \"minimum\": 30.310211829298503, \"maximum\": 349.8767734887607, \"qp_lower\": 0.37359592721999363, \"qp_upper\": -1.0}, {\"x1\": 1.657701397314104e-05, \"x2\": 0.07422063558594821, \"name\": \"A.2_pfail\", \"id\": 49, \"minimum\": 1.657701397314104e-05, \"maximum\": 0.9995286627303218, \"qp_lower\": -1.0, \"qp_upper\": 1.4909941287312582e-297}, {\"x1\": 0.06624590430603586, \"x2\": 0.9997495111155824, \"name\": \"A.4_pfail\", \"id\": 49, \"minimum\": 1.4115449263606527e-05, \"maximum\": 0.9997495111155824, \"qp_lower\": 0.5082874806538802, \"qp_upper\": -1.0}, {\"x1\": 54.975451564984226, \"x2\": 349.8767734887607, \"name\": \"A.1_Bmax\", \"id\": 50, \"minimum\": 30.310211829298503, \"maximum\": 349.8767734887607, \"qp_lower\": 0.5529307183140073, \"qp_upper\": -1.0}, {\"x1\": 1.657701397314104e-05, \"x2\": 0.06915984820223495, \"name\": \"A.2_pfail\", \"id\": 50, \"minimum\": 1.657701397314104e-05, \"maximum\": 0.9995286627303218, \"qp_lower\": -1.0, \"qp_upper\": 1.2528962857061725e-291}, {\"x1\": 0.06624590430603586, \"x2\": 0.9997495111155824, \"name\": \"A.4_pfail\", \"id\": 50, \"minimum\": 1.4115449263606527e-05, \"maximum\": 0.9997495111155824, \"qp_lower\": 0.5025461316973312, \"qp_upper\": -1.0}, {\"x1\": 54.975451564984226, \"x2\": 349.8767734887607, \"name\": \"A.1_Bmax\", \"id\": 51, \"minimum\": 30.310211829298503, \"maximum\": 349.8767734887607, \"qp_lower\": 0.5591000464067606, \"qp_upper\": -1.0}, {\"x1\": 1.657701397314104e-05, \"x2\": 0.06467618813750425, \"name\": \"A.2_pfail\", \"id\": 51, \"minimum\": 1.657701397314104e-05, \"maximum\": 0.9995286627303218, \"qp_lower\": -1.0, \"qp_upper\": 6.929782873736488e-281}, {\"x1\": 0.06624590430603586, \"x2\": 0.9997495111155824, \"name\": \"A.4_pfail\", \"id\": 51, \"minimum\": 1.4115449263606527e-05, \"maximum\": 0.9997495111155824, \"qp_lower\": 0.498206364901574, \"qp_upper\": -1.0}, {\"x1\": 54.975451564984226, \"x2\": 349.8767734887607, \"name\": \"A.1_Bmax\", \"id\": 52, \"minimum\": 30.310211829298503, \"maximum\": 349.8767734887607, \"qp_lower\": 0.5680950473912922, \"qp_upper\": -1.0}, {\"x1\": 1.657701397314104e-05, \"x2\": 0.06467618813750425, \"name\": \"A.2_pfail\", \"id\": 52, \"minimum\": 1.657701397314104e-05, \"maximum\": 0.9995286627303218, \"qp_lower\": -1.0, \"qp_upper\": 1.320903401005323e-275}, {\"x1\": 0.06624590430603586, \"x2\": 0.9997495111155824, \"name\": \"A.4_pfail\", \"id\": 52, \"minimum\": 1.4115449263606527e-05, \"maximum\": 0.9997495111155824, \"qp_lower\": 0.4919784107332782, \"qp_upper\": -1.0}, {\"x1\": 76.10087851750781, \"x2\": 349.71250079152003, \"name\": \"A.5_Bmax\", \"id\": 52, \"minimum\": 30.232908464554907, \"maximum\": 349.71250079152003, \"qp_lower\": 0.2274060209490556, \"qp_upper\": -1.0}, {\"x1\": 54.975451564984226, \"x2\": 349.8767734887607, \"name\": \"A.1_Bmax\", \"id\": 53, \"minimum\": 30.310211829298503, \"maximum\": 349.8767734887607, \"qp_lower\": 0.5759695634071682, \"qp_upper\": -1.0}, {\"x1\": 1.657701397314104e-05, \"x2\": 0.06102353934965306, \"name\": \"A.2_pfail\", \"id\": 53, \"minimum\": 1.657701397314104e-05, \"maximum\": 0.9995286627303218, \"qp_lower\": -1.0, \"qp_upper\": 2.4666334134475413e-266}, {\"x1\": 0.06624590430603586, \"x2\": 0.9997495111155824, \"name\": \"A.4_pfail\", \"id\": 53, \"minimum\": 1.4115449263606527e-05, \"maximum\": 0.9997495111155824, \"qp_lower\": 0.5759695634071682, \"qp_upper\": -1.0}, {\"x1\": 76.10087851750781, \"x2\": 349.71250079152003, \"name\": \"A.5_Bmax\", \"id\": 53, \"minimum\": 30.232908464554907, \"maximum\": 349.71250079152003, \"qp_lower\": 0.1970881570774844, \"qp_upper\": -1.0}, {\"x1\": 54.975451564984226, \"x2\": 349.8767734887607, \"name\": \"A.1_Bmax\", \"id\": 54, \"minimum\": 30.310211829298503, \"maximum\": 349.8767734887607, \"qp_lower\": 0.5987159494186671, \"qp_upper\": -1.0}, {\"x1\": 1.657701397314104e-05, \"x2\": 0.05702016509657483, \"name\": \"A.2_pfail\", \"id\": 54, \"minimum\": 1.657701397314104e-05, \"maximum\": 0.9995286627303218, \"qp_lower\": -1.0, \"qp_upper\": 1.422582217211811e-261}, {\"x1\": 0.06624590430603586, \"x2\": 0.9997495111155824, \"name\": \"A.4_pfail\", \"id\": 54, \"minimum\": 1.4115449263606527e-05, \"maximum\": 0.9997495111155824, \"qp_lower\": 0.5987159494186671, \"qp_upper\": -1.0}, {\"x1\": 76.10087851750781, \"x2\": 349.71250079152003, \"name\": \"A.5_Bmax\", \"id\": 54, \"minimum\": 30.232908464554907, \"maximum\": 349.71250079152003, \"qp_lower\": 0.38063275030425203, \"qp_upper\": -1.0}, {\"x1\": 54.975451564984226, \"x2\": 349.8767734887607, \"name\": \"A.1_Bmax\", \"id\": 55, \"minimum\": 30.310211829298503, \"maximum\": 349.8767734887607, \"qp_lower\": 0.6777403043686394, \"qp_upper\": -1.0}, {\"x1\": 1.657701397314104e-05, \"x2\": 0.05297072685271168, \"name\": \"A.2_pfail\", \"id\": 55, \"minimum\": 1.657701397314104e-05, \"maximum\": 0.9995286627303218, \"qp_lower\": -1.0, \"qp_upper\": 1.16541912092844e-257}, {\"x1\": 0.06624590430603586, \"x2\": 0.9997495111155824, \"name\": \"A.4_pfail\", \"id\": 55, \"minimum\": 1.4115449263606527e-05, \"maximum\": 0.9997495111155824, \"qp_lower\": 0.6777403043686394, \"qp_upper\": -1.0}, {\"x1\": 76.10087851750781, \"x2\": 349.71250079152003, \"name\": \"A.5_Bmax\", \"id\": 55, \"minimum\": 30.232908464554907, \"maximum\": 349.71250079152003, \"qp_lower\": 0.44975937574551517, \"qp_upper\": -1.0}, {\"x1\": 54.975451564984226, \"x2\": 349.8767734887607, \"name\": \"A.1_Bmax\", \"id\": 56, \"minimum\": 30.310211829298503, \"maximum\": 349.8767734887607, \"qp_lower\": 0.6766767511378795, \"qp_upper\": -1.0}, {\"x1\": 1.657701397314104e-05, \"x2\": 0.05297072685271168, \"name\": \"A.2_pfail\", \"id\": 56, \"minimum\": 1.657701397314104e-05, \"maximum\": 0.9995286627303218, \"qp_lower\": -1.0, \"qp_upper\": 7.33421605573553e-261}, {\"x1\": 0.06624590430603586, \"x2\": 0.9997495111155824, \"name\": \"A.4_pfail\", \"id\": 56, \"minimum\": 1.4115449263606527e-05, \"maximum\": 0.9997495111155824, \"qp_lower\": 0.6766767511378795, \"qp_upper\": -1.0}, {\"x1\": 59.347657716998185, \"x2\": 349.71250079152003, \"name\": \"A.5_Bmax\", \"id\": 56, \"minimum\": 30.232908464554907, \"maximum\": 349.71250079152003, \"qp_lower\": 0.4353793553129669, \"qp_upper\": -1.0}], \"data-bb8d07f6df3d47a6a475317795287b23\": [{\"start\": 0, \"end\": 1}], \"data-d751713988987e9331980363e24189ce\": []}}, {\"mode\": \"vega-lite\"});\n",
       "</script>"
      ],
      "text/plain": [
       "alt.VConcatChart(...)"
      ]
     },
     "execution_count": 76,
     "metadata": {},
     "output_type": "execute_result"
    }
   ],
   "source": [
    "box.inspect_tradeoff()\n"
   ]
  },
  {
   "cell_type": "markdown",
   "metadata": {},
   "source": [
    "We select box 30 as it shows a good tradeoff between density and coverage"
   ]
  },
  {
   "cell_type": "code",
   "execution_count": 79,
   "metadata": {},
   "outputs": [
    {
     "name": "stdout",
     "output_type": "stream",
     "text": [
      "coverage    0.541965\n",
      "density     0.800962\n",
      "id                30\n",
      "mass           0.208\n",
      "mean        0.800962\n",
      "res_dim            2\n",
      "Name: 30, dtype: object\n",
      "\n",
      "              box 30                                        \n",
      "                 min         max                   qp values\n",
      "A.2_pfail   0.000017    0.218959                 [-1.0, 0.0]\n",
      "A.1_Bmax   46.301928  349.876773  [0.2936205118550125, -1.0]\n",
      "\n"
     ]
    }
   ],
   "source": [
    "n_box = 30\n",
    "box.inspect(n_box)"
   ]
  },
  {
   "cell_type": "code",
   "execution_count": null,
   "metadata": {},
   "outputs": [],
   "source": []
  }
 ],
 "metadata": {
  "kernelspec": {
   "display_name": "Python 3 (ipykernel)",
   "language": "python",
   "name": "python3"
  },
  "language_info": {
   "codemirror_mode": {
    "name": "ipython",
    "version": 3
   },
   "file_extension": ".py",
   "mimetype": "text/x-python",
   "name": "python",
   "nbconvert_exporter": "python",
   "pygments_lexer": "ipython3",
   "version": "3.11.4"
  }
 },
 "nbformat": 4,
 "nbformat_minor": 2
}
