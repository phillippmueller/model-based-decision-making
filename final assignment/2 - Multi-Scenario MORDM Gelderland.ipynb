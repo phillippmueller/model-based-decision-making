{
 "cells": [
  {
   "cell_type": "markdown",
   "metadata": {},
   "source": [
    "# Multi-Scenario MORDM Gelderland\n",
    "This Jupyter Notebook uses the model developed by [Ciullo et al. (2019)](https://scholar.google.com/citations?hl=en&user=fDZCVVYAAAAJ&view_op=list_works&sortby=pubdate#d=gs_md_cita-d&u=%2Fcitations%3Fview_op%3Dview_citation%26hl%3Den%26user%3DfDZCVVYAAAAJ%26sortby%3Dpubdate%26citation_for_view%3DfDZCVVYAAAAJ%3AqjMakFHDy7sC%26tzom%3D-120) and the [ema_workbench by Jan Kwakkel](https://github.com/quaquel/EMAworkbench) to evaluate possible strategies for the Gelderland province to increase its resilience to flood risk. It is specifically aimed towards finding optimal strategies for the Gelderland province, namely minimizing casualties and damages across the model runtime in dike rings 1-3 and minimizing dike investment costs for all dike rings. "
   ]
  },
  {
   "cell_type": "markdown",
   "metadata": {},
   "source": [
    "## Imports"
   ]
  },
  {
   "cell_type": "code",
   "execution_count": 1,
   "metadata": {},
   "outputs": [
    {
     "output_type": "execute_result",
     "data": {
      "text/plain": "<Logger EMA (DEBUG)>"
     },
     "metadata": {},
     "execution_count": 1
    }
   ],
   "source": [
    "# Standard Imports\n",
    "import pandas as pd\n",
    "import numpy as np\n",
    "import seaborn as sns\n",
    "import matplotlib.pyplot as plt\n",
    "import copy\n",
    "import networkx as nx\n",
    "import scipy as sp\n",
    "import plotly.express as px\n",
    "\n",
    "\n",
    "# Workbench Imports\n",
    "from ema_workbench import (Model, MultiprocessingEvaluator, ScalarOutcome, RealParameter, IntegerParameter, CategoricalParameter, optimize, Scenario, Constant, ema_logging,perform_experiments, SequentialEvaluator, Policy)\n",
    "from ema_workbench.em_framework.optimization import EpsilonProgress, HyperVolume\n",
    "from ema_workbench.util import ema_logging, save_results, load_results\n",
    "from ema_workbench.em_framework.samplers import sample_levers, sample_uncertainties\n",
    "from ema_workbench.em_framework.evaluators import LHS, SOBOL, MORRIS, SequentialEvaluator, BaseEvaluator\n",
    "from ema_workbench.analysis import parcoords, prim\n",
    "\n",
    "\n",
    "ema_logging.log_to_stderr(ema_logging.INFO)\n"
   ]
  },
  {
   "cell_type": "markdown",
   "metadata": {},
   "source": [
    "## General Model Setup\n",
    "Here, we specify the numbers for the experiment and optimization runs to perform as well as other parameters used in this notebook"
   ]
  },
  {
   "cell_type": "code",
   "execution_count": 4,
   "metadata": {},
   "outputs": [],
   "source": [
    "# Number of nfes for the Model\n",
    "n_nfe = 20000\n",
    "\n",
    "#Number of scenarios for the deep uncertainty evaluation of promising scenarios\n",
    "n_scenarios = 1000\n",
    "\n",
    "#Path to the reference scenarios to use for MORDM\n",
    "path_noaction = \"../results/10000Scenarios_NoAction_PF1.tar.gz\"\n",
    "\n",
    "#Province name\n",
    "province = \"Gelderland\""
   ]
  },
  {
   "cell_type": "markdown",
   "metadata": {},
   "source": [
    "## Model Specification\n",
    "Problem Formulation 6, specified in the problem_formulation.py file is calles to initiate the dike model from Gelderlands framing. "
   ]
  },
  {
   "cell_type": "code",
   "execution_count": 18,
   "metadata": {},
   "outputs": [],
   "source": [
    "# Model Imports\n",
    "from dike_model_function import DikeNetwork\n",
    "from problem_formulation import get_model_for_problem_formulation\n",
    "\n",
    "dike_model, planning_steps = get_model_for_problem_formulation(6)\n",
    "uncertainties = copy.deepcopy(dike_model.uncertainties)\n",
    "levers = copy.deepcopy(dike_model.levers)"
   ]
  },
  {
   "cell_type": "markdown",
   "metadata": {},
   "source": [
    "## Specify reference scenario\n",
    "Firstly, we load the results from the open exploration with no action taken to select a reference scenario that shows the most expected number of deaths. This, so-to-say worst-case scenario is then used to find the optimal policies using the MORDM approach.  "
   ]
  },
  {
   "cell_type": "code",
   "execution_count": 4,
   "metadata": {},
   "outputs": [
    {
     "output_type": "stream",
     "name": "stderr",
     "text": "[MainProcess/INFO] results loaded succesfully from /Users/ricoherzog/OneDrive/Uni/2019-2020 WiSe Den Haag/Q4/EPA1361 Model Based Decision Making/05_Project/model-based-decision-making/results/10000Scenarios_NoAction_PF1.tar.gz\n"
    }
   ],
   "source": [
    "experiments, outcomes = load_results(path_noaction)"
   ]
  },
  {
   "cell_type": "code",
   "execution_count": 5,
   "metadata": {},
   "outputs": [],
   "source": [
    "outcomes_df = pd.DataFrame(outcomes)\n",
    "\n",
    "#Get index of worst scenario\n",
    "index_wc = outcomes_df.sort_values(\"Expected Number of Deaths\").tail(1).index\n",
    "experiment_wc = experiments.iloc[index_wc]\n",
    "reference_scenarios = [Scenario(f\"{index}\", **row) for index, row in experiment_wc.iloc[0:,0:19].iterrows()]"
   ]
  },
  {
   "cell_type": "markdown",
   "metadata": {},
   "source": [
    "## Run Optimization on Worst Case Reference Scenario\n",
    "Due to limited computational resources, we ran 20000 function evaluations in the epsilon-NSGA II multi-objective evolutionary algorithm (MOEA) implemented in the ema_workbench. As a convergence metric, the epsilon progress was used. "
   ]
  },
  {
   "cell_type": "code",
   "execution_count": 6,
   "metadata": {},
   "outputs": [
    {
     "output_type": "stream",
     "name": "stderr",
     "text": "[MainProcess/INFO] pool started\n[MainProcess/INFO] generation 0: 0/20000 nfe\n[MainProcess/INFO] generation 5: 499/20000 nfe\n[MainProcess/INFO] generation 10: 996/20000 nfe\n[MainProcess/INFO] generation 15: 1496/20000 nfe\n[MainProcess/INFO] generation 20: 1994/20000 nfe\n[MainProcess/INFO] generation 25: 2492/20000 nfe\n[MainProcess/INFO] generation 30: 2988/20000 nfe\n[MainProcess/INFO] generation 35: 3486/20000 nfe\n[MainProcess/INFO] generation 40: 3986/20000 nfe\n[MainProcess/INFO] generation 45: 4486/20000 nfe\n[MainProcess/INFO] generation 50: 4985/20000 nfe\n[MainProcess/INFO] generation 55: 5483/20000 nfe\n[MainProcess/INFO] generation 60: 5978/20000 nfe\n[MainProcess/INFO] generation 65: 6478/20000 nfe\n[MainProcess/INFO] generation 70: 6976/20000 nfe\n[MainProcess/INFO] generation 75: 7472/20000 nfe\n[MainProcess/INFO] generation 80: 7971/20000 nfe\n[MainProcess/INFO] generation 85: 8470/20000 nfe\n[MainProcess/INFO] generation 90: 8970/20000 nfe\n[MainProcess/INFO] generation 95: 9468/20000 nfe\n[MainProcess/INFO] generation 100: 9965/20000 nfe\n[MainProcess/INFO] optimization completed, found 973 solutions\n[MainProcess/INFO] terminating pool\n"
    }
   ],
   "source": [
    "ema_logging.log_to_stderr(ema_logging.INFO)\n",
    "\n",
    "convergence_metrics = [EpsilonProgress()]\n",
    "\n",
    "with MultiprocessingEvaluator(dike_model) as evaluator:\n",
    "    results_epsilon_0_1 = evaluator.optimize(nfe=n_nfe, epsilons=[0.1,]*len(dike_model.outcomes), \n",
    "    reference = reference_scenarios[0], convergence= convergence_metrics, searchover=\"levers\")"
   ]
  },
  {
   "cell_type": "code",
   "execution_count": 7,
   "metadata": {},
   "outputs": [],
   "source": [
    "results, convergence = results_epsilon_0_1"
   ]
  },
  {
   "cell_type": "code",
   "execution_count": 8,
   "metadata": {},
   "outputs": [
    {
     "output_type": "stream",
     "name": "stderr",
     "text": "[MainProcess/INFO] results saved successfully to /Users/ricoherzog/OneDrive/Uni/2019-2020 WiSe Den Haag/Q4/EPA1361 Model Based Decision Making/05_Project/model-based-decision-making/results/20000nfe_BaseCaseMORDM_Gelderland.tar.gz\n"
    }
   ],
   "source": [
    "# Save Results\n",
    "save_results(results_epsilon_0_1, \"../results/\"+str(n_nfe)+\"nfe_BaseCaseMORDM_\"+province+\".tar.gz\")"
   ]
  },
  {
   "cell_type": "code",
   "execution_count": 104,
   "metadata": {
    "tags": []
   },
   "outputs": [
    {
     "output_type": "stream",
     "name": "stderr",
     "text": "[MainProcess/INFO] results loaded succesfully from /Users/ricoherzog/OneDrive/Uni/2019-2020 WiSe Den Haag/Q4/EPA1361 Model Based Decision Making/05_Project/model-based-decision-making/results/20000nfe_BaseCaseMORDM_Gelderland.tar.gz\n"
    }
   ],
   "source": [
    "# Load Results\n",
    "results_epsilon_0_1 = load_results(\"../results/\"+str(n_nfe)+\"nfe_BaseCaseMORDM_\"+province+\".tar.gz\")"
   ]
  },
  {
   "cell_type": "markdown",
   "metadata": {},
   "source": [
    "### Check for Convergence\n",
    "The optimization algorithm is now checked for convergence based on the Epsilon progress "
   ]
  },
  {
   "cell_type": "code",
   "execution_count": 105,
   "metadata": {},
   "outputs": [
    {
     "output_type": "display_data",
     "data": {
      "application/vnd.plotly.v1+json": {
       "config": {
        "plotlyServerURL": "https://plot.ly"
       },
       "data": [
        {
         "hovertemplate": "nfe=%{x}<br>epsilon_progress=%{y}<extra></extra>",
         "legendgroup": "",
         "line": {
          "color": "#636efa",
          "dash": "solid"
         },
         "mode": "lines",
         "name": "",
         "showlegend": false,
         "type": "scatter",
         "x": [
          0,
          100,
          1196,
          2292,
          3386,
          4386,
          5483,
          6578,
          7672,
          8770,
          9865,
          12207,
          15197,
          18187
         ],
         "xaxis": "x",
         "y": [
          0,
          61,
          416,
          680,
          936,
          1151,
          1350,
          1530,
          1701,
          1865,
          2032,
          2077,
          2231,
          2455
         ],
         "yaxis": "y"
        }
       ],
       "layout": {
        "legend": {
         "tracegroupgap": 0
        },
        "template": {
         "data": {
          "bar": [
           {
            "error_x": {
             "color": "#2a3f5f"
            },
            "error_y": {
             "color": "#2a3f5f"
            },
            "marker": {
             "line": {
              "color": "#E5ECF6",
              "width": 0.5
             }
            },
            "type": "bar"
           }
          ],
          "barpolar": [
           {
            "marker": {
             "line": {
              "color": "#E5ECF6",
              "width": 0.5
             }
            },
            "type": "barpolar"
           }
          ],
          "carpet": [
           {
            "aaxis": {
             "endlinecolor": "#2a3f5f",
             "gridcolor": "white",
             "linecolor": "white",
             "minorgridcolor": "white",
             "startlinecolor": "#2a3f5f"
            },
            "baxis": {
             "endlinecolor": "#2a3f5f",
             "gridcolor": "white",
             "linecolor": "white",
             "minorgridcolor": "white",
             "startlinecolor": "#2a3f5f"
            },
            "type": "carpet"
           }
          ],
          "choropleth": [
           {
            "colorbar": {
             "outlinewidth": 0,
             "ticks": ""
            },
            "type": "choropleth"
           }
          ],
          "contour": [
           {
            "colorbar": {
             "outlinewidth": 0,
             "ticks": ""
            },
            "colorscale": [
             [
              0,
              "#0d0887"
             ],
             [
              0.1111111111111111,
              "#46039f"
             ],
             [
              0.2222222222222222,
              "#7201a8"
             ],
             [
              0.3333333333333333,
              "#9c179e"
             ],
             [
              0.4444444444444444,
              "#bd3786"
             ],
             [
              0.5555555555555556,
              "#d8576b"
             ],
             [
              0.6666666666666666,
              "#ed7953"
             ],
             [
              0.7777777777777778,
              "#fb9f3a"
             ],
             [
              0.8888888888888888,
              "#fdca26"
             ],
             [
              1,
              "#f0f921"
             ]
            ],
            "type": "contour"
           }
          ],
          "contourcarpet": [
           {
            "colorbar": {
             "outlinewidth": 0,
             "ticks": ""
            },
            "type": "contourcarpet"
           }
          ],
          "heatmap": [
           {
            "colorbar": {
             "outlinewidth": 0,
             "ticks": ""
            },
            "colorscale": [
             [
              0,
              "#0d0887"
             ],
             [
              0.1111111111111111,
              "#46039f"
             ],
             [
              0.2222222222222222,
              "#7201a8"
             ],
             [
              0.3333333333333333,
              "#9c179e"
             ],
             [
              0.4444444444444444,
              "#bd3786"
             ],
             [
              0.5555555555555556,
              "#d8576b"
             ],
             [
              0.6666666666666666,
              "#ed7953"
             ],
             [
              0.7777777777777778,
              "#fb9f3a"
             ],
             [
              0.8888888888888888,
              "#fdca26"
             ],
             [
              1,
              "#f0f921"
             ]
            ],
            "type": "heatmap"
           }
          ],
          "heatmapgl": [
           {
            "colorbar": {
             "outlinewidth": 0,
             "ticks": ""
            },
            "colorscale": [
             [
              0,
              "#0d0887"
             ],
             [
              0.1111111111111111,
              "#46039f"
             ],
             [
              0.2222222222222222,
              "#7201a8"
             ],
             [
              0.3333333333333333,
              "#9c179e"
             ],
             [
              0.4444444444444444,
              "#bd3786"
             ],
             [
              0.5555555555555556,
              "#d8576b"
             ],
             [
              0.6666666666666666,
              "#ed7953"
             ],
             [
              0.7777777777777778,
              "#fb9f3a"
             ],
             [
              0.8888888888888888,
              "#fdca26"
             ],
             [
              1,
              "#f0f921"
             ]
            ],
            "type": "heatmapgl"
           }
          ],
          "histogram": [
           {
            "marker": {
             "colorbar": {
              "outlinewidth": 0,
              "ticks": ""
             }
            },
            "type": "histogram"
           }
          ],
          "histogram2d": [
           {
            "colorbar": {
             "outlinewidth": 0,
             "ticks": ""
            },
            "colorscale": [
             [
              0,
              "#0d0887"
             ],
             [
              0.1111111111111111,
              "#46039f"
             ],
             [
              0.2222222222222222,
              "#7201a8"
             ],
             [
              0.3333333333333333,
              "#9c179e"
             ],
             [
              0.4444444444444444,
              "#bd3786"
             ],
             [
              0.5555555555555556,
              "#d8576b"
             ],
             [
              0.6666666666666666,
              "#ed7953"
             ],
             [
              0.7777777777777778,
              "#fb9f3a"
             ],
             [
              0.8888888888888888,
              "#fdca26"
             ],
             [
              1,
              "#f0f921"
             ]
            ],
            "type": "histogram2d"
           }
          ],
          "histogram2dcontour": [
           {
            "colorbar": {
             "outlinewidth": 0,
             "ticks": ""
            },
            "colorscale": [
             [
              0,
              "#0d0887"
             ],
             [
              0.1111111111111111,
              "#46039f"
             ],
             [
              0.2222222222222222,
              "#7201a8"
             ],
             [
              0.3333333333333333,
              "#9c179e"
             ],
             [
              0.4444444444444444,
              "#bd3786"
             ],
             [
              0.5555555555555556,
              "#d8576b"
             ],
             [
              0.6666666666666666,
              "#ed7953"
             ],
             [
              0.7777777777777778,
              "#fb9f3a"
             ],
             [
              0.8888888888888888,
              "#fdca26"
             ],
             [
              1,
              "#f0f921"
             ]
            ],
            "type": "histogram2dcontour"
           }
          ],
          "mesh3d": [
           {
            "colorbar": {
             "outlinewidth": 0,
             "ticks": ""
            },
            "type": "mesh3d"
           }
          ],
          "parcoords": [
           {
            "line": {
             "colorbar": {
              "outlinewidth": 0,
              "ticks": ""
             }
            },
            "type": "parcoords"
           }
          ],
          "pie": [
           {
            "automargin": true,
            "type": "pie"
           }
          ],
          "scatter": [
           {
            "marker": {
             "colorbar": {
              "outlinewidth": 0,
              "ticks": ""
             }
            },
            "type": "scatter"
           }
          ],
          "scatter3d": [
           {
            "line": {
             "colorbar": {
              "outlinewidth": 0,
              "ticks": ""
             }
            },
            "marker": {
             "colorbar": {
              "outlinewidth": 0,
              "ticks": ""
             }
            },
            "type": "scatter3d"
           }
          ],
          "scattercarpet": [
           {
            "marker": {
             "colorbar": {
              "outlinewidth": 0,
              "ticks": ""
             }
            },
            "type": "scattercarpet"
           }
          ],
          "scattergeo": [
           {
            "marker": {
             "colorbar": {
              "outlinewidth": 0,
              "ticks": ""
             }
            },
            "type": "scattergeo"
           }
          ],
          "scattergl": [
           {
            "marker": {
             "colorbar": {
              "outlinewidth": 0,
              "ticks": ""
             }
            },
            "type": "scattergl"
           }
          ],
          "scattermapbox": [
           {
            "marker": {
             "colorbar": {
              "outlinewidth": 0,
              "ticks": ""
             }
            },
            "type": "scattermapbox"
           }
          ],
          "scatterpolar": [
           {
            "marker": {
             "colorbar": {
              "outlinewidth": 0,
              "ticks": ""
             }
            },
            "type": "scatterpolar"
           }
          ],
          "scatterpolargl": [
           {
            "marker": {
             "colorbar": {
              "outlinewidth": 0,
              "ticks": ""
             }
            },
            "type": "scatterpolargl"
           }
          ],
          "scatterternary": [
           {
            "marker": {
             "colorbar": {
              "outlinewidth": 0,
              "ticks": ""
             }
            },
            "type": "scatterternary"
           }
          ],
          "surface": [
           {
            "colorbar": {
             "outlinewidth": 0,
             "ticks": ""
            },
            "colorscale": [
             [
              0,
              "#0d0887"
             ],
             [
              0.1111111111111111,
              "#46039f"
             ],
             [
              0.2222222222222222,
              "#7201a8"
             ],
             [
              0.3333333333333333,
              "#9c179e"
             ],
             [
              0.4444444444444444,
              "#bd3786"
             ],
             [
              0.5555555555555556,
              "#d8576b"
             ],
             [
              0.6666666666666666,
              "#ed7953"
             ],
             [
              0.7777777777777778,
              "#fb9f3a"
             ],
             [
              0.8888888888888888,
              "#fdca26"
             ],
             [
              1,
              "#f0f921"
             ]
            ],
            "type": "surface"
           }
          ],
          "table": [
           {
            "cells": {
             "fill": {
              "color": "#EBF0F8"
             },
             "line": {
              "color": "white"
             }
            },
            "header": {
             "fill": {
              "color": "#C8D4E3"
             },
             "line": {
              "color": "white"
             }
            },
            "type": "table"
           }
          ]
         },
         "layout": {
          "annotationdefaults": {
           "arrowcolor": "#2a3f5f",
           "arrowhead": 0,
           "arrowwidth": 1
          },
          "coloraxis": {
           "colorbar": {
            "outlinewidth": 0,
            "ticks": ""
           }
          },
          "colorscale": {
           "diverging": [
            [
             0,
             "#8e0152"
            ],
            [
             0.1,
             "#c51b7d"
            ],
            [
             0.2,
             "#de77ae"
            ],
            [
             0.3,
             "#f1b6da"
            ],
            [
             0.4,
             "#fde0ef"
            ],
            [
             0.5,
             "#f7f7f7"
            ],
            [
             0.6,
             "#e6f5d0"
            ],
            [
             0.7,
             "#b8e186"
            ],
            [
             0.8,
             "#7fbc41"
            ],
            [
             0.9,
             "#4d9221"
            ],
            [
             1,
             "#276419"
            ]
           ],
           "sequential": [
            [
             0,
             "#0d0887"
            ],
            [
             0.1111111111111111,
             "#46039f"
            ],
            [
             0.2222222222222222,
             "#7201a8"
            ],
            [
             0.3333333333333333,
             "#9c179e"
            ],
            [
             0.4444444444444444,
             "#bd3786"
            ],
            [
             0.5555555555555556,
             "#d8576b"
            ],
            [
             0.6666666666666666,
             "#ed7953"
            ],
            [
             0.7777777777777778,
             "#fb9f3a"
            ],
            [
             0.8888888888888888,
             "#fdca26"
            ],
            [
             1,
             "#f0f921"
            ]
           ],
           "sequentialminus": [
            [
             0,
             "#0d0887"
            ],
            [
             0.1111111111111111,
             "#46039f"
            ],
            [
             0.2222222222222222,
             "#7201a8"
            ],
            [
             0.3333333333333333,
             "#9c179e"
            ],
            [
             0.4444444444444444,
             "#bd3786"
            ],
            [
             0.5555555555555556,
             "#d8576b"
            ],
            [
             0.6666666666666666,
             "#ed7953"
            ],
            [
             0.7777777777777778,
             "#fb9f3a"
            ],
            [
             0.8888888888888888,
             "#fdca26"
            ],
            [
             1,
             "#f0f921"
            ]
           ]
          },
          "colorway": [
           "#636efa",
           "#EF553B",
           "#00cc96",
           "#ab63fa",
           "#FFA15A",
           "#19d3f3",
           "#FF6692",
           "#B6E880",
           "#FF97FF",
           "#FECB52"
          ],
          "font": {
           "color": "#2a3f5f"
          },
          "geo": {
           "bgcolor": "white",
           "lakecolor": "white",
           "landcolor": "#E5ECF6",
           "showlakes": true,
           "showland": true,
           "subunitcolor": "white"
          },
          "hoverlabel": {
           "align": "left"
          },
          "hovermode": "closest",
          "mapbox": {
           "style": "light"
          },
          "paper_bgcolor": "white",
          "plot_bgcolor": "#E5ECF6",
          "polar": {
           "angularaxis": {
            "gridcolor": "white",
            "linecolor": "white",
            "ticks": ""
           },
           "bgcolor": "#E5ECF6",
           "radialaxis": {
            "gridcolor": "white",
            "linecolor": "white",
            "ticks": ""
           }
          },
          "scene": {
           "xaxis": {
            "backgroundcolor": "#E5ECF6",
            "gridcolor": "white",
            "gridwidth": 2,
            "linecolor": "white",
            "showbackground": true,
            "ticks": "",
            "zerolinecolor": "white"
           },
           "yaxis": {
            "backgroundcolor": "#E5ECF6",
            "gridcolor": "white",
            "gridwidth": 2,
            "linecolor": "white",
            "showbackground": true,
            "ticks": "",
            "zerolinecolor": "white"
           },
           "zaxis": {
            "backgroundcolor": "#E5ECF6",
            "gridcolor": "white",
            "gridwidth": 2,
            "linecolor": "white",
            "showbackground": true,
            "ticks": "",
            "zerolinecolor": "white"
           }
          },
          "shapedefaults": {
           "line": {
            "color": "#2a3f5f"
           }
          },
          "ternary": {
           "aaxis": {
            "gridcolor": "white",
            "linecolor": "white",
            "ticks": ""
           },
           "baxis": {
            "gridcolor": "white",
            "linecolor": "white",
            "ticks": ""
           },
           "bgcolor": "#E5ECF6",
           "caxis": {
            "gridcolor": "white",
            "linecolor": "white",
            "ticks": ""
           }
          },
          "title": {
           "x": 0.05
          },
          "xaxis": {
           "automargin": true,
           "gridcolor": "white",
           "linecolor": "white",
           "ticks": "",
           "title": {
            "standoff": 15
           },
           "zerolinecolor": "white",
           "zerolinewidth": 2
          },
          "yaxis": {
           "automargin": true,
           "gridcolor": "white",
           "linecolor": "white",
           "ticks": "",
           "title": {
            "standoff": 15
           },
           "zerolinecolor": "white",
           "zerolinewidth": 2
          }
         }
        },
        "title": {
         "text": "Epsilon Progress"
        },
        "xaxis": {
         "anchor": "y",
         "domain": [
          0,
          1
         ],
         "title": {
          "text": "nfe"
         }
        },
        "yaxis": {
         "anchor": "x",
         "domain": [
          0,
          1
         ],
         "title": {
          "text": "epsilon_progress"
         }
        }
       }
      }
     },
     "metadata": {}
    }
   ],
   "source": [
    "results, convergence = results_epsilon_0_1\n",
    "convergence = pd.DataFrame(convergence)\n",
    "fig0 = px.line(convergence, x = \"nfe\", y = \"epsilon_progress\", title=\"Epsilon Progress\")\n",
    "fig0.show()"
   ]
  },
  {
   "cell_type": "markdown",
   "metadata": {},
   "source": [
    "As it can be seen in the plot, the algorithm did not fully converge. However, due to limited computational resources we decided to go forward with the solutions found after 20.000 function evaluations. For a more precice analysis, we encourage other researchers to use high-performance computational clusters to run the MOEA until full convergence is reached."
   ]
  },
  {
   "cell_type": "markdown",
   "metadata": {},
   "source": [
    "## Show tradeoffs in the resulting optimal policies\n",
    "The algorithm found 973 solutions, which are displayed in the following section of the notebook.   "
   ]
  },
  {
   "cell_type": "code",
   "execution_count": 110,
   "metadata": {},
   "outputs": [],
   "source": [
    "# fig1 = px.parallel_coordinates(results.iloc[:, 31::], labels= \n",
    "#    {\"A1_2 Aggr Expected Annual Damage\" : \"A1 & 2 Damage\", \n",
    "#    \"A3 Expected Annual Damage\" : \"A3 Damage\", \n",
    "#    \"A1_2 Aggr Expected Number of Deaths\" : \"A1 & 2 Casualties\", \n",
    "#    \"A3 Aggr Expected Number of Deaths\" : \"A3 Casualties\", \n",
    "#    \"A1_5 Dike Investment Costs\" : \"Investment Costs\", \n",
    "#    \"Room for River Investment Costs\" : \"RfR Investment Costs\"}, \n",
    "#    color=results.index, \n",
    "#    dimensions = [\"A1_2 Aggr Expected Annual Damage\", \n",
    "#                    \"A3 Expected Annual Damage\", \n",
    "#                    \"A1_2 Aggr Expected Number of Deaths\",\n",
    "#                    \"A3 Aggr Expected Number of Deaths\", \n",
    "#                    \"A1_5 Dike Investment Costs\", \n",
    "#                    \"Room for River Investment Costs\" ])\n",
    "# fig1.update_layout(showlegend=False)\n",
    "# fig1.show()"
   ]
  },
  {
   "cell_type": "markdown",
   "metadata": {
    "tags": []
   },
   "source": [
    "![Tradeoffs](../figures/Gelderland_Tradeoffs_1ReferenceScenario.png)\n"
   ]
  },
  {
   "cell_type": "markdown",
   "metadata": {},
   "source": [
    "To show the tradeoffs more clearly, we aggregate the costs and the expected number of casualties, as well as the investment costs with the evacuation costs"
   ]
  },
  {
   "cell_type": "code",
   "execution_count": 97,
   "metadata": {},
   "outputs": [],
   "source": [
    "results_agg = results.iloc[:, 31::]\n",
    "results_agg[\"Expected Casualties\"] = results_agg[\"A1_2 Aggr Expected Number of Deaths\"] + results_agg[\"A3 Aggr Expected Number of Deaths\"]\n",
    "results_agg[\"Expected Damage\"] = results_agg[\"A1_2 Aggr Expected Annual Damage\"] + results_agg[\"A3 Expected Annual Damage\"]\n",
    "results_agg[\"Traditional Costs\"] = results_agg[\"A1_5 Dike Investment Costs\"] + results_agg[\"Evacuation Costs\"]\n"
   ]
  },
  {
   "cell_type": "code",
   "execution_count": 116,
   "metadata": {},
   "outputs": [],
   "source": [
    "#fig2 = px.parallel_coordinates(results_agg, dimensions=[\"Expected Casualties\",\"Expected Damage\", \"Traditional Costs\", \"Room for River Investment Costs\"], color = results_agg.index)\n",
    "#fig2.update_layout(showlegend=False)\n",
    "#fig2.show()"
   ]
  },
  {
   "cell_type": "markdown",
   "metadata": {},
   "source": [
    "![](../figures/Gelderland_Tradeoffs_Aggr_1ReferenceScenario.png)"
   ]
  },
  {
   "cell_type": "markdown",
   "metadata": {},
   "source": [
    "## Re-Evaluate under deep uncertainty\n",
    "For evaluating the promising policies under deep uncertainty, we set a hard limit on one expected casualties below 0.001 and expected damages below €100.000. "
   ]
  },
  {
   "cell_type": "code",
   "execution_count": 14,
   "metadata": {},
   "outputs": [],
   "source": [
    "results_subset = results[\n",
    "    ((results[\"A1_2 Aggr Expected Number of Deaths\"] + results[\"A3 Aggr Expected Number of Deaths\"]) < 0.001) &\n",
    "    ((results[\"A1_2 Aggr Expected Annual Damage\"] + results[\"A3 Expected Annual Damage\"]) < 100000) ]"
   ]
  },
  {
   "cell_type": "markdown",
   "metadata": {},
   "source": [
    "We further use the remaining policies to test them under deep uncertainty by running the policies for 1000 scenarios each. "
   ]
  },
  {
   "cell_type": "code",
   "execution_count": 15,
   "metadata": {},
   "outputs": [],
   "source": [
    "policies = results_subset.iloc[:,0:31]\n",
    "policies_to_evaluate = []\n",
    "\n",
    "for i, policy in policies.iterrows():\n",
    "    policies_to_evaluate.append(Policy(str(i), **policy.to_dict()))"
   ]
  },
  {
   "cell_type": "code",
   "execution_count": 16,
   "metadata": {},
   "outputs": [
    {
     "output_type": "stream",
     "name": "stderr",
     "text": "[MainProcess/INFO] pool started\n[MainProcess/INFO] performing 1000 scenarios * 18 policies * 1 model(s) = 18000 experiments\n[MainProcess/INFO] 1800 cases completed\n[MainProcess/INFO] 3600 cases completed\n[MainProcess/INFO] 5400 cases completed\n[MainProcess/INFO] 7200 cases completed\n[MainProcess/INFO] 9000 cases completed\n[MainProcess/INFO] 10800 cases completed\n[MainProcess/INFO] 12600 cases completed\n[MainProcess/INFO] 14400 cases completed\n[MainProcess/INFO] 16200 cases completed\n[MainProcess/INFO] 18000 cases completed\n[MainProcess/INFO] experiments finished\n[MainProcess/INFO] terminating pool\n"
    }
   ],
   "source": [
    "ema_logging.log_to_stderr(ema_logging.INFO)\n",
    "\n",
    "with MultiprocessingEvaluator(dike_model) as evaluator:\n",
    "    results = evaluator.perform_experiments(n_scenarios, policies_to_evaluate)"
   ]
  },
  {
   "cell_type": "code",
   "execution_count": 17,
   "metadata": {},
   "outputs": [
    {
     "output_type": "stream",
     "name": "stderr",
     "text": "[MainProcess/INFO] results saved successfully to /Users/ricoherzog/OneDrive/Uni/2019-2020 WiSe Den Haag/Q4/EPA1361 Model Based Decision Making/05_Project/model-based-decision-making/results/DeepUncertainty8policies_1000scenarios_Gelderland.tar.gz\n"
    }
   ],
   "source": [
    "#Save results\n",
    "save_results(results, \"../results/DeepUncertainty8policies_\"+str(n_scenarios)+\"scenarios_\"+province+\".tar.gz\")"
   ]
  },
  {
   "cell_type": "code",
   "execution_count": 99,
   "metadata": {
    "tags": []
   },
   "outputs": [
    {
     "output_type": "stream",
     "name": "stderr",
     "text": "[MainProcess/INFO] results loaded succesfully from /Users/ricoherzog/OneDrive/Uni/2019-2020 WiSe Den Haag/Q4/EPA1361 Model Based Decision Making/05_Project/model-based-decision-making/results/DeepUncertainty8policies_1000scenarios_Gelderland.tar.gz\n"
    }
   ],
   "source": [
    "#Load results\n",
    "results = load_results(\"../results/DeepUncertainty8policies_\"+str(n_scenarios)+\"scenarios_\"+province+\".tar.gz\")\n",
    "experiments, outcomes = results\n"
   ]
  },
  {
   "cell_type": "markdown",
   "metadata": {},
   "source": [
    "## Robustness Evaluation\n",
    "### Signal-to-noise Ratio\n",
    "To find the most robust policy, we rate the different policies by calculating the signal-to-noise ratio. For those model outcomes which are to be minimized, this metric multiplies the mean over all scenarios times the standard deviation. In that sense, the higher the signal-to-noise ratio is for a given policy over the outcomes, the less robust the policy performs. "
   ]
  },
  {
   "cell_type": "code",
   "execution_count": 100,
   "metadata": {},
   "outputs": [],
   "source": [
    "#Define a function to calculate the signal-to-noise ratio\n",
    "def s_to_n(data, direction):\n",
    "    mean = np.mean(data)\n",
    "    std = np.std(data)\n",
    "    \n",
    "    if direction==ScalarOutcome.MAXIMIZE:\n",
    "        return mean/std\n",
    "    else:\n",
    "        return mean*std"
   ]
  },
  {
   "cell_type": "code",
   "execution_count": 101,
   "metadata": {},
   "outputs": [
    {
     "output_type": "execute_result",
     "data": {
      "text/plain": "    index  A1_2 Aggr Expected Annual Damage  A3 Expected Annual Damage  \\\n0      26                      1.950930e+11               2.472914e+10   \n1     120                      5.736757e+13               1.247349e+11   \n2     416                      2.241515e+14               2.876282e+09   \n3     417                      1.849846e+15               2.731501e+10   \n4     419                      5.573449e+13               5.152380e+09   \n5     422                      5.100384e+13               3.421490e+10   \n6     423                      5.619190e+13               2.653684e+10   \n7     467                      2.527578e+12               2.477728e+11   \n8     471                      1.167043e+14               5.152380e+09   \n9     491                      3.248518e+11               2.159940e+10   \n10    527                      4.642258e+15               2.055948e+10   \n11    533                      5.477562e+15               0.000000e+00   \n12    578                      3.303609e+10               2.860549e+10   \n13    610                      5.190944e+13               1.026154e+10   \n14    617                      8.491015e+14               2.876282e+09   \n15    650                      4.740032e+10               2.678652e+09   \n16    859                      8.667299e+13               2.286305e+11   \n17    884                      3.340723e+14               2.611319e+09   \n\n    A1_2 Aggr Expected Number of Deaths  A3 Aggr Expected Number of Deaths  \\\n0                          2.290124e-09                       1.522982e-09   \n1                          3.369952e-07                       7.914261e-09   \n2                          8.737306e-05                       7.049526e-09   \n3                          1.886190e-05                       1.785753e-09   \n4                          1.998038e-07                       2.559858e-10   \n5                          1.191449e-05                       9.247041e-08   \n6                          1.397581e-05                       7.522977e-08   \n7                          6.920938e-07                       6.676501e-07   \n8                          3.963251e-05                       1.777679e-08   \n9                          4.782207e-09                       9.709301e-10   \n10                         3.085043e-05                       8.924712e-10   \n11                         3.308285e-04                       0.000000e+00   \n12                         3.546109e-08                       8.085505e-08   \n13                         1.597043e-06                       4.143591e-09   \n14                         5.612026e-06                       1.015132e-10   \n15                         7.781089e-10                       1.396840e-10   \n16                         3.718206e-07                       9.612916e-09   \n17                         2.043630e-06                       8.679309e-11   \n\n    A1_5 Dike Investment Costs  Room for River Investment Costs  \\\n0                     0.000000                              0.0   \n1                     0.000000                              0.0   \n2                     0.000000                              0.0   \n3                  3054.828216                              0.0   \n4                     0.000000                              0.0   \n5                  1013.169417                              0.0   \n6                  3806.437913                              0.0   \n7                  1100.948388                              0.0   \n8                  1730.115180                              0.0   \n9                     0.000000                              0.0   \n10                 1525.057779                              0.0   \n11                 1547.554493                              0.0   \n12                    0.000000                              0.0   \n13                    0.000000                              0.0   \n14                 1163.931731                              0.0   \n15                 1794.859271                              0.0   \n16                    0.000000                              0.0   \n17                    0.000000                              0.0   \n\n    Evacuation Costs  \n0       1.269112e+05  \n1       7.006888e+05  \n2       0.000000e+00  \n3       2.600725e+05  \n4       1.373088e+05  \n5       0.000000e+00  \n6       0.000000e+00  \n7       0.000000e+00  \n8       0.000000e+00  \n9       8.427690e+04  \n10      1.873526e+06  \n11      9.686557e+05  \n12      0.000000e+00  \n13      1.625669e+05  \n14      1.806115e+07  \n15      8.074576e+04  \n16      2.316022e+07  \n17      2.040443e+07  ",
      "text/html": "<div>\n<style scoped>\n    .dataframe tbody tr th:only-of-type {\n        vertical-align: middle;\n    }\n\n    .dataframe tbody tr th {\n        vertical-align: top;\n    }\n\n    .dataframe thead th {\n        text-align: right;\n    }\n</style>\n<table border=\"1\" class=\"dataframe\">\n  <thead>\n    <tr style=\"text-align: right;\">\n      <th></th>\n      <th>index</th>\n      <th>A1_2 Aggr Expected Annual Damage</th>\n      <th>A3 Expected Annual Damage</th>\n      <th>A1_2 Aggr Expected Number of Deaths</th>\n      <th>A3 Aggr Expected Number of Deaths</th>\n      <th>A1_5 Dike Investment Costs</th>\n      <th>Room for River Investment Costs</th>\n      <th>Evacuation Costs</th>\n    </tr>\n  </thead>\n  <tbody>\n    <tr>\n      <th>0</th>\n      <td>26</td>\n      <td>1.950930e+11</td>\n      <td>2.472914e+10</td>\n      <td>2.290124e-09</td>\n      <td>1.522982e-09</td>\n      <td>0.000000</td>\n      <td>0.0</td>\n      <td>1.269112e+05</td>\n    </tr>\n    <tr>\n      <th>1</th>\n      <td>120</td>\n      <td>5.736757e+13</td>\n      <td>1.247349e+11</td>\n      <td>3.369952e-07</td>\n      <td>7.914261e-09</td>\n      <td>0.000000</td>\n      <td>0.0</td>\n      <td>7.006888e+05</td>\n    </tr>\n    <tr>\n      <th>2</th>\n      <td>416</td>\n      <td>2.241515e+14</td>\n      <td>2.876282e+09</td>\n      <td>8.737306e-05</td>\n      <td>7.049526e-09</td>\n      <td>0.000000</td>\n      <td>0.0</td>\n      <td>0.000000e+00</td>\n    </tr>\n    <tr>\n      <th>3</th>\n      <td>417</td>\n      <td>1.849846e+15</td>\n      <td>2.731501e+10</td>\n      <td>1.886190e-05</td>\n      <td>1.785753e-09</td>\n      <td>3054.828216</td>\n      <td>0.0</td>\n      <td>2.600725e+05</td>\n    </tr>\n    <tr>\n      <th>4</th>\n      <td>419</td>\n      <td>5.573449e+13</td>\n      <td>5.152380e+09</td>\n      <td>1.998038e-07</td>\n      <td>2.559858e-10</td>\n      <td>0.000000</td>\n      <td>0.0</td>\n      <td>1.373088e+05</td>\n    </tr>\n    <tr>\n      <th>5</th>\n      <td>422</td>\n      <td>5.100384e+13</td>\n      <td>3.421490e+10</td>\n      <td>1.191449e-05</td>\n      <td>9.247041e-08</td>\n      <td>1013.169417</td>\n      <td>0.0</td>\n      <td>0.000000e+00</td>\n    </tr>\n    <tr>\n      <th>6</th>\n      <td>423</td>\n      <td>5.619190e+13</td>\n      <td>2.653684e+10</td>\n      <td>1.397581e-05</td>\n      <td>7.522977e-08</td>\n      <td>3806.437913</td>\n      <td>0.0</td>\n      <td>0.000000e+00</td>\n    </tr>\n    <tr>\n      <th>7</th>\n      <td>467</td>\n      <td>2.527578e+12</td>\n      <td>2.477728e+11</td>\n      <td>6.920938e-07</td>\n      <td>6.676501e-07</td>\n      <td>1100.948388</td>\n      <td>0.0</td>\n      <td>0.000000e+00</td>\n    </tr>\n    <tr>\n      <th>8</th>\n      <td>471</td>\n      <td>1.167043e+14</td>\n      <td>5.152380e+09</td>\n      <td>3.963251e-05</td>\n      <td>1.777679e-08</td>\n      <td>1730.115180</td>\n      <td>0.0</td>\n      <td>0.000000e+00</td>\n    </tr>\n    <tr>\n      <th>9</th>\n      <td>491</td>\n      <td>3.248518e+11</td>\n      <td>2.159940e+10</td>\n      <td>4.782207e-09</td>\n      <td>9.709301e-10</td>\n      <td>0.000000</td>\n      <td>0.0</td>\n      <td>8.427690e+04</td>\n    </tr>\n    <tr>\n      <th>10</th>\n      <td>527</td>\n      <td>4.642258e+15</td>\n      <td>2.055948e+10</td>\n      <td>3.085043e-05</td>\n      <td>8.924712e-10</td>\n      <td>1525.057779</td>\n      <td>0.0</td>\n      <td>1.873526e+06</td>\n    </tr>\n    <tr>\n      <th>11</th>\n      <td>533</td>\n      <td>5.477562e+15</td>\n      <td>0.000000e+00</td>\n      <td>3.308285e-04</td>\n      <td>0.000000e+00</td>\n      <td>1547.554493</td>\n      <td>0.0</td>\n      <td>9.686557e+05</td>\n    </tr>\n    <tr>\n      <th>12</th>\n      <td>578</td>\n      <td>3.303609e+10</td>\n      <td>2.860549e+10</td>\n      <td>3.546109e-08</td>\n      <td>8.085505e-08</td>\n      <td>0.000000</td>\n      <td>0.0</td>\n      <td>0.000000e+00</td>\n    </tr>\n    <tr>\n      <th>13</th>\n      <td>610</td>\n      <td>5.190944e+13</td>\n      <td>1.026154e+10</td>\n      <td>1.597043e-06</td>\n      <td>4.143591e-09</td>\n      <td>0.000000</td>\n      <td>0.0</td>\n      <td>1.625669e+05</td>\n    </tr>\n    <tr>\n      <th>14</th>\n      <td>617</td>\n      <td>8.491015e+14</td>\n      <td>2.876282e+09</td>\n      <td>5.612026e-06</td>\n      <td>1.015132e-10</td>\n      <td>1163.931731</td>\n      <td>0.0</td>\n      <td>1.806115e+07</td>\n    </tr>\n    <tr>\n      <th>15</th>\n      <td>650</td>\n      <td>4.740032e+10</td>\n      <td>2.678652e+09</td>\n      <td>7.781089e-10</td>\n      <td>1.396840e-10</td>\n      <td>1794.859271</td>\n      <td>0.0</td>\n      <td>8.074576e+04</td>\n    </tr>\n    <tr>\n      <th>16</th>\n      <td>859</td>\n      <td>8.667299e+13</td>\n      <td>2.286305e+11</td>\n      <td>3.718206e-07</td>\n      <td>9.612916e-09</td>\n      <td>0.000000</td>\n      <td>0.0</td>\n      <td>2.316022e+07</td>\n    </tr>\n    <tr>\n      <th>17</th>\n      <td>884</td>\n      <td>3.340723e+14</td>\n      <td>2.611319e+09</td>\n      <td>2.043630e-06</td>\n      <td>8.679309e-11</td>\n      <td>0.000000</td>\n      <td>0.0</td>\n      <td>2.040443e+07</td>\n    </tr>\n  </tbody>\n</table>\n</div>"
     },
     "metadata": {},
     "execution_count": 101
    }
   ],
   "source": [
    "#Calculate the signal-to-noise ratio \n",
    "overall_scores = {}\n",
    "for policy in np.unique(experiments['policy']):\n",
    "    scores = {}\n",
    "    \n",
    "    logical = experiments['policy']==policy\n",
    "    \n",
    "    for outcome in dike_model.outcomes:\n",
    "        value  = outcomes[outcome.name][logical]\n",
    "        sn_ratio = s_to_n(value, outcome.kind)\n",
    "        scores[outcome.name] = sn_ratio\n",
    "    overall_scores[policy] = scores\n",
    "scores = pd.DataFrame.from_dict(overall_scores).T\n",
    "scores = scores.reset_index()\n",
    "scores"
   ]
  },
  {
   "cell_type": "markdown",
   "metadata": {},
   "source": [
    "For a better visual understanding, we will plot the stn ratio in a parallel coordinates plot. "
   ]
  },
  {
   "cell_type": "code",
   "execution_count": 118,
   "metadata": {},
   "outputs": [],
   "source": [
    "#fig3 = px.parallel_coordinates(scores, labels= {\"A1_2 Aggr Expected Annual Damage\" : \"A1 & 2 Damage\", \"A3 Expected Annual Damage\" : \"A3 Damage\", \"A1_2 Aggr Expected Number of Deaths\" : \"A1 & 2 Casualties\", \"A3 Aggr Expected Number of Deaths\" : \"A3 Casualties\", \"A1_5 Dike Investment Costs\" : \"Investment Costs\", \"Room for River Investment Costs\" : \"RfR Investment Costs\"}, color = scores.index, dimensions=[\"A1_2 Aggr Expected Annual Damage\", \"A3 Expected Annual Damage\", \"A1_2 Aggr Expected Number of Deaths\",\"A3 Aggr Expected Number of Deaths\", \"A1_5 Dike Investment Costs\", \"Room for River Investment Costs\" ])\n",
    "#fig3.show()"
   ]
  },
  {
   "cell_type": "markdown",
   "metadata": {},
   "source": [
    "We find some robust policies, as seen in the graph.\n",
    "\n",
    "![](../figures/Gelderland_stnr.png)\n",
    "\n"
   ]
  },
  {
   "cell_type": "markdown",
   "metadata": {},
   "source": [
    "### Maximum Regret\n",
    "Another robustness criterion is the maximum regret measure. We again calculate this measure for every policy selected"
   ]
  },
  {
   "cell_type": "code",
   "execution_count": 119,
   "metadata": {},
   "outputs": [],
   "source": [
    "def calculate_regret(data, best):\n",
    "    return np.abs(best-data)\n",
    "\n",
    "\n",
    "overall_regret = {}\n",
    "max_regret = {}\n",
    "for outcome in dike_model.outcomes:\n",
    "    policy_column = experiments['policy']\n",
    "    \n",
    "    # create a DataFrame with all the relevent information\n",
    "    # i.e., policy, scenario_id, and scores\n",
    "    data = pd.DataFrame({outcome.name: outcomes[outcome.name], \n",
    "                         \"policy\":experiments['policy'],\n",
    "                         \"scenario\":experiments['scenario']})\n",
    "    \n",
    "    data = data.pivot(index='scenario', columns='policy')\n",
    "    data.columns = data.columns.get_level_values(1)\n",
    "    \n",
    "    outcome_regret = (data.max(axis=1)[:, np.newaxis] - data).abs()\n",
    "    \n",
    "    overall_regret[outcome.name] = outcome_regret\n",
    "    max_regret[outcome.name] = outcome_regret.max()"
   ]
  },
  {
   "cell_type": "code",
   "execution_count": 120,
   "metadata": {},
   "outputs": [],
   "source": [
    "max_regret = pd.DataFrame(max_regret)\n",
    "max_regret = max_regret.reindex()"
   ]
  },
  {
   "cell_type": "code",
   "execution_count": 121,
   "metadata": {},
   "outputs": [
    {
     "output_type": "display_data",
     "data": {
      "application/vnd.plotly.v1+json": {
       "config": {
        "plotlyServerURL": "https://plot.ly"
       },
       "data": [
        {
         "coloraxis": "coloraxis",
         "hovertemplate": "Outcomes: %{x}<br>Policies: %{y}<br>Maximum regret: %{z}<extra></extra>",
         "type": "heatmap",
         "z": [
          [
           0.9824370328968324,
           0.6769689777962209,
           0.9957938027259525,
           0.956417819043506,
           0.7889023021320442,
           0.5749923195084485,
           0.8007515903917669
          ],
          [
           0.6901029313385416,
           0.3903348846091738,
           0.8902041189918455,
           0.9054836301569914,
           0.35721365134873856,
           0.9595084485407066,
           0.7843123283043987
          ],
          [
           0.6399571428372941,
           0.8598933911931734,
           0.25792621912450087,
           0.8720107040128844,
           0.19817786450485644,
           0.7810752688172043,
           1
          ],
          [
           0.4448394145271554,
           0.6643736752674245,
           0.7629803603808963,
           0.9527113194686471,
           0.42222913664190626,
           0.7465437788018433,
           0.9058916562193334
          ],
          [
           0.6854732277868507,
           0.8591822415425329,
           0.9140245936251664,
           0.9845034942610279,
           0.0492926580414525,
           0.8839938556067588,
           0.7788153573475567
          ],
          [
           0.6901029313385416,
           0.6872078797429267,
           0.7126060457770438,
           0.6902344234045236,
           1,
           0,
           1
          ],
          [
           0.6846216582973054,
           0.6688550215960939,
           0.6865151430963964,
           0.6941268886307438,
           0,
           0.9370199692780338,
           1
          ],
          [
           0.9078003185392414,
           0.1097156531115728,
           0.8527925087865356,
           0,
           0.9013774317652316,
           0.47698924731182796,
           1
          ],
          [
           0.6623859762703813,
           0.8591822415425329,
           0.2850669986641473,
           0.8708624521752331,
           0.1944877999416638,
           0.8069431643625192,
           1
          ],
          [
           0.9975850962956674,
           0.7535486879356849,
           0.9995373191184116,
           0.9485706998355682,
           0.3602132898224238,
           0.7585867895545315,
           0.9430603276665416
          ],
          [
           0.5452951655538045,
           0.7581666898691077,
           0.9121632951934764,
           0.9512262224338718,
           0.4248765503182573,
           0.791705069124424,
           0.7153837078409334
          ],
          [
           0.32335805015940644,
           1,
           0.4827595191062332,
           1,
           0.3996007496799338,
           0.791705069124424,
           0.7570780504554083
          ],
          [
           1,
           0.6607920519763019,
           1,
           0.6603401144342069,
           0.6418747450905269,
           0.6992319508448541,
           1
          ],
          [
           0.6901029313385416,
           0.8634491394463771,
           0.7420737808754991,
           0.9126279949266042,
           0.29761541617816417,
           0.791705069124424,
           0.970765299682651
          ],
          [
           0.5874608619809474,
           0.8598933911931734,
           0.7420737808754992,
           0.9846412844815462,
           0.8306135700957614,
           0.7810752688172043,
           0.6091826878609977
          ],
          [
           0.9932473515560857,
           0.8625009399121895,
           0.9983258230143259,
           0.9814331441126408,
           0.12174567966874039,
           1,
           0.8637736114741197
          ],
          [
           0.6695889831804027,
           0.12076567528830608,
           0.9052517012683617,
           0.8765328188143382,
           0.7951690878745022,
           0.7502918586789554,
           0.2785924089985218
          ],
          [
           0.6609682717304116,
           0.8608415907273611,
           0.7420737808754992,
           0.9848250047755703,
           0.9562896869265184,
           0.6247619047619047,
           0.20412935530116663
          ]
         ]
        }
       ],
       "layout": {
        "coloraxis": {
         "colorbar": {
          "title": {
           "text": "Maximum regret"
          }
         },
         "colorscale": [
          [
           0,
           "#0d0887"
          ],
          [
           0.1111111111111111,
           "#46039f"
          ],
          [
           0.2222222222222222,
           "#7201a8"
          ],
          [
           0.3333333333333333,
           "#9c179e"
          ],
          [
           0.4444444444444444,
           "#bd3786"
          ],
          [
           0.5555555555555556,
           "#d8576b"
          ],
          [
           0.6666666666666666,
           "#ed7953"
          ],
          [
           0.7777777777777778,
           "#fb9f3a"
          ],
          [
           0.8888888888888888,
           "#fdca26"
          ],
          [
           1,
           "#f0f921"
          ]
         ]
        },
        "margin": {
         "t": 60
        },
        "template": {
         "data": {
          "bar": [
           {
            "error_x": {
             "color": "#2a3f5f"
            },
            "error_y": {
             "color": "#2a3f5f"
            },
            "marker": {
             "line": {
              "color": "#E5ECF6",
              "width": 0.5
             }
            },
            "type": "bar"
           }
          ],
          "barpolar": [
           {
            "marker": {
             "line": {
              "color": "#E5ECF6",
              "width": 0.5
             }
            },
            "type": "barpolar"
           }
          ],
          "carpet": [
           {
            "aaxis": {
             "endlinecolor": "#2a3f5f",
             "gridcolor": "white",
             "linecolor": "white",
             "minorgridcolor": "white",
             "startlinecolor": "#2a3f5f"
            },
            "baxis": {
             "endlinecolor": "#2a3f5f",
             "gridcolor": "white",
             "linecolor": "white",
             "minorgridcolor": "white",
             "startlinecolor": "#2a3f5f"
            },
            "type": "carpet"
           }
          ],
          "choropleth": [
           {
            "colorbar": {
             "outlinewidth": 0,
             "ticks": ""
            },
            "type": "choropleth"
           }
          ],
          "contour": [
           {
            "colorbar": {
             "outlinewidth": 0,
             "ticks": ""
            },
            "colorscale": [
             [
              0,
              "#0d0887"
             ],
             [
              0.1111111111111111,
              "#46039f"
             ],
             [
              0.2222222222222222,
              "#7201a8"
             ],
             [
              0.3333333333333333,
              "#9c179e"
             ],
             [
              0.4444444444444444,
              "#bd3786"
             ],
             [
              0.5555555555555556,
              "#d8576b"
             ],
             [
              0.6666666666666666,
              "#ed7953"
             ],
             [
              0.7777777777777778,
              "#fb9f3a"
             ],
             [
              0.8888888888888888,
              "#fdca26"
             ],
             [
              1,
              "#f0f921"
             ]
            ],
            "type": "contour"
           }
          ],
          "contourcarpet": [
           {
            "colorbar": {
             "outlinewidth": 0,
             "ticks": ""
            },
            "type": "contourcarpet"
           }
          ],
          "heatmap": [
           {
            "colorbar": {
             "outlinewidth": 0,
             "ticks": ""
            },
            "colorscale": [
             [
              0,
              "#0d0887"
             ],
             [
              0.1111111111111111,
              "#46039f"
             ],
             [
              0.2222222222222222,
              "#7201a8"
             ],
             [
              0.3333333333333333,
              "#9c179e"
             ],
             [
              0.4444444444444444,
              "#bd3786"
             ],
             [
              0.5555555555555556,
              "#d8576b"
             ],
             [
              0.6666666666666666,
              "#ed7953"
             ],
             [
              0.7777777777777778,
              "#fb9f3a"
             ],
             [
              0.8888888888888888,
              "#fdca26"
             ],
             [
              1,
              "#f0f921"
             ]
            ],
            "type": "heatmap"
           }
          ],
          "heatmapgl": [
           {
            "colorbar": {
             "outlinewidth": 0,
             "ticks": ""
            },
            "colorscale": [
             [
              0,
              "#0d0887"
             ],
             [
              0.1111111111111111,
              "#46039f"
             ],
             [
              0.2222222222222222,
              "#7201a8"
             ],
             [
              0.3333333333333333,
              "#9c179e"
             ],
             [
              0.4444444444444444,
              "#bd3786"
             ],
             [
              0.5555555555555556,
              "#d8576b"
             ],
             [
              0.6666666666666666,
              "#ed7953"
             ],
             [
              0.7777777777777778,
              "#fb9f3a"
             ],
             [
              0.8888888888888888,
              "#fdca26"
             ],
             [
              1,
              "#f0f921"
             ]
            ],
            "type": "heatmapgl"
           }
          ],
          "histogram": [
           {
            "marker": {
             "colorbar": {
              "outlinewidth": 0,
              "ticks": ""
             }
            },
            "type": "histogram"
           }
          ],
          "histogram2d": [
           {
            "colorbar": {
             "outlinewidth": 0,
             "ticks": ""
            },
            "colorscale": [
             [
              0,
              "#0d0887"
             ],
             [
              0.1111111111111111,
              "#46039f"
             ],
             [
              0.2222222222222222,
              "#7201a8"
             ],
             [
              0.3333333333333333,
              "#9c179e"
             ],
             [
              0.4444444444444444,
              "#bd3786"
             ],
             [
              0.5555555555555556,
              "#d8576b"
             ],
             [
              0.6666666666666666,
              "#ed7953"
             ],
             [
              0.7777777777777778,
              "#fb9f3a"
             ],
             [
              0.8888888888888888,
              "#fdca26"
             ],
             [
              1,
              "#f0f921"
             ]
            ],
            "type": "histogram2d"
           }
          ],
          "histogram2dcontour": [
           {
            "colorbar": {
             "outlinewidth": 0,
             "ticks": ""
            },
            "colorscale": [
             [
              0,
              "#0d0887"
             ],
             [
              0.1111111111111111,
              "#46039f"
             ],
             [
              0.2222222222222222,
              "#7201a8"
             ],
             [
              0.3333333333333333,
              "#9c179e"
             ],
             [
              0.4444444444444444,
              "#bd3786"
             ],
             [
              0.5555555555555556,
              "#d8576b"
             ],
             [
              0.6666666666666666,
              "#ed7953"
             ],
             [
              0.7777777777777778,
              "#fb9f3a"
             ],
             [
              0.8888888888888888,
              "#fdca26"
             ],
             [
              1,
              "#f0f921"
             ]
            ],
            "type": "histogram2dcontour"
           }
          ],
          "mesh3d": [
           {
            "colorbar": {
             "outlinewidth": 0,
             "ticks": ""
            },
            "type": "mesh3d"
           }
          ],
          "parcoords": [
           {
            "line": {
             "colorbar": {
              "outlinewidth": 0,
              "ticks": ""
             }
            },
            "type": "parcoords"
           }
          ],
          "pie": [
           {
            "automargin": true,
            "type": "pie"
           }
          ],
          "scatter": [
           {
            "marker": {
             "colorbar": {
              "outlinewidth": 0,
              "ticks": ""
             }
            },
            "type": "scatter"
           }
          ],
          "scatter3d": [
           {
            "line": {
             "colorbar": {
              "outlinewidth": 0,
              "ticks": ""
             }
            },
            "marker": {
             "colorbar": {
              "outlinewidth": 0,
              "ticks": ""
             }
            },
            "type": "scatter3d"
           }
          ],
          "scattercarpet": [
           {
            "marker": {
             "colorbar": {
              "outlinewidth": 0,
              "ticks": ""
             }
            },
            "type": "scattercarpet"
           }
          ],
          "scattergeo": [
           {
            "marker": {
             "colorbar": {
              "outlinewidth": 0,
              "ticks": ""
             }
            },
            "type": "scattergeo"
           }
          ],
          "scattergl": [
           {
            "marker": {
             "colorbar": {
              "outlinewidth": 0,
              "ticks": ""
             }
            },
            "type": "scattergl"
           }
          ],
          "scattermapbox": [
           {
            "marker": {
             "colorbar": {
              "outlinewidth": 0,
              "ticks": ""
             }
            },
            "type": "scattermapbox"
           }
          ],
          "scatterpolar": [
           {
            "marker": {
             "colorbar": {
              "outlinewidth": 0,
              "ticks": ""
             }
            },
            "type": "scatterpolar"
           }
          ],
          "scatterpolargl": [
           {
            "marker": {
             "colorbar": {
              "outlinewidth": 0,
              "ticks": ""
             }
            },
            "type": "scatterpolargl"
           }
          ],
          "scatterternary": [
           {
            "marker": {
             "colorbar": {
              "outlinewidth": 0,
              "ticks": ""
             }
            },
            "type": "scatterternary"
           }
          ],
          "surface": [
           {
            "colorbar": {
             "outlinewidth": 0,
             "ticks": ""
            },
            "colorscale": [
             [
              0,
              "#0d0887"
             ],
             [
              0.1111111111111111,
              "#46039f"
             ],
             [
              0.2222222222222222,
              "#7201a8"
             ],
             [
              0.3333333333333333,
              "#9c179e"
             ],
             [
              0.4444444444444444,
              "#bd3786"
             ],
             [
              0.5555555555555556,
              "#d8576b"
             ],
             [
              0.6666666666666666,
              "#ed7953"
             ],
             [
              0.7777777777777778,
              "#fb9f3a"
             ],
             [
              0.8888888888888888,
              "#fdca26"
             ],
             [
              1,
              "#f0f921"
             ]
            ],
            "type": "surface"
           }
          ],
          "table": [
           {
            "cells": {
             "fill": {
              "color": "#EBF0F8"
             },
             "line": {
              "color": "white"
             }
            },
            "header": {
             "fill": {
              "color": "#C8D4E3"
             },
             "line": {
              "color": "white"
             }
            },
            "type": "table"
           }
          ]
         },
         "layout": {
          "annotationdefaults": {
           "arrowcolor": "#2a3f5f",
           "arrowhead": 0,
           "arrowwidth": 1
          },
          "coloraxis": {
           "colorbar": {
            "outlinewidth": 0,
            "ticks": ""
           }
          },
          "colorscale": {
           "diverging": [
            [
             0,
             "#8e0152"
            ],
            [
             0.1,
             "#c51b7d"
            ],
            [
             0.2,
             "#de77ae"
            ],
            [
             0.3,
             "#f1b6da"
            ],
            [
             0.4,
             "#fde0ef"
            ],
            [
             0.5,
             "#f7f7f7"
            ],
            [
             0.6,
             "#e6f5d0"
            ],
            [
             0.7,
             "#b8e186"
            ],
            [
             0.8,
             "#7fbc41"
            ],
            [
             0.9,
             "#4d9221"
            ],
            [
             1,
             "#276419"
            ]
           ],
           "sequential": [
            [
             0,
             "#0d0887"
            ],
            [
             0.1111111111111111,
             "#46039f"
            ],
            [
             0.2222222222222222,
             "#7201a8"
            ],
            [
             0.3333333333333333,
             "#9c179e"
            ],
            [
             0.4444444444444444,
             "#bd3786"
            ],
            [
             0.5555555555555556,
             "#d8576b"
            ],
            [
             0.6666666666666666,
             "#ed7953"
            ],
            [
             0.7777777777777778,
             "#fb9f3a"
            ],
            [
             0.8888888888888888,
             "#fdca26"
            ],
            [
             1,
             "#f0f921"
            ]
           ],
           "sequentialminus": [
            [
             0,
             "#0d0887"
            ],
            [
             0.1111111111111111,
             "#46039f"
            ],
            [
             0.2222222222222222,
             "#7201a8"
            ],
            [
             0.3333333333333333,
             "#9c179e"
            ],
            [
             0.4444444444444444,
             "#bd3786"
            ],
            [
             0.5555555555555556,
             "#d8576b"
            ],
            [
             0.6666666666666666,
             "#ed7953"
            ],
            [
             0.7777777777777778,
             "#fb9f3a"
            ],
            [
             0.8888888888888888,
             "#fdca26"
            ],
            [
             1,
             "#f0f921"
            ]
           ]
          },
          "colorway": [
           "#636efa",
           "#EF553B",
           "#00cc96",
           "#ab63fa",
           "#FFA15A",
           "#19d3f3",
           "#FF6692",
           "#B6E880",
           "#FF97FF",
           "#FECB52"
          ],
          "font": {
           "color": "#2a3f5f"
          },
          "geo": {
           "bgcolor": "white",
           "lakecolor": "white",
           "landcolor": "#E5ECF6",
           "showlakes": true,
           "showland": true,
           "subunitcolor": "white"
          },
          "hoverlabel": {
           "align": "left"
          },
          "hovermode": "closest",
          "mapbox": {
           "style": "light"
          },
          "paper_bgcolor": "white",
          "plot_bgcolor": "#E5ECF6",
          "polar": {
           "angularaxis": {
            "gridcolor": "white",
            "linecolor": "white",
            "ticks": ""
           },
           "bgcolor": "#E5ECF6",
           "radialaxis": {
            "gridcolor": "white",
            "linecolor": "white",
            "ticks": ""
           }
          },
          "scene": {
           "xaxis": {
            "backgroundcolor": "#E5ECF6",
            "gridcolor": "white",
            "gridwidth": 2,
            "linecolor": "white",
            "showbackground": true,
            "ticks": "",
            "zerolinecolor": "white"
           },
           "yaxis": {
            "backgroundcolor": "#E5ECF6",
            "gridcolor": "white",
            "gridwidth": 2,
            "linecolor": "white",
            "showbackground": true,
            "ticks": "",
            "zerolinecolor": "white"
           },
           "zaxis": {
            "backgroundcolor": "#E5ECF6",
            "gridcolor": "white",
            "gridwidth": 2,
            "linecolor": "white",
            "showbackground": true,
            "ticks": "",
            "zerolinecolor": "white"
           }
          },
          "shapedefaults": {
           "line": {
            "color": "#2a3f5f"
           }
          },
          "ternary": {
           "aaxis": {
            "gridcolor": "white",
            "linecolor": "white",
            "ticks": ""
           },
           "baxis": {
            "gridcolor": "white",
            "linecolor": "white",
            "ticks": ""
           },
           "bgcolor": "#E5ECF6",
           "caxis": {
            "gridcolor": "white",
            "linecolor": "white",
            "ticks": ""
           }
          },
          "title": {
           "x": 0.05
          },
          "xaxis": {
           "automargin": true,
           "gridcolor": "white",
           "linecolor": "white",
           "ticks": "",
           "title": {
            "standoff": 15
           },
           "zerolinecolor": "white",
           "zerolinewidth": 2
          },
          "yaxis": {
           "automargin": true,
           "gridcolor": "white",
           "linecolor": "white",
           "ticks": "",
           "title": {
            "standoff": 15
           },
           "zerolinecolor": "white",
           "zerolinewidth": 2
          }
         }
        },
        "xaxis": {
         "constrain": "domain",
         "scaleanchor": "y",
         "title": {
          "text": "Outcomes"
         }
        },
        "yaxis": {
         "autorange": "reversed",
         "constrain": "domain",
         "title": {
          "text": "Policies"
         }
        }
       }
      }
     },
     "metadata": {}
    }
   ],
   "source": [
    "fig = px.imshow(max_regret/max_regret.max(), labels=dict(x=\"Outcomes\", y = \"Policies\", color = \"Maximum regret\"))\n",
    "fig.show()"
   ]
  },
  {
   "cell_type": "markdown",
   "metadata": {},
   "source": [
    "Although not numbered, it can clearly be seen that policy 7, for example, shows little regret for outcomes 2, 4 and 6. Therefore this policy might be a robust solution when only considering the initial reference case scenario based on the worst deaths. However, we continue looking for more robust solutions across multiple reference scenarios using the PRIM algorithm. "
   ]
  },
  {
   "cell_type": "markdown",
   "metadata": {},
   "source": [
    "## Scenario Discovery\n",
    "We perform Scenario Discovery using the PRIM-algorithm to discover such scenarios in which the robust policies fail. For Gelderland, we focus on such scenarios where deaths and damages occur, and where the total costs are above 4 Billion €. "
   ]
  },
  {
   "cell_type": "code",
   "execution_count": 122,
   "metadata": {},
   "outputs": [],
   "source": [
    "\n",
    "condition= {}\n",
    "\n",
    "\n",
    "condition[\"condition1\"] = outcomes[\"A1_2 Aggr Expected Annual Damage\"] + outcomes[\"A3 Expected Annual Damage\"] + outcomes[\"A1_2 Aggr Expected Number of Deaths\"] + outcomes[\"A3 Aggr Expected Number of Deaths\"]\n",
    "\n",
    "condition[\"condition2\"] = outcomes[\"A1_5 Dike Investment Costs\"] + outcomes[\"Evacuation Costs\"] + outcomes[\"Room for River Investment Costs\"]\n",
    "\n",
    "condition1 = condition[\"condition1\"] > 0 \n",
    "\n",
    "condition2 = condition[\"condition2\"] > 4e9"
   ]
  },
  {
   "cell_type": "code",
   "execution_count": 123,
   "metadata": {
    "tags": []
   },
   "outputs": [
    {
     "output_type": "stream",
     "name": "stderr",
     "text": "[MainProcess/INFO] 18000 points remaining, containing 8570 cases of interest\n[MainProcess/INFO] mean: 0.5673076923076923, mass: 0.052, coverage: 0.06196032672112019, density: 0.5673076923076923 restricted_dimensions: 10\n"
    }
   ],
   "source": [
    "x = experiments.iloc[:,0:19]\n",
    "y = (condition1 | condition2)\n",
    "prim_alg = prim.Prim(x,y, threshold=0.5)\n",
    "box = prim_alg.find_box()"
   ]
  },
  {
   "cell_type": "code",
   "execution_count": 124,
   "metadata": {},
   "outputs": [
    {
     "output_type": "execute_result",
     "data": {
      "text/html": "\n<div id=\"altair-viz-74ad6915c3f64bfc8383c0ecd1ac26f4\"></div>\n<script type=\"text/javascript\">\n  (function(spec, embedOpt){\n    let outputDiv = document.currentScript.previousElementSibling;\n    if (outputDiv.id !== \"altair-viz-74ad6915c3f64bfc8383c0ecd1ac26f4\") {\n      outputDiv = document.getElementById(\"altair-viz-74ad6915c3f64bfc8383c0ecd1ac26f4\");\n    }\n    const paths = {\n      \"vega\": \"https://cdn.jsdelivr.net/npm//vega@5?noext\",\n      \"vega-lib\": \"https://cdn.jsdelivr.net/npm//vega-lib?noext\",\n      \"vega-lite\": \"https://cdn.jsdelivr.net/npm//vega-lite@4.8.1?noext\",\n      \"vega-embed\": \"https://cdn.jsdelivr.net/npm//vega-embed@6?noext\",\n    };\n\n    function loadScript(lib) {\n      return new Promise(function(resolve, reject) {\n        var s = document.createElement('script');\n        s.src = paths[lib];\n        s.async = true;\n        s.onload = () => resolve(paths[lib]);\n        s.onerror = () => reject(`Error loading script: ${paths[lib]}`);\n        document.getElementsByTagName(\"head\")[0].appendChild(s);\n      });\n    }\n\n    function showError(err) {\n      outputDiv.innerHTML = `<div class=\"error\" style=\"color:red;\">${err}</div>`;\n      throw err;\n    }\n\n    function displayChart(vegaEmbed) {\n      vegaEmbed(outputDiv, spec, embedOpt)\n        .catch(err => showError(`Javascript Error: ${err.message}<br>This usually means there's a typo in your chart specification. See the javascript console for the full traceback.`));\n    }\n\n    if(typeof define === \"function\" && define.amd) {\n      requirejs.config({paths});\n      require([\"vega-embed\"], displayChart, err => showError(`Error loading script: ${err.message}`));\n    } else if (typeof vegaEmbed === \"function\") {\n      displayChart(vegaEmbed);\n    } else {\n      loadScript(\"vega\")\n        .then(() => loadScript(\"vega-lite\"))\n        .then(() => loadScript(\"vega-embed\"))\n        .catch(showError)\n        .then(() => displayChart(vegaEmbed));\n    }\n  })({\"config\": {\"view\": {\"continuousWidth\": 400, \"continuousHeight\": 300}}, \"vconcat\": [{\"data\": {\"name\": \"data-2d1574892837dfbe0cdc699534d3cd7e\"}, \"mark\": {\"type\": \"circle\", \"size\": 75}, \"encoding\": {\"color\": {\"type\": \"ordinal\", \"field\": \"res_dim\", \"scale\": {\"range\": [\"#eff9b6\", \"#d0edb3\", \"#97d6b9\", \"#5dc0c0\", \"#31a5c2\", \"#1f80b8\", \"#2354a3\", \"#21318d\"]}}, \"opacity\": {\"condition\": {\"value\": 1, \"selection\": \"selector002\"}, \"value\": 0.4}, \"tooltip\": [{\"type\": \"ordinal\", \"field\": \"id\"}, {\"type\": \"quantitative\", \"field\": \"coverage\", \"format\": \".2\"}, {\"type\": \"quantitative\", \"field\": \"density\", \"format\": \".2\"}, {\"type\": \"ordinal\", \"field\": \"res_dim\"}], \"x\": {\"type\": \"quantitative\", \"field\": \"coverage\"}, \"y\": {\"type\": \"quantitative\", \"field\": \"density\"}}, \"height\": 400, \"selection\": {\"selector002\": {\"type\": \"single\", \"fields\": [\"id\"]}}, \"width\": 400}, {\"layer\": [{\"data\": {\"name\": \"data-d2660335aa04fb30ac7eee0f0a7da54b\"}, \"mark\": \"rule\", \"encoding\": {\"x\": {\"type\": \"quantitative\", \"axis\": {\"grid\": false, \"labels\": false, \"title\": \"box limits\"}, \"field\": \"x_lower\", \"scale\": {\"domain\": [0, 1], \"padding\": 0.1}}, \"x2\": {\"field\": \"x_upper\"}, \"y\": {\"type\": \"nominal\", \"field\": \"name\", \"scale\": {\"padding\": 1.0}}}, \"transform\": [{\"calculate\": \"(datum.x1-datum.minimum)/(datum.maximum-datum.minimum)\", \"as\": \"x_lower\"}, {\"calculate\": \"(datum.x2-datum.minimum)/(datum.maximum-datum.minimum)\", \"as\": \"x_upper\"}, {\"filter\": {\"selection\": \"selector002\"}}], \"width\": 400}, {\"data\": {\"name\": \"data-d2660335aa04fb30ac7eee0f0a7da54b\"}, \"mark\": {\"type\": \"text\", \"align\": \"left\", \"baseline\": \"top\", \"dy\": 5}, \"encoding\": {\"text\": {\"type\": \"ordinal\", \"field\": \"text\"}, \"x\": {\"type\": \"quantitative\", \"axis\": {\"grid\": false, \"labels\": false, \"title\": \"box limits\"}, \"field\": \"x_lower\", \"scale\": {\"domain\": [0, 1], \"padding\": 0.1}}, \"x2\": {\"field\": \"x_upper\"}, \"y\": {\"type\": \"nominal\", \"field\": \"name\", \"scale\": {\"padding\": 1.0}}}, \"transform\": [{\"calculate\": \"(datum.x1-datum.minimum)/(datum.maximum-datum.minimum)\", \"as\": \"x_lower\"}, {\"calculate\": \"(datum.x2-datum.minimum)/(datum.maximum-datum.minimum)\", \"as\": \"x_upper\"}, {\"filter\": {\"selection\": \"selector002\"}}, {\"calculate\": \"datum.qp_lower>0?format(datum.x1, \\\".2\\\")+\\\" (\\\"+format(datum.qp_lower, \\\".1~g\\\")+\\\")\\\" :format(datum.x1, \\\".2\\\")\", \"as\": \"text\"}], \"width\": 400}, {\"data\": {\"name\": \"data-d2660335aa04fb30ac7eee0f0a7da54b\"}, \"mark\": {\"type\": \"text\", \"align\": \"right\", \"baseline\": \"top\", \"dy\": 5}, \"encoding\": {\"text\": {\"type\": \"ordinal\", \"field\": \"text\"}, \"x\": {\"type\": \"quantitative\", \"field\": \"x_upper\"}, \"x2\": {\"field\": \"x_upper\"}, \"y\": {\"type\": \"nominal\", \"field\": \"name\", \"scale\": {\"padding\": 1.0}}}, \"transform\": [{\"calculate\": \"(datum.x1-datum.minimum)/(datum.maximum-datum.minimum)\", \"as\": \"x_lower\"}, {\"calculate\": \"(datum.x2-datum.minimum)/(datum.maximum-datum.minimum)\", \"as\": \"x_upper\"}, {\"filter\": {\"selection\": \"selector002\"}}, {\"calculate\": \"datum.qp_upper>0?format(datum.x2, \\\".2\\\")+\\\" (\\\"+format(datum.qp_upper, \\\".1\\\")+\\\")\\\" :format(datum.x2, \\\".2\\\")\", \"as\": \"text\"}], \"width\": 400}, {\"data\": {\"name\": \"data-bb8d07f6df3d47a6a475317795287b23\"}, \"mark\": {\"type\": \"rect\", \"opacity\": 0.05}, \"encoding\": {\"x\": {\"type\": \"quantitative\", \"field\": \"start\"}, \"x2\": {\"field\": \"end\"}}}, {\"data\": {\"name\": \"data-8d37037c4e3cd9b29b16fdce53d8db67\"}, \"mark\": \"point\", \"encoding\": {\"x\": {\"type\": \"quantitative\", \"field\": \"x\"}, \"y\": {\"type\": \"nominal\", \"field\": \"name\"}}, \"transform\": [{\"filter\": {\"selection\": \"selector002\"}}], \"width\": 400}, {\"data\": {\"name\": \"data-8d37037c4e3cd9b29b16fdce53d8db67\"}, \"mark\": {\"type\": \"text\", \"align\": \"center\", \"baseline\": \"top\", \"dy\": 5}, \"encoding\": {\"text\": {\"type\": \"nominal\", \"field\": \"item\"}, \"x\": {\"type\": \"quantitative\", \"field\": \"x\"}, \"y\": {\"type\": \"nominal\", \"field\": \"name\"}}, \"transform\": [{\"filter\": {\"selection\": \"selector002\"}}], \"width\": 400}]}], \"$schema\": \"https://vega.github.io/schema/vega-lite/v4.8.1.json\", \"datasets\": {\"data-2d1574892837dfbe0cdc699534d3cd7e\": [{\"coverage\": 1.0, \"density\": 0.4761111111111111, \"id\": 0, \"mass\": 1.0, \"mean\": 0.4761111111111111, \"res_dim\": 0}, {\"coverage\": 0.9525087514585764, \"density\": 0.47736842105263155, \"id\": 1, \"mass\": 0.95, \"mean\": 0.47736842105263155, \"res_dim\": 1}, {\"coverage\": 0.9066511085180864, \"density\": 0.4785661492978566, \"id\": 2, \"mass\": 0.902, \"mean\": 0.4785661492978566, \"res_dim\": 2}, {\"coverage\": 0.8624270711785298, \"density\": 0.4796858774662513, \"id\": 3, \"mass\": 0.856, \"mean\": 0.4796858774662513, \"res_dim\": 2}, {\"coverage\": 0.8208868144690782, \"density\": 0.48072980729807296, \"id\": 4, \"mass\": 0.813, \"mean\": 0.48072980729807296, \"res_dim\": 2}, {\"coverage\": 0.7812135355892649, \"density\": 0.48179332181922857, \"id\": 5, \"mass\": 0.772, \"mean\": 0.48179332181922857, \"res_dim\": 3}, {\"coverage\": 0.7438739789964994, \"density\": 0.48317417007730784, \"id\": 6, \"mass\": 0.733, \"mean\": 0.48317417007730784, \"res_dim\": 3}, {\"coverage\": 0.7075845974329055, \"density\": 0.4840357598978289, \"id\": 7, \"mass\": 0.696, \"mean\": 0.4840357598978289, \"res_dim\": 4}, {\"coverage\": 0.5428238039673279, \"density\": 0.48763102725366875, \"id\": 8, \"mass\": 0.53, \"mean\": 0.48763102725366875, \"res_dim\": 5}, {\"coverage\": 0.5161026837806301, \"density\": 0.4885133642588911, \"id\": 9, \"mass\": 0.503, \"mean\": 0.4885133642588911, \"res_dim\": 6}, {\"coverage\": 0.49019836639439907, \"density\": 0.48928488236664336, \"id\": 10, \"mass\": 0.477, \"mean\": 0.48928488236664336, \"res_dim\": 7}, {\"coverage\": 0.3278879813302217, \"density\": 0.4940225035161744, \"id\": 11, \"mass\": 0.316, \"mean\": 0.4940225035161744, \"res_dim\": 7}, {\"coverage\": 0.3120186697782964, \"density\": 0.4951851851851852, \"id\": 12, \"mass\": 0.3, \"mean\": 0.4951851851851852, \"res_dim\": 8}, {\"coverage\": 0.29778296382730457, \"density\": 0.49746588693957117, \"id\": 13, \"mass\": 0.285, \"mean\": 0.49746588693957117, \"res_dim\": 8}, {\"coverage\": 0.282730455075846, \"density\": 0.498559670781893, \"id\": 14, \"mass\": 0.27, \"mean\": 0.498559670781893, \"res_dim\": 8}, {\"coverage\": 0.14317386231038506, \"density\": 0.5087064676616916, \"id\": 15, \"mass\": 0.134, \"mean\": 0.5087064676616916, \"res_dim\": 8}, {\"coverage\": 0.13640606767794633, \"density\": 0.5113735783027121, \"id\": 16, \"mass\": 0.127, \"mean\": 0.5113735783027121, \"res_dim\": 8}, {\"coverage\": 0.1296382730455076, \"density\": 0.5143518518518518, \"id\": 17, \"mass\": 0.12, \"mean\": 0.5143518518518518, \"res_dim\": 8}, {\"coverage\": 0.12403733955659277, \"density\": 0.5180311890838206, \"id\": 18, \"mass\": 0.114, \"mean\": 0.5180311890838206, \"res_dim\": 8}, {\"coverage\": 0.11820303383897317, \"density\": 0.5210905349794238, \"id\": 19, \"mass\": 0.108, \"mean\": 0.5210905349794238, \"res_dim\": 8}, {\"coverage\": 0.11236872812135355, \"density\": 0.5245098039215687, \"id\": 20, \"mass\": 0.102, \"mean\": 0.5245098039215687, \"res_dim\": 9}, {\"coverage\": 0.10676779463243874, \"density\": 0.5295138888888888, \"id\": 21, \"mass\": 0.096, \"mean\": 0.5295138888888888, \"res_dim\": 9}, {\"coverage\": 0.10210035005834306, \"density\": 0.5341880341880342, \"id\": 22, \"mass\": 0.091, \"mean\": 0.5341880341880342, \"res_dim\": 9}, {\"coverage\": 0.09719953325554259, \"density\": 0.5381136950904393, \"id\": 23, \"mass\": 0.086, \"mean\": 0.5381136950904393, \"res_dim\": 9}, {\"coverage\": 0.0647607934655776, \"density\": 0.5606060606060606, \"id\": 24, \"mass\": 0.055, \"mean\": 0.5606060606060606, \"res_dim\": 10}, {\"coverage\": 0.06196032672112019, \"density\": 0.5673076923076923, \"id\": 25, \"mass\": 0.052, \"mean\": 0.5673076923076923, \"res_dim\": 10}], \"data-d2660335aa04fb30ac7eee0f0a7da54b\": [{\"x1\": 30.146206928024192, \"x2\": 333.93806747698386, \"name\": \"A.3_Bmax\", \"id\": 1, \"minimum\": 30.146206928024192, \"maximum\": 349.955556665157, \"qp_lower\": -1.0, \"qp_upper\": 0.3738562194101614}, {\"x1\": 30.146206928024192, \"x2\": 333.93806747698386, \"name\": \"A.3_Bmax\", \"id\": 2, \"minimum\": 30.146206928024192, \"maximum\": 349.955556665157, \"qp_lower\": -1.0, \"qp_upper\": 0.3749341884097212}, {\"x1\": 0.05105394718852017, \"x2\": 0.9993033794196652, \"name\": \"A.4_pfail\", \"id\": 2, \"minimum\": 0.0009900759568351593, \"maximum\": 0.9993033794196652, \"qp_lower\": 0.3829301500010366, \"qp_upper\": -1.0}, {\"x1\": 45.53696269412734, \"x2\": 333.93806747698386, \"name\": \"A.3_Bmax\", \"id\": 3, \"minimum\": 30.146206928024192, \"maximum\": 349.955556665157, \"qp_lower\": 0.39347278202370534, \"qp_upper\": 0.36661806693925025}, {\"x1\": 0.05105394718852017, \"x2\": 0.9993033794196652, \"name\": \"A.4_pfail\", \"id\": 3, \"minimum\": 0.0009900759568351593, \"maximum\": 0.9993033794196652, \"qp_lower\": 0.38532948395233296, \"qp_upper\": -1.0}, {\"x1\": 45.53696269412734, \"x2\": 333.93806747698386, \"name\": \"A.3_Bmax\", \"id\": 4, \"minimum\": 30.146206928024192, \"maximum\": 349.955556665157, \"qp_lower\": 0.38220206637479454, \"qp_upper\": 0.3665516004590579}, {\"x1\": 0.09977998129174515, \"x2\": 0.9993033794196652, \"name\": \"A.4_pfail\", \"id\": 4, \"minimum\": 0.0009900759568351593, \"maximum\": 0.9993033794196652, \"qp_lower\": 0.2930823492283469, \"qp_upper\": -1.0}, {\"x1\": 8.683813448482414e-05, \"x2\": 0.9445408930776654, \"name\": \"A.1_pfail\", \"id\": 5, \"minimum\": 8.683813448482414e-05, \"maximum\": 0.999523363358106, \"qp_lower\": -1.0, \"qp_upper\": 0.4041827298249207}, {\"x1\": 45.53696269412734, \"x2\": 333.93806747698386, \"name\": \"A.3_Bmax\", \"id\": 5, \"minimum\": 30.146206928024192, \"maximum\": 349.955556665157, \"qp_lower\": 0.3855617470006109, \"qp_upper\": 0.36935117080254104}, {\"x1\": 0.09977998129174515, \"x2\": 0.9993033794196652, \"name\": \"A.4_pfail\", \"id\": 5, \"minimum\": 0.0009900759568351593, \"maximum\": 0.9993033794196652, \"qp_lower\": 0.3099540612056887, \"qp_upper\": -1.0}, {\"x1\": 8.683813448482414e-05, \"x2\": 0.8993755223864885, \"name\": \"A.1_pfail\", \"id\": 6, \"minimum\": 8.683813448482414e-05, \"maximum\": 0.999523363358106, \"qp_lower\": -1.0, \"qp_upper\": 0.29002059310236633}, {\"x1\": 45.53696269412734, \"x2\": 333.93806747698386, \"name\": \"A.3_Bmax\", \"id\": 6, \"minimum\": 30.146206928024192, \"maximum\": 349.955556665157, \"qp_lower\": 0.3807922678121866, \"qp_upper\": 0.3641064498009846}, {\"x1\": 0.09977998129174515, \"x2\": 0.9993033794196652, \"name\": \"A.4_pfail\", \"id\": 6, \"minimum\": 0.0009900759568351593, \"maximum\": 0.9993033794196652, \"qp_lower\": 0.31352207480387406, \"qp_upper\": -1.0}, {\"x1\": 8.683813448482414e-05, \"x2\": 0.8993755223864885, \"name\": \"A.1_pfail\", \"id\": 7, \"minimum\": 8.683813448482414e-05, \"maximum\": 0.999523363358106, \"qp_lower\": -1.0, \"qp_upper\": 0.26848259546915376}, {\"x1\": 0.0002785107591457284, \"x2\": 0.936279307187284, \"name\": \"A.2_pfail\", \"id\": 7, \"minimum\": 0.0002785107591457284, \"maximum\": 0.9997354527944962, \"qp_lower\": -1.0, \"qp_upper\": 0.4269523393381486}, {\"x1\": 45.53696269412734, \"x2\": 333.93806747698386, \"name\": \"A.3_Bmax\", \"id\": 7, \"minimum\": 30.146206928024192, \"maximum\": 349.955556665157, \"qp_lower\": 0.39193118207370925, \"qp_upper\": 0.37893053409690913}, {\"x1\": 0.09977998129174515, \"x2\": 0.9993033794196652, \"name\": \"A.4_pfail\", \"id\": 7, \"minimum\": 0.0009900759568351593, \"maximum\": 0.9993033794196652, \"qp_lower\": 0.31302404743681733, \"qp_upper\": -1.0}, {\"x1\": 8.683813448482414e-05, \"x2\": 0.8993755223864885, \"name\": \"A.1_pfail\", \"id\": 8, \"minimum\": 8.683813448482414e-05, \"maximum\": 0.999523363358106, \"qp_lower\": -1.0, \"qp_upper\": 0.22448097604753853}, {\"x1\": 0.0002785107591457284, \"x2\": 0.936279307187284, \"name\": \"A.2_pfail\", \"id\": 8, \"minimum\": 0.0002785107591457284, \"maximum\": 0.9997354527944962, \"qp_lower\": -1.0, \"qp_upper\": 0.41546565317181083}, {\"x1\": 45.53696269412734, \"x2\": 333.93806747698386, \"name\": \"A.3_Bmax\", \"id\": 8, \"minimum\": 30.146206928024192, \"maximum\": 349.955556665157, \"qp_lower\": 0.4252333033145102, \"qp_upper\": 0.3703664520254391}, {\"x1\": 0.09977998129174515, \"x2\": 0.9993033794196652, \"name\": \"A.4_pfail\", \"id\": 8, \"minimum\": 0.0009900759568351593, \"maximum\": 0.9993033794196652, \"qp_lower\": 0.27949422541909197, \"qp_upper\": -1.0}, {\"x1\": 8.683813448482414e-05, \"x2\": 0.8993755223864885, \"name\": \"A.1_pfail\", \"id\": 9, \"minimum\": 8.683813448482414e-05, \"maximum\": 0.999523363358106, \"qp_lower\": -1.0, \"qp_upper\": 0.2230457113475935}, {\"x1\": 0.0002785107591457284, \"x2\": 0.936279307187284, \"name\": \"A.2_pfail\", \"id\": 9, \"minimum\": 0.0002785107591457284, \"maximum\": 0.9997354527944962, \"qp_lower\": -1.0, \"qp_upper\": 0.41038798370704666}, {\"x1\": 45.53696269412734, \"x2\": 333.93806747698386, \"name\": \"A.3_Bmax\", \"id\": 9, \"minimum\": 30.146206928024192, \"maximum\": 349.955556665157, \"qp_lower\": 0.42069880093173484, \"qp_upper\": 0.36650381216112965}, {\"x1\": 0.09977998129174515, \"x2\": 0.9993033794196652, \"name\": \"A.4_pfail\", \"id\": 9, \"minimum\": 0.0009900759568351593, \"maximum\": 0.9993033794196652, \"qp_lower\": 0.2985812992573443, \"qp_upper\": -1.0}, {\"x1\": 0.00037821856522135376, \"x2\": 0.9423121364907185, \"name\": \"A.5_pfail\", \"id\": 9, \"minimum\": 0.00037821856522135376, \"maximum\": 0.999568950265345, \"qp_lower\": -1.0, \"qp_upper\": 0.4374116018946724}, {\"x1\": 42.554257150060266, \"x2\": 349.7205373567698, \"name\": \"A.1_Bmax\", \"id\": 10, \"minimum\": 30.261330823061556, \"maximum\": 349.7205373567698, \"qp_lower\": 0.4473728849996696, \"qp_upper\": -1.0}, {\"x1\": 8.683813448482414e-05, \"x2\": 0.8993755223864885, \"name\": \"A.1_pfail\", \"id\": 10, \"minimum\": 8.683813448482414e-05, \"maximum\": 0.999523363358106, \"qp_lower\": -1.0, \"qp_upper\": 0.2225219531244701}, {\"x1\": 0.0002785107591457284, \"x2\": 0.936279307187284, \"name\": \"A.2_pfail\", \"id\": 10, \"minimum\": 0.0002785107591457284, \"maximum\": 0.9997354527944962, \"qp_lower\": -1.0, \"qp_upper\": 0.4055052801398871}, {\"x1\": 45.53696269412734, \"x2\": 333.93806747698386, \"name\": \"A.3_Bmax\", \"id\": 10, \"minimum\": 30.146206928024192, \"maximum\": 349.955556665157, \"qp_lower\": 0.4163312466402623, \"qp_upper\": 0.36699968755196116}, {\"x1\": 0.09977998129174515, \"x2\": 0.9993033794196652, \"name\": \"A.4_pfail\", \"id\": 10, \"minimum\": 0.0009900759568351593, \"maximum\": 0.9993033794196652, \"qp_lower\": 0.2867548706481677, \"qp_upper\": -1.0}, {\"x1\": 0.00037821856522135376, \"x2\": 0.9423121364907185, \"name\": \"A.5_pfail\", \"id\": 10, \"minimum\": 0.00037821856522135376, \"maximum\": 0.999568950265345, \"qp_lower\": -1.0, \"qp_upper\": 0.43291997172602514}, {\"x1\": 42.554257150060266, \"x2\": 349.7205373567698, \"name\": \"A.1_Bmax\", \"id\": 11, \"minimum\": 30.261330823061556, \"maximum\": 349.7205373567698, \"qp_lower\": 0.41073646979484246, \"qp_upper\": -1.0}, {\"x1\": 8.683813448482414e-05, \"x2\": 0.8993755223864885, \"name\": \"A.1_pfail\", \"id\": 11, \"minimum\": 8.683813448482414e-05, \"maximum\": 0.999523363358106, \"qp_lower\": -1.0, \"qp_upper\": 0.2499681437999243}, {\"x1\": 0.0002785107591457284, \"x2\": 0.936279307187284, \"name\": \"A.2_pfail\", \"id\": 11, \"minimum\": 0.0002785107591457284, \"maximum\": 0.9997354527944962, \"qp_lower\": -1.0, \"qp_upper\": 0.4284078674910726}, {\"x1\": 45.53696269412734, \"x2\": 333.93806747698386, \"name\": \"A.3_Bmax\", \"id\": 11, \"minimum\": 30.146206928024192, \"maximum\": 349.955556665157, \"qp_lower\": 0.4297111411050476, \"qp_upper\": 0.38884533791363535}, {\"x1\": 0.09977998129174515, \"x2\": 0.9993033794196652, \"name\": \"A.4_pfail\", \"id\": 11, \"minimum\": 0.0009900759568351593, \"maximum\": 0.9993033794196652, \"qp_lower\": 0.30090178171150644, \"qp_upper\": -1.0}, {\"x1\": 0.00037821856522135376, \"x2\": 0.9423121364907185, \"name\": \"A.5_pfail\", \"id\": 11, \"minimum\": 0.00037821856522135376, \"maximum\": 0.999568950265345, \"qp_lower\": -1.0, \"qp_upper\": 0.4546806268703188}, {\"x1\": 42.554257150060266, \"x2\": 349.7205373567698, \"name\": \"A.1_Bmax\", \"id\": 12, \"minimum\": 30.261330823061556, \"maximum\": 349.7205373567698, \"qp_lower\": 0.4129493685818407, \"qp_upper\": -1.0}, {\"x1\": 8.683813448482414e-05, \"x2\": 0.8993755223864885, \"name\": \"A.1_pfail\", \"id\": 12, \"minimum\": 8.683813448482414e-05, \"maximum\": 0.999523363358106, \"qp_lower\": -1.0, \"qp_upper\": 0.2598266751933498}, {\"x1\": 0.0002785107591457284, \"x2\": 0.936279307187284, \"name\": \"A.2_pfail\", \"id\": 12, \"minimum\": 0.0002785107591457284, \"maximum\": 0.9997354527944962, \"qp_lower\": -1.0, \"qp_upper\": 0.43305702926076006}, {\"x1\": 45.53696269412734, \"x2\": 333.93806747698386, \"name\": \"A.3_Bmax\", \"id\": 12, \"minimum\": 30.146206928024192, \"maximum\": 349.955556665157, \"qp_lower\": 0.4341755169409844, \"qp_upper\": 0.3835375957373278}, {\"x1\": 46.86124975421928, \"x2\": 349.93827442057335, \"name\": \"A.4_Bmax\", \"id\": 12, \"minimum\": 30.311610815756477, \"maximum\": 349.93827442057335, \"qp_lower\": 0.4374915613839251, \"qp_upper\": -1.0}, {\"x1\": 0.09977998129174515, \"x2\": 0.9993033794196652, \"name\": \"A.4_pfail\", \"id\": 12, \"minimum\": 0.0009900759568351593, \"maximum\": 0.9993033794196652, \"qp_lower\": 0.31292034773124866, \"qp_upper\": -1.0}, {\"x1\": 0.00037821856522135376, \"x2\": 0.9423121364907185, \"name\": \"A.5_pfail\", \"id\": 12, \"minimum\": 0.00037821856522135376, \"maximum\": 0.999568950265345, \"qp_lower\": -1.0, \"qp_upper\": 0.45896550010636666}, {\"x1\": 42.554257150060266, \"x2\": 349.7205373567698, \"name\": \"A.1_Bmax\", \"id\": 13, \"minimum\": 30.261330823061556, \"maximum\": 349.7205373567698, \"qp_lower\": 0.4306856756937141, \"qp_upper\": -1.0}, {\"x1\": 8.683813448482414e-05, \"x2\": 0.8993755223864885, \"name\": \"A.1_pfail\", \"id\": 13, \"minimum\": 8.683813448482414e-05, \"maximum\": 0.999523363358106, \"qp_lower\": -1.0, \"qp_upper\": 0.2528382633720788}, {\"x1\": 0.0002785107591457284, \"x2\": 0.936279307187284, \"name\": \"A.2_pfail\", \"id\": 13, \"minimum\": 0.0002785107591457284, \"maximum\": 0.9997354527944962, \"qp_lower\": -1.0, \"qp_upper\": 0.4263116514656478}, {\"x1\": 45.53696269412734, \"x2\": 333.93806747698386, \"name\": \"A.3_Bmax\", \"id\": 13, \"minimum\": 30.146206928024192, \"maximum\": 349.955556665157, \"qp_lower\": 0.41505449663380145, \"qp_upper\": 0.3847748582523786}, {\"x1\": 65.37722829634043, \"x2\": 349.93827442057335, \"name\": \"A.4_Bmax\", \"id\": 13, \"minimum\": 30.311610815756477, \"maximum\": 349.93827442057335, \"qp_lower\": 0.3158386991922294, \"qp_upper\": -1.0}, {\"x1\": 0.09977998129174515, \"x2\": 0.9993033794196652, \"name\": \"A.4_pfail\", \"id\": 13, \"minimum\": 0.0009900759568351593, \"maximum\": 0.9993033794196652, \"qp_lower\": 0.3059532840948032, \"qp_upper\": -1.0}, {\"x1\": 0.00037821856522135376, \"x2\": 0.9423121364907185, \"name\": \"A.5_pfail\", \"id\": 13, \"minimum\": 0.00037821856522135376, \"maximum\": 0.999568950265345, \"qp_lower\": -1.0, \"qp_upper\": 0.4605811254565955}, {\"x1\": 42.554257150060266, \"x2\": 349.7205373567698, \"name\": \"A.1_Bmax\", \"id\": 14, \"minimum\": 30.261330823061556, \"maximum\": 349.7205373567698, \"qp_lower\": 0.4353729148965193, \"qp_upper\": -1.0}, {\"x1\": 8.683813448482414e-05, \"x2\": 0.8993755223864885, \"name\": \"A.1_pfail\", \"id\": 14, \"minimum\": 8.683813448482414e-05, \"maximum\": 0.999523363358106, \"qp_lower\": -1.0, \"qp_upper\": 0.24362770335029182}, {\"x1\": 0.0002785107591457284, \"x2\": 0.936279307187284, \"name\": \"A.2_pfail\", \"id\": 14, \"minimum\": 0.0002785107591457284, \"maximum\": 0.9997354527944962, \"qp_lower\": -1.0, \"qp_upper\": 0.43219846419280245}, {\"x1\": 45.53696269412734, \"x2\": 333.93806747698386, \"name\": \"A.3_Bmax\", \"id\": 14, \"minimum\": 30.146206928024192, \"maximum\": 349.955556665157, \"qp_lower\": 0.4208089834000919, \"qp_upper\": 0.3795123082544745}, {\"x1\": 80.565185246451, \"x2\": 349.93827442057335, \"name\": \"A.4_Bmax\", \"id\": 14, \"minimum\": 30.311610815756477, \"maximum\": 349.93827442057335, \"qp_lower\": 0.26817759507016214, \"qp_upper\": -1.0}, {\"x1\": 0.09977998129174515, \"x2\": 0.9993033794196652, \"name\": \"A.4_pfail\", \"id\": 14, \"minimum\": 0.0009900759568351593, \"maximum\": 0.9993033794196652, \"qp_lower\": 0.33029312692049817, \"qp_upper\": -1.0}, {\"x1\": 0.00037821856522135376, \"x2\": 0.9423121364907185, \"name\": \"A.5_pfail\", \"id\": 14, \"minimum\": 0.00037821856522135376, \"maximum\": 0.999568950265345, \"qp_lower\": -1.0, \"qp_upper\": 0.4562597227263414}, {\"x1\": 42.554257150060266, \"x2\": 349.7205373567698, \"name\": \"A.1_Bmax\", \"id\": 15, \"minimum\": 30.261330823061556, \"maximum\": 349.7205373567698, \"qp_lower\": 0.473630451236128, \"qp_upper\": -1.0}, {\"x1\": 8.683813448482414e-05, \"x2\": 0.8993755223864885, \"name\": \"A.1_pfail\", \"id\": 15, \"minimum\": 8.683813448482414e-05, \"maximum\": 0.999523363358106, \"qp_lower\": -1.0, \"qp_upper\": 0.2953514471655295}, {\"x1\": 0.0002785107591457284, \"x2\": 0.936279307187284, \"name\": \"A.2_pfail\", \"id\": 15, \"minimum\": 0.0002785107591457284, \"maximum\": 0.9997354527944962, \"qp_lower\": -1.0, \"qp_upper\": 0.4181537517625121}, {\"x1\": 45.53696269412734, \"x2\": 333.93806747698386, \"name\": \"A.3_Bmax\", \"id\": 15, \"minimum\": 30.146206928024192, \"maximum\": 349.955556665157, \"qp_lower\": 0.39807752939819635, \"qp_upper\": 0.3847822496763233}, {\"x1\": 80.565185246451, \"x2\": 349.93827442057335, \"name\": \"A.4_Bmax\", \"id\": 15, \"minimum\": 30.311610815756477, \"maximum\": 349.93827442057335, \"qp_lower\": 0.2870753785056953, \"qp_upper\": -1.0}, {\"x1\": 0.09977998129174515, \"x2\": 0.9993033794196652, \"name\": \"A.4_pfail\", \"id\": 15, \"minimum\": 0.0009900759568351593, \"maximum\": 0.9993033794196652, \"qp_lower\": 0.3379978909634503, \"qp_upper\": -1.0}, {\"x1\": 0.00037821856522135376, \"x2\": 0.9423121364907185, \"name\": \"A.5_pfail\", \"id\": 15, \"minimum\": 0.00037821856522135376, \"maximum\": 0.999568950265345, \"qp_lower\": -1.0, \"qp_upper\": 0.3687390816112268}, {\"x1\": 42.554257150060266, \"x2\": 349.7205373567698, \"name\": \"A.1_Bmax\", \"id\": 16, \"minimum\": 30.261330823061556, \"maximum\": 349.7205373567698, \"qp_lower\": 0.46702191919820707, \"qp_upper\": -1.0}, {\"x1\": 8.683813448482414e-05, \"x2\": 0.8993755223864885, \"name\": \"A.1_pfail\", \"id\": 16, \"minimum\": 8.683813448482414e-05, \"maximum\": 0.999523363358106, \"qp_lower\": -1.0, \"qp_upper\": 0.2975117754685183}, {\"x1\": 0.0002785107591457284, \"x2\": 0.936279307187284, \"name\": \"A.2_pfail\", \"id\": 16, \"minimum\": 0.0002785107591457284, \"maximum\": 0.9997354527944962, \"qp_lower\": -1.0, \"qp_upper\": 0.4123824735693798}, {\"x1\": 45.53696269412734, \"x2\": 320.54225096314406, \"name\": \"A.3_Bmax\", \"id\": 16, \"minimum\": 30.146206928024192, \"maximum\": 349.955556665157, \"qp_lower\": 0.3899050373579044, \"qp_upper\": 0.29488790227504125}, {\"x1\": 80.565185246451, \"x2\": 349.93827442057335, \"name\": \"A.4_Bmax\", \"id\": 16, \"minimum\": 30.311610815756477, \"maximum\": 349.93827442057335, \"qp_lower\": 0.2949739950367886, \"qp_upper\": -1.0}, {\"x1\": 0.09977998129174515, \"x2\": 0.9993033794196652, \"name\": \"A.4_pfail\", \"id\": 16, \"minimum\": 0.0009900759568351593, \"maximum\": 0.9993033794196652, \"qp_lower\": 0.3277286511424282, \"qp_upper\": -1.0}, {\"x1\": 0.00037821856522135376, \"x2\": 0.9423121364907185, \"name\": \"A.5_pfail\", \"id\": 16, \"minimum\": 0.00037821856522135376, \"maximum\": 0.999568950265345, \"qp_lower\": -1.0, \"qp_upper\": 0.39445397054295783}, {\"x1\": 42.554257150060266, \"x2\": 349.7205373567698, \"name\": \"A.1_Bmax\", \"id\": 17, \"minimum\": 30.261330823061556, \"maximum\": 349.7205373567698, \"qp_lower\": 0.4593586662681235, \"qp_upper\": -1.0}, {\"x1\": 8.683813448482414e-05, \"x2\": 0.8993755223864885, \"name\": \"A.1_pfail\", \"id\": 17, \"minimum\": 8.683813448482414e-05, \"maximum\": 0.999523363358106, \"qp_lower\": -1.0, \"qp_upper\": 0.3001079940885686}, {\"x1\": 0.0002785107591457284, \"x2\": 0.936279307187284, \"name\": \"A.2_pfail\", \"id\": 17, \"minimum\": 0.0002785107591457284, \"maximum\": 0.9997354527944962, \"qp_lower\": -1.0, \"qp_upper\": 0.4058233427457443}, {\"x1\": 45.53696269412734, \"x2\": 302.519398817528, \"name\": \"A.3_Bmax\", \"id\": 17, \"minimum\": 30.146206928024192, \"maximum\": 349.955556665157, \"qp_lower\": 0.38062443330063633, \"qp_upper\": 0.21191778744241863}, {\"x1\": 80.565185246451, \"x2\": 349.93827442057335, \"name\": \"A.4_Bmax\", \"id\": 17, \"minimum\": 30.311610815756477, \"maximum\": 349.93827442057335, \"qp_lower\": 0.2758293460200896, \"qp_upper\": -1.0}, {\"x1\": 0.09977998129174515, \"x2\": 0.9993033794196652, \"name\": \"A.4_pfail\", \"id\": 17, \"minimum\": 0.0009900759568351593, \"maximum\": 0.9993033794196652, \"qp_lower\": 0.3162206611168773, \"qp_upper\": -1.0}, {\"x1\": 0.00037821856522135376, \"x2\": 0.9423121364907185, \"name\": \"A.5_pfail\", \"id\": 17, \"minimum\": 0.00037821856522135376, \"maximum\": 0.999568950265345, \"qp_lower\": -1.0, \"qp_upper\": 0.38673959592842755}, {\"x1\": 42.554257150060266, \"x2\": 349.7205373567698, \"name\": \"A.1_Bmax\", \"id\": 18, \"minimum\": 30.261330823061556, \"maximum\": 349.7205373567698, \"qp_lower\": 0.4498159648637176, \"qp_upper\": -1.0}, {\"x1\": 8.683813448482414e-05, \"x2\": 0.8559573094397179, \"name\": \"A.1_pfail\", \"id\": 18, \"minimum\": 8.683813448482414e-05, \"maximum\": 0.999523363358106, \"qp_lower\": -1.0, \"qp_upper\": 0.19956984705057662}, {\"x1\": 0.0002785107591457284, \"x2\": 0.936279307187284, \"name\": \"A.2_pfail\", \"id\": 18, \"minimum\": 0.0002785107591457284, \"maximum\": 0.9997354527944962, \"qp_lower\": -1.0, \"qp_upper\": 0.398225544488691}, {\"x1\": 45.53696269412734, \"x2\": 302.519398817528, \"name\": \"A.3_Bmax\", \"id\": 18, \"minimum\": 30.146206928024192, \"maximum\": 349.955556665157, \"qp_lower\": 0.38961394693772367, \"qp_upper\": 0.1932642997414199}, {\"x1\": 80.565185246451, \"x2\": 349.93827442057335, \"name\": \"A.4_Bmax\", \"id\": 18, \"minimum\": 30.311610815756477, \"maximum\": 349.93827442057335, \"qp_lower\": 0.2677608853823179, \"qp_upper\": -1.0}, {\"x1\": 0.09977998129174515, \"x2\": 0.9993033794196652, \"name\": \"A.4_pfail\", \"id\": 18, \"minimum\": 0.0009900759568351593, \"maximum\": 0.9993033794196652, \"qp_lower\": 0.32070494618910306, \"qp_upper\": -1.0}, {\"x1\": 0.00037821856522135376, \"x2\": 0.9423121364907185, \"name\": \"A.5_pfail\", \"id\": 18, \"minimum\": 0.00037821856522135376, \"maximum\": 0.999568950265345, \"qp_lower\": -1.0, \"qp_upper\": 0.3778276715581948}, {\"x1\": 42.554257150060266, \"x2\": 349.7205373567698, \"name\": \"A.1_Bmax\", \"id\": 19, \"minimum\": 30.261330823061556, \"maximum\": 349.7205373567698, \"qp_lower\": 0.44131627152990605, \"qp_upper\": -1.0}, {\"x1\": 8.683813448482414e-05, \"x2\": 0.8559573094397179, \"name\": \"A.1_pfail\", \"id\": 19, \"minimum\": 8.683813448482414e-05, \"maximum\": 0.999523363358106, \"qp_lower\": -1.0, \"qp_upper\": 0.21136149685568384}, {\"x1\": 0.0002785107591457284, \"x2\": 0.936279307187284, \"name\": \"A.2_pfail\", \"id\": 19, \"minimum\": 0.0002785107591457284, \"maximum\": 0.9997354527944962, \"qp_lower\": -1.0, \"qp_upper\": 0.4134891955665187}, {\"x1\": 45.53696269412734, \"x2\": 302.519398817528, \"name\": \"A.3_Bmax\", \"id\": 19, \"minimum\": 30.146206928024192, \"maximum\": 349.955556665157, \"qp_lower\": 0.3807709042031251, \"qp_upper\": 0.18930851064048948}, {\"x1\": 80.565185246451, \"x2\": 349.93827442057335, \"name\": \"A.4_Bmax\", \"id\": 19, \"minimum\": 30.311610815756477, \"maximum\": 349.93827442057335, \"qp_lower\": 0.25760459540402525, \"qp_upper\": -1.0}, {\"x1\": 0.09977998129174515, \"x2\": 0.9993033794196652, \"name\": \"A.4_pfail\", \"id\": 19, \"minimum\": 0.0009900759568351593, \"maximum\": 0.9993033794196652, \"qp_lower\": 0.3287178187104453, \"qp_upper\": -1.0}, {\"x1\": 0.08101830608227314, \"x2\": 0.9423121364907185, \"name\": \"A.5_pfail\", \"id\": 19, \"minimum\": 0.00037821856522135376, \"maximum\": 0.999568950265345, \"qp_lower\": 0.40245708946798, \"qp_upper\": 0.3695684900946744}, {\"x1\": 42.554257150060266, \"x2\": 349.7205373567698, \"name\": \"A.1_Bmax\", \"id\": 20, \"minimum\": 30.261330823061556, \"maximum\": 349.7205373567698, \"qp_lower\": 0.4219201462615066, \"qp_upper\": -1.0}, {\"x1\": 8.683813448482414e-05, \"x2\": 0.8559573094397179, \"name\": \"A.1_pfail\", \"id\": 20, \"minimum\": 8.683813448482414e-05, \"maximum\": 0.999523363358106, \"qp_lower\": -1.0, \"qp_upper\": 0.20346812315977353}, {\"x1\": 0.0002785107591457284, \"x2\": 0.936279307187284, \"name\": \"A.2_pfail\", \"id\": 20, \"minimum\": 0.0002785107591457284, \"maximum\": 0.9997354527944962, \"qp_lower\": -1.0, \"qp_upper\": 0.39746630449025083}, {\"x1\": 45.53696269412734, \"x2\": 302.519398817528, \"name\": \"A.3_Bmax\", \"id\": 20, \"minimum\": 30.146206928024192, \"maximum\": 349.955556665157, \"qp_lower\": 0.3615447130513443, \"qp_upper\": 0.1784669194862338}, {\"x1\": 0.0008912022339797353, \"x2\": 0.9231492573349921, \"name\": \"A.3_pfail\", \"id\": 20, \"minimum\": 0.0008912022339797353, \"maximum\": 0.9991882515451532, \"qp_lower\": -1.0, \"qp_upper\": 0.3843653188525804}, {\"x1\": 80.565185246451, \"x2\": 349.93827442057335, \"name\": \"A.4_Bmax\", \"id\": 20, \"minimum\": 30.311610815756477, \"maximum\": 349.93827442057335, \"qp_lower\": 0.2631621182940614, \"qp_upper\": -1.0}, {\"x1\": 0.09977998129174515, \"x2\": 0.9993033794196652, \"name\": \"A.4_pfail\", \"id\": 20, \"minimum\": 0.0009900759568351593, \"maximum\": 0.9993033794196652, \"qp_lower\": 0.3084912119824339, \"qp_upper\": -1.0}, {\"x1\": 0.08101830608227314, \"x2\": 0.9423121364907185, \"name\": \"A.5_pfail\", \"id\": 20, \"minimum\": 0.00037821856522135376, \"maximum\": 0.999568950265345, \"qp_lower\": 0.3843653188525804, \"qp_upper\": 0.3511364061050223}, {\"x1\": 42.554257150060266, \"x2\": 349.7205373567698, \"name\": \"A.1_Bmax\", \"id\": 21, \"minimum\": 30.261330823061556, \"maximum\": 349.7205373567698, \"qp_lower\": 0.41723058172621397, \"qp_upper\": -1.0}, {\"x1\": 8.683813448482414e-05, \"x2\": 0.8559573094397179, \"name\": \"A.1_pfail\", \"id\": 21, \"minimum\": 8.683813448482414e-05, \"maximum\": 0.999523363358106, \"qp_lower\": -1.0, \"qp_upper\": 0.1903469192635802}, {\"x1\": 0.0002785107591457284, \"x2\": 0.936279307187284, \"name\": \"A.2_pfail\", \"id\": 21, \"minimum\": 0.0002785107591457284, \"maximum\": 0.9997354527944962, \"qp_lower\": -1.0, \"qp_upper\": 0.39789629446492475}, {\"x1\": 45.53696269412734, \"x2\": 302.519398817528, \"name\": \"A.3_Bmax\", \"id\": 21, \"minimum\": 30.146206928024192, \"maximum\": 349.955556665157, \"qp_lower\": 0.356806215234368, \"qp_upper\": 0.17588571882075232}, {\"x1\": 0.0008912022339797353, \"x2\": 0.8821526299827459, \"name\": \"A.3_pfail\", \"id\": 21, \"minimum\": 0.0008912022339797353, \"maximum\": 0.9991882515451532, \"qp_lower\": -1.0, \"qp_upper\": 0.2493142141463729}, {\"x1\": 80.565185246451, \"x2\": 349.93827442057335, \"name\": \"A.4_Bmax\", \"id\": 21, \"minimum\": 30.311610815756477, \"maximum\": 349.93827442057335, \"qp_lower\": 0.2638322259441828, \"qp_upper\": -1.0}, {\"x1\": 0.09977998129174515, \"x2\": 0.9993033794196652, \"name\": \"A.4_pfail\", \"id\": 21, \"minimum\": 0.0009900759568351593, \"maximum\": 0.9993033794196652, \"qp_lower\": 0.30144549833237605, \"qp_upper\": -1.0}, {\"x1\": 0.08101830608227314, \"x2\": 0.9423121364907185, \"name\": \"A.5_pfail\", \"id\": 21, \"minimum\": 0.00037821856522135376, \"maximum\": 0.999568950265345, \"qp_lower\": 0.42460992701878464, \"qp_upper\": 0.3474928163268116}, {\"x1\": 42.554257150060266, \"x2\": 349.7205373567698, \"name\": \"A.1_Bmax\", \"id\": 22, \"minimum\": 30.261330823061556, \"maximum\": 349.7205373567698, \"qp_lower\": 0.42359682054031866, \"qp_upper\": -1.0}, {\"x1\": 8.683813448482414e-05, \"x2\": 0.8559573094397179, \"name\": \"A.1_pfail\", \"id\": 22, \"minimum\": 8.683813448482414e-05, \"maximum\": 0.999523363358106, \"qp_lower\": -1.0, \"qp_upper\": 0.20542514650249674}, {\"x1\": 0.0002785107591457284, \"x2\": 0.936279307187284, \"name\": \"A.2_pfail\", \"id\": 22, \"minimum\": 0.0002785107591457284, \"maximum\": 0.9997354527944962, \"qp_lower\": -1.0, \"qp_upper\": 0.4179924819626222}, {\"x1\": 45.53696269412734, \"x2\": 302.519398817528, \"name\": \"A.3_Bmax\", \"id\": 22, \"minimum\": 30.146206928024192, \"maximum\": 349.955556665157, \"qp_lower\": 0.34360287625259955, \"qp_upper\": 0.15605538890267828}, {\"x1\": 0.0008912022339797353, \"x2\": 0.8364398736535004, \"name\": \"A.3_pfail\", \"id\": 22, \"minimum\": 0.0008912022339797353, \"maximum\": 0.9991882515451532, \"qp_lower\": -1.0, \"qp_upper\": 0.1500046500463076}, {\"x1\": 80.565185246451, \"x2\": 349.93827442057335, \"name\": \"A.4_Bmax\", \"id\": 22, \"minimum\": 30.311610815756477, \"maximum\": 349.93827442057335, \"qp_lower\": 0.27365995842997415, \"qp_upper\": -1.0}, {\"x1\": 0.09977998129174515, \"x2\": 0.9993033794196652, \"name\": \"A.4_pfail\", \"id\": 22, \"minimum\": 0.0009900759568351593, \"maximum\": 0.9993033794196652, \"qp_lower\": 0.2867869699898065, \"qp_upper\": -1.0}, {\"x1\": 0.08101830608227314, \"x2\": 0.9423121364907185, \"name\": \"A.5_pfail\", \"id\": 22, \"minimum\": 0.00037821856522135376, \"maximum\": 0.999568950265345, \"qp_lower\": 0.4179924819626222, \"qp_upper\": 0.3354476638169606}, {\"x1\": 42.554257150060266, \"x2\": 349.7205373567698, \"name\": \"A.1_Bmax\", \"id\": 23, \"minimum\": 30.261330823061556, \"maximum\": 349.7205373567698, \"qp_lower\": 0.3708307940647549, \"qp_upper\": -1.0}, {\"x1\": 8.683813448482414e-05, \"x2\": 0.8559573094397179, \"name\": \"A.1_pfail\", \"id\": 23, \"minimum\": 8.683813448482414e-05, \"maximum\": 0.999523363358106, \"qp_lower\": -1.0, \"qp_upper\": 0.20083427708243573}, {\"x1\": 0.0002785107591457284, \"x2\": 0.936279307187284, \"name\": \"A.2_pfail\", \"id\": 23, \"minimum\": 0.0002785107591457284, \"maximum\": 0.9997354527944962, \"qp_lower\": -1.0, \"qp_upper\": 0.4011564089352242}, {\"x1\": 45.53696269412734, \"x2\": 302.519398817528, \"name\": \"A.3_Bmax\", \"id\": 23, \"minimum\": 30.146206928024192, \"maximum\": 349.955556665157, \"qp_lower\": 0.3145338389711383, \"qp_upper\": 0.14692713240120325}, {\"x1\": 0.0008912022339797353, \"x2\": 0.755696549108044, \"name\": \"A.3_pfail\", \"id\": 23, \"minimum\": 0.0008912022339797353, \"maximum\": 0.9991882515451532, \"qp_lower\": -1.0, \"qp_upper\": 0.08970313664774417}, {\"x1\": 80.565185246451, \"x2\": 349.93827442057335, \"name\": \"A.4_Bmax\", \"id\": 23, \"minimum\": 30.311610815756477, \"maximum\": 349.93827442057335, \"qp_lower\": 0.2336805431858461, \"qp_upper\": -1.0}, {\"x1\": 0.09977998129174515, \"x2\": 0.9993033794196652, \"name\": \"A.4_pfail\", \"id\": 23, \"minimum\": 0.0009900759568351593, \"maximum\": 0.9993033794196652, \"qp_lower\": 0.2886816339774739, \"qp_upper\": -1.0}, {\"x1\": 0.08101830608227314, \"x2\": 0.9423121364907185, \"name\": \"A.5_pfail\", \"id\": 23, \"minimum\": 0.00037821856522135376, \"maximum\": 0.999568950265345, \"qp_lower\": 0.4328044365386389, \"qp_upper\": 0.3708307940647549}, {\"x1\": 42.554257150060266, \"x2\": 349.7205373567698, \"name\": \"A.1_Bmax\", \"id\": 24, \"minimum\": 30.261330823061556, \"maximum\": 349.7205373567698, \"qp_lower\": 0.4109926638946759, \"qp_upper\": -1.0}, {\"x1\": 8.683813448482414e-05, \"x2\": 0.8559573094397179, \"name\": \"A.1_pfail\", \"id\": 24, \"minimum\": 8.683813448482414e-05, \"maximum\": 0.999523363358106, \"qp_lower\": -1.0, \"qp_upper\": 0.24509942524095374}, {\"x1\": 0.0002785107591457284, \"x2\": 0.936279307187284, \"name\": \"A.2_pfail\", \"id\": 24, \"minimum\": 0.0002785107591457284, \"maximum\": 0.9997354527944962, \"qp_lower\": -1.0, \"qp_upper\": 0.36416448070530066}, {\"x1\": 45.53696269412734, \"x2\": 302.519398817528, \"name\": \"A.3_Bmax\", \"id\": 24, \"minimum\": 30.146206928024192, \"maximum\": 349.955556665157, \"qp_lower\": 0.3207891488101981, \"qp_upper\": 0.08772752222961924}, {\"x1\": 0.0008912022339797353, \"x2\": 0.755696549108044, \"name\": \"A.3_pfail\", \"id\": 24, \"minimum\": 0.0008912022339797353, \"maximum\": 0.9991882515451532, \"qp_lower\": -1.0, \"qp_upper\": 0.09989807137544911}, {\"x1\": 80.565185246451, \"x2\": 349.93827442057335, \"name\": \"A.4_Bmax\", \"id\": 24, \"minimum\": 30.311610815756477, \"maximum\": 349.93827442057335, \"qp_lower\": 0.18660409464956723, \"qp_upper\": -1.0}, {\"x1\": 0.09977998129174515, \"x2\": 0.9993033794196652, \"name\": \"A.4_pfail\", \"id\": 24, \"minimum\": 0.0009900759568351593, \"maximum\": 0.9993033794196652, \"qp_lower\": 0.3207891488101981, \"qp_upper\": -1.0}, {\"x1\": 0.08101830608227314, \"x2\": 0.9423121364907185, \"name\": \"A.5_pfail\", \"id\": 24, \"minimum\": 0.00037821856522135376, \"maximum\": 0.999568950265345, \"qp_lower\": 0.4109926638946759, \"qp_upper\": 0.46089082563576567}, {\"x1\": 42.554257150060266, \"x2\": 349.7205373567698, \"name\": \"A.1_Bmax\", \"id\": 25, \"minimum\": 30.261330823061556, \"maximum\": 349.7205373567698, \"qp_lower\": 0.40268873041693165, \"qp_upper\": -1.0}, {\"x1\": 8.683813448482414e-05, \"x2\": 0.8559573094397179, \"name\": \"A.1_pfail\", \"id\": 25, \"minimum\": 8.683813448482414e-05, \"maximum\": 0.999523363358106, \"qp_lower\": -1.0, \"qp_upper\": 0.2269455870468701}, {\"x1\": 0.0002785107591457284, \"x2\": 0.936279307187284, \"name\": \"A.2_pfail\", \"id\": 25, \"minimum\": 0.0002785107591457284, \"maximum\": 0.9997354527944962, \"qp_lower\": -1.0, \"qp_upper\": 0.35234025879167574}, {\"x1\": 51.977871081611354, \"x2\": 302.519398817528, \"name\": \"A.3_Bmax\", \"id\": 25, \"minimum\": 30.146206928024192, \"maximum\": 349.955556665157, \"qp_lower\": 0.19385950203575508, \"qp_upper\": 0.07137545077819399}, {\"x1\": 0.0008912022339797353, \"x2\": 0.755696549108044, \"name\": \"A.3_pfail\", \"id\": 25, \"minimum\": 0.0008912022339797353, \"maximum\": 0.9991882515451532, \"qp_lower\": -1.0, \"qp_upper\": 0.0832821789320788}, {\"x1\": 80.565185246451, \"x2\": 349.93827442057335, \"name\": \"A.4_Bmax\", \"id\": 25, \"minimum\": 30.311610815756477, \"maximum\": 349.93827442057335, \"qp_lower\": 0.19465573719452, \"qp_upper\": -1.0}, {\"x1\": 0.09977998129174515, \"x2\": 0.9993033794196652, \"name\": \"A.4_pfail\", \"id\": 25, \"minimum\": 0.0009900759568351593, \"maximum\": 0.9993033794196652, \"qp_lower\": 0.30614678747085056, \"qp_upper\": -1.0}, {\"x1\": 0.08101830608227314, \"x2\": 0.9423121364907185, \"name\": \"A.5_pfail\", \"id\": 25, \"minimum\": 0.00037821856522135376, \"maximum\": 0.999568950265345, \"qp_lower\": 0.40268873041693165, \"qp_upper\": 0.45673158876416087}], \"data-bb8d07f6df3d47a6a475317795287b23\": [{\"start\": 0, \"end\": 1}], \"data-8d37037c4e3cd9b29b16fdce53d8db67\": [{\"name\": \"discount rate 2,  0.24\", \"n_items\": 4, \"item\": 1.5, \"id\": 8, \"x\": 0.0}, {\"name\": \"discount rate 2,  0.24\", \"n_items\": 4, \"item\": 2.5, \"id\": 8, \"x\": 0.3333333333333333}, {\"name\": \"discount rate 2,  0.24\", \"n_items\": 4, \"item\": 4.5, \"id\": 8, \"x\": 0.6666666666666666}, {\"name\": \"discount rate 2,  0.24\", \"n_items\": 4, \"item\": 1.5, \"id\": 9, \"x\": 0.0}, {\"name\": \"discount rate 2,  0.24\", \"n_items\": 4, \"item\": 2.5, \"id\": 9, \"x\": 0.3333333333333333}, {\"name\": \"discount rate 2,  0.24\", \"n_items\": 4, \"item\": 4.5, \"id\": 9, \"x\": 0.6666666666666666}, {\"name\": \"discount rate 2,  0.24\", \"n_items\": 4, \"item\": 1.5, \"id\": 10, \"x\": 0.0}, {\"name\": \"discount rate 2,  0.24\", \"n_items\": 4, \"item\": 2.5, \"id\": 10, \"x\": 0.3333333333333333}, {\"name\": \"discount rate 2,  0.24\", \"n_items\": 4, \"item\": 4.5, \"id\": 10, \"x\": 0.6666666666666666}, {\"name\": \"discount rate 2,  0.099\", \"n_items\": 3, \"item\": 2.5, \"id\": 11, \"x\": 0.0}, {\"name\": \"discount rate 2,  0.099\", \"n_items\": 3, \"item\": 4.5, \"id\": 11, \"x\": 0.5}, {\"name\": \"discount rate 2,  0.084\", \"n_items\": 3, \"item\": 2.5, \"id\": 12, \"x\": 0.0}, {\"name\": \"discount rate 2,  0.084\", \"n_items\": 3, \"item\": 4.5, \"id\": 12, \"x\": 0.5}, {\"name\": \"discount rate 2,  0.077\", \"n_items\": 3, \"item\": 2.5, \"id\": 13, \"x\": 0.0}, {\"name\": \"discount rate 2,  0.077\", \"n_items\": 3, \"item\": 4.5, \"id\": 13, \"x\": 0.5}, {\"name\": \"discount rate 2,  0.098\", \"n_items\": 3, \"item\": 2.5, \"id\": 14, \"x\": 0.0}, {\"name\": \"discount rate 2,  0.098\", \"n_items\": 3, \"item\": 4.5, \"id\": 14, \"x\": 0.5}, {\"name\": \"discount rate 2,  0.029\", \"n_items\": 2, \"item\": 2.5, \"id\": 15, \"x\": 0.0}, {\"name\": \"discount rate 2,  0.019\", \"n_items\": 2, \"item\": 2.5, \"id\": 16, \"x\": 0.0}, {\"name\": \"discount rate 2,  0.0058\", \"n_items\": 2, \"item\": 2.5, \"id\": 17, \"x\": 0.0}, {\"name\": \"discount rate 2,  0.0027\", \"n_items\": 2, \"item\": 2.5, \"id\": 18, \"x\": 0.0}, {\"name\": \"discount rate 2,  0.001\", \"n_items\": 2, \"item\": 2.5, \"id\": 19, \"x\": 0.0}, {\"name\": \"discount rate 2,  0.00046\", \"n_items\": 2, \"item\": 2.5, \"id\": 20, \"x\": 0.0}, {\"name\": \"discount rate 2,  0.00017\", \"n_items\": 2, \"item\": 2.5, \"id\": 21, \"x\": 0.0}, {\"name\": \"discount rate 2,  8.1e-05\", \"n_items\": 2, \"item\": 2.5, \"id\": 22, \"x\": 0.0}, {\"name\": \"discount rate 2,  5e-05\", \"n_items\": 2, \"item\": 2.5, \"id\": 23, \"x\": 0.0}, {\"name\": \"A.1_Brate,  0.082\", \"n_items\": 3, \"item\": 10.0, \"id\": 24, \"x\": 0.0}, {\"name\": \"A.1_Brate,  0.082\", \"n_items\": 3, \"item\": 1.0, \"id\": 24, \"x\": 0.5}, {\"name\": \"discount rate 2,  7.5e-06\", \"n_items\": 2, \"item\": 2.5, \"id\": 24, \"x\": 0.0}, {\"name\": \"A.1_Brate,  0.06\", \"n_items\": 3, \"item\": 10.0, \"id\": 25, \"x\": 0.0}, {\"name\": \"A.1_Brate,  0.06\", \"n_items\": 3, \"item\": 1.0, \"id\": 25, \"x\": 0.5}, {\"name\": \"discount rate 2,  2.7e-06\", \"n_items\": 2, \"item\": 2.5, \"id\": 25, \"x\": 0.0}]}}, {\"mode\": \"vega-lite\"});\n</script>",
      "text/plain": "alt.VConcatChart(...)"
     },
     "metadata": {},
     "execution_count": 124
    }
   ],
   "source": [
    "box.inspect_tradeoff()\n"
   ]
  },
  {
   "cell_type": "markdown",
   "metadata": {},
   "source": [
    "We select box 10, as it shows a good mixture between coverage and density. "
   ]
  },
  {
   "cell_type": "code",
   "execution_count": 125,
   "metadata": {
    "tags": []
   },
   "outputs": [
    {
     "output_type": "stream",
     "name": "stdout",
     "text": "coverage    0.490198\ndensity     0.489285\nid                10\nmass           0.477\nmean        0.489285\nres_dim            7\nName: 10, dtype: object\n\n                          box 10                   \\\n                             min              max   \nA.1_pfail            8.68381e-05         0.899376   \nA.2_pfail            0.000278511         0.936279   \nA.5_pfail            0.000378219         0.942312   \ndiscount rate 2  {1.5, 2.5, 4.5}  {1.5, 2.5, 4.5}   \nA.4_pfail                0.09978         0.999303   \nA.3_Bmax                  45.537          333.938   \nA.1_Bmax                 42.5543          349.721   \n\n                                                            \n                                                 qp values  \nA.1_pfail                       [-1.0, 0.2225219531244701]  \nA.2_pfail                       [-1.0, 0.4055052801398871]  \nA.5_pfail                      [-1.0, 0.43291997172602514]  \ndiscount rate 2                [0.23812764552794194, -1.0]  \nA.4_pfail                       [0.2867548706481677, -1.0]  \nA.3_Bmax         [0.4163312466402623, 0.36699968755196116]  \nA.1_Bmax                        [0.4473728849996696, -1.0]  \n\n"
    }
   ],
   "source": [
    "n_box = 10\n",
    "box.inspect(n_box)\n"
   ]
  },
  {
   "cell_type": "code",
   "execution_count": 126,
   "metadata": {},
   "outputs": [],
   "source": [
    "box.select(n_box)\n",
    "scens_in_box = experiments.iloc[box.yi]\n",
    "outcomes_in_box = {k:v[box.yi] for k,v in outcomes.items()}"
   ]
  },
  {
   "cell_type": "code",
   "execution_count": 127,
   "metadata": {
    "tags": []
   },
   "outputs": [
    {
     "output_type": "stream",
     "name": "stderr",
     "text": "[MainProcess/INFO] results saved successfully to /Users/ricoherzog/OneDrive/Uni/2019-2020 WiSe Den Haag/Q4/EPA1361 Model Based Decision Making/05_Project/model-based-decision-making/results/mordm_10_Gelderland.tar.gz\n"
    }
   ],
   "source": [
    "#Save results\n",
    "save_results([scens_in_box.reindex(), outcomes_in_box], '../results/mordm_'+str(n_box)+'_'+province+'.tar.gz')"
   ]
  },
  {
   "cell_type": "markdown",
   "metadata": {},
   "source": [
    "# Multi-Scenario MORDM\n",
    "Based on the results of scenario discovery, we now continue to select three of such scenarios based on the worst outcomes in terms of casualties, damages and total costs. We will take each of these scenarios as a reference scenario to run an optimization algorithm for the levers to choose. "
   ]
  },
  {
   "cell_type": "code",
   "execution_count": 128,
   "metadata": {},
   "outputs": [],
   "source": [
    "#Load results\n",
    "# mordm_results = load_results('../results/mordm_29_Gelderland.tar.gz')\n",
    "results_df = pd.concat([pd.DataFrame(scens_in_box).reset_index(drop=True), pd.DataFrame(outcomes_in_box)], axis = 1)"
   ]
  },
  {
   "cell_type": "code",
   "execution_count": 129,
   "metadata": {},
   "outputs": [],
   "source": [
    "#Sum up Deaths and Damages\n",
    "results_df[\"Deaths Aggregated\"] = results_df[\"A1_2 Aggr Expected Number of Deaths\"] + results_df[\"A3 Aggr Expected Number of Deaths\"]\n",
    "results_df[\"Damages Aggregated\"] = results_df[\"A1_2 Aggr Expected Annual Damage\"] + results_df[\"A3 Expected Annual Damage\"]"
   ]
  },
  {
   "cell_type": "code",
   "execution_count": 130,
   "metadata": {},
   "outputs": [],
   "source": [
    "#Get the three reference scenarios\n",
    "scenario_indices = [results_df.sort_values([\"Evacuation Costs\"]).tail(1).index[0], \n",
    "                    results_df.sort_values([\"Deaths Aggregated\"]).tail(1).index[0], \n",
    "                    results_df.sort_values([\"Damages Aggregated\"]).tail(1).index[0]]\n",
    "selected = results_df.iloc[scenario_indices, 0:19]\n"
   ]
  },
  {
   "cell_type": "code",
   "execution_count": 131,
   "metadata": {},
   "outputs": [],
   "source": [
    "#Create the three reference case scenario instances\n",
    "scenarios_mordm = [Scenario(f\"{index}\", **row) for index, row in selected.iterrows()]"
   ]
  },
  {
   "cell_type": "markdown",
   "metadata": {},
   "source": [
    "### Optimization run 2, now for 3 reference case scenarios\n",
    "We now search for optimal policies utilizing the three new refence scenarios specified above. For reasons already mentioned, we again use 20000 nfes and the epsilon progress to check for convergence"
   ]
  },
  {
   "cell_type": "code",
   "execution_count": 15,
   "metadata": {},
   "outputs": [
    {
     "output_type": "stream",
     "name": "stderr",
     "text": "[MainProcess/INFO] pool started\n[MainProcess/INFO] generation 0: 0/20000 nfe\n[MainProcess/INFO] generation 5: 497/20000 nfe\n[MainProcess/INFO] generation 10: 996/20000 nfe\n[MainProcess/INFO] generation 15: 1493/20000 nfe\n[MainProcess/INFO] generation 20: 1993/20000 nfe\n[MainProcess/INFO] generation 25: 2492/20000 nfe\n[MainProcess/INFO] generation 30: 2989/20000 nfe\n[MainProcess/INFO] generation 35: 3489/20000 nfe\n[MainProcess/INFO] generation 40: 3988/20000 nfe\n[MainProcess/INFO] generation 45: 4487/20000 nfe\n[MainProcess/INFO] generation 50: 4985/20000 nfe\n[MainProcess/INFO] generation 55: 5484/20000 nfe\n[MainProcess/INFO] generation 60: 5983/20000 nfe\n[MainProcess/INFO] generation 65: 6483/20000 nfe\n[MainProcess/INFO] generation 70: 6978/20000 nfe\n[MainProcess/INFO] generation 75: 7474/20000 nfe\n[MainProcess/INFO] generation 80: 7973/20000 nfe\n[MainProcess/INFO] generation 85: 8468/20000 nfe\n[MainProcess/INFO] generation 90: 8966/20000 nfe\n[MainProcess/INFO] generation 95: 9465/20000 nfe\n[MainProcess/INFO] generation 100: 9962/20000 nfe\n[MainProcess/INFO] optimization completed, found 944 solutions\n[MainProcess/INFO] terminating pool\n[MainProcess/INFO] pool started\n[MainProcess/INFO] generation 0: 0/20000 nfe\n[MainProcess/INFO] generation 5: 496/20000 nfe\n[MainProcess/INFO] generation 10: 996/20000 nfe\n[MainProcess/INFO] generation 15: 1492/20000 nfe\n[MainProcess/INFO] generation 20: 1992/20000 nfe\n[MainProcess/INFO] generation 25: 2491/20000 nfe\n[MainProcess/INFO] generation 30: 2988/20000 nfe\n[MainProcess/INFO] generation 35: 3485/20000 nfe\n[MainProcess/INFO] generation 40: 3985/20000 nfe\n[MainProcess/INFO] generation 45: 4485/20000 nfe\n[MainProcess/INFO] generation 50: 4981/20000 nfe\n[MainProcess/INFO] generation 55: 5479/20000 nfe\n[MainProcess/INFO] generation 60: 5978/20000 nfe\n[MainProcess/INFO] generation 65: 6471/20000 nfe\n[MainProcess/INFO] generation 70: 6968/20000 nfe\n[MainProcess/INFO] generation 75: 7466/20000 nfe\n[MainProcess/INFO] generation 80: 7963/20000 nfe\n[MainProcess/INFO] generation 85: 8458/20000 nfe\n[MainProcess/INFO] generation 90: 8957/20000 nfe\n[MainProcess/INFO] generation 95: 9452/20000 nfe\n[MainProcess/INFO] generation 100: 9948/20000 nfe\n[MainProcess/INFO] generation 105: 19590/20000 nfe\n[MainProcess/INFO] optimization completed, found 531 solutions\n[MainProcess/INFO] terminating pool\n[MainProcess/INFO] pool started\n[MainProcess/INFO] generation 0: 0/20000 nfe\n[MainProcess/INFO] generation 5: 499/20000 nfe\n[MainProcess/INFO] generation 10: 995/20000 nfe\n[MainProcess/INFO] generation 15: 1494/20000 nfe\n[MainProcess/INFO] generation 20: 1993/20000 nfe\n[MainProcess/INFO] generation 25: 2493/20000 nfe\n[MainProcess/INFO] generation 30: 2988/20000 nfe\n[MainProcess/INFO] generation 35: 3486/20000 nfe\n[MainProcess/INFO] generation 40: 3986/20000 nfe\n[MainProcess/INFO] generation 45: 4485/20000 nfe\n[MainProcess/INFO] generation 50: 4985/20000 nfe\n[MainProcess/INFO] generation 55: 5485/20000 nfe\n[MainProcess/INFO] generation 60: 5985/20000 nfe\n[MainProcess/INFO] generation 65: 6481/20000 nfe\n[MainProcess/INFO] generation 70: 6979/20000 nfe\n[MainProcess/INFO] generation 75: 7475/20000 nfe\n[MainProcess/INFO] generation 80: 7973/20000 nfe\n[MainProcess/INFO] generation 85: 8472/20000 nfe\n[MainProcess/INFO] generation 90: 8971/20000 nfe\n[MainProcess/INFO] generation 95: 9466/20000 nfe\n[MainProcess/INFO] generation 100: 9960/20000 nfe\n[MainProcess/INFO] generation 105: 18622/20000 nfe\n[MainProcess/INFO] optimization completed, found 613 solutions\n[MainProcess/INFO] terminating pool\n"
    }
   ],
   "source": [
    "def optimize(scenario, nfe, model, converge_metrics, epsilons):\n",
    "\n",
    "    with MultiprocessingEvaluator(model) as evaluator:\n",
    "        results, convergence = evaluator.optimize(nfe=n_nfe, searchover='levers',\n",
    "                                     convergence=convergence_metrics,\n",
    "                                     epsilons=epsilons,\n",
    "                                     reference=scenario)\n",
    "    return results, convergence\n",
    "\n",
    "\n",
    "results = []\n",
    "\n",
    "for scenario in scenarios_mordm:\n",
    "    convergence_metrics = [EpsilonProgress()]\n",
    "    epsilons = [0.1,]*len(dike_model.outcomes)\n",
    "    \n",
    "    results.append(optimize(scenario, 1e4, dike_model, convergence_metrics, epsilons))"
   ]
  },
  {
   "cell_type": "code",
   "execution_count": 16,
   "metadata": {},
   "outputs": [
    {
     "output_type": "stream",
     "name": "stderr",
     "text": "[MainProcess/INFO] results saved successfully to c:\\Users\\ricoh\\Documents\\GitHub\\model-based-decision-making\\results\\ms_mordm_20000nfe_Gelderland_reference1.tar.gz\n[MainProcess/INFO] results saved successfully to c:\\Users\\ricoh\\Documents\\GitHub\\model-based-decision-making\\results\\ms_mordm_20000nfe_Gelderland_reference2.tar.gz\n[MainProcess/INFO] results saved successfully to c:\\Users\\ricoh\\Documents\\GitHub\\model-based-decision-making\\results\\ms_mordm_20000nfe_Gelderland_reference3.tar.gz\n"
    }
   ],
   "source": [
    "save_results(results[0], \"../results/ms_mordm_\"+str(n_nfe)+\"nfe_\"+province+\"_reference1.tar.gz\")\n",
    "save_results(results[1], \"../results/ms_mordm_\"+str(n_nfe)+\"nfe_\"+province+\"_reference2.tar.gz\")\n",
    "save_results(results[2], \"../results/ms_mordm_\"+str(n_nfe)+\"nfe_\"+province+\"_reference3.tar.gz\")"
   ]
  },
  {
   "cell_type": "code",
   "execution_count": 132,
   "metadata": {
    "tags": []
   },
   "outputs": [
    {
     "output_type": "stream",
     "name": "stderr",
     "text": "[MainProcess/INFO] results loaded succesfully from /Users/ricoherzog/OneDrive/Uni/2019-2020 WiSe Den Haag/Q4/EPA1361 Model Based Decision Making/05_Project/model-based-decision-making/results/ms_mordm_20000nfe_Gelderland_reference1.tar.gz\n[MainProcess/INFO] results loaded succesfully from /Users/ricoherzog/OneDrive/Uni/2019-2020 WiSe Den Haag/Q4/EPA1361 Model Based Decision Making/05_Project/model-based-decision-making/results/ms_mordm_20000nfe_Gelderland_reference2.tar.gz\n[MainProcess/INFO] results loaded succesfully from /Users/ricoherzog/OneDrive/Uni/2019-2020 WiSe Den Haag/Q4/EPA1361 Model Based Decision Making/05_Project/model-based-decision-making/results/ms_mordm_20000nfe_Gelderland_reference3.tar.gz\n"
    }
   ],
   "source": [
    "#Load results\n",
    "results = []\n",
    "results.append(load_results(\"../results/ms_mordm_20000nfe_\"+province+\"_reference1.tar.gz\"))\n",
    "results.append(load_results(\"../results/ms_mordm_20000nfe_\"+province+\"_reference2.tar.gz\"))\n",
    "results.append(load_results(\"../results/ms_mordm_20000nfe_\"+province+\"_reference3.tar.gz\"))"
   ]
  },
  {
   "cell_type": "markdown",
   "metadata": {},
   "source": [
    "### Check for convergence"
   ]
  },
  {
   "cell_type": "code",
   "execution_count": 9,
   "metadata": {},
   "outputs": [
    {
     "output_type": "display_data",
     "data": {
      "text/plain": "<Figure size 432x288 with 1 Axes>",
      "image/svg+xml": "<?xml version=\"1.0\" encoding=\"utf-8\" standalone=\"no\"?>\n<!DOCTYPE svg PUBLIC \"-//W3C//DTD SVG 1.1//EN\"\n  \"http://www.w3.org/Graphics/SVG/1.1/DTD/svg11.dtd\">\n<!-- Created with matplotlib (https://matplotlib.org/) -->\n<svg height=\"291.75625pt\" version=\"1.1\" viewBox=\"0 0 433.528125 291.75625\" width=\"433.528125pt\" xmlns=\"http://www.w3.org/2000/svg\" xmlns:xlink=\"http://www.w3.org/1999/xlink\">\n <defs>\n  <style type=\"text/css\">\n*{stroke-linecap:butt;stroke-linejoin:round;}\n  </style>\n </defs>\n <g id=\"figure_1\">\n  <g id=\"patch_1\">\n   <path d=\"M 0 291.75625 \nL 433.528125 291.75625 \nL 433.528125 0 \nL 0 0 \nz\n\" style=\"fill:none;\"/>\n  </g>\n  <g id=\"axes_1\">\n   <g id=\"patch_2\">\n    <path d=\"M 53.328125 254.2 \nL 388.128125 254.2 \nL 388.128125 36.76 \nL 53.328125 36.76 \nz\n\" style=\"fill:#ffffff;\"/>\n   </g>\n   <g id=\"matplotlib.axis_1\">\n    <g id=\"xtick_1\">\n     <g id=\"line2d_1\">\n      <defs>\n       <path d=\"M 0 0 \nL 0 3.5 \n\" id=\"mfe735a73f7\" style=\"stroke:#000000;stroke-width:0.8;\"/>\n      </defs>\n      <g>\n       <use style=\"stroke:#000000;stroke-width:0.8;\" x=\"68.546307\" xlink:href=\"#mfe735a73f7\" y=\"254.2\"/>\n      </g>\n     </g>\n     <g id=\"text_1\">\n      <!-- 0 -->\n      <defs>\n       <path d=\"M 31.78125 66.40625 \nQ 24.171875 66.40625 20.328125 58.90625 \nQ 16.5 51.421875 16.5 36.375 \nQ 16.5 21.390625 20.328125 13.890625 \nQ 24.171875 6.390625 31.78125 6.390625 \nQ 39.453125 6.390625 43.28125 13.890625 \nQ 47.125 21.390625 47.125 36.375 \nQ 47.125 51.421875 43.28125 58.90625 \nQ 39.453125 66.40625 31.78125 66.40625 \nz\nM 31.78125 74.21875 \nQ 44.046875 74.21875 50.515625 64.515625 \nQ 56.984375 54.828125 56.984375 36.375 \nQ 56.984375 17.96875 50.515625 8.265625 \nQ 44.046875 -1.421875 31.78125 -1.421875 \nQ 19.53125 -1.421875 13.0625 8.265625 \nQ 6.59375 17.96875 6.59375 36.375 \nQ 6.59375 54.828125 13.0625 64.515625 \nQ 19.53125 74.21875 31.78125 74.21875 \nz\n\" id=\"DejaVuSans-48\"/>\n      </defs>\n      <g transform=\"translate(65.365057 268.798437)scale(0.1 -0.1)\">\n       <use xlink:href=\"#DejaVuSans-48\"/>\n      </g>\n     </g>\n    </g>\n    <g id=\"xtick_2\">\n     <g id=\"line2d_2\">\n      <g>\n       <use style=\"stroke:#000000;stroke-width:0.8;\" x=\"107.388016\" xlink:href=\"#mfe735a73f7\" y=\"254.2\"/>\n      </g>\n     </g>\n     <g id=\"text_2\">\n      <!-- 2500 -->\n      <defs>\n       <path d=\"M 19.1875 8.296875 \nL 53.609375 8.296875 \nL 53.609375 0 \nL 7.328125 0 \nL 7.328125 8.296875 \nQ 12.9375 14.109375 22.625 23.890625 \nQ 32.328125 33.6875 34.8125 36.53125 \nQ 39.546875 41.84375 41.421875 45.53125 \nQ 43.3125 49.21875 43.3125 52.78125 \nQ 43.3125 58.59375 39.234375 62.25 \nQ 35.15625 65.921875 28.609375 65.921875 \nQ 23.96875 65.921875 18.8125 64.3125 \nQ 13.671875 62.703125 7.8125 59.421875 \nL 7.8125 69.390625 \nQ 13.765625 71.78125 18.9375 73 \nQ 24.125 74.21875 28.421875 74.21875 \nQ 39.75 74.21875 46.484375 68.546875 \nQ 53.21875 62.890625 53.21875 53.421875 \nQ 53.21875 48.921875 51.53125 44.890625 \nQ 49.859375 40.875 45.40625 35.40625 \nQ 44.1875 33.984375 37.640625 27.21875 \nQ 31.109375 20.453125 19.1875 8.296875 \nz\n\" id=\"DejaVuSans-50\"/>\n       <path d=\"M 10.796875 72.90625 \nL 49.515625 72.90625 \nL 49.515625 64.59375 \nL 19.828125 64.59375 \nL 19.828125 46.734375 \nQ 21.96875 47.46875 24.109375 47.828125 \nQ 26.265625 48.1875 28.421875 48.1875 \nQ 40.625 48.1875 47.75 41.5 \nQ 54.890625 34.8125 54.890625 23.390625 \nQ 54.890625 11.625 47.5625 5.09375 \nQ 40.234375 -1.421875 26.90625 -1.421875 \nQ 22.3125 -1.421875 17.546875 -0.640625 \nQ 12.796875 0.140625 7.71875 1.703125 \nL 7.71875 11.625 \nQ 12.109375 9.234375 16.796875 8.0625 \nQ 21.484375 6.890625 26.703125 6.890625 \nQ 35.15625 6.890625 40.078125 11.328125 \nQ 45.015625 15.765625 45.015625 23.390625 \nQ 45.015625 31 40.078125 35.4375 \nQ 35.15625 39.890625 26.703125 39.890625 \nQ 22.75 39.890625 18.8125 39.015625 \nQ 14.890625 38.140625 10.796875 36.28125 \nz\n\" id=\"DejaVuSans-53\"/>\n      </defs>\n      <g transform=\"translate(94.663016 268.798437)scale(0.1 -0.1)\">\n       <use xlink:href=\"#DejaVuSans-50\"/>\n       <use x=\"63.623047\" xlink:href=\"#DejaVuSans-53\"/>\n       <use x=\"127.246094\" xlink:href=\"#DejaVuSans-48\"/>\n       <use x=\"190.869141\" xlink:href=\"#DejaVuSans-48\"/>\n      </g>\n     </g>\n    </g>\n    <g id=\"xtick_3\">\n     <g id=\"line2d_3\">\n      <g>\n       <use style=\"stroke:#000000;stroke-width:0.8;\" x=\"146.229726\" xlink:href=\"#mfe735a73f7\" y=\"254.2\"/>\n      </g>\n     </g>\n     <g id=\"text_3\">\n      <!-- 5000 -->\n      <g transform=\"translate(133.504726 268.798437)scale(0.1 -0.1)\">\n       <use xlink:href=\"#DejaVuSans-53\"/>\n       <use x=\"63.623047\" xlink:href=\"#DejaVuSans-48\"/>\n       <use x=\"127.246094\" xlink:href=\"#DejaVuSans-48\"/>\n       <use x=\"190.869141\" xlink:href=\"#DejaVuSans-48\"/>\n      </g>\n     </g>\n    </g>\n    <g id=\"xtick_4\">\n     <g id=\"line2d_4\">\n      <g>\n       <use style=\"stroke:#000000;stroke-width:0.8;\" x=\"185.071436\" xlink:href=\"#mfe735a73f7\" y=\"254.2\"/>\n      </g>\n     </g>\n     <g id=\"text_4\">\n      <!-- 7500 -->\n      <defs>\n       <path d=\"M 8.203125 72.90625 \nL 55.078125 72.90625 \nL 55.078125 68.703125 \nL 28.609375 0 \nL 18.3125 0 \nL 43.21875 64.59375 \nL 8.203125 64.59375 \nz\n\" id=\"DejaVuSans-55\"/>\n      </defs>\n      <g transform=\"translate(172.346436 268.798437)scale(0.1 -0.1)\">\n       <use xlink:href=\"#DejaVuSans-55\"/>\n       <use x=\"63.623047\" xlink:href=\"#DejaVuSans-53\"/>\n       <use x=\"127.246094\" xlink:href=\"#DejaVuSans-48\"/>\n       <use x=\"190.869141\" xlink:href=\"#DejaVuSans-48\"/>\n      </g>\n     </g>\n    </g>\n    <g id=\"xtick_5\">\n     <g id=\"line2d_5\">\n      <g>\n       <use style=\"stroke:#000000;stroke-width:0.8;\" x=\"223.913145\" xlink:href=\"#mfe735a73f7\" y=\"254.2\"/>\n      </g>\n     </g>\n     <g id=\"text_5\">\n      <!-- 10000 -->\n      <defs>\n       <path d=\"M 12.40625 8.296875 \nL 28.515625 8.296875 \nL 28.515625 63.921875 \nL 10.984375 60.40625 \nL 10.984375 69.390625 \nL 28.421875 72.90625 \nL 38.28125 72.90625 \nL 38.28125 8.296875 \nL 54.390625 8.296875 \nL 54.390625 0 \nL 12.40625 0 \nz\n\" id=\"DejaVuSans-49\"/>\n      </defs>\n      <g transform=\"translate(208.006895 268.798437)scale(0.1 -0.1)\">\n       <use xlink:href=\"#DejaVuSans-49\"/>\n       <use x=\"63.623047\" xlink:href=\"#DejaVuSans-48\"/>\n       <use x=\"127.246094\" xlink:href=\"#DejaVuSans-48\"/>\n       <use x=\"190.869141\" xlink:href=\"#DejaVuSans-48\"/>\n       <use x=\"254.492188\" xlink:href=\"#DejaVuSans-48\"/>\n      </g>\n     </g>\n    </g>\n    <g id=\"xtick_6\">\n     <g id=\"line2d_6\">\n      <g>\n       <use style=\"stroke:#000000;stroke-width:0.8;\" x=\"262.754855\" xlink:href=\"#mfe735a73f7\" y=\"254.2\"/>\n      </g>\n     </g>\n     <g id=\"text_6\">\n      <!-- 12500 -->\n      <g transform=\"translate(246.848605 268.798437)scale(0.1 -0.1)\">\n       <use xlink:href=\"#DejaVuSans-49\"/>\n       <use x=\"63.623047\" xlink:href=\"#DejaVuSans-50\"/>\n       <use x=\"127.246094\" xlink:href=\"#DejaVuSans-53\"/>\n       <use x=\"190.869141\" xlink:href=\"#DejaVuSans-48\"/>\n       <use x=\"254.492188\" xlink:href=\"#DejaVuSans-48\"/>\n      </g>\n     </g>\n    </g>\n    <g id=\"xtick_7\">\n     <g id=\"line2d_7\">\n      <g>\n       <use style=\"stroke:#000000;stroke-width:0.8;\" x=\"301.596564\" xlink:href=\"#mfe735a73f7\" y=\"254.2\"/>\n      </g>\n     </g>\n     <g id=\"text_7\">\n      <!-- 15000 -->\n      <g transform=\"translate(285.690314 268.798437)scale(0.1 -0.1)\">\n       <use xlink:href=\"#DejaVuSans-49\"/>\n       <use x=\"63.623047\" xlink:href=\"#DejaVuSans-53\"/>\n       <use x=\"127.246094\" xlink:href=\"#DejaVuSans-48\"/>\n       <use x=\"190.869141\" xlink:href=\"#DejaVuSans-48\"/>\n       <use x=\"254.492188\" xlink:href=\"#DejaVuSans-48\"/>\n      </g>\n     </g>\n    </g>\n    <g id=\"xtick_8\">\n     <g id=\"line2d_8\">\n      <g>\n       <use style=\"stroke:#000000;stroke-width:0.8;\" x=\"340.438274\" xlink:href=\"#mfe735a73f7\" y=\"254.2\"/>\n      </g>\n     </g>\n     <g id=\"text_8\">\n      <!-- 17500 -->\n      <g transform=\"translate(324.532024 268.798437)scale(0.1 -0.1)\">\n       <use xlink:href=\"#DejaVuSans-49\"/>\n       <use x=\"63.623047\" xlink:href=\"#DejaVuSans-55\"/>\n       <use x=\"127.246094\" xlink:href=\"#DejaVuSans-53\"/>\n       <use x=\"190.869141\" xlink:href=\"#DejaVuSans-48\"/>\n       <use x=\"254.492188\" xlink:href=\"#DejaVuSans-48\"/>\n      </g>\n     </g>\n    </g>\n    <g id=\"xtick_9\">\n     <g id=\"line2d_9\">\n      <g>\n       <use style=\"stroke:#000000;stroke-width:0.8;\" x=\"379.279984\" xlink:href=\"#mfe735a73f7\" y=\"254.2\"/>\n      </g>\n     </g>\n     <g id=\"text_9\">\n      <!-- 20000 -->\n      <g transform=\"translate(363.373734 268.798437)scale(0.1 -0.1)\">\n       <use xlink:href=\"#DejaVuSans-50\"/>\n       <use x=\"63.623047\" xlink:href=\"#DejaVuSans-48\"/>\n       <use x=\"127.246094\" xlink:href=\"#DejaVuSans-48\"/>\n       <use x=\"190.869141\" xlink:href=\"#DejaVuSans-48\"/>\n       <use x=\"254.492188\" xlink:href=\"#DejaVuSans-48\"/>\n      </g>\n     </g>\n    </g>\n    <g id=\"text_10\">\n     <!-- nfe -->\n     <defs>\n      <path d=\"M 54.890625 33.015625 \nL 54.890625 0 \nL 45.90625 0 \nL 45.90625 32.71875 \nQ 45.90625 40.484375 42.875 44.328125 \nQ 39.84375 48.1875 33.796875 48.1875 \nQ 26.515625 48.1875 22.3125 43.546875 \nQ 18.109375 38.921875 18.109375 30.90625 \nL 18.109375 0 \nL 9.078125 0 \nL 9.078125 54.6875 \nL 18.109375 54.6875 \nL 18.109375 46.1875 \nQ 21.34375 51.125 25.703125 53.5625 \nQ 30.078125 56 35.796875 56 \nQ 45.21875 56 50.046875 50.171875 \nQ 54.890625 44.34375 54.890625 33.015625 \nz\n\" id=\"DejaVuSans-110\"/>\n      <path d=\"M 37.109375 75.984375 \nL 37.109375 68.5 \nL 28.515625 68.5 \nQ 23.6875 68.5 21.796875 66.546875 \nQ 19.921875 64.59375 19.921875 59.515625 \nL 19.921875 54.6875 \nL 34.71875 54.6875 \nL 34.71875 47.703125 \nL 19.921875 47.703125 \nL 19.921875 0 \nL 10.890625 0 \nL 10.890625 47.703125 \nL 2.296875 47.703125 \nL 2.296875 54.6875 \nL 10.890625 54.6875 \nL 10.890625 58.5 \nQ 10.890625 67.625 15.140625 71.796875 \nQ 19.390625 75.984375 28.609375 75.984375 \nz\n\" id=\"DejaVuSans-102\"/>\n      <path d=\"M 56.203125 29.59375 \nL 56.203125 25.203125 \nL 14.890625 25.203125 \nQ 15.484375 15.921875 20.484375 11.0625 \nQ 25.484375 6.203125 34.421875 6.203125 \nQ 39.59375 6.203125 44.453125 7.46875 \nQ 49.3125 8.734375 54.109375 11.28125 \nL 54.109375 2.78125 \nQ 49.265625 0.734375 44.1875 -0.34375 \nQ 39.109375 -1.421875 33.890625 -1.421875 \nQ 20.796875 -1.421875 13.15625 6.1875 \nQ 5.515625 13.8125 5.515625 26.8125 \nQ 5.515625 40.234375 12.765625 48.109375 \nQ 20.015625 56 32.328125 56 \nQ 43.359375 56 49.78125 48.890625 \nQ 56.203125 41.796875 56.203125 29.59375 \nz\nM 47.21875 32.234375 \nQ 47.125 39.59375 43.09375 43.984375 \nQ 39.0625 48.390625 32.421875 48.390625 \nQ 24.90625 48.390625 20.390625 44.140625 \nQ 15.875 39.890625 15.1875 32.171875 \nz\n\" id=\"DejaVuSans-101\"/>\n     </defs>\n     <g transform=\"translate(212.722656 282.476562)scale(0.1 -0.1)\">\n      <use xlink:href=\"#DejaVuSans-110\"/>\n      <use x=\"63.378906\" xlink:href=\"#DejaVuSans-102\"/>\n      <use x=\"98.583984\" xlink:href=\"#DejaVuSans-101\"/>\n     </g>\n    </g>\n   </g>\n   <g id=\"matplotlib.axis_2\">\n    <g id=\"ytick_1\">\n     <g id=\"line2d_10\">\n      <defs>\n       <path d=\"M 0 0 \nL -3.5 0 \n\" id=\"m80bc11a35e\" style=\"stroke:#000000;stroke-width:0.8;\"/>\n      </defs>\n      <g>\n       <use style=\"stroke:#000000;stroke-width:0.8;\" x=\"53.328125\" xlink:href=\"#m80bc11a35e\" y=\"244.316364\"/>\n      </g>\n     </g>\n     <g id=\"text_11\">\n      <!-- 0 -->\n      <g transform=\"translate(39.965625 248.115582)scale(0.1 -0.1)\">\n       <use xlink:href=\"#DejaVuSans-48\"/>\n      </g>\n     </g>\n    </g>\n    <g id=\"ytick_2\">\n     <g id=\"line2d_11\">\n      <g>\n       <use style=\"stroke:#000000;stroke-width:0.8;\" x=\"53.328125\" xlink:href=\"#m80bc11a35e\" y=\"196.776025\"/>\n      </g>\n     </g>\n     <g id=\"text_12\">\n      <!-- 500 -->\n      <g transform=\"translate(27.240625 200.575244)scale(0.1 -0.1)\">\n       <use xlink:href=\"#DejaVuSans-53\"/>\n       <use x=\"63.623047\" xlink:href=\"#DejaVuSans-48\"/>\n       <use x=\"127.246094\" xlink:href=\"#DejaVuSans-48\"/>\n      </g>\n     </g>\n    </g>\n    <g id=\"ytick_3\">\n     <g id=\"line2d_12\">\n      <g>\n       <use style=\"stroke:#000000;stroke-width:0.8;\" x=\"53.328125\" xlink:href=\"#m80bc11a35e\" y=\"149.235687\"/>\n      </g>\n     </g>\n     <g id=\"text_13\">\n      <!-- 1000 -->\n      <g transform=\"translate(20.878125 153.034905)scale(0.1 -0.1)\">\n       <use xlink:href=\"#DejaVuSans-49\"/>\n       <use x=\"63.623047\" xlink:href=\"#DejaVuSans-48\"/>\n       <use x=\"127.246094\" xlink:href=\"#DejaVuSans-48\"/>\n       <use x=\"190.869141\" xlink:href=\"#DejaVuSans-48\"/>\n      </g>\n     </g>\n    </g>\n    <g id=\"ytick_4\">\n     <g id=\"line2d_13\">\n      <g>\n       <use style=\"stroke:#000000;stroke-width:0.8;\" x=\"53.328125\" xlink:href=\"#m80bc11a35e\" y=\"101.695348\"/>\n      </g>\n     </g>\n     <g id=\"text_14\">\n      <!-- 1500 -->\n      <g transform=\"translate(20.878125 105.494567)scale(0.1 -0.1)\">\n       <use xlink:href=\"#DejaVuSans-49\"/>\n       <use x=\"63.623047\" xlink:href=\"#DejaVuSans-53\"/>\n       <use x=\"127.246094\" xlink:href=\"#DejaVuSans-48\"/>\n       <use x=\"190.869141\" xlink:href=\"#DejaVuSans-48\"/>\n      </g>\n     </g>\n    </g>\n    <g id=\"ytick_5\">\n     <g id=\"line2d_14\">\n      <g>\n       <use style=\"stroke:#000000;stroke-width:0.8;\" x=\"53.328125\" xlink:href=\"#m80bc11a35e\" y=\"54.15501\"/>\n      </g>\n     </g>\n     <g id=\"text_15\">\n      <!-- 2000 -->\n      <g transform=\"translate(20.878125 57.954229)scale(0.1 -0.1)\">\n       <use xlink:href=\"#DejaVuSans-50\"/>\n       <use x=\"63.623047\" xlink:href=\"#DejaVuSans-48\"/>\n       <use x=\"127.246094\" xlink:href=\"#DejaVuSans-48\"/>\n       <use x=\"190.869141\" xlink:href=\"#DejaVuSans-48\"/>\n      </g>\n     </g>\n    </g>\n    <g id=\"text_16\">\n     <!-- $\\epsilon$ progress -->\n     <defs>\n      <path d=\"M 19.734375 29.5 \nQ 14.453125 30.671875 12.15625 33.84375 \nQ 10.453125 36.078125 10.453125 39.109375 \nQ 10.453125 47.40625 18.359375 52.25 \nQ 24.609375 56.0625 34.1875 56.0625 \nQ 37.890625 56.0625 41.9375 55.46875 \nQ 46 54.890625 50.53125 53.71875 \nL 48.96875 45.5625 \nQ 44.484375 46.96875 40.71875 47.609375 \nQ 36.859375 48.25 33.40625 48.25 \nQ 27.59375 48.25 23.78125 46 \nQ 19.1875 43.3125 19.1875 39.40625 \nQ 19.1875 36.8125 21.578125 35.015625 \nQ 24.421875 32.859375 30.078125 32.859375 \nL 37.640625 32.859375 \nL 36.234375 25.4375 \nL 29 25.4375 \nQ 22.265625 25.4375 18.3125 22.953125 \nQ 12.9375 19.578125 12.9375 14.3125 \nQ 12.9375 10.984375 15.828125 8.796875 \nQ 19.4375 6.0625 26.8125 6.0625 \nQ 31.34375 6.0625 35.6875 6.9375 \nQ 40.046875 7.859375 43.84375 9.671875 \nL 42.1875 1.3125 \nQ 37.546875 -0.046875 33.296875 -0.734375 \nQ 29.046875 -1.421875 25.140625 -1.421875 \nQ 13.53125 -1.421875 8.0625 3.03125 \nQ 3.90625 6.453125 3.90625 12.203125 \nQ 3.90625 19.96875 9.375 24.75 \nQ 13.421875 28.328125 19.734375 29.5 \nz\n\" id=\"DejaVuSans-Oblique-949\"/>\n      <path id=\"DejaVuSans-32\"/>\n      <path d=\"M 18.109375 8.203125 \nL 18.109375 -20.796875 \nL 9.078125 -20.796875 \nL 9.078125 54.6875 \nL 18.109375 54.6875 \nL 18.109375 46.390625 \nQ 20.953125 51.265625 25.265625 53.625 \nQ 29.59375 56 35.59375 56 \nQ 45.5625 56 51.78125 48.09375 \nQ 58.015625 40.1875 58.015625 27.296875 \nQ 58.015625 14.40625 51.78125 6.484375 \nQ 45.5625 -1.421875 35.59375 -1.421875 \nQ 29.59375 -1.421875 25.265625 0.953125 \nQ 20.953125 3.328125 18.109375 8.203125 \nz\nM 48.6875 27.296875 \nQ 48.6875 37.203125 44.609375 42.84375 \nQ 40.53125 48.484375 33.40625 48.484375 \nQ 26.265625 48.484375 22.1875 42.84375 \nQ 18.109375 37.203125 18.109375 27.296875 \nQ 18.109375 17.390625 22.1875 11.75 \nQ 26.265625 6.109375 33.40625 6.109375 \nQ 40.53125 6.109375 44.609375 11.75 \nQ 48.6875 17.390625 48.6875 27.296875 \nz\n\" id=\"DejaVuSans-112\"/>\n      <path d=\"M 41.109375 46.296875 \nQ 39.59375 47.171875 37.8125 47.578125 \nQ 36.03125 48 33.890625 48 \nQ 26.265625 48 22.1875 43.046875 \nQ 18.109375 38.09375 18.109375 28.8125 \nL 18.109375 0 \nL 9.078125 0 \nL 9.078125 54.6875 \nL 18.109375 54.6875 \nL 18.109375 46.1875 \nQ 20.953125 51.171875 25.484375 53.578125 \nQ 30.03125 56 36.53125 56 \nQ 37.453125 56 38.578125 55.875 \nQ 39.703125 55.765625 41.0625 55.515625 \nz\n\" id=\"DejaVuSans-114\"/>\n      <path d=\"M 30.609375 48.390625 \nQ 23.390625 48.390625 19.1875 42.75 \nQ 14.984375 37.109375 14.984375 27.296875 \nQ 14.984375 17.484375 19.15625 11.84375 \nQ 23.34375 6.203125 30.609375 6.203125 \nQ 37.796875 6.203125 41.984375 11.859375 \nQ 46.1875 17.53125 46.1875 27.296875 \nQ 46.1875 37.015625 41.984375 42.703125 \nQ 37.796875 48.390625 30.609375 48.390625 \nz\nM 30.609375 56 \nQ 42.328125 56 49.015625 48.375 \nQ 55.71875 40.765625 55.71875 27.296875 \nQ 55.71875 13.875 49.015625 6.21875 \nQ 42.328125 -1.421875 30.609375 -1.421875 \nQ 18.84375 -1.421875 12.171875 6.21875 \nQ 5.515625 13.875 5.515625 27.296875 \nQ 5.515625 40.765625 12.171875 48.375 \nQ 18.84375 56 30.609375 56 \nz\n\" id=\"DejaVuSans-111\"/>\n      <path d=\"M 45.40625 27.984375 \nQ 45.40625 37.75 41.375 43.109375 \nQ 37.359375 48.484375 30.078125 48.484375 \nQ 22.859375 48.484375 18.828125 43.109375 \nQ 14.796875 37.75 14.796875 27.984375 \nQ 14.796875 18.265625 18.828125 12.890625 \nQ 22.859375 7.515625 30.078125 7.515625 \nQ 37.359375 7.515625 41.375 12.890625 \nQ 45.40625 18.265625 45.40625 27.984375 \nz\nM 54.390625 6.78125 \nQ 54.390625 -7.171875 48.1875 -13.984375 \nQ 42 -20.796875 29.203125 -20.796875 \nQ 24.46875 -20.796875 20.265625 -20.09375 \nQ 16.0625 -19.390625 12.109375 -17.921875 \nL 12.109375 -9.1875 \nQ 16.0625 -11.328125 19.921875 -12.34375 \nQ 23.78125 -13.375 27.78125 -13.375 \nQ 36.625 -13.375 41.015625 -8.765625 \nQ 45.40625 -4.15625 45.40625 5.171875 \nL 45.40625 9.625 \nQ 42.625 4.78125 38.28125 2.390625 \nQ 33.9375 0 27.875 0 \nQ 17.828125 0 11.671875 7.65625 \nQ 5.515625 15.328125 5.515625 27.984375 \nQ 5.515625 40.671875 11.671875 48.328125 \nQ 17.828125 56 27.875 56 \nQ 33.9375 56 38.28125 53.609375 \nQ 42.625 51.21875 45.40625 46.390625 \nL 45.40625 54.6875 \nL 54.390625 54.6875 \nz\n\" id=\"DejaVuSans-103\"/>\n      <path d=\"M 44.28125 53.078125 \nL 44.28125 44.578125 \nQ 40.484375 46.53125 36.375 47.5 \nQ 32.28125 48.484375 27.875 48.484375 \nQ 21.1875 48.484375 17.84375 46.4375 \nQ 14.5 44.390625 14.5 40.28125 \nQ 14.5 37.15625 16.890625 35.375 \nQ 19.28125 33.59375 26.515625 31.984375 \nL 29.59375 31.296875 \nQ 39.15625 29.25 43.1875 25.515625 \nQ 47.21875 21.78125 47.21875 15.09375 \nQ 47.21875 7.46875 41.1875 3.015625 \nQ 35.15625 -1.421875 24.609375 -1.421875 \nQ 20.21875 -1.421875 15.453125 -0.5625 \nQ 10.6875 0.296875 5.421875 2 \nL 5.421875 11.28125 \nQ 10.40625 8.6875 15.234375 7.390625 \nQ 20.0625 6.109375 24.8125 6.109375 \nQ 31.15625 6.109375 34.5625 8.28125 \nQ 37.984375 10.453125 37.984375 14.40625 \nQ 37.984375 18.0625 35.515625 20.015625 \nQ 33.0625 21.96875 24.703125 23.78125 \nL 21.578125 24.515625 \nQ 13.234375 26.265625 9.515625 29.90625 \nQ 5.8125 33.546875 5.8125 39.890625 \nQ 5.8125 47.609375 11.28125 51.796875 \nQ 16.75 56 26.8125 56 \nQ 31.78125 56 36.171875 55.265625 \nQ 40.578125 54.546875 44.28125 53.078125 \nz\n\" id=\"DejaVuSans-115\"/>\n     </defs>\n     <g transform=\"translate(14.778125 171.58)rotate(-90)scale(0.1 -0.1)\">\n      <use transform=\"translate(0 0.9375)\" xlink:href=\"#DejaVuSans-Oblique-949\"/>\n      <use transform=\"translate(54.052734 0.9375)\" xlink:href=\"#DejaVuSans-32\"/>\n      <use transform=\"translate(85.839844 0.9375)\" xlink:href=\"#DejaVuSans-112\"/>\n      <use transform=\"translate(149.316406 0.9375)\" xlink:href=\"#DejaVuSans-114\"/>\n      <use transform=\"translate(190.429688 0.9375)\" xlink:href=\"#DejaVuSans-111\"/>\n      <use transform=\"translate(251.611328 0.9375)\" xlink:href=\"#DejaVuSans-103\"/>\n      <use transform=\"translate(315.087891 0.9375)\" xlink:href=\"#DejaVuSans-114\"/>\n      <use transform=\"translate(356.201172 0.9375)\" xlink:href=\"#DejaVuSans-101\"/>\n      <use transform=\"translate(417.724609 0.9375)\" xlink:href=\"#DejaVuSans-115\"/>\n      <use transform=\"translate(469.824219 0.9375)\" xlink:href=\"#DejaVuSans-115\"/>\n     </g>\n    </g>\n   </g>\n   <g id=\"line2d_15\">\n    <path clip-path=\"url(#pe5cd4418d2)\" d=\"M 68.546307 244.316364 \nL 70.099975 239.277088 \nL 87.112644 207.425061 \nL 104.156386 188.218764 \nL 121.200128 171.104242 \nL 138.259407 154.560205 \nL 155.303149 142.199717 \nL 172.377965 128.983503 \nL 189.31295 114.62632 \nL 206.310082 101.98059 \nL 223.322751 87.052924 \nL 260.859379 85.816875 \nL 310.918575 69.938402 \nL 360.962233 46.643636 \n\" style=\"fill:none;stroke:#1f77b4;stroke-linecap:square;stroke-width:1.5;\"/>\n   </g>\n   <g id=\"line2d_16\">\n    <path clip-path=\"url(#pe5cd4418d2)\" d=\"M 68.546307 244.316364 \nL 70.099975 240.322975 \nL 87.097107 208.470948 \nL 104.140849 181.182794 \nL 121.153518 163.497788 \nL 138.228334 150.566816 \nL 155.225466 139.062054 \nL 172.175988 126.796647 \nL 189.188657 115.386966 \nL 206.154716 104.072365 \nL 223.105238 95.800346 \nL 246.75207 95.800346 \nL 278.291539 90.380748 \nL 309.831007 84.580826 \nL 341.370475 73.361307 \nL 372.909943 59.574608 \n\" style=\"fill:none;stroke:#ff7f0e;stroke-linecap:square;stroke-width:1.5;\"/>\n   </g>\n   <g id=\"line2d_17\">\n    <path clip-path=\"url(#pe5cd4418d2)\" d=\"M 68.546307 244.316364 \nL 70.099975 240.703298 \nL 87.112644 212.84466 \nL 104.171923 183.084408 \nL 121.153518 162.35682 \nL 138.228334 147.999638 \nL 153.765018 136.875199 \nL 170.777686 121.757371 \nL 187.790355 112.249303 \nL 204.818561 105.213333 \nL 221.738009 99.318331 \nL 244.545861 98.842928 \nL 272.853699 93.898733 \nL 301.192611 87.90865 \nL 329.531522 79.066147 \nL 357.870433 62.712271 \n\" style=\"fill:none;stroke:#2ca02c;stroke-linecap:square;stroke-width:1.5;\"/>\n   </g>\n   <g id=\"patch_3\">\n    <path d=\"M 53.328125 254.2 \nL 53.328125 36.76 \n\" style=\"fill:none;stroke:#000000;stroke-linecap:square;stroke-linejoin:miter;stroke-width:0.8;\"/>\n   </g>\n   <g id=\"patch_4\">\n    <path d=\"M 388.128125 254.2 \nL 388.128125 36.76 \n\" style=\"fill:none;stroke:#000000;stroke-linecap:square;stroke-linejoin:miter;stroke-width:0.8;\"/>\n   </g>\n   <g id=\"patch_5\">\n    <path d=\"M 53.328125 254.2 \nL 388.128125 254.2 \n\" style=\"fill:none;stroke:#000000;stroke-linecap:square;stroke-linejoin:miter;stroke-width:0.8;\"/>\n   </g>\n   <g id=\"patch_6\">\n    <path d=\"M 53.328125 36.76 \nL 388.128125 36.76 \n\" style=\"fill:none;stroke:#000000;stroke-linecap:square;stroke-linejoin:miter;stroke-width:0.8;\"/>\n   </g>\n  </g>\n  <g id=\"legend_1\">\n   <g id=\"patch_7\">\n    <path d=\"M 342.653125 52.034375 \nL 426.528125 52.034375 \nQ 428.528125 52.034375 428.528125 50.034375 \nL 428.528125 7 \nQ 428.528125 5 426.528125 5 \nL 342.653125 5 \nQ 340.653125 5 340.653125 7 \nL 340.653125 50.034375 \nQ 340.653125 52.034375 342.653125 52.034375 \nz\n\" style=\"fill:#ffffff;opacity:0.8;stroke:#cccccc;stroke-linejoin:miter;\"/>\n   </g>\n   <g id=\"line2d_18\">\n    <path d=\"M 344.653125 13.098437 \nL 364.653125 13.098437 \n\" style=\"fill:none;stroke:#1f77b4;stroke-linecap:square;stroke-width:1.5;\"/>\n   </g>\n   <g id=\"line2d_19\"/>\n   <g id=\"text_17\">\n    <!-- scenario 0 -->\n    <defs>\n     <path d=\"M 48.78125 52.59375 \nL 48.78125 44.1875 \nQ 44.96875 46.296875 41.140625 47.34375 \nQ 37.3125 48.390625 33.40625 48.390625 \nQ 24.65625 48.390625 19.8125 42.84375 \nQ 14.984375 37.3125 14.984375 27.296875 \nQ 14.984375 17.28125 19.8125 11.734375 \nQ 24.65625 6.203125 33.40625 6.203125 \nQ 37.3125 6.203125 41.140625 7.25 \nQ 44.96875 8.296875 48.78125 10.40625 \nL 48.78125 2.09375 \nQ 45.015625 0.34375 40.984375 -0.53125 \nQ 36.96875 -1.421875 32.421875 -1.421875 \nQ 20.0625 -1.421875 12.78125 6.34375 \nQ 5.515625 14.109375 5.515625 27.296875 \nQ 5.515625 40.671875 12.859375 48.328125 \nQ 20.21875 56 33.015625 56 \nQ 37.15625 56 41.109375 55.140625 \nQ 45.0625 54.296875 48.78125 52.59375 \nz\n\" id=\"DejaVuSans-99\"/>\n     <path d=\"M 34.28125 27.484375 \nQ 23.390625 27.484375 19.1875 25 \nQ 14.984375 22.515625 14.984375 16.5 \nQ 14.984375 11.71875 18.140625 8.90625 \nQ 21.296875 6.109375 26.703125 6.109375 \nQ 34.1875 6.109375 38.703125 11.40625 \nQ 43.21875 16.703125 43.21875 25.484375 \nL 43.21875 27.484375 \nz\nM 52.203125 31.203125 \nL 52.203125 0 \nL 43.21875 0 \nL 43.21875 8.296875 \nQ 40.140625 3.328125 35.546875 0.953125 \nQ 30.953125 -1.421875 24.3125 -1.421875 \nQ 15.921875 -1.421875 10.953125 3.296875 \nQ 6 8.015625 6 15.921875 \nQ 6 25.140625 12.171875 29.828125 \nQ 18.359375 34.515625 30.609375 34.515625 \nL 43.21875 34.515625 \nL 43.21875 35.40625 \nQ 43.21875 41.609375 39.140625 45 \nQ 35.0625 48.390625 27.6875 48.390625 \nQ 23 48.390625 18.546875 47.265625 \nQ 14.109375 46.140625 10.015625 43.890625 \nL 10.015625 52.203125 \nQ 14.9375 54.109375 19.578125 55.046875 \nQ 24.21875 56 28.609375 56 \nQ 40.484375 56 46.34375 49.84375 \nQ 52.203125 43.703125 52.203125 31.203125 \nz\n\" id=\"DejaVuSans-97\"/>\n     <path d=\"M 9.421875 54.6875 \nL 18.40625 54.6875 \nL 18.40625 0 \nL 9.421875 0 \nz\nM 9.421875 75.984375 \nL 18.40625 75.984375 \nL 18.40625 64.59375 \nL 9.421875 64.59375 \nz\n\" id=\"DejaVuSans-105\"/>\n    </defs>\n    <g transform=\"translate(372.653125 16.598437)scale(0.1 -0.1)\">\n     <use xlink:href=\"#DejaVuSans-115\"/>\n     <use x=\"52.099609\" xlink:href=\"#DejaVuSans-99\"/>\n     <use x=\"107.080078\" xlink:href=\"#DejaVuSans-101\"/>\n     <use x=\"168.603516\" xlink:href=\"#DejaVuSans-110\"/>\n     <use x=\"231.982422\" xlink:href=\"#DejaVuSans-97\"/>\n     <use x=\"293.261719\" xlink:href=\"#DejaVuSans-114\"/>\n     <use x=\"334.375\" xlink:href=\"#DejaVuSans-105\"/>\n     <use x=\"362.158203\" xlink:href=\"#DejaVuSans-111\"/>\n     <use x=\"423.339844\" xlink:href=\"#DejaVuSans-32\"/>\n     <use x=\"455.126953\" xlink:href=\"#DejaVuSans-48\"/>\n    </g>\n   </g>\n   <g id=\"line2d_20\">\n    <path d=\"M 344.653125 27.776563 \nL 364.653125 27.776563 \n\" style=\"fill:none;stroke:#ff7f0e;stroke-linecap:square;stroke-width:1.5;\"/>\n   </g>\n   <g id=\"line2d_21\"/>\n   <g id=\"text_18\">\n    <!-- scenario 1 -->\n    <g transform=\"translate(372.653125 31.276563)scale(0.1 -0.1)\">\n     <use xlink:href=\"#DejaVuSans-115\"/>\n     <use x=\"52.099609\" xlink:href=\"#DejaVuSans-99\"/>\n     <use x=\"107.080078\" xlink:href=\"#DejaVuSans-101\"/>\n     <use x=\"168.603516\" xlink:href=\"#DejaVuSans-110\"/>\n     <use x=\"231.982422\" xlink:href=\"#DejaVuSans-97\"/>\n     <use x=\"293.261719\" xlink:href=\"#DejaVuSans-114\"/>\n     <use x=\"334.375\" xlink:href=\"#DejaVuSans-105\"/>\n     <use x=\"362.158203\" xlink:href=\"#DejaVuSans-111\"/>\n     <use x=\"423.339844\" xlink:href=\"#DejaVuSans-32\"/>\n     <use x=\"455.126953\" xlink:href=\"#DejaVuSans-49\"/>\n    </g>\n   </g>\n   <g id=\"line2d_22\">\n    <path d=\"M 344.653125 42.454687 \nL 364.653125 42.454687 \n\" style=\"fill:none;stroke:#2ca02c;stroke-linecap:square;stroke-width:1.5;\"/>\n   </g>\n   <g id=\"line2d_23\"/>\n   <g id=\"text_19\">\n    <!-- scenario 2 -->\n    <g transform=\"translate(372.653125 45.954687)scale(0.1 -0.1)\">\n     <use xlink:href=\"#DejaVuSans-115\"/>\n     <use x=\"52.099609\" xlink:href=\"#DejaVuSans-99\"/>\n     <use x=\"107.080078\" xlink:href=\"#DejaVuSans-101\"/>\n     <use x=\"168.603516\" xlink:href=\"#DejaVuSans-110\"/>\n     <use x=\"231.982422\" xlink:href=\"#DejaVuSans-97\"/>\n     <use x=\"293.261719\" xlink:href=\"#DejaVuSans-114\"/>\n     <use x=\"334.375\" xlink:href=\"#DejaVuSans-105\"/>\n     <use x=\"362.158203\" xlink:href=\"#DejaVuSans-111\"/>\n     <use x=\"423.339844\" xlink:href=\"#DejaVuSans-32\"/>\n     <use x=\"455.126953\" xlink:href=\"#DejaVuSans-50\"/>\n    </g>\n   </g>\n  </g>\n </g>\n <defs>\n  <clipPath id=\"pe5cd4418d2\">\n   <rect height=\"217.44\" width=\"334.8\" x=\"53.328125\" y=\"36.76\"/>\n  </clipPath>\n </defs>\n</svg>\n",
      "image/png": "[encoded data removed]"
     },
     "metadata": {
      "needs_background": "light"
     }
    }
   ],
   "source": [
    "fig, (ax2) = plt.subplots(ncols=1)\n",
    "for i, (_, convergence) in enumerate(results):\n",
    "    ax2.plot(convergence[\"nfe\"], convergence[\"epsilon_progress\"], label=f'scenario {i}')\n",
    "\n",
    "ax2.set_ylabel('$\\epsilon$ progress')\n",
    "ax2.set_xlabel('nfe')\n",
    "fig.legend()\n",
    "plt.show()"
   ]
  },
  {
   "cell_type": "markdown",
   "metadata": {},
   "source": [
    "As we can see, the algorithm shows a similar convergence behavior across all three reference case scenarios. It does however not fully converge, which - in further research - should be improved upon. "
   ]
  },
  {
   "cell_type": "markdown",
   "metadata": {},
   "source": [
    "## Selection of promising policies\n",
    "We now again continue to select promising policies, first by plotting the trade-offs involved and then by subsetting the policies based on thresholds. "
   ]
  },
  {
   "cell_type": "code",
   "execution_count": 133,
   "metadata": {},
   "outputs": [],
   "source": [
    "#Make a dataframe out of all results\n",
    "ms_results_df = pd.concat([results[0][0],results[1][0], results[2][0]], axis=0)\n",
    "ms_results_df = ms_results_df.reset_index(drop=True)"
   ]
  },
  {
   "cell_type": "code",
   "execution_count": 135,
   "metadata": {},
   "outputs": [],
   "source": [
    "#fig4 = px.parallel_coordinates(ms_results_df, labels= {\"A1_2 Aggr Expected Annual Damage\" : \"A1 & 2 Damage\", \"A3 Expected Annual Damage\" : \"A3 Damage\", \"A1_2 Aggr Expected Number of Deaths\" : \"A1 & 2 Casualties\", \"A3 Aggr Expected Number of Deaths\" : \"A3 Casualties\", \"A1_5 Dike Investment Costs\" : \"Investment Costs\", \"Room for River Investment Costs\" : \"RfR Investment Costs\"}, color = ms_results_df.index, dimensions= [\"A1_2 Aggr Expected Annual Damage\", \"A3 Expected Annual Damage\", \"A1_2 Aggr Expected Number of Deaths\",\"A3 Aggr Expected Number of Deaths\", \"A1_5 Dike Investment Costs\", \"Room for River Investment Costs\"])\n",
    "#fig4.show()"
   ]
  },
  {
   "cell_type": "markdown",
   "metadata": {},
   "source": [
    "We can observe similar trade-offs as before, however, the newly found policies overall show a much better performance when it comes to casualties and damages. \n",
    "\n",
    "![Tradeoffs](../figures/Gelderland_Tradeoffs_3ReferenceScenario.png)\n"
   ]
  },
  {
   "cell_type": "markdown",
   "metadata": {},
   "source": [
    "## Selection of promising policies\n",
    "We select from the solutions found only these which lead to no expected deaths, no expected damage and no evacuation costs. From these selection onwards, due to comparability with the other notebooks and computational resources, we select the 10 policies with lowest total costs (Dike investment costs and Room for River costs combined)"
   ]
  },
  {
   "cell_type": "code",
   "execution_count": 8,
   "metadata": {},
   "outputs": [],
   "source": [
    "ms_results_subset = ms_results_df[\n",
    "    ((ms_results_df[\"A1_2 Aggr Expected Number of Deaths\"] + ms_results_df[\"A3 Aggr Expected Number of Deaths\"]) == 0) &\n",
    "    ((ms_results_df[\"A1_2 Aggr Expected Annual Damage\"] + ms_results_df[\"A3 Expected Annual Damage\"]) == 0) &\n",
    "    ((ms_results_df[\"Evacuation Costs\"] + ms_results_df[\"Evacuation Costs\"]) == 0) ]\n",
    "\n",
    "ms_results_subset[\"Total Costs\"] = ms_results_subset[\"A1_5 Dike Investment Costs\"] + ms_results_subset[\"Room for River Investment Costs\"] \n"
   ]
  },
  {
   "cell_type": "code",
   "execution_count": 10,
   "metadata": {},
   "outputs": [],
   "source": [
    "#Select only the 10 cheapest policies in terms of total costs. \n",
    "ms_results_subset = ms_results_subset.sort_values(\"Total Costs\").head(10)\n",
    "ms_policies = ms_results_subset.iloc[:,0:31]\n",
    "ms_policies_to_evaluate = []\n",
    "\n",
    "for i, policy in ms_policies.iterrows():\n",
    "    ms_policies_to_evaluate.append(Policy(str(i), **policy.to_dict()))"
   ]
  },
  {
   "cell_type": "markdown",
   "metadata": {},
   "source": [
    "## Re-evaluation under deep uncertainty\n",
    "We now re-evalute the 10 policies seleted under deep uncertainty by running 1000 scenarios sampled by latin hypercube for each policy. We then determine the robustness of each policy to come to a feasible policy advice."
   ]
  },
  {
   "cell_type": "code",
   "execution_count": 11,
   "metadata": {
    "tags": []
   },
   "outputs": [
    {
     "output_type": "stream",
     "name": "stderr",
     "text": "[MainProcess/INFO] pool started\n[MainProcess/INFO] performing 1000 scenarios * 10 policies * 1 model(s) = 10000 experiments\n[MainProcess/INFO] 1000 cases completed\n[MainProcess/INFO] 2000 cases completed\n[MainProcess/INFO] 3000 cases completed\n[MainProcess/INFO] 4000 cases completed\n[MainProcess/INFO] 5000 cases completed\n[MainProcess/INFO] 6000 cases completed\n[MainProcess/INFO] 7000 cases completed\n[MainProcess/INFO] 8000 cases completed\n[MainProcess/INFO] 9000 cases completed\n[MainProcess/INFO] 10000 cases completed\n[MainProcess/INFO] experiments finished\n[MainProcess/INFO] terminating pool\n"
    },
    {
     "output_type": "error",
     "ename": "TypeError",
     "evalue": "can only concatenate str (not \"int\") to str",
     "traceback": [
      "\u001b[0;31m---------------------------------------------------------------------------\u001b[0m",
      "\u001b[0;31mTypeError\u001b[0m                                 Traceback (most recent call last)",
      "\u001b[0;32m<ipython-input-11-b47407a5dc52>\u001b[0m in \u001b[0;36m<module>\u001b[0;34m\u001b[0m\n\u001b[1;32m      5\u001b[0m \u001b[0;34m\u001b[0m\u001b[0m\n\u001b[1;32m      6\u001b[0m \u001b[0;31m#Save results\u001b[0m\u001b[0;34m\u001b[0m\u001b[0;34m\u001b[0m\u001b[0;34m\u001b[0m\u001b[0m\n\u001b[0;32m----> 7\u001b[0;31m \u001b[0msave_results\u001b[0m\u001b[0;34m(\u001b[0m\u001b[0mresults\u001b[0m\u001b[0;34m,\u001b[0m \u001b[0;34m\"../results/Multi_Scenario_DeepUncertainty\"\u001b[0m\u001b[0;34m+\u001b[0m\u001b[0mlen\u001b[0m\u001b[0;34m(\u001b[0m\u001b[0mms_policies_to_evaluate\u001b[0m\u001b[0;34m)\u001b[0m\u001b[0;34m+\u001b[0m\u001b[0;34m\"policies_\"\u001b[0m\u001b[0;34m+\u001b[0m\u001b[0mstr\u001b[0m\u001b[0;34m(\u001b[0m\u001b[0mn_scenarios\u001b[0m\u001b[0;34m)\u001b[0m\u001b[0;34m+\u001b[0m\u001b[0;34m\"scenarios_\"\u001b[0m\u001b[0;34m+\u001b[0m\u001b[0mprovince\u001b[0m\u001b[0;34m+\u001b[0m\u001b[0;34m\".tar.gz\"\u001b[0m\u001b[0;34m)\u001b[0m\u001b[0;34m\u001b[0m\u001b[0;34m\u001b[0m\u001b[0m\n\u001b[0m",
      "\u001b[0;31mTypeError\u001b[0m: can only concatenate str (not \"int\") to str"
     ]
    }
   ],
   "source": [
    "ema_logging.log_to_stderr(ema_logging.INFO)\n",
    "\n",
    "with MultiprocessingEvaluator(dike_model) as evaluator:\n",
    "    results = evaluator.perform_experiments(n_scenarios, ms_policies_to_evaluate)\n",
    "\n",
    "#Save results\n",
    "save_results(results, \"../results/Multi_Scenario_DeepUncertainty\"+str(len(ms_policies_to_evaluate))+\"policies_\"+str(n_scenarios)+\"scenarios_\"+province+\".tar.gz\")"
   ]
  },
  {
   "cell_type": "code",
   "execution_count": 12,
   "metadata": {
    "tags": []
   },
   "outputs": [
    {
     "output_type": "stream",
     "name": "stderr",
     "text": "[MainProcess/INFO] results saved successfully to /Users/ricoherzog/OneDrive/Uni/2019-2020 WiSe Den Haag/Q4/EPA1361 Model Based Decision Making/05_Project/model-based-decision-making/results/Multi_Scenario_DeepUncertainty10policies_1000scenarios_Gelderland.tar.gz\n"
    }
   ],
   "source": [
    "save_results(results, \"../results/Multi_Scenario_DeepUncertainty\"+str(len(ms_policies_to_evaluate))+\"policies_\"+str(n_scenarios)+\"scenarios_\"+province+\".tar.gz\")"
   ]
  },
  {
   "cell_type": "code",
   "execution_count": 136,
   "metadata": {
    "tags": []
   },
   "outputs": [
    {
     "output_type": "stream",
     "name": "stderr",
     "text": "[MainProcess/INFO] results loaded succesfully from /Users/ricoherzog/OneDrive/Uni/2019-2020 WiSe Den Haag/Q4/EPA1361 Model Based Decision Making/05_Project/model-based-decision-making/results/Multi_Scenario_DeepUncertainty10policies_1000scenarios_Gelderland.tar.gz\n"
    }
   ],
   "source": [
    "#Load results\n",
    "reevaluation_results = load_results(\"../results/Multi_Scenario_DeepUncertainty10policies_1000scenarios_Gelderland.tar.gz\")"
   ]
  },
  {
   "cell_type": "code",
   "execution_count": 138,
   "metadata": {},
   "outputs": [],
   "source": [
    "#Show results\n",
    "experiments, outcomes = reevaluation_results\n",
    "reevaluation_df = pd.concat([pd.DataFrame(experiments), pd.DataFrame(outcomes)], axis = 1)\n",
    "#fig5 = px.parallel_coordinates(reevaluation_df.groupby(\"policy\").mean().iloc[:,11:42], color = range(10), width=2500, height=400)\n",
    "#fig5.show()"
   ]
  },
  {
   "cell_type": "markdown",
   "metadata": {},
   "source": [
    "We can see in the parallell coordinated plot, that the 10 policies selected show quite some variation. This means that the province of Gelderland has multiple options to effectively protect their citizens. \n",
    "\n",
    "![](../figures/Gelderland_all_Policies.png )\n",
    "\n",
    "As this display of policies is rather messy, we display the 10 promising polices aggregated on timesteps."
   ]
  },
  {
   "cell_type": "code",
   "execution_count": 84,
   "metadata": {},
   "outputs": [],
   "source": [
    "robust_policies_agg = pd.DataFrame(columns=[\"RfR 0\", \"RfR 1\", \"RfR 2\", \"RfR 3\", \"RfR 4\", \"EWS\", \"A1 Increase\", \"A2 Increase\", \"A3 Increase\", \"A4 Increase\", \"A5 Increase\"])\n",
    "robust_policies_agg[\"RfR 0\"] = robust_policies[\"0_RfR 0\"] + robust_policies[\"0_RfR 1\"] + robust_policies[\"0_RfR 2\"]\n",
    "robust_policies_agg[\"RfR 1\"] = robust_policies[\"1_RfR 0\"] + robust_policies[\"1_RfR 1\"] + robust_policies[\"1_RfR 2\"]\n",
    "robust_policies_agg[\"RfR 2\"] = robust_policies[\"2_RfR 0\"] + robust_policies[\"2_RfR 1\"] + robust_policies[\"2_RfR 2\"]\n",
    "robust_policies_agg[\"RfR 3\"] = robust_policies[\"3_RfR 0\"] + robust_policies[\"3_RfR 1\"] + robust_policies[\"3_RfR 2\"]\n",
    "robust_policies_agg[\"RfR 4\"] = robust_policies[\"4_RfR 0\"] + robust_policies[\"4_RfR 1\"] + robust_policies[\"4_RfR 2\"]\n",
    "robust_policies_agg[\"EWS\"] = robust_policies[\"EWS_DaysToThreat\"]\n",
    "robust_policies_agg[\"A1 Increase\"] = robust_policies[\"A.1_DikeIncrease 0\"] + robust_policies[\"A.1_DikeIncrease 1\"] + robust_policies[\"A.1_DikeIncrease 2\"]\n",
    "robust_policies_agg[\"A2 Increase\"] = robust_policies[\"A.2_DikeIncrease 0\"] + robust_policies[\"A.2_DikeIncrease 1\"] + robust_policies[\"A.2_DikeIncrease 2\"]\n",
    "robust_policies_agg[\"A3 Increase\"] = robust_policies[\"A.3_DikeIncrease 0\"] + robust_policies[\"A.3_DikeIncrease 1\"] + robust_policies[\"A.3_DikeIncrease 2\"]\n",
    "robust_policies_agg[\"A4 Increase\"] = robust_policies[\"A.4_DikeIncrease 0\"] + robust_policies[\"A.4_DikeIncrease 1\"] + robust_policies[\"A.4_DikeIncrease 2\"]\n",
    "robust_policies_agg[\"A5 Increase\"] = robust_policies[\"A.5_DikeIncrease 0\"] + robust_policies[\"A.5_DikeIncrease 1\"] + robust_policies[\"A.5_DikeIncrease 2\"]\n"
   ]
  },
  {
   "cell_type": "code",
   "execution_count": 140,
   "metadata": {},
   "outputs": [],
   "source": [
    "#fig6 = px.parallel_coordinates(robust_policies_agg, color = range(10), width=1500, height=400, dimensions=[\"RfR 0\", \"RfR 1\", \"RfR 2\", \"RfR 3\", \"RfR 4\", \"A1 Increase\", \"A2 Increase\", \"A3 Increase\", \"A4 Increase\", \"A5 Increase\"])\n",
    "#fig6.show()"
   ]
  },
  {
   "cell_type": "markdown",
   "metadata": {
    "tags": []
   },
   "source": [
    "![](../figures/Gelderland_PromisingPolicies.png )"
   ]
  },
  {
   "cell_type": "markdown",
   "metadata": {},
   "source": [
    "## Robustness Assessment\n",
    "### Domain criterion\n",
    "For the last robustness assessment, we chose the domain criterion to assess the percentage of scenarios which fail to meet a certain outcome.  "
   ]
  },
  {
   "cell_type": "code",
   "execution_count": 142,
   "metadata": {},
   "outputs": [],
   "source": [
    "domain_criterion = pd.DataFrame(columns=[\"policy\", \"A1_2 Damage\", \"A3 Damage\", \"A1_2 Deaths\", \"A3 Deaths\", \"Evacuation Costs\"])\n",
    "\n",
    "for policy in reevaluation_df[\"policy\"].unique():\n",
    "    policy_subset = reevaluation_df[reevaluation_df[\"policy\"] == policy]\n",
    "\n",
    "    a12_damage_dc = len(policy_subset[\"A1_2 Aggr Expected Annual Damage\"][policy_subset[\"A1_2 Aggr Expected Annual Damage\"] > 0])/1000\n",
    "    a3_damage_dc = len(policy_subset[\"A3 Expected Annual Damage\"][policy_subset[\"A3 Expected Annual Damage\"] > 0])/1000\n",
    "    a12_deaths_dc = len(policy_subset[\"A1_2 Aggr Expected Number of Deaths\"][policy_subset[\"A1_2 Aggr Expected Number of Deaths\"] > 0])/1000\n",
    "    a3_deaths_dc = len(policy_subset[\"A3 Aggr Expected Number of Deaths\"][policy_subset[\"A3 Aggr Expected Number of Deaths\"] > 0])/1000\n",
    "    evac_costs = len(policy_subset[\"Evacuation Costs\"][policy_subset[\"Evacuation Costs\"] > 0])/1000\n",
    "\n",
    "    domain_criterion = domain_criterion.append(pd.DataFrame({\"policy\": [policy],\"A1_2 Damage\": [a12_damage_dc], \"A3 Damage\" : [a3_damage_dc], \"A1_2 Deaths\" : [a12_deaths_dc], \"A3 Deaths\" : [a3_deaths_dc], \"Evacuation Costs\" : [evac_costs]}) )\n",
    "\n",
    "domain_criterion = domain_criterion.reset_index(drop=True)"
   ]
  },
  {
   "cell_type": "code",
   "execution_count": 143,
   "metadata": {},
   "outputs": [],
   "source": [
    "policy_costs = reevaluation_df.groupby(\"policy\").mean()\n",
    "policy_costs[\"Total Costs\"] = policy_costs[\"A1_5 Dike Investment Costs\"] +  policy_costs[\"Room for River Investment Costs\"]\n",
    "domain_criterion_costs = pd.merge(domain_criterion, policy_costs[[\"Total Costs\"]], how=\"left\", on=\"policy\")\n"
   ]
  },
  {
   "cell_type": "code",
   "execution_count": 144,
   "metadata": {},
   "outputs": [
    {
     "output_type": "execute_result",
     "data": {
      "text/plain": "  policy  A1_2 Damage  A3 Damage  A1_2 Deaths  A3 Deaths  Evacuation Costs  \\\n0   1289        0.468      0.050        0.468      0.050               0.0   \n1   1458        0.468      0.050        0.468      0.050               0.0   \n2   1752        0.309      0.012        0.309      0.012               0.0   \n3   1902        0.384      0.023        0.384      0.023               0.0   \n4   1144        0.050      0.027        0.050      0.027               0.0   \n5   1173        0.285      0.005        0.285      0.005               0.0   \n6   1875        0.349      0.036        0.349      0.036               0.0   \n7    980        0.069      0.065        0.069      0.065               0.0   \n8   1520        0.069      0.065        0.069      0.065               0.0   \n9   1477        0.309      0.060        0.309      0.060               0.0   \n\n    Total Costs  \n0  1.342035e+09  \n1  1.457728e+09  \n2  1.488352e+09  \n3  1.535650e+09  \n4  1.687657e+09  \n5  1.781657e+09  \n6  1.796451e+09  \n7  1.908047e+09  \n8  2.082841e+09  \n9  2.103008e+09  ",
      "text/html": "<div>\n<style scoped>\n    .dataframe tbody tr th:only-of-type {\n        vertical-align: middle;\n    }\n\n    .dataframe tbody tr th {\n        vertical-align: top;\n    }\n\n    .dataframe thead th {\n        text-align: right;\n    }\n</style>\n<table border=\"1\" class=\"dataframe\">\n  <thead>\n    <tr style=\"text-align: right;\">\n      <th></th>\n      <th>policy</th>\n      <th>A1_2 Damage</th>\n      <th>A3 Damage</th>\n      <th>A1_2 Deaths</th>\n      <th>A3 Deaths</th>\n      <th>Evacuation Costs</th>\n      <th>Total Costs</th>\n    </tr>\n  </thead>\n  <tbody>\n    <tr>\n      <th>0</th>\n      <td>1289</td>\n      <td>0.468</td>\n      <td>0.050</td>\n      <td>0.468</td>\n      <td>0.050</td>\n      <td>0.0</td>\n      <td>1.342035e+09</td>\n    </tr>\n    <tr>\n      <th>1</th>\n      <td>1458</td>\n      <td>0.468</td>\n      <td>0.050</td>\n      <td>0.468</td>\n      <td>0.050</td>\n      <td>0.0</td>\n      <td>1.457728e+09</td>\n    </tr>\n    <tr>\n      <th>2</th>\n      <td>1752</td>\n      <td>0.309</td>\n      <td>0.012</td>\n      <td>0.309</td>\n      <td>0.012</td>\n      <td>0.0</td>\n      <td>1.488352e+09</td>\n    </tr>\n    <tr>\n      <th>3</th>\n      <td>1902</td>\n      <td>0.384</td>\n      <td>0.023</td>\n      <td>0.384</td>\n      <td>0.023</td>\n      <td>0.0</td>\n      <td>1.535650e+09</td>\n    </tr>\n    <tr>\n      <th>4</th>\n      <td>1144</td>\n      <td>0.050</td>\n      <td>0.027</td>\n      <td>0.050</td>\n      <td>0.027</td>\n      <td>0.0</td>\n      <td>1.687657e+09</td>\n    </tr>\n    <tr>\n      <th>5</th>\n      <td>1173</td>\n      <td>0.285</td>\n      <td>0.005</td>\n      <td>0.285</td>\n      <td>0.005</td>\n      <td>0.0</td>\n      <td>1.781657e+09</td>\n    </tr>\n    <tr>\n      <th>6</th>\n      <td>1875</td>\n      <td>0.349</td>\n      <td>0.036</td>\n      <td>0.349</td>\n      <td>0.036</td>\n      <td>0.0</td>\n      <td>1.796451e+09</td>\n    </tr>\n    <tr>\n      <th>7</th>\n      <td>980</td>\n      <td>0.069</td>\n      <td>0.065</td>\n      <td>0.069</td>\n      <td>0.065</td>\n      <td>0.0</td>\n      <td>1.908047e+09</td>\n    </tr>\n    <tr>\n      <th>8</th>\n      <td>1520</td>\n      <td>0.069</td>\n      <td>0.065</td>\n      <td>0.069</td>\n      <td>0.065</td>\n      <td>0.0</td>\n      <td>2.082841e+09</td>\n    </tr>\n    <tr>\n      <th>9</th>\n      <td>1477</td>\n      <td>0.309</td>\n      <td>0.060</td>\n      <td>0.309</td>\n      <td>0.060</td>\n      <td>0.0</td>\n      <td>2.103008e+09</td>\n    </tr>\n  </tbody>\n</table>\n</div>"
     },
     "metadata": {},
     "execution_count": 144
    }
   ],
   "source": [
    "domain_criterion_costs"
   ]
  },
  {
   "cell_type": "markdown",
   "metadata": {},
   "source": [
    "As we can see, all policies have no evacuation costs in all the deep uncertainty runs. This is why we focus on the trade-offs in damages and deaths. The domain criterion being a dimensionless metric, we also add the total costs (Room for River costs plus Dike investment costs) in the parallel coordinated plot to show the \"price of robustness\". It is important to keep in mind that unlinke the domain criterion metrics, the total cost unit is monetary. "
   ]
  },
  {
   "cell_type": "code",
   "execution_count": 147,
   "metadata": {},
   "outputs": [],
   "source": [
    "#fig7 = px.parallel_coordinates(domain_criterion_costs, color = \"policy\", dimensions=[\"A1_2 Damage\", \"A3 Damage\", \"A1_2 Deaths\", \"A3 Deaths\", \"Total Costs\"])\n",
    "#fig7.show()"
   ]
  },
  {
   "cell_type": "markdown",
   "metadata": {},
   "source": [
    "![](../figures/Gelderland_RobustPolicies.png)"
   ]
  },
  {
   "cell_type": "markdown",
   "metadata": {},
   "source": [
    "As the results show, policies 980, 1144 and 1520 shows very promising results in terms of robustness. When it comes to cost, it can be seen that robustness comes along with a higher cost. It is also worth to point out that policy 980 outperforms policy 1520 having the same robustness results, but a lower cost.  "
   ]
  },
  {
   "cell_type": "markdown",
   "metadata": {},
   "source": [
    "## Scenario Discovery: PRIM\n",
    "At the last stage of Multi-Scenario MORDM, we will conduct another scenario dicovery using the PRIM algorithm to specifically show under which scenarios these policies fail. We consider a policy failed when either deaths or damage occurs. "
   ]
  },
  {
   "cell_type": "code",
   "execution_count": 75,
   "metadata": {},
   "outputs": [
    {
     "output_type": "stream",
     "name": "stderr",
     "text": "[MainProcess/INFO] 10000 points remaining, containing 3074 cases of interest\n[MainProcess/INFO] mean: 0.9961538461538462, mass: 0.052, coverage: 0.16851008458035133, density: 0.9961538461538462 restricted_dimensions: 4\n"
    }
   ],
   "source": [
    "outcomes[\"condition\"] = outcomes[\"A1_2 Aggr Expected Annual Damage\"] + outcomes[\"A3 Expected Annual Damage\"] + outcomes[\"A1_2 Aggr Expected Number of Deaths\"] + outcomes[\"A3 Aggr Expected Number of Deaths\"]\n",
    "x = experiments.iloc[:,0:19]\n",
    "y = outcomes[\"condition\"] > 0\n",
    "prim_alg = prim.Prim(x,y, threshold=0.5)\n",
    "box = prim_alg.find_box()"
   ]
  },
  {
   "cell_type": "code",
   "execution_count": 76,
   "metadata": {},
   "outputs": [
    {
     "output_type": "execute_result",
     "data": {
      "text/html": "\n<div id=\"altair-viz-e2aeeac80fc1493a96a6f948c713907d\"></div>\n<script type=\"text/javascript\">\n  (function(spec, embedOpt){\n    let outputDiv = document.currentScript.previousElementSibling;\n    if (outputDiv.id !== \"altair-viz-e2aeeac80fc1493a96a6f948c713907d\") {\n      outputDiv = document.getElementById(\"altair-viz-e2aeeac80fc1493a96a6f948c713907d\");\n    }\n    const paths = {\n      \"vega\": \"https://cdn.jsdelivr.net/npm//vega@5?noext\",\n      \"vega-lib\": \"https://cdn.jsdelivr.net/npm//vega-lib?noext\",\n      \"vega-lite\": \"https://cdn.jsdelivr.net/npm//vega-lite@4.8.1?noext\",\n      \"vega-embed\": \"https://cdn.jsdelivr.net/npm//vega-embed@6?noext\",\n    };\n\n    function loadScript(lib) {\n      return new Promise(function(resolve, reject) {\n        var s = document.createElement('script');\n        s.src = paths[lib];\n        s.async = true;\n        s.onload = () => resolve(paths[lib]);\n        s.onerror = () => reject(`Error loading script: ${paths[lib]}`);\n        document.getElementsByTagName(\"head\")[0].appendChild(s);\n      });\n    }\n\n    function showError(err) {\n      outputDiv.innerHTML = `<div class=\"error\" style=\"color:red;\">${err}</div>`;\n      throw err;\n    }\n\n    function displayChart(vegaEmbed) {\n      vegaEmbed(outputDiv, spec, embedOpt)\n        .catch(err => showError(`Javascript Error: ${err.message}<br>This usually means there's a typo in your chart specification. See the javascript console for the full traceback.`));\n    }\n\n    if(typeof define === \"function\" && define.amd) {\n      requirejs.config({paths});\n      require([\"vega-embed\"], displayChart, err => showError(`Error loading script: ${err.message}`));\n    } else if (typeof vegaEmbed === \"function\") {\n      displayChart(vegaEmbed);\n    } else {\n      loadScript(\"vega\")\n        .then(() => loadScript(\"vega-lite\"))\n        .then(() => loadScript(\"vega-embed\"))\n        .catch(showError)\n        .then(() => displayChart(vegaEmbed));\n    }\n  })({\"config\": {\"view\": {\"continuousWidth\": 400, \"continuousHeight\": 300}}, \"vconcat\": [{\"data\": {\"name\": \"data-ac5b0a07f9a0979e8c023d7064a03c6f\"}, \"mark\": {\"type\": \"circle\", \"size\": 75}, \"encoding\": {\"color\": {\"type\": \"ordinal\", \"field\": \"res_dim\", \"scale\": {\"range\": [\"#eff9b6\", \"#d0edb3\", \"#97d6b9\", \"#5dc0c0\", \"#31a5c2\", \"#1f80b8\", \"#2354a3\", \"#21318d\"]}}, \"opacity\": {\"condition\": {\"value\": 1, \"selection\": \"selector001\"}, \"value\": 0.4}, \"tooltip\": [{\"type\": \"ordinal\", \"field\": \"id\"}, {\"type\": \"quantitative\", \"field\": \"coverage\", \"format\": \".2\"}, {\"type\": \"quantitative\", \"field\": \"density\", \"format\": \".2\"}, {\"type\": \"ordinal\", \"field\": \"res_dim\"}], \"x\": {\"type\": \"quantitative\", \"field\": \"coverage\"}, \"y\": {\"type\": \"quantitative\", \"field\": \"density\"}}, \"height\": 400, \"selection\": {\"selector001\": {\"type\": \"single\", \"fields\": [\"id\"]}}, \"width\": 400}, {\"layer\": [{\"data\": {\"name\": \"data-04ea489607189d4a23f451ac407d8ff5\"}, \"mark\": \"rule\", \"encoding\": {\"x\": {\"type\": \"quantitative\", \"axis\": {\"grid\": false, \"labels\": false, \"title\": \"box limits\"}, \"field\": \"x_lower\", \"scale\": {\"domain\": [0, 1], \"padding\": 0.1}}, \"x2\": {\"field\": \"x_upper\"}, \"y\": {\"type\": \"nominal\", \"field\": \"name\", \"scale\": {\"padding\": 1.0}}}, \"transform\": [{\"calculate\": \"(datum.x1-datum.minimum)/(datum.maximum-datum.minimum)\", \"as\": \"x_lower\"}, {\"calculate\": \"(datum.x2-datum.minimum)/(datum.maximum-datum.minimum)\", \"as\": \"x_upper\"}, {\"filter\": {\"selection\": \"selector001\"}}], \"width\": 400}, {\"data\": {\"name\": \"data-04ea489607189d4a23f451ac407d8ff5\"}, \"mark\": {\"type\": \"text\", \"align\": \"left\", \"baseline\": \"top\", \"dy\": 5}, \"encoding\": {\"text\": {\"type\": \"ordinal\", \"field\": \"text\"}, \"x\": {\"type\": \"quantitative\", \"axis\": {\"grid\": false, \"labels\": false, \"title\": \"box limits\"}, \"field\": \"x_lower\", \"scale\": {\"domain\": [0, 1], \"padding\": 0.1}}, \"x2\": {\"field\": \"x_upper\"}, \"y\": {\"type\": \"nominal\", \"field\": \"name\", \"scale\": {\"padding\": 1.0}}}, \"transform\": [{\"calculate\": \"(datum.x1-datum.minimum)/(datum.maximum-datum.minimum)\", \"as\": \"x_lower\"}, {\"calculate\": \"(datum.x2-datum.minimum)/(datum.maximum-datum.minimum)\", \"as\": \"x_upper\"}, {\"filter\": {\"selection\": \"selector001\"}}, {\"calculate\": \"datum.qp_lower>0?format(datum.x1, \\\".2\\\")+\\\" (\\\"+format(datum.qp_lower, \\\".1~g\\\")+\\\")\\\" :format(datum.x1, \\\".2\\\")\", \"as\": \"text\"}], \"width\": 400}, {\"data\": {\"name\": \"data-04ea489607189d4a23f451ac407d8ff5\"}, \"mark\": {\"type\": \"text\", \"align\": \"right\", \"baseline\": \"top\", \"dy\": 5}, \"encoding\": {\"text\": {\"type\": \"ordinal\", \"field\": \"text\"}, \"x\": {\"type\": \"quantitative\", \"field\": \"x_upper\"}, \"x2\": {\"field\": \"x_upper\"}, \"y\": {\"type\": \"nominal\", \"field\": \"name\", \"scale\": {\"padding\": 1.0}}}, \"transform\": [{\"calculate\": \"(datum.x1-datum.minimum)/(datum.maximum-datum.minimum)\", \"as\": \"x_lower\"}, {\"calculate\": \"(datum.x2-datum.minimum)/(datum.maximum-datum.minimum)\", \"as\": \"x_upper\"}, {\"filter\": {\"selection\": \"selector001\"}}, {\"calculate\": \"datum.qp_upper>0?format(datum.x2, \\\".2\\\")+\\\" (\\\"+format(datum.qp_upper, \\\".1\\\")+\\\")\\\" :format(datum.x2, \\\".2\\\")\", \"as\": \"text\"}], \"width\": 400}, {\"data\": {\"name\": \"data-bb8d07f6df3d47a6a475317795287b23\"}, \"mark\": {\"type\": \"rect\", \"opacity\": 0.05}, \"encoding\": {\"x\": {\"type\": \"quantitative\", \"field\": \"start\"}, \"x2\": {\"field\": \"end\"}}}, {\"data\": {\"name\": \"data-d751713988987e9331980363e24189ce\"}, \"mark\": \"point\", \"encoding\": {\"x\": {\"type\": \"quantitative\", \"field\": \"x\"}, \"y\": {\"type\": \"nominal\", \"field\": \"name\"}}, \"transform\": [{\"filter\": {\"selection\": \"selector001\"}}], \"width\": 400}, {\"data\": {\"name\": \"data-d751713988987e9331980363e24189ce\"}, \"mark\": {\"type\": \"text\", \"align\": \"center\", \"baseline\": \"top\", \"dy\": 5}, \"encoding\": {\"text\": {\"type\": \"nominal\", \"field\": \"item\"}, \"x\": {\"type\": \"quantitative\", \"field\": \"x\"}, \"y\": {\"type\": \"nominal\", \"field\": \"name\"}}, \"transform\": [{\"filter\": {\"selection\": \"selector001\"}}], \"width\": 400}]}], \"$schema\": \"https://vega.github.io/schema/vega-lite/v4.8.1.json\", \"datasets\": {\"data-ac5b0a07f9a0979e8c023d7064a03c6f\": [{\"coverage\": 1.0, \"density\": 0.3074, \"id\": 0, \"mass\": 1.0, \"mean\": 0.3074, \"res_dim\": 0}, {\"coverage\": 0.9921925829538061, \"density\": 0.32105263157894737, \"id\": 1, \"mass\": 0.95, \"mean\": 0.32105263157894737, \"res_dim\": 1}, {\"coverage\": 0.9860117111255693, \"density\": 0.33603104212860313, \"id\": 2, \"mass\": 0.902, \"mean\": 0.33603104212860313, \"res_dim\": 1}, {\"coverage\": 0.9830839297332465, \"density\": 0.3530373831775701, \"id\": 3, \"mass\": 0.856, \"mean\": 0.3530373831775701, \"res_dim\": 1}, {\"coverage\": 0.9798308392973325, \"density\": 0.37047970479704795, \"id\": 4, \"mass\": 0.813, \"mean\": 0.37047970479704795, \"res_dim\": 1}, {\"coverage\": 0.9798308392973325, \"density\": 0.3901554404145078, \"id\": 5, \"mass\": 0.772, \"mean\": 0.3901554404145078, \"res_dim\": 1}, {\"coverage\": 0.9655172413793104, \"density\": 0.4049113233287858, \"id\": 6, \"mass\": 0.733, \"mean\": 0.4049113233287858, \"res_dim\": 1}, {\"coverage\": 0.9577098243331165, \"density\": 0.42298850574712643, \"id\": 7, \"mass\": 0.696, \"mean\": 0.42298850574712643, \"res_dim\": 1}, {\"coverage\": 0.9577098243331165, \"density\": 0.4453857791225416, \"id\": 8, \"mass\": 0.661, \"mean\": 0.4453857791225416, \"res_dim\": 1}, {\"coverage\": 0.955757970071568, \"density\": 0.46858054226475276, \"id\": 9, \"mass\": 0.627, \"mean\": 0.46858054226475276, \"res_dim\": 1}, {\"coverage\": 0.9424202992843201, \"density\": 0.486890756302521, \"id\": 10, \"mass\": 0.595, \"mean\": 0.486890756302521, \"res_dim\": 1}, {\"coverage\": 0.9326610279765778, \"density\": 0.5074336283185841, \"id\": 11, \"mass\": 0.565, \"mean\": 0.5074336283185841, \"res_dim\": 1}, {\"coverage\": 0.9310344827586207, \"density\": 0.533955223880597, \"id\": 12, \"mass\": 0.536, \"mean\": 0.533955223880597, \"res_dim\": 1}, {\"coverage\": 0.9303838646714379, \"density\": 0.5618860510805501, \"id\": 13, \"mass\": 0.509, \"mean\": 0.5618860510805501, \"res_dim\": 1}, {\"coverage\": 0.9242029928432011, \"density\": 0.5881987577639751, \"id\": 14, \"mass\": 0.483, \"mean\": 0.5881987577639751, \"res_dim\": 1}, {\"coverage\": 0.9144437215354587, \"density\": 0.6137554585152838, \"id\": 15, \"mass\": 0.458, \"mean\": 0.6137554585152838, \"res_dim\": 1}, {\"coverage\": 0.8972023422251139, \"density\": 0.6340229885057471, \"id\": 16, \"mass\": 0.435, \"mean\": 0.6340229885057471, \"res_dim\": 1}, {\"coverage\": 0.8835393623942746, \"density\": 0.6576271186440678, \"id\": 17, \"mass\": 0.413, \"mean\": 0.6576271186440678, \"res_dim\": 1}, {\"coverage\": 0.8646714378659727, \"density\": 0.6780612244897959, \"id\": 18, \"mass\": 0.392, \"mean\": 0.6780612244897959, \"res_dim\": 1}, {\"coverage\": 0.842875731945348, \"density\": 0.696505376344086, \"id\": 19, \"mass\": 0.372, \"mean\": 0.696505376344086, \"res_dim\": 1}, {\"coverage\": 0.8217306441119063, \"density\": 0.7155807365439093, \"id\": 20, \"mass\": 0.353, \"mean\": 0.7155807365439093, \"res_dim\": 1}, {\"coverage\": 0.7960312296681847, \"density\": 0.7304477611940299, \"id\": 21, \"mass\": 0.335, \"mean\": 0.7304477611940299, \"res_dim\": 1}, {\"coverage\": 0.7755367599219258, \"density\": 0.7496855345911949, \"id\": 22, \"mass\": 0.318, \"mean\": 0.7496855345911949, \"res_dim\": 1}, {\"coverage\": 0.7482108002602472, \"density\": 0.7615894039735099, \"id\": 23, \"mass\": 0.302, \"mean\": 0.7615894039735099, \"res_dim\": 1}, {\"coverage\": 0.7163305139882888, \"density\": 0.76993006993007, \"id\": 24, \"mass\": 0.286, \"mean\": 0.76993006993007, \"res_dim\": 1}, {\"coverage\": 0.6834743005855562, \"density\": 0.7752767527675277, \"id\": 25, \"mass\": 0.271, \"mean\": 0.7752767527675277, \"res_dim\": 1}, {\"coverage\": 0.653220559531555, \"density\": 0.7813229571984436, \"id\": 26, \"mass\": 0.257, \"mean\": 0.7813229571984436, \"res_dim\": 1}, {\"coverage\": 0.623942745608328, \"density\": 0.7860655737704918, \"id\": 27, \"mass\": 0.244, \"mean\": 0.7860655737704918, \"res_dim\": 1}, {\"coverage\": 0.5943396226415094, \"density\": 0.7909090909090909, \"id\": 28, \"mass\": 0.231, \"mean\": 0.7909090909090909, \"res_dim\": 1}, {\"coverage\": 0.5670136629798308, \"density\": 0.7958904109589041, \"id\": 29, \"mass\": 0.219, \"mean\": 0.7958904109589041, \"res_dim\": 1}, {\"coverage\": 0.5419648666232921, \"density\": 0.8009615384615385, \"id\": 30, \"mass\": 0.208, \"mean\": 0.8009615384615385, \"res_dim\": 2}, {\"coverage\": 0.5159401431359791, \"density\": 0.8050761421319796, \"id\": 31, \"mass\": 0.197, \"mean\": 0.8050761421319796, \"res_dim\": 2}, {\"coverage\": 0.49251789199739754, \"density\": 0.8096256684491978, \"id\": 32, \"mass\": 0.187, \"mean\": 0.8096256684491978, \"res_dim\": 3}, {\"coverage\": 0.4687703318152245, \"density\": 0.8141242937853107, \"id\": 33, \"mass\": 0.177, \"mean\": 0.8141242937853107, \"res_dim\": 3}, {\"coverage\": 0.4482758620689655, \"density\": 0.8202380952380952, \"id\": 34, \"mass\": 0.168, \"mean\": 0.8202380952380952, \"res_dim\": 3}, {\"coverage\": 0.42778139232270657, \"density\": 0.8270440251572327, \"id\": 35, \"mass\": 0.159, \"mean\": 0.8270440251572327, \"res_dim\": 3}, {\"coverage\": 0.4089134677944047, \"density\": 0.8324503311258278, \"id\": 36, \"mass\": 0.151, \"mean\": 0.8324503311258278, \"res_dim\": 3}, {\"coverage\": 0.3906961613532856, \"density\": 0.8398601398601399, \"id\": 37, \"mass\": 0.143, \"mean\": 0.8398601398601399, \"res_dim\": 3}, {\"coverage\": 0.37247885491216653, \"density\": 0.8481481481481481, \"id\": 38, \"mass\": 0.135, \"mean\": 0.8481481481481481, \"res_dim\": 3}, {\"coverage\": 0.3565387117761874, \"density\": 0.85625, \"id\": 39, \"mass\": 0.128, \"mean\": 0.85625, \"res_dim\": 3}, {\"coverage\": 0.3405985686402082, \"density\": 0.8652892561983471, \"id\": 40, \"mass\": 0.121, \"mean\": 0.8652892561983471, \"res_dim\": 3}, {\"coverage\": 0.324658425504229, \"density\": 0.875438596491228, \"id\": 41, \"mass\": 0.114, \"mean\": 0.875438596491228, \"res_dim\": 3}, {\"coverage\": 0.3103448275862069, \"density\": 0.8833333333333333, \"id\": 42, \"mass\": 0.108, \"mean\": 0.8833333333333333, \"res_dim\": 3}, {\"coverage\": 0.2957059206245934, \"density\": 0.8911764705882353, \"id\": 43, \"mass\": 0.102, \"mean\": 0.8911764705882353, \"res_dim\": 3}, {\"coverage\": 0.2820429407937541, \"density\": 0.903125, \"id\": 44, \"mass\": 0.096, \"mean\": 0.903125, \"res_dim\": 3}, {\"coverage\": 0.27000650618087185, \"density\": 0.9120879120879121, \"id\": 45, \"mass\": 0.091, \"mean\": 0.9120879120879121, \"res_dim\": 3}, {\"coverage\": 0.25764476252439816, \"density\": 0.9209302325581395, \"id\": 46, \"mass\": 0.086, \"mean\": 0.9209302325581395, \"res_dim\": 3}, {\"coverage\": 0.24528301886792453, \"density\": 0.9308641975308642, \"id\": 47, \"mass\": 0.081, \"mean\": 0.9308641975308642, \"res_dim\": 3}, {\"coverage\": 0.23259596616785946, \"density\": 0.9407894736842105, \"id\": 48, \"mass\": 0.076, \"mean\": 0.9407894736842105, \"res_dim\": 3}, {\"coverage\": 0.22348731294729993, \"density\": 0.9541666666666667, \"id\": 49, \"mass\": 0.072, \"mean\": 0.9541666666666667, \"res_dim\": 3}, {\"coverage\": 0.21307742355237475, \"density\": 0.9632352941176471, \"id\": 50, \"mass\": 0.068, \"mean\": 0.9632352941176471, \"res_dim\": 3}, {\"coverage\": 0.20169160702667535, \"density\": 0.96875, \"id\": 51, \"mass\": 0.064, \"mean\": 0.96875, \"res_dim\": 3}, {\"coverage\": 0.19030579050097593, \"density\": 0.975, \"id\": 52, \"mass\": 0.06, \"mean\": 0.975, \"res_dim\": 4}, {\"coverage\": 0.1815224463240078, \"density\": 0.9789473684210527, \"id\": 53, \"mass\": 0.057, \"mean\": 0.9789473684210527, \"res_dim\": 4}, {\"coverage\": 0.1733897202342225, \"density\": 0.987037037037037, \"id\": 54, \"mass\": 0.054, \"mean\": 0.987037037037037, \"res_dim\": 4}, {\"coverage\": 0.1652569941444372, \"density\": 0.996078431372549, \"id\": 55, \"mass\": 0.051, \"mean\": 0.996078431372549, \"res_dim\": 4}, {\"coverage\": 0.16851008458035133, \"density\": 0.9961538461538462, \"id\": 56, \"mass\": 0.052, \"mean\": 0.9961538461538462, \"res_dim\": 4}], \"data-04ea489607189d4a23f451ac407d8ff5\": [{\"x1\": 1.657701397314104e-05, \"x2\": 0.9503249653127765, \"name\": \"A.2_pfail\", \"id\": 1, \"minimum\": 1.657701397314104e-05, \"maximum\": 0.9995286627303218, \"qp_lower\": -1.0, \"qp_upper\": 0.002099897162741158}, {\"x1\": 1.657701397314104e-05, \"x2\": 0.902050521555166, \"name\": \"A.2_pfail\", \"id\": 2, \"minimum\": 1.657701397314104e-05, \"maximum\": 0.9995286627303218, \"qp_lower\": -1.0, \"qp_upper\": 2.6846426066128627e-09}, {\"x1\": 1.657701397314104e-05, \"x2\": 0.8563217703853803, \"name\": \"A.2_pfail\", \"id\": 3, \"minimum\": 1.657701397314104e-05, \"maximum\": 0.9995286627303218, \"qp_lower\": -1.0, \"qp_upper\": 8.904325757199181e-20}, {\"x1\": 1.657701397314104e-05, \"x2\": 0.8130675296885403, \"name\": \"A.2_pfail\", \"id\": 4, \"minimum\": 1.657701397314104e-05, \"maximum\": 0.9995286627303218, \"qp_lower\": -1.0, \"qp_upper\": 4.267512894236916e-34}, {\"x1\": 1.657701397314104e-05, \"x2\": 0.7717134645276056, \"name\": \"A.2_pfail\", \"id\": 5, \"minimum\": 1.657701397314104e-05, \"maximum\": 0.9995286627303218, \"qp_lower\": -1.0, \"qp_upper\": 6.56468580845421e-54}, {\"x1\": 1.657701397314104e-05, \"x2\": 0.7329508075778524, \"name\": \"A.2_pfail\", \"id\": 6, \"minimum\": 1.657701397314104e-05, \"maximum\": 0.9995286627303218, \"qp_lower\": -1.0, \"qp_upper\": 5.690342003768288e-70}, {\"x1\": 1.657701397314104e-05, \"x2\": 0.6960250730732299, \"name\": \"A.2_pfail\", \"id\": 7, \"minimum\": 1.657701397314104e-05, \"maximum\": 0.9995286627303218, \"qp_lower\": -1.0, \"qp_upper\": 4.562225711465831e-92}, {\"x1\": 1.657701397314104e-05, \"x2\": 0.661151929562048, \"name\": \"A.2_pfail\", \"id\": 8, \"minimum\": 1.657701397314104e-05, \"maximum\": 0.9995286627303218, \"qp_lower\": -1.0, \"qp_upper\": 1.0031962875549698e-122}, {\"x1\": 1.657701397314104e-05, \"x2\": 0.6267676167986036, \"name\": \"A.2_pfail\", \"id\": 9, \"minimum\": 1.657701397314104e-05, \"maximum\": 0.9995286627303218, \"qp_lower\": -1.0, \"qp_upper\": 5.591747533601372e-157}, {\"x1\": 1.657701397314104e-05, \"x2\": 0.5947595368855245, \"name\": \"A.2_pfail\", \"id\": 10, \"minimum\": 1.657701397314104e-05, \"maximum\": 0.9995286627303218, \"qp_lower\": -1.0, \"qp_upper\": 2.5100095886865616e-183}, {\"x1\": 1.657701397314104e-05, \"x2\": 0.5647957425692447, \"name\": \"A.2_pfail\", \"id\": 11, \"minimum\": 1.657701397314104e-05, \"maximum\": 0.9995286627303218, \"qp_lower\": -1.0, \"qp_upper\": 9.556450014102734e-215}, {\"x1\": 1.657701397314104e-05, \"x2\": 0.5357754650661901, \"name\": \"A.2_pfail\", \"id\": 12, \"minimum\": 1.657701397314104e-05, \"maximum\": 0.9995286627303218, \"qp_lower\": -1.0, \"qp_upper\": 5.414161737597287e-259}, {\"x1\": 1.657701397314104e-05, \"x2\": 0.5089706703081875, \"name\": \"A.2_pfail\", \"id\": 13, \"minimum\": 1.657701397314104e-05, \"maximum\": 0.9995286627303218, \"qp_lower\": -1.0, \"qp_upper\": 4.0926942454919294e-308}, {\"x1\": 1.657701397314104e-05, \"x2\": 0.48296996936834363, \"name\": \"A.2_pfail\", \"id\": 14, \"minimum\": 1.657701397314104e-05, \"maximum\": 0.9995286627303218, \"qp_lower\": -1.0, \"qp_upper\": 0.0}, {\"x1\": 1.657701397314104e-05, \"x2\": 0.45784040112852104, \"name\": \"A.2_pfail\", \"id\": 15, \"minimum\": 1.657701397314104e-05, \"maximum\": 0.9995286627303218, \"qp_lower\": -1.0, \"qp_upper\": 0.0}, {\"x1\": 1.657701397314104e-05, \"x2\": 0.4350431854362164, \"name\": \"A.2_pfail\", \"id\": 16, \"minimum\": 1.657701397314104e-05, \"maximum\": 0.9995286627303218, \"qp_lower\": -1.0, \"qp_upper\": 0.0}, {\"x1\": 1.657701397314104e-05, \"x2\": 0.41288742748568663, \"name\": \"A.2_pfail\", \"id\": 17, \"minimum\": 1.657701397314104e-05, \"maximum\": 0.9995286627303218, \"qp_lower\": -1.0, \"qp_upper\": 0.0}, {\"x1\": 1.657701397314104e-05, \"x2\": 0.3919145024042968, \"name\": \"A.2_pfail\", \"id\": 18, \"minimum\": 1.657701397314104e-05, \"maximum\": 0.9995286627303218, \"qp_lower\": -1.0, \"qp_upper\": 0.0}, {\"x1\": 1.657701397314104e-05, \"x2\": 0.372292377855618, \"name\": \"A.2_pfail\", \"id\": 19, \"minimum\": 1.657701397314104e-05, \"maximum\": 0.9995286627303218, \"qp_lower\": -1.0, \"qp_upper\": 0.0}, {\"x1\": 1.657701397314104e-05, \"x2\": 0.3533927118522678, \"name\": \"A.2_pfail\", \"id\": 20, \"minimum\": 1.657701397314104e-05, \"maximum\": 0.9995286627303218, \"qp_lower\": -1.0, \"qp_upper\": 0.0}, {\"x1\": 1.657701397314104e-05, \"x2\": 0.33492084826386725, \"name\": \"A.2_pfail\", \"id\": 21, \"minimum\": 1.657701397314104e-05, \"maximum\": 0.9995286627303218, \"qp_lower\": -1.0, \"qp_upper\": 0.0}, {\"x1\": 1.657701397314104e-05, \"x2\": 0.3177944643218469, \"name\": \"A.2_pfail\", \"id\": 22, \"minimum\": 1.657701397314104e-05, \"maximum\": 0.9995286627303218, \"qp_lower\": -1.0, \"qp_upper\": 0.0}, {\"x1\": 1.657701397314104e-05, \"x2\": 0.30205094317096703, \"name\": \"A.2_pfail\", \"id\": 23, \"minimum\": 1.657701397314104e-05, \"maximum\": 0.9995286627303218, \"qp_lower\": -1.0, \"qp_upper\": 0.0}, {\"x1\": 1.657701397314104e-05, \"x2\": 0.2858183337324349, \"name\": \"A.2_pfail\", \"id\": 24, \"minimum\": 1.657701397314104e-05, \"maximum\": 0.9995286627303218, \"qp_lower\": -1.0, \"qp_upper\": 0.0}, {\"x1\": 1.657701397314104e-05, \"x2\": 0.2710515570307874, \"name\": \"A.2_pfail\", \"id\": 25, \"minimum\": 1.657701397314104e-05, \"maximum\": 0.9995286627303218, \"qp_lower\": -1.0, \"qp_upper\": 0.0}, {\"x1\": 1.657701397314104e-05, \"x2\": 0.2568585108666888, \"name\": \"A.2_pfail\", \"id\": 26, \"minimum\": 1.657701397314104e-05, \"maximum\": 0.9995286627303218, \"qp_lower\": -1.0, \"qp_upper\": 0.0}, {\"x1\": 1.657701397314104e-05, \"x2\": 0.24395400355764885, \"name\": \"A.2_pfail\", \"id\": 27, \"minimum\": 1.657701397314104e-05, \"maximum\": 0.9995286627303218, \"qp_lower\": -1.0, \"qp_upper\": 0.0}, {\"x1\": 1.657701397314104e-05, \"x2\": 0.23119419360267496, \"name\": \"A.2_pfail\", \"id\": 28, \"minimum\": 1.657701397314104e-05, \"maximum\": 0.9995286627303218, \"qp_lower\": -1.0, \"qp_upper\": 0.0}, {\"x1\": 1.657701397314104e-05, \"x2\": 0.21895914654419601, \"name\": \"A.2_pfail\", \"id\": 29, \"minimum\": 1.657701397314104e-05, \"maximum\": 0.9995286627303218, \"qp_lower\": -1.0, \"qp_upper\": 0.0}, {\"x1\": 46.30192800223435, \"x2\": 349.8767734887607, \"name\": \"A.1_Bmax\", \"id\": 30, \"minimum\": 30.310211829298503, \"maximum\": 349.8767734887607, \"qp_lower\": 0.2936205118550125, \"qp_upper\": -1.0}, {\"x1\": 1.657701397314104e-05, \"x2\": 0.21895914654419601, \"name\": \"A.2_pfail\", \"id\": 30, \"minimum\": 1.657701397314104e-05, \"maximum\": 0.9995286627303218, \"qp_lower\": -1.0, \"qp_upper\": 0.0}, {\"x1\": 46.30192800223435, \"x2\": 349.8767734887607, \"name\": \"A.1_Bmax\", \"id\": 31, \"minimum\": 30.310211829298503, \"maximum\": 349.8767734887607, \"qp_lower\": 0.2988942803088194, \"qp_upper\": -1.0}, {\"x1\": 1.657701397314104e-05, \"x2\": 0.20804123435572186, \"name\": \"A.2_pfail\", \"id\": 31, \"minimum\": 1.657701397314104e-05, \"maximum\": 0.9995286627303218, \"qp_lower\": -1.0, \"qp_upper\": 0.0}, {\"x1\": 46.30192800223435, \"x2\": 349.8767734887607, \"name\": \"A.1_Bmax\", \"id\": 32, \"minimum\": 30.310211829298503, \"maximum\": 349.8767734887607, \"qp_lower\": 0.2642794743796098, \"qp_upper\": -1.0}, {\"x1\": 1.657701397314104e-05, \"x2\": 0.20804123435572186, \"name\": \"A.2_pfail\", \"id\": 32, \"minimum\": 1.657701397314104e-05, \"maximum\": 0.9995286627303218, \"qp_lower\": -1.0, \"qp_upper\": 0.0}, {\"x1\": 0.06624590430603586, \"x2\": 0.9997495111155824, \"name\": \"A.4_pfail\", \"id\": 32, \"minimum\": 1.4115449263606527e-05, \"maximum\": 0.9997495111155824, \"qp_lower\": 0.3217608793543157, \"qp_upper\": -1.0}, {\"x1\": 46.30192800223435, \"x2\": 349.8767734887607, \"name\": \"A.1_Bmax\", \"id\": 33, \"minimum\": 30.310211829298503, \"maximum\": 349.8767734887607, \"qp_lower\": 0.24856465234281813, \"qp_upper\": -1.0}, {\"x1\": 1.657701397314104e-05, \"x2\": 0.195328865557228, \"name\": \"A.2_pfail\", \"id\": 33, \"minimum\": 1.657701397314104e-05, \"maximum\": 0.9995286627303218, \"qp_lower\": -1.0, \"qp_upper\": 0.0}, {\"x1\": 0.06624590430603586, \"x2\": 0.9997495111155824, \"name\": \"A.4_pfail\", \"id\": 33, \"minimum\": 1.4115449263606527e-05, \"maximum\": 0.9997495111155824, \"qp_lower\": 0.3527698923160068, \"qp_upper\": -1.0}, {\"x1\": 46.30192800223435, \"x2\": 349.8767734887607, \"name\": \"A.1_Bmax\", \"id\": 34, \"minimum\": 30.310211829298503, \"maximum\": 349.8767734887607, \"qp_lower\": 0.2713617211711447, \"qp_upper\": -1.0}, {\"x1\": 1.657701397314104e-05, \"x2\": 0.18392369367502323, \"name\": \"A.2_pfail\", \"id\": 34, \"minimum\": 1.657701397314104e-05, \"maximum\": 0.9995286627303218, \"qp_lower\": -1.0, \"qp_upper\": 0.0}, {\"x1\": 0.06624590430603586, \"x2\": 0.9997495111155824, \"name\": \"A.4_pfail\", \"id\": 34, \"minimum\": 1.4115449263606527e-05, \"maximum\": 0.9997495111155824, \"qp_lower\": 0.36280526647683387, \"qp_upper\": -1.0}, {\"x1\": 46.30192800223435, \"x2\": 349.8767734887607, \"name\": \"A.1_Bmax\", \"id\": 35, \"minimum\": 30.310211829298503, \"maximum\": 349.8767734887607, \"qp_lower\": 0.25134121602150256, \"qp_upper\": -1.0}, {\"x1\": 1.657701397314104e-05, \"x2\": 0.17503105383131579, \"name\": \"A.2_pfail\", \"id\": 35, \"minimum\": 1.657701397314104e-05, \"maximum\": 0.9995286627303218, \"qp_lower\": -1.0, \"qp_upper\": 0.0}, {\"x1\": 0.06624590430603586, \"x2\": 0.9997495111155824, \"name\": \"A.4_pfail\", \"id\": 35, \"minimum\": 1.4115449263606527e-05, \"maximum\": 0.9997495111155824, \"qp_lower\": 0.34645464379051966, \"qp_upper\": -1.0}, {\"x1\": 46.30192800223435, \"x2\": 349.8767734887607, \"name\": \"A.1_Bmax\", \"id\": 36, \"minimum\": 30.310211829298503, \"maximum\": 349.8767734887607, \"qp_lower\": 0.25961493977921873, \"qp_upper\": -1.0}, {\"x1\": 1.657701397314104e-05, \"x2\": 0.16606999984940168, \"name\": \"A.2_pfail\", \"id\": 36, \"minimum\": 1.657701397314104e-05, \"maximum\": 0.9995286627303218, \"qp_lower\": -1.0, \"qp_upper\": 0.0}, {\"x1\": 0.06624590430603586, \"x2\": 0.9997495111155824, \"name\": \"A.4_pfail\", \"id\": 36, \"minimum\": 1.4115449263606527e-05, \"maximum\": 0.9997495111155824, \"qp_lower\": 0.3322916687071834, \"qp_upper\": -1.0}, {\"x1\": 46.30192800223435, \"x2\": 349.8767734887607, \"name\": \"A.1_Bmax\", \"id\": 37, \"minimum\": 30.310211829298503, \"maximum\": 349.8767734887607, \"qp_lower\": 0.22036895381876695, \"qp_upper\": -1.0}, {\"x1\": 1.657701397314104e-05, \"x2\": 0.15796244202016296, \"name\": \"A.2_pfail\", \"id\": 37, \"minimum\": 1.657701397314104e-05, \"maximum\": 0.9995286627303218, \"qp_lower\": -1.0, \"qp_upper\": 0.0}, {\"x1\": 0.06624590430603586, \"x2\": 0.9997495111155824, \"name\": \"A.4_pfail\", \"id\": 37, \"minimum\": 1.4115449263606527e-05, \"maximum\": 0.9997495111155824, \"qp_lower\": 0.29214150253145665, \"qp_upper\": -1.0}, {\"x1\": 46.30192800223435, \"x2\": 349.8767734887607, \"name\": \"A.1_Bmax\", \"id\": 38, \"minimum\": 30.310211829298503, \"maximum\": 349.8767734887607, \"qp_lower\": 0.2444884237216185, \"qp_upper\": -1.0}, {\"x1\": 1.657701397314104e-05, \"x2\": 0.14872064114363148, \"name\": \"A.2_pfail\", \"id\": 38, \"minimum\": 1.657701397314104e-05, \"maximum\": 0.9995286627303218, \"qp_lower\": -1.0, \"qp_upper\": 0.0}, {\"x1\": 0.06624590430603586, \"x2\": 0.9997495111155824, \"name\": \"A.4_pfail\", \"id\": 38, \"minimum\": 1.4115449263606527e-05, \"maximum\": 0.9997495111155824, \"qp_lower\": 0.29083882759003993, \"qp_upper\": -1.0}, {\"x1\": 46.30192800223435, \"x2\": 349.8767734887607, \"name\": \"A.1_Bmax\", \"id\": 39, \"minimum\": 30.310211829298503, \"maximum\": 349.8767734887607, \"qp_lower\": 0.25611948462961065, \"qp_upper\": -1.0}, {\"x1\": 1.657701397314104e-05, \"x2\": 0.13992796568864296, \"name\": \"A.2_pfail\", \"id\": 39, \"minimum\": 1.657701397314104e-05, \"maximum\": 0.9995286627303218, \"qp_lower\": -1.0, \"qp_upper\": 0.0}, {\"x1\": 0.06624590430603586, \"x2\": 0.9997495111155824, \"name\": \"A.4_pfail\", \"id\": 39, \"minimum\": 1.4115449263606527e-05, \"maximum\": 0.9997495111155824, \"qp_lower\": 0.3062297744370394, \"qp_upper\": -1.0}, {\"x1\": 46.30192800223435, \"x2\": 349.8767734887607, \"name\": \"A.1_Bmax\", \"id\": 40, \"minimum\": 30.310211829298503, \"maximum\": 349.8767734887607, \"qp_lower\": 0.23226429520246847, \"qp_upper\": -1.0}, {\"x1\": 1.657701397314104e-05, \"x2\": 0.1325643544946309, \"name\": \"A.2_pfail\", \"id\": 40, \"minimum\": 1.657701397314104e-05, \"maximum\": 0.9995286627303218, \"qp_lower\": -1.0, \"qp_upper\": 0.0}, {\"x1\": 0.06624590430603586, \"x2\": 0.9997495111155824, \"name\": \"A.4_pfail\", \"id\": 40, \"minimum\": 1.4115449263606527e-05, \"maximum\": 0.9997495111155824, \"qp_lower\": 0.2825384760024786, \"qp_upper\": -1.0}, {\"x1\": 46.30192800223435, \"x2\": 349.8767734887607, \"name\": \"A.1_Bmax\", \"id\": 41, \"minimum\": 30.310211829298503, \"maximum\": 349.8767734887607, \"qp_lower\": 0.2463372457419919, \"qp_upper\": -1.0}, {\"x1\": 1.657701397314104e-05, \"x2\": 0.12484108733777667, \"name\": \"A.2_pfail\", \"id\": 41, \"minimum\": 1.657701397314104e-05, \"maximum\": 0.9995286627303218, \"qp_lower\": -1.0, \"qp_upper\": 0.0}, {\"x1\": 0.06624590430603586, \"x2\": 0.9997495111155824, \"name\": \"A.4_pfail\", \"id\": 41, \"minimum\": 1.4115449263606527e-05, \"maximum\": 0.9997495111155824, \"qp_lower\": 0.25472794859223835, \"qp_upper\": -1.0}, {\"x1\": 54.975451564984226, \"x2\": 349.8767734887607, \"name\": \"A.1_Bmax\", \"id\": 42, \"minimum\": 30.310211829298503, \"maximum\": 349.8767734887607, \"qp_lower\": 0.07350446083650759, \"qp_upper\": -1.0}, {\"x1\": 1.657701397314104e-05, \"x2\": 0.12484108733777667, \"name\": \"A.2_pfail\", \"id\": 42, \"minimum\": 1.657701397314104e-05, \"maximum\": 0.9995286627303218, \"qp_lower\": -1.0, \"qp_upper\": 0.0}, {\"x1\": 0.06624590430603586, \"x2\": 0.9997495111155824, \"name\": \"A.4_pfail\", \"id\": 42, \"minimum\": 1.4115449263606527e-05, \"maximum\": 0.9997495111155824, \"qp_lower\": 0.23135832122269637, \"qp_upper\": -1.0}, {\"x1\": 54.975451564984226, \"x2\": 349.8767734887607, \"name\": \"A.1_Bmax\", \"id\": 43, \"minimum\": 30.310211829298503, \"maximum\": 349.8767734887607, \"qp_lower\": 0.10982836588659628, \"qp_upper\": -1.0}, {\"x1\": 1.657701397314104e-05, \"x2\": 0.11585351655260825, \"name\": \"A.2_pfail\", \"id\": 43, \"minimum\": 1.657701397314104e-05, \"maximum\": 0.9995286627303218, \"qp_lower\": -1.0, \"qp_upper\": 0.0}, {\"x1\": 0.06624590430603586, \"x2\": 0.9997495111155824, \"name\": \"A.4_pfail\", \"id\": 43, \"minimum\": 1.4115449263606527e-05, \"maximum\": 0.9997495111155824, \"qp_lower\": 0.18274233509141471, \"qp_upper\": -1.0}, {\"x1\": 54.975451564984226, \"x2\": 349.8767734887607, \"name\": \"A.1_Bmax\", \"id\": 44, \"minimum\": 30.310211829298503, \"maximum\": 349.8767734887607, \"qp_lower\": 0.17148583895588038, \"qp_upper\": -1.0}, {\"x1\": 1.657701397314104e-05, \"x2\": 0.10726149984757477, \"name\": \"A.2_pfail\", \"id\": 44, \"minimum\": 1.657701397314104e-05, \"maximum\": 0.9995286627303218, \"qp_lower\": -1.0, \"qp_upper\": 5e-324}, {\"x1\": 0.06624590430603586, \"x2\": 0.9997495111155824, \"name\": \"A.4_pfail\", \"id\": 44, \"minimum\": 1.4115449263606527e-05, \"maximum\": 0.9997495111155824, \"qp_lower\": 0.22423555601869807, \"qp_upper\": -1.0}, {\"x1\": 54.975451564984226, \"x2\": 349.8767734887607, \"name\": \"A.1_Bmax\", \"id\": 45, \"minimum\": 30.310211829298503, \"maximum\": 349.8767734887607, \"qp_lower\": 0.19649349045931083, \"qp_upper\": -1.0}, {\"x1\": 1.657701397314104e-05, \"x2\": 0.09908820522393269, \"name\": \"A.2_pfail\", \"id\": 45, \"minimum\": 1.657701397314104e-05, \"maximum\": 0.9995286627303218, \"qp_lower\": -1.0, \"qp_upper\": 2.085614e-318}, {\"x1\": 0.06624590430603586, \"x2\": 0.9997495111155824, \"name\": \"A.4_pfail\", \"id\": 45, \"minimum\": 1.4115449263606527e-05, \"maximum\": 0.9997495111155824, \"qp_lower\": 0.339776352224237, \"qp_upper\": -1.0}, {\"x1\": 54.975451564984226, \"x2\": 349.8767734887607, \"name\": \"A.1_Bmax\", \"id\": 46, \"minimum\": 30.310211829298503, \"maximum\": 349.8767734887607, \"qp_lower\": 0.20109150295115072, \"qp_upper\": -1.0}, {\"x1\": 1.657701397314104e-05, \"x2\": 0.09228935275865177, \"name\": \"A.2_pfail\", \"id\": 46, \"minimum\": 1.657701397314104e-05, \"maximum\": 0.9995286627303218, \"qp_lower\": -1.0, \"qp_upper\": 1.781707685924e-312}, {\"x1\": 0.06624590430603586, \"x2\": 0.9997495111155824, \"name\": \"A.4_pfail\", \"id\": 46, \"minimum\": 1.4115449263606527e-05, \"maximum\": 0.9997495111155824, \"qp_lower\": 0.370366152349031, \"qp_upper\": -1.0}, {\"x1\": 54.975451564984226, \"x2\": 349.8767734887607, \"name\": \"A.1_Bmax\", \"id\": 47, \"minimum\": 30.310211829298503, \"maximum\": 349.8767734887607, \"qp_lower\": 0.20207770484493323, \"qp_upper\": -1.0}, {\"x1\": 1.657701397314104e-05, \"x2\": 0.08585856262069196, \"name\": \"A.2_pfail\", \"id\": 47, \"minimum\": 1.657701397314104e-05, \"maximum\": 0.9995286627303218, \"qp_lower\": -1.0, \"qp_upper\": 4.134236143169207e-305}, {\"x1\": 0.06624590430603586, \"x2\": 0.9997495111155824, \"name\": \"A.4_pfail\", \"id\": 47, \"minimum\": 1.4115449263606527e-05, \"maximum\": 0.9997495111155824, \"qp_lower\": 0.518663084955217, \"qp_upper\": -1.0}, {\"x1\": 54.975451564984226, \"x2\": 349.8767734887607, \"name\": \"A.1_Bmax\", \"id\": 48, \"minimum\": 30.310211829298503, \"maximum\": 349.8767734887607, \"qp_lower\": 0.27364138995623816, \"qp_upper\": -1.0}, {\"x1\": 1.657701397314104e-05, \"x2\": 0.07907755243706122, \"name\": \"A.2_pfail\", \"id\": 48, \"minimum\": 1.657701397314104e-05, \"maximum\": 0.9995286627303218, \"qp_lower\": -1.0, \"qp_upper\": 9.602507365861739e-298}, {\"x1\": 0.06624590430603586, \"x2\": 0.9997495111155824, \"name\": \"A.4_pfail\", \"id\": 48, \"minimum\": 1.4115449263606527e-05, \"maximum\": 0.9997495111155824, \"qp_lower\": 0.5149230939706954, \"qp_upper\": -1.0}, {\"x1\": 54.975451564984226, \"x2\": 349.8767734887607, \"name\": \"A.1_Bmax\", \"id\": 49, \"minimum\": 30.310211829298503, \"maximum\": 349.8767734887607, \"qp_lower\": 0.37359592721999363, \"qp_upper\": -1.0}, {\"x1\": 1.657701397314104e-05, \"x2\": 0.07422063558594821, \"name\": \"A.2_pfail\", \"id\": 49, \"minimum\": 1.657701397314104e-05, \"maximum\": 0.9995286627303218, \"qp_lower\": -1.0, \"qp_upper\": 1.4909941287312582e-297}, {\"x1\": 0.06624590430603586, \"x2\": 0.9997495111155824, \"name\": \"A.4_pfail\", \"id\": 49, \"minimum\": 1.4115449263606527e-05, \"maximum\": 0.9997495111155824, \"qp_lower\": 0.5082874806538802, \"qp_upper\": -1.0}, {\"x1\": 54.975451564984226, \"x2\": 349.8767734887607, \"name\": \"A.1_Bmax\", \"id\": 50, \"minimum\": 30.310211829298503, \"maximum\": 349.8767734887607, \"qp_lower\": 0.5529307183140073, \"qp_upper\": -1.0}, {\"x1\": 1.657701397314104e-05, \"x2\": 0.06915984820223495, \"name\": \"A.2_pfail\", \"id\": 50, \"minimum\": 1.657701397314104e-05, \"maximum\": 0.9995286627303218, \"qp_lower\": -1.0, \"qp_upper\": 1.2528962857061725e-291}, {\"x1\": 0.06624590430603586, \"x2\": 0.9997495111155824, \"name\": \"A.4_pfail\", \"id\": 50, \"minimum\": 1.4115449263606527e-05, \"maximum\": 0.9997495111155824, \"qp_lower\": 0.5025461316973312, \"qp_upper\": -1.0}, {\"x1\": 54.975451564984226, \"x2\": 349.8767734887607, \"name\": \"A.1_Bmax\", \"id\": 51, \"minimum\": 30.310211829298503, \"maximum\": 349.8767734887607, \"qp_lower\": 0.5591000464067606, \"qp_upper\": -1.0}, {\"x1\": 1.657701397314104e-05, \"x2\": 0.06467618813750425, \"name\": \"A.2_pfail\", \"id\": 51, \"minimum\": 1.657701397314104e-05, \"maximum\": 0.9995286627303218, \"qp_lower\": -1.0, \"qp_upper\": 6.929782873736488e-281}, {\"x1\": 0.06624590430603586, \"x2\": 0.9997495111155824, \"name\": \"A.4_pfail\", \"id\": 51, \"minimum\": 1.4115449263606527e-05, \"maximum\": 0.9997495111155824, \"qp_lower\": 0.498206364901574, \"qp_upper\": -1.0}, {\"x1\": 54.975451564984226, \"x2\": 349.8767734887607, \"name\": \"A.1_Bmax\", \"id\": 52, \"minimum\": 30.310211829298503, \"maximum\": 349.8767734887607, \"qp_lower\": 0.5680950473912922, \"qp_upper\": -1.0}, {\"x1\": 1.657701397314104e-05, \"x2\": 0.06467618813750425, \"name\": \"A.2_pfail\", \"id\": 52, \"minimum\": 1.657701397314104e-05, \"maximum\": 0.9995286627303218, \"qp_lower\": -1.0, \"qp_upper\": 1.320903401005323e-275}, {\"x1\": 0.06624590430603586, \"x2\": 0.9997495111155824, \"name\": \"A.4_pfail\", \"id\": 52, \"minimum\": 1.4115449263606527e-05, \"maximum\": 0.9997495111155824, \"qp_lower\": 0.4919784107332782, \"qp_upper\": -1.0}, {\"x1\": 76.10087851750781, \"x2\": 349.71250079152003, \"name\": \"A.5_Bmax\", \"id\": 52, \"minimum\": 30.232908464554907, \"maximum\": 349.71250079152003, \"qp_lower\": 0.2274060209490556, \"qp_upper\": -1.0}, {\"x1\": 54.975451564984226, \"x2\": 349.8767734887607, \"name\": \"A.1_Bmax\", \"id\": 53, \"minimum\": 30.310211829298503, \"maximum\": 349.8767734887607, \"qp_lower\": 0.5759695634071682, \"qp_upper\": -1.0}, {\"x1\": 1.657701397314104e-05, \"x2\": 0.06102353934965306, \"name\": \"A.2_pfail\", \"id\": 53, \"minimum\": 1.657701397314104e-05, \"maximum\": 0.9995286627303218, \"qp_lower\": -1.0, \"qp_upper\": 2.4666334134475413e-266}, {\"x1\": 0.06624590430603586, \"x2\": 0.9997495111155824, \"name\": \"A.4_pfail\", \"id\": 53, \"minimum\": 1.4115449263606527e-05, \"maximum\": 0.9997495111155824, \"qp_lower\": 0.5759695634071682, \"qp_upper\": -1.0}, {\"x1\": 76.10087851750781, \"x2\": 349.71250079152003, \"name\": \"A.5_Bmax\", \"id\": 53, \"minimum\": 30.232908464554907, \"maximum\": 349.71250079152003, \"qp_lower\": 0.1970881570774844, \"qp_upper\": -1.0}, {\"x1\": 54.975451564984226, \"x2\": 349.8767734887607, \"name\": \"A.1_Bmax\", \"id\": 54, \"minimum\": 30.310211829298503, \"maximum\": 349.8767734887607, \"qp_lower\": 0.5987159494186671, \"qp_upper\": -1.0}, {\"x1\": 1.657701397314104e-05, \"x2\": 0.05702016509657483, \"name\": \"A.2_pfail\", \"id\": 54, \"minimum\": 1.657701397314104e-05, \"maximum\": 0.9995286627303218, \"qp_lower\": -1.0, \"qp_upper\": 1.422582217211811e-261}, {\"x1\": 0.06624590430603586, \"x2\": 0.9997495111155824, \"name\": \"A.4_pfail\", \"id\": 54, \"minimum\": 1.4115449263606527e-05, \"maximum\": 0.9997495111155824, \"qp_lower\": 0.5987159494186671, \"qp_upper\": -1.0}, {\"x1\": 76.10087851750781, \"x2\": 349.71250079152003, \"name\": \"A.5_Bmax\", \"id\": 54, \"minimum\": 30.232908464554907, \"maximum\": 349.71250079152003, \"qp_lower\": 0.38063275030425203, \"qp_upper\": -1.0}, {\"x1\": 54.975451564984226, \"x2\": 349.8767734887607, \"name\": \"A.1_Bmax\", \"id\": 55, \"minimum\": 30.310211829298503, \"maximum\": 349.8767734887607, \"qp_lower\": 0.6777403043686394, \"qp_upper\": -1.0}, {\"x1\": 1.657701397314104e-05, \"x2\": 0.05297072685271168, \"name\": \"A.2_pfail\", \"id\": 55, \"minimum\": 1.657701397314104e-05, \"maximum\": 0.9995286627303218, \"qp_lower\": -1.0, \"qp_upper\": 1.16541912092844e-257}, {\"x1\": 0.06624590430603586, \"x2\": 0.9997495111155824, \"name\": \"A.4_pfail\", \"id\": 55, \"minimum\": 1.4115449263606527e-05, \"maximum\": 0.9997495111155824, \"qp_lower\": 0.6777403043686394, \"qp_upper\": -1.0}, {\"x1\": 76.10087851750781, \"x2\": 349.71250079152003, \"name\": \"A.5_Bmax\", \"id\": 55, \"minimum\": 30.232908464554907, \"maximum\": 349.71250079152003, \"qp_lower\": 0.44975937574551517, \"qp_upper\": -1.0}, {\"x1\": 54.975451564984226, \"x2\": 349.8767734887607, \"name\": \"A.1_Bmax\", \"id\": 56, \"minimum\": 30.310211829298503, \"maximum\": 349.8767734887607, \"qp_lower\": 0.6766767511378795, \"qp_upper\": -1.0}, {\"x1\": 1.657701397314104e-05, \"x2\": 0.05297072685271168, \"name\": \"A.2_pfail\", \"id\": 56, \"minimum\": 1.657701397314104e-05, \"maximum\": 0.9995286627303218, \"qp_lower\": -1.0, \"qp_upper\": 7.33421605573553e-261}, {\"x1\": 0.06624590430603586, \"x2\": 0.9997495111155824, \"name\": \"A.4_pfail\", \"id\": 56, \"minimum\": 1.4115449263606527e-05, \"maximum\": 0.9997495111155824, \"qp_lower\": 0.6766767511378795, \"qp_upper\": -1.0}, {\"x1\": 59.347657716998185, \"x2\": 349.71250079152003, \"name\": \"A.5_Bmax\", \"id\": 56, \"minimum\": 30.232908464554907, \"maximum\": 349.71250079152003, \"qp_lower\": 0.4353793553129669, \"qp_upper\": -1.0}], \"data-bb8d07f6df3d47a6a475317795287b23\": [{\"start\": 0, \"end\": 1}], \"data-d751713988987e9331980363e24189ce\": []}}, {\"mode\": \"vega-lite\"});\n</script>",
      "text/plain": "alt.VConcatChart(...)"
     },
     "metadata": {},
     "execution_count": 76
    }
   ],
   "source": [
    "box.inspect_tradeoff()\n"
   ]
  },
  {
   "cell_type": "markdown",
   "metadata": {},
   "source": [
    "We select box 30 as it shows a good tradeoff between density and coverage"
   ]
  },
  {
   "cell_type": "code",
   "execution_count": 79,
   "metadata": {},
   "outputs": [
    {
     "output_type": "stream",
     "name": "stdout",
     "text": "coverage    0.541965\ndensity     0.800962\nid                30\nmass           0.208\nmean        0.800962\nres_dim            2\nName: 30, dtype: object\n\n              box 30                                        \n                 min         max                   qp values\nA.2_pfail   0.000017    0.218959                 [-1.0, 0.0]\nA.1_Bmax   46.301928  349.876773  [0.2936205118550125, -1.0]\n\n"
    }
   ],
   "source": [
    "n_box = 30\n",
    "box.inspect(n_box)"
   ]
  },
  {
   "cell_type": "code",
   "execution_count": null,
   "metadata": {},
   "outputs": [],
   "source": []
  }
 ],
 "metadata": {
  "language_info": {
   "codemirror_mode": {
    "name": "ipython",
    "version": 3
   },
   "file_extension": ".py",
   "mimetype": "text/x-python",
   "name": "python",
   "nbconvert_exporter": "python",
   "pygments_lexer": "ipython3",
   "version": "3.7.7-final"
  },
  "orig_nbformat": 2,
  "kernelspec": {
   "name": "python3",
   "display_name": "Python 3"
  }
 },
 "nbformat": 4,
 "nbformat_minor": 2
}