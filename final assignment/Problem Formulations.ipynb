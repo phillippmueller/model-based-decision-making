{
 "cells": [
  {
   "cell_type": "code",
   "execution_count": 1,
   "metadata": {},
   "outputs": [],
   "source": [
    "import numpy as np\n",
    "import scipy as sp\n",
    "import pandas as pd\n",
    "import matplotlib.pyplot as plt\n",
    "import seaborn as sns\n",
    "import networkx as nx"
   ]
  },
  {
   "cell_type": "code",
   "execution_count": 2,
   "metadata": {},
   "outputs": [
    {
     "name": "stdout",
     "output_type": "stream",
     "text": [
      "1.5.3\n",
      "3.0\n"
     ]
    }
   ],
   "source": [
    "# make sure pandas is version 1.0 or higher\n",
    "# make sure networkx is verion 2.4 or higher\n",
    "print(pd.__version__)\n",
    "print(nx.__version__)"
   ]
  },
  {
   "cell_type": "code",
   "execution_count": 3,
   "metadata": {
    "scrolled": true
   },
   "outputs": [],
   "source": [
    "from ema_workbench import (Model, CategoricalParameter,\n",
    "                           ScalarOutcome, IntegerParameter, RealParameter)\n",
    "from dike_model_function import DikeNetwork  # @UnresolvedImport\n",
    "\n",
    "\n",
    "def sum_over(*args):\n",
    "    return sum(args)"
   ]
  },
  {
   "cell_type": "code",
   "execution_count": 4,
   "metadata": {},
   "outputs": [
    {
     "name": "stderr",
     "output_type": "stream",
     "text": [
      "c:\\Users\\nachi\\Data\\EPA\\4Quarter\\Model-Based Decision Making\\AssignmentFinal\\funs_generate_network.py:10: FutureWarning: iteritems is deprecated and will be removed in a future version. Use .items instead.\n",
      "  return dict((str(k), v.dropna().to_dict())\n"
     ]
    }
   ],
   "source": [
    "from ema_workbench import (Model, MultiprocessingEvaluator, Policy, Scenario)\n",
    "\n",
    "from ema_workbench.em_framework.evaluators import perform_experiments\n",
    "from ema_workbench.em_framework.samplers import sample_uncertainties\n",
    "from ema_workbench.util import ema_logging\n",
    "import time\n",
    "from problem_formulation import get_model_for_problem_formulation\n",
    "\n",
    "\n",
    "ema_logging.log_to_stderr(ema_logging.INFO)\n",
    "\n",
    "#choose problem formulation number, between 0-5\n",
    "#each problem formulation has its own list of outcomes\n",
    "dike_model, planning_steps = get_model_for_problem_formulation(3)"
   ]
  },
  {
   "cell_type": "code",
   "execution_count": 5,
   "metadata": {},
   "outputs": [
    {
     "name": "stdout",
     "output_type": "stream",
     "text": [
      "CategoricalParameter('discount rate 0', [0, 1, 2, 3])\n",
      "CategoricalParameter('discount rate 1', [0, 1, 2, 3])\n",
      "CategoricalParameter('discount rate 2', [0, 1, 2, 3])\n",
      "IntegerParameter('A.0_ID flood wave shape', 0, 132, resolution=None, default=None, variable_name=['A.0_ID flood wave shape'], pff=False)\n",
      "RealParameter('A.1_Bmax', 30, 350, resolution=None, default=None, variable_name=['A.1_Bmax'], pff=False)\n",
      "RealParameter('A.1_pfail', 0, 1, resolution=None, default=None, variable_name=['A.1_pfail'], pff=False)\n",
      "CategoricalParameter('A.1_Brate', [0, 1, 2])\n",
      "RealParameter('A.2_Bmax', 30, 350, resolution=None, default=None, variable_name=['A.2_Bmax'], pff=False)\n",
      "RealParameter('A.2_pfail', 0, 1, resolution=None, default=None, variable_name=['A.2_pfail'], pff=False)\n",
      "CategoricalParameter('A.2_Brate', [0, 1, 2])\n",
      "RealParameter('A.3_Bmax', 30, 350, resolution=None, default=None, variable_name=['A.3_Bmax'], pff=False)\n",
      "RealParameter('A.3_pfail', 0, 1, resolution=None, default=None, variable_name=['A.3_pfail'], pff=False)\n",
      "CategoricalParameter('A.3_Brate', [0, 1, 2])\n",
      "RealParameter('A.4_Bmax', 30, 350, resolution=None, default=None, variable_name=['A.4_Bmax'], pff=False)\n",
      "RealParameter('A.4_pfail', 0, 1, resolution=None, default=None, variable_name=['A.4_pfail'], pff=False)\n",
      "CategoricalParameter('A.4_Brate', [0, 1, 2])\n",
      "RealParameter('A.5_Bmax', 30, 350, resolution=None, default=None, variable_name=['A.5_Bmax'], pff=False)\n",
      "RealParameter('A.5_pfail', 0, 1, resolution=None, default=None, variable_name=['A.5_pfail'], pff=False)\n",
      "CategoricalParameter('A.5_Brate', [0, 1, 2])\n"
     ]
    }
   ],
   "source": [
    "#enlisting uncertainties, their types (RealParameter/IntegerParameter/CategoricalParameter), lower boundary, and upper boundary\n",
    "for unc in dike_model.uncertainties:\n",
    "    print(repr(unc))\n",
    "    \n",
    "uncertainties = dike_model.uncertainties\n",
    "\n",
    "import copy\n",
    "uncertainties = copy.deepcopy(dike_model.uncertainties)"
   ]
  },
  {
   "cell_type": "code",
   "execution_count": 6,
   "metadata": {},
   "outputs": [
    {
     "name": "stdout",
     "output_type": "stream",
     "text": [
      "IntegerParameter('0_RfR 0', 0, 1, resolution=None, default=None, variable_name=['0_RfR 0'], pff=False)\n",
      "IntegerParameter('0_RfR 1', 0, 1, resolution=None, default=None, variable_name=['0_RfR 1'], pff=False)\n",
      "IntegerParameter('0_RfR 2', 0, 1, resolution=None, default=None, variable_name=['0_RfR 2'], pff=False)\n",
      "IntegerParameter('1_RfR 0', 0, 1, resolution=None, default=None, variable_name=['1_RfR 0'], pff=False)\n",
      "IntegerParameter('1_RfR 1', 0, 1, resolution=None, default=None, variable_name=['1_RfR 1'], pff=False)\n",
      "IntegerParameter('1_RfR 2', 0, 1, resolution=None, default=None, variable_name=['1_RfR 2'], pff=False)\n",
      "IntegerParameter('2_RfR 0', 0, 1, resolution=None, default=None, variable_name=['2_RfR 0'], pff=False)\n",
      "IntegerParameter('2_RfR 1', 0, 1, resolution=None, default=None, variable_name=['2_RfR 1'], pff=False)\n",
      "IntegerParameter('2_RfR 2', 0, 1, resolution=None, default=None, variable_name=['2_RfR 2'], pff=False)\n",
      "IntegerParameter('3_RfR 0', 0, 1, resolution=None, default=None, variable_name=['3_RfR 0'], pff=False)\n",
      "IntegerParameter('3_RfR 1', 0, 1, resolution=None, default=None, variable_name=['3_RfR 1'], pff=False)\n",
      "IntegerParameter('3_RfR 2', 0, 1, resolution=None, default=None, variable_name=['3_RfR 2'], pff=False)\n",
      "IntegerParameter('4_RfR 0', 0, 1, resolution=None, default=None, variable_name=['4_RfR 0'], pff=False)\n",
      "IntegerParameter('4_RfR 1', 0, 1, resolution=None, default=None, variable_name=['4_RfR 1'], pff=False)\n",
      "IntegerParameter('4_RfR 2', 0, 1, resolution=None, default=None, variable_name=['4_RfR 2'], pff=False)\n",
      "IntegerParameter('EWS_DaysToThreat', 0, 4, resolution=None, default=None, variable_name=['EWS_DaysToThreat'], pff=False)\n",
      "IntegerParameter('A.1_DikeIncrease 0', 0, 10, resolution=None, default=None, variable_name=['A.1_DikeIncrease 0'], pff=False)\n",
      "IntegerParameter('A.1_DikeIncrease 1', 0, 10, resolution=None, default=None, variable_name=['A.1_DikeIncrease 1'], pff=False)\n",
      "IntegerParameter('A.1_DikeIncrease 2', 0, 10, resolution=None, default=None, variable_name=['A.1_DikeIncrease 2'], pff=False)\n",
      "IntegerParameter('A.2_DikeIncrease 0', 0, 10, resolution=None, default=None, variable_name=['A.2_DikeIncrease 0'], pff=False)\n",
      "IntegerParameter('A.2_DikeIncrease 1', 0, 10, resolution=None, default=None, variable_name=['A.2_DikeIncrease 1'], pff=False)\n",
      "IntegerParameter('A.2_DikeIncrease 2', 0, 10, resolution=None, default=None, variable_name=['A.2_DikeIncrease 2'], pff=False)\n",
      "IntegerParameter('A.3_DikeIncrease 0', 0, 10, resolution=None, default=None, variable_name=['A.3_DikeIncrease 0'], pff=False)\n",
      "IntegerParameter('A.3_DikeIncrease 1', 0, 10, resolution=None, default=None, variable_name=['A.3_DikeIncrease 1'], pff=False)\n",
      "IntegerParameter('A.3_DikeIncrease 2', 0, 10, resolution=None, default=None, variable_name=['A.3_DikeIncrease 2'], pff=False)\n",
      "IntegerParameter('A.4_DikeIncrease 0', 0, 10, resolution=None, default=None, variable_name=['A.4_DikeIncrease 0'], pff=False)\n",
      "IntegerParameter('A.4_DikeIncrease 1', 0, 10, resolution=None, default=None, variable_name=['A.4_DikeIncrease 1'], pff=False)\n",
      "IntegerParameter('A.4_DikeIncrease 2', 0, 10, resolution=None, default=None, variable_name=['A.4_DikeIncrease 2'], pff=False)\n",
      "IntegerParameter('A.5_DikeIncrease 0', 0, 10, resolution=None, default=None, variable_name=['A.5_DikeIncrease 0'], pff=False)\n",
      "IntegerParameter('A.5_DikeIncrease 1', 0, 10, resolution=None, default=None, variable_name=['A.5_DikeIncrease 1'], pff=False)\n",
      "IntegerParameter('A.5_DikeIncrease 2', 0, 10, resolution=None, default=None, variable_name=['A.5_DikeIncrease 2'], pff=False)\n"
     ]
    }
   ],
   "source": [
    "#enlisting policy levers, their types (RealParameter/IntegerParameter), lower boundary, and upper boundary\n",
    "for policy in dike_model.levers:\n",
    "    print(repr(policy))\n",
    "    \n",
    "levers = dike_model.levers \n",
    "\n",
    "import copy\n",
    "levers = copy.deepcopy(dike_model.levers)"
   ]
  },
  {
   "cell_type": "code",
   "execution_count": 7,
   "metadata": {},
   "outputs": [
    {
     "name": "stdout",
     "output_type": "stream",
     "text": [
      "ScalarOutcome('A.1 Total Costs 0', variable_name=('A.1_Expected Annual Damage 0', 'A.1_Dike Investment Costs 0'), function=<function sum_over at 0x0000016A32553F70>)\n",
      "ScalarOutcome('A.1_Expected Number of Deaths 0', variable_name=('A.1_Expected Number of Deaths 0',), function=<function sum_over at 0x0000016A32553F70>)\n",
      "ScalarOutcome('A.1 Total Costs 1', variable_name=('A.1_Expected Annual Damage 1', 'A.1_Dike Investment Costs 1'), function=<function sum_over at 0x0000016A32553F70>)\n",
      "ScalarOutcome('A.1_Expected Number of Deaths 1', variable_name=('A.1_Expected Number of Deaths 1',), function=<function sum_over at 0x0000016A32553F70>)\n",
      "ScalarOutcome('A.1 Total Costs 2', variable_name=('A.1_Expected Annual Damage 2', 'A.1_Dike Investment Costs 2'), function=<function sum_over at 0x0000016A32553F70>)\n",
      "ScalarOutcome('A.1_Expected Number of Deaths 2', variable_name=('A.1_Expected Number of Deaths 2',), function=<function sum_over at 0x0000016A32553F70>)\n",
      "ScalarOutcome('A.2 Total Costs 0', variable_name=('A.2_Expected Annual Damage 0', 'A.2_Dike Investment Costs 0'), function=<function sum_over at 0x0000016A32553F70>)\n",
      "ScalarOutcome('A.2_Expected Number of Deaths 0', variable_name=('A.2_Expected Number of Deaths 0',), function=<function sum_over at 0x0000016A32553F70>)\n",
      "ScalarOutcome('A.2 Total Costs 1', variable_name=('A.2_Expected Annual Damage 1', 'A.2_Dike Investment Costs 1'), function=<function sum_over at 0x0000016A32553F70>)\n",
      "ScalarOutcome('A.2_Expected Number of Deaths 1', variable_name=('A.2_Expected Number of Deaths 1',), function=<function sum_over at 0x0000016A32553F70>)\n",
      "ScalarOutcome('A.2 Total Costs 2', variable_name=('A.2_Expected Annual Damage 2', 'A.2_Dike Investment Costs 2'), function=<function sum_over at 0x0000016A32553F70>)\n",
      "ScalarOutcome('A.2_Expected Number of Deaths 2', variable_name=('A.2_Expected Number of Deaths 2',), function=<function sum_over at 0x0000016A32553F70>)\n",
      "ScalarOutcome('A.3 Total Costs 0', variable_name=('A.3_Expected Annual Damage 0', 'A.3_Dike Investment Costs 0'), function=<function sum_over at 0x0000016A32553F70>)\n",
      "ScalarOutcome('A.3_Expected Number of Deaths 0', variable_name=('A.3_Expected Number of Deaths 0',), function=<function sum_over at 0x0000016A32553F70>)\n",
      "ScalarOutcome('A.3 Total Costs 1', variable_name=('A.3_Expected Annual Damage 1', 'A.3_Dike Investment Costs 1'), function=<function sum_over at 0x0000016A32553F70>)\n",
      "ScalarOutcome('A.3_Expected Number of Deaths 1', variable_name=('A.3_Expected Number of Deaths 1',), function=<function sum_over at 0x0000016A32553F70>)\n",
      "ScalarOutcome('A.3 Total Costs 2', variable_name=('A.3_Expected Annual Damage 2', 'A.3_Dike Investment Costs 2'), function=<function sum_over at 0x0000016A32553F70>)\n",
      "ScalarOutcome('A.3_Expected Number of Deaths 2', variable_name=('A.3_Expected Number of Deaths 2',), function=<function sum_over at 0x0000016A32553F70>)\n",
      "ScalarOutcome('A.4 Total Costs 0', variable_name=('A.4_Expected Annual Damage 0', 'A.4_Dike Investment Costs 0'), function=<function sum_over at 0x0000016A32553F70>)\n",
      "ScalarOutcome('A.4_Expected Number of Deaths 0', variable_name=('A.4_Expected Number of Deaths 0',), function=<function sum_over at 0x0000016A32553F70>)\n",
      "ScalarOutcome('A.4 Total Costs 1', variable_name=('A.4_Expected Annual Damage 1', 'A.4_Dike Investment Costs 1'), function=<function sum_over at 0x0000016A32553F70>)\n",
      "ScalarOutcome('A.4_Expected Number of Deaths 1', variable_name=('A.4_Expected Number of Deaths 1',), function=<function sum_over at 0x0000016A32553F70>)\n",
      "ScalarOutcome('A.4 Total Costs 2', variable_name=('A.4_Expected Annual Damage 2', 'A.4_Dike Investment Costs 2'), function=<function sum_over at 0x0000016A32553F70>)\n",
      "ScalarOutcome('A.4_Expected Number of Deaths 2', variable_name=('A.4_Expected Number of Deaths 2',), function=<function sum_over at 0x0000016A32553F70>)\n",
      "ScalarOutcome('A.5 Total Costs 0', variable_name=('A.5_Expected Annual Damage 0', 'A.5_Dike Investment Costs 0'), function=<function sum_over at 0x0000016A32553F70>)\n",
      "ScalarOutcome('A.5_Expected Number of Deaths 0', variable_name=('A.5_Expected Number of Deaths 0',), function=<function sum_over at 0x0000016A32553F70>)\n",
      "ScalarOutcome('A.5 Total Costs 1', variable_name=('A.5_Expected Annual Damage 1', 'A.5_Dike Investment Costs 1'), function=<function sum_over at 0x0000016A32553F70>)\n",
      "ScalarOutcome('A.5_Expected Number of Deaths 1', variable_name=('A.5_Expected Number of Deaths 1',), function=<function sum_over at 0x0000016A32553F70>)\n",
      "ScalarOutcome('A.5 Total Costs 2', variable_name=('A.5_Expected Annual Damage 2', 'A.5_Dike Investment Costs 2'), function=<function sum_over at 0x0000016A32553F70>)\n",
      "ScalarOutcome('A.5_Expected Number of Deaths 2', variable_name=('A.5_Expected Number of Deaths 2',), function=<function sum_over at 0x0000016A32553F70>)\n",
      "ScalarOutcome('RfR Total Costs 0', variable_name=('RfR Total Costs 0',), function=<function sum_over at 0x0000016A32553F70>)\n",
      "ScalarOutcome('Expected Evacuation Costs 0', variable_name=('Expected Evacuation Costs 0',), function=<function sum_over at 0x0000016A32553F70>)\n",
      "ScalarOutcome('RfR Total Costs 1', variable_name=('RfR Total Costs 1',), function=<function sum_over at 0x0000016A32553F70>)\n",
      "ScalarOutcome('Expected Evacuation Costs 1', variable_name=('Expected Evacuation Costs 1',), function=<function sum_over at 0x0000016A32553F70>)\n",
      "ScalarOutcome('RfR Total Costs 2', variable_name=('RfR Total Costs 2',), function=<function sum_over at 0x0000016A32553F70>)\n",
      "ScalarOutcome('Expected Evacuation Costs 2', variable_name=('Expected Evacuation Costs 2',), function=<function sum_over at 0x0000016A32553F70>)\n"
     ]
    }
   ],
   "source": [
    "#enlisting outcomes\n",
    "for outcome in dike_model.outcomes:\n",
    "    print(repr(outcome))"
   ]
  },
  {
   "cell_type": "code",
   "execution_count": 8,
   "metadata": {},
   "outputs": [
    {
     "name": "stderr",
     "output_type": "stream",
     "text": [
      "[MainProcess/INFO] pool started with 7 workers\n",
      "[MainProcess/INFO] performing 2000 scenarios * 1 policies * 1 model(s) = 2000 experiments\n",
      " 21%|████████                               | 416/2000 [02:58<10:22,  2.55it/s]"
     ]
    }
   ],
   "source": [
    "#running the model through EMA workbench\n",
    "from ema_workbench import (MultiprocessingEvaluator, ema_logging,\n",
    "                           perform_experiments, SequentialEvaluator)\n",
    "ema_logging.log_to_stderr(ema_logging.INFO)\n",
    " \n",
    "# with SequentialEvaluator(dike_model) as evaluator:\n",
    "#     results = evaluator.perform_experiments(scenarios=50, policies=4)\n",
    "\n",
    "with MultiprocessingEvaluator(dike_model, n_processes=7) as evaluator:\n",
    "    results = evaluator.perform_experiments(scenarios=2000, policies=1)\n",
    "\n",
    "from ema_workbench import save_results\n",
    "save_results(results, '2000 scenarios 1 policy PF3.tar.gz')\n"
   ]
  },
  {
   "cell_type": "code",
   "execution_count": null,
   "metadata": {},
   "outputs": [],
   "source": [
    "#defining specific policies\n",
    "#for example, policy 1 is about extra protection in upper boundary\n",
    "#policy 2 is about extra protection in lower boundary\n",
    "#policy 3 is extra protection in random locations\n",
    "from ema_workbench import Policy\n",
    "\n",
    "policies = [Policy('policy 1', **{'0_RfR 0':1,\n",
    "                                  '0_RfR 1':1,\n",
    "                                  '0_RfR 2':1,\n",
    "                                  'A.1_DikeIncrease 0':5}),\n",
    "           Policy('policy 2', **{'4_RfR 0':1,\n",
    "                                  '4_RfR 1':1,\n",
    "                                  '4_RfR 2':1,\n",
    "                                  'A.5_DikeIncrease 0':5}),\n",
    "           Policy('policy 3', **{'1_RfR 0':1,\n",
    "                                  '2_RfR 1':1,\n",
    "                                  '3_RfR 2':1,\n",
    "                                  'A.3_DikeIncrease 0':5})]"
   ]
  },
  {
   "cell_type": "code",
   "execution_count": null,
   "metadata": {},
   "outputs": [
    {
     "name": "stderr",
     "output_type": "stream",
     "text": [
      "[MainProcess/INFO] pool started\n",
      "[MainProcess/INFO] performing 100 scenarios * 3 policies * 1 model(s) = 300 experiments\n",
      "[MainProcess/INFO] 30 cases completed\n",
      "[MainProcess/INFO] 60 cases completed\n",
      "[MainProcess/INFO] 90 cases completed\n",
      "[MainProcess/INFO] 120 cases completed\n",
      "[MainProcess/INFO] 150 cases completed\n",
      "[MainProcess/INFO] 180 cases completed\n",
      "[MainProcess/INFO] 210 cases completed\n",
      "[MainProcess/INFO] 240 cases completed\n",
      "[MainProcess/INFO] 270 cases completed\n",
      "[MainProcess/INFO] 300 cases completed\n",
      "[MainProcess/INFO] experiments finished\n",
      "[MainProcess/INFO] terminating pool\n"
     ]
    }
   ],
   "source": [
    "#pass the policies list to EMA workbench experiment runs\n",
    "n_scenarios = 100\n",
    "with MultiprocessingEvaluator(dike_model) as evaluator:\n",
    "    results = evaluator.perform_experiments(n_scenarios,\n",
    "                                            policies)"
   ]
  },
  {
   "cell_type": "code",
   "execution_count": null,
   "metadata": {
    "collapsed": true,
    "jupyter": {
     "outputs_hidden": true
    }
   },
   "outputs": [],
   "source": []
  },
  {
   "cell_type": "code",
   "execution_count": null,
   "metadata": {},
   "outputs": [],
   "source": []
  }
 ],
 "metadata": {
  "kernelspec": {
   "display_name": "Python 3.8.12 ('base')",
   "language": "python",
   "name": "python3"
  },
  "language_info": {
   "codemirror_mode": {
    "name": "ipython",
    "version": 3
   },
   "file_extension": ".py",
   "mimetype": "text/x-python",
   "name": "python",
   "nbconvert_exporter": "python",
   "pygments_lexer": "ipython3",
   "version": "3.9.15"
  },
  "vscode": {
   "interpreter": {
    "hash": "ad2bdc8ecc057115af97d19610ffacc2b4e99fae6737bb82f5d7fb13d2f2c186"
   }
  }
 },
 "nbformat": 4,
 "nbformat_minor": 4
}
